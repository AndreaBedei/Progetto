{
 "cells": [
  {
   "cell_type": "code",
   "execution_count": null,
   "metadata": {},
   "outputs": [],
   "source": [
    "from ultralytics import YOLO\n",
    "from roboflow import Roboflow\n",
    "import torch"
   ]
  },
  {
   "cell_type": "code",
   "execution_count": null,
   "metadata": {},
   "outputs": [],
   "source": [
    "\n",
    "rf = Roboflow(api_key=\"...\")\n",
    "project = rf.workspace(\"iaagl\").project(\"traffic-lights-rqds4\")\n",
    "version = project.version(3)\n",
    "dataset = version.download(\"yolov8\")       "
   ]
  },
  {
   "cell_type": "code",
   "execution_count": null,
   "metadata": {},
   "outputs": [],
   "source": [
    "print(\"Number of GPUs available:\", torch.cuda.device_count())\n",
    "import torch.distributed as dist\n",
    "print(\"PyTorch version:\", torch.__version__)\n",
    "print(\"Distributed available:\", dist.is_available())"
   ]
  },
  {
   "cell_type": "code",
   "execution_count": null,
   "metadata": {},
   "outputs": [],
   "source": [
    "model = YOLO(\"C:/Users/andrea.bedei2/Desktop/Addestramento/yolov8n.pt\")\n",
    "results = model.train(data=\"C:/Users/andrea.bedei2/Desktop/Addestramento/traffic-lights-3/data.yaml\", epochs=100, imgsz=640, device=\"0\")"
   ]
  }
 ],
 "metadata": {
  "kernelspec": {
   "display_name": "carla-env",
   "language": "python",
   "name": "python3"
  },
  "language_info": {
   "codemirror_mode": {
    "name": "ipython",
    "version": 3
   },
   "file_extension": ".py",
   "mimetype": "text/x-python",
   "name": "python",
   "nbconvert_exporter": "python",
   "pygments_lexer": "ipython3",
   "version": "3.7.12"
  }
 },
 "nbformat": 4,
 "nbformat_minor": 2
}
