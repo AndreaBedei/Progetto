{
 "cells": [
  {
   "cell_type": "code",
   "execution_count": 249,
   "metadata": {},
   "outputs": [],
   "source": [
    "import glob\n",
    "import os\n",
    "import sys\n",
    "import cv2\n",
    "import numpy as np\n",
    "import paho.mqtt.client as mqtt\n",
    "from ultralytics import YOLO\n",
    "import time\n",
    "import pygame\n",
    "\n",
    "try:\n",
    "    sys.path.append(glob.glob('../../carla/dist/carla-*%d.%d-%s.egg' % (\n",
    "        sys.version_info.major,\n",
    "        sys.version_info.minor,\n",
    "        'win-amd64' if os.name == 'nt' else 'linux-x86_64'))[0])\n",
    "except IndexError:\n",
    "    pass\n",
    "\n",
    "import carla"
   ]
  },
  {
   "cell_type": "code",
   "execution_count": 250,
   "metadata": {},
   "outputs": [],
   "source": [
    "# Configurazione del broker\n",
    "BROKER = \"localhost\"  # Indirizzo del broker (cambia con l'IP del container se non è sulla stessa macchina)\n",
    "PORT = 1883           # Porta MQTT standard\n",
    "TOPIC = \"Semaforo\"  # Topic su cui pubblicare\n",
    "MESSAGE = \"Ciao, NanoMQ!\"  # Messaggio da inviare"
   ]
  },
  {
   "cell_type": "code",
   "execution_count": 251,
   "metadata": {},
   "outputs": [
    {
     "name": "stderr",
     "output_type": "stream",
     "text": [
      "c:\\Users\\andre\\anaconda3\\envs\\carla-env\\lib\\site-packages\\ipykernel_launcher.py:1: DeprecationWarning: Callback API version 1 is deprecated, update to latest version\n",
      "  \"\"\"Entry point for launching an IPython kernel.\n"
     ]
    }
   ],
   "source": [
    "clientMQTT = mqtt.Client()\n",
    "clientMQTT.connect(BROKER, PORT, 60)\n",
    "def sendEventToBroker(topic, message):\n",
    "    try:\n",
    "        clientMQTT.publish(topic, message)\n",
    "    except Exception as e:\n",
    "        pass"
   ]
  },
  {
   "cell_type": "code",
   "execution_count": 252,
   "metadata": {},
   "outputs": [],
   "source": [
    "client = carla.Client('localhost', 2000)\n",
    "client.set_timeout(10.0)\n",
    "\n",
    "client.load_world('Town02')\n",
    "\n",
    "world = client.get_world()\n",
    "spectator = world.get_spectator()"
   ]
  },
  {
   "cell_type": "markdown",
   "metadata": {},
   "source": [
    "## Some helpful functions used in this notebook"
   ]
  },
  {
   "cell_type": "code",
   "execution_count": 253,
   "metadata": {},
   "outputs": [],
   "source": [
    "IMAGE_SIZE = 640\n",
    "\n",
    "def move_spectator_to(transform, distance=5.0, x=0, y=0, z=4, yaw=0, pitch=-30, roll=0):\n",
    "    back_location = transform.location - transform.get_forward_vector() * distance\n",
    "    \n",
    "    back_location.x += x\n",
    "    back_location.y += y\n",
    "    back_location.z += z\n",
    "    transform.rotation.yaw += yaw\n",
    "    transform.rotation.pitch = pitch\n",
    "    transform.rotation.roll = roll\n",
    "    \n",
    "    spectator_transform = carla.Transform(back_location, transform.rotation)\n",
    "    \n",
    "    spectator.set_transform(spectator_transform)\n",
    "\n",
    "def spawn_vehicle(vehicle_index=0, spawn_index=0, pattern='vehicle.*'):\n",
    "    blueprint_library = world.get_blueprint_library()\n",
    "    vehicle_bp = blueprint_library.filter(pattern)[vehicle_index]\n",
    "    spawn_point = world.get_map().get_spawn_points()[spawn_index]\n",
    "    vehicle = world.spawn_actor(vehicle_bp, spawn_point)\n",
    "    return vehicle\n",
    "\n",
    "def draw_on_screen(world, transform, content='O', color=carla.Color(0, 255, 0), life_time=20):\n",
    "    world.debug.draw_string(transform.location, content, color=color, life_time=life_time)\n",
    "\n",
    "def spawn_camera(attach_to=None, transform=carla.Transform(carla.Location(x=0.7, z=1.8), carla.Rotation(pitch=5, yaw=35)), width=IMAGE_SIZE, height=IMAGE_SIZE, foV=50):\n",
    "    camera_bp = world.get_blueprint_library().find('sensor.camera.rgb')\n",
    "    camera_bp.set_attribute('image_size_x', str(width))\n",
    "    camera_bp.set_attribute('image_size_y', str(height))\n",
    "    camera_bp.set_attribute('fov', str(foV))\n",
    "    camera_bp.set_attribute('sensor_tick', '0')\n",
    "    camera = world.spawn_actor(camera_bp, transform, attach_to=attach_to)\n",
    "    return camera"
   ]
  },
  {
   "cell_type": "markdown",
   "metadata": {},
   "source": [
    "## Camera sensor"
   ]
  },
  {
   "cell_type": "markdown",
   "metadata": {},
   "source": [
    "Let's spawn a vehicle and a camera in a particular position and see what the camera sees."
   ]
  },
  {
   "cell_type": "markdown",
   "metadata": {},
   "source": [
    "How many images have been captured by the camera so far?\n",
    "\n",
    "### Live camera feed\n",
    "\n",
    "We can also visualize the camera feed in real-time. This is useful for debugging and understanding what the camera sees.\n",
    "\n",
    "We can use the `opencv` library to create a window and display the camera feed."
   ]
  },
  {
   "cell_type": "code",
   "execution_count": 254,
   "metadata": {},
   "outputs": [],
   "source": [
    "#!pip install roboflow\n",
    "# from roboflow import Roboflow\n",
    "# rf = Roboflow(api_key=\"...\")\n",
    "# project = rf.workspace(\"wawan-pradana\").project(\"cinta_v2\")\n",
    "# dataset = project.version(1).download(\"yolov8\")\n",
    "\n",
    "# model = YOLO('yolov8n.pt')\n",
    "# results = model.train(data=\"data.yaml\", epochs=100, imgsz=640, save=True, device=\"cpu\")\n"
   ]
  },
  {
   "cell_type": "code",
   "execution_count": 255,
   "metadata": {},
   "outputs": [],
   "source": [
    "from ultralytics import YOLO\n",
    "\n",
    "IMAGE_SIZE_SPEED = 416\n",
    "# Carica il modello con i pesi migliori\n",
    "model = YOLO(\"runsSpeed/detect/train/weights/best.pt\")\n",
    "modelTrafficLight = YOLO(\"runsTrafficLight/detect/train3/weights/best.pt\")\n"
   ]
  },
  {
   "cell_type": "code",
   "execution_count": 256,
   "metadata": {},
   "outputs": [],
   "source": [
    "# all_actors = world.get_actors()\n",
    "# traffic_lights = all_actors.filter('traffic.traffic_light')\n",
    "\n",
    "# for light in traffic_lights:\n",
    "#     # Imposta il semaforo su verde\n",
    "#     light.set_state(carla.TrafficLightState.Green)\n",
    "#     light.set_green_time(366666.0)\n",
    "\n",
    "weather = world.get_weather()\n",
    "\n",
    "# Imposta il cielo notturno\n",
    "# weather.sun_azimuth_angle = 0  # Angolo dell'azimut del sole\n",
    "# weather.sun_altitude_angle = -90  # Angolo di altezza del sole per simulare la notte\n",
    "# weather.cloudiness = 100  # Copertura nuvolosa massima\n",
    "# weather.precipitation = 100  # Pioggia massima\n",
    "# weather.precipitation_deposits = 100  # Depositi di pioggia sul terreno\n",
    "# weather.wind_intensity = 100  # Vento al massimo\n",
    "# weather.fog_density = 100  # Un po' di nebbia per aggiungere realismo\n",
    "# weather.fog_distance = 1  # Distanza di visibilità ridotta\n",
    "\n",
    "weather.sun_azimuth_angle = 0  # Angolo dell'azimut del sole\n",
    "weather.sun_altitude_angle = 90  # Angolo di altezza del sole per simulare la notte\n",
    "weather.cloudiness = 20  # Copertura nuvolosa massima\n",
    "weather.precipitation = 0  # Pioggia massima\n",
    "weather.precipitation_deposits = 0  # Depositi di pioggia sul terreno\n",
    "weather.wind_intensity = 0  # Vento al massimo\n",
    "weather.fog_density = 30  # Un po' di nebbia per aggiungere realismo\n",
    "\n",
    "# Applica le impostazioni\n",
    "world.set_weather(weather)\n",
    "    "
   ]
  },
  {
   "cell_type": "code",
   "execution_count": 257,
   "metadata": {},
   "outputs": [],
   "source": [
    "def colorSpeedLimit(current_speed, speed_limit):\n",
    "    if speed_limit == None or int(current_speed) <= int(speed_limit):\n",
    "        return (0, 255, 0) \n",
    "    else:\n",
    "        return (0, 0, 255)"
   ]
  },
  {
   "cell_type": "code",
   "execution_count": 258,
   "metadata": {},
   "outputs": [],
   "source": [
    "def calcColor():\n",
    "    if traffic_light == \"red\":\n",
    "        return (0, 0, 255)\n",
    "    elif traffic_light == \"yellow\":\n",
    "        return (0, 128, 255)\n",
    "    elif traffic_light == \"green\":\n",
    "        return (0, 255, 0)\n",
    "    else:\n",
    "        return (255, 255, 255)"
   ]
  },
  {
   "cell_type": "code",
   "execution_count": 259,
   "metadata": {},
   "outputs": [],
   "source": [
    "def camera_callback(image):\n",
    "    global last_analysis_time, last_speed_limit, speed_car\n",
    "    # Ottieni il timestamp attuale\n",
    "    current_time = time.time()\n",
    "\n",
    "    velocity_car = vehicle.get_velocity()\n",
    "    speed_car = 3.6 * (velocity_car.x**2 + velocity_car.y**2 + velocity_car.z**2)**0.5  # Conversione da m/s a km/h\n",
    "\n",
    "    # Converti l'immagine raw in un array NumPy\n",
    "    array = np.frombuffer(image.raw_data, dtype=np.uint8)\n",
    "    # Assicurati che l'immagine abbia il formato BGRA (4 canali)\n",
    "    image_np = array.reshape((IMAGE_SIZE, IMAGE_SIZE, 4))  # Immagine BGRA\n",
    "    image_bgr = image_np[:, :, :3]  \n",
    "    resized_image = cv2.resize(image_bgr, (IMAGE_SIZE_SPEED, IMAGE_SIZE_SPEED), interpolation=cv2.INTER_AREA)\n",
    "\n",
    "    # Verifica se è passato almeno 1 secondo dall'ultima analisi\n",
    "    if current_time - last_analysis_time >= analysis_interval:\n",
    "        last_analysis_time = current_time  # Aggiorna il timestamp\n",
    "\n",
    "        # Rileva gli oggetti nell'immagine\n",
    "        results = model(resized_image)\n",
    "        \n",
    "\n",
    "        limit_id = None\n",
    "        confidence_max = 0\n",
    "\n",
    "            # Class IDs\n",
    "        class_ids = results[0].boxes.cls.numpy()\n",
    "        confidences = results[0].boxes.conf.numpy()\n",
    "        \n",
    "        for class_id, confidence in zip(class_ids, confidences):\n",
    "            if confidence > confidence_max:\n",
    "                limit_id = class_id\n",
    "                confidence_max = confidence\n",
    "\n",
    "        if confidence_max > 0.87:\n",
    "            print(confidence_max)\n",
    "            class_name = class_names[int(limit_id)]  # Ottieni il nome della classe\n",
    "            try:\n",
    "                last_speed_limit = class_name.split(\" \")[2]  # Usa confidenza come esempio\n",
    "                sendEventToBroker(\"speedLimit\", \"Detected \" + last_speed_limit)\n",
    "            except:\n",
    "                pass"
   ]
  },
  {
   "cell_type": "code",
   "execution_count": 260,
   "metadata": {},
   "outputs": [],
   "source": [
    "def camera_view_callback(image):\n",
    "    global video_output\n",
    "    # Converti l'immagine raw in un array NumPy\n",
    "    array = np.frombuffer(image.raw_data, dtype=np.uint8)\n",
    "    # Assicurati che l'immagine abbia il formato BGRA (4 canali)\n",
    "    image_np = array.reshape((IMAGE_SIZE, IMAGE_SIZE, 4))  # Immagine BGRA\n",
    "    video_output = image_np  # Mantieni il frame per visualizzazione"
   ]
  },
  {
   "cell_type": "code",
   "execution_count": null,
   "metadata": {},
   "outputs": [],
   "source": [
    "def camera_traffic_callback(image):\n",
    "    global last_analysis_time_trafficLight, traffic_light, red_over\n",
    "    # Ottieni il timestamp attuale\n",
    "    current_time = time.time()\n",
    "\n",
    "    # Converti l'immagine raw in un array NumPy\n",
    "    array = np.frombuffer(image.raw_data, dtype=np.uint8)\n",
    "    # Assicurati che l'immagine abbia il formato BGRA (4 canali)\n",
    "    image_np = array.reshape((IMAGE_SIZE, IMAGE_SIZE, 4))  # Immagine BGRA\n",
    "    image_bgr = image_np[:, :, :3].copy()  # Crea una copia modificabile dell'immagine BGR\n",
    "    # Determina la frazione dell'immagine che vuoi oscurare\n",
    "    fraction_to_black = 0.1  # Per esempio, il 20% inferiore dell'immagine\n",
    "    height = image_bgr.shape[0]\n",
    "    black_start_row = int(height * (1 - fraction_to_black))\n",
    "    image_bgr[black_start_row:, :] = 0  # Imposta a nero (0, 0, 0)\n",
    "    image_bgr[:, 500:] = 0\n",
    "    #resized_image = cv2.resize(image_bgr, (IMAGE_SIZE_SPEED, IMAGE_SIZE_SPEED), interpolation=cv2.INTER_AREA)\n",
    "\n",
    "    accentuated_image = image_bgr.copy()\n",
    "\n",
    "    # Aumenta il canale Rosso\n",
    "    accentuated_image[:, :, 2] = cv2.add(accentuated_image[:, :, 2], 15)  # Aumenta Rosso (+50)\n",
    "\n",
    "    # Riduci il canale Verde\n",
    "    accentuated_image[:, :, 1] = cv2.subtract(accentuated_image[:, :, 1], 0)  # Riduci Verde (-30)\n",
    "\n",
    "    # Riduci il canale Blu\n",
    "    accentuated_image[:, :, 0] = cv2.subtract(accentuated_image[:, :, 0], 20)  # Riduci Blu (-30)\n",
    "\n",
    "    # Assicurati che i valori restino nel range [0, 255]\n",
    "    resized_image = np.clip(accentuated_image, 0, 255).astype(np.uint8)\n",
    "\n",
    "    # Verifica se è passato almeno 1 secondo dall'ultima analisi\n",
    "    if current_time - last_analysis_time_trafficLight >= analysis_interval_trafficLight:\n",
    "        last_analysis_time_trafficLight = current_time  # Aggiorna il timestamp\n",
    "\n",
    "        # Rileva gli oggetti nell'immagine\n",
    "        results = modelTrafficLight(resized_image)\n",
    "\n",
    "        trafficLight_id = None\n",
    "        confidence_max = 0\n",
    "\n",
    "        # Class IDs\n",
    "        class_ids = results[0].boxes.cls.numpy()\n",
    "        confidences = results[0].boxes.conf.numpy()\n",
    "\n",
    "        if class_ids.size == 0:\n",
    "            traffic_light = \"Non individuato\"\n",
    "            red_over = False\n",
    "        else:\n",
    "            for class_id, confidence in zip(class_ids, confidences):\n",
    "                if confidence > confidence_max:\n",
    "                    trafficLight_id = class_id\n",
    "                    confidence_max = confidence\n",
    "\n",
    "            class_name = class_names_trafficLight[int(trafficLight_id)]\n",
    "            if class_name == \"green\":\n",
    "                red_over = False\n",
    "            elif confidence_max > 0.62 and class_name==\"red\" or confidence_max > 0.42 and class_name!=\"red\":\n",
    "                traffic_light = class_name\n",
    "                print(confidence_max)\n",
    "\n",
    "                if class_name == \"green\":\n",
    "                    red_over = False\n",
    "\n",
    "                x_min, y_min, x_max, y_max = results[0].boxes[0].xyxy[0].numpy()  # Estrai (x_min, y_min, x_max, y_max)\n",
    "\n",
    "                # Calcola il centro del box\n",
    "                box_center_x = (x_min + x_max) / 2\n",
    "\n",
    "                # Verifica se è all'estrema destra (ad esempio, nel 20% dell'immagine)\n",
    "                if box_center_x > IMAGE_SIZE_SPEED * 0.85 and class_name == 'red' and not red_over:\n",
    "                    print(f\"Semaforo rosso all'estrema destra: Box ({x_min}, {y_min}, {x_max}, {y_max})\")\n",
    "                    if(int(speed_car) <= 50): # Freniamo solo se andiamo sotto ai 50km/h\n",
    "                        red_over = True\n",
    "                    sendEventToBroker(\"Semaforo\", \"Ran red light\")\n",
    "\n",
    "            # Cerco dove ha individuato il semaforo e se lo sorpasso freno:\n",
    "            # Verifica se ci sono bounding boxes rilevati\n",
    "\n",
    "            # Coordinate del bounding box\n",
    "            \n"
   ]
  },
  {
   "cell_type": "code",
   "execution_count": 262,
   "metadata": {},
   "outputs": [
    {
     "name": "stderr",
     "output_type": "stream",
     "text": [
      "\n",
      "\n",
      "0: 416x416 (no detections), 81.0ms\n",
      "Speed: 3.5ms preprocess, 81.0ms inference, 1.0ms postprocess per image at shape (1, 3, 416, 416)\n",
      "0: 416x416 (no detections), 80.1ms\n",
      "Speed: 2.0ms preprocess, 80.1ms inference, 1.0ms postprocess per image at shape (1, 3, 416, 416)\n",
      "\n",
      "\n",
      "0: 416x416 (no detections), 98.3ms\n",
      "Speed: 2.0ms preprocess, 98.3ms inference, 1.1ms postprocess per image at shape (1, 3, 416, 416)\n",
      "0: 416x416 (no detections), 96.3ms\n",
      "Speed: 2.5ms preprocess, 96.3ms inference, 0.0ms postprocess per image at shape (1, 3, 416, 416)\n",
      "\n",
      "0: 416x416 (no detections), 68.0ms\n",
      "Speed: 1.0ms preprocess, 68.0ms inference, 0.0ms postprocess per image at shape (1, 3, 416, 416)\n",
      "\n",
      "\n",
      "0: 416x416 (no detections), 75.5ms\n",
      "Speed: 1.7ms preprocess, 75.5ms inference, 1.0ms postprocess per image at shape (1, 3, 416, 416)\n",
      "0: 416x416 (no detections), 73.0ms\n",
      "Speed: 2.0ms preprocess, 73.0ms inference, 0.0ms postprocess per image at shape (1, 3, 416, 416)\n",
      "\n",
      "\n",
      "0: 416x416 (no detections), 71.5ms\n",
      "Speed: 1.0ms preprocess, 71.5ms inference, 0.0ms postprocess per image at shape (1, 3, 416, 416)\n",
      "0: 416x416 (no detections), 70.4ms\n",
      "Speed: 3.0ms preprocess, 70.4ms inference, 1.0ms postprocess per image at shape (1, 3, 416, 416)\n",
      "\n",
      "0: 416x416 (no detections), 72.4ms\n",
      "Speed: 2.0ms preprocess, 72.4ms inference, 0.0ms postprocess per image at shape (1, 3, 416, 416)\n",
      "\n",
      "\n",
      "0: 416x416 (no detections), 68.9ms\n",
      "Speed: 1.0ms preprocess, 68.9ms inference, 0.0ms postprocess per image at shape (1, 3, 416, 416)\n",
      "0: 416x416 (no detections), 70.8ms\n",
      "Speed: 2.0ms preprocess, 70.8ms inference, 1.0ms postprocess per image at shape (1, 3, 416, 416)\n",
      "\n",
      "\n",
      "0: 416x416 (no detections), 115.4ms\n",
      "Speed: 1.0ms preprocess, 115.4ms inference, 1.1ms postprocess per image at shape (1, 3, 416, 416)\n",
      "\n",
      "0: 416x416 (no detections), 107.2ms\n",
      "Speed: 6.0ms preprocess, 107.2ms inference, 1.0ms postprocess per image at shape (1, 3, 416, 416)\n",
      "0: 416x416 (no detections), 65.3ms\n",
      "Speed: 4.5ms preprocess, 65.3ms inference, 0.0ms postprocess per image at shape (1, 3, 416, 416)\n",
      "\n",
      "\n",
      "0: 416x416 (no detections), 69.4ms\n",
      "Speed: 1.6ms preprocess, 69.4ms inference, 1.0ms postprocess per image at shape (1, 3, 416, 416)\n",
      "0: 416x416 (no detections), 86.0ms\n",
      "Speed: 1.0ms preprocess, 86.0ms inference, 0.0ms postprocess per image at shape (1, 3, 416, 416)\n",
      "\n",
      "0: 416x416 (no detections), 62.6ms\n",
      "Speed: 2.0ms preprocess, 62.6ms inference, 1.0ms postprocess per image at shape (1, 3, 416, 416)\n",
      "\n",
      "\n",
      "0: 416x416 (no detections), 72.1ms\n",
      "Speed: 2.0ms preprocess, 72.1ms inference, 1.0ms postprocess per image at shape (1, 3, 416, 416)\n",
      "0: 416x416 (no detections), 67.4ms\n",
      "Speed: 1.0ms preprocess, 67.4ms inference, 1.0ms postprocess per image at shape (1, 3, 416, 416)\n",
      "\n",
      "\n",
      "0: 416x416 (no detections), 73.6ms\n",
      "Speed: 2.0ms preprocess, 73.6ms inference, 1.0ms postprocess per image at shape (1, 3, 416, 416)\n",
      "0: 416x416 (no detections), 71.6ms\n",
      "Speed: 2.0ms preprocess, 71.6ms inference, 0.0ms postprocess per image at shape (1, 3, 416, 416)\n",
      "\n",
      "0: 416x416 (no detections), 61.6ms\n",
      "Speed: 1.0ms preprocess, 61.6ms inference, 0.0ms postprocess per image at shape (1, 3, 416, 416)\n",
      "\n",
      "\n",
      "0: 416x416 (no detections), 71.2ms\n",
      "Speed: 1.0ms preprocess, 71.2ms inference, 1.0ms postprocess per image at shape (1, 3, 416, 416)\n",
      "0: 416x416 (no detections), 66.9ms\n",
      "Speed: 2.0ms preprocess, 66.9ms inference, 1.0ms postprocess per image at shape (1, 3, 416, 416)\n",
      "\n",
      "\n",
      "0: 416x416 (no detections), 74.0ms\n",
      "Speed: 2.0ms preprocess, 74.0ms inference, 0.0ms postprocess per image at shape (1, 3, 416, 416)\n",
      "0: 416x416 (no detections), 73.8ms\n",
      "Speed: 2.4ms preprocess, 73.8ms inference, 1.0ms postprocess per image at shape (1, 3, 416, 416)\n",
      "\n",
      "0: 416x416 (no detections), 62.3ms\n",
      "Speed: 1.0ms preprocess, 62.3ms inference, 1.6ms postprocess per image at shape (1, 3, 416, 416)\n",
      "\n",
      "\n",
      "0: 416x416 (no detections), 66.1ms\n",
      "Speed: 2.0ms preprocess, 66.1ms inference, 1.0ms postprocess per image at shape (1, 3, 416, 416)\n",
      "0: 416x416 (no detections), 67.4ms\n",
      "Speed: 1.8ms preprocess, 67.4ms inference, 1.0ms postprocess per image at shape (1, 3, 416, 416)\n",
      "\n",
      "\n",
      "0: 416x416 (no detections), 71.4ms\n",
      "Speed: 2.0ms preprocess, 71.4ms inference, 1.0ms postprocess per image at shape (1, 3, 416, 416)\n",
      "0: 416x416 (no detections), 75.6ms\n",
      "Speed: 1.5ms preprocess, 75.6ms inference, 1.0ms postprocess per image at shape (1, 3, 416, 416)\n",
      "\n",
      "0: 416x416 (no detections), 62.6ms\n",
      "Speed: 1.0ms preprocess, 62.6ms inference, 0.0ms postprocess per image at shape (1, 3, 416, 416)\n",
      "\n",
      "\n",
      "0: 416x416 (no detections), 67.4ms\n",
      "Speed: 0.9ms preprocess, 67.4ms inference, 1.5ms postprocess per image at shape (1, 3, 416, 416)\n",
      "0: 416x416 (no detections), 65.8ms\n",
      "Speed: 2.0ms preprocess, 65.8ms inference, 1.1ms postprocess per image at shape (1, 3, 416, 416)\n",
      "\n",
      "\n",
      "0: 416x416 (no detections), 69.2ms\n",
      "Speed: 1.0ms preprocess, 69.2ms inference, 1.0ms postprocess per image at shape (1, 3, 416, 416)\n",
      "0: 416x416 (no detections), 73.1ms\n",
      "Speed: 1.5ms preprocess, 73.1ms inference, 0.0ms postprocess per image at shape (1, 3, 416, 416)\n",
      "\n",
      "0: 416x416 (no detections), 61.7ms\n",
      "Speed: 1.0ms preprocess, 61.7ms inference, 1.0ms postprocess per image at shape (1, 3, 416, 416)\n",
      "\n",
      "\n",
      "0: 416x416 (no detections), 74.3ms\n",
      "Speed: 1.0ms preprocess, 74.3ms inference, 1.0ms postprocess per image at shape (1, 3, 416, 416)\n",
      "0: 416x416 (no detections), 73.3ms\n",
      "Speed: 2.0ms preprocess, 73.3ms inference, 0.0ms postprocess per image at shape (1, 3, 416, 416)\n",
      "\n",
      "\n",
      "0: 416x416 (no detections), 76.7ms\n",
      "Speed: 2.0ms preprocess, 76.7ms inference, 1.0ms postprocess per image at shape (1, 3, 416, 416)\n",
      "0: 416x416 (no detections), 73.4ms\n",
      "Speed: 1.0ms preprocess, 73.4ms inference, 1.0ms postprocess per image at shape (1, 3, 416, 416)\n",
      "\n",
      "0: 416x416 (no detections), 59.3ms\n",
      "Speed: 1.9ms preprocess, 59.3ms inference, 1.0ms postprocess per image at shape (1, 3, 416, 416)\n",
      "\n",
      "\n",
      "0: 416x416 (no detections), 78.2ms\n",
      "Speed: 2.0ms preprocess, 78.2ms inference, 1.0ms postprocess per image at shape (1, 3, 416, 416)\n",
      "0: 416x416 (no detections), 68.1ms\n",
      "Speed: 2.0ms preprocess, 68.1ms inference, 0.0ms postprocess per image at shape (1, 3, 416, 416)\n",
      "\n",
      "\n",
      "0: 416x416 (no detections), 70.3ms\n",
      "Speed: 1.0ms preprocess, 70.3ms inference, 1.0ms postprocess per image at shape (1, 3, 416, 416)\n",
      "0: 416x416 (no detections), 73.1ms\n",
      "Speed: 1.0ms preprocess, 73.1ms inference, 0.0ms postprocess per image at shape (1, 3, 416, 416)\n",
      "\n",
      "0: 416x416 (no detections), 62.7ms\n",
      "Speed: 2.0ms preprocess, 62.7ms inference, 0.1ms postprocess per image at shape (1, 3, 416, 416)\n",
      "\n",
      "\n",
      "0: 416x416 (no detections), 68.6ms\n",
      "Speed: 1.0ms preprocess, 68.6ms inference, 1.0ms postprocess per image at shape (1, 3, 416, 416)\n",
      "0: 416x416 (no detections), 70.4ms\n",
      "Speed: 2.0ms preprocess, 70.4ms inference, 1.0ms postprocess per image at shape (1, 3, 416, 416)\n",
      "\n",
      "\n",
      "0: 416x416 (no detections), 70.9ms\n",
      "Speed: 1.0ms preprocess, 70.9ms inference, 1.3ms postprocess per image at shape (1, 3, 416, 416)\n",
      "0: 416x416 (no detections), 69.2ms\n",
      "Speed: 1.0ms preprocess, 69.2ms inference, 1.0ms postprocess per image at shape (1, 3, 416, 416)\n",
      "\n",
      "0: 416x416 (no detections), 68.7ms\n",
      "Speed: 1.0ms preprocess, 68.7ms inference, 1.0ms postprocess per image at shape (1, 3, 416, 416)\n",
      "\n",
      "\n",
      "0: 416x416 (no detections), 70.0ms\n",
      "Speed: 1.0ms preprocess, 70.0ms inference, 0.5ms postprocess per image at shape (1, 3, 416, 416)\n",
      "0: 416x416 (no detections), 68.1ms\n",
      "Speed: 2.0ms preprocess, 68.1ms inference, 1.0ms postprocess per image at shape (1, 3, 416, 416)\n",
      "\n",
      "\n",
      "0: 416x416 (no detections), 83.4ms\n",
      "Speed: 2.0ms preprocess, 83.4ms inference, 1.5ms postprocess per image at shape (1, 3, 416, 416)\n",
      "\n",
      "0: 416x416 (no detections), 88.1ms\n",
      "Speed: 2.5ms preprocess, 88.1ms inference, 0.0ms postprocess per image at shape (1, 3, 416, 416)\n",
      "0: 416x416 (no detections), 68.1ms\n",
      "Speed: 2.0ms preprocess, 68.1ms inference, 1.0ms postprocess per image at shape (1, 3, 416, 416)\n",
      "\n",
      "\n",
      "0: 416x416 (no detections), 70.8ms\n",
      "Speed: 1.1ms preprocess, 70.8ms inference, 0.0ms postprocess per image at shape (1, 3, 416, 416)\n",
      "0: 416x416 (no detections), 71.8ms\n",
      "Speed: 2.0ms preprocess, 71.8ms inference, 0.5ms postprocess per image at shape (1, 3, 416, 416)\n",
      "\n",
      "0: 416x416 (no detections), 61.0ms\n",
      "Speed: 2.5ms preprocess, 61.0ms inference, 1.0ms postprocess per image at shape (1, 3, 416, 416)\n",
      "\n",
      "\n",
      "0: 416x416 (no detections), 72.2ms\n",
      "Speed: 2.0ms preprocess, 72.2ms inference, 0.0ms postprocess per image at shape (1, 3, 416, 416)\n",
      "0: 416x416 (no detections), 72.0ms\n",
      "Speed: 2.0ms preprocess, 72.0ms inference, 1.0ms postprocess per image at shape (1, 3, 416, 416)\n",
      "\n",
      "\n",
      "0: 416x416 (no detections), 73.4ms\n",
      "Speed: 2.0ms preprocess, 73.4ms inference, 1.0ms postprocess per image at shape (1, 3, 416, 416)\n",
      "0: 416x416 (no detections), 74.2ms\n",
      "Speed: 2.4ms preprocess, 74.2ms inference, 1.0ms postprocess per image at shape (1, 3, 416, 416)\n",
      "\n",
      "0: 416x416 1 red, 60.0ms\n",
      "Speed: 1.0ms preprocess, 60.0ms inference, 1.0ms postprocess per image at shape (1, 3, 416, 416)\n",
      "\n",
      "\n",
      "0: 416x416 (no detections), 70.6ms\n",
      "Speed: 1.0ms preprocess, 70.6ms inference, 0.5ms postprocess per image at shape (1, 3, 416, 416)\n",
      "0: 416x416 (no detections), 70.1ms\n",
      "Speed: 2.0ms preprocess, 70.1ms inference, 0.0ms postprocess per image at shape (1, 3, 416, 416)\n",
      "\n",
      "\n",
      "0: 416x416 1 red, 1 yellow, 76.3ms\n",
      "Speed: 2.0ms preprocess, 76.3ms inference, 2.0ms postprocess per image at shape (1, 3, 416, 416)\n",
      "0: 416x416 (no detections), 69.6ms\n",
      "Speed: 2.0ms preprocess, 69.6ms inference, 0.0ms postprocess per image at shape (1, 3, 416, 416)\n",
      "\n",
      "0: 416x416 1 red, 69.1ms\n",
      "Speed: 1.0ms preprocess, 69.1ms inference, 2.0ms postprocess per image at shape (1, 3, 416, 416)\n",
      "\n",
      "\n",
      "0: 416x416 (no detections), 69.2ms\n",
      "Speed: 2.0ms preprocess, 69.2ms inference, 0.0ms postprocess per image at shape (1, 3, 416, 416)\n",
      "0: 416x416 1 red, 70.8ms\n",
      "Speed: 2.0ms preprocess, 70.8ms inference, 1.2ms postprocess per image at shape (1, 3, 416, 416)\n"
     ]
    },
    {
     "name": "stdout",
     "output_type": "stream",
     "text": [
      "0.80611897\n",
      "0.82486707\n"
     ]
    },
    {
     "name": "stderr",
     "output_type": "stream",
     "text": [
      "\n",
      "\n",
      "0: 416x416 1 red, 73.2ms\n",
      "Speed: 2.0ms preprocess, 73.2ms inference, 2.0ms postprocess per image at shape (1, 3, 416, 416)\n",
      "0: 416x416 (no detections), 75.2ms\n",
      "Speed: 2.0ms preprocess, 75.2ms inference, 0.0ms postprocess per image at shape (1, 3, 416, 416)\n",
      "\n",
      "0: 416x416 1 red, 62.2ms\n",
      "Speed: 1.9ms preprocess, 62.2ms inference, 1.0ms postprocess per image at shape (1, 3, 416, 416)\n"
     ]
    },
    {
     "name": "stdout",
     "output_type": "stream",
     "text": [
      "0.8546579\n",
      "0.87046295\n",
      "Semaforo rosso all'estrema destra: Box (373.74969482421875, 127.5868148803711, 481.3233642578125, 369.0494079589844)\n"
     ]
    },
    {
     "name": "stderr",
     "output_type": "stream",
     "text": [
      "\n",
      "\n",
      "0: 416x416 (no detections), 83.3ms\n",
      "Speed: 1.0ms preprocess, 83.3ms inference, 0.5ms postprocess per image at shape (1, 3, 416, 416)\n",
      "0: 416x416 (no detections), 75.6ms\n",
      "Speed: 2.0ms preprocess, 75.6ms inference, 1.0ms postprocess per image at shape (1, 3, 416, 416)\n",
      "\n",
      "\n",
      "0: 416x416 (no detections), 89.1ms\n",
      "Speed: 1.0ms preprocess, 89.1ms inference, 0.0ms postprocess per image at shape (1, 3, 416, 416)\n",
      "\n",
      "0: 416x416 (no detections), 90.5ms\n",
      "Speed: 3.0ms preprocess, 90.5ms inference, 1.0ms postprocess per image at shape (1, 3, 416, 416)\n",
      "0: 416x416 (no detections), 71.7ms\n",
      "Speed: 3.0ms preprocess, 71.7ms inference, 1.0ms postprocess per image at shape (1, 3, 416, 416)\n",
      "\n",
      "\n",
      "0: 416x416 (no detections), 75.1ms\n",
      "Speed: 1.9ms preprocess, 75.1ms inference, 1.0ms postprocess per image at shape (1, 3, 416, 416)\n",
      "0: 416x416 (no detections), 72.0ms\n",
      "Speed: 2.0ms preprocess, 72.0ms inference, 1.0ms postprocess per image at shape (1, 3, 416, 416)\n",
      "\n",
      "0: 416x416 (no detections), 70.8ms\n",
      "Speed: 1.0ms preprocess, 70.8ms inference, 0.0ms postprocess per image at shape (1, 3, 416, 416)\n",
      "\n",
      "\n",
      "0: 416x416 (no detections), 72.8ms\n",
      "Speed: 2.0ms preprocess, 72.8ms inference, 1.0ms postprocess per image at shape (1, 3, 416, 416)\n",
      "0: 416x416 (no detections), 74.3ms\n",
      "Speed: 2.0ms preprocess, 74.3ms inference, 1.0ms postprocess per image at shape (1, 3, 416, 416)\n",
      "\n",
      "\n",
      "0: 416x416 (no detections), 73.6ms\n",
      "Speed: 1.5ms preprocess, 73.6ms inference, 1.5ms postprocess per image at shape (1, 3, 416, 416)\n",
      "0: 416x416 (no detections), 74.7ms\n",
      "Speed: 1.0ms preprocess, 74.7ms inference, 0.0ms postprocess per image at shape (1, 3, 416, 416)\n",
      "\n",
      "0: 416x416 (no detections), 65.2ms\n",
      "Speed: 1.0ms preprocess, 65.2ms inference, 1.0ms postprocess per image at shape (1, 3, 416, 416)\n",
      "\n",
      "\n",
      "0: 416x416 (no detections), 71.6ms\n",
      "Speed: 1.0ms preprocess, 71.6ms inference, 1.1ms postprocess per image at shape (1, 3, 416, 416)\n",
      "0: 416x416 (no detections), 70.4ms\n",
      "Speed: 1.0ms preprocess, 70.4ms inference, 1.0ms postprocess per image at shape (1, 3, 416, 416)\n",
      "\n",
      "\n",
      "0: 416x416 (no detections), 72.1ms\n",
      "Speed: 1.9ms preprocess, 72.1ms inference, 1.0ms postprocess per image at shape (1, 3, 416, 416)\n",
      "0: 416x416 (no detections), 72.6ms\n",
      "Speed: 1.0ms preprocess, 72.6ms inference, 1.0ms postprocess per image at shape (1, 3, 416, 416)\n",
      "\n",
      "0: 416x416 (no detections), 68.1ms\n",
      "Speed: 1.0ms preprocess, 68.1ms inference, 1.0ms postprocess per image at shape (1, 3, 416, 416)\n",
      "\n",
      "\n",
      "0: 416x416 (no detections), 69.7ms\n",
      "Speed: 1.5ms preprocess, 69.7ms inference, 0.0ms postprocess per image at shape (1, 3, 416, 416)\n",
      "0: 416x416 (no detections), 68.9ms\n",
      "Speed: 2.0ms preprocess, 68.9ms inference, 1.0ms postprocess per image at shape (1, 3, 416, 416)\n",
      "\n",
      "\n",
      "0: 416x416 (no detections), 70.8ms\n",
      "Speed: 2.0ms preprocess, 70.8ms inference, 0.0ms postprocess per image at shape (1, 3, 416, 416)\n",
      "0: 416x416 (no detections), 71.9ms\n",
      "Speed: 2.1ms preprocess, 71.9ms inference, 1.0ms postprocess per image at shape (1, 3, 416, 416)\n",
      "\n",
      "0: 416x416 (no detections), 68.3ms\n",
      "Speed: 2.5ms preprocess, 68.3ms inference, 1.0ms postprocess per image at shape (1, 3, 416, 416)\n",
      "\n",
      "\n",
      "0: 416x416 (no detections), 72.4ms\n",
      "Speed: 1.5ms preprocess, 72.4ms inference, 0.0ms postprocess per image at shape (1, 3, 416, 416)\n",
      "0: 416x416 (no detections), 69.7ms\n",
      "Speed: 2.0ms preprocess, 69.7ms inference, 1.0ms postprocess per image at shape (1, 3, 416, 416)\n",
      "\n",
      "\n",
      "0: 416x416 (no detections), 73.4ms\n",
      "Speed: 2.5ms preprocess, 73.4ms inference, 1.0ms postprocess per image at shape (1, 3, 416, 416)\n",
      "0: 416x416 (no detections), 71.8ms\n",
      "Speed: 1.1ms preprocess, 71.8ms inference, 1.0ms postprocess per image at shape (1, 3, 416, 416)\n",
      "\n",
      "0: 416x416 (no detections), 72.4ms\n",
      "Speed: 1.0ms preprocess, 72.4ms inference, 1.0ms postprocess per image at shape (1, 3, 416, 416)\n",
      "\n",
      "\n",
      "0: 416x416 (no detections), 100.9ms\n",
      "Speed: 2.0ms preprocess, 100.9ms inference, 1.0ms postprocess per image at shape (1, 3, 416, 416)\n",
      "0: 416x416 (no detections), 90.0ms\n",
      "Speed: 2.5ms preprocess, 90.0ms inference, 0.0ms postprocess per image at shape (1, 3, 416, 416)\n",
      "\n",
      "0: 416x416 (no detections), 63.3ms\n",
      "Speed: 2.0ms preprocess, 63.3ms inference, 0.0ms postprocess per image at shape (1, 3, 416, 416)\n",
      "\n",
      "\n",
      "0: 416x416 (no detections), 74.2ms\n",
      "Speed: 1.0ms preprocess, 74.2ms inference, 1.2ms postprocess per image at shape (1, 3, 416, 416)\n",
      "0: 416x416 (no detections), 74.2ms\n",
      "Speed: 2.0ms preprocess, 74.2ms inference, 0.0ms postprocess per image at shape (1, 3, 416, 416)\n",
      "\n",
      "\n",
      "0: 416x416 (no detections), 87.2ms\n",
      "Speed: 2.0ms preprocess, 87.2ms inference, 0.0ms postprocess per image at shape (1, 3, 416, 416)\n",
      "\n",
      "0: 416x416 (no detections), 88.6ms\n",
      "Speed: 2.0ms preprocess, 88.6ms inference, 1.0ms postprocess per image at shape (1, 3, 416, 416)\n",
      "0: 416x416 (no detections), 71.0ms\n",
      "Speed: 2.2ms preprocess, 71.0ms inference, 0.0ms postprocess per image at shape (1, 3, 416, 416)\n",
      "\n",
      "\n",
      "0: 416x416 (no detections), 71.6ms\n",
      "Speed: 1.1ms preprocess, 71.6ms inference, 1.0ms postprocess per image at shape (1, 3, 416, 416)\n",
      "0: 416x416 (no detections), 75.0ms\n",
      "Speed: 1.0ms preprocess, 75.0ms inference, 0.0ms postprocess per image at shape (1, 3, 416, 416)\n",
      "\n",
      "0: 416x416 (no detections), 69.9ms\n",
      "Speed: 2.0ms preprocess, 69.9ms inference, 1.0ms postprocess per image at shape (1, 3, 416, 416)\n",
      "\n",
      "\n",
      "0: 416x416 1 Stop, 70.0ms\n",
      "Speed: 1.0ms preprocess, 70.0ms inference, 1.0ms postprocess per image at shape (1, 3, 416, 416)\n",
      "0: 416x416 (no detections), 71.1ms\n",
      "Speed: 2.0ms preprocess, 71.1ms inference, 0.0ms postprocess per image at shape (1, 3, 416, 416)\n",
      "\n",
      "\n",
      "0: 416x416 (no detections), 73.9ms\n",
      "Speed: 1.0ms preprocess, 73.9ms inference, 0.0ms postprocess per image at shape (1, 3, 416, 416)\n",
      "0: 416x416 1 Stop, 76.3ms\n",
      "Speed: 2.0ms preprocess, 76.3ms inference, 1.0ms postprocess per image at shape (1, 3, 416, 416)\n",
      "\n",
      "0: 416x416 (no detections), 61.1ms\n",
      "Speed: 2.0ms preprocess, 61.1ms inference, 1.0ms postprocess per image at shape (1, 3, 416, 416)\n",
      "\n",
      "\n",
      "0: 416x416 1 Stop, 70.5ms\n",
      "Speed: 1.9ms preprocess, 70.5ms inference, 1.0ms postprocess per image at shape (1, 3, 416, 416)\n",
      "0: 416x416 (no detections), 73.6ms\n",
      "Speed: 1.0ms preprocess, 73.6ms inference, 1.0ms postprocess per image at shape (1, 3, 416, 416)\n",
      "\n",
      "\n",
      "0: 416x416 (no detections), 84.9ms\n",
      "Speed: 1.0ms preprocess, 84.9ms inference, 1.0ms postprocess per image at shape (1, 3, 416, 416)\n",
      "\n",
      "0: 416x416 1 Stop, 87.8ms\n",
      "Speed: 2.0ms preprocess, 87.8ms inference, 1.0ms postprocess per image at shape (1, 3, 416, 416)\n",
      "0: 416x416 (no detections), 70.2ms\n",
      "Speed: 2.0ms preprocess, 70.2ms inference, 0.0ms postprocess per image at shape (1, 3, 416, 416)\n",
      "\n",
      "\n",
      "0: 416x416 (no detections), 74.0ms\n",
      "Speed: 1.0ms preprocess, 74.0ms inference, 0.0ms postprocess per image at shape (1, 3, 416, 416)\n",
      "0: 416x416 1 Stop, 75.6ms\n",
      "Speed: 3.7ms preprocess, 75.6ms inference, 1.0ms postprocess per image at shape (1, 3, 416, 416)\n",
      "\n",
      "0: 416x416 (no detections), 86.7ms\n",
      "Speed: 2.0ms preprocess, 86.7ms inference, 1.0ms postprocess per image at shape (1, 3, 416, 416)\n",
      "\n",
      "\n",
      "0: 416x416 (no detections), 74.3ms\n",
      "Speed: 2.5ms preprocess, 74.3ms inference, 0.0ms postprocess per image at shape (1, 3, 416, 416)\n",
      "0: 416x416 1 Stop, 72.9ms\n",
      "Speed: 1.0ms preprocess, 72.9ms inference, 1.5ms postprocess per image at shape (1, 3, 416, 416)\n",
      "\n",
      "0: 416x416 (no detections), 61.3ms\n",
      "Speed: 2.0ms preprocess, 61.3ms inference, 1.0ms postprocess per image at shape (1, 3, 416, 416)\n",
      "\n",
      "\n",
      "0: 416x416 1 Stop, 75.2ms\n",
      "Speed: 2.0ms preprocess, 75.2ms inference, 2.0ms postprocess per image at shape (1, 3, 416, 416)\n",
      "0: 416x416 (no detections), 74.6ms\n",
      "Speed: 2.0ms preprocess, 74.6ms inference, 1.0ms postprocess per image at shape (1, 3, 416, 416)\n",
      "\n",
      "\n",
      "0: 416x416 (no detections), 70.1ms\n",
      "Speed: 2.0ms preprocess, 70.1ms inference, 1.5ms postprocess per image at shape (1, 3, 416, 416)\n",
      "0: 416x416 1 Stop, 71.5ms\n",
      "Speed: 2.5ms preprocess, 71.5ms inference, 0.0ms postprocess per image at shape (1, 3, 416, 416)\n",
      "\n",
      "0: 416x416 (no detections), 64.7ms\n",
      "Speed: 1.5ms preprocess, 64.7ms inference, 1.0ms postprocess per image at shape (1, 3, 416, 416)\n",
      "\n",
      "\n",
      "0: 416x416 1 Stop, 73.1ms\n",
      "Speed: 2.0ms preprocess, 73.1ms inference, 1.0ms postprocess per image at shape (1, 3, 416, 416)\n",
      "0: 416x416 (no detections), 69.6ms\n",
      "Speed: 1.5ms preprocess, 69.6ms inference, 1.0ms postprocess per image at shape (1, 3, 416, 416)\n",
      "\n",
      "\n",
      "0: 416x416 (no detections), 88.1ms\n",
      "Speed: 2.0ms preprocess, 88.1ms inference, 0.0ms postprocess per image at shape (1, 3, 416, 416)\n",
      "\n",
      "0: 416x416 1 Stop, 82.4ms\n",
      "Speed: 2.6ms preprocess, 82.4ms inference, 1.0ms postprocess per image at shape (1, 3, 416, 416)\n",
      "0: 416x416 (no detections), 68.4ms\n",
      "Speed: 2.0ms preprocess, 68.4ms inference, 1.5ms postprocess per image at shape (1, 3, 416, 416)\n",
      "\n",
      "\n",
      "0: 416x416 (no detections), 68.3ms\n",
      "Speed: 2.0ms preprocess, 68.3ms inference, 0.0ms postprocess per image at shape (1, 3, 416, 416)\n",
      "0: 416x416 1 Stop, 70.1ms\n",
      "Speed: 2.0ms preprocess, 70.1ms inference, 1.0ms postprocess per image at shape (1, 3, 416, 416)\n",
      "\n",
      "0: 416x416 (no detections), 68.3ms\n",
      "Speed: 2.5ms preprocess, 68.3ms inference, 1.0ms postprocess per image at shape (1, 3, 416, 416)\n",
      "\n",
      "\n",
      "0: 416x416 1 Stop, 74.0ms\n",
      "Speed: 1.1ms preprocess, 74.0ms inference, 1.0ms postprocess per image at shape (1, 3, 416, 416)\n",
      "0: 416x416 (no detections), 73.1ms\n",
      "Speed: 1.9ms preprocess, 73.1ms inference, 0.0ms postprocess per image at shape (1, 3, 416, 416)\n",
      "\n",
      "\n",
      "0: 416x416 (no detections), 74.6ms\n",
      "Speed: 2.0ms preprocess, 74.6ms inference, 2.0ms postprocess per image at shape (1, 3, 416, 416)\n",
      "0: 416x416 1 Stop, 74.2ms\n",
      "Speed: 1.0ms preprocess, 74.2ms inference, 1.6ms postprocess per image at shape (1, 3, 416, 416)\n",
      "\n",
      "0: 416x416 (no detections), 60.0ms\n",
      "Speed: 1.9ms preprocess, 60.0ms inference, 0.0ms postprocess per image at shape (1, 3, 416, 416)\n",
      "\n",
      "\n",
      "0: 416x416 1 Stop, 79.5ms\n",
      "Speed: 1.0ms preprocess, 79.5ms inference, 1.0ms postprocess per image at shape (1, 3, 416, 416)\n",
      "0: 416x416 (no detections), 92.2ms\n",
      "Speed: 2.0ms preprocess, 92.2ms inference, 1.0ms postprocess per image at shape (1, 3, 416, 416)\n",
      "\n",
      "0: 416x416 (no detections), 65.4ms\n",
      "Speed: 2.0ms preprocess, 65.4ms inference, 1.0ms postprocess per image at shape (1, 3, 416, 416)\n",
      "\n",
      "\n",
      "0: 416x416 1 Stop, 66.4ms\n",
      "Speed: 2.0ms preprocess, 66.4ms inference, 1.0ms postprocess per image at shape (1, 3, 416, 416)\n",
      "0: 416x416 (no detections), 69.0ms\n",
      "Speed: 1.0ms preprocess, 69.0ms inference, 1.0ms postprocess per image at shape (1, 3, 416, 416)\n",
      "\n",
      "\n",
      "0: 416x416 (no detections), 71.5ms\n",
      "Speed: 1.9ms preprocess, 71.5ms inference, 0.0ms postprocess per image at shape (1, 3, 416, 416)\n",
      "0: 416x416 1 Stop, 73.6ms\n",
      "Speed: 1.0ms preprocess, 73.6ms inference, 1.0ms postprocess per image at shape (1, 3, 416, 416)\n",
      "\n",
      "0: 416x416 (no detections), 66.1ms\n",
      "Speed: 1.0ms preprocess, 66.1ms inference, 1.0ms postprocess per image at shape (1, 3, 416, 416)\n",
      "\n",
      "\n",
      "0: 416x416 1 Stop, 72.8ms\n",
      "Speed: 1.9ms preprocess, 72.8ms inference, 1.0ms postprocess per image at shape (1, 3, 416, 416)\n",
      "0: 416x416 (no detections), 69.8ms\n",
      "Speed: 1.0ms preprocess, 69.8ms inference, 1.0ms postprocess per image at shape (1, 3, 416, 416)\n",
      "\n",
      "\n",
      "0: 416x416 (no detections), 69.7ms\n",
      "Speed: 1.1ms preprocess, 69.7ms inference, 1.0ms postprocess per image at shape (1, 3, 416, 416)\n",
      "0: 416x416 1 Stop, 70.8ms\n",
      "Speed: 1.0ms preprocess, 70.8ms inference, 1.0ms postprocess per image at shape (1, 3, 416, 416)\n",
      "\n",
      "0: 416x416 (no detections), 72.0ms\n",
      "Speed: 1.0ms preprocess, 72.0ms inference, 0.0ms postprocess per image at shape (1, 3, 416, 416)\n",
      "\n",
      "\n",
      "0: 416x416 1 Stop, 70.5ms\n",
      "Speed: 1.0ms preprocess, 70.5ms inference, 1.3ms postprocess per image at shape (1, 3, 416, 416)\n",
      "0: 416x416 (no detections), 71.4ms\n",
      "Speed: 2.0ms preprocess, 71.4ms inference, 0.0ms postprocess per image at shape (1, 3, 416, 416)\n",
      "\n",
      "\n",
      "0: 416x416 (no detections), 79.1ms\n",
      "Speed: 2.5ms preprocess, 79.1ms inference, 0.0ms postprocess per image at shape (1, 3, 416, 416)\n",
      "0: 416x416 1 Stop, 80.7ms\n",
      "Speed: 2.0ms preprocess, 80.7ms inference, 1.0ms postprocess per image at shape (1, 3, 416, 416)\n",
      "\n",
      "0: 416x416 (no detections), 61.9ms\n",
      "Speed: 1.1ms preprocess, 61.9ms inference, 1.0ms postprocess per image at shape (1, 3, 416, 416)\n",
      "\n",
      "\n",
      "0: 416x416 1 Stop, 72.9ms\n",
      "Speed: 1.0ms preprocess, 72.9ms inference, 0.0ms postprocess per image at shape (1, 3, 416, 416)\n",
      "0: 416x416 (no detections), 67.7ms\n",
      "Speed: 2.0ms preprocess, 67.7ms inference, 1.0ms postprocess per image at shape (1, 3, 416, 416)\n",
      "\n",
      "\n",
      "0: 416x416 (no detections), 80.4ms\n",
      "Speed: 2.0ms preprocess, 80.4ms inference, 1.4ms postprocess per image at shape (1, 3, 416, 416)\n",
      "0: 416x416 1 Stop, 84.2ms\n",
      "Speed: 2.0ms preprocess, 84.2ms inference, 1.0ms postprocess per image at shape (1, 3, 416, 416)\n",
      "\n",
      "0: 416x416 (no detections), 63.1ms\n",
      "Speed: 2.0ms preprocess, 63.1ms inference, 0.0ms postprocess per image at shape (1, 3, 416, 416)\n",
      "\n",
      "\n",
      "0: 416x416 1 Stop, 89.9ms\n",
      "Speed: 1.4ms preprocess, 89.9ms inference, 1.0ms postprocess per image at shape (1, 3, 416, 416)\n",
      "0: 416x416 (no detections), 91.7ms\n",
      "Speed: 2.5ms preprocess, 91.7ms inference, 1.0ms postprocess per image at shape (1, 3, 416, 416)\n",
      "\n",
      "0: 416x416 (no detections), 71.6ms\n",
      "Speed: 1.0ms preprocess, 71.6ms inference, 1.0ms postprocess per image at shape (1, 3, 416, 416)\n",
      "\n",
      "\n",
      "0: 416x416 1 Stop, 73.6ms\n",
      "Speed: 1.0ms preprocess, 73.6ms inference, 1.0ms postprocess per image at shape (1, 3, 416, 416)\n",
      "0: 416x416 (no detections), 74.7ms\n",
      "Speed: 2.0ms preprocess, 74.7ms inference, 0.0ms postprocess per image at shape (1, 3, 416, 416)\n",
      "\n",
      "\n",
      "0: 416x416 (no detections), 74.2ms\n",
      "Speed: 1.0ms preprocess, 74.2ms inference, 1.0ms postprocess per image at shape (1, 3, 416, 416)\n",
      "0: 416x416 1 Stop, 73.1ms\n",
      "Speed: 2.0ms preprocess, 73.1ms inference, 1.0ms postprocess per image at shape (1, 3, 416, 416)\n",
      "\n",
      "0: 416x416 (no detections), 67.8ms\n",
      "Speed: 1.0ms preprocess, 67.8ms inference, 0.0ms postprocess per image at shape (1, 3, 416, 416)\n",
      "\n",
      "\n",
      "0: 416x416 1 Stop, 71.3ms\n",
      "Speed: 1.0ms preprocess, 71.3ms inference, 2.0ms postprocess per image at shape (1, 3, 416, 416)\n",
      "0: 416x416 (no detections), 72.7ms\n",
      "Speed: 2.0ms preprocess, 72.7ms inference, 1.0ms postprocess per image at shape (1, 3, 416, 416)\n",
      "\n",
      "\n",
      "0: 416x416 (no detections), 74.7ms\n",
      "Speed: 2.0ms preprocess, 74.7ms inference, 2.0ms postprocess per image at shape (1, 3, 416, 416)\n",
      "0: 416x416 1 Stop, 78.7ms\n",
      "Speed: 2.0ms preprocess, 78.7ms inference, 1.0ms postprocess per image at shape (1, 3, 416, 416)\n",
      "\n",
      "0: 416x416 (no detections), 65.9ms\n",
      "Speed: 2.0ms preprocess, 65.9ms inference, 0.5ms postprocess per image at shape (1, 3, 416, 416)\n",
      "\n",
      "\n",
      "0: 416x416 1 Stop, 68.4ms\n",
      "Speed: 1.0ms preprocess, 68.4ms inference, 1.0ms postprocess per image at shape (1, 3, 416, 416)\n",
      "0: 416x416 (no detections), 70.5ms\n",
      "Speed: 2.0ms preprocess, 70.5ms inference, 1.5ms postprocess per image at shape (1, 3, 416, 416)\n",
      "\n",
      "\n",
      "0: 416x416 (no detections), 77.3ms\n",
      "Speed: 2.0ms preprocess, 77.3ms inference, 1.0ms postprocess per image at shape (1, 3, 416, 416)\n",
      "0: 416x416 1 Stop, 85.0ms\n",
      "Speed: 1.3ms preprocess, 85.0ms inference, 1.0ms postprocess per image at shape (1, 3, 416, 416)\n",
      "\n",
      "0: 416x416 (no detections), 61.2ms\n",
      "Speed: 2.1ms preprocess, 61.2ms inference, 1.0ms postprocess per image at shape (1, 3, 416, 416)\n",
      "\n",
      "\n",
      "0: 416x416 1 Stop, 66.9ms\n",
      "Speed: 1.9ms preprocess, 66.9ms inference, 1.0ms postprocess per image at shape (1, 3, 416, 416)\n",
      "0: 416x416 (no detections), 66.9ms\n",
      "Speed: 2.0ms preprocess, 66.9ms inference, 1.0ms postprocess per image at shape (1, 3, 416, 416)\n",
      "\n",
      "\n",
      "0: 416x416 (no detections), 77.8ms\n",
      "Speed: 2.0ms preprocess, 77.8ms inference, 1.0ms postprocess per image at shape (1, 3, 416, 416)\n",
      "0: 416x416 1 Stop, 80.6ms\n",
      "Speed: 1.0ms preprocess, 80.6ms inference, 1.0ms postprocess per image at shape (1, 3, 416, 416)\n",
      "\n",
      "0: 416x416 (no detections), 64.2ms\n",
      "Speed: 2.0ms preprocess, 64.2ms inference, 1.0ms postprocess per image at shape (1, 3, 416, 416)\n",
      "\n",
      "\n",
      "0: 416x416 1 Stop, 70.5ms\n",
      "Speed: 1.0ms preprocess, 70.5ms inference, 1.0ms postprocess per image at shape (1, 3, 416, 416)\n",
      "0: 416x416 (no detections), 69.5ms\n",
      "Speed: 2.4ms preprocess, 69.5ms inference, 0.5ms postprocess per image at shape (1, 3, 416, 416)\n",
      "\n",
      "\n",
      "0: 416x416 (no detections), 76.8ms\n",
      "Speed: 2.0ms preprocess, 76.8ms inference, 1.0ms postprocess per image at shape (1, 3, 416, 416)\n",
      "0: 416x416 1 Stop, 73.3ms\n",
      "Speed: 2.0ms preprocess, 73.3ms inference, 0.0ms postprocess per image at shape (1, 3, 416, 416)\n",
      "\n",
      "0: 416x416 (no detections), 69.1ms\n",
      "Speed: 1.6ms preprocess, 69.1ms inference, 1.0ms postprocess per image at shape (1, 3, 416, 416)\n",
      "\n",
      "\n",
      "0: 416x416 1 Stop, 73.7ms\n",
      "Speed: 1.0ms preprocess, 73.7ms inference, 1.0ms postprocess per image at shape (1, 3, 416, 416)\n",
      "0: 416x416 (no detections), 70.5ms\n",
      "Speed: 2.0ms preprocess, 70.5ms inference, 1.0ms postprocess per image at shape (1, 3, 416, 416)\n",
      "\n",
      "\n",
      "0: 416x416 (no detections), 74.6ms\n",
      "Speed: 1.7ms preprocess, 74.6ms inference, 1.0ms postprocess per image at shape (1, 3, 416, 416)\n",
      "0: 416x416 1 Stop, 74.6ms\n",
      "Speed: 0.9ms preprocess, 74.6ms inference, 2.0ms postprocess per image at shape (1, 3, 416, 416)\n",
      "\n",
      "0: 416x416 (no detections), 65.4ms\n",
      "Speed: 2.0ms preprocess, 65.4ms inference, 1.0ms postprocess per image at shape (1, 3, 416, 416)\n",
      "\n",
      "\n",
      "0: 416x416 1 Stop, 75.5ms\n",
      "Speed: 1.0ms preprocess, 75.5ms inference, 2.0ms postprocess per image at shape (1, 3, 416, 416)\n",
      "0: 416x416 (no detections), 74.2ms\n",
      "Speed: 2.0ms preprocess, 74.2ms inference, 1.0ms postprocess per image at shape (1, 3, 416, 416)\n",
      "\n",
      "0: 416x416 (no detections), 65.9ms\n",
      "Speed: 2.0ms preprocess, 65.9ms inference, 0.0ms postprocess per image at shape (1, 3, 416, 416)\n",
      "\n",
      "\n",
      "0: 416x416 1 Stop, 72.2ms\n",
      "Speed: 1.0ms preprocess, 72.2ms inference, 1.0ms postprocess per image at shape (1, 3, 416, 416)\n",
      "0: 416x416 (no detections), 74.7ms\n",
      "Speed: 2.3ms preprocess, 74.7ms inference, 1.0ms postprocess per image at shape (1, 3, 416, 416)\n",
      "\n",
      "\n",
      "0: 416x416 (no detections), 76.4ms\n",
      "Speed: 2.0ms preprocess, 76.4ms inference, 1.0ms postprocess per image at shape (1, 3, 416, 416)\n",
      "0: 416x416 1 Stop, 77.3ms\n",
      "Speed: 1.5ms preprocess, 77.3ms inference, 1.0ms postprocess per image at shape (1, 3, 416, 416)\n",
      "\n",
      "0: 416x416 (no detections), 69.3ms\n",
      "Speed: 1.0ms preprocess, 69.3ms inference, 0.0ms postprocess per image at shape (1, 3, 416, 416)\n",
      "\n",
      "\n",
      "0: 416x416 1 Stop, 72.1ms\n",
      "Speed: 1.0ms preprocess, 72.1ms inference, 0.0ms postprocess per image at shape (1, 3, 416, 416)\n",
      "0: 416x416 (no detections), 71.0ms\n",
      "Speed: 1.9ms preprocess, 71.0ms inference, 0.0ms postprocess per image at shape (1, 3, 416, 416)\n",
      "\n",
      "\n",
      "0: 416x416 (no detections), 68.8ms\n",
      "Speed: 1.0ms preprocess, 68.8ms inference, 1.0ms postprocess per image at shape (1, 3, 416, 416)\n",
      "0: 416x416 1 Stop, 99.9ms\n",
      "Speed: 1.0ms preprocess, 99.9ms inference, 2.0ms postprocess per image at shape (1, 3, 416, 416)\n",
      "\n",
      "0: 416x416 (no detections), 66.0ms\n",
      "Speed: 2.0ms preprocess, 66.0ms inference, 0.0ms postprocess per image at shape (1, 3, 416, 416)\n",
      "\n",
      "\n",
      "0: 416x416 1 Stop, 71.2ms\n",
      "Speed: 1.0ms preprocess, 71.2ms inference, 2.3ms postprocess per image at shape (1, 3, 416, 416)\n",
      "0: 416x416 (no detections), 75.7ms\n",
      "Speed: 2.0ms preprocess, 75.7ms inference, 0.0ms postprocess per image at shape (1, 3, 416, 416)\n",
      "\n",
      "\n",
      "0: 416x416 (no detections), 71.2ms\n",
      "Speed: 1.0ms preprocess, 71.2ms inference, 0.0ms postprocess per image at shape (1, 3, 416, 416)\n",
      "0: 416x416 1 Stop, 75.2ms\n",
      "Speed: 2.0ms preprocess, 75.2ms inference, 1.0ms postprocess per image at shape (1, 3, 416, 416)\n",
      "\n",
      "0: 416x416 (no detections), 68.9ms\n",
      "Speed: 2.0ms preprocess, 68.9ms inference, 0.0ms postprocess per image at shape (1, 3, 416, 416)\n",
      "\n",
      "\n",
      "0: 416x416 1 Stop, 70.8ms\n",
      "Speed: 1.0ms preprocess, 70.8ms inference, 1.0ms postprocess per image at shape (1, 3, 416, 416)\n",
      "0: 416x416 (no detections), 74.3ms\n",
      "Speed: 2.0ms preprocess, 74.3ms inference, 0.0ms postprocess per image at shape (1, 3, 416, 416)\n",
      "\n",
      "\n",
      "0: 416x416 (no detections), 67.8ms\n",
      "Speed: 1.7ms preprocess, 67.8ms inference, 1.0ms postprocess per image at shape (1, 3, 416, 416)\n",
      "0: 416x416 1 Stop, 74.0ms\n",
      "Speed: 1.0ms preprocess, 74.0ms inference, 1.0ms postprocess per image at shape (1, 3, 416, 416)\n",
      "\n",
      "0: 416x416 (no detections), 62.2ms\n",
      "Speed: 2.0ms preprocess, 62.2ms inference, 1.1ms postprocess per image at shape (1, 3, 416, 416)\n",
      "\n",
      "\n",
      "0: 416x416 1 Stop, 67.1ms\n",
      "Speed: 1.0ms preprocess, 67.1ms inference, 1.0ms postprocess per image at shape (1, 3, 416, 416)\n",
      "0: 416x416 (no detections), 70.5ms\n",
      "Speed: 2.0ms preprocess, 70.5ms inference, 1.0ms postprocess per image at shape (1, 3, 416, 416)\n",
      "\n",
      "\n",
      "0: 416x416 (no detections), 70.2ms\n",
      "Speed: 2.0ms preprocess, 70.2ms inference, 0.0ms postprocess per image at shape (1, 3, 416, 416)\n",
      "0: 416x416 1 Stop, 72.6ms\n",
      "Speed: 1.2ms preprocess, 72.6ms inference, 1.0ms postprocess per image at shape (1, 3, 416, 416)\n",
      "\n",
      "0: 416x416 (no detections), 65.3ms\n",
      "Speed: 1.9ms preprocess, 65.3ms inference, 1.0ms postprocess per image at shape (1, 3, 416, 416)\n",
      "\n",
      "\n",
      "0: 416x416 1 Stop, 68.3ms\n",
      "Speed: 1.0ms preprocess, 68.3ms inference, 2.1ms postprocess per image at shape (1, 3, 416, 416)\n",
      "0: 416x416 (no detections), 75.0ms\n",
      "Speed: 2.0ms preprocess, 75.0ms inference, 0.0ms postprocess per image at shape (1, 3, 416, 416)\n",
      "\n",
      "\n",
      "0: 416x416 (no detections), 67.3ms\n",
      "Speed: 2.5ms preprocess, 67.3ms inference, 1.0ms postprocess per image at shape (1, 3, 416, 416)\n",
      "0: 416x416 1 Stop, 70.0ms\n",
      "Speed: 1.0ms preprocess, 70.0ms inference, 1.0ms postprocess per image at shape (1, 3, 416, 416)\n",
      "\n",
      "0: 416x416 (no detections), 87.0ms\n",
      "Speed: 2.0ms preprocess, 87.0ms inference, 0.0ms postprocess per image at shape (1, 3, 416, 416)\n",
      "\n",
      "\n",
      "0: 416x416 (no detections), 76.9ms\n",
      "Speed: 2.0ms preprocess, 76.9ms inference, 1.0ms postprocess per image at shape (1, 3, 416, 416)\n",
      "0: 416x416 1 Stop, 73.3ms\n",
      "Speed: 1.0ms preprocess, 73.3ms inference, 2.0ms postprocess per image at shape (1, 3, 416, 416)\n",
      "\n",
      "0: 416x416 (no detections), 63.1ms\n",
      "Speed: 2.0ms preprocess, 63.1ms inference, 0.0ms postprocess per image at shape (1, 3, 416, 416)\n",
      "\n",
      "\n",
      "0: 416x416 1 Stop, 69.4ms\n",
      "Speed: 2.0ms preprocess, 69.4ms inference, 1.0ms postprocess per image at shape (1, 3, 416, 416)\n",
      "0: 416x416 (no detections), 64.2ms\n",
      "Speed: 2.0ms preprocess, 64.2ms inference, 1.0ms postprocess per image at shape (1, 3, 416, 416)\n",
      "\n",
      "\n",
      "0: 416x416 (no detections), 72.0ms\n",
      "Speed: 1.0ms preprocess, 72.0ms inference, 1.0ms postprocess per image at shape (1, 3, 416, 416)\n",
      "0: 416x416 1 Stop, 67.2ms\n",
      "Speed: 1.0ms preprocess, 67.2ms inference, 1.0ms postprocess per image at shape (1, 3, 416, 416)\n",
      "\n",
      "0: 416x416 (no detections), 66.0ms\n",
      "Speed: 2.0ms preprocess, 66.0ms inference, 0.0ms postprocess per image at shape (1, 3, 416, 416)\n",
      "\n",
      "\n",
      "0: 416x416 1 Stop, 69.9ms\n",
      "Speed: 1.0ms preprocess, 69.9ms inference, 1.0ms postprocess per image at shape (1, 3, 416, 416)\n",
      "0: 416x416 (no detections), 67.5ms\n",
      "Speed: 2.0ms preprocess, 67.5ms inference, 1.0ms postprocess per image at shape (1, 3, 416, 416)\n",
      "\n",
      "\n",
      "0: 416x416 (no detections), 73.6ms\n",
      "Speed: 2.0ms preprocess, 73.6ms inference, 0.0ms postprocess per image at shape (1, 3, 416, 416)\n",
      "\n",
      "0: 416x416 1 Stop, 75.5ms\n",
      "Speed: 1.0ms preprocess, 75.5ms inference, 1.4ms postprocess per image at shape (1, 3, 416, 416)\n",
      "0: 416x416 (no detections), 67.9ms\n",
      "Speed: 2.5ms preprocess, 67.9ms inference, 1.0ms postprocess per image at shape (1, 3, 416, 416)\n",
      "\n",
      "\n",
      "0: 416x416 (no detections), 73.6ms\n",
      "Speed: 2.0ms preprocess, 73.6ms inference, 1.0ms postprocess per image at shape (1, 3, 416, 416)\n",
      "0: 416x416 1 Stop, 68.9ms\n",
      "Speed: 2.0ms preprocess, 68.9ms inference, 1.0ms postprocess per image at shape (1, 3, 416, 416)\n",
      "\n",
      "0: 416x416 (no detections), 65.5ms\n",
      "Speed: 1.0ms preprocess, 65.5ms inference, 1.0ms postprocess per image at shape (1, 3, 416, 416)\n",
      "\n",
      "\n",
      "0: 416x416 1 Stop, 75.4ms\n",
      "Speed: 2.0ms preprocess, 75.4ms inference, 1.0ms postprocess per image at shape (1, 3, 416, 416)\n",
      "0: 416x416 (no detections), 72.0ms\n",
      "Speed: 2.0ms preprocess, 72.0ms inference, 0.0ms postprocess per image at shape (1, 3, 416, 416)\n",
      "\n",
      "\n",
      "0: 416x416 (no detections), 76.3ms\n",
      "Speed: 2.0ms preprocess, 76.3ms inference, 1.0ms postprocess per image at shape (1, 3, 416, 416)\n",
      "0: 416x416 1 Stop, 74.6ms\n",
      "Speed: 1.0ms preprocess, 74.6ms inference, 1.0ms postprocess per image at shape (1, 3, 416, 416)\n",
      "\n",
      "0: 416x416 (no detections), 67.8ms\n",
      "Speed: 1.0ms preprocess, 67.8ms inference, 1.0ms postprocess per image at shape (1, 3, 416, 416)\n",
      "\n",
      "\n",
      "0: 416x416 1 Stop, 75.3ms\n",
      "Speed: 1.5ms preprocess, 75.3ms inference, 1.2ms postprocess per image at shape (1, 3, 416, 416)\n",
      "0: 416x416 (no detections), 73.3ms\n",
      "Speed: 1.0ms preprocess, 73.3ms inference, 0.0ms postprocess per image at shape (1, 3, 416, 416)\n",
      "\n",
      "\n",
      "0: 416x416 (no detections), 79.0ms\n",
      "Speed: 1.2ms preprocess, 79.0ms inference, 0.0ms postprocess per image at shape (1, 3, 416, 416)\n",
      "0: 416x416 1 Stop, 72.7ms\n",
      "Speed: 2.0ms preprocess, 72.7ms inference, 1.2ms postprocess per image at shape (1, 3, 416, 416)\n",
      "\n",
      "0: 416x416 (no detections), 71.1ms\n",
      "Speed: 2.0ms preprocess, 71.1ms inference, 1.0ms postprocess per image at shape (1, 3, 416, 416)\n",
      "\n",
      "\n",
      "0: 416x416 1 Stop, 79.1ms\n",
      "Speed: 2.0ms preprocess, 79.1ms inference, 1.0ms postprocess per image at shape (1, 3, 416, 416)\n",
      "0: 416x416 (no detections), 73.2ms\n",
      "Speed: 1.7ms preprocess, 73.2ms inference, 0.0ms postprocess per image at shape (1, 3, 416, 416)\n",
      "\n",
      "\n",
      "0: 416x416 (no detections), 78.3ms\n",
      "Speed: 1.9ms preprocess, 78.3ms inference, 1.0ms postprocess per image at shape (1, 3, 416, 416)\n",
      "0: 416x416 1 Stop, 76.3ms\n",
      "Speed: 2.0ms preprocess, 76.3ms inference, 1.0ms postprocess per image at shape (1, 3, 416, 416)\n",
      "\n",
      "0: 416x416 (no detections), 74.3ms\n",
      "Speed: 2.5ms preprocess, 74.3ms inference, 1.0ms postprocess per image at shape (1, 3, 416, 416)\n",
      "\n",
      "\n",
      "0: 416x416 1 Stop, 79.3ms\n",
      "Speed: 1.5ms preprocess, 79.3ms inference, 0.5ms postprocess per image at shape (1, 3, 416, 416)\n",
      "0: 416x416 (no detections), 74.9ms\n",
      "Speed: 2.0ms preprocess, 74.9ms inference, 0.0ms postprocess per image at shape (1, 3, 416, 416)\n",
      "\n",
      "\n",
      "0: 416x416 (no detections), 82.9ms\n",
      "Speed: 2.0ms preprocess, 82.9ms inference, 1.0ms postprocess per image at shape (1, 3, 416, 416)\n",
      "\n",
      "0: 416x416 1 Stop, 81.8ms\n",
      "Speed: 2.0ms preprocess, 81.8ms inference, 1.0ms postprocess per image at shape (1, 3, 416, 416)\n",
      "0: 416x416 (no detections), 76.5ms\n",
      "Speed: 2.0ms preprocess, 76.5ms inference, 0.0ms postprocess per image at shape (1, 3, 416, 416)\n",
      "\n",
      "\n",
      "0: 416x416 (no detections), 85.6ms\n",
      "Speed: 3.0ms preprocess, 85.6ms inference, 1.0ms postprocess per image at shape (1, 3, 416, 416)\n",
      "\n",
      "0: 416x416 1 Stop, 84.9ms\n",
      "Speed: 2.0ms preprocess, 84.9ms inference, 1.0ms postprocess per image at shape (1, 3, 416, 416)\n",
      "0: 416x416 (no detections), 74.1ms\n",
      "Speed: 1.0ms preprocess, 74.1ms inference, 0.0ms postprocess per image at shape (1, 3, 416, 416)\n",
      "\n",
      "\n",
      "0: 416x416 (no detections), 82.9ms\n",
      "Speed: 2.0ms preprocess, 82.9ms inference, 0.0ms postprocess per image at shape (1, 3, 416, 416)\n",
      "\n",
      "0: 416x416 1 Stop, 82.9ms\n",
      "Speed: 2.0ms preprocess, 82.9ms inference, 1.0ms postprocess per image at shape (1, 3, 416, 416)\n",
      "0: 416x416 (no detections), 75.0ms\n",
      "Speed: 2.0ms preprocess, 75.0ms inference, 0.0ms postprocess per image at shape (1, 3, 416, 416)\n",
      "\n",
      "\n",
      "0: 416x416 (no detections), 87.0ms\n",
      "Speed: 2.0ms preprocess, 87.0ms inference, 0.0ms postprocess per image at shape (1, 3, 416, 416)\n",
      "\n",
      "0: 416x416 1 Stop, 84.8ms\n",
      "Speed: 2.0ms preprocess, 84.8ms inference, 2.0ms postprocess per image at shape (1, 3, 416, 416)\n",
      "0: 416x416 (no detections), 76.5ms\n",
      "Speed: 2.0ms preprocess, 76.5ms inference, 1.0ms postprocess per image at shape (1, 3, 416, 416)\n",
      "\n",
      "\n",
      "0: 416x416 (no detections), 87.2ms\n",
      "Speed: 1.0ms preprocess, 87.2ms inference, 1.0ms postprocess per image at shape (1, 3, 416, 416)\n",
      "\n",
      "0: 416x416 1 Stop, 87.9ms\n",
      "Speed: 1.5ms preprocess, 87.9ms inference, 1.0ms postprocess per image at shape (1, 3, 416, 416)\n",
      "0: 416x416 (no detections), 77.0ms\n",
      "Speed: 2.0ms preprocess, 77.0ms inference, 1.0ms postprocess per image at shape (1, 3, 416, 416)\n",
      "\n",
      "\n",
      "0: 416x416 (no detections), 87.3ms\n",
      "Speed: 2.0ms preprocess, 87.3ms inference, 1.0ms postprocess per image at shape (1, 3, 416, 416)\n",
      "\n",
      "0: 416x416 1 Stop, 89.2ms\n",
      "Speed: 2.0ms preprocess, 89.2ms inference, 1.0ms postprocess per image at shape (1, 3, 416, 416)\n",
      "0: 416x416 (no detections), 78.6ms\n",
      "Speed: 2.0ms preprocess, 78.6ms inference, 0.0ms postprocess per image at shape (1, 3, 416, 416)\n",
      "\n",
      "\n",
      "0: 416x416 (no detections), 91.7ms\n",
      "Speed: 1.0ms preprocess, 91.7ms inference, 1.0ms postprocess per image at shape (1, 3, 416, 416)\n",
      "\n",
      "0: 416x416 1 Stop, 91.0ms\n",
      "Speed: 2.0ms preprocess, 91.0ms inference, 1.0ms postprocess per image at shape (1, 3, 416, 416)\n",
      "0: 416x416 (no detections), 82.9ms\n",
      "Speed: 2.0ms preprocess, 82.9ms inference, 0.0ms postprocess per image at shape (1, 3, 416, 416)\n",
      "\n",
      "0: 416x416 (no detections), 80.8ms\n",
      "Speed: 2.0ms preprocess, 80.8ms inference, 0.0ms postprocess per image at shape (1, 3, 416, 416)\n",
      "\n",
      "\n",
      "0: 416x416 1 Stop, 92.9ms\n",
      "Speed: 2.0ms preprocess, 92.9ms inference, 1.0ms postprocess per image at shape (1, 3, 416, 416)\n",
      "0: 416x416 (no detections), 88.7ms\n",
      "Speed: 2.5ms preprocess, 88.7ms inference, 1.0ms postprocess per image at shape (1, 3, 416, 416)\n",
      "\n",
      "0: 416x416 (no detections), 81.6ms\n",
      "Speed: 2.0ms preprocess, 81.6ms inference, 1.0ms postprocess per image at shape (1, 3, 416, 416)\n",
      "\n",
      "\n",
      "0: 416x416 (no detections), 92.1ms\n",
      "Speed: 2.0ms preprocess, 92.1ms inference, 1.0ms postprocess per image at shape (1, 3, 416, 416)\n",
      "\n",
      "0: 416x416 1 Stop, 91.6ms\n",
      "Speed: 1.0ms preprocess, 91.6ms inference, 1.1ms postprocess per image at shape (1, 3, 416, 416)\n",
      "0: 416x416 (no detections), 82.1ms\n",
      "Speed: 2.0ms preprocess, 82.1ms inference, 1.0ms postprocess per image at shape (1, 3, 416, 416)\n",
      "\n",
      "\n",
      "0: 416x416 (no detections), 83.7ms\n",
      "Speed: 3.0ms preprocess, 83.7ms inference, 5.0ms postprocess per image at shape (1, 3, 416, 416)\n",
      "\n",
      "0: 416x416 1 Stop, 94.0ms\n",
      "Speed: 2.0ms preprocess, 94.0ms inference, 2.0ms postprocess per image at shape (1, 3, 416, 416)\n",
      "0: 416x416 (no detections), 91.2ms\n",
      "Speed: 3.0ms preprocess, 91.2ms inference, 1.2ms postprocess per image at shape (1, 3, 416, 416)\n",
      "\n",
      "0: 416x416 (no detections), 83.5ms\n",
      "Speed: 2.0ms preprocess, 83.5ms inference, 1.0ms postprocess per image at shape (1, 3, 416, 416)\n",
      "\n",
      "\n",
      "0: 416x416 (no detections), 111.1ms\n",
      "Speed: 1.6ms preprocess, 111.1ms inference, 1.0ms postprocess per image at shape (1, 3, 416, 416)\n",
      "\n",
      "0: 416x416 1 Stop, 102.8ms\n",
      "Speed: 2.5ms preprocess, 102.8ms inference, 2.0ms postprocess per image at shape (1, 3, 416, 416)\n",
      "0: 416x416 (no detections), 85.9ms\n",
      "Speed: 2.0ms preprocess, 85.9ms inference, 1.0ms postprocess per image at shape (1, 3, 416, 416)\n",
      "\n",
      "\n",
      "0: 416x416 (no detections), 92.0ms\n",
      "Speed: 2.5ms preprocess, 92.0ms inference, 1.0ms postprocess per image at shape (1, 3, 416, 416)\n",
      "\n",
      "0: 416x416 1 Stop, 96.5ms\n",
      "Speed: 2.0ms preprocess, 96.5ms inference, 1.0ms postprocess per image at shape (1, 3, 416, 416)\n",
      "0: 416x416 (no detections), 87.9ms\n",
      "Speed: 3.0ms preprocess, 87.9ms inference, 0.0ms postprocess per image at shape (1, 3, 416, 416)\n",
      "\n",
      "0: 416x416 (no detections), 84.7ms\n",
      "Speed: 3.0ms preprocess, 84.7ms inference, 0.5ms postprocess per image at shape (1, 3, 416, 416)\n",
      "\n",
      "\n",
      "0: 416x416 1 Stop, 97.3ms\n",
      "Speed: 2.0ms preprocess, 97.3ms inference, 1.0ms postprocess per image at shape (1, 3, 416, 416)\n",
      "0: 416x416 (no detections), 94.3ms\n",
      "Speed: 3.0ms preprocess, 94.3ms inference, 1.0ms postprocess per image at shape (1, 3, 416, 416)\n",
      "\n",
      "0: 416x416 (no detections), 87.7ms\n",
      "Speed: 2.0ms preprocess, 87.7ms inference, 1.0ms postprocess per image at shape (1, 3, 416, 416)\n",
      "\n",
      "\n",
      "0: 416x416 (no detections), 96.7ms\n",
      "Speed: 3.5ms preprocess, 96.7ms inference, 1.0ms postprocess per image at shape (1, 3, 416, 416)\n",
      "\n",
      "0: 416x416 1 Stop, 98.9ms\n",
      "Speed: 2.0ms preprocess, 98.9ms inference, 2.0ms postprocess per image at shape (1, 3, 416, 416)\n",
      "0: 416x416 (no detections), 88.7ms\n",
      "Speed: 2.5ms preprocess, 88.7ms inference, 1.0ms postprocess per image at shape (1, 3, 416, 416)\n",
      "\n",
      "\n",
      "0: 416x416 (no detections), 96.8ms\n",
      "Speed: 2.5ms preprocess, 96.8ms inference, 0.0ms postprocess per image at shape (1, 3, 416, 416)\n",
      "\n",
      "0: 416x416 1 Stop, 100.4ms\n",
      "Speed: 2.0ms preprocess, 100.4ms inference, 1.0ms postprocess per image at shape (1, 3, 416, 416)\n",
      "0: 416x416 (no detections), 91.2ms\n",
      "Speed: 2.7ms preprocess, 91.2ms inference, 0.0ms postprocess per image at shape (1, 3, 416, 416)\n",
      "\n",
      "\n",
      "0: 416x416 (no detections), 108.7ms\n",
      "Speed: 2.7ms preprocess, 108.7ms inference, 1.0ms postprocess per image at shape (1, 3, 416, 416)\n",
      "\n",
      "0: 416x416 1 Stop, 104.6ms\n",
      "Speed: 1.5ms preprocess, 104.6ms inference, 2.0ms postprocess per image at shape (1, 3, 416, 416)\n",
      "0: 416x416 (no detections), 98.1ms\n",
      "Speed: 3.0ms preprocess, 98.1ms inference, 0.5ms postprocess per image at shape (1, 3, 416, 416)\n",
      "\n",
      "0: 416x416 (no detections), 93.9ms\n",
      "Speed: 2.5ms preprocess, 93.9ms inference, 0.5ms postprocess per image at shape (1, 3, 416, 416)\n",
      "\n",
      "\n",
      "0: 416x416 (no detections), 128.9ms\n",
      "Speed: 4.6ms preprocess, 128.9ms inference, 1.0ms postprocess per image at shape (1, 3, 416, 416)\n",
      "0: 416x416 1 Stop, 130.4ms\n",
      "Speed: 3.0ms preprocess, 130.4ms inference, 1.0ms postprocess per image at shape (1, 3, 416, 416)\n",
      "\n",
      "0: 416x416 (no detections), 93.6ms\n",
      "Speed: 2.0ms preprocess, 93.6ms inference, 0.0ms postprocess per image at shape (1, 3, 416, 416)\n",
      "\n",
      "\n",
      "0: 416x416 (no detections), 105.4ms\n",
      "Speed: 3.0ms preprocess, 105.4ms inference, 1.0ms postprocess per image at shape (1, 3, 416, 416)\n",
      "0: 416x416 1 Stop, 103.9ms\n",
      "Speed: 5.5ms preprocess, 103.9ms inference, 2.0ms postprocess per image at shape (1, 3, 416, 416)\n",
      "\n",
      "0: 416x416 (no detections), 94.8ms\n",
      "Speed: 3.0ms preprocess, 94.8ms inference, 1.2ms postprocess per image at shape (1, 3, 416, 416)\n",
      "\n",
      "\n",
      "0: 416x416 (no detections), 111.4ms\n",
      "Speed: 2.0ms preprocess, 111.4ms inference, 1.0ms postprocess per image at shape (1, 3, 416, 416)\n",
      "\n",
      "0: 416x416 1 Stop, 107.1ms\n",
      "Speed: 2.5ms preprocess, 107.1ms inference, 2.5ms postprocess per image at shape (1, 3, 416, 416)\n",
      "0: 416x416 (no detections), 95.2ms\n",
      "Speed: 3.5ms preprocess, 95.2ms inference, 0.0ms postprocess per image at shape (1, 3, 416, 416)\n",
      "\n",
      "\n",
      "0: 416x416 (no detections), 107.4ms\n",
      "Speed: 3.0ms preprocess, 107.4ms inference, 1.0ms postprocess per image at shape (1, 3, 416, 416)\n",
      "\n",
      "0: 416x416 1 Stop, 108.8ms\n",
      "Speed: 2.0ms preprocess, 108.8ms inference, 1.5ms postprocess per image at shape (1, 3, 416, 416)\n",
      "0: 416x416 (no detections), 95.7ms\n",
      "Speed: 2.5ms preprocess, 95.7ms inference, 1.0ms postprocess per image at shape (1, 3, 416, 416)\n",
      "\n",
      "\n",
      "0: 416x416 (no detections), 111.1ms\n",
      "Speed: 2.0ms preprocess, 111.1ms inference, 0.0ms postprocess per image at shape (1, 3, 416, 416)\n",
      "\n",
      "0: 416x416 1 Stop, 116.0ms\n",
      "Speed: 2.0ms preprocess, 116.0ms inference, 1.0ms postprocess per image at shape (1, 3, 416, 416)\n",
      "0: 416x416 (no detections), 105.5ms\n",
      "Speed: 3.0ms preprocess, 105.5ms inference, 1.6ms postprocess per image at shape (1, 3, 416, 416)\n",
      "\n",
      "\n",
      "0: 416x416 (no detections), 108.0ms\n",
      "Speed: 3.5ms preprocess, 108.0ms inference, 1.0ms postprocess per image at shape (1, 3, 416, 416)\n",
      "\n",
      "0: 416x416 1 Stop, 116.1ms\n",
      "Speed: 3.0ms preprocess, 116.1ms inference, 1.0ms postprocess per image at shape (1, 3, 416, 416)\n",
      "0: 416x416 (no detections), 104.5ms\n",
      "Speed: 3.0ms preprocess, 104.5ms inference, 1.6ms postprocess per image at shape (1, 3, 416, 416)\n",
      "\n",
      "\n",
      "0: 416x416 (no detections), 109.1ms\n",
      "Speed: 3.5ms preprocess, 109.1ms inference, 1.0ms postprocess per image at shape (1, 3, 416, 416)\n",
      "\n",
      "0: 416x416 1 Stop, 116.1ms\n",
      "Speed: 2.0ms preprocess, 116.1ms inference, 2.0ms postprocess per image at shape (1, 3, 416, 416)\n",
      "0: 416x416 (no detections), 100.7ms\n",
      "Speed: 3.0ms preprocess, 100.7ms inference, 1.4ms postprocess per image at shape (1, 3, 416, 416)\n",
      "\n",
      "\n",
      "0: 416x416 (no detections), 116.2ms\n",
      "Speed: 3.1ms preprocess, 116.2ms inference, 1.5ms postprocess per image at shape (1, 3, 416, 416)\n",
      "\n",
      "0: 416x416 1 Stop, 108.7ms\n",
      "Speed: 2.0ms preprocess, 108.7ms inference, 2.0ms postprocess per image at shape (1, 3, 416, 416)\n",
      "0: 416x416 (no detections), 99.0ms\n",
      "Speed: 3.0ms preprocess, 99.0ms inference, 1.0ms postprocess per image at shape (1, 3, 416, 416)\n",
      "\n",
      "\n",
      "0: 416x416 (no detections), 101.7ms\n",
      "Speed: 2.0ms preprocess, 101.7ms inference, 1.6ms postprocess per image at shape (1, 3, 416, 416)\n",
      "\n",
      "0: 416x416 1 Stop, 110.1ms\n",
      "Speed: 2.0ms preprocess, 110.1ms inference, 2.0ms postprocess per image at shape (1, 3, 416, 416)\n",
      "0: 416x416 (no detections), 104.1ms\n",
      "Speed: 3.0ms preprocess, 104.1ms inference, 1.0ms postprocess per image at shape (1, 3, 416, 416)\n",
      "\n",
      "\n",
      "0: 416x416 (no detections), 109.7ms\n",
      "Speed: 3.0ms preprocess, 109.7ms inference, 1.0ms postprocess per image at shape (1, 3, 416, 416)\n",
      "\n",
      "0: 416x416 1 Stop, 116.0ms\n",
      "Speed: 3.3ms preprocess, 116.0ms inference, 2.0ms postprocess per image at shape (1, 3, 416, 416)\n",
      "0: 416x416 (no detections), 110.1ms\n",
      "Speed: 2.6ms preprocess, 110.1ms inference, 0.5ms postprocess per image at shape (1, 3, 416, 416)\n",
      "\n",
      "\n",
      "0: 416x416 (no detections), 111.5ms\n",
      "Speed: 3.0ms preprocess, 111.5ms inference, 1.0ms postprocess per image at shape (1, 3, 416, 416)\n",
      "\n",
      "0: 416x416 1 Stop, 122.8ms\n",
      "Speed: 2.2ms preprocess, 122.8ms inference, 1.0ms postprocess per image at shape (1, 3, 416, 416)\n",
      "0: 416x416 (no detections), 108.8ms\n",
      "Speed: 2.5ms preprocess, 108.8ms inference, 0.0ms postprocess per image at shape (1, 3, 416, 416)\n",
      "\n",
      "\n",
      "0: 416x416 (no detections), 113.4ms\n",
      "Speed: 3.0ms preprocess, 113.4ms inference, 1.2ms postprocess per image at shape (1, 3, 416, 416)\n",
      "\n",
      "0: 416x416 1 Stop, 117.8ms\n",
      "Speed: 1.0ms preprocess, 117.8ms inference, 2.0ms postprocess per image at shape (1, 3, 416, 416)\n",
      "0: 416x416 (no detections), 109.6ms\n",
      "Speed: 3.0ms preprocess, 109.6ms inference, 1.0ms postprocess per image at shape (1, 3, 416, 416)\n",
      "\n",
      "\n",
      "0: 416x416 (no detections), 113.8ms\n",
      "Speed: 2.5ms preprocess, 113.8ms inference, 1.0ms postprocess per image at shape (1, 3, 416, 416)\n",
      "\n",
      "0: 416x416 1 Stop, 119.3ms\n",
      "Speed: 2.4ms preprocess, 119.3ms inference, 2.0ms postprocess per image at shape (1, 3, 416, 416)\n",
      "0: 416x416 (no detections), 110.7ms\n",
      "Speed: 2.2ms preprocess, 110.7ms inference, 1.0ms postprocess per image at shape (1, 3, 416, 416)\n",
      "\n",
      "\n",
      "0: 416x416 (no detections), 113.6ms\n",
      "Speed: 2.0ms preprocess, 113.6ms inference, 1.0ms postprocess per image at shape (1, 3, 416, 416)\n",
      "\n",
      "0: 416x416 1 Stop, 130.1ms\n",
      "Speed: 3.0ms preprocess, 130.1ms inference, 2.1ms postprocess per image at shape (1, 3, 416, 416)\n",
      "0: 416x416 (no detections), 127.0ms\n",
      "Speed: 3.0ms preprocess, 127.0ms inference, 1.0ms postprocess per image at shape (1, 3, 416, 416)\n",
      "\n",
      "\n",
      "0: 416x416 (no detections), 115.2ms\n",
      "Speed: 3.0ms preprocess, 115.2ms inference, 0.0ms postprocess per image at shape (1, 3, 416, 416)\n",
      "\n",
      "0: 416x416 1 Stop, 125.1ms\n",
      "Speed: 2.0ms preprocess, 125.1ms inference, 2.4ms postprocess per image at shape (1, 3, 416, 416)\n",
      "0: 416x416 (no detections), 109.3ms\n",
      "Speed: 4.5ms preprocess, 109.3ms inference, 1.0ms postprocess per image at shape (1, 3, 416, 416)\n",
      "\n",
      "\n",
      "0: 416x416 (no detections), 129.9ms\n",
      "Speed: 3.0ms preprocess, 129.9ms inference, 2.0ms postprocess per image at shape (1, 3, 416, 416)\n",
      "\n",
      "0: 416x416 1 Stop, 131.5ms\n",
      "Speed: 3.0ms preprocess, 131.5ms inference, 2.0ms postprocess per image at shape (1, 3, 416, 416)\n",
      "0: 416x416 (no detections), 114.1ms\n",
      "Speed: 3.0ms preprocess, 114.1ms inference, 1.0ms postprocess per image at shape (1, 3, 416, 416)\n",
      "\n",
      "\n",
      "0: 416x416 (no detections), 124.9ms\n",
      "Speed: 3.0ms preprocess, 124.9ms inference, 1.0ms postprocess per image at shape (1, 3, 416, 416)\n",
      "\n",
      "0: 416x416 1 Stop, 126.4ms\n",
      "Speed: 3.0ms preprocess, 126.4ms inference, 2.1ms postprocess per image at shape (1, 3, 416, 416)\n",
      "0: 416x416 (no detections), 113.8ms\n",
      "Speed: 2.0ms preprocess, 113.8ms inference, 1.0ms postprocess per image at shape (1, 3, 416, 416)\n",
      "\n",
      "\n",
      "0: 416x416 (no detections), 130.1ms\n",
      "Speed: 3.5ms preprocess, 130.1ms inference, 1.0ms postprocess per image at shape (1, 3, 416, 416)\n",
      "\n",
      "0: 416x416 1 Stop, 133.5ms\n",
      "Speed: 2.5ms preprocess, 133.5ms inference, 3.0ms postprocess per image at shape (1, 3, 416, 416)\n",
      "\n",
      "0: 416x416 (no detections), 147.8ms\n",
      "Speed: 5.0ms preprocess, 147.8ms inference, 1.0ms postprocess per image at shape (1, 3, 416, 416)\n",
      "\n",
      "0: 416x416 1 Stop, 149.8ms\n",
      "Speed: 2.5ms preprocess, 149.8ms inference, 2.0ms postprocess per image at shape (1, 3, 416, 416)\n",
      "0: 416x416 (no detections), 132.8ms\n",
      "Speed: 4.1ms preprocess, 132.8ms inference, 1.0ms postprocess per image at shape (1, 3, 416, 416)\n",
      "\n",
      "\n",
      "0: 416x416 (no detections), 150.3ms\n",
      "Speed: 4.0ms preprocess, 150.3ms inference, 1.0ms postprocess per image at shape (1, 3, 416, 416)\n",
      "\n",
      "0: 416x416 1 Stop, 140.3ms\n",
      "Speed: 5.0ms preprocess, 140.3ms inference, 2.4ms postprocess per image at shape (1, 3, 416, 416)\n",
      "\n",
      "0: 416x416 (no detections), 142.3ms\n",
      "Speed: 4.2ms preprocess, 142.3ms inference, 2.0ms postprocess per image at shape (1, 3, 416, 416)\n",
      "\n",
      "0: 416x416 1 Stop, 159.7ms\n",
      "Speed: 3.0ms preprocess, 159.7ms inference, 3.0ms postprocess per image at shape (1, 3, 416, 416)\n",
      "0: 416x416 (no detections), 155.8ms\n",
      "Speed: 3.0ms preprocess, 155.8ms inference, 0.0ms postprocess per image at shape (1, 3, 416, 416)\n",
      "\n",
      "\n",
      "0: 416x416 1 Stop, 135.2ms\n",
      "Speed: 3.0ms preprocess, 135.2ms inference, 2.0ms postprocess per image at shape (1, 3, 416, 416)\n",
      "0: 416x416 (no detections), 132.4ms\n",
      "Speed: 4.0ms preprocess, 132.4ms inference, 1.0ms postprocess per image at shape (1, 3, 416, 416)\n",
      "\n",
      "\n",
      "0: 416x416 (no detections), 134.4ms\n",
      "Speed: 3.0ms preprocess, 134.4ms inference, 2.1ms postprocess per image at shape (1, 3, 416, 416)\n",
      "\n",
      "0: 416x416 1 Stop, 140.6ms\n",
      "Speed: 2.5ms preprocess, 140.6ms inference, 2.0ms postprocess per image at shape (1, 3, 416, 416)\n",
      "0: 416x416 (no detections), 126.1ms\n",
      "Speed: 4.5ms preprocess, 126.1ms inference, 1.5ms postprocess per image at shape (1, 3, 416, 416)\n",
      "\n",
      "\n",
      "0: 416x416 (no detections), 146.8ms\n",
      "Speed: 3.0ms preprocess, 146.8ms inference, 1.0ms postprocess per image at shape (1, 3, 416, 416)\n",
      "\n",
      "0: 416x416 1 Stop, 141.7ms\n",
      "Speed: 3.0ms preprocess, 141.7ms inference, 3.0ms postprocess per image at shape (1, 3, 416, 416)\n",
      "\n",
      "0: 416x416 (no detections), 136.7ms\n",
      "Speed: 4.0ms preprocess, 136.7ms inference, 2.0ms postprocess per image at shape (1, 3, 416, 416)\n",
      "\n",
      "0: 416x416 1 Stop, 140.3ms\n",
      "Speed: 2.5ms preprocess, 140.3ms inference, 2.0ms postprocess per image at shape (1, 3, 416, 416)\n",
      "0: 416x416 (no detections), 131.7ms\n",
      "Speed: 3.0ms preprocess, 131.7ms inference, 0.5ms postprocess per image at shape (1, 3, 416, 416)\n",
      "\n",
      "\n",
      "0: 416x416 (no detections), 147.2ms\n",
      "Speed: 3.9ms preprocess, 147.2ms inference, 1.0ms postprocess per image at shape (1, 3, 416, 416)\n",
      "\n",
      "0: 416x416 1 Stop, 155.3ms\n",
      "Speed: 3.0ms preprocess, 155.3ms inference, 2.0ms postprocess per image at shape (1, 3, 416, 416)\n",
      "0: 416x416 (no detections), 140.8ms\n",
      "Speed: 5.0ms preprocess, 140.8ms inference, 0.5ms postprocess per image at shape (1, 3, 416, 416)\n",
      "\n",
      "\n",
      "0: 416x416 (no detections), 144.3ms\n",
      "Speed: 3.7ms preprocess, 144.3ms inference, 1.0ms postprocess per image at shape (1, 3, 416, 416)\n",
      "0: 416x416 1 Stop, 149.3ms\n",
      "Speed: 3.0ms preprocess, 149.3ms inference, 1.0ms postprocess per image at shape (1, 3, 416, 416)\n",
      "\n",
      "\n",
      "0: 416x416 (no detections), 144.7ms\n",
      "Speed: 4.0ms preprocess, 144.7ms inference, 1.0ms postprocess per image at shape (1, 3, 416, 416)\n",
      "\n",
      "0: 416x416 1 Stop, 139.3ms\n",
      "Speed: 4.0ms preprocess, 139.3ms inference, 9.8ms postprocess per image at shape (1, 3, 416, 416)\n",
      "\n",
      "0: 416x416 (no detections), 156.5ms\n",
      "Speed: 5.2ms preprocess, 156.5ms inference, 1.0ms postprocess per image at shape (1, 3, 416, 416)\n",
      "\n",
      "0: 416x416 1 Stop, 150.5ms\n",
      "Speed: 3.0ms preprocess, 150.5ms inference, 3.0ms postprocess per image at shape (1, 3, 416, 416)\n",
      "0: 416x416 (no detections), 139.9ms\n",
      "Speed: 4.0ms preprocess, 139.9ms inference, 0.0ms postprocess per image at shape (1, 3, 416, 416)\n",
      "\n",
      "\n",
      "0: 416x416 (no detections), 145.6ms\n",
      "Speed: 4.0ms preprocess, 145.6ms inference, 1.0ms postprocess per image at shape (1, 3, 416, 416)\n",
      "\n",
      "0: 416x416 1 Stop, 142.4ms\n",
      "Speed: 3.2ms preprocess, 142.4ms inference, 8.9ms postprocess per image at shape (1, 3, 416, 416)\n",
      "\n",
      "0: 416x416 (no detections), 150.0ms\n",
      "Speed: 6.5ms preprocess, 150.0ms inference, 1.0ms postprocess per image at shape (1, 3, 416, 416)\n",
      "\n",
      "0: 416x416 1 Stop, 150.5ms\n",
      "Speed: 4.5ms preprocess, 150.5ms inference, 2.0ms postprocess per image at shape (1, 3, 416, 416)\n",
      "0: 416x416 (no detections), 141.3ms\n",
      "Speed: 3.5ms preprocess, 141.3ms inference, 1.0ms postprocess per image at shape (1, 3, 416, 416)\n",
      "\n",
      "\n",
      "0: 416x416 (no detections), 153.7ms\n",
      "Speed: 3.0ms preprocess, 153.7ms inference, 2.0ms postprocess per image at shape (1, 3, 416, 416)\n",
      "\n",
      "0: 416x416 1 Stop, 153.8ms\n",
      "Speed: 3.0ms preprocess, 153.8ms inference, 3.2ms postprocess per image at shape (1, 3, 416, 416)\n",
      "\n",
      "0: 416x416 (no detections), 157.6ms\n",
      "Speed: 4.0ms preprocess, 157.6ms inference, 1.0ms postprocess per image at shape (1, 3, 416, 416)\n",
      "\n",
      "0: 416x416 1 Stop, 156.7ms\n",
      "Speed: 3.7ms preprocess, 156.7ms inference, 2.0ms postprocess per image at shape (1, 3, 416, 416)\n",
      "0: 416x416 (no detections), 142.4ms\n",
      "Speed: 3.0ms preprocess, 142.4ms inference, 1.5ms postprocess per image at shape (1, 3, 416, 416)\n",
      "\n",
      "\n",
      "0: 416x416 (no detections), 156.7ms\n",
      "Speed: 4.0ms preprocess, 156.7ms inference, 2.0ms postprocess per image at shape (1, 3, 416, 416)\n",
      "\n",
      "0: 416x416 1 Stop, 151.8ms\n",
      "Speed: 3.5ms preprocess, 151.8ms inference, 3.6ms postprocess per image at shape (1, 3, 416, 416)\n",
      "\n",
      "0: 416x416 (no detections), 154.7ms\n",
      "Speed: 4.0ms preprocess, 154.7ms inference, 1.0ms postprocess per image at shape (1, 3, 416, 416)\n",
      "\n",
      "0: 416x416 1 Stop, 156.2ms\n",
      "Speed: 2.0ms preprocess, 156.2ms inference, 2.0ms postprocess per image at shape (1, 3, 416, 416)\n",
      "0: 416x416 (no detections), 145.2ms\n",
      "Speed: 4.8ms preprocess, 145.2ms inference, 1.0ms postprocess per image at shape (1, 3, 416, 416)\n",
      "\n",
      "\n",
      "0: 416x416 (no detections), 162.8ms\n",
      "Speed: 4.0ms preprocess, 162.8ms inference, 1.0ms postprocess per image at shape (1, 3, 416, 416)\n",
      "0: 416x416 1 Stop, 153.4ms\n",
      "Speed: 2.5ms preprocess, 153.4ms inference, 2.0ms postprocess per image at shape (1, 3, 416, 416)\n",
      "\n",
      "\n",
      "0: 416x416 (no detections), 139.0ms\n",
      "Speed: 5.0ms preprocess, 139.0ms inference, 2.0ms postprocess per image at shape (1, 3, 416, 416)\n",
      "\n",
      "0: 416x416 1 Stop, 139.1ms\n",
      "Speed: 3.5ms preprocess, 139.1ms inference, 2.0ms postprocess per image at shape (1, 3, 416, 416)\n",
      "\n",
      "0: 416x416 (no detections), 146.9ms\n",
      "Speed: 5.6ms preprocess, 146.9ms inference, 1.2ms postprocess per image at shape (1, 3, 416, 416)\n",
      "\n",
      "0: 416x416 1 Stop, 149.4ms\n",
      "Speed: 2.0ms preprocess, 149.4ms inference, 3.0ms postprocess per image at shape (1, 3, 416, 416)\n",
      "0: 416x416 (no detections), 133.2ms\n",
      "Speed: 3.7ms preprocess, 133.2ms inference, 1.0ms postprocess per image at shape (1, 3, 416, 416)\n",
      "\n",
      "\n",
      "0: 416x416 (no detections), 143.4ms\n",
      "Speed: 4.6ms preprocess, 143.4ms inference, 2.0ms postprocess per image at shape (1, 3, 416, 416)\n",
      "\n",
      "0: 416x416 1 Stop, 143.0ms\n",
      "Speed: 3.0ms preprocess, 143.0ms inference, 2.0ms postprocess per image at shape (1, 3, 416, 416)\n",
      "\n",
      "0: 416x416 (no detections), 157.7ms\n",
      "Speed: 4.0ms preprocess, 157.7ms inference, 1.0ms postprocess per image at shape (1, 3, 416, 416)\n",
      "\n",
      "0: 416x416 1 Stop, 164.8ms\n",
      "Speed: 3.5ms preprocess, 164.8ms inference, 2.0ms postprocess per image at shape (1, 3, 416, 416)\n",
      "\n",
      "0: 416x416 (no detections), 148.3ms\n",
      "Speed: 3.9ms preprocess, 148.3ms inference, 2.0ms postprocess per image at shape (1, 3, 416, 416)\n",
      "\n",
      "0: 416x416 1 Stop, 151.3ms\n",
      "Speed: 3.5ms preprocess, 151.3ms inference, 3.0ms postprocess per image at shape (1, 3, 416, 416)\n",
      "\n",
      "0: 416x416 (no detections), 143.3ms\n",
      "Speed: 5.0ms preprocess, 143.3ms inference, 1.0ms postprocess per image at shape (1, 3, 416, 416)\n",
      "\n",
      "0: 416x416 1 Stop, 149.3ms\n",
      "Speed: 6.5ms preprocess, 149.3ms inference, 3.0ms postprocess per image at shape (1, 3, 416, 416)\n",
      "0: 416x416 (no detections), 142.0ms\n",
      "Speed: 4.6ms preprocess, 142.0ms inference, 1.0ms postprocess per image at shape (1, 3, 416, 416)\n",
      "\n",
      "\n",
      "0: 416x416 (no detections), 149.1ms\n",
      "Speed: 4.0ms preprocess, 149.1ms inference, 2.0ms postprocess per image at shape (1, 3, 416, 416)\n",
      "\n",
      "0: 416x416 1 Stop, 152.6ms\n",
      "Speed: 3.0ms preprocess, 152.6ms inference, 2.0ms postprocess per image at shape (1, 3, 416, 416)\n",
      "0: 416x416 (no detections), 152.5ms\n",
      "Speed: 4.0ms preprocess, 152.5ms inference, 2.2ms postprocess per image at shape (1, 3, 416, 416)\n",
      "\n",
      "\n",
      "0: 416x416 1 Stop, 140.6ms\n",
      "Speed: 2.0ms preprocess, 140.6ms inference, 2.5ms postprocess per image at shape (1, 3, 416, 416)\n",
      "0: 416x416 (no detections), 138.7ms\n",
      "Speed: 3.5ms preprocess, 138.7ms inference, 1.0ms postprocess per image at shape (1, 3, 416, 416)\n",
      "\n",
      "\n",
      "0: 416x416 (no detections), 154.4ms\n",
      "Speed: 4.1ms preprocess, 154.4ms inference, 2.0ms postprocess per image at shape (1, 3, 416, 416)\n",
      "\n",
      "0: 416x416 1 Stop, 153.1ms\n",
      "Speed: 2.2ms preprocess, 153.1ms inference, 2.0ms postprocess per image at shape (1, 3, 416, 416)\n",
      "0: 416x416 (no detections), 139.9ms\n",
      "Speed: 3.0ms preprocess, 139.9ms inference, 2.0ms postprocess per image at shape (1, 3, 416, 416)\n",
      "\n",
      "\n",
      "0: 416x416 (no detections), 144.1ms\n",
      "Speed: 8.5ms preprocess, 144.1ms inference, 1.0ms postprocess per image at shape (1, 3, 416, 416)\n",
      "0: 416x416 1 Stop, 145.3ms\n",
      "Speed: 4.0ms preprocess, 145.3ms inference, 9.1ms postprocess per image at shape (1, 3, 416, 416)\n",
      "\n",
      "\n",
      "0: 416x416 (no detections), 147.6ms\n",
      "Speed: 4.4ms preprocess, 147.6ms inference, 1.0ms postprocess per image at shape (1, 3, 416, 416)\n",
      "0: 416x416 1 Stop, 141.3ms\n",
      "\n",
      "Speed: 4.0ms preprocess, 141.3ms inference, 1.6ms postprocess per image at shape (1, 3, 416, 416)\n",
      "\n",
      "0: 416x416 (no detections), 146.8ms\n",
      "Speed: 5.6ms preprocess, 146.8ms inference, 1.0ms postprocess per image at shape (1, 3, 416, 416)\n",
      "\n",
      "0: 416x416 1 Stop, 149.1ms\n",
      "Speed: 3.1ms preprocess, 149.1ms inference, 2.5ms postprocess per image at shape (1, 3, 416, 416)\n",
      "0: 416x416 (no detections), 136.8ms\n",
      "Speed: 4.5ms preprocess, 136.8ms inference, 1.0ms postprocess per image at shape (1, 3, 416, 416)\n",
      "\n",
      "\n",
      "0: 416x416 (no detections), 148.1ms\n",
      "Speed: 4.0ms preprocess, 148.1ms inference, 2.0ms postprocess per image at shape (1, 3, 416, 416)\n",
      "\n",
      "0: 416x416 1 Stop, 147.4ms\n",
      "Speed: 3.9ms preprocess, 147.4ms inference, 1.7ms postprocess per image at shape (1, 3, 416, 416)\n",
      "\n",
      "0: 416x416 (no detections), 150.9ms\n",
      "Speed: 4.5ms preprocess, 150.9ms inference, 1.0ms postprocess per image at shape (1, 3, 416, 416)\n",
      "\n",
      "0: 416x416 1 Stop, 151.2ms\n",
      "Speed: 2.9ms preprocess, 151.2ms inference, 3.1ms postprocess per image at shape (1, 3, 416, 416)\n",
      "0: 416x416 (no detections), 134.4ms\n",
      "Speed: 3.5ms preprocess, 134.4ms inference, 1.0ms postprocess per image at shape (1, 3, 416, 416)\n",
      "\n",
      "\n",
      "0: 416x416 (no detections), 164.9ms\n",
      "Speed: 4.6ms preprocess, 164.9ms inference, 2.0ms postprocess per image at shape (1, 3, 416, 416)\n",
      "\n",
      "0: 416x416 1 Stop, 158.0ms\n",
      "Speed: 2.5ms preprocess, 158.0ms inference, 2.2ms postprocess per image at shape (1, 3, 416, 416)\n",
      "\n",
      "0: 416x416 (no detections), 140.8ms\n",
      "Speed: 4.3ms preprocess, 140.8ms inference, 2.0ms postprocess per image at shape (1, 3, 416, 416)\n",
      "\n",
      "0: 416x416 1 Stop, 146.2ms\n",
      "Speed: 2.5ms preprocess, 146.2ms inference, 2.5ms postprocess per image at shape (1, 3, 416, 416)\n",
      "0: 416x416 (no detections), 134.8ms\n",
      "Speed: 5.0ms preprocess, 134.8ms inference, 1.0ms postprocess per image at shape (1, 3, 416, 416)\n",
      "\n",
      "\n",
      "0: 416x416 (no detections), 146.3ms\n",
      "Speed: 2.0ms preprocess, 146.3ms inference, 1.0ms postprocess per image at shape (1, 3, 416, 416)\n",
      "0: 416x416 1 Stop, 143.9ms\n",
      "Speed: 3.0ms preprocess, 143.9ms inference, 2.3ms postprocess per image at shape (1, 3, 416, 416)\n",
      "\n",
      "\n",
      "0: 416x416 (no detections), 154.3ms\n",
      "Speed: 4.0ms preprocess, 154.3ms inference, 2.0ms postprocess per image at shape (1, 3, 416, 416)\n",
      "\n",
      "0: 416x416 1 Stop, 154.4ms\n",
      "Speed: 4.0ms preprocess, 154.4ms inference, 2.0ms postprocess per image at shape (1, 3, 416, 416)\n",
      "0: 416x416 (no detections), 141.8ms\n",
      "Speed: 3.4ms preprocess, 141.8ms inference, 1.0ms postprocess per image at shape (1, 3, 416, 416)\n",
      "\n",
      "\n",
      "0: 416x416 (no detections), 143.6ms\n",
      "Speed: 4.5ms preprocess, 143.6ms inference, 1.7ms postprocess per image at shape (1, 3, 416, 416)\n",
      "0: 416x416 1 Stop, 143.0ms\n",
      "Speed: 4.0ms preprocess, 143.0ms inference, 2.0ms postprocess per image at shape (1, 3, 416, 416)\n",
      "\n",
      "\n",
      "0: 416x416 (no detections), 147.8ms\n",
      "Speed: 4.1ms preprocess, 147.8ms inference, 2.4ms postprocess per image at shape (1, 3, 416, 416)\n",
      "\n",
      "0: 416x416 1 Stop, 152.3ms\n",
      "Speed: 3.0ms preprocess, 152.3ms inference, 2.0ms postprocess per image at shape (1, 3, 416, 416)\n",
      "0: 416x416 (no detections), 136.4ms\n",
      "Speed: 3.7ms preprocess, 136.4ms inference, 2.0ms postprocess per image at shape (1, 3, 416, 416)\n",
      "\n",
      "\n",
      "0: 416x416 (no detections), 156.1ms\n",
      "Speed: 4.0ms preprocess, 156.1ms inference, 1.0ms postprocess per image at shape (1, 3, 416, 416)\n",
      "0: 416x416 1 Stop, 145.3ms\n",
      "Speed: 3.6ms preprocess, 145.3ms inference, 2.0ms postprocess per image at shape (1, 3, 416, 416)\n",
      "\n",
      "\n",
      "0: 416x416 (no detections), 157.7ms\n",
      "Speed: 3.5ms preprocess, 157.7ms inference, 0.0ms postprocess per image at shape (1, 3, 416, 416)\n",
      "\n",
      "0: 416x416 1 Stop, 150.5ms\n",
      "Speed: 2.4ms preprocess, 150.5ms inference, 3.0ms postprocess per image at shape (1, 3, 416, 416)\n",
      "0: 416x416 (no detections), 144.2ms\n",
      "Speed: 3.1ms preprocess, 144.2ms inference, 1.0ms postprocess per image at shape (1, 3, 416, 416)\n",
      "\n",
      "\n",
      "0: 416x416 (no detections), 138.7ms\n",
      "Speed: 3.0ms preprocess, 138.7ms inference, 2.0ms postprocess per image at shape (1, 3, 416, 416)\n",
      "0: 416x416 1 Stop, 136.7ms\n",
      "Speed: 3.0ms preprocess, 136.7ms inference, 2.0ms postprocess per image at shape (1, 3, 416, 416)\n",
      "\n",
      "\n",
      "0: 416x416 (no detections), 146.7ms\n",
      "Speed: 3.9ms preprocess, 146.7ms inference, 2.0ms postprocess per image at shape (1, 3, 416, 416)\n",
      "\n",
      "0: 416x416 1 Stop, 139.1ms\n",
      "Speed: 3.0ms preprocess, 139.1ms inference, 2.4ms postprocess per image at shape (1, 3, 416, 416)\n",
      "0: 416x416 (no detections), 130.2ms\n",
      "Speed: 4.5ms preprocess, 130.2ms inference, 1.0ms postprocess per image at shape (1, 3, 416, 416)\n",
      "\n",
      "\n",
      "0: 416x416 (no detections), 140.7ms\n",
      "Speed: 4.0ms preprocess, 140.7ms inference, 1.0ms postprocess per image at shape (1, 3, 416, 416)\n",
      "0: 416x416 1 Stop, 135.2ms\n",
      "\n",
      "Speed: 3.5ms preprocess, 135.2ms inference, 2.7ms postprocess per image at shape (1, 3, 416, 416)\n",
      "\n",
      "0: 416x416 (no detections), 137.0ms\n",
      "Speed: 5.5ms preprocess, 137.0ms inference, 2.0ms postprocess per image at shape (1, 3, 416, 416)\n",
      "\n",
      "0: 416x416 1 Stop, 142.0ms\n",
      "Speed: 3.0ms preprocess, 142.0ms inference, 3.1ms postprocess per image at shape (1, 3, 416, 416)\n",
      "0: 416x416 (no detections), 132.4ms\n",
      "Speed: 3.0ms preprocess, 132.4ms inference, 1.0ms postprocess per image at shape (1, 3, 416, 416)\n",
      "\n",
      "\n",
      "0: 416x416 (no detections), 145.6ms\n",
      "Speed: 3.5ms preprocess, 145.6ms inference, 1.0ms postprocess per image at shape (1, 3, 416, 416)\n",
      "\n",
      "0: 416x416 1 Stop, 146.9ms\n",
      "Speed: 2.0ms preprocess, 146.9ms inference, 2.0ms postprocess per image at shape (1, 3, 416, 416)\n",
      "0: 416x416 (no detections), 132.1ms\n",
      "Speed: 3.5ms preprocess, 132.1ms inference, 2.0ms postprocess per image at shape (1, 3, 416, 416)\n",
      "\n",
      "\n",
      "0: 416x416 (no detections), 138.4ms\n",
      "Speed: 4.0ms preprocess, 138.4ms inference, 1.0ms postprocess per image at shape (1, 3, 416, 416)\n",
      "0: 416x416 1 Stop, 138.6ms\n",
      "Speed: 3.0ms preprocess, 138.6ms inference, 2.0ms postprocess per image at shape (1, 3, 416, 416)\n",
      "\n",
      "\n",
      "0: 416x416 (no detections), 133.3ms\n",
      "Speed: 4.4ms preprocess, 133.3ms inference, 1.0ms postprocess per image at shape (1, 3, 416, 416)\n",
      "\n",
      "0: 416x416 1 Stop, 139.4ms\n",
      "Speed: 3.0ms preprocess, 139.4ms inference, 3.0ms postprocess per image at shape (1, 3, 416, 416)\n",
      "0: 416x416 (no detections), 136.2ms\n",
      "Speed: 3.0ms preprocess, 136.2ms inference, 0.0ms postprocess per image at shape (1, 3, 416, 416)\n",
      "\n",
      "\n",
      "0: 416x416 (no detections), 132.6ms\n",
      "Speed: 4.1ms preprocess, 132.6ms inference, 0.0ms postprocess per image at shape (1, 3, 416, 416)\n",
      "\n",
      "0: 416x416 1 Stop, 135.3ms\n",
      "Speed: 2.0ms preprocess, 135.3ms inference, 3.2ms postprocess per image at shape (1, 3, 416, 416)\n",
      "0: 416x416 (no detections), 125.9ms\n",
      "Speed: 3.0ms preprocess, 125.9ms inference, 1.0ms postprocess per image at shape (1, 3, 416, 416)\n",
      "\n",
      "\n",
      "0: 416x416 (no detections), 137.6ms\n",
      "Speed: 4.0ms preprocess, 137.6ms inference, 2.0ms postprocess per image at shape (1, 3, 416, 416)\n",
      "\n",
      "0: 416x416 1 Stop, 133.2ms\n",
      "Speed: 3.0ms preprocess, 133.2ms inference, 8.1ms postprocess per image at shape (1, 3, 416, 416)\n",
      "0: 416x416 (no detections), 124.8ms\n",
      "Speed: 3.5ms preprocess, 124.8ms inference, 1.0ms postprocess per image at shape (1, 3, 416, 416)\n",
      "\n",
      "\n",
      "0: 416x416 1 Stop, 146.1ms\n",
      "Speed: 4.0ms preprocess, 146.1ms inference, 2.0ms postprocess per image at shape (1, 3, 416, 416)\n",
      "0: 416x416 (no detections), 133.8ms\n",
      "Speed: 4.0ms preprocess, 133.8ms inference, 2.0ms postprocess per image at shape (1, 3, 416, 416)\n",
      "\n",
      "\n",
      "0: 416x416 (no detections), 140.8ms\n",
      "Speed: 4.0ms preprocess, 140.8ms inference, 1.0ms postprocess per image at shape (1, 3, 416, 416)\n",
      "\n",
      "0: 416x416 1 Stop, 143.3ms\n",
      "Speed: 2.9ms preprocess, 143.3ms inference, 2.0ms postprocess per image at shape (1, 3, 416, 416)\n",
      "\n",
      "0: 416x416 (no detections), 140.3ms\n",
      "Speed: 4.5ms preprocess, 140.3ms inference, 1.0ms postprocess per image at shape (1, 3, 416, 416)\n",
      "\n",
      "0: 416x416 1 Stop, 138.1ms\n",
      "Speed: 3.0ms preprocess, 138.1ms inference, 2.0ms postprocess per image at shape (1, 3, 416, 416)\n",
      "0: 416x416 (no detections), 128.5ms\n",
      "Speed: 3.0ms preprocess, 128.5ms inference, 1.0ms postprocess per image at shape (1, 3, 416, 416)\n",
      "\n",
      "\n",
      "0: 416x416 (no detections), 143.4ms\n",
      "Speed: 3.5ms preprocess, 143.4ms inference, 1.0ms postprocess per image at shape (1, 3, 416, 416)\n",
      "\n",
      "0: 416x416 1 Stop, 141.1ms\n",
      "Speed: 3.0ms preprocess, 141.1ms inference, 2.0ms postprocess per image at shape (1, 3, 416, 416)\n",
      "0: 416x416 (no detections), 116.3ms\n",
      "Speed: 4.0ms preprocess, 116.3ms inference, 0.0ms postprocess per image at shape (1, 3, 416, 416)\n",
      "\n",
      "\n",
      "0: 416x416 (no detections), 129.7ms\n",
      "Speed: 3.0ms preprocess, 129.7ms inference, 1.0ms postprocess per image at shape (1, 3, 416, 416)\n",
      "\n",
      "0: 416x416 1 Stop, 123.1ms\n",
      "Speed: 3.0ms preprocess, 123.1ms inference, 2.0ms postprocess per image at shape (1, 3, 416, 416)\n",
      "0: 416x416 (no detections), 101.0ms\n",
      "Speed: 3.0ms preprocess, 101.0ms inference, 1.0ms postprocess per image at shape (1, 3, 416, 416)\n",
      "\n",
      "\n",
      "0: 416x416 (no detections), 114.7ms\n",
      "Speed: 3.0ms preprocess, 114.7ms inference, 1.0ms postprocess per image at shape (1, 3, 416, 416)\n",
      "\n",
      "0: 416x416 1 Stop, 113.6ms\n",
      "Speed: 2.0ms preprocess, 113.6ms inference, 2.0ms postprocess per image at shape (1, 3, 416, 416)\n",
      "0: 416x416 (no detections), 103.0ms\n",
      "Speed: 3.0ms preprocess, 103.0ms inference, 0.0ms postprocess per image at shape (1, 3, 416, 416)\n",
      "\n",
      "\n",
      "0: 416x416 (no detections), 117.1ms\n",
      "Speed: 3.0ms preprocess, 117.1ms inference, 1.0ms postprocess per image at shape (1, 3, 416, 416)\n",
      "\n",
      "0: 416x416 1 Stop, 117.5ms\n",
      "Speed: 3.0ms preprocess, 117.5ms inference, 2.0ms postprocess per image at shape (1, 3, 416, 416)\n",
      "0: 416x416 (no detections), 104.6ms\n",
      "Speed: 3.3ms preprocess, 104.6ms inference, 1.0ms postprocess per image at shape (1, 3, 416, 416)\n",
      "\n",
      "\n",
      "0: 416x416 (no detections), 118.5ms\n",
      "Speed: 2.0ms preprocess, 118.5ms inference, 1.0ms postprocess per image at shape (1, 3, 416, 416)\n",
      "\n",
      "0: 416x416 1 Stop, 120.9ms\n",
      "Speed: 2.0ms preprocess, 120.9ms inference, 1.0ms postprocess per image at shape (1, 3, 416, 416)\n",
      "0: 416x416 (no detections), 105.4ms\n",
      "Speed: 3.0ms preprocess, 105.4ms inference, 0.0ms postprocess per image at shape (1, 3, 416, 416)\n",
      "\n",
      "\n",
      "0: 416x416 (no detections), 113.8ms\n",
      "Speed: 3.0ms preprocess, 113.8ms inference, 1.5ms postprocess per image at shape (1, 3, 416, 416)\n",
      "\n",
      "0: 416x416 1 Stop, 115.0ms\n",
      "Speed: 3.5ms preprocess, 115.0ms inference, 1.0ms postprocess per image at shape (1, 3, 416, 416)\n",
      "0: 416x416 (no detections), 103.9ms\n",
      "Speed: 2.0ms preprocess, 103.9ms inference, 1.0ms postprocess per image at shape (1, 3, 416, 416)\n",
      "\n",
      "\n",
      "0: 416x416 (no detections), 122.2ms\n",
      "Speed: 3.0ms preprocess, 122.2ms inference, 1.0ms postprocess per image at shape (1, 3, 416, 416)\n",
      "\n",
      "0: 416x416 1 Stop, 120.0ms\n",
      "Speed: 2.0ms preprocess, 120.0ms inference, 1.4ms postprocess per image at shape (1, 3, 416, 416)\n",
      "0: 416x416 (no detections), 104.4ms\n",
      "Speed: 3.0ms preprocess, 104.4ms inference, 1.0ms postprocess per image at shape (1, 3, 416, 416)\n",
      "\n",
      "\n",
      "0: 416x416 (no detections), 128.6ms\n",
      "Speed: 2.9ms preprocess, 128.6ms inference, 2.0ms postprocess per image at shape (1, 3, 416, 416)\n",
      "\n",
      "0: 416x416 1 Stop, 121.0ms\n",
      "Speed: 4.0ms preprocess, 121.0ms inference, 2.0ms postprocess per image at shape (1, 3, 416, 416)\n",
      "0: 416x416 (no detections), 101.2ms\n",
      "Speed: 3.1ms preprocess, 101.2ms inference, 0.5ms postprocess per image at shape (1, 3, 416, 416)\n",
      "\n",
      "\n",
      "0: 416x416 (no detections), 112.2ms\n",
      "Speed: 2.5ms preprocess, 112.2ms inference, 1.0ms postprocess per image at shape (1, 3, 416, 416)\n",
      "\n",
      "0: 416x416 1 Stop, 117.0ms\n",
      "Speed: 2.0ms preprocess, 117.0ms inference, 3.0ms postprocess per image at shape (1, 3, 416, 416)\n",
      "0: 416x416 (no detections), 121.8ms\n",
      "Speed: 2.0ms preprocess, 121.8ms inference, 2.0ms postprocess per image at shape (1, 3, 416, 416)\n",
      "\n",
      "\n",
      "0: 416x416 (no detections), 131.9ms\n",
      "Speed: 4.8ms preprocess, 131.9ms inference, 0.0ms postprocess per image at shape (1, 3, 416, 416)\n",
      "0: 416x416 1 Stop, 125.7ms\n",
      "Speed: 3.5ms preprocess, 125.7ms inference, 2.0ms postprocess per image at shape (1, 3, 416, 416)\n",
      "\n",
      "\n",
      "0: 416x416 (no detections), 137.2ms\n",
      "Speed: 3.0ms preprocess, 137.2ms inference, 2.0ms postprocess per image at shape (1, 3, 416, 416)\n",
      "\n",
      "0: 416x416 1 Stop, 139.8ms\n",
      "Speed: 3.0ms preprocess, 139.8ms inference, 2.0ms postprocess per image at shape (1, 3, 416, 416)\n",
      "0: 416x416 (no detections), 112.8ms\n",
      "Speed: 4.0ms preprocess, 112.8ms inference, 1.0ms postprocess per image at shape (1, 3, 416, 416)\n",
      "\n",
      "\n",
      "0: 416x416 (no detections), 129.9ms\n",
      "Speed: 4.0ms preprocess, 129.9ms inference, 1.0ms postprocess per image at shape (1, 3, 416, 416)\n",
      "\n",
      "0: 416x416 1 Stop, 127.2ms\n",
      "Speed: 3.0ms preprocess, 127.2ms inference, 3.0ms postprocess per image at shape (1, 3, 416, 416)\n",
      "\n",
      "0: 416x416 (no detections), 150.3ms\n",
      "Speed: 3.0ms preprocess, 150.3ms inference, 1.0ms postprocess per image at shape (1, 3, 416, 416)\n",
      "\n",
      "0: 416x416 1 Stop, 119.7ms\n",
      "Speed: 5.5ms preprocess, 119.7ms inference, 2.0ms postprocess per image at shape (1, 3, 416, 416)\n",
      "0: 416x416 (no detections), 113.7ms\n",
      "Speed: 3.0ms preprocess, 113.7ms inference, 1.0ms postprocess per image at shape (1, 3, 416, 416)\n",
      "\n",
      "\n",
      "0: 416x416 (no detections), 118.9ms\n",
      "Speed: 3.4ms preprocess, 118.9ms inference, 1.2ms postprocess per image at shape (1, 3, 416, 416)\n",
      "\n",
      "0: 416x416 1 Stop, 138.5ms\n",
      "Speed: 2.2ms preprocess, 138.5ms inference, 2.1ms postprocess per image at shape (1, 3, 416, 416)\n",
      "0: 416x416 (no detections), 124.4ms\n",
      "Speed: 3.5ms preprocess, 124.4ms inference, 1.0ms postprocess per image at shape (1, 3, 416, 416)\n",
      "\n",
      "\n",
      "0: 416x416 (no detections), 120.2ms\n",
      "Speed: 3.0ms preprocess, 120.2ms inference, 2.0ms postprocess per image at shape (1, 3, 416, 416)\n",
      "0: 416x416 1 Stop, 116.8ms\n",
      "Speed: 3.0ms preprocess, 116.8ms inference, 2.0ms postprocess per image at shape (1, 3, 416, 416)\n",
      "\n",
      "\n",
      "0: 416x416 (no detections), 117.0ms\n",
      "Speed: 3.2ms preprocess, 117.0ms inference, 1.0ms postprocess per image at shape (1, 3, 416, 416)\n",
      "\n",
      "0: 416x416 1 Stop, 126.7ms\n",
      "Speed: 2.0ms preprocess, 126.7ms inference, 1.0ms postprocess per image at shape (1, 3, 416, 416)\n",
      "0: 416x416 (no detections), 117.6ms\n",
      "Speed: 3.5ms preprocess, 117.6ms inference, 0.0ms postprocess per image at shape (1, 3, 416, 416)\n",
      "\n",
      "\n",
      "0: 416x416 1 Stop, 123.7ms\n",
      "Speed: 3.0ms preprocess, 123.7ms inference, 1.0ms postprocess per image at shape (1, 3, 416, 416)\n",
      "0: 416x416 (no detections), 113.7ms\n",
      "Speed: 5.5ms preprocess, 113.7ms inference, 2.0ms postprocess per image at shape (1, 3, 416, 416)\n",
      "\n",
      "\n",
      "0: 416x416 (no detections), 123.9ms\n",
      "Speed: 3.0ms preprocess, 123.9ms inference, 1.0ms postprocess per image at shape (1, 3, 416, 416)\n",
      "\n",
      "0: 416x416 1 Stop, 125.0ms\n",
      "Speed: 3.0ms preprocess, 125.0ms inference, 2.2ms postprocess per image at shape (1, 3, 416, 416)\n",
      "\n",
      "0: 416x416 (no detections), 111.2ms\n",
      "Speed: 3.5ms preprocess, 111.2ms inference, 1.0ms postprocess per image at shape (1, 3, 416, 416)\n",
      "\n",
      "0: 416x416 1 Stop, 116.3ms\n",
      "Speed: 2.9ms preprocess, 116.3ms inference, 2.1ms postprocess per image at shape (1, 3, 416, 416)\n",
      "0: 416x416 (no detections), 111.6ms\n",
      "Speed: 3.2ms preprocess, 111.6ms inference, 1.0ms postprocess per image at shape (1, 3, 416, 416)\n",
      "\n",
      "\n",
      "0: 416x416 (no detections), 118.3ms\n",
      "Speed: 4.5ms preprocess, 118.3ms inference, 1.0ms postprocess per image at shape (1, 3, 416, 416)\n",
      "\n",
      "0: 416x416 1 Stop, 173.3ms\n",
      "Speed: 1.5ms preprocess, 173.3ms inference, 2.0ms postprocess per image at shape (1, 3, 416, 416)\n",
      "\n",
      "0: 416x416 (no detections), 157.2ms\n",
      "Speed: 4.0ms preprocess, 157.2ms inference, 2.0ms postprocess per image at shape (1, 3, 416, 416)\n",
      "\n",
      "0: 416x416 1 Stop, 175.8ms\n",
      "Speed: 6.5ms preprocess, 175.8ms inference, 3.0ms postprocess per image at shape (1, 3, 416, 416)\n",
      "\n",
      "0: 416x416 (no detections), 156.9ms\n",
      "Speed: 4.0ms preprocess, 156.9ms inference, 2.8ms postprocess per image at shape (1, 3, 416, 416)\n",
      "\n",
      "0: 416x416 1 Stop, 185.1ms\n",
      "Speed: 9.5ms preprocess, 185.1ms inference, 2.2ms postprocess per image at shape (1, 3, 416, 416)\n",
      "\n",
      "0: 416x416 (no detections), 137.2ms\n",
      "Speed: 16.3ms preprocess, 137.2ms inference, 1.0ms postprocess per image at shape (1, 3, 416, 416)\n",
      "\n",
      "0: 416x416 1 Stop, 120.1ms\n",
      "Speed: 2.0ms preprocess, 120.1ms inference, 2.2ms postprocess per image at shape (1, 3, 416, 416)\n",
      "0: 416x416 (no detections), 112.1ms\n",
      "Speed: 3.5ms preprocess, 112.1ms inference, 1.0ms postprocess per image at shape (1, 3, 416, 416)\n",
      "\n",
      "\n",
      "0: 416x416 (no detections), 204.3ms\n",
      "Speed: 5.5ms preprocess, 204.3ms inference, 2.0ms postprocess per image at shape (1, 3, 416, 416)\n",
      "\n",
      "0: 416x416 1 Stop, 176.0ms\n",
      "Speed: 11.5ms preprocess, 176.0ms inference, 2.0ms postprocess per image at shape (1, 3, 416, 416)\n",
      "\n",
      "0: 416x416 (no detections), 127.9ms\n",
      "Speed: 4.0ms preprocess, 127.9ms inference, 1.0ms postprocess per image at shape (1, 3, 416, 416)\n",
      "\n",
      "0: 416x416 1 Stop, 153.4ms\n",
      "Speed: 3.0ms preprocess, 153.4ms inference, 2.5ms postprocess per image at shape (1, 3, 416, 416)\n",
      "0: 416x416 (no detections), 119.8ms\n",
      "Speed: 10.5ms preprocess, 119.8ms inference, 1.0ms postprocess per image at shape (1, 3, 416, 416)\n",
      "\n",
      "\n",
      "0: 416x416 (no detections), 131.7ms\n",
      "Speed: 3.0ms preprocess, 131.7ms inference, 1.0ms postprocess per image at shape (1, 3, 416, 416)\n",
      "0: 416x416 1 Stop, 124.0ms\n",
      "Speed: 3.1ms preprocess, 124.0ms inference, 2.0ms postprocess per image at shape (1, 3, 416, 416)\n",
      "\n",
      "0: 416x416 (no detections), 108.4ms\n",
      "Speed: 3.1ms preprocess, 108.4ms inference, 1.0ms postprocess per image at shape (1, 3, 416, 416)\n",
      "\n",
      "\n",
      "0: 416x416 (no detections), 117.8ms\n",
      "Speed: 3.5ms preprocess, 117.8ms inference, 0.0ms postprocess per image at shape (1, 3, 416, 416)\n",
      "0: 416x416 1 Stop, 115.2ms\n",
      "Speed: 3.0ms preprocess, 115.2ms inference, 2.5ms postprocess per image at shape (1, 3, 416, 416)\n",
      "\n",
      "\n",
      "0: 416x416 (no detections), 118.7ms\n",
      "Speed: 3.0ms preprocess, 118.7ms inference, 2.0ms postprocess per image at shape (1, 3, 416, 416)\n",
      "\n",
      "0: 416x416 1 Stop, 139.9ms\n",
      "Speed: 3.0ms preprocess, 139.9ms inference, 1.0ms postprocess per image at shape (1, 3, 416, 416)\n",
      "0: 416x416 (no detections), 138.9ms\n",
      "Speed: 3.0ms preprocess, 138.9ms inference, 0.0ms postprocess per image at shape (1, 3, 416, 416)\n",
      "\n",
      "\n",
      "0: 416x416 (no detections), 117.1ms\n",
      "Speed: 3.5ms preprocess, 117.1ms inference, 1.2ms postprocess per image at shape (1, 3, 416, 416)\n",
      "\n",
      "0: 416x416 1 Stop, 118.4ms\n",
      "Speed: 2.0ms preprocess, 118.4ms inference, 1.5ms postprocess per image at shape (1, 3, 416, 416)\n",
      "0: 416x416 (no detections), 109.7ms\n",
      "Speed: 3.0ms preprocess, 109.7ms inference, 1.0ms postprocess per image at shape (1, 3, 416, 416)\n",
      "\n",
      "\n",
      "0: 416x416 (no detections), 158.6ms\n",
      "Speed: 3.3ms preprocess, 158.6ms inference, 1.0ms postprocess per image at shape (1, 3, 416, 416)\n",
      "\n",
      "0: 416x416 1 Stop, 157.5ms\n",
      "Speed: 3.0ms preprocess, 157.5ms inference, 2.0ms postprocess per image at shape (1, 3, 416, 416)\n",
      "\n",
      "0: 416x416 (no detections), 162.1ms\n",
      "Speed: 7.2ms preprocess, 162.1ms inference, 2.5ms postprocess per image at shape (1, 3, 416, 416)\n",
      "\n",
      "0: 416x416 1 Stop, 166.0ms\n",
      "Speed: 2.0ms preprocess, 166.0ms inference, 2.0ms postprocess per image at shape (1, 3, 416, 416)\n",
      "0: 416x416 (no detections), 116.6ms\n",
      "Speed: 6.7ms preprocess, 116.6ms inference, 0.0ms postprocess per image at shape (1, 3, 416, 416)\n",
      "\n",
      "\n",
      "0: 416x416 (no detections), 148.5ms\n",
      "Speed: 6.5ms preprocess, 148.5ms inference, 2.0ms postprocess per image at shape (1, 3, 416, 416)\n",
      "0: 416x416 1 Stop, 143.8ms\n",
      "Speed: 8.6ms preprocess, 143.8ms inference, 1.0ms postprocess per image at shape (1, 3, 416, 416)\n",
      "\n",
      "\n",
      "0: 416x416 (no detections), 135.1ms\n",
      "Speed: 2.5ms preprocess, 135.1ms inference, 2.0ms postprocess per image at shape (1, 3, 416, 416)\n",
      "\n",
      "0: 416x416 1 Stop, 149.6ms\n",
      "Speed: 6.6ms preprocess, 149.6ms inference, 2.1ms postprocess per image at shape (1, 3, 416, 416)\n",
      "0: 416x416 (no detections), 143.7ms\n",
      "Speed: 2.0ms preprocess, 143.7ms inference, 1.1ms postprocess per image at shape (1, 3, 416, 416)\n",
      "\n",
      "\n",
      "0: 416x416 (no detections), 99.7ms\n",
      "Speed: 3.0ms preprocess, 99.7ms inference, 1.0ms postprocess per image at shape (1, 3, 416, 416)\n",
      "\n",
      "0: 416x416 1 Stop, 111.9ms\n",
      "Speed: 2.0ms preprocess, 111.9ms inference, 2.0ms postprocess per image at shape (1, 3, 416, 416)\n",
      "0: 416x416 (no detections), 102.4ms\n",
      "Speed: 2.1ms preprocess, 102.4ms inference, 1.0ms postprocess per image at shape (1, 3, 416, 416)\n",
      "\n",
      "\n",
      "0: 416x416 (no detections), 154.8ms\n",
      "Speed: 2.2ms preprocess, 154.8ms inference, 0.9ms postprocess per image at shape (1, 3, 416, 416)\n",
      "\n",
      "0: 416x416 1 Stop, 160.0ms\n",
      "Speed: 5.0ms preprocess, 160.0ms inference, 2.0ms postprocess per image at shape (1, 3, 416, 416)\n",
      "\n",
      "0: 416x416 (no detections), 144.5ms\n",
      "Speed: 5.0ms preprocess, 144.5ms inference, 1.0ms postprocess per image at shape (1, 3, 416, 416)\n",
      "\n",
      "0: 416x416 1 Stop, 109.7ms\n",
      "Speed: 2.0ms preprocess, 109.7ms inference, 1.1ms postprocess per image at shape (1, 3, 416, 416)\n",
      "0: 416x416 (no detections), 93.9ms\n",
      "Speed: 3.0ms preprocess, 93.9ms inference, 0.5ms postprocess per image at shape (1, 3, 416, 416)\n",
      "\n",
      "0: 416x416 (no detections), 82.7ms\n",
      "Speed: 2.0ms preprocess, 82.7ms inference, 1.0ms postprocess per image at shape (1, 3, 416, 416)\n",
      "\n",
      "\n",
      "0: 416x416 1 Stop, 105.2ms\n",
      "Speed: 2.0ms preprocess, 105.2ms inference, 1.0ms postprocess per image at shape (1, 3, 416, 416)\n",
      "0: 416x416 (no detections), 101.7ms\n",
      "Speed: 2.0ms preprocess, 101.7ms inference, 1.0ms postprocess per image at shape (1, 3, 416, 416)\n",
      "\n",
      "0: 416x416 (no detections), 87.6ms\n",
      "Speed: 2.0ms preprocess, 87.6ms inference, 1.0ms postprocess per image at shape (1, 3, 416, 416)\n",
      "\n",
      "\n",
      "0: 416x416 (no detections), 184.0ms\n",
      "Speed: 6.1ms preprocess, 184.0ms inference, 1.1ms postprocess per image at shape (1, 3, 416, 416)\n",
      "0: 416x416 1 Stop, 170.5ms\n",
      "Speed: 6.0ms preprocess, 170.5ms inference, 1.0ms postprocess per image at shape (1, 3, 416, 416)\n",
      "\n",
      "\n",
      "0: 416x416 (no detections), 135.0ms\n",
      "Speed: 7.0ms preprocess, 135.0ms inference, 2.0ms postprocess per image at shape (1, 3, 416, 416)\n",
      "0: 416x416 1 Stop, 146.2ms\n",
      "Speed: 3.0ms preprocess, 146.2ms inference, 3.0ms postprocess per image at shape (1, 3, 416, 416)\n",
      "\n",
      "\n",
      "0: 416x416 (no detections), 129.0ms\n",
      "Speed: 8.5ms preprocess, 129.0ms inference, 2.0ms postprocess per image at shape (1, 3, 416, 416)\n",
      "\n",
      "0: 416x416 1 Stop, 130.7ms\n",
      "Speed: 6.5ms preprocess, 130.7ms inference, 1.0ms postprocess per image at shape (1, 3, 416, 416)\n",
      "0: 416x416 (no detections), 104.3ms\n",
      "Speed: 2.0ms preprocess, 104.3ms inference, 0.0ms postprocess per image at shape (1, 3, 416, 416)\n",
      "\n",
      "0: 416x416 (no detections), 85.9ms\n",
      "\n",
      "Speed: 3.0ms preprocess, 85.9ms inference, 1.0ms postprocess per image at shape (1, 3, 416, 416)\n",
      "\n",
      "0: 416x416 1 Stop, 123.2ms\n",
      "Speed: 4.0ms preprocess, 123.2ms inference, 2.0ms postprocess per image at shape (1, 3, 416, 416)\n",
      "0: 416x416 (no detections), 112.0ms\n",
      "Speed: 4.0ms preprocess, 112.0ms inference, 1.0ms postprocess per image at shape (1, 3, 416, 416)\n",
      "\n",
      "0: 416x416 (no detections), 96.7ms\n",
      "Speed: 2.0ms preprocess, 96.7ms inference, 1.0ms postprocess per image at shape (1, 3, 416, 416)\n",
      "\n",
      "\n",
      "0: 416x416 (no detections), 173.9ms\n",
      "Speed: 12.0ms preprocess, 173.9ms inference, 2.0ms postprocess per image at shape (1, 3, 416, 416)\n",
      "0: 416x416 1 Stop, 171.4ms\n",
      "Speed: 16.0ms preprocess, 171.4ms inference, 8.5ms postprocess per image at shape (1, 3, 416, 416)\n",
      "\n",
      "\n",
      "0: 416x416 (no detections), 177.2ms\n",
      "Speed: 9.7ms preprocess, 177.2ms inference, 1.0ms postprocess per image at shape (1, 3, 416, 416)\n",
      "0: 416x416 1 Stop, 186.4ms\n",
      "Speed: 6.7ms preprocess, 186.4ms inference, 1.0ms postprocess per image at shape (1, 3, 416, 416)\n",
      "\n",
      "\n",
      "0: 416x416 (no detections), 142.9ms\n",
      "Speed: 9.8ms preprocess, 142.9ms inference, 1.0ms postprocess per image at shape (1, 3, 416, 416)\n",
      "0: 416x416 1 Stop, 143.4ms\n",
      "Speed: 7.3ms preprocess, 143.4ms inference, 7.5ms postprocess per image at shape (1, 3, 416, 416)\n",
      "\n",
      "0: 416x416 (no detections), 95.2ms\n",
      "Speed: 2.0ms preprocess, 95.2ms inference, 1.1ms postprocess per image at shape (1, 3, 416, 416)\n",
      "\n",
      "\n",
      "0: 416x416 (no detections), 94.7ms\n",
      "Speed: 4.5ms preprocess, 94.7ms inference, 1.0ms postprocess per image at shape (1, 3, 416, 416)\n",
      "0: 416x416 1 Speed Limit 30, 94.1ms\n",
      "Speed: 3.0ms preprocess, 94.1ms inference, 8.6ms postprocess per image at shape (1, 3, 416, 416)\n",
      "\n",
      "0: 416x416 (no detections), 83.8ms\n",
      "Speed: 3.0ms preprocess, 83.8ms inference, 1.0ms postprocess per image at shape (1, 3, 416, 416)\n",
      "\n",
      "\n",
      "0: 416x416 (no detections), 93.0ms\n",
      "Speed: 1.6ms preprocess, 93.0ms inference, 0.5ms postprocess per image at shape (1, 3, 416, 416)\n",
      "\n",
      "0: 416x416 1 Speed Limit 30, 94.6ms\n",
      "Speed: 2.0ms preprocess, 94.6ms inference, 1.0ms postprocess per image at shape (1, 3, 416, 416)\n",
      "0: 416x416 (no detections), 82.9ms\n",
      "Speed: 3.0ms preprocess, 82.9ms inference, 1.0ms postprocess per image at shape (1, 3, 416, 416)\n",
      "\n",
      "0: 416x416 (no detections), 79.9ms\n",
      "Speed: 2.0ms preprocess, 79.9ms inference, 1.0ms postprocess per image at shape (1, 3, 416, 416)\n",
      "\n",
      "\n",
      "0: 416x416 1 Speed Limit 30, 94.1ms\n",
      "Speed: 2.2ms preprocess, 94.1ms inference, 1.3ms postprocess per image at shape (1, 3, 416, 416)\n",
      "0: 416x416 (no detections), 81.8ms\n",
      "Speed: 2.0ms preprocess, 81.8ms inference, 1.5ms postprocess per image at shape (1, 3, 416, 416)\n",
      "\n",
      "0: 416x416 (no detections), 82.5ms\n",
      "Speed: 1.0ms preprocess, 82.5ms inference, 0.5ms postprocess per image at shape (1, 3, 416, 416)\n",
      "\n",
      "\n",
      "0: 416x416 1 Speed Limit 30, 91.8ms\n",
      "Speed: 2.0ms preprocess, 91.8ms inference, 1.0ms postprocess per image at shape (1, 3, 416, 416)\n",
      "0: 416x416 (no detections), 84.1ms\n",
      "Speed: 2.0ms preprocess, 84.1ms inference, 1.0ms postprocess per image at shape (1, 3, 416, 416)\n",
      "\n",
      "0: 416x416 (no detections), 78.9ms\n",
      "Speed: 2.0ms preprocess, 78.9ms inference, 1.0ms postprocess per image at shape (1, 3, 416, 416)\n",
      "\n",
      "\n",
      "0: 416x416 1 Speed Limit 30, 93.5ms\n",
      "Speed: 2.5ms preprocess, 93.5ms inference, 1.0ms postprocess per image at shape (1, 3, 416, 416)\n",
      "0: 416x416 (no detections), 83.3ms\n",
      "Speed: 3.0ms preprocess, 83.3ms inference, 1.1ms postprocess per image at shape (1, 3, 416, 416)\n",
      "\n",
      "0: 416x416 (no detections), 80.1ms\n",
      "Speed: 2.0ms preprocess, 80.1ms inference, 1.6ms postprocess per image at shape (1, 3, 416, 416)\n",
      "\n",
      "\n",
      "0: 416x416 1 Speed Limit 30, 96.2ms\n",
      "Speed: 1.0ms preprocess, 96.2ms inference, 1.0ms postprocess per image at shape (1, 3, 416, 416)\n",
      "0: 416x416 (no detections), 84.9ms\n",
      "Speed: 2.6ms preprocess, 84.9ms inference, 1.0ms postprocess per image at shape (1, 3, 416, 416)\n",
      "\n",
      "0: 416x416 (no detections), 80.3ms\n",
      "Speed: 2.0ms preprocess, 80.3ms inference, 0.0ms postprocess per image at shape (1, 3, 416, 416)\n",
      "\n"
     ]
    },
    {
     "name": "stdout",
     "output_type": "stream",
     "text": [
      "0.91348004\n"
     ]
    },
    {
     "name": "stderr",
     "output_type": "stream",
     "text": [
      "\n",
      "0: 416x416 1 Speed Limit 30, 93.5ms\n",
      "Speed: 2.0ms preprocess, 93.5ms inference, 1.0ms postprocess per image at shape (1, 3, 416, 416)\n",
      "0: 416x416 (no detections), 90.3ms\n",
      "Speed: 2.0ms preprocess, 90.3ms inference, 1.0ms postprocess per image at shape (1, 3, 416, 416)\n",
      "\n",
      "0: 416x416 (no detections), 82.2ms\n",
      "Speed: 3.0ms preprocess, 82.2ms inference, 0.0ms postprocess per image at shape (1, 3, 416, 416)\n",
      "\n"
     ]
    },
    {
     "name": "stdout",
     "output_type": "stream",
     "text": [
      "0.9167967\n"
     ]
    },
    {
     "name": "stderr",
     "output_type": "stream",
     "text": [
      "\n",
      "0: 416x416 (no detections), 104.7ms\n",
      "Speed: 2.0ms preprocess, 104.7ms inference, 0.0ms postprocess per image at shape (1, 3, 416, 416)\n",
      "\n",
      "0: 416x416 1 Speed Limit 30, 109.0ms\n",
      "Speed: 2.0ms preprocess, 109.0ms inference, 1.0ms postprocess per image at shape (1, 3, 416, 416)\n",
      "0: 416x416 (no detections), 80.9ms\n",
      "Speed: 2.0ms preprocess, 80.9ms inference, 1.0ms postprocess per image at shape (1, 3, 416, 416)\n",
      "\n",
      "\n",
      "0: 416x416 (no detections), 82.8ms\n"
     ]
    },
    {
     "name": "stdout",
     "output_type": "stream",
     "text": [
      "0.89756286\n"
     ]
    },
    {
     "name": "stderr",
     "output_type": "stream",
     "text": [
      "Speed: 2.0ms preprocess, 82.8ms inference, 4.0ms postprocess per image at shape (1, 3, 416, 416)\n",
      "\n",
      "0: 416x416 1 Speed Limit 30, 91.1ms\n",
      "Speed: 3.0ms preprocess, 91.1ms inference, 1.0ms postprocess per image at shape (1, 3, 416, 416)\n",
      "0: 416x416 (no detections), 85.7ms\n",
      "Speed: 2.0ms preprocess, 85.7ms inference, 1.0ms postprocess per image at shape (1, 3, 416, 416)\n",
      "\n",
      "0: 416x416 (no detections), 83.4ms\n",
      "Speed: 2.4ms preprocess, 83.4ms inference, 1.0ms postprocess per image at shape (1, 3, 416, 416)\n",
      "\n",
      "\n",
      "0: 416x416 (no detections), 87.7ms\n",
      "Speed: 2.0ms preprocess, 87.7ms inference, 1.0ms postprocess per image at shape (1, 3, 416, 416)\n",
      "\n",
      "0: 416x416 (no detections), 94.8ms\n",
      "Speed: 2.0ms preprocess, 94.8ms inference, 1.0ms postprocess per image at shape (1, 3, 416, 416)\n",
      "0: 416x416 (no detections), 84.6ms\n",
      "Speed: 2.0ms preprocess, 84.6ms inference, 1.0ms postprocess per image at shape (1, 3, 416, 416)\n",
      "\n",
      "0: 416x416 (no detections), 81.3ms\n",
      "Speed: 1.0ms preprocess, 81.3ms inference, 1.2ms postprocess per image at shape (1, 3, 416, 416)\n",
      "\n",
      "\n",
      "0: 416x416 (no detections), 95.8ms\n",
      "Speed: 5.5ms preprocess, 95.8ms inference, 1.3ms postprocess per image at shape (1, 3, 416, 416)\n",
      "0: 416x416 (no detections), 98.1ms\n",
      "Speed: 1.0ms preprocess, 98.1ms inference, 4.0ms postprocess per image at shape (1, 3, 416, 416)\n",
      "\n",
      "0: 416x416 (no detections), 80.9ms\n",
      "Speed: 1.6ms preprocess, 80.9ms inference, 0.0ms postprocess per image at shape (1, 3, 416, 416)\n",
      "\n",
      "\n",
      "0: 416x416 (no detections), 88.0ms\n",
      "Speed: 3.0ms preprocess, 88.0ms inference, 1.0ms postprocess per image at shape (1, 3, 416, 416)\n",
      "\n",
      "0: 416x416 (no detections), 94.2ms\n",
      "Speed: 1.5ms preprocess, 94.2ms inference, 1.0ms postprocess per image at shape (1, 3, 416, 416)\n",
      "0: 416x416 (no detections), 81.1ms\n",
      "Speed: 2.0ms preprocess, 81.1ms inference, 1.0ms postprocess per image at shape (1, 3, 416, 416)\n",
      "\n",
      "0: 416x416 (no detections), 77.5ms\n",
      "Speed: 2.0ms preprocess, 77.5ms inference, 1.0ms postprocess per image at shape (1, 3, 416, 416)\n",
      "\n",
      "\n",
      "0: 416x416 (no detections), 89.2ms\n",
      "Speed: 2.0ms preprocess, 89.2ms inference, 0.0ms postprocess per image at shape (1, 3, 416, 416)\n",
      "0: 416x416 (no detections), 82.1ms\n",
      "Speed: 2.0ms preprocess, 82.1ms inference, 0.0ms postprocess per image at shape (1, 3, 416, 416)\n",
      "\n",
      "\n",
      "0: 416x416 (no detections), 90.0ms\n",
      "Speed: 3.0ms preprocess, 90.0ms inference, 0.0ms postprocess per image at shape (1, 3, 416, 416)\n",
      "\n",
      "0: 416x416 (no detections), 94.3ms\n",
      "Speed: 1.0ms preprocess, 94.3ms inference, 1.0ms postprocess per image at shape (1, 3, 416, 416)\n",
      "0: 416x416 (no detections), 85.1ms\n",
      "Speed: 2.1ms preprocess, 85.1ms inference, 0.0ms postprocess per image at shape (1, 3, 416, 416)\n",
      "\n",
      "0: 416x416 (no detections), 82.8ms\n",
      "Speed: 2.0ms preprocess, 82.8ms inference, 1.0ms postprocess per image at shape (1, 3, 416, 416)\n",
      "\n",
      "\n",
      "0: 416x416 (no detections), 99.0ms\n",
      "Speed: 3.0ms preprocess, 99.0ms inference, 1.0ms postprocess per image at shape (1, 3, 416, 416)\n",
      "0: 416x416 (no detections), 105.2ms\n",
      "Speed: 4.9ms preprocess, 105.2ms inference, 2.4ms postprocess per image at shape (1, 3, 416, 416)\n",
      "\n",
      "0: 416x416 (no detections), 75.2ms\n",
      "Speed: 2.0ms preprocess, 75.2ms inference, 0.0ms postprocess per image at shape (1, 3, 416, 416)\n",
      "\n",
      "\n",
      "0: 416x416 (no detections), 91.2ms\n",
      "Speed: 2.0ms preprocess, 91.2ms inference, 1.0ms postprocess per image at shape (1, 3, 416, 416)\n",
      "0: 416x416 (no detections), 83.6ms\n",
      "Speed: 2.0ms preprocess, 83.6ms inference, 0.0ms postprocess per image at shape (1, 3, 416, 416)\n",
      "\n",
      "0: 416x416 (no detections), 75.8ms\n",
      "Speed: 2.5ms preprocess, 75.8ms inference, 1.0ms postprocess per image at shape (1, 3, 416, 416)\n",
      "\n",
      "\n",
      "0: 416x416 (no detections), 87.7ms\n",
      "Speed: 2.0ms preprocess, 87.7ms inference, 0.0ms postprocess per image at shape (1, 3, 416, 416)\n",
      "0: 416x416 (no detections), 81.9ms\n",
      "Speed: 2.0ms preprocess, 81.9ms inference, 1.0ms postprocess per image at shape (1, 3, 416, 416)\n",
      "\n",
      "0: 416x416 (no detections), 78.8ms\n",
      "Speed: 2.0ms preprocess, 78.8ms inference, 1.0ms postprocess per image at shape (1, 3, 416, 416)\n",
      "\n",
      "\n",
      "0: 416x416 (no detections), 86.1ms\n",
      "Speed: 1.0ms preprocess, 86.1ms inference, 1.4ms postprocess per image at shape (1, 3, 416, 416)\n",
      "0: 416x416 (no detections), 80.9ms\n",
      "Speed: 2.0ms preprocess, 80.9ms inference, 1.0ms postprocess per image at shape (1, 3, 416, 416)\n",
      "\n",
      "\n",
      "0: 416x416 (no detections), 84.8ms\n",
      "Speed: 3.5ms preprocess, 84.8ms inference, 1.0ms postprocess per image at shape (1, 3, 416, 416)\n",
      "\n",
      "0: 416x416 (no detections), 87.0ms\n",
      "Speed: 2.0ms preprocess, 87.0ms inference, 1.0ms postprocess per image at shape (1, 3, 416, 416)\n",
      "0: 416x416 (no detections), 77.5ms\n",
      "Speed: 2.0ms preprocess, 77.5ms inference, 1.0ms postprocess per image at shape (1, 3, 416, 416)\n",
      "\n",
      "\n",
      "0: 416x416 (no detections), 90.5ms\n",
      "Speed: 2.0ms preprocess, 90.5ms inference, 1.0ms postprocess per image at shape (1, 3, 416, 416)\n",
      "\n",
      "0: 416x416 (no detections), 89.6ms\n",
      "Speed: 2.4ms preprocess, 89.6ms inference, 1.0ms postprocess per image at shape (1, 3, 416, 416)\n",
      "0: 416x416 (no detections), 77.9ms\n",
      "Speed: 2.0ms preprocess, 77.9ms inference, 1.0ms postprocess per image at shape (1, 3, 416, 416)\n",
      "\n",
      "\n",
      "0: 416x416 (no detections), 89.8ms\n",
      "Speed: 2.0ms preprocess, 89.8ms inference, 0.0ms postprocess per image at shape (1, 3, 416, 416)\n",
      "\n",
      "0: 416x416 (no detections), 92.5ms\n",
      "Speed: 1.0ms preprocess, 92.5ms inference, 1.0ms postprocess per image at shape (1, 3, 416, 416)\n",
      "0: 416x416 (no detections), 79.4ms\n",
      "Speed: 2.5ms preprocess, 79.4ms inference, 1.0ms postprocess per image at shape (1, 3, 416, 416)\n",
      "\n",
      "\n",
      "0: 416x416 (no detections), 90.2ms\n",
      "Speed: 1.5ms preprocess, 90.2ms inference, 0.9ms postprocess per image at shape (1, 3, 416, 416)\n",
      "\n",
      "0: 416x416 (no detections), 95.1ms\n",
      "Speed: 1.0ms preprocess, 95.1ms inference, 1.0ms postprocess per image at shape (1, 3, 416, 416)\n",
      "0: 416x416 (no detections), 80.2ms\n",
      "Speed: 3.1ms preprocess, 80.2ms inference, 1.0ms postprocess per image at shape (1, 3, 416, 416)\n",
      "\n",
      "0: 416x416 (no detections), 78.8ms\n",
      "Speed: 2.5ms preprocess, 78.8ms inference, 1.0ms postprocess per image at shape (1, 3, 416, 416)\n",
      "\n",
      "\n",
      "0: 416x416 (no detections), 100.6ms\n",
      "Speed: 2.0ms preprocess, 100.6ms inference, 0.0ms postprocess per image at shape (1, 3, 416, 416)\n",
      "0: 416x416 (no detections), 84.5ms\n",
      "Speed: 3.0ms preprocess, 84.5ms inference, 1.5ms postprocess per image at shape (1, 3, 416, 416)\n",
      "\n",
      "0: 416x416 (no detections), 77.3ms\n",
      "Speed: 2.0ms preprocess, 77.3ms inference, 0.0ms postprocess per image at shape (1, 3, 416, 416)\n",
      "\n",
      "\n",
      "0: 416x416 (no detections), 87.3ms\n",
      "Speed: 3.0ms preprocess, 87.3ms inference, 1.0ms postprocess per image at shape (1, 3, 416, 416)\n",
      "0: 416x416 (no detections), 81.0ms\n",
      "Speed: 2.0ms preprocess, 81.0ms inference, 1.0ms postprocess per image at shape (1, 3, 416, 416)\n",
      "\n",
      "0: 416x416 (no detections), 78.2ms\n",
      "Speed: 2.0ms preprocess, 78.2ms inference, 1.0ms postprocess per image at shape (1, 3, 416, 416)\n",
      "\n",
      "\n",
      "0: 416x416 (no detections), 90.3ms\n",
      "Speed: 2.5ms preprocess, 90.3ms inference, 1.0ms postprocess per image at shape (1, 3, 416, 416)\n",
      "0: 416x416 (no detections), 82.3ms\n",
      "Speed: 3.0ms preprocess, 82.3ms inference, 1.0ms postprocess per image at shape (1, 3, 416, 416)\n",
      "\n",
      "0: 416x416 (no detections), 75.6ms\n",
      "Speed: 1.8ms preprocess, 75.6ms inference, 1.0ms postprocess per image at shape (1, 3, 416, 416)\n",
      "\n",
      "\n",
      "0: 416x416 (no detections), 87.1ms\n",
      "Speed: 2.0ms preprocess, 87.1ms inference, 1.0ms postprocess per image at shape (1, 3, 416, 416)\n",
      "0: 416x416 (no detections), 80.7ms\n",
      "Speed: 2.5ms preprocess, 80.7ms inference, 1.0ms postprocess per image at shape (1, 3, 416, 416)\n",
      "\n",
      "\n",
      "0: 416x416 (no detections), 85.0ms\n",
      "Speed: 2.0ms preprocess, 85.0ms inference, 1.0ms postprocess per image at shape (1, 3, 416, 416)\n",
      "\n",
      "0: 416x416 (no detections), 86.5ms\n",
      "Speed: 2.0ms preprocess, 86.5ms inference, 1.0ms postprocess per image at shape (1, 3, 416, 416)\n",
      "0: 416x416 (no detections), 77.6ms\n",
      "Speed: 1.0ms preprocess, 77.6ms inference, 0.0ms postprocess per image at shape (1, 3, 416, 416)\n",
      "\n",
      "\n",
      "0: 416x416 (no detections), 81.8ms\n",
      "Speed: 2.0ms preprocess, 81.8ms inference, 1.0ms postprocess per image at shape (1, 3, 416, 416)\n",
      "\n",
      "0: 416x416 (no detections), 86.0ms\n",
      "Speed: 2.0ms preprocess, 86.0ms inference, 1.0ms postprocess per image at shape (1, 3, 416, 416)\n",
      "0: 416x416 (no detections), 77.8ms\n",
      "Speed: 2.0ms preprocess, 77.8ms inference, 0.9ms postprocess per image at shape (1, 3, 416, 416)\n",
      "\n",
      "\n",
      "0: 416x416 (no detections), 82.8ms\n",
      "Speed: 3.0ms preprocess, 82.8ms inference, 2.1ms postprocess per image at shape (1, 3, 416, 416)\n",
      "\n",
      "0: 416x416 (no detections), 86.3ms\n",
      "Speed: 3.0ms preprocess, 86.3ms inference, 0.0ms postprocess per image at shape (1, 3, 416, 416)\n",
      "0: 416x416 (no detections), 77.9ms\n",
      "Speed: 2.5ms preprocess, 77.9ms inference, 0.0ms postprocess per image at shape (1, 3, 416, 416)\n",
      "\n",
      "\n",
      "0: 416x416 (no detections), 82.7ms\n",
      "Speed: 2.0ms preprocess, 82.7ms inference, 0.5ms postprocess per image at shape (1, 3, 416, 416)\n",
      "\n",
      "0: 416x416 (no detections), 83.1ms\n",
      "Speed: 2.0ms preprocess, 83.1ms inference, 1.0ms postprocess per image at shape (1, 3, 416, 416)\n",
      "0: 416x416 (no detections), 75.0ms\n",
      "Speed: 1.0ms preprocess, 75.0ms inference, 0.0ms postprocess per image at shape (1, 3, 416, 416)\n",
      "\n",
      "\n",
      "0: 416x416 (no detections), 87.4ms\n",
      "Speed: 3.0ms preprocess, 87.4ms inference, 1.0ms postprocess per image at shape (1, 3, 416, 416)\n",
      "\n",
      "0: 416x416 (no detections), 83.1ms\n",
      "Speed: 2.0ms preprocess, 83.1ms inference, 1.0ms postprocess per image at shape (1, 3, 416, 416)\n",
      "0: 416x416 (no detections), 74.1ms\n",
      "Speed: 2.2ms preprocess, 74.1ms inference, 1.0ms postprocess per image at shape (1, 3, 416, 416)\n",
      "\n",
      "\n",
      "0: 416x416 (no detections), 84.5ms\n",
      "Speed: 2.0ms preprocess, 84.5ms inference, 0.0ms postprocess per image at shape (1, 3, 416, 416)\n",
      "\n",
      "0: 416x416 (no detections), 88.3ms\n",
      "Speed: 2.5ms preprocess, 88.3ms inference, 0.0ms postprocess per image at shape (1, 3, 416, 416)\n",
      "0: 416x416 (no detections), 76.8ms\n",
      "Speed: 2.0ms preprocess, 76.8ms inference, 1.0ms postprocess per image at shape (1, 3, 416, 416)\n",
      "\n",
      "\n",
      "0: 416x416 (no detections), 87.1ms\n",
      "Speed: 2.5ms preprocess, 87.1ms inference, 0.0ms postprocess per image at shape (1, 3, 416, 416)\n",
      "\n",
      "0: 416x416 (no detections), 87.1ms\n",
      "Speed: 2.0ms preprocess, 87.1ms inference, 1.0ms postprocess per image at shape (1, 3, 416, 416)\n",
      "0: 416x416 (no detections), 79.6ms\n",
      "Speed: 2.0ms preprocess, 79.6ms inference, 0.0ms postprocess per image at shape (1, 3, 416, 416)\n",
      "\n",
      "\n",
      "0: 416x416 (no detections), 84.0ms\n",
      "Speed: 2.0ms preprocess, 84.0ms inference, 1.0ms postprocess per image at shape (1, 3, 416, 416)\n",
      "\n",
      "0: 416x416 (no detections), 96.2ms\n",
      "Speed: 2.0ms preprocess, 96.2ms inference, 1.0ms postprocess per image at shape (1, 3, 416, 416)\n",
      "0: 416x416 (no detections), 93.9ms\n",
      "Speed: 2.7ms preprocess, 93.9ms inference, 1.1ms postprocess per image at shape (1, 3, 416, 416)\n",
      "\n",
      "0: 416x416 (no detections), 72.7ms\n",
      "Speed: 3.3ms preprocess, 72.7ms inference, 0.0ms postprocess per image at shape (1, 3, 416, 416)\n",
      "\n",
      "\n",
      "0: 416x416 (no detections), 82.7ms\n",
      "Speed: 1.7ms preprocess, 82.7ms inference, 1.0ms postprocess per image at shape (1, 3, 416, 416)\n",
      "0: 416x416 (no detections), 79.7ms\n",
      "Speed: 2.0ms preprocess, 79.7ms inference, 1.0ms postprocess per image at shape (1, 3, 416, 416)\n",
      "\n",
      "\n",
      "0: 416x416 (no detections), 80.3ms\n",
      "Speed: 2.0ms preprocess, 80.3ms inference, 1.0ms postprocess per image at shape (1, 3, 416, 416)\n",
      "0: 416x416 (no detections), 79.5ms\n",
      "Speed: 2.0ms preprocess, 79.5ms inference, 1.0ms postprocess per image at shape (1, 3, 416, 416)\n",
      "\n",
      "0: 416x416 (no detections), 74.1ms\n",
      "Speed: 3.0ms preprocess, 74.1ms inference, 0.0ms postprocess per image at shape (1, 3, 416, 416)\n",
      "\n",
      "\n",
      "0: 416x416 (no detections), 87.5ms\n",
      "Speed: 2.0ms preprocess, 87.5ms inference, 1.0ms postprocess per image at shape (1, 3, 416, 416)\n",
      "\n",
      "0: 416x416 (no detections), 85.7ms\n",
      "Speed: 1.6ms preprocess, 85.7ms inference, 1.0ms postprocess per image at shape (1, 3, 416, 416)\n",
      "0: 416x416 (no detections), 71.5ms\n",
      "Speed: 3.2ms preprocess, 71.5ms inference, 0.0ms postprocess per image at shape (1, 3, 416, 416)\n",
      "\n",
      "\n",
      "0: 416x416 (no detections), 84.7ms\n",
      "Speed: 2.0ms preprocess, 84.7ms inference, 1.0ms postprocess per image at shape (1, 3, 416, 416)\n",
      "\n",
      "0: 416x416 (no detections), 84.0ms\n",
      "Speed: 1.0ms preprocess, 84.0ms inference, 1.0ms postprocess per image at shape (1, 3, 416, 416)\n",
      "0: 416x416 (no detections), 76.0ms\n",
      "Speed: 2.0ms preprocess, 76.0ms inference, 1.0ms postprocess per image at shape (1, 3, 416, 416)\n",
      "\n",
      "\n",
      "0: 416x416 (no detections), 84.0ms\n",
      "Speed: 3.3ms preprocess, 84.0ms inference, 1.0ms postprocess per image at shape (1, 3, 416, 416)\n",
      "\n",
      "0: 416x416 (no detections), 83.5ms\n",
      "Speed: 2.0ms preprocess, 83.5ms inference, 1.0ms postprocess per image at shape (1, 3, 416, 416)\n",
      "0: 416x416 (no detections), 74.7ms\n",
      "Speed: 2.0ms preprocess, 74.7ms inference, 1.0ms postprocess per image at shape (1, 3, 416, 416)\n",
      "\n",
      "\n",
      "0: 416x416 (no detections), 86.3ms\n",
      "Speed: 2.3ms preprocess, 86.3ms inference, 0.0ms postprocess per image at shape (1, 3, 416, 416)\n",
      "\n",
      "0: 416x416 (no detections), 86.8ms\n",
      "Speed: 2.0ms preprocess, 86.8ms inference, 0.0ms postprocess per image at shape (1, 3, 416, 416)\n",
      "0: 416x416 (no detections), 76.6ms\n",
      "Speed: 3.0ms preprocess, 76.6ms inference, 1.0ms postprocess per image at shape (1, 3, 416, 416)\n",
      "\n",
      "\n",
      "0: 416x416 (no detections), 89.6ms\n",
      "Speed: 1.5ms preprocess, 89.6ms inference, 1.0ms postprocess per image at shape (1, 3, 416, 416)\n",
      "\n",
      "0: 416x416 (no detections), 86.1ms\n",
      "Speed: 2.0ms preprocess, 86.1ms inference, 0.0ms postprocess per image at shape (1, 3, 416, 416)\n",
      "0: 416x416 (no detections), 76.4ms\n",
      "Speed: 1.5ms preprocess, 76.4ms inference, 0.0ms postprocess per image at shape (1, 3, 416, 416)\n",
      "\n",
      "\n",
      "0: 416x416 (no detections), 84.2ms\n",
      "Speed: 2.0ms preprocess, 84.2ms inference, 1.0ms postprocess per image at shape (1, 3, 416, 416)\n",
      "\n",
      "0: 416x416 (no detections), 87.2ms\n",
      "Speed: 1.6ms preprocess, 87.2ms inference, 1.0ms postprocess per image at shape (1, 3, 416, 416)\n",
      "0: 416x416 (no detections), 75.5ms\n",
      "Speed: 2.0ms preprocess, 75.5ms inference, 0.0ms postprocess per image at shape (1, 3, 416, 416)\n",
      "\n",
      "\n",
      "0: 416x416 (no detections), 86.0ms\n",
      "Speed: 2.0ms preprocess, 86.0ms inference, 0.0ms postprocess per image at shape (1, 3, 416, 416)\n",
      "\n",
      "0: 416x416 (no detections), 83.6ms\n",
      "Speed: 1.5ms preprocess, 83.6ms inference, 1.0ms postprocess per image at shape (1, 3, 416, 416)\n",
      "0: 416x416 (no detections), 74.6ms\n",
      "Speed: 2.1ms preprocess, 74.6ms inference, 0.0ms postprocess per image at shape (1, 3, 416, 416)\n",
      "\n",
      "\n",
      "0: 416x416 (no detections), 83.0ms\n",
      "Speed: 2.0ms preprocess, 83.0ms inference, 0.0ms postprocess per image at shape (1, 3, 416, 416)\n",
      "\n",
      "0: 416x416 (no detections), 85.0ms\n",
      "Speed: 1.0ms preprocess, 85.0ms inference, 1.0ms postprocess per image at shape (1, 3, 416, 416)\n",
      "0: 416x416 (no detections), 75.8ms\n",
      "Speed: 2.0ms preprocess, 75.8ms inference, 1.0ms postprocess per image at shape (1, 3, 416, 416)\n",
      "\n",
      "\n",
      "0: 416x416 (no detections), 85.0ms\n",
      "Speed: 2.0ms preprocess, 85.0ms inference, 0.0ms postprocess per image at shape (1, 3, 416, 416)\n",
      "\n",
      "0: 416x416 (no detections), 85.6ms\n",
      "Speed: 2.0ms preprocess, 85.6ms inference, 1.0ms postprocess per image at shape (1, 3, 416, 416)\n",
      "0: 416x416 (no detections), 76.0ms\n",
      "Speed: 2.0ms preprocess, 76.0ms inference, 0.0ms postprocess per image at shape (1, 3, 416, 416)\n",
      "\n",
      "\n",
      "0: 416x416 (no detections), 89.9ms\n",
      "Speed: 2.0ms preprocess, 89.9ms inference, 1.0ms postprocess per image at shape (1, 3, 416, 416)\n",
      "\n",
      "0: 416x416 (no detections), 98.2ms\n",
      "Speed: 1.0ms preprocess, 98.2ms inference, 1.0ms postprocess per image at shape (1, 3, 416, 416)\n",
      "0: 416x416 (no detections), 79.7ms\n",
      "Speed: 2.0ms preprocess, 79.7ms inference, 1.0ms postprocess per image at shape (1, 3, 416, 416)\n",
      "\n",
      "\n",
      "0: 416x416 (no detections), 84.2ms\n",
      "Speed: 2.0ms preprocess, 84.2ms inference, 0.0ms postprocess per image at shape (1, 3, 416, 416)\n",
      "\n",
      "0: 416x416 (no detections), 85.5ms\n",
      "Speed: 1.0ms preprocess, 85.5ms inference, 1.0ms postprocess per image at shape (1, 3, 416, 416)\n",
      "0: 416x416 (no detections), 74.9ms\n",
      "Speed: 1.0ms preprocess, 74.9ms inference, 1.0ms postprocess per image at shape (1, 3, 416, 416)\n",
      "\n",
      "\n",
      "0: 416x416 (no detections), 86.5ms\n",
      "Speed: 2.3ms preprocess, 86.5ms inference, 0.0ms postprocess per image at shape (1, 3, 416, 416)\n",
      "\n",
      "0: 416x416 (no detections), 87.4ms\n",
      "Speed: 2.5ms preprocess, 87.4ms inference, 1.0ms postprocess per image at shape (1, 3, 416, 416)\n",
      "0: 416x416 (no detections), 77.3ms\n",
      "Speed: 2.0ms preprocess, 77.3ms inference, 1.6ms postprocess per image at shape (1, 3, 416, 416)\n",
      "\n",
      "\n",
      "0: 416x416 (no detections), 84.9ms\n",
      "Speed: 2.0ms preprocess, 84.9ms inference, 1.0ms postprocess per image at shape (1, 3, 416, 416)\n",
      "\n",
      "0: 416x416 (no detections), 81.8ms\n",
      "Speed: 2.0ms preprocess, 81.8ms inference, 1.0ms postprocess per image at shape (1, 3, 416, 416)\n",
      "0: 416x416 (no detections), 76.2ms\n",
      "Speed: 1.6ms preprocess, 76.2ms inference, 0.0ms postprocess per image at shape (1, 3, 416, 416)\n",
      "\n",
      "\n",
      "0: 416x416 (no detections), 84.5ms\n",
      "Speed: 2.1ms preprocess, 84.5ms inference, 0.0ms postprocess per image at shape (1, 3, 416, 416)\n",
      "\n",
      "0: 416x416 (no detections), 83.7ms\n",
      "Speed: 2.0ms preprocess, 83.7ms inference, 1.0ms postprocess per image at shape (1, 3, 416, 416)\n",
      "0: 416x416 (no detections), 74.7ms\n",
      "Speed: 2.0ms preprocess, 74.7ms inference, 1.0ms postprocess per image at shape (1, 3, 416, 416)\n",
      "\n",
      "\n",
      "0: 416x416 (no detections), 84.4ms\n",
      "Speed: 2.6ms preprocess, 84.4ms inference, 1.0ms postprocess per image at shape (1, 3, 416, 416)\n",
      "\n",
      "0: 416x416 (no detections), 86.1ms\n",
      "Speed: 2.2ms preprocess, 86.1ms inference, 1.0ms postprocess per image at shape (1, 3, 416, 416)\n",
      "0: 416x416 (no detections), 75.5ms\n",
      "Speed: 2.5ms preprocess, 75.5ms inference, 0.0ms postprocess per image at shape (1, 3, 416, 416)\n",
      "\n",
      "\n",
      "0: 416x416 (no detections), 83.2ms\n",
      "Speed: 2.0ms preprocess, 83.2ms inference, 1.0ms postprocess per image at shape (1, 3, 416, 416)\n",
      "\n",
      "0: 416x416 (no detections), 86.0ms\n",
      "Speed: 2.0ms preprocess, 86.0ms inference, 1.0ms postprocess per image at shape (1, 3, 416, 416)\n",
      "0: 416x416 (no detections), 77.7ms\n",
      "Speed: 2.0ms preprocess, 77.7ms inference, 1.0ms postprocess per image at shape (1, 3, 416, 416)\n",
      "\n",
      "\n",
      "0: 416x416 (no detections), 86.0ms\n",
      "Speed: 1.5ms preprocess, 86.0ms inference, 0.0ms postprocess per image at shape (1, 3, 416, 416)\n",
      "\n",
      "0: 416x416 (no detections), 85.7ms\n",
      "Speed: 2.0ms preprocess, 85.7ms inference, 1.1ms postprocess per image at shape (1, 3, 416, 416)\n",
      "0: 416x416 (no detections), 84.5ms\n",
      "Speed: 2.0ms preprocess, 84.5ms inference, 0.5ms postprocess per image at shape (1, 3, 416, 416)\n",
      "\n",
      "0: 416x416 (no detections), 73.0ms\n",
      "Speed: 2.5ms preprocess, 73.0ms inference, 1.0ms postprocess per image at shape (1, 3, 416, 416)\n",
      "\n",
      "\n",
      "0: 416x416 (no detections), 86.5ms\n",
      "Speed: 1.5ms preprocess, 86.5ms inference, 1.0ms postprocess per image at shape (1, 3, 416, 416)\n",
      "0: 416x416 (no detections), 77.6ms\n",
      "Speed: 2.0ms preprocess, 77.6ms inference, 1.5ms postprocess per image at shape (1, 3, 416, 416)\n",
      "\n",
      "\n",
      "0: 416x416 (no detections), 85.1ms\n",
      "Speed: 3.0ms preprocess, 85.1ms inference, 1.1ms postprocess per image at shape (1, 3, 416, 416)\n",
      "\n",
      "0: 416x416 (no detections), 86.0ms\n",
      "Speed: 2.0ms preprocess, 86.0ms inference, 1.0ms postprocess per image at shape (1, 3, 416, 416)\n",
      "0: 416x416 (no detections), 76.0ms\n",
      "Speed: 3.0ms preprocess, 76.0ms inference, 0.0ms postprocess per image at shape (1, 3, 416, 416)\n",
      "\n",
      "\n",
      "0: 416x416 (no detections), 86.7ms\n",
      "Speed: 3.0ms preprocess, 86.7ms inference, 1.0ms postprocess per image at shape (1, 3, 416, 416)\n",
      "\n",
      "0: 416x416 (no detections), 88.2ms\n",
      "Speed: 2.0ms preprocess, 88.2ms inference, 1.0ms postprocess per image at shape (1, 3, 416, 416)\n",
      "0: 416x416 (no detections), 75.4ms\n",
      "Speed: 2.0ms preprocess, 75.4ms inference, 0.0ms postprocess per image at shape (1, 3, 416, 416)\n",
      "\n",
      "\n",
      "0: 416x416 (no detections), 85.0ms\n",
      "Speed: 2.0ms preprocess, 85.0ms inference, 1.0ms postprocess per image at shape (1, 3, 416, 416)\n",
      "\n",
      "0: 416x416 (no detections), 85.8ms\n",
      "Speed: 1.0ms preprocess, 85.8ms inference, 1.0ms postprocess per image at shape (1, 3, 416, 416)\n",
      "0: 416x416 (no detections), 74.9ms\n",
      "Speed: 2.0ms preprocess, 74.9ms inference, 1.0ms postprocess per image at shape (1, 3, 416, 416)\n",
      "\n",
      "\n",
      "0: 416x416 (no detections), 85.4ms\n",
      "Speed: 2.0ms preprocess, 85.4ms inference, 0.0ms postprocess per image at shape (1, 3, 416, 416)\n",
      "\n",
      "0: 416x416 (no detections), 85.1ms\n",
      "Speed: 2.0ms preprocess, 85.1ms inference, 1.0ms postprocess per image at shape (1, 3, 416, 416)\n",
      "0: 416x416 (no detections), 74.1ms\n",
      "Speed: 2.0ms preprocess, 74.1ms inference, 0.0ms postprocess per image at shape (1, 3, 416, 416)\n",
      "\n",
      "\n",
      "0: 416x416 (no detections), 84.0ms\n",
      "Speed: 2.0ms preprocess, 84.0ms inference, 1.0ms postprocess per image at shape (1, 3, 416, 416)\n",
      "\n",
      "0: 416x416 (no detections), 84.7ms\n",
      "Speed: 2.0ms preprocess, 84.7ms inference, 0.0ms postprocess per image at shape (1, 3, 416, 416)\n",
      "0: 416x416 (no detections), 75.9ms\n",
      "Speed: 1.0ms preprocess, 75.9ms inference, 0.6ms postprocess per image at shape (1, 3, 416, 416)\n",
      "\n",
      "\n",
      "0: 416x416 (no detections), 89.1ms\n",
      "Speed: 2.0ms preprocess, 89.1ms inference, 1.0ms postprocess per image at shape (1, 3, 416, 416)\n",
      "\n",
      "0: 416x416 (no detections), 86.8ms\n",
      "Speed: 2.0ms preprocess, 86.8ms inference, 1.0ms postprocess per image at shape (1, 3, 416, 416)\n",
      "0: 416x416 (no detections), 73.5ms\n",
      "Speed: 2.0ms preprocess, 73.5ms inference, 0.0ms postprocess per image at shape (1, 3, 416, 416)\n",
      "\n",
      "\n",
      "0: 416x416 (no detections), 87.4ms\n",
      "Speed: 2.0ms preprocess, 87.4ms inference, 1.0ms postprocess per image at shape (1, 3, 416, 416)\n",
      "\n",
      "0: 416x416 (no detections), 82.4ms\n",
      "Speed: 2.0ms preprocess, 82.4ms inference, 0.0ms postprocess per image at shape (1, 3, 416, 416)\n",
      "0: 416x416 (no detections), 72.9ms\n",
      "Speed: 2.0ms preprocess, 72.9ms inference, 0.0ms postprocess per image at shape (1, 3, 416, 416)\n",
      "\n",
      "\n",
      "0: 416x416 (no detections), 84.9ms\n",
      "Speed: 2.0ms preprocess, 84.9ms inference, 1.0ms postprocess per image at shape (1, 3, 416, 416)\n",
      "\n",
      "0: 416x416 (no detections), 86.7ms\n",
      "Speed: 2.0ms preprocess, 86.7ms inference, 0.0ms postprocess per image at shape (1, 3, 416, 416)\n",
      "0: 416x416 (no detections), 74.3ms\n",
      "Speed: 2.0ms preprocess, 74.3ms inference, 0.0ms postprocess per image at shape (1, 3, 416, 416)\n",
      "\n",
      "\n",
      "0: 416x416 (no detections), 83.1ms\n",
      "Speed: 1.0ms preprocess, 83.1ms inference, 1.1ms postprocess per image at shape (1, 3, 416, 416)\n",
      "\n",
      "0: 416x416 (no detections), 83.3ms\n",
      "Speed: 2.0ms preprocess, 83.3ms inference, 0.0ms postprocess per image at shape (1, 3, 416, 416)\n",
      "0: 416x416 (no detections), 78.2ms\n",
      "Speed: 2.0ms preprocess, 78.2ms inference, 1.2ms postprocess per image at shape (1, 3, 416, 416)\n",
      "\n",
      "\n",
      "0: 416x416 (no detections), 86.9ms\n",
      "Speed: 2.0ms preprocess, 86.9ms inference, 1.0ms postprocess per image at shape (1, 3, 416, 416)\n",
      "\n",
      "0: 416x416 (no detections), 83.9ms\n",
      "Speed: 1.0ms preprocess, 83.9ms inference, 1.0ms postprocess per image at shape (1, 3, 416, 416)\n",
      "0: 416x416 (no detections), 74.0ms\n",
      "Speed: 2.5ms preprocess, 74.0ms inference, 1.0ms postprocess per image at shape (1, 3, 416, 416)\n",
      "\n",
      "\n",
      "0: 416x416 (no detections), 85.6ms\n",
      "Speed: 2.0ms preprocess, 85.6ms inference, 0.9ms postprocess per image at shape (1, 3, 416, 416)\n",
      "\n",
      "0: 416x416 (no detections), 85.3ms\n",
      "Speed: 2.0ms preprocess, 85.3ms inference, 1.0ms postprocess per image at shape (1, 3, 416, 416)\n",
      "0: 416x416 (no detections), 75.3ms\n",
      "Speed: 2.0ms preprocess, 75.3ms inference, 1.0ms postprocess per image at shape (1, 3, 416, 416)\n",
      "\n",
      "\n",
      "0: 416x416 (no detections), 87.0ms\n",
      "Speed: 2.0ms preprocess, 87.0ms inference, 0.0ms postprocess per image at shape (1, 3, 416, 416)\n",
      "\n",
      "0: 416x416 (no detections), 84.0ms\n",
      "Speed: 2.0ms preprocess, 84.0ms inference, 0.0ms postprocess per image at shape (1, 3, 416, 416)\n",
      "0: 416x416 (no detections), 75.7ms\n",
      "Speed: 2.0ms preprocess, 75.7ms inference, 1.0ms postprocess per image at shape (1, 3, 416, 416)\n",
      "\n",
      "\n",
      "0: 416x416 (no detections), 84.7ms\n",
      "Speed: 2.0ms preprocess, 84.7ms inference, 1.0ms postprocess per image at shape (1, 3, 416, 416)\n",
      "\n",
      "0: 416x416 (no detections), 86.5ms\n",
      "Speed: 3.0ms preprocess, 86.5ms inference, 0.0ms postprocess per image at shape (1, 3, 416, 416)\n",
      "0: 416x416 (no detections), 76.1ms\n",
      "Speed: 2.0ms preprocess, 76.1ms inference, 0.0ms postprocess per image at shape (1, 3, 416, 416)\n",
      "\n",
      "\n",
      "0: 416x416 (no detections), 87.2ms\n",
      "Speed: 2.0ms preprocess, 87.2ms inference, 0.0ms postprocess per image at shape (1, 3, 416, 416)\n",
      "\n",
      "0: 416x416 (no detections), 86.9ms\n",
      "Speed: 1.0ms preprocess, 86.9ms inference, 1.0ms postprocess per image at shape (1, 3, 416, 416)\n",
      "0: 416x416 (no detections), 86.5ms\n",
      "Speed: 2.0ms preprocess, 86.5ms inference, 1.1ms postprocess per image at shape (1, 3, 416, 416)\n",
      "\n",
      "\n",
      "0: 416x416 (no detections), 80.2ms\n",
      "Speed: 1.6ms preprocess, 80.2ms inference, 1.0ms postprocess per image at shape (1, 3, 416, 416)\n",
      "\n",
      "0: 416x416 (no detections), 82.8ms\n",
      "Speed: 2.0ms preprocess, 82.8ms inference, 1.2ms postprocess per image at shape (1, 3, 416, 416)\n",
      "0: 416x416 (no detections), 78.0ms\n",
      "Speed: 2.0ms preprocess, 78.0ms inference, 0.0ms postprocess per image at shape (1, 3, 416, 416)\n",
      "\n",
      "\n",
      "0: 416x416 (no detections), 83.9ms\n",
      "Speed: 2.0ms preprocess, 83.9ms inference, 1.4ms postprocess per image at shape (1, 3, 416, 416)\n",
      "\n",
      "0: 416x416 (no detections), 88.0ms\n",
      "Speed: 2.0ms preprocess, 88.0ms inference, 0.0ms postprocess per image at shape (1, 3, 416, 416)\n",
      "0: 416x416 (no detections), 74.0ms\n",
      "Speed: 2.0ms preprocess, 74.0ms inference, 1.0ms postprocess per image at shape (1, 3, 416, 416)\n",
      "\n",
      "\n",
      "0: 416x416 (no detections), 83.3ms\n",
      "Speed: 2.0ms preprocess, 83.3ms inference, 0.0ms postprocess per image at shape (1, 3, 416, 416)\n",
      "\n",
      "0: 416x416 (no detections), 86.4ms\n",
      "Speed: 2.0ms preprocess, 86.4ms inference, 1.0ms postprocess per image at shape (1, 3, 416, 416)\n",
      "0: 416x416 (no detections), 75.5ms\n",
      "Speed: 2.5ms preprocess, 75.5ms inference, 0.0ms postprocess per image at shape (1, 3, 416, 416)\n",
      "\n",
      "\n",
      "0: 416x416 (no detections), 84.4ms\n",
      "Speed: 2.0ms preprocess, 84.4ms inference, 0.0ms postprocess per image at shape (1, 3, 416, 416)\n",
      "\n",
      "0: 416x416 (no detections), 85.9ms\n",
      "Speed: 2.0ms preprocess, 85.9ms inference, 0.0ms postprocess per image at shape (1, 3, 416, 416)\n",
      "0: 416x416 (no detections), 75.3ms\n",
      "Speed: 2.0ms preprocess, 75.3ms inference, 1.0ms postprocess per image at shape (1, 3, 416, 416)\n",
      "\n",
      "\n",
      "0: 416x416 (no detections), 84.3ms\n",
      "Speed: 2.0ms preprocess, 84.3ms inference, 1.0ms postprocess per image at shape (1, 3, 416, 416)\n",
      "\n",
      "0: 416x416 (no detections), 85.3ms\n",
      "Speed: 2.0ms preprocess, 85.3ms inference, 1.2ms postprocess per image at shape (1, 3, 416, 416)\n",
      "0: 416x416 (no detections), 74.7ms\n",
      "Speed: 2.0ms preprocess, 74.7ms inference, 1.0ms postprocess per image at shape (1, 3, 416, 416)\n",
      "\n",
      "\n",
      "0: 416x416 (no detections), 85.8ms\n",
      "Speed: 3.0ms preprocess, 85.8ms inference, 0.0ms postprocess per image at shape (1, 3, 416, 416)\n",
      "\n",
      "0: 416x416 (no detections), 86.5ms\n",
      "Speed: 3.1ms preprocess, 86.5ms inference, 1.0ms postprocess per image at shape (1, 3, 416, 416)\n",
      "0: 416x416 (no detections), 73.9ms\n",
      "Speed: 2.0ms preprocess, 73.9ms inference, 0.0ms postprocess per image at shape (1, 3, 416, 416)\n",
      "\n",
      "\n",
      "0: 416x416 (no detections), 87.4ms\n",
      "Speed: 2.0ms preprocess, 87.4ms inference, 1.0ms postprocess per image at shape (1, 3, 416, 416)\n",
      "\n",
      "0: 416x416 (no detections), 84.6ms\n",
      "Speed: 2.0ms preprocess, 84.6ms inference, 0.0ms postprocess per image at shape (1, 3, 416, 416)\n",
      "0: 416x416 (no detections), 85.7ms\n",
      "Speed: 2.0ms preprocess, 85.7ms inference, 0.0ms postprocess per image at shape (1, 3, 416, 416)\n",
      "\n",
      "\n",
      "0: 416x416 (no detections), 76.9ms\n",
      "Speed: 2.0ms preprocess, 76.9ms inference, 1.0ms postprocess per image at shape (1, 3, 416, 416)\n",
      "\n",
      "0: 416x416 (no detections), 85.1ms\n",
      "Speed: 1.9ms preprocess, 85.1ms inference, 1.0ms postprocess per image at shape (1, 3, 416, 416)\n",
      "0: 416x416 (no detections), 79.4ms\n",
      "Speed: 2.0ms preprocess, 79.4ms inference, 1.0ms postprocess per image at shape (1, 3, 416, 416)\n",
      "\n",
      "\n",
      "0: 416x416 (no detections), 85.3ms\n",
      "Speed: 2.5ms preprocess, 85.3ms inference, 1.0ms postprocess per image at shape (1, 3, 416, 416)\n",
      "\n",
      "0: 416x416 (no detections), 85.5ms\n",
      "Speed: 1.9ms preprocess, 85.5ms inference, 1.0ms postprocess per image at shape (1, 3, 416, 416)\n",
      "0: 416x416 (no detections), 76.1ms\n",
      "Speed: 2.0ms preprocess, 76.1ms inference, 1.0ms postprocess per image at shape (1, 3, 416, 416)\n",
      "\n",
      "\n",
      "0: 416x416 (no detections), 86.1ms\n",
      "Speed: 2.0ms preprocess, 86.1ms inference, 0.0ms postprocess per image at shape (1, 3, 416, 416)\n",
      "\n",
      "0: 416x416 (no detections), 85.4ms\n",
      "Speed: 1.0ms preprocess, 85.4ms inference, 1.1ms postprocess per image at shape (1, 3, 416, 416)\n",
      "0: 416x416 (no detections), 75.9ms\n",
      "Speed: 2.5ms preprocess, 75.9ms inference, 0.0ms postprocess per image at shape (1, 3, 416, 416)\n",
      "\n",
      "\n",
      "0: 416x416 (no detections), 82.0ms\n",
      "Speed: 3.0ms preprocess, 82.0ms inference, 1.0ms postprocess per image at shape (1, 3, 416, 416)\n",
      "\n",
      "0: 416x416 (no detections), 84.2ms\n",
      "Speed: 2.0ms preprocess, 84.2ms inference, 1.0ms postprocess per image at shape (1, 3, 416, 416)\n",
      "0: 416x416 (no detections), 74.4ms\n",
      "Speed: 2.0ms preprocess, 74.4ms inference, 0.0ms postprocess per image at shape (1, 3, 416, 416)\n",
      "\n",
      "\n",
      "0: 416x416 (no detections), 84.0ms\n",
      "Speed: 3.0ms preprocess, 84.0ms inference, 0.0ms postprocess per image at shape (1, 3, 416, 416)\n",
      "\n",
      "0: 416x416 (no detections), 81.8ms\n",
      "Speed: 2.0ms preprocess, 81.8ms inference, 0.0ms postprocess per image at shape (1, 3, 416, 416)\n",
      "0: 416x416 (no detections), 75.9ms\n",
      "Speed: 2.0ms preprocess, 75.9ms inference, 0.0ms postprocess per image at shape (1, 3, 416, 416)\n",
      "\n",
      "\n",
      "0: 416x416 (no detections), 86.6ms\n",
      "Speed: 2.0ms preprocess, 86.6ms inference, 1.0ms postprocess per image at shape (1, 3, 416, 416)\n",
      "\n",
      "0: 416x416 (no detections), 88.1ms\n",
      "Speed: 2.0ms preprocess, 88.1ms inference, 1.0ms postprocess per image at shape (1, 3, 416, 416)\n",
      "0: 416x416 (no detections), 75.7ms\n",
      "Speed: 2.0ms preprocess, 75.7ms inference, 0.0ms postprocess per image at shape (1, 3, 416, 416)\n",
      "\n",
      "\n",
      "0: 416x416 (no detections), 84.1ms\n",
      "Speed: 2.0ms preprocess, 84.1ms inference, 1.0ms postprocess per image at shape (1, 3, 416, 416)\n",
      "\n",
      "0: 416x416 (no detections), 86.3ms\n",
      "Speed: 2.0ms preprocess, 86.3ms inference, 1.0ms postprocess per image at shape (1, 3, 416, 416)\n",
      "0: 416x416 (no detections), 75.2ms\n",
      "Speed: 2.0ms preprocess, 75.2ms inference, 0.9ms postprocess per image at shape (1, 3, 416, 416)\n",
      "\n",
      "\n",
      "0: 416x416 (no detections), 97.2ms\n",
      "Speed: 2.5ms preprocess, 97.2ms inference, 1.0ms postprocess per image at shape (1, 3, 416, 416)\n",
      "\n",
      "0: 416x416 (no detections), 96.1ms\n",
      "Speed: 2.0ms preprocess, 96.1ms inference, 1.0ms postprocess per image at shape (1, 3, 416, 416)\n",
      "0: 416x416 (no detections), 76.0ms\n",
      "Speed: 3.0ms preprocess, 76.0ms inference, 0.0ms postprocess per image at shape (1, 3, 416, 416)\n",
      "\n",
      "\n",
      "0: 416x416 (no detections), 84.0ms\n",
      "Speed: 2.0ms preprocess, 84.0ms inference, 0.0ms postprocess per image at shape (1, 3, 416, 416)\n",
      "\n",
      "0: 416x416 (no detections), 85.5ms\n",
      "Speed: 2.0ms preprocess, 85.5ms inference, 1.0ms postprocess per image at shape (1, 3, 416, 416)\n",
      "0: 416x416 (no detections), 75.0ms\n",
      "Speed: 2.0ms preprocess, 75.0ms inference, 1.0ms postprocess per image at shape (1, 3, 416, 416)\n",
      "\n",
      "\n",
      "0: 416x416 (no detections), 90.0ms\n",
      "Speed: 3.1ms preprocess, 90.0ms inference, 1.0ms postprocess per image at shape (1, 3, 416, 416)\n",
      "\n",
      "0: 416x416 (no detections), 90.1ms\n",
      "Speed: 2.0ms preprocess, 90.1ms inference, 1.0ms postprocess per image at shape (1, 3, 416, 416)\n",
      "0: 416x416 (no detections), 80.4ms\n",
      "Speed: 2.0ms preprocess, 80.4ms inference, 0.0ms postprocess per image at shape (1, 3, 416, 416)\n",
      "\n",
      "\n",
      "0: 416x416 (no detections), 88.0ms\n",
      "Speed: 2.0ms preprocess, 88.0ms inference, 1.0ms postprocess per image at shape (1, 3, 416, 416)\n",
      "\n",
      "0: 416x416 (no detections), 87.1ms\n",
      "Speed: 2.0ms preprocess, 87.1ms inference, 1.0ms postprocess per image at shape (1, 3, 416, 416)\n",
      "0: 416x416 (no detections), 77.5ms\n",
      "Speed: 2.0ms preprocess, 77.5ms inference, 1.0ms postprocess per image at shape (1, 3, 416, 416)\n",
      "\n",
      "\n",
      "0: 416x416 (no detections), 92.4ms\n",
      "Speed: 2.0ms preprocess, 92.4ms inference, 1.0ms postprocess per image at shape (1, 3, 416, 416)\n",
      "\n",
      "0: 416x416 (no detections), 91.7ms\n",
      "Speed: 2.0ms preprocess, 91.7ms inference, 0.0ms postprocess per image at shape (1, 3, 416, 416)\n",
      "0: 416x416 (no detections), 81.1ms\n",
      "Speed: 2.0ms preprocess, 81.1ms inference, 0.0ms postprocess per image at shape (1, 3, 416, 416)\n",
      "\n",
      "0: 416x416 (no detections), 78.5ms\n",
      "Speed: 2.5ms preprocess, 78.5ms inference, 1.0ms postprocess per image at shape (1, 3, 416, 416)\n",
      "\n",
      "\n",
      "0: 416x416 (no detections), 86.4ms\n",
      "Speed: 2.0ms preprocess, 86.4ms inference, 1.0ms postprocess per image at shape (1, 3, 416, 416)\n",
      "0: 416x416 (no detections), 81.9ms\n",
      "Speed: 2.0ms preprocess, 81.9ms inference, 0.0ms postprocess per image at shape (1, 3, 416, 416)\n",
      "\n",
      "0: 416x416 (no detections), 79.7ms\n",
      "Speed: 2.0ms preprocess, 79.7ms inference, 0.0ms postprocess per image at shape (1, 3, 416, 416)\n",
      "\n",
      "\n",
      "0: 416x416 (no detections), 89.1ms\n",
      "Speed: 2.0ms preprocess, 89.1ms inference, 1.0ms postprocess per image at shape (1, 3, 416, 416)\n",
      "0: 416x416 (no detections), 89.5ms\n",
      "Speed: 2.0ms preprocess, 89.5ms inference, 1.0ms postprocess per image at shape (1, 3, 416, 416)\n",
      "\n",
      "0: 416x416 (no detections), 79.5ms\n",
      "Speed: 2.0ms preprocess, 79.5ms inference, 1.0ms postprocess per image at shape (1, 3, 416, 416)\n",
      "\n",
      "\n",
      "0: 416x416 (no detections), 91.1ms\n",
      "Speed: 1.0ms preprocess, 91.1ms inference, 1.0ms postprocess per image at shape (1, 3, 416, 416)\n",
      "0: 416x416 (no detections), 81.7ms\n",
      "Speed: 2.5ms preprocess, 81.7ms inference, 0.0ms postprocess per image at shape (1, 3, 416, 416)\n",
      "\n",
      "0: 416x416 (no detections), 78.1ms\n",
      "Speed: 2.5ms preprocess, 78.1ms inference, 0.0ms postprocess per image at shape (1, 3, 416, 416)\n",
      "\n",
      "\n",
      "0: 416x416 (no detections), 91.3ms\n",
      "Speed: 2.0ms preprocess, 91.3ms inference, 1.0ms postprocess per image at shape (1, 3, 416, 416)\n",
      "0: 416x416 (no detections), 84.4ms\n",
      "Speed: 3.0ms preprocess, 84.4ms inference, 0.0ms postprocess per image at shape (1, 3, 416, 416)\n",
      "\n",
      "0: 416x416 (no detections), 79.1ms\n",
      "Speed: 2.1ms preprocess, 79.1ms inference, 0.1ms postprocess per image at shape (1, 3, 416, 416)\n",
      "\n",
      "\n",
      "0: 416x416 (no detections), 86.9ms\n",
      "Speed: 2.0ms preprocess, 86.9ms inference, 1.0ms postprocess per image at shape (1, 3, 416, 416)\n",
      "0: 416x416 (no detections), 79.4ms\n",
      "Speed: 2.0ms preprocess, 79.4ms inference, 1.6ms postprocess per image at shape (1, 3, 416, 416)\n",
      "\n",
      "\n",
      "0: 416x416 (no detections), 92.1ms\n",
      "Speed: 2.5ms preprocess, 92.1ms inference, 1.0ms postprocess per image at shape (1, 3, 416, 416)\n",
      "\n",
      "0: 416x416 (no detections), 96.9ms\n",
      "Speed: 2.8ms preprocess, 96.9ms inference, 1.0ms postprocess per image at shape (1, 3, 416, 416)\n",
      "0: 416x416 (no detections), 84.5ms\n",
      "Speed: 2.5ms preprocess, 84.5ms inference, 0.0ms postprocess per image at shape (1, 3, 416, 416)\n",
      "\n",
      "\n",
      "0: 416x416 (no detections), 87.0ms\n",
      "Speed: 2.5ms preprocess, 87.0ms inference, 0.0ms postprocess per image at shape (1, 3, 416, 416)\n",
      "\n",
      "0: 416x416 (no detections), 91.7ms\n",
      "Speed: 2.0ms preprocess, 91.7ms inference, 1.0ms postprocess per image at shape (1, 3, 416, 416)\n",
      "0: 416x416 (no detections), 86.4ms\n",
      "Speed: 2.0ms preprocess, 86.4ms inference, 0.0ms postprocess per image at shape (1, 3, 416, 416)\n",
      "\n",
      "0: 416x416 (no detections), 80.3ms\n",
      "Speed: 2.0ms preprocess, 80.3ms inference, 1.0ms postprocess per image at shape (1, 3, 416, 416)\n",
      "\n",
      "\n",
      "0: 416x416 (no detections), 93.7ms\n",
      "Speed: 1.0ms preprocess, 93.7ms inference, 1.0ms postprocess per image at shape (1, 3, 416, 416)\n",
      "0: 416x416 (no detections), 83.0ms\n",
      "Speed: 2.5ms preprocess, 83.0ms inference, 1.0ms postprocess per image at shape (1, 3, 416, 416)\n",
      "\n",
      "0: 416x416 (no detections), 78.1ms\n",
      "Speed: 2.0ms preprocess, 78.1ms inference, 1.0ms postprocess per image at shape (1, 3, 416, 416)\n",
      "\n",
      "\n",
      "0: 416x416 (no detections), 96.4ms\n",
      "Speed: 2.2ms preprocess, 96.4ms inference, 1.0ms postprocess per image at shape (1, 3, 416, 416)\n",
      "0: 416x416 (no detections), 83.9ms\n",
      "Speed: 3.0ms preprocess, 83.9ms inference, 1.0ms postprocess per image at shape (1, 3, 416, 416)\n",
      "\n",
      "0: 416x416 (no detections), 79.2ms\n",
      "Speed: 1.6ms preprocess, 79.2ms inference, 1.0ms postprocess per image at shape (1, 3, 416, 416)\n",
      "\n",
      "\n",
      "0: 416x416 (no detections), 91.2ms\n",
      "Speed: 2.0ms preprocess, 91.2ms inference, 1.5ms postprocess per image at shape (1, 3, 416, 416)\n",
      "0: 416x416 (no detections), 84.9ms\n",
      "Speed: 1.2ms preprocess, 84.9ms inference, 1.0ms postprocess per image at shape (1, 3, 416, 416)\n",
      "\n",
      "0: 416x416 (no detections), 79.3ms\n",
      "Speed: 1.0ms preprocess, 79.3ms inference, 1.0ms postprocess per image at shape (1, 3, 416, 416)\n",
      "\n",
      "\n",
      "0: 416x416 (no detections), 95.4ms\n",
      "Speed: 2.0ms preprocess, 95.4ms inference, 0.0ms postprocess per image at shape (1, 3, 416, 416)\n",
      "0: 416x416 (no detections), 86.6ms\n",
      "Speed: 2.0ms preprocess, 86.6ms inference, 1.0ms postprocess per image at shape (1, 3, 416, 416)\n",
      "\n",
      "0: 416x416 (no detections), 79.5ms\n",
      "Speed: 1.5ms preprocess, 79.5ms inference, 1.0ms postprocess per image at shape (1, 3, 416, 416)\n",
      "\n",
      "\n",
      "0: 416x416 (no detections), 89.7ms\n",
      "Speed: 1.0ms preprocess, 89.7ms inference, 1.0ms postprocess per image at shape (1, 3, 416, 416)\n",
      "0: 416x416 (no detections), 82.8ms\n",
      "Speed: 2.0ms preprocess, 82.8ms inference, 1.0ms postprocess per image at shape (1, 3, 416, 416)\n",
      "\n",
      "0: 416x416 (no detections), 79.3ms\n",
      "Speed: 3.0ms preprocess, 79.3ms inference, 0.0ms postprocess per image at shape (1, 3, 416, 416)\n",
      "\n",
      "\n",
      "0: 416x416 (no detections), 90.5ms\n",
      "Speed: 2.0ms preprocess, 90.5ms inference, 1.0ms postprocess per image at shape (1, 3, 416, 416)\n",
      "0: 416x416 (no detections), 82.6ms\n",
      "Speed: 3.0ms preprocess, 82.6ms inference, 1.0ms postprocess per image at shape (1, 3, 416, 416)\n",
      "\n",
      "0: 416x416 (no detections), 83.8ms\n",
      "Speed: 1.0ms preprocess, 83.8ms inference, 1.0ms postprocess per image at shape (1, 3, 416, 416)\n",
      "\n",
      "\n",
      "0: 416x416 (no detections), 96.4ms\n",
      "Speed: 2.1ms preprocess, 96.4ms inference, 1.0ms postprocess per image at shape (1, 3, 416, 416)\n",
      "0: 416x416 (no detections), 91.1ms\n",
      "Speed: 2.2ms preprocess, 91.1ms inference, 1.0ms postprocess per image at shape (1, 3, 416, 416)\n",
      "\n",
      "0: 416x416 (no detections), 81.0ms\n",
      "Speed: 2.6ms preprocess, 81.0ms inference, 1.0ms postprocess per image at shape (1, 3, 416, 416)\n",
      "\n",
      "\n",
      "0: 416x416 (no detections), 92.1ms\n",
      "Speed: 2.1ms preprocess, 92.1ms inference, 1.0ms postprocess per image at shape (1, 3, 416, 416)\n",
      "\n",
      "0: 416x416 (no detections), 95.3ms\n",
      "Speed: 2.0ms preprocess, 95.3ms inference, 0.0ms postprocess per image at shape (1, 3, 416, 416)\n",
      "0: 416x416 (no detections), 91.5ms\n",
      "Speed: 2.0ms preprocess, 91.5ms inference, 1.0ms postprocess per image at shape (1, 3, 416, 416)\n",
      "\n",
      "\n",
      "0: 416x416 (no detections), 83.1ms\n",
      "Speed: 2.0ms preprocess, 83.1ms inference, 1.0ms postprocess per image at shape (1, 3, 416, 416)\n",
      "\n",
      "0: 416x416 (no detections), 89.6ms\n",
      "Speed: 3.0ms preprocess, 89.6ms inference, 1.6ms postprocess per image at shape (1, 3, 416, 416)\n",
      "0: 416x416 (no detections), 84.8ms\n",
      "Speed: 2.0ms preprocess, 84.8ms inference, 1.0ms postprocess per image at shape (1, 3, 416, 416)\n",
      "\n",
      "0: 416x416 (no detections), 77.9ms\n",
      "Speed: 3.5ms preprocess, 77.9ms inference, 0.5ms postprocess per image at shape (1, 3, 416, 416)\n",
      "\n",
      "\n",
      "0: 416x416 (no detections), 91.5ms\n",
      "Speed: 2.0ms preprocess, 91.5ms inference, 1.0ms postprocess per image at shape (1, 3, 416, 416)\n",
      "0: 416x416 (no detections), 87.0ms\n",
      "Speed: 2.0ms preprocess, 87.0ms inference, 1.0ms postprocess per image at shape (1, 3, 416, 416)\n",
      "\n",
      "0: 416x416 (no detections), 83.0ms\n",
      "Speed: 2.0ms preprocess, 83.0ms inference, 0.0ms postprocess per image at shape (1, 3, 416, 416)\n",
      "\n",
      "\n",
      "0: 416x416 (no detections), 92.1ms\n",
      "Speed: 2.5ms preprocess, 92.1ms inference, 1.0ms postprocess per image at shape (1, 3, 416, 416)\n",
      "0: 416x416 (no detections), 90.7ms\n",
      "Speed: 1.0ms preprocess, 90.7ms inference, 0.0ms postprocess per image at shape (1, 3, 416, 416)\n",
      "\n",
      "0: 416x416 (no detections), 80.3ms\n",
      "Speed: 2.0ms preprocess, 80.3ms inference, 1.0ms postprocess per image at shape (1, 3, 416, 416)\n",
      "\n",
      "\n",
      "0: 416x416 (no detections), 92.1ms\n",
      "Speed: 2.1ms preprocess, 92.1ms inference, 1.0ms postprocess per image at shape (1, 3, 416, 416)\n",
      "\n",
      "0: 416x416 (no detections), 93.7ms\n",
      "Speed: 2.0ms preprocess, 93.7ms inference, 1.0ms postprocess per image at shape (1, 3, 416, 416)\n",
      "0: 416x416 (no detections), 82.4ms\n",
      "Speed: 2.0ms preprocess, 82.4ms inference, 1.0ms postprocess per image at shape (1, 3, 416, 416)\n",
      "\n",
      "0: 416x416 (no detections), 82.7ms\n",
      "Speed: 3.0ms preprocess, 82.7ms inference, 1.0ms postprocess per image at shape (1, 3, 416, 416)\n",
      "\n",
      "\n",
      "0: 416x416 (no detections), 89.8ms\n",
      "Speed: 1.0ms preprocess, 89.8ms inference, 1.1ms postprocess per image at shape (1, 3, 416, 416)\n",
      "0: 416x416 (no detections), 88.0ms\n",
      "Speed: 2.5ms preprocess, 88.0ms inference, 0.0ms postprocess per image at shape (1, 3, 416, 416)\n",
      "\n",
      "0: 416x416 (no detections), 80.2ms\n",
      "Speed: 2.0ms preprocess, 80.2ms inference, 0.0ms postprocess per image at shape (1, 3, 416, 416)\n",
      "\n",
      "\n",
      "0: 416x416 (no detections), 98.7ms\n",
      "Speed: 3.0ms preprocess, 98.7ms inference, 0.0ms postprocess per image at shape (1, 3, 416, 416)\n",
      "\n",
      "0: 416x416 (no detections), 98.5ms\n",
      "Speed: 1.5ms preprocess, 98.5ms inference, 1.0ms postprocess per image at shape (1, 3, 416, 416)\n",
      "0: 416x416 (no detections), 89.5ms\n",
      "Speed: 2.6ms preprocess, 89.5ms inference, 1.0ms postprocess per image at shape (1, 3, 416, 416)\n",
      "\n",
      "\n",
      "0: 416x416 (no detections), 83.4ms\n",
      "Speed: 2.0ms preprocess, 83.4ms inference, 1.5ms postprocess per image at shape (1, 3, 416, 416)\n",
      "\n",
      "0: 416x416 (no detections), 91.0ms\n",
      "Speed: 1.5ms preprocess, 91.0ms inference, 1.0ms postprocess per image at shape (1, 3, 416, 416)\n",
      "0: 416x416 (no detections), 83.2ms\n",
      "Speed: 3.2ms preprocess, 83.2ms inference, 1.0ms postprocess per image at shape (1, 3, 416, 416)\n",
      "\n",
      "0: 416x416 (no detections), 80.9ms\n",
      "Speed: 3.0ms preprocess, 80.9ms inference, 1.0ms postprocess per image at shape (1, 3, 416, 416)\n",
      "\n",
      "\n",
      "0: 416x416 (no detections), 92.2ms\n",
      "Speed: 3.0ms preprocess, 92.2ms inference, 1.5ms postprocess per image at shape (1, 3, 416, 416)\n",
      "\n",
      "0: 416x416 (no detections), 92.4ms\n",
      "Speed: 2.0ms preprocess, 92.4ms inference, 0.0ms postprocess per image at shape (1, 3, 416, 416)\n",
      "0: 416x416 1 red, 78.8ms\n",
      "Speed: 2.5ms preprocess, 78.8ms inference, 0.0ms postprocess per image at shape (1, 3, 416, 416)\n",
      "\n",
      "\n",
      "0: 416x416 1 red, 92.3ms\n",
      "Speed: 3.0ms preprocess, 92.3ms inference, 1.0ms postprocess per image at shape (1, 3, 416, 416)\n",
      "\n"
     ]
    },
    {
     "name": "stdout",
     "output_type": "stream",
     "text": [
      "0.7626601\n",
      "0.7826882\n"
     ]
    },
    {
     "name": "stderr",
     "output_type": "stream",
     "text": [
      "0: 416x416 (no detections), 94.1ms\n",
      "Speed: 2.0ms preprocess, 94.1ms inference, 1.0ms postprocess per image at shape (1, 3, 416, 416)\n",
      "0: 416x416 1 red, 82.9ms\n",
      "Speed: 2.0ms preprocess, 82.9ms inference, 0.5ms postprocess per image at shape (1, 3, 416, 416)\n",
      "\n",
      "0: 416x416 1 red, 78.7ms\n",
      "Speed: 3.8ms preprocess, 78.7ms inference, 1.1ms postprocess per image at shape (1, 3, 416, 416)\n",
      "\n",
      "\n"
     ]
    },
    {
     "name": "stdout",
     "output_type": "stream",
     "text": [
      "0.7828016\n",
      "0.7975483\n"
     ]
    },
    {
     "name": "stderr",
     "output_type": "stream",
     "text": [
      "0: 416x416 (no detections), 92.6ms\n",
      "Speed: 2.0ms preprocess, 92.6ms inference, 1.5ms postprocess per image at shape (1, 3, 416, 416)\n",
      "0: 416x416 1 red, 85.9ms\n",
      "Speed: 2.3ms preprocess, 85.9ms inference, 1.0ms postprocess per image at shape (1, 3, 416, 416)\n",
      "\n",
      "\n",
      "0: 416x416 1 red, 95.1ms\n",
      "Speed: 2.0ms preprocess, 95.1ms inference, 1.0ms postprocess per image at shape (1, 3, 416, 416)\n",
      "\n",
      "0: 416x416 (no detections), 95.1ms\n",
      "Speed: 2.0ms preprocess, 95.1ms inference, 1.0ms postprocess per image at shape (1, 3, 416, 416)\n"
     ]
    },
    {
     "name": "stdout",
     "output_type": "stream",
     "text": [
      "0.828671\n",
      "0.83141637\n"
     ]
    },
    {
     "name": "stderr",
     "output_type": "stream",
     "text": [
      "0: 416x416 1 red, 96.6ms\n",
      "Speed: 2.0ms preprocess, 96.6ms inference, 1.0ms postprocess per image at shape (1, 3, 416, 416)\n",
      "\n",
      "0: 416x416 1 red, 83.1ms\n",
      "Speed: 2.0ms preprocess, 83.1ms inference, 1.1ms postprocess per image at shape (1, 3, 416, 416)\n",
      "\n",
      "\n"
     ]
    },
    {
     "name": "stdout",
     "output_type": "stream",
     "text": [
      "0.84407365\n",
      "0.8796163\n",
      "Semaforo rosso all'estrema destra: Box (364.27313232421875, 275.9012145996094, 436.9560546875, 452.8349609375)\n"
     ]
    },
    {
     "name": "stderr",
     "output_type": "stream",
     "text": [
      "0: 416x416 (no detections), 92.2ms\n",
      "Speed: 2.5ms preprocess, 92.2ms inference, 1.0ms postprocess per image at shape (1, 3, 416, 416)\n",
      "0: 416x416 (no detections), 94.7ms\n",
      "Speed: 4.0ms preprocess, 94.7ms inference, 2.0ms postprocess per image at shape (1, 3, 416, 416)\n",
      "\n",
      "0: 416x416 (no detections), 85.8ms\n",
      "Speed: 2.0ms preprocess, 85.8ms inference, 0.0ms postprocess per image at shape (1, 3, 416, 416)\n",
      "\n",
      "\n",
      "0: 416x416 (no detections), 94.8ms\n",
      "Speed: 2.5ms preprocess, 94.8ms inference, 1.0ms postprocess per image at shape (1, 3, 416, 416)\n",
      "\n",
      "0: 416x416 (no detections), 105.5ms\n",
      "Speed: 1.0ms preprocess, 105.5ms inference, 1.0ms postprocess per image at shape (1, 3, 416, 416)\n",
      "0: 416x416 (no detections), 93.9ms\n",
      "Speed: 3.5ms preprocess, 93.9ms inference, 0.0ms postprocess per image at shape (1, 3, 416, 416)\n",
      "\n",
      "\n",
      "0: 416x416 (no detections), 102.5ms\n",
      "Speed: 2.0ms preprocess, 102.5ms inference, 0.0ms postprocess per image at shape (1, 3, 416, 416)\n",
      "\n",
      "0: 416x416 1 Speed Limit 50, 104.2ms\n",
      "Speed: 2.0ms preprocess, 104.2ms inference, 0.0ms postprocess per image at shape (1, 3, 416, 416)\n",
      "0: 416x416 (no detections), 92.5ms\n",
      "Speed: 2.3ms preprocess, 92.5ms inference, 0.0ms postprocess per image at shape (1, 3, 416, 416)\n",
      "\n",
      "\n",
      "0: 416x416 (no detections), 95.2ms\n",
      "Speed: 2.0ms preprocess, 95.2ms inference, 1.0ms postprocess per image at shape (1, 3, 416, 416)\n",
      "\n",
      "0: 416x416 1 Stop, 104.0ms\n",
      "Speed: 1.1ms preprocess, 104.0ms inference, 1.0ms postprocess per image at shape (1, 3, 416, 416)\n",
      "0: 416x416 (no detections), 95.2ms\n",
      "Speed: 3.5ms preprocess, 95.2ms inference, 1.0ms postprocess per image at shape (1, 3, 416, 416)\n",
      "\n",
      "0: 416x416 (no detections), 88.1ms\n",
      "Speed: 2.0ms preprocess, 88.1ms inference, 0.5ms postprocess per image at shape (1, 3, 416, 416)\n",
      "\n",
      "\n",
      "0: 416x416 (no detections), 97.8ms\n",
      "Speed: 3.0ms preprocess, 97.8ms inference, 1.3ms postprocess per image at shape (1, 3, 416, 416)\n",
      "\n",
      "0: 416x416 1 Speed Limit 100, 98.0ms\n",
      "Speed: 2.0ms preprocess, 98.0ms inference, 1.0ms postprocess per image at shape (1, 3, 416, 416)\n",
      "0: 416x416 (no detections), 87.9ms\n",
      "Speed: 3.0ms preprocess, 87.9ms inference, 0.0ms postprocess per image at shape (1, 3, 416, 416)\n",
      "\n",
      "\n",
      "0: 416x416 (no detections), 97.7ms\n",
      "Speed: 2.0ms preprocess, 97.7ms inference, 1.0ms postprocess per image at shape (1, 3, 416, 416)\n",
      "\n",
      "0: 416x416 1 Speed Limit 100, 113.6ms\n",
      "Speed: 2.5ms preprocess, 113.6ms inference, 2.2ms postprocess per image at shape (1, 3, 416, 416)\n",
      "0: 416x416 (no detections), 96.3ms\n",
      "Speed: 3.5ms preprocess, 96.3ms inference, 1.0ms postprocess per image at shape (1, 3, 416, 416)\n",
      "\n",
      "0: 416x416 (no detections), 89.8ms\n",
      "Speed: 2.0ms preprocess, 89.8ms inference, 0.0ms postprocess per image at shape (1, 3, 416, 416)\n",
      "\n",
      "\n",
      "0: 416x416 (no detections), 108.0ms\n",
      "Speed: 2.0ms preprocess, 108.0ms inference, 2.0ms postprocess per image at shape (1, 3, 416, 416)\n",
      "0: 416x416 1 Speed Limit 30, 119.1ms\n",
      "Speed: 5.5ms preprocess, 119.1ms inference, 2.0ms postprocess per image at shape (1, 3, 416, 416)\n",
      "\n",
      "\n",
      "0: 416x416 (no detections), 154.0ms\n",
      "Speed: 8.5ms preprocess, 154.0ms inference, 2.0ms postprocess per image at shape (1, 3, 416, 416)\n",
      "\n",
      "0: 416x416 (no detections), 132.8ms\n",
      "Speed: 8.5ms preprocess, 132.8ms inference, 1.0ms postprocess per image at shape (1, 3, 416, 416)\n",
      "0: 416x416 (no detections), 116.7ms\n",
      "Speed: 3.0ms preprocess, 116.7ms inference, 2.1ms postprocess per image at shape (1, 3, 416, 416)\n",
      "\n",
      "\n",
      "0: 416x416 (no detections), 152.8ms\n",
      "Speed: 9.5ms preprocess, 152.8ms inference, 0.0ms postprocess per image at shape (1, 3, 416, 416)\n",
      "\n",
      "0: 416x416 (no detections), 141.9ms\n",
      "Speed: 7.5ms preprocess, 141.9ms inference, 1.0ms postprocess per image at shape (1, 3, 416, 416)\n",
      "\n",
      "0: 416x416 (no detections), 126.5ms\n",
      "Speed: 6.9ms preprocess, 126.5ms inference, 2.0ms postprocess per image at shape (1, 3, 416, 416)\n",
      "\n",
      "0: 416x416 (no detections), 130.0ms\n",
      "Speed: 8.5ms preprocess, 130.0ms inference, 1.4ms postprocess per image at shape (1, 3, 416, 416)\n",
      "0: 416x416 (no detections), 114.2ms\n",
      "Speed: 5.0ms preprocess, 114.2ms inference, 0.0ms postprocess per image at shape (1, 3, 416, 416)\n",
      "\n",
      "\n",
      "0: 416x416 (no detections), 113.1ms\n",
      "Speed: 2.0ms preprocess, 113.1ms inference, 1.0ms postprocess per image at shape (1, 3, 416, 416)\n",
      "\n",
      "0: 416x416 (no detections), 102.3ms\n",
      "Speed: 2.0ms preprocess, 102.3ms inference, 1.0ms postprocess per image at shape (1, 3, 416, 416)\n",
      "0: 416x416 (no detections), 85.8ms\n",
      "Speed: 2.0ms preprocess, 85.8ms inference, 1.0ms postprocess per image at shape (1, 3, 416, 416)\n",
      "\n",
      "\n",
      "0: 416x416 (no detections), 94.6ms\n",
      "Speed: 2.0ms preprocess, 94.6ms inference, 0.5ms postprocess per image at shape (1, 3, 416, 416)\n",
      "\n",
      "0: 416x416 (no detections), 108.7ms\n",
      "Speed: 1.0ms preprocess, 108.7ms inference, 1.0ms postprocess per image at shape (1, 3, 416, 416)\n",
      "0: 416x416 (no detections), 98.3ms\n",
      "Speed: 2.0ms preprocess, 98.3ms inference, 1.0ms postprocess per image at shape (1, 3, 416, 416)\n",
      "\n",
      "\n",
      "0: 416x416 (no detections), 105.5ms\n",
      "Speed: 2.5ms preprocess, 105.5ms inference, 1.0ms postprocess per image at shape (1, 3, 416, 416)\n",
      "\n",
      "0: 416x416 (no detections), 104.4ms\n",
      "Speed: 3.0ms preprocess, 104.4ms inference, 1.0ms postprocess per image at shape (1, 3, 416, 416)\n",
      "0: 416x416 1 red, 97.8ms\n",
      "Speed: 3.1ms preprocess, 97.8ms inference, 1.0ms postprocess per image at shape (1, 3, 416, 416)\n",
      "\n",
      "0: 416x416 1 green, 1 red, 90.1ms\n",
      "Speed: 2.2ms preprocess, 90.1ms inference, 1.0ms postprocess per image at shape (1, 3, 416, 416)\n",
      "\n",
      "\n",
      "0: 416x416 (no detections), 112.0ms\n",
      "Speed: 3.0ms preprocess, 112.0ms inference, 1.0ms postprocess per image at shape (1, 3, 416, 416)\n",
      "0: 416x416 (no detections), 106.3ms\n",
      "Speed: 3.0ms preprocess, 106.3ms inference, 1.0ms postprocess per image at shape (1, 3, 416, 416)\n",
      "\n",
      "0: 416x416 (no detections), 98.3ms\n",
      "Speed: 3.0ms preprocess, 98.3ms inference, 1.5ms postprocess per image at shape (1, 3, 416, 416)\n",
      "\n",
      "\n",
      "0: 416x416 (no detections), 99.8ms\n",
      "Speed: 2.0ms preprocess, 99.8ms inference, 0.0ms postprocess per image at shape (1, 3, 416, 416)\n",
      "\n",
      "0: 416x416 (no detections), 99.5ms\n",
      "Speed: 2.6ms preprocess, 99.5ms inference, 1.0ms postprocess per image at shape (1, 3, 416, 416)\n",
      "0: 416x416 (no detections), 88.4ms\n",
      "Speed: 2.2ms preprocess, 88.4ms inference, 1.0ms postprocess per image at shape (1, 3, 416, 416)\n",
      "\n",
      "\n",
      "0: 416x416 (no detections), 96.0ms\n",
      "Speed: 2.5ms preprocess, 96.0ms inference, 1.0ms postprocess per image at shape (1, 3, 416, 416)\n",
      "\n",
      "0: 416x416 (no detections), 100.8ms\n",
      "Speed: 1.9ms preprocess, 100.8ms inference, 1.0ms postprocess per image at shape (1, 3, 416, 416)\n",
      "0: 416x416 (no detections), 89.0ms\n",
      "Speed: 2.0ms preprocess, 89.0ms inference, 1.0ms postprocess per image at shape (1, 3, 416, 416)\n",
      "\n",
      "0: 416x416 (no detections), 87.3ms\n",
      "Speed: 3.0ms preprocess, 87.3ms inference, 0.0ms postprocess per image at shape (1, 3, 416, 416)\n",
      "\n",
      "\n",
      "0: 416x416 (no detections), 96.9ms\n",
      "Speed: 2.0ms preprocess, 96.9ms inference, 1.0ms postprocess per image at shape (1, 3, 416, 416)\n",
      "0: 416x416 (no detections), 93.9ms\n",
      "Speed: 3.0ms preprocess, 93.9ms inference, 1.0ms postprocess per image at shape (1, 3, 416, 416)\n",
      "\n",
      "0: 416x416 (no detections), 88.5ms\n",
      "Speed: 3.0ms preprocess, 88.5ms inference, 1.0ms postprocess per image at shape (1, 3, 416, 416)\n",
      "\n",
      "\n",
      "0: 416x416 (no detections), 96.4ms\n",
      "Speed: 2.0ms preprocess, 96.4ms inference, 0.0ms postprocess per image at shape (1, 3, 416, 416)\n",
      "\n",
      "0: 416x416 (no detections), 98.4ms\n",
      "Speed: 2.0ms preprocess, 98.4ms inference, 1.5ms postprocess per image at shape (1, 3, 416, 416)\n",
      "0: 416x416 (no detections), 88.5ms\n",
      "Speed: 3.3ms preprocess, 88.5ms inference, 1.0ms postprocess per image at shape (1, 3, 416, 416)\n",
      "\n",
      "\n",
      "0: 416x416 (no detections), 99.2ms\n",
      "Speed: 2.5ms preprocess, 99.2ms inference, 1.0ms postprocess per image at shape (1, 3, 416, 416)\n",
      "\n",
      "0: 416x416 (no detections), 98.7ms\n",
      "Speed: 3.5ms preprocess, 98.7ms inference, 0.0ms postprocess per image at shape (1, 3, 416, 416)\n",
      "0: 416x416 (no detections), 89.6ms\n",
      "Speed: 3.2ms preprocess, 89.6ms inference, 0.0ms postprocess per image at shape (1, 3, 416, 416)\n",
      "\n",
      "\n",
      "0: 416x416 (no detections), 98.5ms\n",
      "Speed: 3.0ms preprocess, 98.5ms inference, 1.0ms postprocess per image at shape (1, 3, 416, 416)\n",
      "\n",
      "0: 416x416 (no detections), 101.5ms\n",
      "Speed: 2.0ms preprocess, 101.5ms inference, 1.0ms postprocess per image at shape (1, 3, 416, 416)\n",
      "0: 416x416 (no detections), 92.2ms\n",
      "Speed: 2.0ms preprocess, 92.2ms inference, 1.0ms postprocess per image at shape (1, 3, 416, 416)\n",
      "\n",
      "0: 416x416 (no detections), 86.9ms\n",
      "Speed: 3.2ms preprocess, 86.9ms inference, 0.1ms postprocess per image at shape (1, 3, 416, 416)\n",
      "\n",
      "\n",
      "0: 416x416 (no detections), 100.1ms\n",
      "Speed: 2.5ms preprocess, 100.1ms inference, 1.2ms postprocess per image at shape (1, 3, 416, 416)\n",
      "0: 416x416 (no detections), 97.4ms\n",
      "Speed: 3.5ms preprocess, 97.4ms inference, 0.5ms postprocess per image at shape (1, 3, 416, 416)\n",
      "\n",
      "0: 416x416 (no detections), 88.4ms\n",
      "Speed: 2.0ms preprocess, 88.4ms inference, 1.0ms postprocess per image at shape (1, 3, 416, 416)\n",
      "\n",
      "\n",
      "0: 416x416 (no detections), 110.7ms\n",
      "Speed: 2.0ms preprocess, 110.7ms inference, 1.0ms postprocess per image at shape (1, 3, 416, 416)\n",
      "\n",
      "0: 416x416 (no detections), 113.7ms\n",
      "Speed: 2.5ms preprocess, 113.7ms inference, 1.0ms postprocess per image at shape (1, 3, 416, 416)\n",
      "0: 416x416 (no detections), 87.4ms\n",
      "Speed: 2.5ms preprocess, 87.4ms inference, 0.0ms postprocess per image at shape (1, 3, 416, 416)\n",
      "\n",
      "\n",
      "0: 416x416 (no detections), 96.2ms\n",
      "Speed: 2.5ms preprocess, 96.2ms inference, 1.0ms postprocess per image at shape (1, 3, 416, 416)\n",
      "\n",
      "0: 416x416 (no detections), 100.9ms\n",
      "Speed: 1.0ms preprocess, 100.9ms inference, 1.5ms postprocess per image at shape (1, 3, 416, 416)\n",
      "0: 416x416 (no detections), 90.0ms\n",
      "Speed: 2.0ms preprocess, 90.0ms inference, 0.0ms postprocess per image at shape (1, 3, 416, 416)\n",
      "\n",
      "\n",
      "0: 416x416 (no detections), 94.4ms\n",
      "Speed: 1.0ms preprocess, 94.4ms inference, 0.0ms postprocess per image at shape (1, 3, 416, 416)\n",
      "\n",
      "0: 416x416 (no detections), 97.7ms\n",
      "Speed: 1.5ms preprocess, 97.7ms inference, 1.0ms postprocess per image at shape (1, 3, 416, 416)\n",
      "0: 416x416 (no detections), 90.7ms\n",
      "Speed: 2.0ms preprocess, 90.7ms inference, 0.0ms postprocess per image at shape (1, 3, 416, 416)\n",
      "\n",
      "0: 416x416 (no detections), 83.5ms\n",
      "Speed: 3.2ms preprocess, 83.5ms inference, 0.6ms postprocess per image at shape (1, 3, 416, 416)\n",
      "\n",
      "\n",
      "0: 416x416 (no detections), 104.4ms\n",
      "Speed: 2.0ms preprocess, 104.4ms inference, 1.2ms postprocess per image at shape (1, 3, 416, 416)\n",
      "0: 416x416 (no detections), 100.1ms\n",
      "Speed: 3.0ms preprocess, 100.1ms inference, 1.0ms postprocess per image at shape (1, 3, 416, 416)\n",
      "\n",
      "0: 416x416 (no detections), 89.5ms\n",
      "Speed: 3.0ms preprocess, 89.5ms inference, 1.0ms postprocess per image at shape (1, 3, 416, 416)\n",
      "\n",
      "\n",
      "0: 416x416 (no detections), 99.4ms\n",
      "Speed: 2.0ms preprocess, 99.4ms inference, 1.0ms postprocess per image at shape (1, 3, 416, 416)\n",
      "\n",
      "0: 416x416 (no detections), 98.9ms\n",
      "Speed: 2.6ms preprocess, 98.9ms inference, 1.0ms postprocess per image at shape (1, 3, 416, 416)\n",
      "0: 416x416 (no detections), 92.2ms\n",
      "Speed: 2.0ms preprocess, 92.2ms inference, 1.0ms postprocess per image at shape (1, 3, 416, 416)\n",
      "\n",
      "\n",
      "0: 416x416 (no detections), 102.1ms\n",
      "Speed: 3.0ms preprocess, 102.1ms inference, 1.0ms postprocess per image at shape (1, 3, 416, 416)\n",
      "\n",
      "0: 416x416 (no detections), 105.2ms\n",
      "Speed: 2.2ms preprocess, 105.2ms inference, 1.0ms postprocess per image at shape (1, 3, 416, 416)\n",
      "0: 416x416 (no detections), 93.3ms\n",
      "Speed: 2.5ms preprocess, 93.3ms inference, 1.0ms postprocess per image at shape (1, 3, 416, 416)\n",
      "\n",
      "\n",
      "0: 416x416 (no detections), 100.4ms\n",
      "Speed: 3.0ms preprocess, 100.4ms inference, 2.5ms postprocess per image at shape (1, 3, 416, 416)\n",
      "\n",
      "0: 416x416 (no detections), 105.8ms\n",
      "Speed: 2.0ms preprocess, 105.8ms inference, 1.0ms postprocess per image at shape (1, 3, 416, 416)\n",
      "0: 416x416 (no detections), 92.9ms\n",
      "Speed: 3.0ms preprocess, 92.9ms inference, 0.0ms postprocess per image at shape (1, 3, 416, 416)\n",
      "\n",
      "\n",
      "0: 416x416 (no detections), 96.0ms\n",
      "Speed: 2.0ms preprocess, 96.0ms inference, 1.0ms postprocess per image at shape (1, 3, 416, 416)\n",
      "\n",
      "0: 416x416 (no detections), 104.1ms\n",
      "Speed: 3.5ms preprocess, 104.1ms inference, 1.2ms postprocess per image at shape (1, 3, 416, 416)\n",
      "0: 416x416 (no detections), 98.0ms\n",
      "Speed: 2.5ms preprocess, 98.0ms inference, 1.5ms postprocess per image at shape (1, 3, 416, 416)\n",
      "\n",
      "\n",
      "0: 416x416 (no detections), 99.3ms\n",
      "Speed: 2.5ms preprocess, 99.3ms inference, 1.0ms postprocess per image at shape (1, 3, 416, 416)\n",
      "\n",
      "0: 416x416 (no detections), 105.6ms\n",
      "Speed: 1.5ms preprocess, 105.6ms inference, 1.0ms postprocess per image at shape (1, 3, 416, 416)\n",
      "0: 416x416 (no detections), 97.6ms\n",
      "Speed: 2.0ms preprocess, 97.6ms inference, 1.0ms postprocess per image at shape (1, 3, 416, 416)\n",
      "\n",
      "0: 416x416 (no detections), 94.0ms\n",
      "Speed: 2.0ms preprocess, 94.0ms inference, 0.0ms postprocess per image at shape (1, 3, 416, 416)\n",
      "\n",
      "\n",
      "0: 416x416 (no detections), 103.9ms\n",
      "Speed: 2.5ms preprocess, 103.9ms inference, 1.0ms postprocess per image at shape (1, 3, 416, 416)\n",
      "0: 416x416 (no detections), 103.2ms\n",
      "Speed: 3.3ms preprocess, 103.2ms inference, 1.0ms postprocess per image at shape (1, 3, 416, 416)\n",
      "\n",
      "0: 416x416 (no detections), 90.6ms\n",
      "Speed: 3.0ms preprocess, 90.6ms inference, 1.0ms postprocess per image at shape (1, 3, 416, 416)\n",
      "\n",
      "\n",
      "0: 416x416 (no detections), 101.9ms\n",
      "Speed: 2.5ms preprocess, 101.9ms inference, 0.0ms postprocess per image at shape (1, 3, 416, 416)\n",
      "\n",
      "0: 416x416 (no detections), 100.2ms\n",
      "Speed: 3.1ms preprocess, 100.2ms inference, 0.0ms postprocess per image at shape (1, 3, 416, 416)\n",
      "0: 416x416 (no detections), 90.9ms\n",
      "Speed: 2.0ms preprocess, 90.9ms inference, 0.0ms postprocess per image at shape (1, 3, 416, 416)\n",
      "\n",
      "\n",
      "0: 416x416 (no detections), 101.1ms\n",
      "Speed: 3.0ms preprocess, 101.1ms inference, 1.0ms postprocess per image at shape (1, 3, 416, 416)\n",
      "\n",
      "0: 416x416 (no detections), 102.5ms\n",
      "Speed: 2.0ms preprocess, 102.5ms inference, 1.0ms postprocess per image at shape (1, 3, 416, 416)\n",
      "0: 416x416 (no detections), 91.1ms\n",
      "Speed: 3.0ms preprocess, 91.1ms inference, 1.0ms postprocess per image at shape (1, 3, 416, 416)\n",
      "\n",
      "\n",
      "0: 416x416 (no detections), 97.0ms\n",
      "Speed: 2.0ms preprocess, 97.0ms inference, 1.0ms postprocess per image at shape (1, 3, 416, 416)\n",
      "\n",
      "0: 416x416 (no detections), 105.5ms\n",
      "Speed: 2.0ms preprocess, 105.5ms inference, 1.0ms postprocess per image at shape (1, 3, 416, 416)\n",
      "0: 416x416 (no detections), 98.7ms\n",
      "Speed: 2.0ms preprocess, 98.7ms inference, 0.0ms postprocess per image at shape (1, 3, 416, 416)\n",
      "\n",
      "0: 416x416 (no detections), 93.0ms\n",
      "Speed: 2.5ms preprocess, 93.0ms inference, 1.0ms postprocess per image at shape (1, 3, 416, 416)\n",
      "\n",
      "\n",
      "0: 416x416 (no detections), 107.4ms\n",
      "Speed: 5.0ms preprocess, 107.4ms inference, 1.0ms postprocess per image at shape (1, 3, 416, 416)\n",
      "0: 416x416 (no detections), 106.8ms\n",
      "Speed: 2.6ms preprocess, 106.8ms inference, 4.1ms postprocess per image at shape (1, 3, 416, 416)\n",
      "\n",
      "0: 416x416 (no detections), 89.9ms\n",
      "Speed: 2.0ms preprocess, 89.9ms inference, 1.5ms postprocess per image at shape (1, 3, 416, 416)\n",
      "\n",
      "\n",
      "0: 416x416 (no detections), 105.8ms\n",
      "Speed: 2.5ms preprocess, 105.8ms inference, 0.5ms postprocess per image at shape (1, 3, 416, 416)\n",
      "\n",
      "0: 416x416 (no detections), 102.6ms\n",
      "Speed: 2.3ms preprocess, 102.6ms inference, 1.0ms postprocess per image at shape (1, 3, 416, 416)\n",
      "0: 416x416 (no detections), 91.4ms\n",
      "Speed: 3.2ms preprocess, 91.4ms inference, 1.0ms postprocess per image at shape (1, 3, 416, 416)\n",
      "\n",
      "\n",
      "0: 416x416 (no detections), 111.6ms\n",
      "Speed: 3.0ms preprocess, 111.6ms inference, 1.0ms postprocess per image at shape (1, 3, 416, 416)\n",
      "\n",
      "0: 416x416 (no detections), 103.2ms\n",
      "Speed: 1.6ms preprocess, 103.2ms inference, 1.0ms postprocess per image at shape (1, 3, 416, 416)\n",
      "0: 416x416 (no detections), 92.7ms\n",
      "Speed: 2.0ms preprocess, 92.7ms inference, 1.0ms postprocess per image at shape (1, 3, 416, 416)\n",
      "\n",
      "\n",
      "0: 416x416 (no detections), 97.0ms\n",
      "Speed: 2.1ms preprocess, 97.0ms inference, 1.0ms postprocess per image at shape (1, 3, 416, 416)\n",
      "\n",
      "0: 416x416 (no detections), 105.8ms\n",
      "Speed: 2.2ms preprocess, 105.8ms inference, 2.0ms postprocess per image at shape (1, 3, 416, 416)\n",
      "0: 416x416 (no detections), 96.7ms\n",
      "Speed: 2.7ms preprocess, 96.7ms inference, 1.0ms postprocess per image at shape (1, 3, 416, 416)\n",
      "\n",
      "0: 416x416 (no detections), 90.3ms\n",
      "Speed: 2.0ms preprocess, 90.3ms inference, 0.0ms postprocess per image at shape (1, 3, 416, 416)\n",
      "\n",
      "\n",
      "0: 416x416 (no detections), 103.4ms\n",
      "Speed: 4.5ms preprocess, 103.4ms inference, 1.0ms postprocess per image at shape (1, 3, 416, 416)\n",
      "0: 416x416 (no detections), 103.4ms\n",
      "Speed: 2.5ms preprocess, 103.4ms inference, 4.0ms postprocess per image at shape (1, 3, 416, 416)\n",
      "\n",
      "0: 416x416 (no detections), 91.9ms\n",
      "Speed: 3.0ms preprocess, 91.9ms inference, 0.0ms postprocess per image at shape (1, 3, 416, 416)\n",
      "\n",
      "\n",
      "0: 416x416 (no detections), 103.9ms\n",
      "Speed: 2.0ms preprocess, 103.9ms inference, 1.0ms postprocess per image at shape (1, 3, 416, 416)\n",
      "\n",
      "0: 416x416 (no detections), 102.0ms\n",
      "Speed: 2.0ms preprocess, 102.0ms inference, 2.0ms postprocess per image at shape (1, 3, 416, 416)\n",
      "0: 416x416 (no detections), 95.4ms\n",
      "Speed: 2.0ms preprocess, 95.4ms inference, 1.0ms postprocess per image at shape (1, 3, 416, 416)\n",
      "\n",
      "\n",
      "0: 416x416 (no detections), 101.0ms\n",
      "Speed: 2.0ms preprocess, 101.0ms inference, 1.0ms postprocess per image at shape (1, 3, 416, 416)\n",
      "\n",
      "0: 416x416 (no detections), 104.3ms\n",
      "Speed: 2.0ms preprocess, 104.3ms inference, 1.0ms postprocess per image at shape (1, 3, 416, 416)\n",
      "0: 416x416 (no detections), 94.1ms\n",
      "Speed: 3.3ms preprocess, 94.1ms inference, 1.0ms postprocess per image at shape (1, 3, 416, 416)\n",
      "\n",
      "\n",
      "0: 416x416 (no detections), 101.7ms\n",
      "Speed: 2.0ms preprocess, 101.7ms inference, 1.0ms postprocess per image at shape (1, 3, 416, 416)\n",
      "\n",
      "0: 416x416 (no detections), 106.2ms\n",
      "Speed: 2.0ms preprocess, 106.2ms inference, 1.2ms postprocess per image at shape (1, 3, 416, 416)\n",
      "0: 416x416 (no detections), 96.7ms\n",
      "Speed: 3.5ms preprocess, 96.7ms inference, 1.6ms postprocess per image at shape (1, 3, 416, 416)\n",
      "\n",
      "0: 416x416 (no detections), 90.2ms\n",
      "Speed: 2.0ms preprocess, 90.2ms inference, 1.0ms postprocess per image at shape (1, 3, 416, 416)\n",
      "\n",
      "\n",
      "0: 416x416 (no detections), 105.5ms\n",
      "Speed: 5.2ms preprocess, 105.5ms inference, 1.0ms postprocess per image at shape (1, 3, 416, 416)\n",
      "0: 416x416 (no detections), 106.5ms\n",
      "Speed: 2.0ms preprocess, 106.5ms inference, 5.0ms postprocess per image at shape (1, 3, 416, 416)\n",
      "\n",
      "0: 416x416 (no detections), 99.3ms\n",
      "Speed: 2.0ms preprocess, 99.3ms inference, 1.0ms postprocess per image at shape (1, 3, 416, 416)\n",
      "\n",
      "\n",
      "0: 416x416 (no detections), 106.7ms\n",
      "Speed: 2.0ms preprocess, 106.7ms inference, 1.0ms postprocess per image at shape (1, 3, 416, 416)\n",
      "0: 416x416 (no detections), 100.7ms\n",
      "\n",
      "Speed: 3.0ms preprocess, 100.7ms inference, 1.0ms postprocess per image at shape (1, 3, 416, 416)\n",
      "0: 416x416 (no detections), 91.7ms\n",
      "Speed: 4.0ms preprocess, 91.7ms inference, 1.0ms postprocess per image at shape (1, 3, 416, 416)\n",
      "\n",
      "\n",
      "0: 416x416 (no detections), 106.9ms\n",
      "Speed: 2.0ms preprocess, 106.9ms inference, 1.0ms postprocess per image at shape (1, 3, 416, 416)\n",
      "\n",
      "0: 416x416 (no detections), 104.1ms\n",
      "Speed: 1.5ms preprocess, 104.1ms inference, 1.0ms postprocess per image at shape (1, 3, 416, 416)\n",
      "0: 416x416 (no detections), 92.9ms\n",
      "Speed: 3.4ms preprocess, 92.9ms inference, 0.0ms postprocess per image at shape (1, 3, 416, 416)\n",
      "\n",
      "\n",
      "0: 416x416 (no detections), 100.6ms\n",
      "Speed: 3.0ms preprocess, 100.6ms inference, 1.0ms postprocess per image at shape (1, 3, 416, 416)\n",
      "\n",
      "0: 416x416 (no detections), 104.3ms\n",
      "Speed: 2.0ms preprocess, 104.3ms inference, 1.0ms postprocess per image at shape (1, 3, 416, 416)\n",
      "0: 416x416 (no detections), 95.7ms\n",
      "Speed: 2.5ms preprocess, 95.7ms inference, 1.0ms postprocess per image at shape (1, 3, 416, 416)\n",
      "\n",
      "\n",
      "0: 416x416 (no detections), 91.2ms\n",
      "Speed: 3.0ms preprocess, 91.2ms inference, 5.5ms postprocess per image at shape (1, 3, 416, 416)\n",
      "\n",
      "0: 416x416 (no detections), 103.8ms\n",
      "Speed: 3.0ms preprocess, 103.8ms inference, 1.2ms postprocess per image at shape (1, 3, 416, 416)\n",
      "0: 416x416 (no detections), 98.2ms\n",
      "Speed: 2.0ms preprocess, 98.2ms inference, 1.0ms postprocess per image at shape (1, 3, 416, 416)\n",
      "\n",
      "0: 416x416 (no detections), 91.8ms\n",
      "Speed: 3.0ms preprocess, 91.8ms inference, 1.0ms postprocess per image at shape (1, 3, 416, 416)\n",
      "\n",
      "\n",
      "0: 416x416 (no detections), 112.5ms\n",
      "Speed: 5.0ms preprocess, 112.5ms inference, 1.0ms postprocess per image at shape (1, 3, 416, 416)\n",
      "0: 416x416 (no detections), 112.5ms\n",
      "Speed: 3.0ms preprocess, 112.5ms inference, 4.2ms postprocess per image at shape (1, 3, 416, 416)\n",
      "\n",
      "0: 416x416 (no detections), 97.5ms\n",
      "Speed: 3.0ms preprocess, 97.5ms inference, 1.0ms postprocess per image at shape (1, 3, 416, 416)\n",
      "\n",
      "\n",
      "0: 416x416 (no detections), 112.8ms\n",
      "Speed: 3.0ms preprocess, 112.8ms inference, 0.0ms postprocess per image at shape (1, 3, 416, 416)\n",
      "\n",
      "0: 416x416 (no detections), 112.6ms\n",
      "Speed: 3.3ms preprocess, 112.6ms inference, 1.0ms postprocess per image at shape (1, 3, 416, 416)\n",
      "0: 416x416 (no detections), 99.7ms\n",
      "Speed: 3.0ms preprocess, 99.7ms inference, 1.0ms postprocess per image at shape (1, 3, 416, 416)\n",
      "\n",
      "\n",
      "0: 416x416 (no detections), 109.9ms\n",
      "Speed: 2.5ms preprocess, 109.9ms inference, 0.0ms postprocess per image at shape (1, 3, 416, 416)\n",
      "\n",
      "0: 416x416 (no detections), 112.7ms\n",
      "Speed: 3.5ms preprocess, 112.7ms inference, 1.0ms postprocess per image at shape (1, 3, 416, 416)\n",
      "0: 416x416 (no detections), 98.5ms\n",
      "Speed: 2.2ms preprocess, 98.5ms inference, 1.0ms postprocess per image at shape (1, 3, 416, 416)\n",
      "\n",
      "\n",
      "0: 416x416 (no detections), 126.0ms\n",
      "Speed: 2.9ms preprocess, 126.0ms inference, 1.0ms postprocess per image at shape (1, 3, 416, 416)\n",
      "\n",
      "0: 416x416 (no detections), 111.7ms\n",
      "Speed: 2.5ms preprocess, 111.7ms inference, 1.0ms postprocess per image at shape (1, 3, 416, 416)\n",
      "0: 416x416 (no detections), 102.1ms\n",
      "Speed: 3.0ms preprocess, 102.1ms inference, 0.0ms postprocess per image at shape (1, 3, 416, 416)\n",
      "\n",
      "\n",
      "0: 416x416 (no detections), 103.3ms\n",
      "Speed: 2.0ms preprocess, 103.3ms inference, 1.0ms postprocess per image at shape (1, 3, 416, 416)\n",
      "\n",
      "0: 416x416 (no detections), 110.9ms\n",
      "Speed: 2.0ms preprocess, 110.9ms inference, 0.5ms postprocess per image at shape (1, 3, 416, 416)\n",
      "0: 416x416 (no detections), 103.1ms\n",
      "Speed: 2.0ms preprocess, 103.1ms inference, 1.0ms postprocess per image at shape (1, 3, 416, 416)\n",
      "\n",
      "0: 416x416 (no detections), 94.9ms\n",
      "Speed: 3.1ms preprocess, 94.9ms inference, 0.0ms postprocess per image at shape (1, 3, 416, 416)\n",
      "\n",
      "\n",
      "0: 416x416 (no detections), 111.6ms\n",
      "Speed: 3.5ms preprocess, 111.6ms inference, 0.0ms postprocess per image at shape (1, 3, 416, 416)\n",
      "0: 416x416 (no detections), 111.1ms\n",
      "Speed: 2.0ms preprocess, 111.1ms inference, 1.0ms postprocess per image at shape (1, 3, 416, 416)\n",
      "\n",
      "0: 416x416 (no detections), 98.0ms\n",
      "Speed: 3.0ms preprocess, 98.0ms inference, 0.0ms postprocess per image at shape (1, 3, 416, 416)\n",
      "\n",
      "\n",
      "0: 416x416 (no detections), 104.5ms\n",
      "Speed: 3.0ms preprocess, 104.5ms inference, 1.0ms postprocess per image at shape (1, 3, 416, 416)\n",
      "\n",
      "0: 416x416 (no detections), 111.0ms\n",
      "Speed: 2.3ms preprocess, 111.0ms inference, 1.0ms postprocess per image at shape (1, 3, 416, 416)\n",
      "0: 416x416 (no detections), 98.5ms\n",
      "Speed: 3.0ms preprocess, 98.5ms inference, 0.0ms postprocess per image at shape (1, 3, 416, 416)\n",
      "\n",
      "\n",
      "0: 416x416 (no detections), 105.8ms\n",
      "Speed: 2.0ms preprocess, 105.8ms inference, 0.0ms postprocess per image at shape (1, 3, 416, 416)\n",
      "\n",
      "0: 416x416 (no detections), 108.5ms\n",
      "Speed: 2.0ms preprocess, 108.5ms inference, 1.0ms postprocess per image at shape (1, 3, 416, 416)\n",
      "0: 416x416 (no detections), 97.3ms\n",
      "Speed: 3.0ms preprocess, 97.3ms inference, 1.0ms postprocess per image at shape (1, 3, 416, 416)\n",
      "\n",
      "0: 416x416 (no detections), 94.3ms\n",
      "Speed: 2.0ms preprocess, 94.3ms inference, 1.2ms postprocess per image at shape (1, 3, 416, 416)\n",
      "\n",
      "\n",
      "0: 416x416 (no detections), 114.8ms\n",
      "Speed: 2.6ms preprocess, 114.8ms inference, 0.0ms postprocess per image at shape (1, 3, 416, 416)\n",
      "0: 416x416 (no detections), 106.8ms\n",
      "Speed: 1.0ms preprocess, 106.8ms inference, 1.3ms postprocess per image at shape (1, 3, 416, 416)\n",
      "\n",
      "\n",
      "0: 416x416 (no detections), 104.9ms\n",
      "Speed: 3.0ms preprocess, 104.9ms inference, 1.0ms postprocess per image at shape (1, 3, 416, 416)\n",
      "\n",
      "0: 416x416 (no detections), 110.5ms\n",
      "Speed: 2.5ms preprocess, 110.5ms inference, 1.0ms postprocess per image at shape (1, 3, 416, 416)\n",
      "0: 416x416 (no detections), 100.5ms\n",
      "Speed: 2.0ms preprocess, 100.5ms inference, 0.0ms postprocess per image at shape (1, 3, 416, 416)\n",
      "\n",
      "\n",
      "0: 416x416 (no detections), 117.2ms\n",
      "Speed: 2.0ms preprocess, 117.2ms inference, 0.0ms postprocess per image at shape (1, 3, 416, 416)\n",
      "\n",
      "0: 416x416 (no detections), 109.4ms\n",
      "Speed: 2.0ms preprocess, 109.4ms inference, 1.0ms postprocess per image at shape (1, 3, 416, 416)\n",
      "0: 416x416 (no detections), 99.8ms\n",
      "Speed: 3.0ms preprocess, 99.8ms inference, 1.0ms postprocess per image at shape (1, 3, 416, 416)\n",
      "\n",
      "0: 416x416 (no detections), 98.2ms\n",
      "Speed: 3.5ms preprocess, 98.2ms inference, 0.0ms postprocess per image at shape (1, 3, 416, 416)\n",
      "\n",
      "\n",
      "0: 416x416 (no detections), 110.0ms\n",
      "Speed: 3.2ms preprocess, 110.0ms inference, 1.0ms postprocess per image at shape (1, 3, 416, 416)\n",
      "0: 416x416 (no detections), 108.8ms\n",
      "Speed: 2.0ms preprocess, 108.8ms inference, 1.0ms postprocess per image at shape (1, 3, 416, 416)\n",
      "\n",
      "0: 416x416 (no detections), 93.5ms\n",
      "Speed: 3.5ms preprocess, 93.5ms inference, 0.0ms postprocess per image at shape (1, 3, 416, 416)\n",
      "\n",
      "\n",
      "0: 416x416 (no detections), 109.8ms\n",
      "Speed: 3.0ms preprocess, 109.8ms inference, 0.0ms postprocess per image at shape (1, 3, 416, 416)\n",
      "\n",
      "0: 416x416 (no detections), 112.7ms\n",
      "Speed: 3.0ms preprocess, 112.7ms inference, 0.0ms postprocess per image at shape (1, 3, 416, 416)\n",
      "0: 416x416 (no detections), 99.7ms\n",
      "Speed: 3.0ms preprocess, 99.7ms inference, 0.0ms postprocess per image at shape (1, 3, 416, 416)\n",
      "\n",
      "\n",
      "0: 416x416 (no detections), 111.6ms\n",
      "Speed: 2.6ms preprocess, 111.6ms inference, 1.0ms postprocess per image at shape (1, 3, 416, 416)\n",
      "\n",
      "0: 416x416 (no detections), 112.0ms\n",
      "Speed: 2.0ms preprocess, 112.0ms inference, 1.0ms postprocess per image at shape (1, 3, 416, 416)\n",
      "0: 416x416 (no detections), 99.9ms\n",
      "Speed: 3.0ms preprocess, 99.9ms inference, 1.0ms postprocess per image at shape (1, 3, 416, 416)\n",
      "\n",
      "\n",
      "0: 416x416 (no detections), 104.5ms\n",
      "Speed: 3.0ms preprocess, 104.5ms inference, 1.0ms postprocess per image at shape (1, 3, 416, 416)\n",
      "\n",
      "0: 416x416 (no detections), 113.6ms\n",
      "Speed: 2.0ms preprocess, 113.6ms inference, 1.0ms postprocess per image at shape (1, 3, 416, 416)\n",
      "0: 416x416 (no detections), 102.8ms\n",
      "Speed: 3.0ms preprocess, 102.8ms inference, 1.0ms postprocess per image at shape (1, 3, 416, 416)\n",
      "\n",
      "0: 416x416 (no detections), 97.0ms\n",
      "Speed: 2.0ms preprocess, 97.0ms inference, 0.0ms postprocess per image at shape (1, 3, 416, 416)\n",
      "\n",
      "\n",
      "0: 416x416 (no detections), 111.1ms\n",
      "Speed: 2.0ms preprocess, 111.1ms inference, 1.0ms postprocess per image at shape (1, 3, 416, 416)\n",
      "0: 416x416 (no detections), 110.6ms\n",
      "Speed: 3.0ms preprocess, 110.6ms inference, 1.0ms postprocess per image at shape (1, 3, 416, 416)\n",
      "\n",
      "0: 416x416 (no detections), 97.3ms\n",
      "Speed: 3.0ms preprocess, 97.3ms inference, 0.0ms postprocess per image at shape (1, 3, 416, 416)\n",
      "\n",
      "\n",
      "0: 416x416 (no detections), 116.8ms\n",
      "Speed: 2.0ms preprocess, 116.8ms inference, 1.0ms postprocess per image at shape (1, 3, 416, 416)\n",
      "0: 416x416 (no detections), 105.8ms\n",
      "Speed: 2.0ms preprocess, 105.8ms inference, 1.0ms postprocess per image at shape (1, 3, 416, 416)\n",
      "\n",
      "0: 416x416 (no detections), 104.3ms\n",
      "Speed: 2.5ms preprocess, 104.3ms inference, 1.0ms postprocess per image at shape (1, 3, 416, 416)\n",
      "\n",
      "\n",
      "0: 416x416 (no detections), 109.4ms\n",
      "Speed: 4.0ms preprocess, 109.4ms inference, 1.0ms postprocess per image at shape (1, 3, 416, 416)\n",
      "\n",
      "0: 416x416 (no detections), 107.5ms\n",
      "Speed: 2.0ms preprocess, 107.5ms inference, 1.0ms postprocess per image at shape (1, 3, 416, 416)\n",
      "0: 416x416 (no detections), 94.0ms\n",
      "Speed: 3.0ms preprocess, 94.0ms inference, 1.5ms postprocess per image at shape (1, 3, 416, 416)\n",
      "\n",
      "\n",
      "0: 416x416 (no detections), 107.7ms\n",
      "Speed: 2.5ms preprocess, 107.7ms inference, 0.0ms postprocess per image at shape (1, 3, 416, 416)\n",
      "\n",
      "0: 416x416 (no detections), 110.7ms\n",
      "Speed: 2.0ms preprocess, 110.7ms inference, 1.2ms postprocess per image at shape (1, 3, 416, 416)\n",
      "0: 416x416 (no detections), 99.6ms\n",
      "Speed: 2.5ms preprocess, 99.6ms inference, 1.0ms postprocess per image at shape (1, 3, 416, 416)\n",
      "\n",
      "\n",
      "0: 416x416 (no detections), 101.1ms\n",
      "Speed: 2.0ms preprocess, 101.1ms inference, 1.0ms postprocess per image at shape (1, 3, 416, 416)\n",
      "\n",
      "0: 416x416 (no detections), 109.9ms\n",
      "Speed: 2.0ms preprocess, 109.9ms inference, 1.0ms postprocess per image at shape (1, 3, 416, 416)\n",
      "0: 416x416 (no detections), 98.5ms\n",
      "Speed: 3.0ms preprocess, 98.5ms inference, 0.0ms postprocess per image at shape (1, 3, 416, 416)\n",
      "\n",
      "0: 416x416 (no detections), 90.5ms\n",
      "Speed: 3.0ms preprocess, 90.5ms inference, 1.0ms postprocess per image at shape (1, 3, 416, 416)\n",
      "\n",
      "\n",
      "0: 416x416 (no detections), 106.0ms\n",
      "0: 416x416 (no detections), 105.0ms\n",
      "Speed: 1.9ms preprocess, 106.0ms inference, 2.0ms postprocess per image at shape (1, 3, 416, 416)\n",
      "Speed: 5.5ms preprocess, 105.0ms inference, 2.0ms postprocess per image at shape (1, 3, 416, 416)\n",
      "\n",
      "0: 416x416 (no detections), 92.3ms\n",
      "Speed: 2.0ms preprocess, 92.3ms inference, 1.0ms postprocess per image at shape (1, 3, 416, 416)\n",
      "\n",
      "\n",
      "0: 416x416 (no detections), 104.2ms\n",
      "Speed: 2.0ms preprocess, 104.2ms inference, 0.0ms postprocess per image at shape (1, 3, 416, 416)\n",
      "\n",
      "0: 416x416 (no detections), 105.1ms\n",
      "Speed: 1.0ms preprocess, 105.1ms inference, 0.0ms postprocess per image at shape (1, 3, 416, 416)\n",
      "0: 416x416 (no detections), 92.4ms\n",
      "Speed: 3.0ms preprocess, 92.4ms inference, 1.0ms postprocess per image at shape (1, 3, 416, 416)\n",
      "\n",
      "\n",
      "0: 416x416 (no detections), 100.7ms\n",
      "Speed: 3.0ms preprocess, 100.7ms inference, 1.5ms postprocess per image at shape (1, 3, 416, 416)\n",
      "\n",
      "0: 416x416 (no detections), 103.9ms\n",
      "Speed: 2.6ms preprocess, 103.9ms inference, 1.3ms postprocess per image at shape (1, 3, 416, 416)\n",
      "0: 416x416 (no detections), 96.2ms\n",
      "Speed: 3.0ms preprocess, 96.2ms inference, 1.0ms postprocess per image at shape (1, 3, 416, 416)\n",
      "\n",
      "0: 416x416 (no detections), 92.9ms\n",
      "Speed: 3.3ms preprocess, 92.9ms inference, 1.0ms postprocess per image at shape (1, 3, 416, 416)\n",
      "\n",
      "\n",
      "0: 416x416 (no detections), 122.5ms\n",
      "Speed: 1.0ms preprocess, 122.5ms inference, 0.5ms postprocess per image at shape (1, 3, 416, 416)\n",
      "0: 416x416 (no detections), 120.0ms\n",
      "Speed: 3.0ms preprocess, 120.0ms inference, 1.0ms postprocess per image at shape (1, 3, 416, 416)\n",
      "\n",
      "0: 416x416 (no detections), 90.9ms\n",
      "Speed: 3.5ms preprocess, 90.9ms inference, 1.0ms postprocess per image at shape (1, 3, 416, 416)\n",
      "\n",
      "\n",
      "0: 416x416 (no detections), 103.9ms\n",
      "Speed: 2.9ms preprocess, 103.9ms inference, 1.0ms postprocess per image at shape (1, 3, 416, 416)\n",
      "\n",
      "0: 416x416 (no detections), 102.8ms\n",
      "Speed: 3.1ms preprocess, 102.8ms inference, 1.0ms postprocess per image at shape (1, 3, 416, 416)\n",
      "0: 416x416 (no detections), 94.0ms\n",
      "Speed: 3.0ms preprocess, 94.0ms inference, 0.0ms postprocess per image at shape (1, 3, 416, 416)\n",
      "\n",
      "\n",
      "0: 416x416 (no detections), 101.5ms\n",
      "Speed: 3.4ms preprocess, 101.5ms inference, 1.0ms postprocess per image at shape (1, 3, 416, 416)\n",
      "\n",
      "0: 416x416 (no detections), 111.6ms\n",
      "Speed: 3.0ms preprocess, 111.6ms inference, 1.0ms postprocess per image at shape (1, 3, 416, 416)\n",
      "0: 416x416 (no detections), 99.6ms\n",
      "Speed: 3.0ms preprocess, 99.6ms inference, 1.0ms postprocess per image at shape (1, 3, 416, 416)\n",
      "\n",
      "\n",
      "0: 416x416 (no detections), 101.5ms\n",
      "Speed: 2.6ms preprocess, 101.5ms inference, 1.0ms postprocess per image at shape (1, 3, 416, 416)\n",
      "\n",
      "0: 416x416 (no detections), 113.2ms\n",
      "Speed: 2.0ms preprocess, 113.2ms inference, 1.0ms postprocess per image at shape (1, 3, 416, 416)\n",
      "0: 416x416 (no detections), 104.2ms\n",
      "Speed: 3.0ms preprocess, 104.2ms inference, 1.0ms postprocess per image at shape (1, 3, 416, 416)\n",
      "\n",
      "0: 416x416 (no detections), 102.8ms\n",
      "Speed: 2.1ms preprocess, 102.8ms inference, 1.0ms postprocess per image at shape (1, 3, 416, 416)\n",
      "\n",
      "\n",
      "0: 416x416 (no detections), 126.9ms\n",
      "Speed: 6.5ms preprocess, 126.9ms inference, 1.2ms postprocess per image at shape (1, 3, 416, 416)\n",
      "0: 416x416 (no detections), 131.5ms\n",
      "Speed: 4.5ms preprocess, 131.5ms inference, 1.0ms postprocess per image at shape (1, 3, 416, 416)\n",
      "\n",
      "0: 416x416 (no detections), 95.0ms\n",
      "Speed: 3.0ms preprocess, 95.0ms inference, 1.0ms postprocess per image at shape (1, 3, 416, 416)\n",
      "\n",
      "\n",
      "0: 416x416 (no detections), 117.3ms\n",
      "Speed: 2.0ms preprocess, 117.3ms inference, 1.0ms postprocess per image at shape (1, 3, 416, 416)\n",
      "0: 416x416 (no detections), 113.0ms\n",
      "Speed: 6.4ms preprocess, 113.0ms inference, 0.0ms postprocess per image at shape (1, 3, 416, 416)\n",
      "\n",
      "0: 416x416 (no detections), 96.9ms\n",
      "Speed: 3.0ms preprocess, 96.9ms inference, 0.0ms postprocess per image at shape (1, 3, 416, 416)\n",
      "\n",
      "\n",
      "0: 416x416 (no detections), 110.3ms\n",
      "Speed: 3.0ms preprocess, 110.3ms inference, 1.0ms postprocess per image at shape (1, 3, 416, 416)\n",
      "\n",
      "0: 416x416 (no detections), 116.7ms\n",
      "Speed: 2.5ms preprocess, 116.7ms inference, 1.0ms postprocess per image at shape (1, 3, 416, 416)\n",
      "0: 416x416 (no detections), 99.9ms\n",
      "Speed: 3.5ms preprocess, 99.9ms inference, 1.0ms postprocess per image at shape (1, 3, 416, 416)\n",
      "\n",
      "\n",
      "0: 416x416 (no detections), 137.1ms\n",
      "Speed: 3.0ms preprocess, 137.1ms inference, 1.0ms postprocess per image at shape (1, 3, 416, 416)\n",
      "\n",
      "0: 416x416 (no detections), 115.5ms\n",
      "Speed: 4.5ms preprocess, 115.5ms inference, 0.0ms postprocess per image at shape (1, 3, 416, 416)\n",
      "0: 416x416 (no detections), 98.3ms\n",
      "Speed: 2.0ms preprocess, 98.3ms inference, 1.0ms postprocess per image at shape (1, 3, 416, 416)\n",
      "\n",
      "\n",
      "0: 416x416 (no detections), 124.2ms\n",
      "Speed: 3.0ms preprocess, 124.2ms inference, 1.1ms postprocess per image at shape (1, 3, 416, 416)\n",
      "\n",
      "0: 416x416 (no detections), 128.6ms\n",
      "Speed: 2.0ms preprocess, 128.6ms inference, 1.5ms postprocess per image at shape (1, 3, 416, 416)\n",
      "0: 416x416 (no detections), 98.9ms\n",
      "Speed: 3.0ms preprocess, 98.9ms inference, 0.0ms postprocess per image at shape (1, 3, 416, 416)\n",
      "\n",
      "\n",
      "0: 416x416 (no detections), 107.4ms\n",
      "Speed: 3.0ms preprocess, 107.4ms inference, 1.0ms postprocess per image at shape (1, 3, 416, 416)\n",
      "\n",
      "0: 416x416 (no detections), 112.4ms\n",
      "Speed: 3.5ms preprocess, 112.4ms inference, 1.0ms postprocess per image at shape (1, 3, 416, 416)\n",
      "0: 416x416 (no detections), 105.8ms\n",
      "Speed: 3.0ms preprocess, 105.8ms inference, 0.0ms postprocess per image at shape (1, 3, 416, 416)\n",
      "\n",
      "\n",
      "0: 416x416 (no detections), 121.7ms\n",
      "Speed: 2.0ms preprocess, 121.7ms inference, 1.0ms postprocess per image at shape (1, 3, 416, 416)\n",
      "\n",
      "0: 416x416 1 Speed Limit 50, 121.0ms\n",
      "Speed: 2.8ms preprocess, 121.0ms inference, 0.5ms postprocess per image at shape (1, 3, 416, 416)\n",
      "0: 416x416 (no detections), 115.0ms\n",
      "Speed: 3.2ms preprocess, 115.0ms inference, 1.0ms postprocess per image at shape (1, 3, 416, 416)\n",
      "\n",
      "\n",
      "0: 416x416 (no detections), 94.9ms\n",
      "Speed: 2.5ms preprocess, 94.9ms inference, 1.0ms postprocess per image at shape (1, 3, 416, 416)\n",
      "\n",
      "0: 416x416 1 Speed Limit 50, 105.5ms\n",
      "Speed: 2.0ms preprocess, 105.5ms inference, 1.0ms postprocess per image at shape (1, 3, 416, 416)\n",
      "0: 416x416 (no detections), 94.8ms\n",
      "Speed: 3.2ms preprocess, 94.8ms inference, 1.0ms postprocess per image at shape (1, 3, 416, 416)\n",
      "\n",
      "0: 416x416 (no detections), 92.1ms\n",
      "Speed: 3.0ms preprocess, 92.1ms inference, 1.0ms postprocess per image at shape (1, 3, 416, 416)\n",
      "\n",
      "\n",
      "0: 416x416 (no detections), 106.8ms\n",
      "Speed: 1.9ms preprocess, 106.8ms inference, 1.0ms postprocess per image at shape (1, 3, 416, 416)\n",
      "0: 416x416 1 Speed Limit 30, 1 Speed Limit 50, 99.1ms\n",
      "\n",
      "Speed: 3.0ms preprocess, 99.1ms inference, 2.0ms postprocess per image at shape (1, 3, 416, 416)\n",
      "0: 416x416 (no detections), 89.9ms\n",
      "Speed: 3.0ms preprocess, 89.9ms inference, 1.0ms postprocess per image at shape (1, 3, 416, 416)\n",
      "\n",
      "\n",
      "0: 416x416 (no detections), 107.1ms\n",
      "Speed: 3.0ms preprocess, 107.1ms inference, 1.0ms postprocess per image at shape (1, 3, 416, 416)\n",
      "\n",
      "0: 416x416 1 Speed Limit 30, 120.2ms\n",
      "Speed: 2.1ms preprocess, 120.2ms inference, 2.0ms postprocess per image at shape (1, 3, 416, 416)\n",
      "0: 416x416 (no detections), 94.5ms\n",
      "Speed: 2.5ms preprocess, 94.5ms inference, 1.0ms postprocess per image at shape (1, 3, 416, 416)\n",
      "\n",
      "\n",
      "0: 416x416 (no detections), 103.4ms\n",
      "Speed: 2.0ms preprocess, 103.4ms inference, 2.0ms postprocess per image at shape (1, 3, 416, 416)\n",
      "\n",
      "0: 416x416 1 Speed Limit 30, 109.7ms\n",
      "Speed: 2.0ms preprocess, 109.7ms inference, 2.0ms postprocess per image at shape (1, 3, 416, 416)\n",
      "0: 416x416 (no detections), 99.9ms\n",
      "Speed: 3.5ms preprocess, 99.9ms inference, 1.1ms postprocess per image at shape (1, 3, 416, 416)\n",
      "\n",
      "\n"
     ]
    },
    {
     "name": "stdout",
     "output_type": "stream",
     "text": [
      "0.8884706\n"
     ]
    },
    {
     "name": "stderr",
     "output_type": "stream",
     "text": [
      "0: 416x416 (no detections), 188.7ms\n",
      "Speed: 8.2ms preprocess, 188.7ms inference, 1.0ms postprocess per image at shape (1, 3, 416, 416)\n",
      "\n",
      "0: 416x416 1 Speed Limit 30, 184.9ms\n",
      "Speed: 7.5ms preprocess, 184.9ms inference, 1.0ms postprocess per image at shape (1, 3, 416, 416)\n",
      "\n",
      "0: 416x416 (no detections), 164.9ms\n",
      "Speed: 7.5ms preprocess, 164.9ms inference, 1.0ms postprocess per image at shape (1, 3, 416, 416)\n",
      "\n",
      "0: 416x416 1 Speed Limit 30, 142.6ms\n",
      "Speed: 2.0ms preprocess, 142.6ms inference, 2.0ms postprocess per image at shape (1, 3, 416, 416)\n"
     ]
    },
    {
     "name": "stdout",
     "output_type": "stream",
     "text": [
      "0.91433036\n",
      "0.9202318\n"
     ]
    },
    {
     "name": "stderr",
     "output_type": "stream",
     "text": [
      "\n",
      "0: 416x416 (no detections), 124.6ms\n",
      "Speed: 8.0ms preprocess, 124.6ms inference, 1.0ms postprocess per image at shape (1, 3, 416, 416)\n",
      "\n",
      "0: 416x416 (no detections), 106.3ms\n",
      "Speed: 2.0ms preprocess, 106.3ms inference, 1.4ms postprocess per image at shape (1, 3, 416, 416)\n",
      "0: 416x416 (no detections), 97.9ms\n",
      "Speed: 3.0ms preprocess, 97.9ms inference, 0.0ms postprocess per image at shape (1, 3, 416, 416)\n",
      "\n",
      "0: 416x416 (no detections), 90.8ms\n",
      "Speed: 2.0ms preprocess, 90.8ms inference, 1.1ms postprocess per image at shape (1, 3, 416, 416)\n",
      "\n",
      "\n",
      "0: 416x416 (no detections), 107.0ms\n",
      "Speed: 3.0ms preprocess, 107.0ms inference, 1.1ms postprocess per image at shape (1, 3, 416, 416)\n",
      "0: 416x416 (no detections), 104.2ms\n",
      "\n",
      "Speed: 2.0ms preprocess, 104.2ms inference, 1.0ms postprocess per image at shape (1, 3, 416, 416)\n",
      "0: 416x416 (no detections), 127.5ms\n",
      "Speed: 3.0ms preprocess, 127.5ms inference, 2.0ms postprocess per image at shape (1, 3, 416, 416)\n",
      "\n",
      "\n",
      "0: 416x416 (no detections), 146.3ms\n",
      "Speed: 9.5ms preprocess, 146.3ms inference, 0.0ms postprocess per image at shape (1, 3, 416, 416)\n",
      "0: 416x416 (no detections), 129.6ms\n",
      "Speed: 3.0ms preprocess, 129.6ms inference, 1.0ms postprocess per image at shape (1, 3, 416, 416)\n",
      "\n",
      "\n",
      "0: 416x416 (no detections), 125.7ms\n",
      "Speed: 9.5ms preprocess, 125.7ms inference, 1.0ms postprocess per image at shape (1, 3, 416, 416)\n",
      "\n",
      "0: 416x416 (no detections), 108.9ms\n",
      "Speed: 2.2ms preprocess, 108.9ms inference, 1.0ms postprocess per image at shape (1, 3, 416, 416)\n",
      "0: 416x416 (no detections), 90.4ms\n",
      "Speed: 2.0ms preprocess, 90.4ms inference, 1.0ms postprocess per image at shape (1, 3, 416, 416)\n",
      "\n",
      "\n",
      "0: 416x416 (no detections), 103.0ms\n",
      "Speed: 2.0ms preprocess, 103.0ms inference, 1.0ms postprocess per image at shape (1, 3, 416, 416)\n",
      "\n",
      "0: 416x416 (no detections), 103.5ms\n",
      "Speed: 2.2ms preprocess, 103.5ms inference, 1.1ms postprocess per image at shape (1, 3, 416, 416)\n",
      "0: 416x416 (no detections), 96.9ms\n",
      "Speed: 3.4ms preprocess, 96.9ms inference, 1.0ms postprocess per image at shape (1, 3, 416, 416)\n",
      "\n",
      "\n",
      "0: 416x416 (no detections), 96.7ms\n",
      "Speed: 2.5ms preprocess, 96.7ms inference, 2.5ms postprocess per image at shape (1, 3, 416, 416)\n",
      "\n",
      "0: 416x416 (no detections), 103.0ms\n",
      "Speed: 2.5ms preprocess, 103.0ms inference, 1.0ms postprocess per image at shape (1, 3, 416, 416)\n",
      "0: 416x416 (no detections), 96.3ms\n",
      "Speed: 3.0ms preprocess, 96.3ms inference, 1.0ms postprocess per image at shape (1, 3, 416, 416)\n",
      "\n",
      "0: 416x416 (no detections), 95.1ms\n",
      "Speed: 3.0ms preprocess, 95.1ms inference, 0.0ms postprocess per image at shape (1, 3, 416, 416)\n",
      "\n",
      "\n",
      "0: 416x416 (no detections), 107.4ms\n",
      "Speed: 2.5ms preprocess, 107.4ms inference, 1.0ms postprocess per image at shape (1, 3, 416, 416)\n",
      "0: 416x416 (no detections), 100.6ms\n",
      "Speed: 2.7ms preprocess, 100.6ms inference, 1.0ms postprocess per image at shape (1, 3, 416, 416)\n",
      "\n",
      "0: 416x416 (no detections), 92.9ms\n",
      "Speed: 3.0ms preprocess, 92.9ms inference, 0.0ms postprocess per image at shape (1, 3, 416, 416)\n",
      "\n",
      "\n",
      "0: 416x416 (no detections), 101.5ms\n",
      "Speed: 2.0ms preprocess, 101.5ms inference, 1.0ms postprocess per image at shape (1, 3, 416, 416)\n",
      "\n",
      "0: 416x416 (no detections), 104.8ms\n",
      "Speed: 2.0ms preprocess, 104.8ms inference, 1.0ms postprocess per image at shape (1, 3, 416, 416)\n",
      "0: 416x416 (no detections), 100.4ms\n",
      "Speed: 2.0ms preprocess, 100.4ms inference, 1.0ms postprocess per image at shape (1, 3, 416, 416)\n",
      "\n",
      "\n",
      "0: 416x416 (no detections), 103.9ms\n",
      "Speed: 3.0ms preprocess, 103.9ms inference, 1.0ms postprocess per image at shape (1, 3, 416, 416)\n",
      "\n",
      "0: 416x416 (no detections), 105.2ms\n",
      "Speed: 3.0ms preprocess, 105.2ms inference, 1.0ms postprocess per image at shape (1, 3, 416, 416)\n",
      "0: 416x416 (no detections), 91.0ms\n",
      "Speed: 4.0ms preprocess, 91.0ms inference, 1.0ms postprocess per image at shape (1, 3, 416, 416)\n",
      "\n",
      "\n",
      "0: 416x416 (no detections), 93.9ms\n",
      "Speed: 3.0ms preprocess, 93.9ms inference, 1.0ms postprocess per image at shape (1, 3, 416, 416)\n",
      "\n",
      "0: 416x416 (no detections), 100.1ms\n",
      "Speed: 3.0ms preprocess, 100.1ms inference, 0.0ms postprocess per image at shape (1, 3, 416, 416)\n",
      "0: 416x416 (no detections), 91.6ms\n",
      "Speed: 2.9ms preprocess, 91.6ms inference, 1.0ms postprocess per image at shape (1, 3, 416, 416)\n",
      "\n",
      "\n",
      "0: 416x416 (no detections), 98.2ms\n",
      "Speed: 2.5ms preprocess, 98.2ms inference, 1.0ms postprocess per image at shape (1, 3, 416, 416)\n",
      "\n",
      "0: 416x416 (no detections), 102.5ms\n",
      "Speed: 3.0ms preprocess, 102.5ms inference, 1.2ms postprocess per image at shape (1, 3, 416, 416)\n",
      "0: 416x416 (no detections), 92.6ms\n",
      "Speed: 3.1ms preprocess, 92.6ms inference, 1.0ms postprocess per image at shape (1, 3, 416, 416)\n",
      "\n",
      "\n",
      "0: 416x416 (no detections), 98.0ms\n",
      "Speed: 2.0ms preprocess, 98.0ms inference, 1.0ms postprocess per image at shape (1, 3, 416, 416)\n",
      "\n",
      "0: 416x416 (no detections), 99.0ms\n",
      "Speed: 3.0ms preprocess, 99.0ms inference, 1.0ms postprocess per image at shape (1, 3, 416, 416)\n",
      "0: 416x416 (no detections), 86.3ms\n",
      "Speed: 2.6ms preprocess, 86.3ms inference, 1.0ms postprocess per image at shape (1, 3, 416, 416)\n",
      "\n",
      "\n",
      "0: 416x416 (no detections), 98.0ms\n",
      "Speed: 3.0ms preprocess, 98.0ms inference, 1.1ms postprocess per image at shape (1, 3, 416, 416)\n",
      "0: 416x416 (no detections), 98.0ms\n",
      "Speed: 2.0ms preprocess, 98.0ms inference, 0.0ms postprocess per image at shape (1, 3, 416, 416)\n",
      "\n",
      "0: 416x416 (no detections), 88.0ms\n",
      "\n",
      "Speed: 3.0ms preprocess, 88.0ms inference, 0.0ms postprocess per image at shape (1, 3, 416, 416)\n",
      "\n",
      "0: 416x416 (no detections), 101.8ms\n",
      "Speed: 3.2ms preprocess, 101.8ms inference, 2.0ms postprocess per image at shape (1, 3, 416, 416)\n",
      "0: 416x416 (no detections), 97.4ms\n",
      "Speed: 2.0ms preprocess, 97.4ms inference, 1.0ms postprocess per image at shape (1, 3, 416, 416)\n",
      "\n",
      "\n",
      "0: 416x416 (no detections), 104.2ms\n",
      "Speed: 3.0ms preprocess, 104.2ms inference, 1.0ms postprocess per image at shape (1, 3, 416, 416)\n",
      "\n",
      "0: 416x416 (no detections), 103.0ms\n",
      "Speed: 2.8ms preprocess, 103.0ms inference, 1.0ms postprocess per image at shape (1, 3, 416, 416)\n",
      "0: 416x416 (no detections), 92.8ms\n",
      "Speed: 3.0ms preprocess, 92.8ms inference, 0.0ms postprocess per image at shape (1, 3, 416, 416)\n",
      "\n",
      "\n",
      "0: 416x416 (no detections), 98.9ms\n",
      "Speed: 3.0ms preprocess, 98.9ms inference, 0.0ms postprocess per image at shape (1, 3, 416, 416)\n",
      "\n",
      "0: 416x416 (no detections), 98.7ms\n",
      "Speed: 2.0ms preprocess, 98.7ms inference, 1.0ms postprocess per image at shape (1, 3, 416, 416)\n",
      "0: 416x416 (no detections), 85.8ms\n",
      "Speed: 2.5ms preprocess, 85.8ms inference, 1.0ms postprocess per image at shape (1, 3, 416, 416)\n",
      "\n",
      "\n",
      "0: 416x416 (no detections), 99.8ms\n",
      "Speed: 3.0ms preprocess, 99.8ms inference, 1.0ms postprocess per image at shape (1, 3, 416, 416)\n",
      "0: 416x416 (no detections), 96.0ms\n",
      "Speed: 2.0ms preprocess, 96.0ms inference, 1.0ms postprocess per image at shape (1, 3, 416, 416)\n",
      "\n",
      "0: 416x416 (no detections), 88.4ms\n",
      "Speed: 1.9ms preprocess, 88.4ms inference, 0.5ms postprocess per image at shape (1, 3, 416, 416)\n",
      "\n",
      "\n",
      "0: 416x416 (no detections), 101.4ms\n",
      "Speed: 3.0ms preprocess, 101.4ms inference, 1.0ms postprocess per image at shape (1, 3, 416, 416)\n",
      "0: 416x416 (no detections), 103.4ms\n",
      "Speed: 5.5ms preprocess, 103.4ms inference, 5.8ms postprocess per image at shape (1, 3, 416, 416)\n",
      "\n",
      "\n",
      "0: 416x416 (no detections), 92.9ms\n",
      "Speed: 2.5ms preprocess, 92.9ms inference, 1.0ms postprocess per image at shape (1, 3, 416, 416)\n",
      "\n",
      "0: 416x416 (no detections), 103.4ms\n",
      "Speed: 2.0ms preprocess, 103.4ms inference, 1.2ms postprocess per image at shape (1, 3, 416, 416)\n",
      "0: 416x416 (no detections), 96.8ms\n",
      "Speed: 2.0ms preprocess, 96.8ms inference, 0.0ms postprocess per image at shape (1, 3, 416, 416)\n",
      "\n",
      "\n",
      "0: 416x416 (no detections), 105.8ms\n",
      "Speed: 3.0ms preprocess, 105.8ms inference, 1.0ms postprocess per image at shape (1, 3, 416, 416)\n",
      "\n",
      "0: 416x416 (no detections), 102.8ms\n",
      "Speed: 2.4ms preprocess, 102.8ms inference, 1.0ms postprocess per image at shape (1, 3, 416, 416)\n",
      "0: 416x416 (no detections), 91.5ms\n",
      "Speed: 2.0ms preprocess, 91.5ms inference, 1.5ms postprocess per image at shape (1, 3, 416, 416)\n",
      "\n",
      "0: 416x416 (no detections), 88.1ms\n",
      "Speed: 2.0ms preprocess, 88.1ms inference, 0.0ms postprocess per image at shape (1, 3, 416, 416)\n",
      "\n",
      "\n",
      "0: 416x416 (no detections), 102.7ms\n",
      "Speed: 6.5ms preprocess, 102.7ms inference, 1.1ms postprocess per image at shape (1, 3, 416, 416)\n",
      "0: 416x416 (no detections), 108.4ms\n",
      "Speed: 3.0ms preprocess, 108.4ms inference, 3.0ms postprocess per image at shape (1, 3, 416, 416)\n",
      "\n",
      "\n",
      "0: 416x416 1 red, 93.8ms\n",
      "Speed: 2.5ms preprocess, 93.8ms inference, 2.0ms postprocess per image at shape (1, 3, 416, 416)\n",
      "\n",
      "0: 416x416 (no detections), 101.6ms\n",
      "Speed: 2.0ms preprocess, 101.6ms inference, 1.0ms postprocess per image at shape (1, 3, 416, 416)\n",
      "0: 416x416 (no detections), 94.1ms\n",
      "Speed: 3.0ms preprocess, 94.1ms inference, 0.0ms postprocess per image at shape (1, 3, 416, 416)\n",
      "\n",
      "\n",
      "0: 416x416 (no detections), 95.5ms\n",
      "Speed: 3.5ms preprocess, 95.5ms inference, 1.0ms postprocess per image at shape (1, 3, 416, 416)\n",
      "\n",
      "0: 416x416 (no detections), 100.9ms\n",
      "Speed: 2.1ms preprocess, 100.9ms inference, 1.0ms postprocess per image at shape (1, 3, 416, 416)\n",
      "0: 416x416 (no detections), 91.3ms\n",
      "Speed: 2.5ms preprocess, 91.3ms inference, 0.0ms postprocess per image at shape (1, 3, 416, 416)\n",
      "\n",
      "\n",
      "0: 416x416 (no detections), 102.0ms\n",
      "Speed: 3.5ms preprocess, 102.0ms inference, 1.3ms postprocess per image at shape (1, 3, 416, 416)\n",
      "\n",
      "0: 416x416 (no detections), 104.6ms\n",
      "Speed: 1.6ms preprocess, 104.6ms inference, 1.0ms postprocess per image at shape (1, 3, 416, 416)\n",
      "0: 416x416 (no detections), 89.3ms\n",
      "Speed: 2.0ms preprocess, 89.3ms inference, 1.0ms postprocess per image at shape (1, 3, 416, 416)\n",
      "\n",
      "\n",
      "0: 416x416 1 red, 98.8ms\n",
      "Speed: 2.0ms preprocess, 98.8ms inference, 6.5ms postprocess per image at shape (1, 3, 416, 416)\n",
      "\n",
      "0: 416x416 (no detections), 103.1ms\n",
      "Speed: 2.0ms preprocess, 103.1ms inference, 1.5ms postprocess per image at shape (1, 3, 416, 416)\n",
      "0: 416x416 1 green, 1 red, 97.2ms\n",
      "Speed: 2.0ms preprocess, 97.2ms inference, 1.0ms postprocess per image at shape (1, 3, 416, 416)\n",
      "\n",
      "0: 416x416 (no detections), 92.9ms\n",
      "Speed: 5.5ms preprocess, 92.9ms inference, 0.0ms postprocess per image at shape (1, 3, 416, 416)\n",
      "\n",
      "\n"
     ]
    },
    {
     "name": "stdout",
     "output_type": "stream",
     "text": [
      "0.6783589\n"
     ]
    },
    {
     "name": "stderr",
     "output_type": "stream",
     "text": [
      "0: 416x416 (no detections), 107.5ms\n",
      "Speed: 3.0ms preprocess, 107.5ms inference, 1.0ms postprocess per image at shape (1, 3, 416, 416)\n",
      "\n",
      "0: 416x416 (no detections), 111.5ms\n",
      "Speed: 1.5ms preprocess, 111.5ms inference, 1.5ms postprocess per image at shape (1, 3, 416, 416)\n",
      "0: 416x416 (no detections), 98.7ms\n",
      "Speed: 3.5ms preprocess, 98.7ms inference, 1.5ms postprocess per image at shape (1, 3, 416, 416)\n",
      "\n",
      "\n",
      "0: 416x416 (no detections), 94.1ms\n",
      "Speed: 2.5ms preprocess, 94.1ms inference, 1.0ms postprocess per image at shape (1, 3, 416, 416)\n",
      "\n",
      "0: 416x416 (no detections), 102.2ms\n",
      "Speed: 2.5ms preprocess, 102.2ms inference, 2.0ms postprocess per image at shape (1, 3, 416, 416)\n",
      "0: 416x416 (no detections), 95.9ms\n",
      "Speed: 2.0ms preprocess, 95.9ms inference, 1.0ms postprocess per image at shape (1, 3, 416, 416)\n",
      "\n",
      "0: 416x416 (no detections), 87.8ms\n",
      "Speed: 2.0ms preprocess, 87.8ms inference, 0.0ms postprocess per image at shape (1, 3, 416, 416)\n",
      "\n",
      "\n",
      "0: 416x416 (no detections), 101.1ms\n",
      "Speed: 2.0ms preprocess, 101.1ms inference, 1.0ms postprocess per image at shape (1, 3, 416, 416)\n",
      "\n",
      "0: 416x416 1 Speed Limit 90, 101.3ms\n",
      "Speed: 1.0ms preprocess, 101.3ms inference, 1.0ms postprocess per image at shape (1, 3, 416, 416)\n",
      "0: 416x416 (no detections), 87.0ms\n",
      "Speed: 2.6ms preprocess, 87.0ms inference, 1.3ms postprocess per image at shape (1, 3, 416, 416)\n",
      "\n",
      "\n",
      "0: 416x416 (no detections), 92.7ms\n",
      "Speed: 2.0ms preprocess, 92.7ms inference, 0.5ms postprocess per image at shape (1, 3, 416, 416)\n",
      "\n",
      "0: 416x416 1 Speed Limit 30, 100.8ms\n",
      "Speed: 3.5ms preprocess, 100.8ms inference, 2.0ms postprocess per image at shape (1, 3, 416, 416)\n",
      "0: 416x416 (no detections), 92.8ms\n",
      "Speed: 2.4ms preprocess, 92.8ms inference, 0.0ms postprocess per image at shape (1, 3, 416, 416)\n",
      "\n",
      "\n",
      "0: 416x416 (no detections), 101.2ms\n",
      "Speed: 3.0ms preprocess, 101.2ms inference, 1.1ms postprocess per image at shape (1, 3, 416, 416)\n",
      "\n"
     ]
    },
    {
     "name": "stdout",
     "output_type": "stream",
     "text": [
      "0.9354223\n"
     ]
    },
    {
     "name": "stderr",
     "output_type": "stream",
     "text": [
      "0: 416x416 1 Speed Limit 30, 103.9ms\n",
      "Speed: 2.4ms preprocess, 103.9ms inference, 1.0ms postprocess per image at shape (1, 3, 416, 416)\n",
      "0: 416x416 1 green, 90.5ms\n",
      "Speed: 3.1ms preprocess, 90.5ms inference, 1.0ms postprocess per image at shape (1, 3, 416, 416)\n",
      "\n",
      "0: 416x416 (no detections), 90.5ms\n",
      "Speed: 3.0ms preprocess, 90.5ms inference, 1.0ms postprocess per image at shape (1, 3, 416, 416)\n",
      "\n",
      "\n"
     ]
    },
    {
     "name": "stdout",
     "output_type": "stream",
     "text": [
      "0.93083596\n"
     ]
    },
    {
     "name": "stderr",
     "output_type": "stream",
     "text": [
      "0: 416x416 (no detections), 103.7ms\n",
      "Speed: 2.0ms preprocess, 103.7ms inference, 1.1ms postprocess per image at shape (1, 3, 416, 416)\n",
      "0: 416x416 (no detections), 103.2ms\n",
      "Speed: 2.0ms preprocess, 103.2ms inference, 1.0ms postprocess per image at shape (1, 3, 416, 416)\n",
      "\n",
      "\n",
      "0: 416x416 (no detections), 99.3ms\n",
      "Speed: 3.0ms preprocess, 99.3ms inference, 1.0ms postprocess per image at shape (1, 3, 416, 416)\n",
      "\n",
      "0: 416x416 (no detections), 117.3ms\n",
      "Speed: 2.5ms preprocess, 117.3ms inference, 0.0ms postprocess per image at shape (1, 3, 416, 416)\n",
      "0: 416x416 (no detections), 108.8ms\n",
      "Speed: 2.0ms preprocess, 108.8ms inference, 0.0ms postprocess per image at shape (1, 3, 416, 416)\n",
      "\n",
      "0: 416x416 (no detections), 88.1ms\n",
      "Speed: 2.6ms preprocess, 88.1ms inference, 1.0ms postprocess per image at shape (1, 3, 416, 416)\n",
      "\n",
      "\n",
      "0: 416x416 (no detections), 102.3ms\n",
      "0: 416x416 (no detections), 102.8ms\n",
      "Speed: 7.0ms preprocess, 102.3ms inference, 1.0ms postprocess per image at shape (1, 3, 416, 416)\n",
      "Speed: 2.5ms preprocess, 102.8ms inference, 0.0ms postprocess per image at shape (1, 3, 416, 416)\n",
      "\n",
      "0: 416x416 (no detections), 90.2ms\n",
      "Speed: 2.0ms preprocess, 90.2ms inference, 1.0ms postprocess per image at shape (1, 3, 416, 416)\n",
      "\n",
      "\n",
      "0: 416x416 (no detections), 102.4ms\n",
      "Speed: 2.0ms preprocess, 102.4ms inference, 1.0ms postprocess per image at shape (1, 3, 416, 416)\n",
      "\n",
      "0: 416x416 (no detections), 101.4ms\n",
      "Speed: 2.0ms preprocess, 101.4ms inference, 0.0ms postprocess per image at shape (1, 3, 416, 416)\n",
      "0: 416x416 (no detections), 92.9ms\n",
      "Speed: 2.0ms preprocess, 92.9ms inference, 0.6ms postprocess per image at shape (1, 3, 416, 416)\n",
      "\n",
      "\n",
      "0: 416x416 (no detections), 99.1ms\n",
      "Speed: 3.3ms preprocess, 99.1ms inference, 0.0ms postprocess per image at shape (1, 3, 416, 416)\n",
      "\n",
      "0: 416x416 (no detections), 99.4ms\n",
      "Speed: 2.5ms preprocess, 99.4ms inference, 1.0ms postprocess per image at shape (1, 3, 416, 416)\n",
      "0: 416x416 (no detections), 86.4ms\n",
      "Speed: 2.0ms preprocess, 86.4ms inference, 0.0ms postprocess per image at shape (1, 3, 416, 416)\n",
      "\n",
      "\n",
      "0: 416x416 (no detections), 90.9ms\n",
      "Speed: 3.0ms preprocess, 90.9ms inference, 1.2ms postprocess per image at shape (1, 3, 416, 416)\n",
      "\n",
      "0: 416x416 (no detections), 102.7ms\n",
      "Speed: 2.0ms preprocess, 102.7ms inference, 1.0ms postprocess per image at shape (1, 3, 416, 416)\n",
      "0: 416x416 (no detections), 93.4ms\n",
      "Speed: 2.0ms preprocess, 93.4ms inference, 1.0ms postprocess per image at shape (1, 3, 416, 416)\n",
      "\n",
      "0: 416x416 (no detections), 89.0ms\n",
      "Speed: 2.0ms preprocess, 89.0ms inference, 1.0ms postprocess per image at shape (1, 3, 416, 416)\n",
      "\n",
      "\n",
      "0: 416x416 (no detections), 100.8ms\n",
      "Speed: 2.0ms preprocess, 100.8ms inference, 1.1ms postprocess per image at shape (1, 3, 416, 416)\n",
      "\n",
      "0: 416x416 (no detections), 98.1ms\n",
      "Speed: 3.0ms preprocess, 98.1ms inference, 1.0ms postprocess per image at shape (1, 3, 416, 416)\n",
      "0: 416x416 (no detections), 87.9ms\n",
      "Speed: 2.1ms preprocess, 87.9ms inference, 1.3ms postprocess per image at shape (1, 3, 416, 416)\n",
      "\n",
      "\n",
      "0: 416x416 (no detections), 93.7ms\n",
      "Speed: 3.3ms preprocess, 93.7ms inference, 1.0ms postprocess per image at shape (1, 3, 416, 416)\n",
      "\n",
      "0: 416x416 (no detections), 98.1ms\n",
      "Speed: 2.0ms preprocess, 98.1ms inference, 1.0ms postprocess per image at shape (1, 3, 416, 416)\n",
      "0: 416x416 (no detections), 92.1ms\n",
      "Speed: 1.0ms preprocess, 92.1ms inference, 0.0ms postprocess per image at shape (1, 3, 416, 416)\n",
      "\n",
      "\n",
      "0: 416x416 (no detections), 90.7ms\n",
      "Speed: 2.6ms preprocess, 90.7ms inference, 1.0ms postprocess per image at shape (1, 3, 416, 416)\n",
      "\n",
      "0: 416x416 (no detections), 98.7ms\n",
      "Speed: 2.0ms preprocess, 98.7ms inference, 0.0ms postprocess per image at shape (1, 3, 416, 416)\n",
      "0: 416x416 (no detections), 91.0ms\n",
      "Speed: 3.0ms preprocess, 91.0ms inference, 0.0ms postprocess per image at shape (1, 3, 416, 416)\n",
      "\n",
      "0: 416x416 (no detections), 88.1ms\n",
      "Speed: 3.0ms preprocess, 88.1ms inference, 1.0ms postprocess per image at shape (1, 3, 416, 416)\n",
      "\n",
      "\n",
      "0: 416x416 (no detections), 105.5ms\n",
      "Speed: 2.7ms preprocess, 105.5ms inference, 1.5ms postprocess per image at shape (1, 3, 416, 416)\n",
      "\n",
      "0: 416x416 (no detections), 98.1ms\n",
      "Speed: 2.0ms preprocess, 98.1ms inference, 1.0ms postprocess per image at shape (1, 3, 416, 416)\n",
      "0: 416x416 (no detections), 89.6ms\n",
      "Speed: 2.0ms preprocess, 89.6ms inference, 0.0ms postprocess per image at shape (1, 3, 416, 416)\n",
      "\n",
      "\n",
      "0: 416x416 (no detections), 93.7ms\n",
      "Speed: 3.0ms preprocess, 93.7ms inference, 1.0ms postprocess per image at shape (1, 3, 416, 416)\n",
      "\n",
      "0: 416x416 (no detections), 101.5ms\n",
      "Speed: 2.2ms preprocess, 101.5ms inference, 1.0ms postprocess per image at shape (1, 3, 416, 416)\n",
      "0: 416x416 (no detections), 91.4ms\n",
      "Speed: 2.0ms preprocess, 91.4ms inference, 0.0ms postprocess per image at shape (1, 3, 416, 416)\n",
      "\n",
      "0: 416x416 (no detections), 87.7ms\n",
      "Speed: 3.0ms preprocess, 87.7ms inference, 1.0ms postprocess per image at shape (1, 3, 416, 416)\n",
      "\n",
      "\n",
      "0: 416x416 (no detections), 101.2ms\n",
      "0: 416x416 (no detections), 100.2ms\n",
      "Speed: 2.5ms preprocess, 101.2ms inference, 1.0ms postprocess per image at shape (1, 3, 416, 416)\n",
      "Speed: 4.5ms preprocess, 100.2ms inference, 2.0ms postprocess per image at shape (1, 3, 416, 416)\n",
      "\n",
      "0: 416x416 (no detections), 88.4ms\n",
      "Speed: 2.0ms preprocess, 88.4ms inference, 0.0ms postprocess per image at shape (1, 3, 416, 416)\n",
      "\n",
      "\n",
      "0: 416x416 (no detections), 99.0ms\n",
      "Speed: 2.0ms preprocess, 99.0ms inference, 0.0ms postprocess per image at shape (1, 3, 416, 416)\n",
      "\n",
      "0: 416x416 (no detections), 96.9ms\n",
      "Speed: 2.0ms preprocess, 96.9ms inference, 1.0ms postprocess per image at shape (1, 3, 416, 416)\n",
      "0: 416x416 (no detections), 85.5ms\n",
      "Speed: 2.0ms preprocess, 85.5ms inference, 1.0ms postprocess per image at shape (1, 3, 416, 416)\n",
      "\n",
      "\n",
      "0: 416x416 (no detections), 91.6ms\n",
      "Speed: 1.5ms preprocess, 91.6ms inference, 1.0ms postprocess per image at shape (1, 3, 416, 416)\n",
      "\n",
      "0: 416x416 (no detections), 97.9ms\n",
      "Speed: 2.0ms preprocess, 97.9ms inference, 1.0ms postprocess per image at shape (1, 3, 416, 416)\n",
      "0: 416x416 (no detections), 88.0ms\n",
      "Speed: 3.0ms preprocess, 88.0ms inference, 1.0ms postprocess per image at shape (1, 3, 416, 416)\n",
      "\n",
      "0: 416x416 (no detections), 82.6ms\n",
      "Speed: 2.0ms preprocess, 82.6ms inference, 1.0ms postprocess per image at shape (1, 3, 416, 416)\n",
      "\n",
      "\n",
      "0: 416x416 1 green, 91.7ms\n",
      "Speed: 3.0ms preprocess, 91.7ms inference, 1.4ms postprocess per image at shape (1, 3, 416, 416)\n",
      "0: 416x416 (no detections), 94.8ms\n",
      "Speed: 2.3ms preprocess, 94.8ms inference, 1.0ms postprocess per image at shape (1, 3, 416, 416)\n",
      "\n",
      "0: 416x416 1 green, 85.4ms\n",
      "Speed: 2.5ms preprocess, 85.4ms inference, 1.0ms postprocess per image at shape (1, 3, 416, 416)\n",
      "\n",
      "\n",
      "0: 416x416 1 green, 91.7ms\n",
      "Speed: 2.0ms preprocess, 91.7ms inference, 1.0ms postprocess per image at shape (1, 3, 416, 416)\n",
      "\n",
      "0: 416x416 (no detections), 96.2ms\n",
      "Speed: 2.5ms preprocess, 96.2ms inference, 1.0ms postprocess per image at shape (1, 3, 416, 416)\n",
      "0: 416x416 (no detections), 85.2ms\n",
      "Speed: 2.5ms preprocess, 85.2ms inference, 1.0ms postprocess per image at shape (1, 3, 416, 416)\n",
      "\n",
      "\n",
      "0: 416x416 (no detections), 88.4ms\n",
      "Speed: 2.0ms preprocess, 88.4ms inference, 1.0ms postprocess per image at shape (1, 3, 416, 416)\n",
      "\n",
      "0: 416x416 (no detections), 92.6ms\n",
      "Speed: 2.5ms preprocess, 92.6ms inference, 1.0ms postprocess per image at shape (1, 3, 416, 416)\n",
      "0: 416x416 (no detections), 88.7ms\n",
      "Speed: 2.0ms preprocess, 88.7ms inference, 0.0ms postprocess per image at shape (1, 3, 416, 416)\n",
      "\n",
      "0: 416x416 (no detections), 87.4ms\n",
      "Speed: 3.0ms preprocess, 87.4ms inference, 1.0ms postprocess per image at shape (1, 3, 416, 416)\n",
      "\n",
      "\n",
      "0: 416x416 (no detections), 96.2ms\n",
      "Speed: 3.0ms preprocess, 96.2ms inference, 1.0ms postprocess per image at shape (1, 3, 416, 416)\n",
      "\n",
      "0: 416x416 (no detections), 94.9ms\n",
      "Speed: 2.5ms preprocess, 94.9ms inference, 4.5ms postprocess per image at shape (1, 3, 416, 416)\n",
      "0: 416x416 (no detections), 85.3ms\n",
      "Speed: 3.5ms preprocess, 85.3ms inference, 0.0ms postprocess per image at shape (1, 3, 416, 416)\n",
      "\n",
      "\n",
      "0: 416x416 (no detections), 94.4ms\n",
      "Speed: 2.0ms preprocess, 94.4ms inference, 1.0ms postprocess per image at shape (1, 3, 416, 416)\n",
      "\n",
      "0: 416x416 (no detections), 95.3ms\n",
      "Speed: 2.0ms preprocess, 95.3ms inference, 1.0ms postprocess per image at shape (1, 3, 416, 416)\n",
      "0: 416x416 (no detections), 88.5ms\n",
      "Speed: 2.0ms preprocess, 88.5ms inference, 0.0ms postprocess per image at shape (1, 3, 416, 416)\n",
      "\n",
      "0: 416x416 (no detections), 82.9ms\n",
      "Speed: 3.0ms preprocess, 82.9ms inference, 1.0ms postprocess per image at shape (1, 3, 416, 416)\n",
      "\n",
      "\n",
      "0: 416x416 (no detections), 95.0ms\n",
      "Speed: 2.4ms preprocess, 95.0ms inference, 1.0ms postprocess per image at shape (1, 3, 416, 416)\n",
      "0: 416x416 (no detections), 98.4ms\n",
      "Speed: 4.0ms preprocess, 98.4ms inference, 4.6ms postprocess per image at shape (1, 3, 416, 416)\n",
      "\n",
      "0: 416x416 (no detections), 83.8ms\n",
      "Speed: 2.0ms preprocess, 83.8ms inference, 1.0ms postprocess per image at shape (1, 3, 416, 416)\n",
      "\n",
      "\n",
      "0: 416x416 (no detections), 94.8ms\n",
      "Speed: 1.0ms preprocess, 94.8ms inference, 1.0ms postprocess per image at shape (1, 3, 416, 416)\n",
      "\n",
      "0: 416x416 (no detections), 99.2ms\n",
      "Speed: 2.0ms preprocess, 99.2ms inference, 1.0ms postprocess per image at shape (1, 3, 416, 416)\n",
      "0: 416x416 (no detections), 86.1ms\n",
      "Speed: 2.0ms preprocess, 86.1ms inference, 0.0ms postprocess per image at shape (1, 3, 416, 416)\n",
      "\n",
      "\n",
      "0: 416x416 (no detections), 92.8ms\n",
      "Speed: 1.5ms preprocess, 92.8ms inference, 0.0ms postprocess per image at shape (1, 3, 416, 416)\n",
      "\n",
      "0: 416x416 (no detections), 96.3ms\n",
      "Speed: 2.1ms preprocess, 96.3ms inference, 2.1ms postprocess per image at shape (1, 3, 416, 416)\n",
      "0: 416x416 (no detections), 86.5ms\n",
      "Speed: 3.0ms preprocess, 86.5ms inference, 1.0ms postprocess per image at shape (1, 3, 416, 416)\n",
      "\n",
      "0: 416x416 (no detections), 82.7ms\n",
      "Speed: 2.0ms preprocess, 82.7ms inference, 1.0ms postprocess per image at shape (1, 3, 416, 416)\n",
      "\n",
      "\n",
      "0: 416x416 (no detections), 98.0ms\n",
      "Speed: 3.0ms preprocess, 98.0ms inference, 1.0ms postprocess per image at shape (1, 3, 416, 416)\n",
      "0: 416x416 (no detections), 90.4ms\n",
      "Speed: 1.4ms preprocess, 90.4ms inference, 1.0ms postprocess per image at shape (1, 3, 416, 416)\n",
      "\n",
      "0: 416x416 (no detections), 84.6ms\n",
      "Speed: 3.0ms preprocess, 84.6ms inference, 1.0ms postprocess per image at shape (1, 3, 416, 416)\n",
      "\n",
      "\n",
      "0: 416x416 (no detections), 93.7ms\n",
      "Speed: 2.0ms preprocess, 93.7ms inference, 1.0ms postprocess per image at shape (1, 3, 416, 416)\n",
      "\n",
      "0: 416x416 (no detections), 96.1ms\n",
      "Speed: 2.0ms preprocess, 96.1ms inference, 1.1ms postprocess per image at shape (1, 3, 416, 416)\n",
      "0: 416x416 (no detections), 89.1ms\n",
      "Speed: 3.0ms preprocess, 89.1ms inference, 0.0ms postprocess per image at shape (1, 3, 416, 416)\n",
      "\n",
      "\n",
      "0: 416x416 (no detections), 90.3ms\n",
      "Speed: 3.5ms preprocess, 90.3ms inference, 1.0ms postprocess per image at shape (1, 3, 416, 416)\n",
      "\n",
      "0: 416x416 (no detections), 93.9ms\n",
      "Speed: 2.0ms preprocess, 93.9ms inference, 1.0ms postprocess per image at shape (1, 3, 416, 416)\n",
      "0: 416x416 (no detections), 89.1ms\n",
      "Speed: 2.0ms preprocess, 89.1ms inference, 0.0ms postprocess per image at shape (1, 3, 416, 416)\n",
      "\n",
      "0: 416x416 (no detections), 84.1ms\n",
      "Speed: 2.0ms preprocess, 84.1ms inference, 1.0ms postprocess per image at shape (1, 3, 416, 416)\n",
      "\n",
      "\n",
      "0: 416x416 (no detections), 94.1ms\n",
      "Speed: 2.0ms preprocess, 94.1ms inference, 0.0ms postprocess per image at shape (1, 3, 416, 416)\n",
      "\n",
      "0: 416x416 (no detections), 95.1ms\n",
      "Speed: 2.5ms preprocess, 95.1ms inference, 1.1ms postprocess per image at shape (1, 3, 416, 416)\n",
      "0: 416x416 (no detections), 85.0ms\n",
      "Speed: 1.7ms preprocess, 85.0ms inference, 0.0ms postprocess per image at shape (1, 3, 416, 416)\n",
      "\n",
      "\n",
      "0: 416x416 (no detections), 91.1ms\n",
      "Speed: 2.0ms preprocess, 91.1ms inference, 1.0ms postprocess per image at shape (1, 3, 416, 416)\n",
      "\n",
      "0: 416x416 (no detections), 96.9ms\n",
      "Speed: 2.0ms preprocess, 96.9ms inference, 1.0ms postprocess per image at shape (1, 3, 416, 416)\n",
      "0: 416x416 (no detections), 88.1ms\n",
      "Speed: 2.0ms preprocess, 88.1ms inference, 1.0ms postprocess per image at shape (1, 3, 416, 416)\n",
      "\n",
      "0: 416x416 1 green, 84.0ms\n",
      "Speed: 2.0ms preprocess, 84.0ms inference, 1.0ms postprocess per image at shape (1, 3, 416, 416)\n",
      "\n",
      "\n",
      "0: 416x416 (no detections), 96.3ms\n",
      "Speed: 2.5ms preprocess, 96.3ms inference, 1.0ms postprocess per image at shape (1, 3, 416, 416)\n",
      "0: 416x416 (no detections), 92.8ms\n",
      "Speed: 2.0ms preprocess, 92.8ms inference, 0.5ms postprocess per image at shape (1, 3, 416, 416)\n",
      "\n",
      "0: 416x416 1 green, 1 red, 83.9ms\n",
      "Speed: 2.5ms preprocess, 83.9ms inference, 1.0ms postprocess per image at shape (1, 3, 416, 416)\n",
      "\n",
      "\n",
      "0: 416x416 (no detections), 92.7ms\n",
      "Speed: 2.0ms preprocess, 92.7ms inference, 1.0ms postprocess per image at shape (1, 3, 416, 416)\n",
      "\n",
      "0: 416x416 (no detections), 96.5ms\n",
      "Speed: 2.0ms preprocess, 96.5ms inference, 1.0ms postprocess per image at shape (1, 3, 416, 416)\n",
      "0: 416x416 (no detections), 88.0ms\n",
      "Speed: 2.0ms preprocess, 88.0ms inference, 1.0ms postprocess per image at shape (1, 3, 416, 416)\n",
      "\n",
      "0: 416x416 (no detections), 84.1ms\n",
      "Speed: 2.0ms preprocess, 84.1ms inference, 0.0ms postprocess per image at shape (1, 3, 416, 416)\n",
      "\n",
      "\n",
      "0: 416x416 (no detections), 91.4ms\n",
      "Speed: 2.0ms preprocess, 91.4ms inference, 1.0ms postprocess per image at shape (1, 3, 416, 416)\n",
      "\n",
      "0: 416x416 (no detections), 94.0ms\n",
      "Speed: 2.0ms preprocess, 94.0ms inference, 0.0ms postprocess per image at shape (1, 3, 416, 416)\n",
      "0: 416x416 (no detections), 84.2ms\n",
      "Speed: 2.0ms preprocess, 84.2ms inference, 1.0ms postprocess per image at shape (1, 3, 416, 416)\n",
      "\n",
      "0: 416x416 1 red, 82.7ms\n",
      "Speed: 2.0ms preprocess, 82.7ms inference, 0.5ms postprocess per image at shape (1, 3, 416, 416)\n",
      "\n",
      "\n",
      "0: 416x416 (no detections), 95.5ms\n",
      "Speed: 2.0ms preprocess, 95.5ms inference, 2.0ms postprocess per image at shape (1, 3, 416, 416)\n",
      "0: 416x416 1 red, 93.0ms\n",
      "Speed: 3.0ms preprocess, 93.0ms inference, 1.0ms postprocess per image at shape (1, 3, 416, 416)\n",
      "\n",
      "0: 416x416 (no detections), 96.6ms\n",
      "Speed: 2.0ms preprocess, 96.6ms inference, 0.6ms postprocess per image at shape (1, 3, 416, 416)\n",
      "\n",
      "\n",
      "0: 416x416 1 red, 107.6ms\n",
      "Speed: 2.0ms preprocess, 107.6ms inference, 1.0ms postprocess per image at shape (1, 3, 416, 416)\n",
      "\n",
      "0: 416x416 1 Speed Limit 30, 97.6ms\n",
      "Speed: 2.5ms preprocess, 97.6ms inference, 1.0ms postprocess per image at shape (1, 3, 416, 416)\n",
      "0: 416x416 (no detections), 84.0ms\n",
      "Speed: 2.0ms preprocess, 84.0ms inference, 1.0ms postprocess per image at shape (1, 3, 416, 416)\n",
      "\n",
      "0: 416x416 (no detections), 84.2ms\n",
      "Speed: 2.5ms preprocess, 84.2ms inference, 1.0ms postprocess per image at shape (1, 3, 416, 416)\n",
      "\n",
      "\n"
     ]
    },
    {
     "name": "stdout",
     "output_type": "stream",
     "text": [
      "0.90837353\n"
     ]
    },
    {
     "name": "stderr",
     "output_type": "stream",
     "text": [
      "0: 416x416 1 Speed Limit 30, 96.8ms\n",
      "Speed: 3.0ms preprocess, 96.8ms inference, 1.0ms postprocess per image at shape (1, 3, 416, 416)\n",
      "0: 416x416 (no detections), 91.9ms\n",
      "Speed: 3.0ms preprocess, 91.9ms inference, 1.0ms postprocess per image at shape (1, 3, 416, 416)\n",
      "\n",
      "0: 416x416 (no detections), 83.6ms\n",
      "Speed: 2.0ms preprocess, 83.6ms inference, 0.0ms postprocess per image at shape (1, 3, 416, 416)\n",
      "\n",
      "\n"
     ]
    },
    {
     "name": "stdout",
     "output_type": "stream",
     "text": [
      "0.95115167\n"
     ]
    },
    {
     "name": "stderr",
     "output_type": "stream",
     "text": [
      "0: 416x416 (no detections), 99.6ms\n",
      "Speed: 3.0ms preprocess, 99.6ms inference, 1.0ms postprocess per image at shape (1, 3, 416, 416)\n",
      "\n",
      "0: 416x416 1 Speed Limit 30, 99.4ms\n",
      "Speed: 2.0ms preprocess, 99.4ms inference, 1.0ms postprocess per image at shape (1, 3, 416, 416)\n",
      "0: 416x416 (no detections), 86.3ms\n",
      "Speed: 3.0ms preprocess, 86.3ms inference, 1.0ms postprocess per image at shape (1, 3, 416, 416)\n",
      "\n",
      "0: 416x416 (no detections), 83.8ms\n",
      "Speed: 3.0ms preprocess, 83.8ms inference, 1.1ms postprocess per image at shape (1, 3, 416, 416)\n",
      "\n",
      "\n"
     ]
    },
    {
     "name": "stdout",
     "output_type": "stream",
     "text": [
      "0.9158975\n"
     ]
    },
    {
     "name": "stderr",
     "output_type": "stream",
     "text": [
      "0: 416x416 1 Speed Limit 30, 98.8ms\n",
      "0: 416x416 (no detections), 98.8ms\n",
      "Speed: 4.5ms preprocess, 98.8ms inference, 2.0ms postprocess per image at shape (1, 3, 416, 416)\n",
      "Speed: 2.0ms preprocess, 98.8ms inference, 1.0ms postprocess per image at shape (1, 3, 416, 416)\n",
      "\n",
      "0: 416x416 (no detections), 98.0ms\n",
      "Speed: 3.0ms preprocess, 98.0ms inference, 1.0ms postprocess per image at shape (1, 3, 416, 416)\n",
      "\n",
      "\n"
     ]
    },
    {
     "name": "stdout",
     "output_type": "stream",
     "text": [
      "0.9267121\n"
     ]
    },
    {
     "name": "stderr",
     "output_type": "stream",
     "text": [
      "0: 416x416 (no detections), 94.4ms\n",
      "Speed: 2.0ms preprocess, 94.4ms inference, 1.5ms postprocess per image at shape (1, 3, 416, 416)\n",
      "\n",
      "0: 416x416 1 Speed Limit 30, 97.9ms\n",
      "Speed: 2.2ms preprocess, 97.9ms inference, 1.0ms postprocess per image at shape (1, 3, 416, 416)\n",
      "0: 416x416 (no detections), 83.7ms\n",
      "Speed: 2.4ms preprocess, 83.7ms inference, 1.0ms postprocess per image at shape (1, 3, 416, 416)\n",
      "\n",
      "\n",
      "0: 416x416 (no detections), 88.2ms\n",
      "Speed: 2.0ms preprocess, 88.2ms inference, 1.0ms postprocess per image at shape (1, 3, 416, 416)\n",
      "\n"
     ]
    },
    {
     "name": "stdout",
     "output_type": "stream",
     "text": [
      "0.93526363\n"
     ]
    },
    {
     "name": "stderr",
     "output_type": "stream",
     "text": [
      "0: 416x416 1 Speed Limit 30, 96.6ms\n",
      "Speed: 2.3ms preprocess, 96.6ms inference, 1.0ms postprocess per image at shape (1, 3, 416, 416)\n",
      "0: 416x416 (no detections), 90.4ms\n",
      "Speed: 2.6ms preprocess, 90.4ms inference, 0.0ms postprocess per image at shape (1, 3, 416, 416)\n",
      "\n",
      "0: 416x416 (no detections), 86.6ms\n",
      "Speed: 2.0ms preprocess, 86.6ms inference, 0.0ms postprocess per image at shape (1, 3, 416, 416)\n",
      "\n",
      "\n"
     ]
    },
    {
     "name": "stdout",
     "output_type": "stream",
     "text": [
      "0.9383671\n"
     ]
    },
    {
     "name": "stderr",
     "output_type": "stream",
     "text": [
      "0: 416x416 (no detections), 98.4ms\n",
      "Speed: 2.0ms preprocess, 98.4ms inference, 1.0ms postprocess per image at shape (1, 3, 416, 416)\n",
      "\n",
      "0: 416x416 1 Speed Limit 30, 100.1ms\n",
      "Speed: 2.5ms preprocess, 100.1ms inference, 1.3ms postprocess per image at shape (1, 3, 416, 416)\n",
      "0: 416x416 (no detections), 87.1ms\n",
      "Speed: 2.0ms preprocess, 87.1ms inference, 1.0ms postprocess per image at shape (1, 3, 416, 416)\n",
      "\n",
      "\n",
      "0: 416x416 (no detections), 89.9ms\n"
     ]
    },
    {
     "name": "stdout",
     "output_type": "stream",
     "text": [
      "0.9374193\n"
     ]
    },
    {
     "name": "stderr",
     "output_type": "stream",
     "text": [
      "Speed: 3.0ms preprocess, 89.9ms inference, 1.0ms postprocess per image at shape (1, 3, 416, 416)\n",
      "\n",
      "0: 416x416 1 Speed Limit 30, 110.6ms\n",
      "Speed: 2.0ms preprocess, 110.6ms inference, 1.0ms postprocess per image at shape (1, 3, 416, 416)\n",
      "0: 416x416 (no detections), 100.5ms\n",
      "Speed: 3.3ms preprocess, 100.5ms inference, 0.0ms postprocess per image at shape (1, 3, 416, 416)\n",
      "\n",
      "0: 416x416 (no detections), 85.9ms\n",
      "Speed: 2.0ms preprocess, 85.9ms inference, 0.0ms postprocess per image at shape (1, 3, 416, 416)\n",
      "\n",
      "\n"
     ]
    },
    {
     "name": "stdout",
     "output_type": "stream",
     "text": [
      "0.9379632\n"
     ]
    },
    {
     "name": "stderr",
     "output_type": "stream",
     "text": [
      "0: 416x416 (no detections), 97.7ms\n",
      "Speed: 2.0ms preprocess, 97.7ms inference, 1.0ms postprocess per image at shape (1, 3, 416, 416)\n",
      "\n",
      "0: 416x416 1 Speed Limit 30, 96.1ms\n",
      "Speed: 2.3ms preprocess, 96.1ms inference, 1.0ms postprocess per image at shape (1, 3, 416, 416)\n",
      "0: 416x416 (no detections), 88.0ms\n",
      "Speed: 2.0ms preprocess, 88.0ms inference, 0.0ms postprocess per image at shape (1, 3, 416, 416)\n",
      "\n",
      "\n",
      "0: 416x416 (no detections), 92.7ms\n"
     ]
    },
    {
     "name": "stdout",
     "output_type": "stream",
     "text": [
      "0.93837667\n"
     ]
    },
    {
     "name": "stderr",
     "output_type": "stream",
     "text": [
      "Speed: 3.0ms preprocess, 92.7ms inference, 0.0ms postprocess per image at shape (1, 3, 416, 416)\n",
      "\n",
      "0: 416x416 1 Speed Limit 30, 98.4ms\n",
      "Speed: 1.5ms preprocess, 98.4ms inference, 1.5ms postprocess per image at shape (1, 3, 416, 416)\n",
      "0: 416x416 (no detections), 90.9ms\n",
      "Speed: 2.0ms preprocess, 90.9ms inference, 1.0ms postprocess per image at shape (1, 3, 416, 416)\n",
      "\n",
      "0: 416x416 (no detections), 82.7ms\n",
      "Speed: 2.5ms preprocess, 82.7ms inference, 1.0ms postprocess per image at shape (1, 3, 416, 416)\n",
      "\n",
      "\n"
     ]
    },
    {
     "name": "stdout",
     "output_type": "stream",
     "text": [
      "0.9379124\n"
     ]
    },
    {
     "name": "stderr",
     "output_type": "stream",
     "text": [
      "0: 416x416 (no detections), 93.7ms\n",
      "Speed: 5.0ms preprocess, 93.7ms inference, 2.0ms postprocess per image at shape (1, 3, 416, 416)\n",
      "0: 416x416 1 Speed Limit 30, 97.2ms\n",
      "Speed: 2.5ms preprocess, 97.2ms inference, 1.0ms postprocess per image at shape (1, 3, 416, 416)\n",
      "\n",
      "0: 416x416 (no detections), 83.2ms\n",
      "Speed: 2.0ms preprocess, 83.2ms inference, 1.0ms postprocess per image at shape (1, 3, 416, 416)\n",
      "\n",
      "\n"
     ]
    },
    {
     "name": "stdout",
     "output_type": "stream",
     "text": [
      "0.93795764\n"
     ]
    },
    {
     "name": "stderr",
     "output_type": "stream",
     "text": [
      "0: 416x416 (no detections), 92.8ms\n",
      "Speed: 2.0ms preprocess, 92.8ms inference, 1.1ms postprocess per image at shape (1, 3, 416, 416)\n",
      "\n",
      "0: 416x416 1 Speed Limit 30, 108.4ms\n",
      "Speed: 2.0ms preprocess, 108.4ms inference, 2.0ms postprocess per image at shape (1, 3, 416, 416)\n",
      "0: 416x416 (no detections), 92.2ms\n",
      "Speed: 3.0ms preprocess, 92.2ms inference, 1.0ms postprocess per image at shape (1, 3, 416, 416)\n",
      "\n",
      "\n",
      "0: 416x416 (no detections), 91.5ms\n",
      "Speed: 2.0ms preprocess, 91.5ms inference, 0.5ms postprocess per image at shape (1, 3, 416, 416)\n",
      "\n"
     ]
    },
    {
     "name": "stdout",
     "output_type": "stream",
     "text": [
      "0.93758607\n"
     ]
    },
    {
     "name": "stderr",
     "output_type": "stream",
     "text": [
      "0: 416x416 1 Speed Limit 30, 97.3ms\n",
      "Speed: 2.0ms preprocess, 97.3ms inference, 1.0ms postprocess per image at shape (1, 3, 416, 416)\n",
      "0: 416x416 (no detections), 91.1ms\n",
      "Speed: 2.1ms preprocess, 91.1ms inference, 1.0ms postprocess per image at shape (1, 3, 416, 416)\n",
      "\n",
      "0: 416x416 (no detections), 84.0ms\n",
      "Speed: 2.6ms preprocess, 84.0ms inference, 1.0ms postprocess per image at shape (1, 3, 416, 416)\n",
      "\n",
      "\n"
     ]
    },
    {
     "name": "stdout",
     "output_type": "stream",
     "text": [
      "0.93789625\n"
     ]
    },
    {
     "name": "stderr",
     "output_type": "stream",
     "text": [
      "0: 416x416 (no detections), 96.6ms\n",
      "Speed: 2.0ms preprocess, 96.6ms inference, 1.0ms postprocess per image at shape (1, 3, 416, 416)\n",
      "\n",
      "0: 416x416 1 Speed Limit 30, 100.6ms\n",
      "Speed: 1.0ms preprocess, 100.6ms inference, 1.0ms postprocess per image at shape (1, 3, 416, 416)\n",
      "0: 416x416 (no detections), 83.6ms\n",
      "Speed: 2.0ms preprocess, 83.6ms inference, 0.0ms postprocess per image at shape (1, 3, 416, 416)\n",
      "\n",
      "\n",
      "0: 416x416 (no detections), 89.8ms\n",
      "Speed: 2.5ms preprocess, 89.8ms inference, 1.0ms postprocess per image at shape (1, 3, 416, 416)\n"
     ]
    },
    {
     "name": "stdout",
     "output_type": "stream",
     "text": [
      "0.93800217\n"
     ]
    },
    {
     "name": "stderr",
     "output_type": "stream",
     "text": [
      "\n",
      "0: 416x416 1 Speed Limit 30, 98.2ms\n",
      "Speed: 2.5ms preprocess, 98.2ms inference, 2.0ms postprocess per image at shape (1, 3, 416, 416)\n",
      "0: 416x416 (no detections), 87.5ms\n",
      "Speed: 2.0ms preprocess, 87.5ms inference, 0.0ms postprocess per image at shape (1, 3, 416, 416)\n",
      "\n",
      "0: 416x416 (no detections), 85.5ms\n",
      "Speed: 2.5ms preprocess, 85.5ms inference, 0.0ms postprocess per image at shape (1, 3, 416, 416)\n",
      "\n",
      "\n"
     ]
    },
    {
     "name": "stdout",
     "output_type": "stream",
     "text": [
      "0.9373089\n"
     ]
    },
    {
     "name": "stderr",
     "output_type": "stream",
     "text": [
      "0: 416x416 (no detections), 111.6ms\n",
      "Speed: 2.0ms preprocess, 111.6ms inference, 1.0ms postprocess per image at shape (1, 3, 416, 416)\n",
      "\n",
      "0: 416x416 1 Speed Limit 30, 110.3ms\n",
      "Speed: 1.4ms preprocess, 110.3ms inference, 1.0ms postprocess per image at shape (1, 3, 416, 416)\n",
      "0: 416x416 (no detections), 85.9ms\n",
      "Speed: 2.0ms preprocess, 85.9ms inference, 1.0ms postprocess per image at shape (1, 3, 416, 416)\n",
      "\n",
      "\n",
      "0: 416x416 (no detections), 87.1ms\n",
      "Speed: 2.0ms preprocess, 87.1ms inference, 1.0ms postprocess per image at shape (1, 3, 416, 416)\n"
     ]
    },
    {
     "name": "stdout",
     "output_type": "stream",
     "text": [
      "0.93775177\n"
     ]
    },
    {
     "name": "stderr",
     "output_type": "stream",
     "text": [
      "\n",
      "0: 416x416 1 Speed Limit 30, 99.4ms\n",
      "Speed: 3.0ms preprocess, 99.4ms inference, 1.0ms postprocess per image at shape (1, 3, 416, 416)\n",
      "0: 416x416 (no detections), 89.8ms\n",
      "Speed: 3.0ms preprocess, 89.8ms inference, 1.0ms postprocess per image at shape (1, 3, 416, 416)\n",
      "\n",
      "0: 416x416 (no detections), 84.6ms\n",
      "Speed: 3.0ms preprocess, 84.6ms inference, 0.0ms postprocess per image at shape (1, 3, 416, 416)\n",
      "\n",
      "\n"
     ]
    },
    {
     "name": "stdout",
     "output_type": "stream",
     "text": [
      "0.93815327\n"
     ]
    },
    {
     "name": "stderr",
     "output_type": "stream",
     "text": [
      "0: 416x416 (no detections), 102.1ms\n",
      "Speed: 2.0ms preprocess, 102.1ms inference, 1.0ms postprocess per image at shape (1, 3, 416, 416)\n",
      "\n",
      "0: 416x416 1 Speed Limit 30, 98.0ms\n",
      "Speed: 2.0ms preprocess, 98.0ms inference, 2.0ms postprocess per image at shape (1, 3, 416, 416)\n",
      "0: 416x416 (no detections), 86.2ms\n",
      "Speed: 3.0ms preprocess, 86.2ms inference, 1.0ms postprocess per image at shape (1, 3, 416, 416)\n",
      "\n",
      "\n",
      "0: 416x416 (no detections), 95.0ms\n"
     ]
    },
    {
     "name": "stdout",
     "output_type": "stream",
     "text": [
      "0.937506\n"
     ]
    },
    {
     "name": "stderr",
     "output_type": "stream",
     "text": [
      "Speed: 2.0ms preprocess, 95.0ms inference, 1.0ms postprocess per image at shape (1, 3, 416, 416)\n",
      "\n",
      "0: 416x416 1 Speed Limit 30, 103.4ms\n",
      "Speed: 2.0ms preprocess, 103.4ms inference, 2.0ms postprocess per image at shape (1, 3, 416, 416)\n",
      "0: 416x416 (no detections), 97.1ms\n",
      "Speed: 3.0ms preprocess, 97.1ms inference, 1.0ms postprocess per image at shape (1, 3, 416, 416)\n",
      "\n",
      "0: 416x416 (no detections), 82.8ms\n",
      "Speed: 2.5ms preprocess, 82.8ms inference, 1.0ms postprocess per image at shape (1, 3, 416, 416)\n",
      "\n",
      "\n"
     ]
    },
    {
     "name": "stdout",
     "output_type": "stream",
     "text": [
      "0.937489\n"
     ]
    },
    {
     "name": "stderr",
     "output_type": "stream",
     "text": [
      "0: 416x416 (no detections), 96.8ms\n",
      "Speed: 3.0ms preprocess, 96.8ms inference, 1.0ms postprocess per image at shape (1, 3, 416, 416)\n",
      "0: 416x416 1 Speed Limit 30, 96.3ms\n",
      "Speed: 2.0ms preprocess, 96.3ms inference, 1.0ms postprocess per image at shape (1, 3, 416, 416)\n",
      "\n",
      "0: 416x416 (no detections), 86.0ms\n",
      "Speed: 2.5ms preprocess, 86.0ms inference, 0.0ms postprocess per image at shape (1, 3, 416, 416)\n",
      "\n",
      "\n"
     ]
    },
    {
     "name": "stdout",
     "output_type": "stream",
     "text": [
      "0.93706775\n"
     ]
    },
    {
     "name": "stderr",
     "output_type": "stream",
     "text": [
      "0: 416x416 (no detections), 95.3ms\n",
      "Speed: 2.8ms preprocess, 95.3ms inference, 1.0ms postprocess per image at shape (1, 3, 416, 416)\n",
      "\n",
      "0: 416x416 1 Speed Limit 30, 101.3ms\n",
      "Speed: 2.0ms preprocess, 101.3ms inference, 1.0ms postprocess per image at shape (1, 3, 416, 416)\n",
      "0: 416x416 (no detections), 89.3ms\n",
      "Speed: 2.5ms preprocess, 89.3ms inference, 1.0ms postprocess per image at shape (1, 3, 416, 416)\n",
      "\n",
      "0: 416x416 (no detections), 87.2ms\n",
      "Speed: 2.0ms preprocess, 87.2ms inference, 0.0ms postprocess per image at shape (1, 3, 416, 416)\n",
      "\n",
      "\n"
     ]
    },
    {
     "name": "stdout",
     "output_type": "stream",
     "text": [
      "0.93742985\n"
     ]
    },
    {
     "name": "stderr",
     "output_type": "stream",
     "text": [
      "0: 416x416 1 Speed Limit 30, 98.7ms\n",
      "Speed: 2.0ms preprocess, 98.7ms inference, 1.0ms postprocess per image at shape (1, 3, 416, 416)\n",
      "0: 416x416 (no detections), 96.2ms\n",
      "Speed: 3.0ms preprocess, 96.2ms inference, 1.3ms postprocess per image at shape (1, 3, 416, 416)\n",
      "\n",
      "0: 416x416 (no detections), 84.3ms\n",
      "Speed: 2.5ms preprocess, 84.3ms inference, 1.0ms postprocess per image at shape (1, 3, 416, 416)\n",
      "\n",
      "\n"
     ]
    },
    {
     "name": "stdout",
     "output_type": "stream",
     "text": [
      "0.9371328\n"
     ]
    },
    {
     "name": "stderr",
     "output_type": "stream",
     "text": [
      "0: 416x416 (no detections), 97.7ms\n",
      "Speed: 2.0ms preprocess, 97.7ms inference, 1.0ms postprocess per image at shape (1, 3, 416, 416)\n",
      "\n",
      "0: 416x416 1 Speed Limit 30, 107.0ms\n",
      "Speed: 2.0ms preprocess, 107.0ms inference, 2.0ms postprocess per image at shape (1, 3, 416, 416)\n",
      "0: 416x416 (no detections), 92.3ms\n",
      "Speed: 2.6ms preprocess, 92.3ms inference, 1.0ms postprocess per image at shape (1, 3, 416, 416)\n",
      "\n",
      "0: 416x416 (no detections), 82.2ms\n",
      "\n",
      "Speed: 2.0ms preprocess, 82.2ms inference, 1.0ms postprocess per image at shape (1, 3, 416, 416)\n"
     ]
    },
    {
     "name": "stdout",
     "output_type": "stream",
     "text": [
      "0.93723214\n"
     ]
    },
    {
     "name": "stderr",
     "output_type": "stream",
     "text": [
      "\n",
      "0: 416x416 1 Speed Limit 30, 100.3ms\n",
      "Speed: 3.5ms preprocess, 100.3ms inference, 2.0ms postprocess per image at shape (1, 3, 416, 416)\n",
      "0: 416x416 (no detections), 96.6ms\n",
      "Speed: 2.6ms preprocess, 96.6ms inference, 1.1ms postprocess per image at shape (1, 3, 416, 416)\n",
      "\n",
      "0: 416x416 (no detections), 86.7ms\n",
      "Speed: 2.0ms preprocess, 86.7ms inference, 1.0ms postprocess per image at shape (1, 3, 416, 416)\n",
      "\n",
      "\n"
     ]
    },
    {
     "name": "stdout",
     "output_type": "stream",
     "text": [
      "0.9376123\n"
     ]
    },
    {
     "name": "stderr",
     "output_type": "stream",
     "text": [
      "0: 416x416 (no detections), 98.6ms\n",
      "Speed: 2.0ms preprocess, 98.6ms inference, 1.0ms postprocess per image at shape (1, 3, 416, 416)\n",
      "\n",
      "0: 416x416 1 Speed Limit 30, 103.2ms\n",
      "Speed: 2.0ms preprocess, 103.2ms inference, 2.0ms postprocess per image at shape (1, 3, 416, 416)\n",
      "0: 416x416 (no detections), 89.8ms\n",
      "Speed: 2.0ms preprocess, 89.8ms inference, 0.0ms postprocess per image at shape (1, 3, 416, 416)\n",
      "\n",
      "\n",
      "0: 416x416 (no detections), 96.2ms\n"
     ]
    },
    {
     "name": "stdout",
     "output_type": "stream",
     "text": [
      "0.9377049\n"
     ]
    },
    {
     "name": "stderr",
     "output_type": "stream",
     "text": [
      "Speed: 2.0ms preprocess, 96.2ms inference, 0.0ms postprocess per image at shape (1, 3, 416, 416)\n",
      "\n",
      "0: 416x416 1 Speed Limit 30, 103.2ms\n",
      "Speed: 2.1ms preprocess, 103.2ms inference, 2.0ms postprocess per image at shape (1, 3, 416, 416)\n",
      "0: 416x416 (no detections), 93.8ms\n",
      "Speed: 2.0ms preprocess, 93.8ms inference, 1.0ms postprocess per image at shape (1, 3, 416, 416)\n",
      "\n",
      "0: 416x416 (no detections), 82.9ms\n",
      "Speed: 3.5ms preprocess, 82.9ms inference, 1.0ms postprocess per image at shape (1, 3, 416, 416)\n",
      "\n",
      "\n"
     ]
    },
    {
     "name": "stdout",
     "output_type": "stream",
     "text": [
      "0.9371274\n"
     ]
    },
    {
     "name": "stderr",
     "output_type": "stream",
     "text": [
      "0: 416x416 (no detections), 116.8ms\n",
      "Speed: 3.0ms preprocess, 116.8ms inference, 1.0ms postprocess per image at shape (1, 3, 416, 416)\n",
      "0: 416x416 1 Speed Limit 30, 114.3ms\n",
      "Speed: 2.0ms preprocess, 114.3ms inference, 1.0ms postprocess per image at shape (1, 3, 416, 416)\n",
      "\n",
      "0: 416x416 (no detections), 84.6ms\n",
      "Speed: 2.0ms preprocess, 84.6ms inference, 0.5ms postprocess per image at shape (1, 3, 416, 416)\n",
      "\n",
      "\n"
     ]
    },
    {
     "name": "stdout",
     "output_type": "stream",
     "text": [
      "0.93751884\n"
     ]
    },
    {
     "name": "stderr",
     "output_type": "stream",
     "text": [
      "0: 416x416 (no detections), 96.2ms\n",
      "Speed: 2.0ms preprocess, 96.2ms inference, 1.0ms postprocess per image at shape (1, 3, 416, 416)\n",
      "\n",
      "0: 416x416 1 Speed Limit 30, 98.8ms\n",
      "Speed: 1.0ms preprocess, 98.8ms inference, 0.0ms postprocess per image at shape (1, 3, 416, 416)\n",
      "0: 416x416 (no detections), 88.2ms\n",
      "Speed: 2.0ms preprocess, 88.2ms inference, 1.0ms postprocess per image at shape (1, 3, 416, 416)\n",
      "\n",
      "\n",
      "0: 416x416 (no detections), 92.6ms\n"
     ]
    },
    {
     "name": "stdout",
     "output_type": "stream",
     "text": [
      "0.93696374\n"
     ]
    },
    {
     "name": "stderr",
     "output_type": "stream",
     "text": [
      "Speed: 3.0ms preprocess, 92.6ms inference, 1.0ms postprocess per image at shape (1, 3, 416, 416)\n",
      "\n",
      "0: 416x416 1 Speed Limit 30, 100.5ms\n",
      "Speed: 2.0ms preprocess, 100.5ms inference, 2.5ms postprocess per image at shape (1, 3, 416, 416)\n",
      "0: 416x416 (no detections), 91.2ms\n",
      "Speed: 2.0ms preprocess, 91.2ms inference, 1.0ms postprocess per image at shape (1, 3, 416, 416)\n",
      "\n",
      "0: 416x416 (no detections), 83.8ms\n",
      "Speed: 2.0ms preprocess, 83.8ms inference, 1.4ms postprocess per image at shape (1, 3, 416, 416)\n",
      "\n",
      "\n"
     ]
    },
    {
     "name": "stdout",
     "output_type": "stream",
     "text": [
      "0.9371433\n"
     ]
    },
    {
     "name": "stderr",
     "output_type": "stream",
     "text": [
      "0: 416x416 (no detections), 97.0ms\n",
      "Speed: 2.0ms preprocess, 97.0ms inference, 0.0ms postprocess per image at shape (1, 3, 416, 416)\n",
      "0: 416x416 1 Speed Limit 30, 96.6ms\n",
      "Speed: 2.5ms preprocess, 96.6ms inference, 1.0ms postprocess per image at shape (1, 3, 416, 416)\n",
      "\n",
      "0: 416x416 (no detections), 93.4ms\n",
      "Speed: 2.5ms preprocess, 93.4ms inference, 1.0ms postprocess per image at shape (1, 3, 416, 416)\n",
      "\n",
      "\n"
     ]
    },
    {
     "name": "stdout",
     "output_type": "stream",
     "text": [
      "0.93661594\n"
     ]
    },
    {
     "name": "stderr",
     "output_type": "stream",
     "text": [
      "0: 416x416 (no detections), 96.6ms\n",
      "Speed: 3.0ms preprocess, 96.6ms inference, 1.0ms postprocess per image at shape (1, 3, 416, 416)\n",
      "\n",
      "0: 416x416 1 Speed Limit 30, 99.8ms\n",
      "Speed: 2.0ms preprocess, 99.8ms inference, 2.0ms postprocess per image at shape (1, 3, 416, 416)\n",
      "0: 416x416 (no detections), 86.1ms\n",
      "Speed: 2.0ms preprocess, 86.1ms inference, 0.0ms postprocess per image at shape (1, 3, 416, 416)\n",
      "\n",
      "\n",
      "0: 416x416 (no detections), 91.8ms\n",
      "Speed: 2.5ms preprocess, 91.8ms inference, 1.0ms postprocess per image at shape (1, 3, 416, 416)\n",
      "\n"
     ]
    },
    {
     "name": "stdout",
     "output_type": "stream",
     "text": [
      "0.9368571\n"
     ]
    },
    {
     "name": "stderr",
     "output_type": "stream",
     "text": [
      "0: 416x416 1 Speed Limit 30, 101.7ms\n",
      "Speed: 2.0ms preprocess, 101.7ms inference, 2.0ms postprocess per image at shape (1, 3, 416, 416)\n",
      "0: 416x416 (no detections), 90.2ms\n",
      "Speed: 2.0ms preprocess, 90.2ms inference, 1.0ms postprocess per image at shape (1, 3, 416, 416)\n",
      "\n",
      "0: 416x416 (no detections), 83.2ms\n",
      "Speed: 2.5ms preprocess, 83.2ms inference, 1.0ms postprocess per image at shape (1, 3, 416, 416)\n",
      "\n",
      "\n"
     ]
    },
    {
     "name": "stdout",
     "output_type": "stream",
     "text": [
      "0.93714577\n"
     ]
    },
    {
     "name": "stderr",
     "output_type": "stream",
     "text": [
      "0: 416x416 (no detections), 97.8ms\n",
      "Speed: 2.0ms preprocess, 97.8ms inference, 0.9ms postprocess per image at shape (1, 3, 416, 416)\n",
      "\n",
      "0: 416x416 1 Speed Limit 30, 91.3ms\n",
      "Speed: 2.0ms preprocess, 91.3ms inference, 5.5ms postprocess per image at shape (1, 3, 416, 416)\n",
      "0: 416x416 (no detections), 86.0ms\n",
      "Speed: 3.0ms preprocess, 86.0ms inference, 1.0ms postprocess per image at shape (1, 3, 416, 416)\n",
      "\n",
      "\n"
     ]
    },
    {
     "name": "stdout",
     "output_type": "stream",
     "text": [
      "0.93794316\n"
     ]
    },
    {
     "name": "stderr",
     "output_type": "stream",
     "text": [
      "0: 416x416 (no detections), 95.0ms\n",
      "Speed: 2.6ms preprocess, 95.0ms inference, 2.0ms postprocess per image at shape (1, 3, 416, 416)\n",
      "\n",
      "0: 416x416 1 Speed Limit 30, 122.1ms\n",
      "Speed: 2.5ms preprocess, 122.1ms inference, 2.0ms postprocess per image at shape (1, 3, 416, 416)\n",
      "0: 416x416 (no detections), 113.3ms\n",
      "Speed: 1.5ms preprocess, 113.3ms inference, 1.0ms postprocess per image at shape (1, 3, 416, 416)\n",
      "\n",
      "\n",
      "0: 416x416 (no detections), 91.7ms\n",
      "Speed: 2.5ms preprocess, 91.7ms inference, 1.0ms postprocess per image at shape (1, 3, 416, 416)\n",
      "\n"
     ]
    },
    {
     "name": "stdout",
     "output_type": "stream",
     "text": [
      "0.9369315\n"
     ]
    },
    {
     "name": "stderr",
     "output_type": "stream",
     "text": [
      "0: 416x416 1 Speed Limit 30, 103.2ms\n",
      "Speed: 2.5ms preprocess, 103.2ms inference, 2.0ms postprocess per image at shape (1, 3, 416, 416)\n",
      "0: 416x416 (no detections), 96.2ms\n",
      "Speed: 3.0ms preprocess, 96.2ms inference, 1.0ms postprocess per image at shape (1, 3, 416, 416)\n",
      "\n",
      "0: 416x416 (no detections), 89.2ms\n",
      "Speed: 2.0ms preprocess, 89.2ms inference, 1.0ms postprocess per image at shape (1, 3, 416, 416)\n",
      "\n",
      "\n"
     ]
    },
    {
     "name": "stdout",
     "output_type": "stream",
     "text": [
      "0.9368577\n"
     ]
    },
    {
     "name": "stderr",
     "output_type": "stream",
     "text": [
      "0: 416x416 (no detections), 104.3ms\n",
      "Speed: 3.0ms preprocess, 104.3ms inference, 0.0ms postprocess per image at shape (1, 3, 416, 416)\n",
      "\n",
      "0: 416x416 1 Speed Limit 30, 113.5ms\n",
      "Speed: 2.2ms preprocess, 113.5ms inference, 2.1ms postprocess per image at shape (1, 3, 416, 416)\n",
      "0: 416x416 (no detections), 111.5ms\n",
      "Speed: 2.0ms preprocess, 111.5ms inference, 1.0ms postprocess per image at shape (1, 3, 416, 416)\n",
      "\n",
      "\n"
     ]
    },
    {
     "name": "stdout",
     "output_type": "stream",
     "text": [
      "0.93656355\n"
     ]
    },
    {
     "name": "stderr",
     "output_type": "stream",
     "text": [
      "0: 416x416 (no detections), 106.6ms\n",
      "Speed: 2.0ms preprocess, 106.6ms inference, 1.0ms postprocess per image at shape (1, 3, 416, 416)\n",
      "\n",
      "0: 416x416 1 Speed Limit 30, 110.7ms\n",
      "Speed: 2.0ms preprocess, 110.7ms inference, 2.0ms postprocess per image at shape (1, 3, 416, 416)\n",
      "0: 416x416 (no detections), 99.9ms\n",
      "Speed: 4.0ms preprocess, 99.9ms inference, 0.0ms postprocess per image at shape (1, 3, 416, 416)\n",
      "\n",
      "\n",
      "0: 416x416 (no detections), 103.4ms\n"
     ]
    },
    {
     "name": "stdout",
     "output_type": "stream",
     "text": [
      "0.9372204\n"
     ]
    },
    {
     "name": "stderr",
     "output_type": "stream",
     "text": [
      "Speed: 1.0ms preprocess, 103.4ms inference, 1.0ms postprocess per image at shape (1, 3, 416, 416)\n",
      "\n",
      "0: 416x416 1 Speed Limit 30, 121.8ms\n",
      "Speed: 1.5ms preprocess, 121.8ms inference, 2.4ms postprocess per image at shape (1, 3, 416, 416)\n",
      "0: 416x416 (no detections), 116.0ms\n",
      "Speed: 3.8ms preprocess, 116.0ms inference, 1.0ms postprocess per image at shape (1, 3, 416, 416)\n",
      "\n",
      "\n",
      "0: 416x416 (no detections), 114.4ms\n"
     ]
    },
    {
     "name": "stdout",
     "output_type": "stream",
     "text": [
      "0.9365935\n"
     ]
    },
    {
     "name": "stderr",
     "output_type": "stream",
     "text": [
      "Speed: 2.5ms preprocess, 114.4ms inference, 1.0ms postprocess per image at shape (1, 3, 416, 416)\n",
      "\n",
      "0: 416x416 1 Speed Limit 30, 118.6ms\n",
      "Speed: 2.2ms preprocess, 118.6ms inference, 2.0ms postprocess per image at shape (1, 3, 416, 416)\n",
      "0: 416x416 (no detections), 96.9ms\n",
      "Speed: 3.1ms preprocess, 96.9ms inference, 1.5ms postprocess per image at shape (1, 3, 416, 416)\n",
      "\n",
      "\n"
     ]
    },
    {
     "name": "stdout",
     "output_type": "stream",
     "text": [
      "0.9368398\n"
     ]
    },
    {
     "name": "stderr",
     "output_type": "stream",
     "text": [
      "0: 416x416 (no detections), 136.7ms\n",
      "Speed: 1.9ms preprocess, 136.7ms inference, 1.5ms postprocess per image at shape (1, 3, 416, 416)\n",
      "\n",
      "0: 416x416 1 Speed Limit 30, 123.7ms\n",
      "Speed: 1.5ms preprocess, 123.7ms inference, 2.0ms postprocess per image at shape (1, 3, 416, 416)\n",
      "0: 416x416 (no detections), 109.8ms\n",
      "Speed: 3.0ms preprocess, 109.8ms inference, 1.0ms postprocess per image at shape (1, 3, 416, 416)\n",
      "\n",
      "\n"
     ]
    },
    {
     "name": "stdout",
     "output_type": "stream",
     "text": [
      "0.9374684\n"
     ]
    },
    {
     "name": "stderr",
     "output_type": "stream",
     "text": [
      "0: 416x416 (no detections), 157.2ms\n",
      "Speed: 7.1ms preprocess, 157.2ms inference, 1.0ms postprocess per image at shape (1, 3, 416, 416)\n",
      "\n",
      "0: 416x416 1 Speed Limit 30, 131.2ms\n",
      "Speed: 8.5ms preprocess, 131.2ms inference, 2.5ms postprocess per image at shape (1, 3, 416, 416)\n",
      "\n",
      "0: 416x416 (no detections), 153.6ms\n",
      "Speed: 6.5ms preprocess, 153.6ms inference, 1.0ms postprocess per image at shape (1, 3, 416, 416)\n",
      "\n"
     ]
    },
    {
     "name": "stdout",
     "output_type": "stream",
     "text": [
      "0.93770295\n"
     ]
    },
    {
     "name": "stderr",
     "output_type": "stream",
     "text": [
      "0: 416x416 1 Speed Limit 30, 157.1ms\n",
      "Speed: 7.9ms preprocess, 157.1ms inference, 3.0ms postprocess per image at shape (1, 3, 416, 416)\n",
      "0: 416x416 (no detections), 148.4ms\n",
      "Speed: 5.0ms preprocess, 148.4ms inference, 1.0ms postprocess per image at shape (1, 3, 416, 416)\n",
      "\n",
      "\n",
      "0: 416x416 (no detections), 109.4ms\n",
      "Speed: 2.0ms preprocess, 109.4ms inference, 1.0ms postprocess per image at shape (1, 3, 416, 416)\n",
      "\n"
     ]
    },
    {
     "name": "stdout",
     "output_type": "stream",
     "text": [
      "0.93679386\n"
     ]
    },
    {
     "name": "stderr",
     "output_type": "stream",
     "text": [
      "0: 416x416 1 Speed Limit 30, 119.8ms\n",
      "Speed: 2.0ms preprocess, 119.8ms inference, 2.0ms postprocess per image at shape (1, 3, 416, 416)\n",
      "0: 416x416 (no detections), 96.4ms\n",
      "Speed: 2.0ms preprocess, 96.4ms inference, 1.0ms postprocess per image at shape (1, 3, 416, 416)\n",
      "\n",
      "\n",
      "0: 416x416 (no detections), 102.7ms\n"
     ]
    },
    {
     "name": "stdout",
     "output_type": "stream",
     "text": [
      "0.93680286\n"
     ]
    },
    {
     "name": "stderr",
     "output_type": "stream",
     "text": [
      "Speed: 2.0ms preprocess, 102.7ms inference, 0.0ms postprocess per image at shape (1, 3, 416, 416)\n",
      "\n",
      "0: 416x416 1 Speed Limit 30, 112.3ms\n",
      "Speed: 2.0ms preprocess, 112.3ms inference, 1.0ms postprocess per image at shape (1, 3, 416, 416)\n",
      "0: 416x416 (no detections), 99.5ms\n",
      "Speed: 2.5ms preprocess, 99.5ms inference, 0.0ms postprocess per image at shape (1, 3, 416, 416)\n",
      "\n",
      "\n",
      "0: 416x416 (no detections), 105.4ms\n"
     ]
    },
    {
     "name": "stdout",
     "output_type": "stream",
     "text": [
      "0.93671364\n"
     ]
    },
    {
     "name": "stderr",
     "output_type": "stream",
     "text": [
      "Speed: 2.5ms preprocess, 105.4ms inference, 1.0ms postprocess per image at shape (1, 3, 416, 416)\n",
      "\n",
      "0: 416x416 1 Speed Limit 30, 120.0ms\n",
      "Speed: 2.0ms preprocess, 120.0ms inference, 2.0ms postprocess per image at shape (1, 3, 416, 416)\n",
      "0: 416x416 (no detections), 105.0ms\n",
      "Speed: 3.2ms preprocess, 105.0ms inference, 1.0ms postprocess per image at shape (1, 3, 416, 416)\n",
      "\n",
      "\n",
      "0: 416x416 (no detections), 113.0ms\n"
     ]
    },
    {
     "name": "stdout",
     "output_type": "stream",
     "text": [
      "0.93702036\n"
     ]
    },
    {
     "name": "stderr",
     "output_type": "stream",
     "text": [
      "Speed: 2.0ms preprocess, 113.0ms inference, 1.0ms postprocess per image at shape (1, 3, 416, 416)\n",
      "\n",
      "0: 416x416 1 Speed Limit 30, 136.7ms\n",
      "Speed: 3.0ms preprocess, 136.7ms inference, 1.0ms postprocess per image at shape (1, 3, 416, 416)\n",
      "0: 416x416 (no detections), 128.6ms\n",
      "Speed: 2.5ms preprocess, 128.6ms inference, 1.0ms postprocess per image at shape (1, 3, 416, 416)\n",
      "\n",
      "\n",
      "0: 416x416 (no detections), 107.8ms\n"
     ]
    },
    {
     "name": "stdout",
     "output_type": "stream",
     "text": [
      "0.9369023\n"
     ]
    },
    {
     "name": "stderr",
     "output_type": "stream",
     "text": [
      "Speed: 3.0ms preprocess, 107.8ms inference, 1.0ms postprocess per image at shape (1, 3, 416, 416)\n",
      "\n",
      "0: 416x416 1 Speed Limit 30, 113.4ms\n",
      "Speed: 2.5ms preprocess, 113.4ms inference, 1.0ms postprocess per image at shape (1, 3, 416, 416)\n",
      "0: 416x416 (no detections), 102.5ms\n",
      "Speed: 3.4ms preprocess, 102.5ms inference, 1.0ms postprocess per image at shape (1, 3, 416, 416)\n",
      "\n",
      "\n",
      "0: 416x416 (no detections), 95.8ms\n"
     ]
    },
    {
     "name": "stdout",
     "output_type": "stream",
     "text": [
      "0.9372232\n"
     ]
    },
    {
     "name": "stderr",
     "output_type": "stream",
     "text": [
      "Speed: 2.0ms preprocess, 95.8ms inference, 1.0ms postprocess per image at shape (1, 3, 416, 416)\n",
      "\n",
      "0: 416x416 1 Speed Limit 30, 105.9ms\n",
      "Speed: 2.0ms preprocess, 105.9ms inference, 2.1ms postprocess per image at shape (1, 3, 416, 416)\n",
      "0: 416x416 (no detections), 98.9ms\n",
      "Speed: 2.3ms preprocess, 98.9ms inference, 1.0ms postprocess per image at shape (1, 3, 416, 416)\n",
      "\n",
      "\n",
      "0: 416x416 (no detections), 96.4ms\n",
      "Speed: 2.0ms preprocess, 96.4ms inference, 1.0ms postprocess per image at shape (1, 3, 416, 416)\n",
      "\n"
     ]
    },
    {
     "name": "stdout",
     "output_type": "stream",
     "text": [
      "0.93704367\n"
     ]
    },
    {
     "name": "stderr",
     "output_type": "stream",
     "text": [
      "0: 416x416 1 Speed Limit 30, 106.0ms\n",
      "Speed: 2.0ms preprocess, 106.0ms inference, 1.0ms postprocess per image at shape (1, 3, 416, 416)\n",
      "0: 416x416 (no detections), 96.1ms\n",
      "Speed: 3.0ms preprocess, 96.1ms inference, 1.0ms postprocess per image at shape (1, 3, 416, 416)\n",
      "\n",
      "0: 416x416 (no detections), 87.1ms\n",
      "Speed: 2.0ms preprocess, 87.1ms inference, 1.0ms postprocess per image at shape (1, 3, 416, 416)\n",
      "\n",
      "\n"
     ]
    },
    {
     "name": "stdout",
     "output_type": "stream",
     "text": [
      "0.93768483\n"
     ]
    },
    {
     "name": "stderr",
     "output_type": "stream",
     "text": [
      "0: 416x416 (no detections), 109.1ms\n",
      "Speed: 2.0ms preprocess, 109.1ms inference, 1.0ms postprocess per image at shape (1, 3, 416, 416)\n",
      "0: 416x416 1 Speed Limit 30, 111.1ms\n",
      "Speed: 4.0ms preprocess, 111.1ms inference, 6.5ms postprocess per image at shape (1, 3, 416, 416)\n",
      "\n",
      "0: 416x416 (no detections), 111.8ms\n",
      "Speed: 2.5ms preprocess, 111.8ms inference, 1.0ms postprocess per image at shape (1, 3, 416, 416)\n",
      "\n",
      "\n"
     ]
    },
    {
     "name": "stdout",
     "output_type": "stream",
     "text": [
      "0.93665224\n"
     ]
    },
    {
     "name": "stderr",
     "output_type": "stream",
     "text": [
      "0: 416x416 1 Speed Limit 30, 117.9ms\n",
      "Speed: 3.0ms preprocess, 117.9ms inference, 1.6ms postprocess per image at shape (1, 3, 416, 416)\n",
      "0: 416x416 (no detections), 111.9ms\n",
      "Speed: 4.0ms preprocess, 111.9ms inference, 1.5ms postprocess per image at shape (1, 3, 416, 416)\n",
      "\n",
      "0: 416x416 (no detections), 96.0ms\n",
      "Speed: 3.0ms preprocess, 96.0ms inference, 0.0ms postprocess per image at shape (1, 3, 416, 416)\n",
      "\n",
      "\n"
     ]
    },
    {
     "name": "stdout",
     "output_type": "stream",
     "text": [
      "0.9368473\n"
     ]
    },
    {
     "name": "stderr",
     "output_type": "stream",
     "text": [
      "0: 416x416 1 Speed Limit 30, 104.5ms\n",
      "Speed: 2.5ms preprocess, 104.5ms inference, 2.0ms postprocess per image at shape (1, 3, 416, 416)\n",
      "0: 416x416 (no detections), 103.1ms\n",
      "Speed: 3.9ms preprocess, 103.1ms inference, 1.0ms postprocess per image at shape (1, 3, 416, 416)\n",
      "\n",
      "0: 416x416 (no detections), 88.8ms\n",
      "Speed: 2.0ms preprocess, 88.8ms inference, 1.0ms postprocess per image at shape (1, 3, 416, 416)\n",
      "\n",
      "\n"
     ]
    },
    {
     "name": "stdout",
     "output_type": "stream",
     "text": [
      "0.9367059\n"
     ]
    },
    {
     "name": "stderr",
     "output_type": "stream",
     "text": [
      "0: 416x416 (no detections), 98.5ms\n",
      "Speed: 3.0ms preprocess, 98.5ms inference, 0.0ms postprocess per image at shape (1, 3, 416, 416)\n",
      "\n",
      "0: 416x416 1 Speed Limit 30, 99.9ms\n",
      "Speed: 2.5ms preprocess, 99.9ms inference, 2.0ms postprocess per image at shape (1, 3, 416, 416)\n",
      "0: 416x416 (no detections), 91.3ms\n",
      "Speed: 2.5ms preprocess, 91.3ms inference, 1.0ms postprocess per image at shape (1, 3, 416, 416)\n",
      "\n",
      "\n"
     ]
    },
    {
     "name": "stdout",
     "output_type": "stream",
     "text": [
      "0.93734175\n"
     ]
    },
    {
     "name": "stderr",
     "output_type": "stream",
     "text": [
      "0: 416x416 (no detections), 103.4ms\n",
      "Speed: 2.8ms preprocess, 103.4ms inference, 1.0ms postprocess per image at shape (1, 3, 416, 416)\n",
      "\n",
      "0: 416x416 1 Speed Limit 30, 112.1ms\n",
      "Speed: 3.0ms preprocess, 112.1ms inference, 1.5ms postprocess per image at shape (1, 3, 416, 416)\n",
      "0: 416x416 (no detections), 110.0ms\n",
      "Speed: 2.5ms preprocess, 110.0ms inference, 0.5ms postprocess per image at shape (1, 3, 416, 416)\n",
      "\n",
      "\n",
      "0: 416x416 (no detections), 102.7ms\n"
     ]
    },
    {
     "name": "stdout",
     "output_type": "stream",
     "text": [
      "0.9369753\n"
     ]
    },
    {
     "name": "stderr",
     "output_type": "stream",
     "text": [
      "Speed: 3.5ms preprocess, 102.7ms inference, 0.0ms postprocess per image at shape (1, 3, 416, 416)\n",
      "\n",
      "0: 416x416 1 Speed Limit 30, 105.3ms\n",
      "Speed: 2.0ms preprocess, 105.3ms inference, 2.0ms postprocess per image at shape (1, 3, 416, 416)\n",
      "0: 416x416 (no detections), 93.8ms\n",
      "Speed: 2.5ms preprocess, 93.8ms inference, 0.0ms postprocess per image at shape (1, 3, 416, 416)\n",
      "\n",
      "\n",
      "0: 416x416 (no detections), 102.6ms\n"
     ]
    },
    {
     "name": "stdout",
     "output_type": "stream",
     "text": [
      "0.93677455\n"
     ]
    },
    {
     "name": "stderr",
     "output_type": "stream",
     "text": [
      "Speed: 2.0ms preprocess, 102.6ms inference, 1.0ms postprocess per image at shape (1, 3, 416, 416)\n",
      "\n",
      "0: 416x416 1 Speed Limit 30, 113.4ms\n",
      "Speed: 2.0ms preprocess, 113.4ms inference, 2.0ms postprocess per image at shape (1, 3, 416, 416)\n",
      "0: 416x416 (no detections), 101.8ms\n",
      "Speed: 2.0ms preprocess, 101.8ms inference, 0.0ms postprocess per image at shape (1, 3, 416, 416)\n",
      "\n",
      "\n",
      "0: 416x416 (no detections), 107.8ms\n"
     ]
    },
    {
     "name": "stdout",
     "output_type": "stream",
     "text": [
      "0.9370419\n"
     ]
    },
    {
     "name": "stderr",
     "output_type": "stream",
     "text": [
      "Speed: 2.0ms preprocess, 107.8ms inference, 1.0ms postprocess per image at shape (1, 3, 416, 416)\n",
      "\n",
      "0: 416x416 1 Speed Limit 30, 115.8ms\n",
      "Speed: 2.0ms preprocess, 115.8ms inference, 1.0ms postprocess per image at shape (1, 3, 416, 416)\n",
      "0: 416x416 (no detections), 99.7ms\n",
      "Speed: 2.5ms preprocess, 99.7ms inference, 1.0ms postprocess per image at shape (1, 3, 416, 416)\n",
      "\n",
      "\n"
     ]
    },
    {
     "name": "stdout",
     "output_type": "stream",
     "text": [
      "0.9374922\n"
     ]
    },
    {
     "name": "stderr",
     "output_type": "stream",
     "text": [
      "0: 416x416 (no detections), 121.9ms\n",
      "Speed: 3.5ms preprocess, 121.9ms inference, 1.0ms postprocess per image at shape (1, 3, 416, 416)\n",
      "\n",
      "0: 416x416 1 Speed Limit 30, 133.5ms\n",
      "Speed: 3.0ms preprocess, 133.5ms inference, 1.0ms postprocess per image at shape (1, 3, 416, 416)\n",
      "0: 416x416 (no detections), 116.2ms\n",
      "Speed: 3.4ms preprocess, 116.2ms inference, 0.0ms postprocess per image at shape (1, 3, 416, 416)\n",
      "\n",
      "\n"
     ]
    },
    {
     "name": "stdout",
     "output_type": "stream",
     "text": [
      "0.9366737\n"
     ]
    },
    {
     "name": "stderr",
     "output_type": "stream",
     "text": [
      "0: 416x416 (no detections), 153.5ms\n",
      "Speed: 2.0ms preprocess, 153.5ms inference, 2.0ms postprocess per image at shape (1, 3, 416, 416)\n",
      "0: 416x416 1 Speed Limit 30, 148.4ms\n",
      "Speed: 3.0ms preprocess, 148.4ms inference, 4.0ms postprocess per image at shape (1, 3, 416, 416)\n",
      "\n",
      "\n",
      "0: 416x416 (no detections), 129.2ms\n",
      "Speed: 5.9ms preprocess, 129.2ms inference, 1.0ms postprocess per image at shape (1, 3, 416, 416)\n",
      "\n"
     ]
    },
    {
     "name": "stdout",
     "output_type": "stream",
     "text": [
      "0.93671995\n"
     ]
    },
    {
     "name": "stderr",
     "output_type": "stream",
     "text": [
      "0: 416x416 1 Speed Limit 30, 111.4ms\n",
      "Speed: 2.5ms preprocess, 111.4ms inference, 1.0ms postprocess per image at shape (1, 3, 416, 416)\n",
      "0: 416x416 (no detections), 104.8ms\n",
      "Speed: 2.0ms preprocess, 104.8ms inference, 0.0ms postprocess per image at shape (1, 3, 416, 416)\n",
      "\n",
      "\n",
      "0: 416x416 (no detections), 125.7ms\n"
     ]
    },
    {
     "name": "stdout",
     "output_type": "stream",
     "text": [
      "0.93684304\n"
     ]
    },
    {
     "name": "stderr",
     "output_type": "stream",
     "text": [
      "Speed: 3.0ms preprocess, 125.7ms inference, 0.5ms postprocess per image at shape (1, 3, 416, 416)\n",
      "\n",
      "0: 416x416 1 Speed Limit 30, 136.4ms\n",
      "Speed: 4.0ms preprocess, 136.4ms inference, 1.0ms postprocess per image at shape (1, 3, 416, 416)\n",
      "0: 416x416 (no detections), 112.0ms\n",
      "Speed: 3.0ms preprocess, 112.0ms inference, 0.7ms postprocess per image at shape (1, 3, 416, 416)\n",
      "\n",
      "\n",
      "0: 416x416 (no detections), 118.1ms\n"
     ]
    },
    {
     "name": "stdout",
     "output_type": "stream",
     "text": [
      "0.93730146\n"
     ]
    },
    {
     "name": "stderr",
     "output_type": "stream",
     "text": [
      "Speed: 3.0ms preprocess, 118.1ms inference, 1.0ms postprocess per image at shape (1, 3, 416, 416)\n",
      "\n",
      "0: 416x416 1 Speed Limit 30, 110.7ms\n",
      "Speed: 2.0ms preprocess, 110.7ms inference, 1.5ms postprocess per image at shape (1, 3, 416, 416)\n",
      "0: 416x416 (no detections), 109.9ms\n",
      "Speed: 3.0ms preprocess, 109.9ms inference, 1.0ms postprocess per image at shape (1, 3, 416, 416)\n",
      "\n",
      "\n"
     ]
    },
    {
     "name": "stdout",
     "output_type": "stream",
     "text": [
      "0.9367808\n"
     ]
    },
    {
     "name": "stderr",
     "output_type": "stream",
     "text": [
      "0: 416x416 (no detections), 117.6ms\n",
      "Speed: 2.0ms preprocess, 117.6ms inference, 1.0ms postprocess per image at shape (1, 3, 416, 416)\n",
      "\n",
      "0: 416x416 1 Speed Limit 30, 116.1ms\n",
      "Speed: 2.0ms preprocess, 116.1ms inference, 2.2ms postprocess per image at shape (1, 3, 416, 416)\n",
      "0: 416x416 (no detections), 113.5ms\n",
      "Speed: 3.5ms preprocess, 113.5ms inference, 0.0ms postprocess per image at shape (1, 3, 416, 416)\n",
      "\n",
      "\n"
     ]
    },
    {
     "name": "stdout",
     "output_type": "stream",
     "text": [
      "0.93676376\n"
     ]
    },
    {
     "name": "stderr",
     "output_type": "stream",
     "text": [
      "0: 416x416 (no detections), 114.0ms\n",
      "Speed: 4.5ms preprocess, 114.0ms inference, 2.0ms postprocess per image at shape (1, 3, 416, 416)\n",
      "0: 416x416 1 Speed Limit 30, 113.0ms\n",
      "Speed: 3.0ms preprocess, 113.0ms inference, 7.7ms postprocess per image at shape (1, 3, 416, 416)\n",
      "\n",
      "\n",
      "0: 416x416 (no detections), 117.3ms\n",
      "Speed: 2.0ms preprocess, 117.3ms inference, 1.5ms postprocess per image at shape (1, 3, 416, 416)\n",
      "\n"
     ]
    },
    {
     "name": "stdout",
     "output_type": "stream",
     "text": [
      "0.9370306\n"
     ]
    },
    {
     "name": "stderr",
     "output_type": "stream",
     "text": [
      "0: 416x416 1 Speed Limit 30, 123.9ms\n",
      "Speed: 1.5ms preprocess, 123.9ms inference, 2.0ms postprocess per image at shape (1, 3, 416, 416)\n",
      "0: 416x416 (no detections), 114.9ms\n",
      "Speed: 2.0ms preprocess, 114.9ms inference, 1.0ms postprocess per image at shape (1, 3, 416, 416)\n",
      "\n",
      "\n",
      "0: 416x416 (no detections), 103.2ms\n",
      "Speed: 2.0ms preprocess, 103.2ms inference, 1.0ms postprocess per image at shape (1, 3, 416, 416)\n",
      "\n"
     ]
    },
    {
     "name": "stdout",
     "output_type": "stream",
     "text": [
      "0.9376038\n"
     ]
    },
    {
     "name": "stderr",
     "output_type": "stream",
     "text": [
      "0: 416x416 1 Speed Limit 30, 125.9ms\n",
      "Speed: 2.0ms preprocess, 125.9ms inference, 1.0ms postprocess per image at shape (1, 3, 416, 416)\n",
      "0: 416x416 (no detections), 125.0ms\n",
      "Speed: 2.0ms preprocess, 125.0ms inference, 1.0ms postprocess per image at shape (1, 3, 416, 416)\n",
      "\n",
      "\n",
      "0: 416x416 (no detections), 139.0ms\n"
     ]
    },
    {
     "name": "stdout",
     "output_type": "stream",
     "text": [
      "0.936914\n"
     ]
    },
    {
     "name": "stderr",
     "output_type": "stream",
     "text": [
      "Speed: 2.0ms preprocess, 139.0ms inference, 1.0ms postprocess per image at shape (1, 3, 416, 416)\n",
      "\n",
      "0: 416x416 1 Speed Limit 30, 163.4ms\n",
      "Speed: 4.0ms preprocess, 163.4ms inference, 1.0ms postprocess per image at shape (1, 3, 416, 416)\n",
      "0: 416x416 (no detections), 132.5ms\n",
      "Speed: 7.7ms preprocess, 132.5ms inference, 1.0ms postprocess per image at shape (1, 3, 416, 416)\n",
      "\n",
      "\n"
     ]
    },
    {
     "name": "stdout",
     "output_type": "stream",
     "text": [
      "0.936837\n"
     ]
    },
    {
     "name": "stderr",
     "output_type": "stream",
     "text": [
      "0: 416x416 (no detections), 138.0ms\n",
      "Speed: 3.0ms preprocess, 138.0ms inference, 1.5ms postprocess per image at shape (1, 3, 416, 416)\n",
      "\n",
      "0: 416x416 1 Speed Limit 30, 164.9ms\n",
      "Speed: 3.0ms preprocess, 164.9ms inference, 7.6ms postprocess per image at shape (1, 3, 416, 416)\n",
      "\n",
      "0: 416x416 (no detections), 206.9ms\n"
     ]
    },
    {
     "name": "stdout",
     "output_type": "stream",
     "text": [
      "0.93693596\n"
     ]
    },
    {
     "name": "stderr",
     "output_type": "stream",
     "text": [
      "Speed: 7.6ms preprocess, 206.9ms inference, 1.0ms postprocess per image at shape (1, 3, 416, 416)\n",
      "0: 416x416 1 Speed Limit 30, 170.8ms\n",
      "Speed: 13.6ms preprocess, 170.8ms inference, 5.5ms postprocess per image at shape (1, 3, 416, 416)\n",
      "\n",
      "\n",
      "0: 416x416 (no detections), 167.7ms\n"
     ]
    },
    {
     "name": "stdout",
     "output_type": "stream",
     "text": [
      "0.9368714\n"
     ]
    },
    {
     "name": "stderr",
     "output_type": "stream",
     "text": [
      "Speed: 10.5ms preprocess, 167.7ms inference, 2.0ms postprocess per image at shape (1, 3, 416, 416)\n",
      "0: 416x416 1 Speed Limit 30, 151.8ms\n",
      "Speed: 4.5ms preprocess, 151.8ms inference, 2.0ms postprocess per image at shape (1, 3, 416, 416)\n",
      "\n",
      "\n"
     ]
    },
    {
     "name": "stdout",
     "output_type": "stream",
     "text": [
      "0.9375229\n"
     ]
    },
    {
     "name": "stderr",
     "output_type": "stream",
     "text": [
      "0: 416x416 (no detections), 184.0ms\n",
      "Speed: 7.0ms preprocess, 184.0ms inference, 2.1ms postprocess per image at shape (1, 3, 416, 416)\n",
      "\n",
      "0: 416x416 1 Speed Limit 30, 150.3ms\n",
      "Speed: 3.0ms preprocess, 150.3ms inference, 1.5ms postprocess per image at shape (1, 3, 416, 416)\n",
      "\n",
      "0: 416x416 (no detections), 160.1ms\n",
      "Speed: 3.0ms preprocess, 160.1ms inference, 3.1ms postprocess per image at shape (1, 3, 416, 416)\n",
      "\n"
     ]
    },
    {
     "name": "stdout",
     "output_type": "stream",
     "text": [
      "0.93774235\n"
     ]
    },
    {
     "name": "stderr",
     "output_type": "stream",
     "text": [
      "0: 416x416 1 Speed Limit 30, 189.1ms\n",
      "Speed: 3.0ms preprocess, 189.1ms inference, 2.0ms postprocess per image at shape (1, 3, 416, 416)\n",
      "\n",
      "0: 416x416 (no detections), 182.0ms\n",
      "Speed: 2.2ms preprocess, 182.0ms inference, 1.0ms postprocess per image at shape (1, 3, 416, 416)\n",
      "\n",
      "0: 416x416 1 Speed Limit 30, 150.7ms\n",
      "Speed: 2.6ms preprocess, 150.7ms inference, 3.2ms postprocess per image at shape (1, 3, 416, 416)\n"
     ]
    },
    {
     "name": "stdout",
     "output_type": "stream",
     "text": [
      "0.9370549\n",
      "0.9370171\n"
     ]
    },
    {
     "name": "stderr",
     "output_type": "stream",
     "text": [
      "0: 416x416 (no detections), 160.3ms\n",
      "Speed: 3.6ms preprocess, 160.3ms inference, 1.0ms postprocess per image at shape (1, 3, 416, 416)\n",
      "\n",
      "\n",
      "0: 416x416 (no detections), 149.3ms\n",
      "Speed: 8.2ms preprocess, 149.3ms inference, 2.0ms postprocess per image at shape (1, 3, 416, 416)\n",
      "0: 416x416 1 Speed Limit 30, 155.4ms\n",
      "Speed: 5.2ms preprocess, 155.4ms inference, 3.6ms postprocess per image at shape (1, 3, 416, 416)\n",
      "\n",
      "\n",
      "0: 416x416 (no detections), 123.1ms\n",
      "Speed: 3.0ms preprocess, 123.1ms inference, 1.0ms postprocess per image at shape (1, 3, 416, 416)\n",
      "\n"
     ]
    },
    {
     "name": "stdout",
     "output_type": "stream",
     "text": [
      "0.9370481\n"
     ]
    },
    {
     "name": "stderr",
     "output_type": "stream",
     "text": [
      "0: 416x416 1 Speed Limit 30, 135.7ms\n",
      "Speed: 2.6ms preprocess, 135.7ms inference, 4.1ms postprocess per image at shape (1, 3, 416, 416)\n",
      "0: 416x416 (no detections), 123.7ms\n",
      "Speed: 3.6ms preprocess, 123.7ms inference, 1.0ms postprocess per image at shape (1, 3, 416, 416)\n",
      "\n",
      "\n",
      "0: 416x416 (no detections), 111.4ms\n"
     ]
    },
    {
     "name": "stdout",
     "output_type": "stream",
     "text": [
      "0.93687236\n"
     ]
    },
    {
     "name": "stderr",
     "output_type": "stream",
     "text": [
      "Speed: 2.0ms preprocess, 111.4ms inference, 0.0ms postprocess per image at shape (1, 3, 416, 416)\n",
      "\n",
      "0: 416x416 1 Speed Limit 30, 118.1ms\n",
      "Speed: 3.9ms preprocess, 118.1ms inference, 2.0ms postprocess per image at shape (1, 3, 416, 416)\n",
      "0: 416x416 (no detections), 101.6ms\n",
      "Speed: 3.0ms preprocess, 101.6ms inference, 1.0ms postprocess per image at shape (1, 3, 416, 416)\n",
      "\n",
      "\n"
     ]
    },
    {
     "name": "stdout",
     "output_type": "stream",
     "text": [
      "0.93707603\n"
     ]
    },
    {
     "name": "stderr",
     "output_type": "stream",
     "text": [
      "0: 416x416 (no detections), 124.6ms\n",
      "Speed: 2.5ms preprocess, 124.6ms inference, 1.0ms postprocess per image at shape (1, 3, 416, 416)\n",
      "\n",
      "0: 416x416 1 Speed Limit 30, 124.8ms\n",
      "Speed: 2.5ms preprocess, 124.8ms inference, 1.7ms postprocess per image at shape (1, 3, 416, 416)\n",
      "0: 416x416 (no detections), 107.9ms\n",
      "Speed: 2.4ms preprocess, 107.9ms inference, 1.0ms postprocess per image at shape (1, 3, 416, 416)\n",
      "\n",
      "\n"
     ]
    },
    {
     "name": "stdout",
     "output_type": "stream",
     "text": [
      "0.9374095\n"
     ]
    },
    {
     "name": "stderr",
     "output_type": "stream",
     "text": [
      "0: 416x416 (no detections), 126.5ms\n",
      "Speed: 4.0ms preprocess, 126.5ms inference, 1.0ms postprocess per image at shape (1, 3, 416, 416)\n",
      "0: 416x416 1 Speed Limit 30, 124.6ms\n",
      "Speed: 3.0ms preprocess, 124.6ms inference, 2.3ms postprocess per image at shape (1, 3, 416, 416)\n",
      "\n",
      "\n",
      "0: 416x416 (no detections), 101.8ms\n",
      "Speed: 3.5ms preprocess, 101.8ms inference, 1.0ms postprocess per image at shape (1, 3, 416, 416)\n",
      "\n"
     ]
    },
    {
     "name": "stdout",
     "output_type": "stream",
     "text": [
      "0.9364862\n"
     ]
    },
    {
     "name": "stderr",
     "output_type": "stream",
     "text": [
      "0: 416x416 1 Speed Limit 30, 119.5ms\n",
      "Speed: 4.5ms preprocess, 119.5ms inference, 2.0ms postprocess per image at shape (1, 3, 416, 416)\n",
      "0: 416x416 (no detections), 111.0ms\n",
      "Speed: 3.0ms preprocess, 111.0ms inference, 1.0ms postprocess per image at shape (1, 3, 416, 416)\n",
      "\n",
      "\n",
      "0: 416x416 (no detections), 118.9ms\n",
      "Speed: 2.5ms preprocess, 118.9ms inference, 1.9ms postprocess per image at shape (1, 3, 416, 416)\n",
      "\n"
     ]
    },
    {
     "name": "stdout",
     "output_type": "stream",
     "text": [
      "0.93679965\n"
     ]
    },
    {
     "name": "stderr",
     "output_type": "stream",
     "text": [
      "0: 416x416 1 Speed Limit 30, 122.3ms\n",
      "Speed: 3.0ms preprocess, 122.3ms inference, 2.0ms postprocess per image at shape (1, 3, 416, 416)\n",
      "0: 416x416 (no detections), 110.3ms\n",
      "Speed: 2.0ms preprocess, 110.3ms inference, 1.5ms postprocess per image at shape (1, 3, 416, 416)\n",
      "\n",
      "\n",
      "0: 416x416 (no detections), 110.2ms\n",
      "Speed: 3.0ms preprocess, 110.2ms inference, 1.0ms postprocess per image at shape (1, 3, 416, 416)\n",
      "\n"
     ]
    },
    {
     "name": "stdout",
     "output_type": "stream",
     "text": [
      "0.9368876\n"
     ]
    },
    {
     "name": "stderr",
     "output_type": "stream",
     "text": [
      "0: 416x416 1 Speed Limit 30, 121.8ms\n",
      "Speed: 2.3ms preprocess, 121.8ms inference, 2.0ms postprocess per image at shape (1, 3, 416, 416)\n",
      "0: 416x416 (no detections), 115.9ms\n",
      "Speed: 3.5ms preprocess, 115.9ms inference, 0.0ms postprocess per image at shape (1, 3, 416, 416)\n",
      "\n",
      "\n"
     ]
    },
    {
     "name": "stdout",
     "output_type": "stream",
     "text": [
      "0.93735945\n"
     ]
    },
    {
     "name": "stderr",
     "output_type": "stream",
     "text": [
      "0: 416x416 (no detections), 121.4ms\n",
      "Speed: 3.5ms preprocess, 121.4ms inference, 2.0ms postprocess per image at shape (1, 3, 416, 416)\n",
      "\n",
      "0: 416x416 1 Speed Limit 30, 126.0ms\n",
      "Speed: 4.1ms preprocess, 126.0ms inference, 2.0ms postprocess per image at shape (1, 3, 416, 416)\n",
      "0: 416x416 (no detections), 114.6ms\n",
      "Speed: 3.0ms preprocess, 114.6ms inference, 2.0ms postprocess per image at shape (1, 3, 416, 416)\n",
      "\n",
      "\n"
     ]
    },
    {
     "name": "stdout",
     "output_type": "stream",
     "text": [
      "0.93688345\n"
     ]
    },
    {
     "name": "stderr",
     "output_type": "stream",
     "text": [
      "0: 416x416 (no detections), 136.8ms\n",
      "Speed: 4.5ms preprocess, 136.8ms inference, 2.0ms postprocess per image at shape (1, 3, 416, 416)\n",
      "0: 416x416 1 Speed Limit 30, 130.2ms\n",
      "Speed: 2.0ms preprocess, 130.2ms inference, 1.0ms postprocess per image at shape (1, 3, 416, 416)\n",
      "\n",
      "\n",
      "0: 416x416 (no detections), 114.8ms\n",
      "Speed: 4.1ms preprocess, 114.8ms inference, 1.0ms postprocess per image at shape (1, 3, 416, 416)\n",
      "\n"
     ]
    },
    {
     "name": "stdout",
     "output_type": "stream",
     "text": [
      "0.93676114\n"
     ]
    },
    {
     "name": "stderr",
     "output_type": "stream",
     "text": [
      "0: 416x416 1 Speed Limit 30, 129.0ms\n",
      "Speed: 2.0ms preprocess, 129.0ms inference, 2.0ms postprocess per image at shape (1, 3, 416, 416)\n",
      "0: 416x416 (no detections), 121.4ms\n",
      "Speed: 3.0ms preprocess, 121.4ms inference, 2.0ms postprocess per image at shape (1, 3, 416, 416)\n",
      "\n",
      "\n"
     ]
    },
    {
     "name": "stdout",
     "output_type": "stream",
     "text": [
      "0.9370636\n"
     ]
    },
    {
     "name": "stderr",
     "output_type": "stream",
     "text": [
      "0: 416x416 (no detections), 133.5ms\n",
      "Speed: 4.0ms preprocess, 133.5ms inference, 1.5ms postprocess per image at shape (1, 3, 416, 416)\n",
      "\n",
      "0: 416x416 1 Speed Limit 30, 179.9ms\n",
      "Speed: 2.0ms preprocess, 179.9ms inference, 2.5ms postprocess per image at shape (1, 3, 416, 416)\n",
      "\n",
      "0: 416x416 (no detections), 203.4ms\n",
      "Speed: 7.5ms preprocess, 203.4ms inference, 1.6ms postprocess per image at shape (1, 3, 416, 416)\n",
      "\n"
     ]
    },
    {
     "name": "stdout",
     "output_type": "stream",
     "text": [
      "0.9376173\n"
     ]
    },
    {
     "name": "stderr",
     "output_type": "stream",
     "text": [
      "0: 416x416 1 Speed Limit 30, 190.1ms\n",
      "Speed: 9.7ms preprocess, 190.1ms inference, 2.0ms postprocess per image at shape (1, 3, 416, 416)\n",
      "\n",
      "0: 416x416 (no detections), 160.6ms\n",
      "Speed: 4.5ms preprocess, 160.6ms inference, 2.5ms postprocess per image at shape (1, 3, 416, 416)\n",
      "\n",
      "0: 416x416 1 Speed Limit 30, 143.9ms\n",
      "Speed: 3.5ms preprocess, 143.9ms inference, 2.0ms postprocess per image at shape (1, 3, 416, 416)\n"
     ]
    },
    {
     "name": "stdout",
     "output_type": "stream",
     "text": [
      "0.93686366\n",
      "0.9368976\n"
     ]
    },
    {
     "name": "stderr",
     "output_type": "stream",
     "text": [
      "\n",
      "0: 416x416 (no detections), 137.1ms\n",
      "Speed: 3.5ms preprocess, 137.1ms inference, 1.0ms postprocess per image at shape (1, 3, 416, 416)\n",
      "\n",
      "0: 416x416 1 Speed Limit 30, 149.3ms\n",
      "Speed: 2.0ms preprocess, 149.3ms inference, 2.0ms postprocess per image at shape (1, 3, 416, 416)\n",
      "0: 416x416 (no detections), 131.0ms\n",
      "Speed: 5.0ms preprocess, 131.0ms inference, 1.0ms postprocess per image at shape (1, 3, 416, 416)\n",
      "\n",
      "\n"
     ]
    },
    {
     "name": "stdout",
     "output_type": "stream",
     "text": [
      "0.9366826\n"
     ]
    },
    {
     "name": "stderr",
     "output_type": "stream",
     "text": [
      "0: 416x416 (no detections), 139.6ms\n",
      "Speed: 3.0ms preprocess, 139.6ms inference, 1.0ms postprocess per image at shape (1, 3, 416, 416)\n",
      "\n",
      "0: 416x416 1 Speed Limit 30, 142.4ms\n",
      "Speed: 3.0ms preprocess, 142.4ms inference, 2.5ms postprocess per image at shape (1, 3, 416, 416)\n",
      "0: 416x416 (no detections), 122.0ms\n",
      "Speed: 3.0ms preprocess, 122.0ms inference, 1.0ms postprocess per image at shape (1, 3, 416, 416)\n",
      "\n",
      "\n"
     ]
    },
    {
     "name": "stdout",
     "output_type": "stream",
     "text": [
      "0.93685544\n"
     ]
    },
    {
     "name": "stderr",
     "output_type": "stream",
     "text": [
      "0: 416x416 1 Speed Limit 30, 140.9ms\n",
      "Speed: 3.0ms preprocess, 140.9ms inference, 3.0ms postprocess per image at shape (1, 3, 416, 416)\n",
      "0: 416x416 (no detections), 138.8ms\n",
      "Speed: 3.5ms preprocess, 138.8ms inference, 1.5ms postprocess per image at shape (1, 3, 416, 416)\n",
      "\n",
      "\n"
     ]
    },
    {
     "name": "stdout",
     "output_type": "stream",
     "text": [
      "0.9371944\n"
     ]
    },
    {
     "name": "stderr",
     "output_type": "stream",
     "text": [
      "0: 416x416 (no detections), 188.0ms\n",
      "Speed: 3.0ms preprocess, 188.0ms inference, 3.4ms postprocess per image at shape (1, 3, 416, 416)\n",
      "\n",
      "0: 416x416 1 Speed Limit 30, 196.0ms\n",
      "Speed: 8.5ms preprocess, 196.0ms inference, 2.0ms postprocess per image at shape (1, 3, 416, 416)\n",
      "\n",
      "0: 416x416 (no detections), 194.5ms\n",
      "Speed: 4.1ms preprocess, 194.5ms inference, 2.5ms postprocess per image at shape (1, 3, 416, 416)\n",
      "\n"
     ]
    },
    {
     "name": "stdout",
     "output_type": "stream",
     "text": [
      "0.93758076\n"
     ]
    },
    {
     "name": "stderr",
     "output_type": "stream",
     "text": [
      "0: 416x416 1 Speed Limit 30, 199.6ms\n",
      "Speed: 2.5ms preprocess, 199.6ms inference, 2.0ms postprocess per image at shape (1, 3, 416, 416)\n",
      "\n",
      "0: 416x416 (no detections), 134.5ms\n",
      "Speed: 3.7ms preprocess, 134.5ms inference, 1.0ms postprocess per image at shape (1, 3, 416, 416)\n",
      "\n",
      "0: 416x416 1 Speed Limit 30, 140.2ms\n",
      "Speed: 3.5ms preprocess, 140.2ms inference, 2.2ms postprocess per image at shape (1, 3, 416, 416)\n"
     ]
    },
    {
     "name": "stdout",
     "output_type": "stream",
     "text": [
      "0.93686575\n",
      "0.93687016\n"
     ]
    },
    {
     "name": "stderr",
     "output_type": "stream",
     "text": [
      "0: 416x416 (no detections), 126.2ms\n",
      "Speed: 4.4ms preprocess, 126.2ms inference, 0.0ms postprocess per image at shape (1, 3, 416, 416)\n",
      "\n",
      "\n",
      "0: 416x416 (no detections), 131.1ms\n",
      "Speed: 3.0ms preprocess, 131.1ms inference, 1.0ms postprocess per image at shape (1, 3, 416, 416)\n",
      "\n",
      "0: 416x416 1 Speed Limit 30, 139.6ms\n",
      "Speed: 3.0ms preprocess, 139.6ms inference, 1.0ms postprocess per image at shape (1, 3, 416, 416)\n",
      "0: 416x416 (no detections), 121.2ms\n",
      "Speed: 4.9ms preprocess, 121.2ms inference, 1.0ms postprocess per image at shape (1, 3, 416, 416)\n",
      "\n",
      "\n"
     ]
    },
    {
     "name": "stdout",
     "output_type": "stream",
     "text": [
      "0.93759197\n"
     ]
    },
    {
     "name": "stderr",
     "output_type": "stream",
     "text": [
      "0: 416x416 (no detections), 152.6ms\n",
      "Speed: 4.3ms preprocess, 152.6ms inference, 2.5ms postprocess per image at shape (1, 3, 416, 416)\n",
      "0: 416x416 1 Speed Limit 30, 150.9ms\n",
      "Speed: 3.9ms preprocess, 150.9ms inference, 1.6ms postprocess per image at shape (1, 3, 416, 416)\n",
      "\n",
      "\n",
      "0: 416x416 (no detections), 140.3ms\n",
      "Speed: 5.0ms preprocess, 140.3ms inference, 2.5ms postprocess per image at shape (1, 3, 416, 416)\n",
      "\n"
     ]
    },
    {
     "name": "stdout",
     "output_type": "stream",
     "text": [
      "0.9369775\n"
     ]
    },
    {
     "name": "stderr",
     "output_type": "stream",
     "text": [
      "0: 416x416 1 Speed Limit 30, 142.8ms\n",
      "Speed: 3.0ms preprocess, 142.8ms inference, 5.0ms postprocess per image at shape (1, 3, 416, 416)\n",
      "0: 416x416 (no detections), 155.5ms\n",
      "Speed: 4.0ms preprocess, 155.5ms inference, 1.5ms postprocess per image at shape (1, 3, 416, 416)\n",
      "\n",
      "\n"
     ]
    },
    {
     "name": "stdout",
     "output_type": "stream",
     "text": [
      "0.9368875\n"
     ]
    },
    {
     "name": "stderr",
     "output_type": "stream",
     "text": [
      "0: 416x416 (no detections), 149.9ms\n",
      "Speed: 4.0ms preprocess, 149.9ms inference, 1.0ms postprocess per image at shape (1, 3, 416, 416)\n",
      "\n",
      "0: 416x416 1 Speed Limit 30, 136.7ms\n",
      "Speed: 3.6ms preprocess, 136.7ms inference, 2.3ms postprocess per image at shape (1, 3, 416, 416)\n",
      "\n",
      "0: 416x416 (no detections), 123.7ms\n",
      "Speed: 6.5ms preprocess, 123.7ms inference, 1.0ms postprocess per image at shape (1, 3, 416, 416)\n",
      "\n"
     ]
    },
    {
     "name": "stdout",
     "output_type": "stream",
     "text": [
      "0.93671304\n"
     ]
    },
    {
     "name": "stderr",
     "output_type": "stream",
     "text": [
      "0: 416x416 1 Speed Limit 30, 142.7ms\n",
      "Speed: 4.0ms preprocess, 142.7ms inference, 3.0ms postprocess per image at shape (1, 3, 416, 416)\n",
      "0: 416x416 (no detections), 136.2ms\n",
      "Speed: 4.5ms preprocess, 136.2ms inference, 0.0ms postprocess per image at shape (1, 3, 416, 416)\n",
      "\n",
      "\n"
     ]
    },
    {
     "name": "stdout",
     "output_type": "stream",
     "text": [
      "0.93704295\n"
     ]
    },
    {
     "name": "stderr",
     "output_type": "stream",
     "text": [
      "0: 416x416 (no detections), 149.7ms\n",
      "Speed: 3.0ms preprocess, 149.7ms inference, 1.5ms postprocess per image at shape (1, 3, 416, 416)\n",
      "\n",
      "0: 416x416 1 Speed Limit 30, 184.0ms\n",
      "Speed: 3.0ms preprocess, 184.0ms inference, 2.5ms postprocess per image at shape (1, 3, 416, 416)\n",
      "\n",
      "0: 416x416 (no detections), 190.2ms\n",
      "Speed: 7.0ms preprocess, 190.2ms inference, 1.0ms postprocess per image at shape (1, 3, 416, 416)\n",
      "\n",
      "0: 416x416 1 Speed Limit 30, 173.1ms\n"
     ]
    },
    {
     "name": "stdout",
     "output_type": "stream",
     "text": [
      "0.93669724\n"
     ]
    },
    {
     "name": "stderr",
     "output_type": "stream",
     "text": [
      "Speed: 2.5ms preprocess, 173.1ms inference, 1.8ms postprocess per image at shape (1, 3, 416, 416)\n",
      "\n",
      "0: 416x416 (no detections), 150.0ms\n",
      "Speed: 3.0ms preprocess, 150.0ms inference, 2.0ms postprocess per image at shape (1, 3, 416, 416)\n",
      "\n",
      "0: 416x416 1 Speed Limit 30, 151.9ms\n"
     ]
    },
    {
     "name": "stdout",
     "output_type": "stream",
     "text": [
      "0.9376777\n"
     ]
    },
    {
     "name": "stderr",
     "output_type": "stream",
     "text": [
      "Speed: 2.1ms preprocess, 151.9ms inference, 1.0ms postprocess per image at shape (1, 3, 416, 416)\n",
      "\n"
     ]
    },
    {
     "name": "stdout",
     "output_type": "stream",
     "text": [
      "0.93707865\n"
     ]
    },
    {
     "name": "stderr",
     "output_type": "stream",
     "text": [
      "0: 416x416 (no detections), 303.7ms\n",
      "Speed: 7.0ms preprocess, 303.7ms inference, 2.0ms postprocess per image at shape (1, 3, 416, 416)\n",
      "\n",
      "0: 416x416 1 Speed Limit 30, 176.8ms\n",
      "Speed: 13.5ms preprocess, 176.8ms inference, 3.0ms postprocess per image at shape (1, 3, 416, 416)\n",
      "\n",
      "0: 416x416 (no detections), 148.1ms\n",
      "Speed: 3.0ms preprocess, 148.1ms inference, 2.0ms postprocess per image at shape (1, 3, 416, 416)\n",
      "\n",
      "0: 416x416 1 Speed Limit 30, 141.0ms\n",
      "Speed: 3.4ms preprocess, 141.0ms inference, 2.0ms postprocess per image at shape (1, 3, 416, 416)\n"
     ]
    },
    {
     "name": "stdout",
     "output_type": "stream",
     "text": [
      "0.9367265\n",
      "0.9368486\n"
     ]
    },
    {
     "name": "stderr",
     "output_type": "stream",
     "text": [
      "\n",
      "0: 416x416 (no detections), 138.1ms\n",
      "Speed: 3.5ms preprocess, 138.1ms inference, 1.5ms postprocess per image at shape (1, 3, 416, 416)\n",
      "\n",
      "0: 416x416 1 Speed Limit 30, 134.9ms\n",
      "Speed: 4.0ms preprocess, 134.9ms inference, 2.0ms postprocess per image at shape (1, 3, 416, 416)\n",
      "0: 416x416 (no detections), 119.5ms\n",
      "Speed: 3.7ms preprocess, 119.5ms inference, 2.0ms postprocess per image at shape (1, 3, 416, 416)\n",
      "\n",
      "\n"
     ]
    },
    {
     "name": "stdout",
     "output_type": "stream",
     "text": [
      "0.93674546\n"
     ]
    },
    {
     "name": "stderr",
     "output_type": "stream",
     "text": [
      "0: 416x416 (no detections), 143.7ms\n",
      "Speed: 4.5ms preprocess, 143.7ms inference, 1.5ms postprocess per image at shape (1, 3, 416, 416)\n",
      "\n",
      "0: 416x416 1 Speed Limit 30, 141.0ms\n",
      "Speed: 3.0ms preprocess, 141.0ms inference, 3.0ms postprocess per image at shape (1, 3, 416, 416)\n",
      "\n",
      "0: 416x416 (no detections), 148.2ms\n",
      "Speed: 4.0ms preprocess, 148.2ms inference, 1.6ms postprocess per image at shape (1, 3, 416, 416)\n",
      "\n"
     ]
    },
    {
     "name": "stdout",
     "output_type": "stream",
     "text": [
      "0.93719214\n"
     ]
    },
    {
     "name": "stderr",
     "output_type": "stream",
     "text": [
      "0: 416x416 1 Speed Limit 30, 158.5ms\n",
      "Speed: 3.0ms preprocess, 158.5ms inference, 2.0ms postprocess per image at shape (1, 3, 416, 416)\n",
      "0: 416x416 (no detections), 139.6ms\n",
      "Speed: 5.0ms preprocess, 139.6ms inference, 1.0ms postprocess per image at shape (1, 3, 416, 416)\n",
      "\n",
      "\n"
     ]
    },
    {
     "name": "stdout",
     "output_type": "stream",
     "text": [
      "0.93688136\n"
     ]
    },
    {
     "name": "stderr",
     "output_type": "stream",
     "text": [
      "0: 416x416 (no detections), 140.3ms\n",
      "Speed: 3.5ms preprocess, 140.3ms inference, 1.0ms postprocess per image at shape (1, 3, 416, 416)\n",
      "\n",
      "0: 416x416 1 Speed Limit 30, 151.8ms\n",
      "Speed: 3.0ms preprocess, 151.8ms inference, 3.0ms postprocess per image at shape (1, 3, 416, 416)\n",
      "\n",
      "0: 416x416 (no detections), 156.0ms\n",
      "Speed: 3.5ms preprocess, 156.0ms inference, 1.6ms postprocess per image at shape (1, 3, 416, 416)\n",
      "\n"
     ]
    },
    {
     "name": "stdout",
     "output_type": "stream",
     "text": [
      "0.93698347\n"
     ]
    },
    {
     "name": "stderr",
     "output_type": "stream",
     "text": [
      "0: 416x416 1 Speed Limit 30, 142.7ms\n",
      "Speed: 2.0ms preprocess, 142.7ms inference, 2.3ms postprocess per image at shape (1, 3, 416, 416)\n",
      "0: 416x416 (no detections), 132.5ms\n",
      "Speed: 4.4ms preprocess, 132.5ms inference, 1.4ms postprocess per image at shape (1, 3, 416, 416)\n",
      "\n",
      "\n",
      "0: 416x416 (no detections), 134.3ms\n"
     ]
    },
    {
     "name": "stdout",
     "output_type": "stream",
     "text": [
      "0.9364978\n"
     ]
    },
    {
     "name": "stderr",
     "output_type": "stream",
     "text": [
      "Speed: 4.5ms preprocess, 134.3ms inference, 1.0ms postprocess per image at shape (1, 3, 416, 416)\n",
      "\n",
      "0: 416x416 1 Speed Limit 30, 139.0ms\n",
      "Speed: 3.0ms preprocess, 139.0ms inference, 2.0ms postprocess per image at shape (1, 3, 416, 416)\n",
      "0: 416x416 (no detections), 129.3ms\n",
      "Speed: 4.5ms preprocess, 129.3ms inference, 2.5ms postprocess per image at shape (1, 3, 416, 416)\n",
      "\n",
      "\n"
     ]
    },
    {
     "name": "stdout",
     "output_type": "stream",
     "text": [
      "0.93679357\n"
     ]
    },
    {
     "name": "stderr",
     "output_type": "stream",
     "text": [
      "0: 416x416 (no detections), 142.0ms\n",
      "Speed: 2.5ms preprocess, 142.0ms inference, 2.0ms postprocess per image at shape (1, 3, 416, 416)\n",
      "\n",
      "0: 416x416 1 Speed Limit 30, 130.3ms\n",
      "Speed: 3.2ms preprocess, 130.3ms inference, 8.5ms postprocess per image at shape (1, 3, 416, 416)\n",
      "0: 416x416 (no detections), 125.7ms\n",
      "\n",
      "Speed: 5.5ms preprocess, 125.7ms inference, 2.0ms postprocess per image at shape (1, 3, 416, 416)\n",
      "\n"
     ]
    },
    {
     "name": "stdout",
     "output_type": "stream",
     "text": [
      "0.9370168\n"
     ]
    },
    {
     "name": "stderr",
     "output_type": "stream",
     "text": [
      "0: 416x416 1 Speed Limit 30, 153.9ms\n",
      "Speed: 3.0ms preprocess, 153.9ms inference, 2.5ms postprocess per image at shape (1, 3, 416, 416)\n",
      "0: 416x416 (no detections), 145.2ms\n",
      "Speed: 4.0ms preprocess, 145.2ms inference, 1.0ms postprocess per image at shape (1, 3, 416, 416)\n",
      "\n",
      "\n",
      "0: 416x416 (no detections), 138.9ms\n"
     ]
    },
    {
     "name": "stdout",
     "output_type": "stream",
     "text": [
      "0.9375511\n"
     ]
    },
    {
     "name": "stderr",
     "output_type": "stream",
     "text": [
      "Speed: 4.0ms preprocess, 138.9ms inference, 1.0ms postprocess per image at shape (1, 3, 416, 416)\n",
      "\n",
      "0: 416x416 1 Speed Limit 30, 139.0ms\n",
      "Speed: 3.0ms preprocess, 139.0ms inference, 2.0ms postprocess per image at shape (1, 3, 416, 416)\n",
      "0: 416x416 (no detections), 124.9ms\n",
      "Speed: 4.0ms preprocess, 124.9ms inference, 1.0ms postprocess per image at shape (1, 3, 416, 416)\n",
      "\n",
      "\n"
     ]
    },
    {
     "name": "stdout",
     "output_type": "stream",
     "text": [
      "0.93689924\n"
     ]
    },
    {
     "name": "stderr",
     "output_type": "stream",
     "text": [
      "0: 416x416 (no detections), 144.2ms\n",
      "Speed: 4.0ms preprocess, 144.2ms inference, 1.6ms postprocess per image at shape (1, 3, 416, 416)\n",
      "0: 416x416 1 Speed Limit 30, 139.4ms\n",
      "Speed: 4.0ms preprocess, 139.4ms inference, 2.0ms postprocess per image at shape (1, 3, 416, 416)\n",
      "\n",
      "\n",
      "0: 416x416 (no detections), 135.1ms\n",
      "Speed: 5.5ms preprocess, 135.1ms inference, 1.0ms postprocess per image at shape (1, 3, 416, 416)\n",
      "\n"
     ]
    },
    {
     "name": "stdout",
     "output_type": "stream",
     "text": [
      "0.93679106\n"
     ]
    },
    {
     "name": "stderr",
     "output_type": "stream",
     "text": [
      "0: 416x416 1 Speed Limit 30, 152.5ms\n",
      "Speed: 2.0ms preprocess, 152.5ms inference, 3.5ms postprocess per image at shape (1, 3, 416, 416)\n",
      "0: 416x416 (no detections), 134.6ms\n",
      "Speed: 3.5ms preprocess, 134.6ms inference, 2.0ms postprocess per image at shape (1, 3, 416, 416)\n",
      "\n",
      "\n",
      "0: 416x416 (no detections), 137.3ms\n"
     ]
    },
    {
     "name": "stdout",
     "output_type": "stream",
     "text": [
      "0.9365444\n"
     ]
    },
    {
     "name": "stderr",
     "output_type": "stream",
     "text": [
      "Speed: 5.0ms preprocess, 137.3ms inference, 1.0ms postprocess per image at shape (1, 3, 416, 416)\n",
      "\n",
      "0: 416x416 1 Speed Limit 30, 145.5ms\n",
      "Speed: 2.5ms preprocess, 145.5ms inference, 1.6ms postprocess per image at shape (1, 3, 416, 416)\n",
      "0: 416x416 (no detections), 126.0ms\n",
      "Speed: 4.0ms preprocess, 126.0ms inference, 1.0ms postprocess per image at shape (1, 3, 416, 416)\n",
      "\n",
      "\n"
     ]
    },
    {
     "name": "stdout",
     "output_type": "stream",
     "text": [
      "0.9370641\n"
     ]
    },
    {
     "name": "stderr",
     "output_type": "stream",
     "text": [
      "0: 416x416 (no detections), 149.9ms\n",
      "Speed: 4.0ms preprocess, 149.9ms inference, 2.5ms postprocess per image at shape (1, 3, 416, 416)\n",
      "0: 416x416 1 Speed Limit 30, 161.4ms\n",
      "Speed: 7.2ms preprocess, 161.4ms inference, 3.0ms postprocess per image at shape (1, 3, 416, 416)\n",
      "\n",
      "\n",
      "0: 416x416 (no detections), 132.5ms\n",
      "Speed: 3.0ms preprocess, 132.5ms inference, 1.0ms postprocess per image at shape (1, 3, 416, 416)\n",
      "\n"
     ]
    },
    {
     "name": "stdout",
     "output_type": "stream",
     "text": [
      "0.9366938\n"
     ]
    },
    {
     "name": "stderr",
     "output_type": "stream",
     "text": [
      "0: 416x416 1 Speed Limit 30, 141.2ms\n",
      "Speed: 3.0ms preprocess, 141.2ms inference, 3.0ms postprocess per image at shape (1, 3, 416, 416)\n",
      "0: 416x416 (no detections), 134.7ms\n",
      "Speed: 4.6ms preprocess, 134.7ms inference, 2.0ms postprocess per image at shape (1, 3, 416, 416)\n",
      "\n",
      "\n"
     ]
    },
    {
     "name": "stdout",
     "output_type": "stream",
     "text": [
      "0.9366414\n"
     ]
    },
    {
     "name": "stderr",
     "output_type": "stream",
     "text": [
      "0: 416x416 (no detections), 139.2ms\n",
      "Speed: 4.1ms preprocess, 139.2ms inference, 2.0ms postprocess per image at shape (1, 3, 416, 416)\n",
      "0: 416x416 1 Speed Limit 30, 139.8ms\n",
      "Speed: 3.4ms preprocess, 139.8ms inference, 2.0ms postprocess per image at shape (1, 3, 416, 416)\n",
      "\n",
      "\n",
      "0: 416x416 (no detections), 143.8ms\n",
      "Speed: 4.0ms preprocess, 143.8ms inference, 2.0ms postprocess per image at shape (1, 3, 416, 416)\n",
      "\n"
     ]
    },
    {
     "name": "stdout",
     "output_type": "stream",
     "text": [
      "0.937205\n"
     ]
    },
    {
     "name": "stderr",
     "output_type": "stream",
     "text": [
      "0: 416x416 1 Speed Limit 30, 148.5ms\n",
      "Speed: 5.0ms preprocess, 148.5ms inference, 2.1ms postprocess per image at shape (1, 3, 416, 416)\n",
      "0: 416x416 (no detections), 133.2ms\n",
      "Speed: 4.0ms preprocess, 133.2ms inference, 2.0ms postprocess per image at shape (1, 3, 416, 416)\n",
      "\n",
      "\n"
     ]
    },
    {
     "name": "stdout",
     "output_type": "stream",
     "text": [
      "0.9375769\n"
     ]
    },
    {
     "name": "stderr",
     "output_type": "stream",
     "text": [
      "0: 416x416 (no detections), 144.1ms\n",
      "Speed: 10.6ms preprocess, 144.1ms inference, 3.2ms postprocess per image at shape (1, 3, 416, 416)\n",
      "0: 416x416 1 Speed Limit 30, 143.1ms\n",
      "Speed: 5.0ms preprocess, 143.1ms inference, 5.3ms postprocess per image at shape (1, 3, 416, 416)\n",
      "\n",
      "\n",
      "0: 416x416 (no detections), 151.1ms\n",
      "Speed: 4.0ms preprocess, 151.1ms inference, 2.0ms postprocess per image at shape (1, 3, 416, 416)\n",
      "\n"
     ]
    },
    {
     "name": "stdout",
     "output_type": "stream",
     "text": [
      "0.9367877\n"
     ]
    },
    {
     "name": "stderr",
     "output_type": "stream",
     "text": [
      "0: 416x416 1 Speed Limit 30, 143.4ms\n",
      "Speed: 3.0ms preprocess, 143.4ms inference, 2.0ms postprocess per image at shape (1, 3, 416, 416)\n",
      "0: 416x416 (no detections), 135.9ms\n",
      "Speed: 3.5ms preprocess, 135.9ms inference, 1.0ms postprocess per image at shape (1, 3, 416, 416)\n",
      "\n",
      "\n"
     ]
    },
    {
     "name": "stdout",
     "output_type": "stream",
     "text": [
      "0.9366623\n"
     ]
    },
    {
     "name": "stderr",
     "output_type": "stream",
     "text": [
      "0: 416x416 (no detections), 160.2ms\n",
      "Speed: 5.2ms preprocess, 160.2ms inference, 2.5ms postprocess per image at shape (1, 3, 416, 416)\n",
      "0: 416x416 1 Speed Limit 30, 166.8ms\n",
      "Speed: 6.8ms preprocess, 166.8ms inference, 12.2ms postprocess per image at shape (1, 3, 416, 416)\n",
      "\n",
      "\n"
     ]
    },
    {
     "name": "stdout",
     "output_type": "stream",
     "text": [
      "0.9365542\n"
     ]
    },
    {
     "name": "stderr",
     "output_type": "stream",
     "text": [
      "0: 416x416 (no detections), 160.5ms\n",
      "Speed: 8.5ms preprocess, 160.5ms inference, 2.0ms postprocess per image at shape (1, 3, 416, 416)\n",
      "0: 416x416 1 Speed Limit 30, 163.1ms\n",
      "Speed: 5.5ms preprocess, 163.1ms inference, 12.8ms postprocess per image at shape (1, 3, 416, 416)\n",
      "\n",
      "\n",
      "0: 416x416 (no detections), 145.6ms\n",
      "Speed: 5.7ms preprocess, 145.6ms inference, 1.0ms postprocess per image at shape (1, 3, 416, 416)\n"
     ]
    },
    {
     "name": "stdout",
     "output_type": "stream",
     "text": [
      "0.9367259\n"
     ]
    },
    {
     "name": "stderr",
     "output_type": "stream",
     "text": [
      "0: 416x416 1 Speed Limit 30, 157.1ms\n",
      "Speed: 7.7ms preprocess, 157.1ms inference, 5.0ms postprocess per image at shape (1, 3, 416, 416)\n",
      "\n",
      "\n"
     ]
    },
    {
     "name": "stdout",
     "output_type": "stream",
     "text": [
      "0.9368823\n"
     ]
    },
    {
     "name": "stderr",
     "output_type": "stream",
     "text": [
      "0: 416x416 (no detections), 159.8ms\n",
      "Speed: 4.5ms preprocess, 159.8ms inference, 2.0ms postprocess per image at shape (1, 3, 416, 416)\n",
      "\n",
      "0: 416x416 1 Speed Limit 30, 154.2ms\n",
      "Speed: 3.6ms preprocess, 154.2ms inference, 2.0ms postprocess per image at shape (1, 3, 416, 416)\n",
      "0: 416x416 (no detections), 128.8ms\n",
      "Speed: 4.2ms preprocess, 128.8ms inference, 2.0ms postprocess per image at shape (1, 3, 416, 416)\n",
      "\n",
      "\n"
     ]
    },
    {
     "name": "stdout",
     "output_type": "stream",
     "text": [
      "0.93765366\n"
     ]
    },
    {
     "name": "stderr",
     "output_type": "stream",
     "text": [
      "0: 416x416 1 Speed Limit 30, 159.3ms\n",
      "Speed: 3.0ms preprocess, 159.3ms inference, 3.4ms postprocess per image at shape (1, 3, 416, 416)\n",
      "0: 416x416 (no detections), 154.7ms\n",
      "Speed: 4.5ms preprocess, 154.7ms inference, 2.0ms postprocess per image at shape (1, 3, 416, 416)\n",
      "\n",
      "\n",
      "0: 416x416 (no detections), 144.1ms\n"
     ]
    },
    {
     "name": "stdout",
     "output_type": "stream",
     "text": [
      "0.9368186\n"
     ]
    },
    {
     "name": "stderr",
     "output_type": "stream",
     "text": [
      "Speed: 4.0ms preprocess, 144.1ms inference, 2.0ms postprocess per image at shape (1, 3, 416, 416)\n",
      "\n",
      "0: 416x416 1 Speed Limit 30, 147.3ms\n",
      "Speed: 3.5ms preprocess, 147.3ms inference, 2.7ms postprocess per image at shape (1, 3, 416, 416)\n",
      "0: 416x416 (no detections), 131.0ms\n",
      "Speed: 3.5ms preprocess, 131.0ms inference, 1.6ms postprocess per image at shape (1, 3, 416, 416)\n",
      "\n",
      "\n"
     ]
    },
    {
     "name": "stdout",
     "output_type": "stream",
     "text": [
      "0.93685865\n"
     ]
    },
    {
     "name": "stderr",
     "output_type": "stream",
     "text": [
      "0: 416x416 (no detections), 150.8ms\n",
      "Speed: 7.5ms preprocess, 150.8ms inference, 2.0ms postprocess per image at shape (1, 3, 416, 416)\n",
      "0: 416x416 1 Speed Limit 30, 150.8ms\n",
      "Speed: 3.0ms preprocess, 150.8ms inference, 9.9ms postprocess per image at shape (1, 3, 416, 416)\n",
      "\n",
      "\n",
      "0: 416x416 (no detections), 138.7ms\n",
      "Speed: 4.0ms preprocess, 138.7ms inference, 1.0ms postprocess per image at shape (1, 3, 416, 416)\n",
      "0: 416x416 1 Speed Limit 30, 135.5ms\n"
     ]
    },
    {
     "name": "stdout",
     "output_type": "stream",
     "text": [
      "0.9369909\n"
     ]
    },
    {
     "name": "stderr",
     "output_type": "stream",
     "text": [
      "Speed: 2.5ms preprocess, 135.5ms inference, 2.0ms postprocess per image at shape (1, 3, 416, 416)\n",
      "\n",
      "\n",
      "0: 416x416 (no detections), 134.2ms\n",
      "Speed: 3.6ms preprocess, 134.2ms inference, 1.0ms postprocess per image at shape (1, 3, 416, 416)\n",
      "\n"
     ]
    },
    {
     "name": "stdout",
     "output_type": "stream",
     "text": [
      "0.9368304\n"
     ]
    },
    {
     "name": "stderr",
     "output_type": "stream",
     "text": [
      "0: 416x416 1 Speed Limit 30, 151.2ms\n",
      "Speed: 2.5ms preprocess, 151.2ms inference, 2.1ms postprocess per image at shape (1, 3, 416, 416)\n",
      "0: 416x416 (no detections), 128.9ms\n",
      "Speed: 3.7ms preprocess, 128.9ms inference, 0.0ms postprocess per image at shape (1, 3, 416, 416)\n",
      "\n",
      "\n"
     ]
    },
    {
     "name": "stdout",
     "output_type": "stream",
     "text": [
      "0.9367732\n"
     ]
    },
    {
     "name": "stderr",
     "output_type": "stream",
     "text": [
      "0: 416x416 (no detections), 133.7ms\n",
      "Speed: 3.0ms preprocess, 133.7ms inference, 2.5ms postprocess per image at shape (1, 3, 416, 416)\n",
      "\n",
      "0: 416x416 1 Speed Limit 30, 138.5ms\n",
      "Speed: 3.0ms preprocess, 138.5ms inference, 1.0ms postprocess per image at shape (1, 3, 416, 416)\n",
      "\n",
      "0: 416x416 (no detections), 130.7ms\n",
      "Speed: 4.2ms preprocess, 130.7ms inference, 1.0ms postprocess per image at shape (1, 3, 416, 416)\n",
      "\n"
     ]
    },
    {
     "name": "stdout",
     "output_type": "stream",
     "text": [
      "0.9367327\n"
     ]
    },
    {
     "name": "stderr",
     "output_type": "stream",
     "text": [
      "0: 416x416 1 Speed Limit 30, 135.4ms\n",
      "Speed: 3.1ms preprocess, 135.4ms inference, 3.5ms postprocess per image at shape (1, 3, 416, 416)\n",
      "0: 416x416 (no detections), 132.9ms\n",
      "Speed: 4.0ms preprocess, 132.9ms inference, 1.4ms postprocess per image at shape (1, 3, 416, 416)\n",
      "\n",
      "\n"
     ]
    },
    {
     "name": "stdout",
     "output_type": "stream",
     "text": [
      "0.9371562\n"
     ]
    },
    {
     "name": "stderr",
     "output_type": "stream",
     "text": [
      "0: 416x416 (no detections), 142.1ms\n",
      "Speed: 3.5ms preprocess, 142.1ms inference, 2.0ms postprocess per image at shape (1, 3, 416, 416)\n",
      "\n",
      "0: 416x416 1 Speed Limit 30, 144.1ms\n",
      "Speed: 2.5ms preprocess, 144.1ms inference, 2.0ms postprocess per image at shape (1, 3, 416, 416)\n",
      "0: 416x416 (no detections), 127.3ms\n",
      "Speed: 4.0ms preprocess, 127.3ms inference, 1.0ms postprocess per image at shape (1, 3, 416, 416)\n",
      "\n",
      "\n"
     ]
    },
    {
     "name": "stdout",
     "output_type": "stream",
     "text": [
      "0.9369595\n"
     ]
    },
    {
     "name": "stderr",
     "output_type": "stream",
     "text": [
      "0: 416x416 1 Speed Limit 30, 148.0ms\n",
      "Speed: 3.0ms preprocess, 148.0ms inference, 2.0ms postprocess per image at shape (1, 3, 416, 416)\n",
      "0: 416x416 (no detections), 149.5ms\n",
      "Speed: 4.0ms preprocess, 149.5ms inference, 1.0ms postprocess per image at shape (1, 3, 416, 416)\n",
      "\n",
      "\n",
      "0: 416x416 (no detections), 133.0ms\n",
      "Speed: 4.0ms preprocess, 133.0ms inference, 1.0ms postprocess per image at shape (1, 3, 416, 416)\n"
     ]
    },
    {
     "name": "stdout",
     "output_type": "stream",
     "text": [
      "0.9368297\n"
     ]
    },
    {
     "name": "stderr",
     "output_type": "stream",
     "text": [
      "\n",
      "0: 416x416 1 Speed Limit 30, 138.9ms\n",
      "Speed: 2.0ms preprocess, 138.9ms inference, 2.0ms postprocess per image at shape (1, 3, 416, 416)\n",
      "0: 416x416 (no detections), 126.6ms\n",
      "Speed: 3.3ms preprocess, 126.6ms inference, 2.0ms postprocess per image at shape (1, 3, 416, 416)\n",
      "\n",
      "\n"
     ]
    },
    {
     "name": "stdout",
     "output_type": "stream",
     "text": [
      "0.93715936\n"
     ]
    },
    {
     "name": "stderr",
     "output_type": "stream",
     "text": [
      "0: 416x416 (no detections), 134.6ms\n",
      "Speed: 2.5ms preprocess, 134.6ms inference, 2.0ms postprocess per image at shape (1, 3, 416, 416)\n",
      "0: 416x416 1 Speed Limit 30, 132.5ms\n",
      "Speed: 3.0ms preprocess, 132.5ms inference, 2.5ms postprocess per image at shape (1, 3, 416, 416)\n",
      "\n",
      "\n",
      "0: 416x416 (no detections), 136.4ms\n",
      "Speed: 3.5ms preprocess, 136.4ms inference, 2.0ms postprocess per image at shape (1, 3, 416, 416)\n",
      "\n"
     ]
    },
    {
     "name": "stdout",
     "output_type": "stream",
     "text": [
      "0.9374056\n"
     ]
    },
    {
     "name": "stderr",
     "output_type": "stream",
     "text": [
      "0: 416x416 1 Speed Limit 30, 139.3ms\n",
      "Speed: 2.0ms preprocess, 139.3ms inference, 2.0ms postprocess per image at shape (1, 3, 416, 416)\n",
      "0: 416x416 (no detections), 128.2ms\n",
      "Speed: 4.0ms preprocess, 128.2ms inference, 1.0ms postprocess per image at shape (1, 3, 416, 416)\n",
      "\n",
      "\n",
      "0: 416x416 1 Speed Limit 30, 136.8ms\n"
     ]
    },
    {
     "name": "stdout",
     "output_type": "stream",
     "text": [
      "0.9365594\n"
     ]
    },
    {
     "name": "stderr",
     "output_type": "stream",
     "text": [
      "Speed: 3.5ms preprocess, 136.8ms inference, 2.0ms postprocess per image at shape (1, 3, 416, 416)\n",
      "0: 416x416 (no detections), 130.9ms\n",
      "Speed: 3.1ms preprocess, 130.9ms inference, 1.0ms postprocess per image at shape (1, 3, 416, 416)\n",
      "\n",
      "\n",
      "0: 416x416 (no detections), 140.7ms\n"
     ]
    },
    {
     "name": "stdout",
     "output_type": "stream",
     "text": [
      "0.9372317\n"
     ]
    },
    {
     "name": "stderr",
     "output_type": "stream",
     "text": [
      "Speed: 4.6ms preprocess, 140.7ms inference, 2.0ms postprocess per image at shape (1, 3, 416, 416)\n",
      "\n",
      "0: 416x416 1 Speed Limit 30, 136.4ms\n",
      "Speed: 2.5ms preprocess, 136.4ms inference, 2.5ms postprocess per image at shape (1, 3, 416, 416)\n",
      "\n",
      "0: 416x416 (no detections), 137.1ms\n",
      "Speed: 4.9ms preprocess, 137.1ms inference, 1.0ms postprocess per image at shape (1, 3, 416, 416)\n",
      "\n"
     ]
    },
    {
     "name": "stdout",
     "output_type": "stream",
     "text": [
      "0.9375425\n"
     ]
    },
    {
     "name": "stderr",
     "output_type": "stream",
     "text": [
      "0: 416x416 1 Speed Limit 30, 141.5ms\n",
      "Speed: 3.0ms preprocess, 141.5ms inference, 2.5ms postprocess per image at shape (1, 3, 416, 416)\n",
      "0: 416x416 (no detections), 129.2ms\n",
      "Speed: 4.2ms preprocess, 129.2ms inference, 1.0ms postprocess per image at shape (1, 3, 416, 416)\n",
      "\n",
      "\n"
     ]
    },
    {
     "name": "stdout",
     "output_type": "stream",
     "text": [
      "0.93665624\n"
     ]
    },
    {
     "name": "stderr",
     "output_type": "stream",
     "text": [
      "0: 416x416 (no detections), 139.4ms\n",
      "Speed: 4.5ms preprocess, 139.4ms inference, 3.0ms postprocess per image at shape (1, 3, 416, 416)\n",
      "\n",
      "0: 416x416 1 Speed Limit 30, 140.5ms\n",
      "Speed: 3.0ms preprocess, 140.5ms inference, 2.0ms postprocess per image at shape (1, 3, 416, 416)\n",
      "0: 416x416 (no detections), 126.1ms\n",
      "Speed: 3.2ms preprocess, 126.1ms inference, 1.0ms postprocess per image at shape (1, 3, 416, 416)\n",
      "\n",
      "\n"
     ]
    },
    {
     "name": "stdout",
     "output_type": "stream",
     "text": [
      "0.93672496\n"
     ]
    },
    {
     "name": "stderr",
     "output_type": "stream",
     "text": [
      "0: 416x416 1 Speed Limit 30, 141.3ms\n",
      "Speed: 2.0ms preprocess, 141.3ms inference, 2.0ms postprocess per image at shape (1, 3, 416, 416)\n",
      "0: 416x416 (no detections), 138.1ms\n",
      "Speed: 3.5ms preprocess, 138.1ms inference, 1.5ms postprocess per image at shape (1, 3, 416, 416)\n",
      "\n",
      "\n",
      "0: 416x416 (no detections), 139.5ms\n",
      "Speed: 3.0ms preprocess, 139.5ms inference, 2.0ms postprocess per image at shape (1, 3, 416, 416)\n"
     ]
    },
    {
     "name": "stdout",
     "output_type": "stream",
     "text": [
      "0.93657976\n"
     ]
    },
    {
     "name": "stderr",
     "output_type": "stream",
     "text": [
      "\n",
      "0: 416x416 1 Speed Limit 30, 146.2ms\n",
      "Speed: 2.3ms preprocess, 146.2ms inference, 2.0ms postprocess per image at shape (1, 3, 416, 416)\n",
      "0: 416x416 (no detections), 147.4ms\n",
      "Speed: 3.0ms preprocess, 147.4ms inference, 1.0ms postprocess per image at shape (1, 3, 416, 416)\n",
      "\n",
      "\n"
     ]
    },
    {
     "name": "stdout",
     "output_type": "stream",
     "text": [
      "0.9370348\n"
     ]
    },
    {
     "name": "stderr",
     "output_type": "stream",
     "text": [
      "0: 416x416 1 Speed Limit 30, 132.1ms\n",
      "Speed: 1.7ms preprocess, 132.1ms inference, 2.2ms postprocess per image at shape (1, 3, 416, 416)\n",
      "0: 416x416 (no detections), 129.6ms\n",
      "Speed: 4.0ms preprocess, 129.6ms inference, 1.0ms postprocess per image at shape (1, 3, 416, 416)\n",
      "\n",
      "\n",
      "0: 416x416 (no detections), 128.4ms\n",
      "Speed: 4.5ms preprocess, 128.4ms inference, 2.0ms postprocess per image at shape (1, 3, 416, 416)\n",
      "\n"
     ]
    },
    {
     "name": "stdout",
     "output_type": "stream",
     "text": [
      "0.9367712\n"
     ]
    },
    {
     "name": "stderr",
     "output_type": "stream",
     "text": [
      "0: 416x416 1 Speed Limit 30, 137.0ms\n",
      "Speed: 3.0ms preprocess, 137.0ms inference, 2.0ms postprocess per image at shape (1, 3, 416, 416)\n",
      "0: 416x416 (no detections), 130.7ms\n",
      "Speed: 4.0ms preprocess, 130.7ms inference, 0.0ms postprocess per image at shape (1, 3, 416, 416)\n",
      "\n",
      "\n"
     ]
    },
    {
     "name": "stdout",
     "output_type": "stream",
     "text": [
      "0.9370009\n"
     ]
    },
    {
     "name": "stderr",
     "output_type": "stream",
     "text": [
      "0: 416x416 (no detections), 138.6ms\n",
      "Speed: 3.0ms preprocess, 138.6ms inference, 2.0ms postprocess per image at shape (1, 3, 416, 416)\n",
      "\n",
      "0: 416x416 1 Speed Limit 30, 142.9ms\n",
      "Speed: 3.3ms preprocess, 142.9ms inference, 3.0ms postprocess per image at shape (1, 3, 416, 416)\n",
      "0: 416x416 (no detections), 142.3ms\n",
      "Speed: 3.0ms preprocess, 142.3ms inference, 1.0ms postprocess per image at shape (1, 3, 416, 416)\n",
      "\n",
      "\n"
     ]
    },
    {
     "name": "stdout",
     "output_type": "stream",
     "text": [
      "0.9371969\n"
     ]
    },
    {
     "name": "stderr",
     "output_type": "stream",
     "text": [
      "0: 416x416 (no detections), 129.7ms\n",
      "Speed: 5.4ms preprocess, 129.7ms inference, 1.6ms postprocess per image at shape (1, 3, 416, 416)\n",
      "0: 416x416 1 Speed Limit 30, 139.6ms\n",
      "Speed: 5.5ms preprocess, 139.6ms inference, 4.1ms postprocess per image at shape (1, 3, 416, 416)\n",
      "\n",
      "\n",
      "0: 416x416 (no detections), 133.8ms\n",
      "Speed: 3.5ms preprocess, 133.8ms inference, 1.0ms postprocess per image at shape (1, 3, 416, 416)\n",
      "\n"
     ]
    },
    {
     "name": "stdout",
     "output_type": "stream",
     "text": [
      "0.93760014\n"
     ]
    },
    {
     "name": "stderr",
     "output_type": "stream",
     "text": [
      "0: 416x416 1 Speed Limit 30, 142.2ms\n",
      "Speed: 3.0ms preprocess, 142.2ms inference, 2.0ms postprocess per image at shape (1, 3, 416, 416)\n",
      "0: 416x416 (no detections), 131.7ms\n",
      "Speed: 3.9ms preprocess, 131.7ms inference, 1.0ms postprocess per image at shape (1, 3, 416, 416)\n",
      "\n",
      "\n"
     ]
    },
    {
     "name": "stdout",
     "output_type": "stream",
     "text": [
      "0.9366576\n"
     ]
    },
    {
     "name": "stderr",
     "output_type": "stream",
     "text": [
      "0: 416x416 (no detections), 138.0ms\n",
      "Speed: 3.0ms preprocess, 138.0ms inference, 2.0ms postprocess per image at shape (1, 3, 416, 416)\n",
      "\n",
      "0: 416x416 1 Speed Limit 30, 138.3ms\n",
      "Speed: 3.0ms preprocess, 138.3ms inference, 2.0ms postprocess per image at shape (1, 3, 416, 416)\n",
      "0: 416x416 (no detections), 124.7ms\n",
      "Speed: 3.0ms preprocess, 124.7ms inference, 2.0ms postprocess per image at shape (1, 3, 416, 416)\n",
      "\n",
      "\n"
     ]
    },
    {
     "name": "stdout",
     "output_type": "stream",
     "text": [
      "0.9366465\n"
     ]
    },
    {
     "name": "stderr",
     "output_type": "stream",
     "text": [
      "0: 416x416 (no detections), 142.9ms\n",
      "Speed: 4.0ms preprocess, 142.9ms inference, 1.6ms postprocess per image at shape (1, 3, 416, 416)\n",
      "0: 416x416 1 Speed Limit 30, 139.9ms\n",
      "Speed: 4.0ms preprocess, 139.9ms inference, 2.0ms postprocess per image at shape (1, 3, 416, 416)\n",
      "\n",
      "\n",
      "0: 416x416 (no detections), 131.1ms\n",
      "Speed: 3.0ms preprocess, 131.1ms inference, 1.0ms postprocess per image at shape (1, 3, 416, 416)\n",
      "\n"
     ]
    },
    {
     "name": "stdout",
     "output_type": "stream",
     "text": [
      "0.9366645\n"
     ]
    },
    {
     "name": "stderr",
     "output_type": "stream",
     "text": [
      "0: 416x416 1 Speed Limit 30, 138.6ms\n",
      "Speed: 2.0ms preprocess, 138.6ms inference, 2.0ms postprocess per image at shape (1, 3, 416, 416)\n",
      "0: 416x416 (no detections), 132.2ms\n",
      "Speed: 3.3ms preprocess, 132.2ms inference, 1.0ms postprocess per image at shape (1, 3, 416, 416)\n",
      "\n",
      "\n"
     ]
    },
    {
     "name": "stdout",
     "output_type": "stream",
     "text": [
      "0.9370611\n"
     ]
    },
    {
     "name": "stderr",
     "output_type": "stream",
     "text": [
      "0: 416x416 (no detections), 129.1ms\n",
      "Speed: 3.0ms preprocess, 129.1ms inference, 1.0ms postprocess per image at shape (1, 3, 416, 416)\n",
      "\n",
      "0: 416x416 1 Speed Limit 30, 131.0ms\n",
      "Speed: 2.0ms preprocess, 131.0ms inference, 2.0ms postprocess per image at shape (1, 3, 416, 416)\n",
      "0: 416x416 (no detections), 119.9ms\n",
      "Speed: 3.0ms preprocess, 119.9ms inference, 2.0ms postprocess per image at shape (1, 3, 416, 416)\n",
      "\n",
      "\n"
     ]
    },
    {
     "name": "stdout",
     "output_type": "stream",
     "text": [
      "0.93686014\n"
     ]
    },
    {
     "name": "stderr",
     "output_type": "stream",
     "text": [
      "0: 416x416 (no detections), 129.3ms\n",
      "Speed: 3.6ms preprocess, 129.3ms inference, 1.5ms postprocess per image at shape (1, 3, 416, 416)\n",
      "\n",
      "0: 416x416 1 Speed Limit 30, 132.4ms\n",
      "Speed: 2.0ms preprocess, 132.4ms inference, 2.5ms postprocess per image at shape (1, 3, 416, 416)\n",
      "\n",
      "0: 416x416 (no detections), 130.6ms\n",
      "Speed: 3.5ms preprocess, 130.6ms inference, 1.0ms postprocess per image at shape (1, 3, 416, 416)\n",
      "\n"
     ]
    },
    {
     "name": "stdout",
     "output_type": "stream",
     "text": [
      "0.93672895\n"
     ]
    },
    {
     "name": "stderr",
     "output_type": "stream",
     "text": [
      "0: 416x416 1 Speed Limit 30, 133.5ms\n",
      "Speed: 2.0ms preprocess, 133.5ms inference, 2.0ms postprocess per image at shape (1, 3, 416, 416)\n",
      "0: 416x416 (no detections), 118.1ms\n",
      "Speed: 3.5ms preprocess, 118.1ms inference, 1.1ms postprocess per image at shape (1, 3, 416, 416)\n",
      "\n",
      "\n",
      "0: 416x416 (no detections), 126.0ms\n",
      "Speed: 3.0ms preprocess, 126.0ms inference, 2.2ms postprocess per image at shape (1, 3, 416, 416)\n"
     ]
    },
    {
     "name": "stdout",
     "output_type": "stream",
     "text": [
      "0.93701196\n"
     ]
    },
    {
     "name": "stderr",
     "output_type": "stream",
     "text": [
      "\n",
      "0: 416x416 1 Speed Limit 30, 128.1ms\n",
      "Speed: 3.0ms preprocess, 128.1ms inference, 2.0ms postprocess per image at shape (1, 3, 416, 416)\n",
      "0: 416x416 (no detections), 127.5ms\n",
      "Speed: 3.5ms preprocess, 127.5ms inference, 1.0ms postprocess per image at shape (1, 3, 416, 416)\n",
      "\n",
      "\n"
     ]
    },
    {
     "name": "stdout",
     "output_type": "stream",
     "text": [
      "0.9374678\n"
     ]
    },
    {
     "name": "stderr",
     "output_type": "stream",
     "text": [
      "0: 416x416 (no detections), 121.1ms\n",
      "Speed: 3.0ms preprocess, 121.1ms inference, 1.0ms postprocess per image at shape (1, 3, 416, 416)\n",
      "\n",
      "0: 416x416 1 Speed Limit 30, 120.9ms\n",
      "Speed: 3.0ms preprocess, 120.9ms inference, 2.0ms postprocess per image at shape (1, 3, 416, 416)\n",
      "0: 416x416 (no detections), 115.7ms\n",
      "Speed: 4.0ms preprocess, 115.7ms inference, 2.0ms postprocess per image at shape (1, 3, 416, 416)\n",
      "\n",
      "\n"
     ]
    },
    {
     "name": "stdout",
     "output_type": "stream",
     "text": [
      "0.9364394\n"
     ]
    },
    {
     "name": "stderr",
     "output_type": "stream",
     "text": [
      "0: 416x416 1 Speed Limit 30, 132.5ms\n",
      "Speed: 2.5ms preprocess, 132.5ms inference, 2.0ms postprocess per image at shape (1, 3, 416, 416)\n",
      "0: 416x416 (no detections), 132.4ms\n",
      "Speed: 4.0ms preprocess, 132.4ms inference, 1.0ms postprocess per image at shape (1, 3, 416, 416)\n",
      "\n",
      "\n",
      "0: 416x416 (no detections), 126.3ms\n",
      "Speed: 2.0ms preprocess, 126.3ms inference, 1.0ms postprocess per image at shape (1, 3, 416, 416)\n",
      "\n"
     ]
    },
    {
     "name": "stdout",
     "output_type": "stream",
     "text": [
      "0.93669903\n"
     ]
    },
    {
     "name": "stderr",
     "output_type": "stream",
     "text": [
      "0: 416x416 1 Speed Limit 30, 140.0ms\n",
      "Speed: 2.0ms preprocess, 140.0ms inference, 2.0ms postprocess per image at shape (1, 3, 416, 416)\n",
      "0: 416x416 (no detections), 121.1ms\n",
      "Speed: 4.0ms preprocess, 121.1ms inference, 1.6ms postprocess per image at shape (1, 3, 416, 416)\n",
      "\n",
      "\n",
      "0: 416x416 (no detections), 122.4ms\n"
     ]
    },
    {
     "name": "stdout",
     "output_type": "stream",
     "text": [
      "0.9367306\n"
     ]
    },
    {
     "name": "stderr",
     "output_type": "stream",
     "text": [
      "Speed: 3.0ms preprocess, 122.4ms inference, 1.0ms postprocess per image at shape (1, 3, 416, 416)\n",
      "\n",
      "0: 416x416 1 Speed Limit 30, 125.1ms\n",
      "Speed: 3.2ms preprocess, 125.1ms inference, 2.1ms postprocess per image at shape (1, 3, 416, 416)\n",
      "0: 416x416 (no detections), 121.7ms\n",
      "Speed: 3.0ms preprocess, 121.7ms inference, 1.0ms postprocess per image at shape (1, 3, 416, 416)\n",
      "\n",
      "\n"
     ]
    },
    {
     "name": "stdout",
     "output_type": "stream",
     "text": [
      "0.93719316\n"
     ]
    },
    {
     "name": "stderr",
     "output_type": "stream",
     "text": [
      "0: 416x416 (no detections), 146.2ms\n",
      "Speed: 3.8ms preprocess, 146.2ms inference, 1.0ms postprocess per image at shape (1, 3, 416, 416)\n",
      "0: 416x416 1 Speed Limit 30, 140.8ms\n",
      "Speed: 4.1ms preprocess, 140.8ms inference, 2.6ms postprocess per image at shape (1, 3, 416, 416)\n",
      "\n",
      "\n",
      "0: 416x416 (no detections), 128.6ms\n",
      "Speed: 4.3ms preprocess, 128.6ms inference, 1.0ms postprocess per image at shape (1, 3, 416, 416)\n",
      "\n",
      "0: 416x416 1 Speed Limit 30, 130.0ms\n"
     ]
    },
    {
     "name": "stdout",
     "output_type": "stream",
     "text": [
      "0.93676794\n"
     ]
    },
    {
     "name": "stderr",
     "output_type": "stream",
     "text": [
      "Speed: 3.0ms preprocess, 130.0ms inference, 1.0ms postprocess per image at shape (1, 3, 416, 416)\n",
      "\n",
      "0: 416x416 (no detections), 121.2ms\n",
      "Speed: 3.0ms preprocess, 121.2ms inference, 1.0ms postprocess per image at shape (1, 3, 416, 416)\n",
      "\n"
     ]
    },
    {
     "name": "stdout",
     "output_type": "stream",
     "text": [
      "0.93655795\n"
     ]
    },
    {
     "name": "stderr",
     "output_type": "stream",
     "text": [
      "0: 416x416 1 Speed Limit 30, 131.6ms\n",
      "Speed: 2.0ms preprocess, 131.6ms inference, 2.9ms postprocess per image at shape (1, 3, 416, 416)\n",
      "0: 416x416 (no detections), 123.0ms\n",
      "Speed: 3.0ms preprocess, 123.0ms inference, 1.5ms postprocess per image at shape (1, 3, 416, 416)\n",
      "\n",
      "\n",
      "0: 416x416 (no detections), 131.7ms\n"
     ]
    },
    {
     "name": "stdout",
     "output_type": "stream",
     "text": [
      "0.93683606\n"
     ]
    },
    {
     "name": "stderr",
     "output_type": "stream",
     "text": [
      "Speed: 2.0ms preprocess, 131.7ms inference, 1.0ms postprocess per image at shape (1, 3, 416, 416)\n",
      "\n",
      "0: 416x416 1 Speed Limit 30, 138.7ms\n",
      "Speed: 3.0ms preprocess, 138.7ms inference, 2.5ms postprocess per image at shape (1, 3, 416, 416)\n",
      "0: 416x416 (no detections), 121.9ms\n",
      "Speed: 4.1ms preprocess, 121.9ms inference, 1.5ms postprocess per image at shape (1, 3, 416, 416)\n",
      "\n",
      "\n"
     ]
    },
    {
     "name": "stdout",
     "output_type": "stream",
     "text": [
      "0.9367642\n"
     ]
    },
    {
     "name": "stderr",
     "output_type": "stream",
     "text": [
      "0: 416x416 (no detections), 131.3ms\n",
      "Speed: 2.9ms preprocess, 131.3ms inference, 2.1ms postprocess per image at shape (1, 3, 416, 416)\n",
      "0: 416x416 1 Speed Limit 30, 126.9ms\n",
      "Speed: 3.5ms preprocess, 126.9ms inference, 2.5ms postprocess per image at shape (1, 3, 416, 416)\n",
      "\n",
      "\n",
      "0: 416x416 (no detections), 138.8ms\n",
      "Speed: 4.0ms preprocess, 138.8ms inference, 1.0ms postprocess per image at shape (1, 3, 416, 416)\n",
      "\n"
     ]
    },
    {
     "name": "stdout",
     "output_type": "stream",
     "text": [
      "0.936989\n"
     ]
    },
    {
     "name": "stderr",
     "output_type": "stream",
     "text": [
      "0: 416x416 1 Speed Limit 30, 131.4ms\n",
      "Speed: 2.5ms preprocess, 131.4ms inference, 2.0ms postprocess per image at shape (1, 3, 416, 416)\n",
      "0: 416x416 (no detections), 117.2ms\n",
      "Speed: 2.5ms preprocess, 117.2ms inference, 1.0ms postprocess per image at shape (1, 3, 416, 416)\n",
      "\n",
      "\n",
      "0: 416x416 (no detections), 124.8ms\n"
     ]
    },
    {
     "name": "stdout",
     "output_type": "stream",
     "text": [
      "0.9370265\n"
     ]
    },
    {
     "name": "stderr",
     "output_type": "stream",
     "text": [
      "Speed: 3.5ms preprocess, 124.8ms inference, 2.0ms postprocess per image at shape (1, 3, 416, 416)\n",
      "\n",
      "0: 416x416 1 Speed Limit 30, 129.0ms\n",
      "Speed: 3.0ms preprocess, 129.0ms inference, 1.7ms postprocess per image at shape (1, 3, 416, 416)\n",
      "0: 416x416 (no detections), 119.8ms\n",
      "Speed: 4.6ms preprocess, 119.8ms inference, 1.6ms postprocess per image at shape (1, 3, 416, 416)\n",
      "\n",
      "\n"
     ]
    },
    {
     "name": "stdout",
     "output_type": "stream",
     "text": [
      "0.93771\n"
     ]
    },
    {
     "name": "stderr",
     "output_type": "stream",
     "text": [
      "0: 416x416 (no detections), 134.7ms\n",
      "Speed: 4.0ms preprocess, 134.7ms inference, 1.0ms postprocess per image at shape (1, 3, 416, 416)\n",
      "\n",
      "0: 416x416 1 Speed Limit 30, 130.1ms\n",
      "Speed: 3.5ms preprocess, 130.1ms inference, 2.0ms postprocess per image at shape (1, 3, 416, 416)\n",
      "0: 416x416 (no detections), 113.1ms\n",
      "Speed: 3.3ms preprocess, 113.1ms inference, 2.0ms postprocess per image at shape (1, 3, 416, 416)\n",
      "\n",
      "\n"
     ]
    },
    {
     "name": "stdout",
     "output_type": "stream",
     "text": [
      "0.9366855\n"
     ]
    },
    {
     "name": "stderr",
     "output_type": "stream",
     "text": [
      "0: 416x416 (no detections), 131.7ms\n",
      "Speed: 6.0ms preprocess, 131.7ms inference, 1.5ms postprocess per image at shape (1, 3, 416, 416)\n",
      "0: 416x416 1 Speed Limit 30, 131.7ms\n",
      "Speed: 3.0ms preprocess, 131.7ms inference, 7.5ms postprocess per image at shape (1, 3, 416, 416)\n",
      "\n",
      "\n",
      "0: 416x416 (no detections), 117.4ms\n",
      "Speed: 3.0ms preprocess, 117.4ms inference, 2.0ms postprocess per image at shape (1, 3, 416, 416)\n",
      "\n"
     ]
    },
    {
     "name": "stdout",
     "output_type": "stream",
     "text": [
      "0.9367257\n"
     ]
    },
    {
     "name": "stderr",
     "output_type": "stream",
     "text": [
      "0: 416x416 1 Speed Limit 30, 125.0ms\n",
      "Speed: 3.0ms preprocess, 125.0ms inference, 2.0ms postprocess per image at shape (1, 3, 416, 416)\n",
      "0: 416x416 (no detections), 117.8ms\n",
      "Speed: 3.0ms preprocess, 117.8ms inference, 0.0ms postprocess per image at shape (1, 3, 416, 416)\n",
      "\n",
      "\n",
      "0: 416x416 (no detections), 122.5ms\n",
      "Speed: 2.0ms preprocess, 122.5ms inference, 2.0ms postprocess per image at shape (1, 3, 416, 416)\n"
     ]
    },
    {
     "name": "stdout",
     "output_type": "stream",
     "text": [
      "0.9367236\n"
     ]
    },
    {
     "name": "stderr",
     "output_type": "stream",
     "text": [
      "\n",
      "0: 416x416 1 Speed Limit 30, 126.7ms\n",
      "Speed: 2.6ms preprocess, 126.7ms inference, 1.0ms postprocess per image at shape (1, 3, 416, 416)\n",
      "0: 416x416 (no detections), 119.2ms\n",
      "Speed: 3.0ms preprocess, 119.2ms inference, 1.0ms postprocess per image at shape (1, 3, 416, 416)\n",
      "\n",
      "\n"
     ]
    },
    {
     "name": "stdout",
     "output_type": "stream",
     "text": [
      "0.9371717\n"
     ]
    },
    {
     "name": "stderr",
     "output_type": "stream",
     "text": [
      "0: 416x416 (no detections), 118.7ms\n",
      "Speed: 4.0ms preprocess, 118.7ms inference, 1.0ms postprocess per image at shape (1, 3, 416, 416)\n",
      "\n",
      "0: 416x416 1 Speed Limit 30, 119.7ms\n",
      "Speed: 3.2ms preprocess, 119.7ms inference, 2.0ms postprocess per image at shape (1, 3, 416, 416)\n",
      "0: 416x416 (no detections), 118.2ms\n",
      "Speed: 4.0ms preprocess, 118.2ms inference, 1.0ms postprocess per image at shape (1, 3, 416, 416)\n",
      "\n",
      "\n"
     ]
    },
    {
     "name": "stdout",
     "output_type": "stream",
     "text": [
      "0.93678105\n"
     ]
    },
    {
     "name": "stderr",
     "output_type": "stream",
     "text": [
      "0: 416x416 (no detections), 123.8ms\n",
      "Speed: 3.0ms preprocess, 123.8ms inference, 1.1ms postprocess per image at shape (1, 3, 416, 416)\n",
      "\n",
      "0: 416x416 1 Speed Limit 30, 129.0ms\n",
      "Speed: 3.3ms preprocess, 129.0ms inference, 3.5ms postprocess per image at shape (1, 3, 416, 416)\n",
      "0: 416x416 (no detections), 115.4ms\n",
      "Speed: 3.2ms preprocess, 115.4ms inference, 1.0ms postprocess per image at shape (1, 3, 416, 416)\n",
      "\n",
      "\n"
     ]
    },
    {
     "name": "stdout",
     "output_type": "stream",
     "text": [
      "0.9368537\n"
     ]
    },
    {
     "name": "stderr",
     "output_type": "stream",
     "text": [
      "0: 416x416 (no detections), 121.2ms\n",
      "Speed: 4.1ms preprocess, 121.2ms inference, 2.0ms postprocess per image at shape (1, 3, 416, 416)\n",
      "0: 416x416 1 Speed Limit 30, 122.2ms\n",
      "Speed: 6.1ms preprocess, 122.2ms inference, 8.5ms postprocess per image at shape (1, 3, 416, 416)\n",
      "\n",
      "\n",
      "0: 416x416 (no detections), 114.9ms\n",
      "Speed: 3.4ms preprocess, 114.9ms inference, 2.0ms postprocess per image at shape (1, 3, 416, 416)\n",
      "\n"
     ]
    },
    {
     "name": "stdout",
     "output_type": "stream",
     "text": [
      "0.9370903\n"
     ]
    },
    {
     "name": "stderr",
     "output_type": "stream",
     "text": [
      "0: 416x416 1 Speed Limit 30, 126.6ms\n",
      "Speed: 3.0ms preprocess, 126.6ms inference, 2.0ms postprocess per image at shape (1, 3, 416, 416)\n",
      "0: 416x416 (no detections), 116.2ms\n",
      "Speed: 3.0ms preprocess, 116.2ms inference, 1.0ms postprocess per image at shape (1, 3, 416, 416)\n",
      "\n",
      "\n",
      "0: 416x416 (no detections), 117.8ms\n",
      "Speed: 3.0ms preprocess, 117.8ms inference, 1.5ms postprocess per image at shape (1, 3, 416, 416)\n",
      "\n"
     ]
    },
    {
     "name": "stdout",
     "output_type": "stream",
     "text": [
      "0.937531\n"
     ]
    },
    {
     "name": "stderr",
     "output_type": "stream",
     "text": [
      "0: 416x416 1 Speed Limit 30, 124.4ms\n",
      "Speed: 2.0ms preprocess, 124.4ms inference, 2.4ms postprocess per image at shape (1, 3, 416, 416)\n",
      "0: 416x416 (no detections), 115.5ms\n",
      "Speed: 2.4ms preprocess, 115.5ms inference, 0.0ms postprocess per image at shape (1, 3, 416, 416)\n",
      "\n",
      "\n",
      "0: 416x416 (no detections), 118.3ms\n"
     ]
    },
    {
     "name": "stdout",
     "output_type": "stream",
     "text": [
      "0.9366205\n"
     ]
    },
    {
     "name": "stderr",
     "output_type": "stream",
     "text": [
      "Speed: 4.0ms preprocess, 118.3ms inference, 1.0ms postprocess per image at shape (1, 3, 416, 416)\n",
      "\n",
      "0: 416x416 1 Speed Limit 30, 128.0ms\n",
      "Speed: 3.1ms preprocess, 128.0ms inference, 1.5ms postprocess per image at shape (1, 3, 416, 416)\n",
      "0: 416x416 (no detections), 119.4ms\n",
      "Speed: 2.4ms preprocess, 119.4ms inference, 1.0ms postprocess per image at shape (1, 3, 416, 416)\n",
      "\n",
      "\n"
     ]
    },
    {
     "name": "stdout",
     "output_type": "stream",
     "text": [
      "0.93667674\n"
     ]
    },
    {
     "name": "stderr",
     "output_type": "stream",
     "text": [
      "0: 416x416 (no detections), 117.0ms\n",
      "Speed: 3.0ms preprocess, 117.0ms inference, 1.0ms postprocess per image at shape (1, 3, 416, 416)\n",
      "0: 416x416 1 Speed Limit 30, 114.1ms\n",
      "Speed: 3.0ms preprocess, 114.1ms inference, 1.0ms postprocess per image at shape (1, 3, 416, 416)\n",
      "\n",
      "\n",
      "0: 416x416 (no detections), 124.0ms\n",
      "Speed: 4.0ms preprocess, 124.0ms inference, 1.0ms postprocess per image at shape (1, 3, 416, 416)\n",
      "\n"
     ]
    },
    {
     "name": "stdout",
     "output_type": "stream",
     "text": [
      "0.93677306\n"
     ]
    },
    {
     "name": "stderr",
     "output_type": "stream",
     "text": [
      "0: 416x416 1 Speed Limit 30, 124.0ms\n",
      "Speed: 2.5ms preprocess, 124.0ms inference, 2.0ms postprocess per image at shape (1, 3, 416, 416)\n",
      "0: 416x416 (no detections), 115.8ms\n",
      "Speed: 3.9ms preprocess, 115.8ms inference, 1.0ms postprocess per image at shape (1, 3, 416, 416)\n",
      "\n",
      "\n",
      "0: 416x416 (no detections), 119.4ms\n",
      "Speed: 4.0ms preprocess, 119.4ms inference, 1.0ms postprocess per image at shape (1, 3, 416, 416)\n",
      "\n"
     ]
    },
    {
     "name": "stdout",
     "output_type": "stream",
     "text": [
      "0.9372222\n"
     ]
    },
    {
     "name": "stderr",
     "output_type": "stream",
     "text": [
      "0: 416x416 1 Speed Limit 30, 131.2ms\n",
      "Speed: 1.0ms preprocess, 131.2ms inference, 1.0ms postprocess per image at shape (1, 3, 416, 416)\n",
      "0: 416x416 (no detections), 115.9ms\n",
      "Speed: 4.5ms preprocess, 115.9ms inference, 1.0ms postprocess per image at shape (1, 3, 416, 416)\n",
      "\n",
      "\n"
     ]
    },
    {
     "name": "stdout",
     "output_type": "stream",
     "text": [
      "0.9368693\n"
     ]
    },
    {
     "name": "stderr",
     "output_type": "stream",
     "text": [
      "0: 416x416 (no detections), 130.7ms\n",
      "Speed: 3.5ms preprocess, 130.7ms inference, 1.0ms postprocess per image at shape (1, 3, 416, 416)\n",
      "\n",
      "0: 416x416 1 Speed Limit 30, 123.3ms\n",
      "Speed: 2.0ms preprocess, 123.3ms inference, 1.6ms postprocess per image at shape (1, 3, 416, 416)\n",
      "0: 416x416 (no detections), 115.7ms\n",
      "Speed: 4.0ms preprocess, 115.7ms inference, 1.0ms postprocess per image at shape (1, 3, 416, 416)\n",
      "\n",
      "\n"
     ]
    },
    {
     "name": "stdout",
     "output_type": "stream",
     "text": [
      "0.93682694\n"
     ]
    },
    {
     "name": "stderr",
     "output_type": "stream",
     "text": [
      "0: 416x416 1 Speed Limit 30, 121.0ms\n",
      "Speed: 2.5ms preprocess, 121.0ms inference, 2.0ms postprocess per image at shape (1, 3, 416, 416)\n",
      "0: 416x416 (no detections), 119.0ms\n",
      "Speed: 3.5ms preprocess, 119.0ms inference, 1.0ms postprocess per image at shape (1, 3, 416, 416)\n",
      "\n",
      "\n",
      "0: 416x416 (no detections), 120.5ms\n",
      "Speed: 3.5ms preprocess, 120.5ms inference, 1.6ms postprocess per image at shape (1, 3, 416, 416)\n",
      "\n"
     ]
    },
    {
     "name": "stdout",
     "output_type": "stream",
     "text": [
      "0.93702286\n"
     ]
    },
    {
     "name": "stderr",
     "output_type": "stream",
     "text": [
      "0: 416x416 1 Speed Limit 30, 131.9ms\n",
      "Speed: 3.0ms preprocess, 131.9ms inference, 2.0ms postprocess per image at shape (1, 3, 416, 416)\n",
      "0: 416x416 (no detections), 118.5ms\n",
      "Speed: 4.0ms preprocess, 118.5ms inference, 1.0ms postprocess per image at shape (1, 3, 416, 416)\n",
      "\n",
      "\n",
      "0: 416x416 (no detections), 120.5ms\n"
     ]
    },
    {
     "name": "stdout",
     "output_type": "stream",
     "text": [
      "0.9375472\n"
     ]
    },
    {
     "name": "stderr",
     "output_type": "stream",
     "text": [
      "Speed: 3.0ms preprocess, 120.5ms inference, 1.5ms postprocess per image at shape (1, 3, 416, 416)\n",
      "\n",
      "0: 416x416 1 Speed Limit 30, 118.8ms\n",
      "Speed: 3.3ms preprocess, 118.8ms inference, 1.9ms postprocess per image at shape (1, 3, 416, 416)\n",
      "0: 416x416 (no detections), 109.9ms\n",
      "Speed: 3.0ms preprocess, 109.9ms inference, 1.0ms postprocess per image at shape (1, 3, 416, 416)\n",
      "\n",
      "\n"
     ]
    },
    {
     "name": "stdout",
     "output_type": "stream",
     "text": [
      "0.9368808\n"
     ]
    },
    {
     "name": "stderr",
     "output_type": "stream",
     "text": [
      "0: 416x416 (no detections), 124.3ms\n",
      "Speed: 2.0ms preprocess, 124.3ms inference, 1.0ms postprocess per image at shape (1, 3, 416, 416)\n",
      "\n",
      "0: 416x416 1 Speed Limit 30, 120.2ms\n",
      "Speed: 2.5ms preprocess, 120.2ms inference, 2.0ms postprocess per image at shape (1, 3, 416, 416)\n",
      "0: 416x416 (no detections), 117.3ms\n",
      "Speed: 3.4ms preprocess, 117.3ms inference, 1.0ms postprocess per image at shape (1, 3, 416, 416)\n",
      "\n",
      "\n"
     ]
    },
    {
     "name": "stdout",
     "output_type": "stream",
     "text": [
      "0.93682045\n"
     ]
    },
    {
     "name": "stderr",
     "output_type": "stream",
     "text": [
      "0: 416x416 1 Speed Limit 30, 123.0ms\n",
      "Speed: 2.5ms preprocess, 123.0ms inference, 1.0ms postprocess per image at shape (1, 3, 416, 416)\n",
      "0: 416x416 (no detections), 122.9ms\n",
      "Speed: 3.5ms preprocess, 122.9ms inference, 1.0ms postprocess per image at shape (1, 3, 416, 416)\n",
      "\n",
      "\n",
      "0: 416x416 (no detections), 134.1ms\n",
      "Speed: 8.5ms preprocess, 134.1ms inference, 1.0ms postprocess per image at shape (1, 3, 416, 416)\n",
      "\n"
     ]
    },
    {
     "name": "stdout",
     "output_type": "stream",
     "text": [
      "0.9368998\n"
     ]
    },
    {
     "name": "stderr",
     "output_type": "stream",
     "text": [
      "0: 416x416 1 Speed Limit 30, 125.7ms\n",
      "Speed: 3.0ms preprocess, 125.7ms inference, 1.0ms postprocess per image at shape (1, 3, 416, 416)\n",
      "0: 416x416 (no detections), 114.2ms\n",
      "Speed: 4.6ms preprocess, 114.2ms inference, 1.0ms postprocess per image at shape (1, 3, 416, 416)\n",
      "\n",
      "\n"
     ]
    },
    {
     "name": "stdout",
     "output_type": "stream",
     "text": [
      "0.9374898\n"
     ]
    },
    {
     "name": "stderr",
     "output_type": "stream",
     "text": [
      "0: 416x416 (no detections), 129.5ms\n",
      "Speed: 4.0ms preprocess, 129.5ms inference, 1.0ms postprocess per image at shape (1, 3, 416, 416)\n",
      "\n",
      "0: 416x416 1 Speed Limit 30, 127.1ms\n",
      "Speed: 2.0ms preprocess, 127.1ms inference, 2.0ms postprocess per image at shape (1, 3, 416, 416)\n",
      "0: 416x416 (no detections), 121.2ms\n",
      "Speed: 3.0ms preprocess, 121.2ms inference, 2.2ms postprocess per image at shape (1, 3, 416, 416)\n",
      "\n",
      "\n"
     ]
    },
    {
     "name": "stdout",
     "output_type": "stream",
     "text": [
      "0.9368783\n"
     ]
    },
    {
     "name": "stderr",
     "output_type": "stream",
     "text": [
      "0: 416x416 1 Speed Limit 30, 133.1ms\n",
      "Speed: 2.0ms preprocess, 133.1ms inference, 2.0ms postprocess per image at shape (1, 3, 416, 416)\n",
      "0: 416x416 (no detections), 125.7ms\n",
      "Speed: 4.5ms preprocess, 125.7ms inference, 1.6ms postprocess per image at shape (1, 3, 416, 416)\n",
      "\n",
      "\n",
      "0: 416x416 (no detections), 133.6ms\n",
      "Speed: 2.5ms preprocess, 133.6ms inference, 1.0ms postprocess per image at shape (1, 3, 416, 416)\n"
     ]
    },
    {
     "name": "stdout",
     "output_type": "stream",
     "text": [
      "0.9369596\n"
     ]
    },
    {
     "name": "stderr",
     "output_type": "stream",
     "text": [
      "\n",
      "0: 416x416 1 Speed Limit 30, 115.9ms\n",
      "Speed: 2.5ms preprocess, 115.9ms inference, 1.4ms postprocess per image at shape (1, 3, 416, 416)\n",
      "0: 416x416 (no detections), 108.2ms\n",
      "Speed: 2.6ms preprocess, 108.2ms inference, 1.0ms postprocess per image at shape (1, 3, 416, 416)\n",
      "\n",
      "\n"
     ]
    },
    {
     "name": "stdout",
     "output_type": "stream",
     "text": [
      "0.9371426\n"
     ]
    },
    {
     "name": "stderr",
     "output_type": "stream",
     "text": [
      "0: 416x416 (no detections), 126.9ms\n",
      "Speed: 3.5ms preprocess, 126.9ms inference, 1.0ms postprocess per image at shape (1, 3, 416, 416)\n",
      "\n",
      "0: 416x416 1 Speed Limit 30, 129.4ms\n",
      "Speed: 2.0ms preprocess, 129.4ms inference, 2.5ms postprocess per image at shape (1, 3, 416, 416)\n",
      "0: 416x416 (no detections), 117.8ms\n",
      "Speed: 3.3ms preprocess, 117.8ms inference, 1.0ms postprocess per image at shape (1, 3, 416, 416)\n",
      "\n",
      "\n"
     ]
    },
    {
     "name": "stdout",
     "output_type": "stream",
     "text": [
      "0.9373991\n"
     ]
    },
    {
     "name": "stderr",
     "output_type": "stream",
     "text": [
      "0: 416x416 1 Speed Limit 30, 126.6ms\n",
      "Speed: 8.0ms preprocess, 126.6ms inference, 2.5ms postprocess per image at shape (1, 3, 416, 416)\n",
      "0: 416x416 (no detections), 125.0ms\n",
      "Speed: 5.0ms preprocess, 125.0ms inference, 6.0ms postprocess per image at shape (1, 3, 416, 416)\n",
      "\n",
      "\n",
      "0: 416x416 (no detections), 134.7ms\n",
      "Speed: 3.5ms preprocess, 134.7ms inference, 1.0ms postprocess per image at shape (1, 3, 416, 416)\n"
     ]
    },
    {
     "name": "stdout",
     "output_type": "stream",
     "text": [
      "0.93700254\n"
     ]
    },
    {
     "name": "stderr",
     "output_type": "stream",
     "text": [
      "\n",
      "0: 416x416 1 Speed Limit 30, 145.7ms\n",
      "Speed: 2.5ms preprocess, 145.7ms inference, 2.0ms postprocess per image at shape (1, 3, 416, 416)\n",
      "0: 416x416 (no detections), 137.6ms\n",
      "Speed: 3.5ms preprocess, 137.6ms inference, 0.0ms postprocess per image at shape (1, 3, 416, 416)\n",
      "\n",
      "\n",
      "0: 416x416 (no detections), 107.0ms\n"
     ]
    },
    {
     "name": "stdout",
     "output_type": "stream",
     "text": [
      "0.9368645\n"
     ]
    },
    {
     "name": "stderr",
     "output_type": "stream",
     "text": [
      "Speed: 2.5ms preprocess, 107.0ms inference, 1.0ms postprocess per image at shape (1, 3, 416, 416)\n",
      "\n",
      "0: 416x416 1 Speed Limit 30, 103.4ms\n",
      "Speed: 2.0ms preprocess, 103.4ms inference, 1.0ms postprocess per image at shape (1, 3, 416, 416)\n",
      "0: 416x416 (no detections), 103.0ms\n",
      "Speed: 4.0ms preprocess, 103.0ms inference, 1.0ms postprocess per image at shape (1, 3, 416, 416)\n",
      "\n",
      "\n"
     ]
    },
    {
     "name": "stdout",
     "output_type": "stream",
     "text": [
      "0.9364882\n"
     ]
    },
    {
     "name": "stderr",
     "output_type": "stream",
     "text": [
      "0: 416x416 (no detections), 121.8ms\n",
      "Speed: 2.2ms preprocess, 121.8ms inference, 1.0ms postprocess per image at shape (1, 3, 416, 416)\n",
      "0: 416x416 1 Speed Limit 30, 120.6ms\n",
      "Speed: 3.6ms preprocess, 120.6ms inference, 1.0ms postprocess per image at shape (1, 3, 416, 416)\n",
      "\n",
      "0: 416x416 (no detections), 114.2ms\n",
      "Speed: 3.0ms preprocess, 114.2ms inference, 0.0ms postprocess per image at shape (1, 3, 416, 416)\n",
      "\n",
      "\n"
     ]
    },
    {
     "name": "stdout",
     "output_type": "stream",
     "text": [
      "0.9369681\n"
     ]
    },
    {
     "name": "stderr",
     "output_type": "stream",
     "text": [
      "0: 416x416 1 Speed Limit 30, 135.6ms\n",
      "Speed: 3.4ms preprocess, 135.6ms inference, 2.5ms postprocess per image at shape (1, 3, 416, 416)\n",
      "0: 416x416 (no detections), 128.6ms\n",
      "Speed: 3.0ms preprocess, 128.6ms inference, 2.0ms postprocess per image at shape (1, 3, 416, 416)\n",
      "\n",
      "\n",
      "0: 416x416 (no detections), 136.0ms\n"
     ]
    },
    {
     "name": "stdout",
     "output_type": "stream",
     "text": [
      "0.9366055\n"
     ]
    },
    {
     "name": "stderr",
     "output_type": "stream",
     "text": [
      "Speed: 3.0ms preprocess, 136.0ms inference, 1.0ms postprocess per image at shape (1, 3, 416, 416)\n",
      "\n",
      "0: 416x416 1 Speed Limit 30, 125.2ms\n",
      "Speed: 3.0ms preprocess, 125.2ms inference, 8.6ms postprocess per image at shape (1, 3, 416, 416)\n",
      "0: 416x416 (no detections), 114.0ms\n",
      "Speed: 4.9ms preprocess, 114.0ms inference, 1.0ms postprocess per image at shape (1, 3, 416, 416)\n",
      "\n",
      "\n"
     ]
    },
    {
     "name": "stdout",
     "output_type": "stream",
     "text": [
      "0.93681085\n"
     ]
    },
    {
     "name": "stderr",
     "output_type": "stream",
     "text": [
      "0: 416x416 (no detections), 157.2ms\n",
      "Speed: 4.0ms preprocess, 157.2ms inference, 1.0ms postprocess per image at shape (1, 3, 416, 416)\n",
      "0: 416x416 1 Speed Limit 30, 152.5ms\n",
      "Speed: 6.5ms preprocess, 152.5ms inference, 2.0ms postprocess per image at shape (1, 3, 416, 416)\n",
      "\n",
      "\n",
      "0: 416x416 (no detections), 131.3ms\n",
      "Speed: 7.9ms preprocess, 131.3ms inference, 1.0ms postprocess per image at shape (1, 3, 416, 416)\n",
      "\n"
     ]
    },
    {
     "name": "stdout",
     "output_type": "stream",
     "text": [
      "0.9372136\n"
     ]
    },
    {
     "name": "stderr",
     "output_type": "stream",
     "text": [
      "0: 416x416 1 Speed Limit 30, 171.9ms\n",
      "Speed: 3.0ms preprocess, 171.9ms inference, 1.3ms postprocess per image at shape (1, 3, 416, 416)\n",
      "0: 416x416 (no detections), 137.6ms\n",
      "Speed: 6.1ms preprocess, 137.6ms inference, 1.0ms postprocess per image at shape (1, 3, 416, 416)\n",
      "\n",
      "\n"
     ]
    },
    {
     "name": "stdout",
     "output_type": "stream",
     "text": [
      "0.9368913\n"
     ]
    },
    {
     "name": "stderr",
     "output_type": "stream",
     "text": [
      "0: 416x416 (no detections), 131.8ms\n",
      "Speed: 4.0ms preprocess, 131.8ms inference, 1.0ms postprocess per image at shape (1, 3, 416, 416)\n",
      "\n",
      "0: 416x416 1 Speed Limit 30, 121.2ms\n",
      "Speed: 3.0ms preprocess, 121.2ms inference, 2.4ms postprocess per image at shape (1, 3, 416, 416)\n",
      "0: 416x416 (no detections), 113.3ms\n",
      "Speed: 3.5ms preprocess, 113.3ms inference, 1.0ms postprocess per image at shape (1, 3, 416, 416)\n",
      "\n",
      "\n"
     ]
    },
    {
     "name": "stdout",
     "output_type": "stream",
     "text": [
      "0.9368503\n"
     ]
    },
    {
     "name": "stderr",
     "output_type": "stream",
     "text": [
      "0: 416x416 (no detections), 128.2ms\n",
      "Speed: 3.5ms preprocess, 128.2ms inference, 1.0ms postprocess per image at shape (1, 3, 416, 416)\n",
      "\n",
      "0: 416x416 1 Speed Limit 30, 124.4ms\n",
      "Speed: 7.5ms preprocess, 124.4ms inference, 2.5ms postprocess per image at shape (1, 3, 416, 416)\n",
      "0: 416x416 (no detections), 111.0ms\n",
      "Speed: 3.0ms preprocess, 111.0ms inference, 1.0ms postprocess per image at shape (1, 3, 416, 416)\n",
      "\n",
      "\n"
     ]
    },
    {
     "name": "stdout",
     "output_type": "stream",
     "text": [
      "0.936953\n"
     ]
    },
    {
     "name": "stderr",
     "output_type": "stream",
     "text": [
      "0: 416x416 (no detections), 119.8ms\n",
      "Speed: 3.6ms preprocess, 119.8ms inference, 2.0ms postprocess per image at shape (1, 3, 416, 416)\n",
      "0: 416x416 1 Speed Limit 30, 120.4ms\n",
      "Speed: 2.5ms preprocess, 120.4ms inference, 1.0ms postprocess per image at shape (1, 3, 416, 416)\n",
      "\n",
      "0: 416x416 (no detections), 111.3ms\n",
      "Speed: 2.5ms preprocess, 111.3ms inference, 0.0ms postprocess per image at shape (1, 3, 416, 416)\n",
      "\n",
      "\n"
     ]
    },
    {
     "name": "stdout",
     "output_type": "stream",
     "text": [
      "0.9374882\n"
     ]
    },
    {
     "name": "stderr",
     "output_type": "stream",
     "text": [
      "0: 416x416 (no detections), 111.7ms\n",
      "Speed: 3.0ms preprocess, 111.7ms inference, 1.0ms postprocess per image at shape (1, 3, 416, 416)\n",
      "0: 416x416 1 Speed Limit 30, 121.3ms\n",
      "Speed: 5.0ms preprocess, 121.3ms inference, 2.0ms postprocess per image at shape (1, 3, 416, 416)\n",
      "\n",
      "0: 416x416 (no detections), 107.6ms\n",
      "Speed: 2.0ms preprocess, 107.6ms inference, 1.0ms postprocess per image at shape (1, 3, 416, 416)\n",
      "\n",
      "\n"
     ]
    },
    {
     "name": "stdout",
     "output_type": "stream",
     "text": [
      "0.936834\n"
     ]
    },
    {
     "name": "stderr",
     "output_type": "stream",
     "text": [
      "0: 416x416 (no detections), 120.9ms\n",
      "Speed: 3.0ms preprocess, 120.9ms inference, 2.0ms postprocess per image at shape (1, 3, 416, 416)\n",
      "0: 416x416 1 Speed Limit 30, 121.9ms\n",
      "Speed: 7.5ms preprocess, 121.9ms inference, 6.5ms postprocess per image at shape (1, 3, 416, 416)\n",
      "\n",
      "0: 416x416 (no detections), 100.0ms\n",
      "Speed: 3.0ms preprocess, 100.0ms inference, 1.0ms postprocess per image at shape (1, 3, 416, 416)\n",
      "\n",
      "\n"
     ]
    },
    {
     "name": "stdout",
     "output_type": "stream",
     "text": [
      "0.9368681\n"
     ]
    },
    {
     "name": "stderr",
     "output_type": "stream",
     "text": [
      "0: 416x416 1 Speed Limit 30, 118.6ms\n",
      "Speed: 2.0ms preprocess, 118.6ms inference, 2.5ms postprocess per image at shape (1, 3, 416, 416)\n",
      "0: 416x416 (no detections), 118.9ms\n",
      "Speed: 3.5ms preprocess, 118.9ms inference, 1.0ms postprocess per image at shape (1, 3, 416, 416)\n",
      "\n",
      "\n",
      "0: 416x416 (no detections), 119.0ms\n",
      "Speed: 3.5ms preprocess, 119.0ms inference, 1.1ms postprocess per image at shape (1, 3, 416, 416)\n"
     ]
    },
    {
     "name": "stdout",
     "output_type": "stream",
     "text": [
      "0.9368438\n"
     ]
    },
    {
     "name": "stderr",
     "output_type": "stream",
     "text": [
      "\n",
      "0: 416x416 1 Speed Limit 30, 119.4ms\n",
      "Speed: 2.3ms preprocess, 119.4ms inference, 2.0ms postprocess per image at shape (1, 3, 416, 416)\n",
      "0: 416x416 (no detections), 109.3ms\n",
      "Speed: 4.0ms preprocess, 109.3ms inference, 1.0ms postprocess per image at shape (1, 3, 416, 416)\n",
      "\n",
      "0: 416x416 (no detections), 100.2ms\n",
      "Speed: 3.3ms preprocess, 100.2ms inference, 1.0ms postprocess per image at shape (1, 3, 416, 416)\n",
      "\n",
      "\n"
     ]
    },
    {
     "name": "stdout",
     "output_type": "stream",
     "text": [
      "0.93744934\n"
     ]
    },
    {
     "name": "stderr",
     "output_type": "stream",
     "text": [
      "0: 416x416 1 Speed Limit 30, 113.7ms\n",
      "Speed: 2.0ms preprocess, 113.7ms inference, 2.0ms postprocess per image at shape (1, 3, 416, 416)\n",
      "0: 416x416 (no detections), 108.8ms\n",
      "Speed: 4.0ms preprocess, 108.8ms inference, 1.0ms postprocess per image at shape (1, 3, 416, 416)\n",
      "\n",
      "0: 416x416 (no detections), 111.1ms\n",
      "Speed: 3.0ms preprocess, 111.1ms inference, 1.0ms postprocess per image at shape (1, 3, 416, 416)\n",
      "\n",
      "\n"
     ]
    },
    {
     "name": "stdout",
     "output_type": "stream",
     "text": [
      "0.9368908\n"
     ]
    },
    {
     "name": "stderr",
     "output_type": "stream",
     "text": [
      "0: 416x416 1 Speed Limit 30, 109.1ms\n",
      "Speed: 2.5ms preprocess, 109.1ms inference, 1.2ms postprocess per image at shape (1, 3, 416, 416)\n",
      "0: 416x416 (no detections), 104.3ms\n",
      "Speed: 4.0ms preprocess, 104.3ms inference, 1.0ms postprocess per image at shape (1, 3, 416, 416)\n",
      "\n",
      "0: 416x416 (no detections), 117.1ms\n",
      "Speed: 2.0ms preprocess, 117.1ms inference, 1.0ms postprocess per image at shape (1, 3, 416, 416)\n",
      "\n",
      "\n"
     ]
    },
    {
     "name": "stdout",
     "output_type": "stream",
     "text": [
      "0.9368686\n"
     ]
    },
    {
     "name": "stderr",
     "output_type": "stream",
     "text": [
      "0: 416x416 1 Speed Limit 30, 110.7ms\n",
      "Speed: 2.0ms preprocess, 110.7ms inference, 2.0ms postprocess per image at shape (1, 3, 416, 416)\n",
      "0: 416x416 (no detections), 104.2ms\n",
      "Speed: 3.0ms preprocess, 104.2ms inference, 1.2ms postprocess per image at shape (1, 3, 416, 416)\n",
      "\n",
      "0: 416x416 (no detections), 102.8ms\n",
      "Speed: 3.0ms preprocess, 102.8ms inference, 1.0ms postprocess per image at shape (1, 3, 416, 416)\n",
      "\n",
      "\n"
     ]
    },
    {
     "name": "stdout",
     "output_type": "stream",
     "text": [
      "0.93714625\n"
     ]
    },
    {
     "name": "stderr",
     "output_type": "stream",
     "text": [
      "0: 416x416 1 Speed Limit 30, 113.4ms\n",
      "Speed: 2.0ms preprocess, 113.4ms inference, 1.5ms postprocess per image at shape (1, 3, 416, 416)\n",
      "0: 416x416 (no detections), 110.4ms\n",
      "Speed: 3.1ms preprocess, 110.4ms inference, 0.0ms postprocess per image at shape (1, 3, 416, 416)\n",
      "\n",
      "0: 416x416 (no detections), 107.5ms\n",
      "Speed: 3.0ms preprocess, 107.5ms inference, 0.0ms postprocess per image at shape (1, 3, 416, 416)\n",
      "\n",
      "\n"
     ]
    },
    {
     "name": "stdout",
     "output_type": "stream",
     "text": [
      "0.9374839\n"
     ]
    },
    {
     "name": "stderr",
     "output_type": "stream",
     "text": [
      "0: 416x416 1 Speed Limit 30, 116.5ms\n",
      "Speed: 3.4ms preprocess, 116.5ms inference, 2.0ms postprocess per image at shape (1, 3, 416, 416)\n",
      "0: 416x416 (no detections), 110.5ms\n",
      "Speed: 4.0ms preprocess, 110.5ms inference, 1.0ms postprocess per image at shape (1, 3, 416, 416)\n",
      "\n",
      "\n",
      "0: 416x416 (no detections), 115.6ms\n",
      "Speed: 3.0ms preprocess, 115.6ms inference, 2.0ms postprocess per image at shape (1, 3, 416, 416)\n",
      "\n"
     ]
    },
    {
     "name": "stdout",
     "output_type": "stream",
     "text": [
      "0.93694437\n"
     ]
    },
    {
     "name": "stderr",
     "output_type": "stream",
     "text": [
      "0: 416x416 1 Speed Limit 30, 145.4ms\n",
      "Speed: 2.6ms preprocess, 145.4ms inference, 2.0ms postprocess per image at shape (1, 3, 416, 416)\n",
      "0: 416x416 (no detections), 141.0ms\n",
      "Speed: 5.0ms preprocess, 141.0ms inference, 1.2ms postprocess per image at shape (1, 3, 416, 416)\n",
      "\n",
      "\n",
      "0: 416x416 (no detections), 109.6ms\n",
      "Speed: 4.0ms preprocess, 109.6ms inference, 2.0ms postprocess per image at shape (1, 3, 416, 416)\n",
      "\n"
     ]
    },
    {
     "name": "stdout",
     "output_type": "stream",
     "text": [
      "0.9367628\n"
     ]
    },
    {
     "name": "stderr",
     "output_type": "stream",
     "text": [
      "0: 416x416 1 Speed Limit 30, 111.6ms\n",
      "Speed: 2.0ms preprocess, 111.6ms inference, 2.0ms postprocess per image at shape (1, 3, 416, 416)\n",
      "0: 416x416 (no detections), 103.7ms\n",
      "Speed: 3.0ms preprocess, 103.7ms inference, 1.0ms postprocess per image at shape (1, 3, 416, 416)\n",
      "\n",
      "\n",
      "0: 416x416 (no detections), 116.9ms\n"
     ]
    },
    {
     "name": "stdout",
     "output_type": "stream",
     "text": [
      "0.93666846\n"
     ]
    },
    {
     "name": "stderr",
     "output_type": "stream",
     "text": [
      "Speed: 4.2ms preprocess, 116.9ms inference, 2.0ms postprocess per image at shape (1, 3, 416, 416)\n",
      "\n",
      "0: 416x416 1 Speed Limit 30, 122.4ms\n",
      "Speed: 2.9ms preprocess, 122.4ms inference, 2.1ms postprocess per image at shape (1, 3, 416, 416)\n",
      "0: 416x416 (no detections), 111.4ms\n",
      "Speed: 4.2ms preprocess, 111.4ms inference, 0.0ms postprocess per image at shape (1, 3, 416, 416)\n",
      "\n",
      "\n"
     ]
    },
    {
     "name": "stdout",
     "output_type": "stream",
     "text": [
      "0.9370161\n"
     ]
    },
    {
     "name": "stderr",
     "output_type": "stream",
     "text": [
      "0: 416x416 (no detections), 129.5ms\n",
      "Speed: 3.5ms preprocess, 129.5ms inference, 1.0ms postprocess per image at shape (1, 3, 416, 416)\n",
      "\n",
      "0: 416x416 1 Speed Limit 30, 138.2ms\n",
      "Speed: 3.1ms preprocess, 138.2ms inference, 1.0ms postprocess per image at shape (1, 3, 416, 416)\n",
      "0: 416x416 (no detections), 119.1ms\n",
      "Speed: 2.5ms preprocess, 119.1ms inference, 1.0ms postprocess per image at shape (1, 3, 416, 416)\n",
      "\n",
      "\n"
     ]
    },
    {
     "name": "stdout",
     "output_type": "stream",
     "text": [
      "0.93645304\n"
     ]
    },
    {
     "name": "stderr",
     "output_type": "stream",
     "text": [
      "0: 416x416 (no detections), 105.5ms\n",
      "Speed: 3.0ms preprocess, 105.5ms inference, 2.0ms postprocess per image at shape (1, 3, 416, 416)\n",
      "\n",
      "0: 416x416 1 Speed Limit 30, 119.2ms\n",
      "Speed: 2.0ms preprocess, 119.2ms inference, 2.0ms postprocess per image at shape (1, 3, 416, 416)\n",
      "0: 416x416 (no detections), 105.8ms\n",
      "Speed: 4.0ms preprocess, 105.8ms inference, 1.0ms postprocess per image at shape (1, 3, 416, 416)\n",
      "\n",
      "\n"
     ]
    },
    {
     "name": "stdout",
     "output_type": "stream",
     "text": [
      "0.93695074\n"
     ]
    },
    {
     "name": "stderr",
     "output_type": "stream",
     "text": [
      "0: 416x416 (no detections), 106.3ms\n",
      "Speed: 2.5ms preprocess, 106.3ms inference, 1.0ms postprocess per image at shape (1, 3, 416, 416)\n",
      "\n",
      "0: 416x416 1 Speed Limit 30, 111.1ms\n",
      "Speed: 2.2ms preprocess, 111.1ms inference, 1.0ms postprocess per image at shape (1, 3, 416, 416)\n",
      "0: 416x416 (no detections), 104.8ms\n",
      "Speed: 3.0ms preprocess, 104.8ms inference, 1.0ms postprocess per image at shape (1, 3, 416, 416)\n",
      "\n",
      "\n"
     ]
    },
    {
     "name": "stdout",
     "output_type": "stream",
     "text": [
      "0.93692863\n"
     ]
    },
    {
     "name": "stderr",
     "output_type": "stream",
     "text": [
      "0: 416x416 (no detections), 117.7ms\n",
      "Speed: 3.0ms preprocess, 117.7ms inference, 2.0ms postprocess per image at shape (1, 3, 416, 416)\n",
      "\n",
      "0: 416x416 1 Speed Limit 30, 129.8ms\n",
      "Speed: 2.0ms preprocess, 129.8ms inference, 2.5ms postprocess per image at shape (1, 3, 416, 416)\n",
      "0: 416x416 (no detections), 108.9ms\n",
      "Speed: 3.0ms preprocess, 108.9ms inference, 0.0ms postprocess per image at shape (1, 3, 416, 416)\n",
      "\n",
      "\n",
      "0: 416x416 (no detections), 102.2ms\n"
     ]
    },
    {
     "name": "stdout",
     "output_type": "stream",
     "text": [
      "0.9372232\n"
     ]
    },
    {
     "name": "stderr",
     "output_type": "stream",
     "text": [
      "Speed: 2.0ms preprocess, 102.2ms inference, 2.5ms postprocess per image at shape (1, 3, 416, 416)\n",
      "\n",
      "0: 416x416 1 Speed Limit 30, 111.0ms\n",
      "Speed: 2.0ms preprocess, 111.0ms inference, 2.1ms postprocess per image at shape (1, 3, 416, 416)\n",
      "0: 416x416 (no detections), 98.1ms\n",
      "Speed: 3.0ms preprocess, 98.1ms inference, 1.0ms postprocess per image at shape (1, 3, 416, 416)\n",
      "\n",
      "\n",
      "0: 416x416 (no detections), 105.5ms\n"
     ]
    },
    {
     "name": "stdout",
     "output_type": "stream",
     "text": [
      "0.9365955\n"
     ]
    },
    {
     "name": "stderr",
     "output_type": "stream",
     "text": [
      "Speed: 3.0ms preprocess, 105.5ms inference, 1.5ms postprocess per image at shape (1, 3, 416, 416)\n",
      "\n",
      "0: 416x416 1 Speed Limit 30, 118.3ms\n",
      "Speed: 2.7ms preprocess, 118.3ms inference, 2.0ms postprocess per image at shape (1, 3, 416, 416)\n",
      "0: 416x416 (no detections), 103.2ms\n",
      "Speed: 3.0ms preprocess, 103.2ms inference, 0.0ms postprocess per image at shape (1, 3, 416, 416)\n",
      "\n",
      "\n",
      "0: 416x416 (no detections), 105.9ms\n",
      "Speed: 3.0ms preprocess, 105.9ms inference, 1.0ms postprocess per image at shape (1, 3, 416, 416)\n"
     ]
    },
    {
     "name": "stdout",
     "output_type": "stream",
     "text": [
      "0.9372205\n"
     ]
    },
    {
     "name": "stderr",
     "output_type": "stream",
     "text": [
      "\n",
      "0: 416x416 1 Speed Limit 30, 107.1ms\n",
      "Speed: 3.0ms preprocess, 107.1ms inference, 1.0ms postprocess per image at shape (1, 3, 416, 416)\n",
      "0: 416x416 (no detections), 98.5ms\n",
      "Speed: 1.0ms preprocess, 98.5ms inference, 0.0ms postprocess per image at shape (1, 3, 416, 416)\n",
      "\n",
      "\n",
      "0: 416x416 (no detections), 106.2ms\n",
      "Speed: 1.9ms preprocess, 106.2ms inference, 1.5ms postprocess per image at shape (1, 3, 416, 416)\n",
      "\n"
     ]
    },
    {
     "name": "stdout",
     "output_type": "stream",
     "text": [
      "0.9368644\n"
     ]
    },
    {
     "name": "stderr",
     "output_type": "stream",
     "text": [
      "0: 416x416 1 Speed Limit 30, 114.0ms\n",
      "Speed: 2.5ms preprocess, 114.0ms inference, 2.0ms postprocess per image at shape (1, 3, 416, 416)\n",
      "0: 416x416 (no detections), 101.8ms\n",
      "Speed: 3.0ms preprocess, 101.8ms inference, 1.0ms postprocess per image at shape (1, 3, 416, 416)\n",
      "\n",
      "0: 416x416 (no detections), 100.7ms\n",
      "Speed: 3.0ms preprocess, 100.7ms inference, 1.0ms postprocess per image at shape (1, 3, 416, 416)\n",
      "\n",
      "\n"
     ]
    },
    {
     "name": "stdout",
     "output_type": "stream",
     "text": [
      "0.9369384\n"
     ]
    },
    {
     "name": "stderr",
     "output_type": "stream",
     "text": [
      "0: 416x416 (no detections), 108.6ms\n",
      "Speed: 6.0ms preprocess, 108.6ms inference, 1.0ms postprocess per image at shape (1, 3, 416, 416)\n",
      "0: 416x416 1 Speed Limit 30, 109.6ms\n",
      "Speed: 2.0ms preprocess, 109.6ms inference, 6.5ms postprocess per image at shape (1, 3, 416, 416)\n",
      "\n",
      "0: 416x416 (no detections), 97.4ms\n",
      "Speed: 2.6ms preprocess, 97.4ms inference, 1.0ms postprocess per image at shape (1, 3, 416, 416)\n",
      "\n",
      "\n"
     ]
    },
    {
     "name": "stdout",
     "output_type": "stream",
     "text": [
      "0.9365039\n"
     ]
    },
    {
     "name": "stderr",
     "output_type": "stream",
     "text": [
      "0: 416x416 (no detections), 108.5ms\n",
      "Speed: 3.0ms preprocess, 108.5ms inference, 1.0ms postprocess per image at shape (1, 3, 416, 416)\n",
      "0: 416x416 1 Speed Limit 30, 104.1ms\n",
      "Speed: 3.0ms preprocess, 104.1ms inference, 0.0ms postprocess per image at shape (1, 3, 416, 416)\n",
      "\n",
      "0: 416x416 (no detections), 96.0ms\n",
      "Speed: 3.4ms preprocess, 96.0ms inference, 1.0ms postprocess per image at shape (1, 3, 416, 416)\n",
      "\n",
      "\n"
     ]
    },
    {
     "name": "stdout",
     "output_type": "stream",
     "text": [
      "0.936771\n"
     ]
    },
    {
     "name": "stderr",
     "output_type": "stream",
     "text": [
      "0: 416x416 (no detections), 110.5ms\n",
      "Speed: 3.0ms preprocess, 110.5ms inference, 1.0ms postprocess per image at shape (1, 3, 416, 416)\n",
      "\n",
      "0: 416x416 1 Speed Limit 30, 104.2ms\n",
      "Speed: 2.0ms preprocess, 104.2ms inference, 2.0ms postprocess per image at shape (1, 3, 416, 416)\n",
      "0: 416x416 (no detections), 109.0ms\n",
      "Speed: 2.0ms preprocess, 109.0ms inference, 1.0ms postprocess per image at shape (1, 3, 416, 416)\n",
      "\n",
      "\n"
     ]
    },
    {
     "name": "stdout",
     "output_type": "stream",
     "text": [
      "0.9370664\n"
     ]
    },
    {
     "name": "stderr",
     "output_type": "stream",
     "text": [
      "0: 416x416 (no detections), 105.6ms\n",
      "Speed: 2.0ms preprocess, 105.6ms inference, 1.0ms postprocess per image at shape (1, 3, 416, 416)\n",
      "0: 416x416 1 Speed Limit 30, 99.0ms\n",
      "Speed: 3.5ms preprocess, 99.0ms inference, 2.0ms postprocess per image at shape (1, 3, 416, 416)\n",
      "\n",
      "0: 416x416 (no detections), 95.5ms\n",
      "Speed: 3.5ms preprocess, 95.5ms inference, 1.0ms postprocess per image at shape (1, 3, 416, 416)\n",
      "\n",
      "\n"
     ]
    },
    {
     "name": "stdout",
     "output_type": "stream",
     "text": [
      "0.93761164\n"
     ]
    },
    {
     "name": "stderr",
     "output_type": "stream",
     "text": [
      "0: 416x416 (no detections), 106.7ms\n",
      "Speed: 3.5ms preprocess, 106.7ms inference, 1.6ms postprocess per image at shape (1, 3, 416, 416)\n",
      "\n",
      "0: 416x416 1 Speed Limit 30, 121.0ms\n",
      "Speed: 3.0ms preprocess, 121.0ms inference, 1.0ms postprocess per image at shape (1, 3, 416, 416)\n",
      "0: 416x416 (no detections), 107.2ms\n",
      "Speed: 3.1ms preprocess, 107.2ms inference, 1.0ms postprocess per image at shape (1, 3, 416, 416)\n",
      "\n",
      "\n"
     ]
    },
    {
     "name": "stdout",
     "output_type": "stream",
     "text": [
      "0.9367553\n"
     ]
    },
    {
     "name": "stderr",
     "output_type": "stream",
     "text": [
      "0: 416x416 (no detections), 102.4ms\n",
      "Speed: 3.0ms preprocess, 102.4ms inference, 2.6ms postprocess per image at shape (1, 3, 416, 416)\n",
      "\n",
      "0: 416x416 1 Speed Limit 30, 105.6ms\n",
      "Speed: 2.0ms preprocess, 105.6ms inference, 2.0ms postprocess per image at shape (1, 3, 416, 416)\n",
      "0: 416x416 (no detections), 94.3ms\n",
      "Speed: 3.0ms preprocess, 94.3ms inference, 1.5ms postprocess per image at shape (1, 3, 416, 416)\n",
      "\n",
      "\n"
     ]
    },
    {
     "name": "stdout",
     "output_type": "stream",
     "text": [
      "0.9367604\n"
     ]
    },
    {
     "name": "stderr",
     "output_type": "stream",
     "text": [
      "0: 416x416 (no detections), 108.0ms\n",
      "Speed: 3.5ms preprocess, 108.0ms inference, 1.1ms postprocess per image at shape (1, 3, 416, 416)\n",
      "\n",
      "0: 416x416 1 Speed Limit 30, 118.2ms\n",
      "Speed: 2.0ms preprocess, 118.2ms inference, 1.0ms postprocess per image at shape (1, 3, 416, 416)\n",
      "0: 416x416 (no detections), 101.1ms\n",
      "Speed: 2.0ms preprocess, 101.1ms inference, 1.0ms postprocess per image at shape (1, 3, 416, 416)\n",
      "\n",
      "\n",
      "0: 416x416 (no detections), 110.7ms\n",
      "Speed: 2.0ms preprocess, 110.7ms inference, 1.0ms postprocess per image at shape (1, 3, 416, 416)\n"
     ]
    },
    {
     "name": "stdout",
     "output_type": "stream",
     "text": [
      "0.9365279\n"
     ]
    },
    {
     "name": "stderr",
     "output_type": "stream",
     "text": [
      "\n",
      "0: 416x416 1 Speed Limit 30, 109.9ms\n",
      "Speed: 2.0ms preprocess, 109.9ms inference, 1.0ms postprocess per image at shape (1, 3, 416, 416)\n",
      "0: 416x416 (no detections), 101.4ms\n",
      "Speed: 3.0ms preprocess, 101.4ms inference, 1.0ms postprocess per image at shape (1, 3, 416, 416)\n",
      "\n",
      "\n",
      "0: 416x416 (no detections), 98.4ms\n",
      "Speed: 2.5ms preprocess, 98.4ms inference, 0.6ms postprocess per image at shape (1, 3, 416, 416)\n",
      "\n"
     ]
    },
    {
     "name": "stdout",
     "output_type": "stream",
     "text": [
      "0.9370294\n"
     ]
    },
    {
     "name": "stderr",
     "output_type": "stream",
     "text": [
      "0: 416x416 1 Speed Limit 30, 107.1ms\n",
      "Speed: 2.0ms preprocess, 107.1ms inference, 1.0ms postprocess per image at shape (1, 3, 416, 416)\n",
      "0: 416x416 (no detections), 102.2ms\n",
      "Speed: 3.0ms preprocess, 102.2ms inference, 0.0ms postprocess per image at shape (1, 3, 416, 416)\n",
      "\n",
      "0: 416x416 (no detections), 104.8ms\n",
      "Speed: 3.0ms preprocess, 104.8ms inference, 0.0ms postprocess per image at shape (1, 3, 416, 416)\n",
      "\n",
      "\n"
     ]
    },
    {
     "name": "stdout",
     "output_type": "stream",
     "text": [
      "0.93660146\n"
     ]
    },
    {
     "name": "stderr",
     "output_type": "stream",
     "text": [
      "0: 416x416 1 Speed Limit 30, 102.1ms\n",
      "Speed: 2.0ms preprocess, 102.1ms inference, 2.0ms postprocess per image at shape (1, 3, 416, 416)\n",
      "0: 416x416 (no detections), 99.5ms\n",
      "Speed: 3.0ms preprocess, 99.5ms inference, 1.0ms postprocess per image at shape (1, 3, 416, 416)\n",
      "\n",
      "0: 416x416 (no detections), 95.2ms\n",
      "Speed: 3.1ms preprocess, 95.2ms inference, 1.0ms postprocess per image at shape (1, 3, 416, 416)\n",
      "\n",
      "\n"
     ]
    },
    {
     "name": "stdout",
     "output_type": "stream",
     "text": [
      "0.93684316\n"
     ]
    },
    {
     "name": "stderr",
     "output_type": "stream",
     "text": [
      "0: 416x416 (no detections), 109.1ms\n",
      "Speed: 3.1ms preprocess, 109.1ms inference, 1.0ms postprocess per image at shape (1, 3, 416, 416)\n",
      "0: 416x416 1 Speed Limit 30, 107.7ms\n",
      "Speed: 3.5ms preprocess, 107.7ms inference, 1.6ms postprocess per image at shape (1, 3, 416, 416)\n",
      "\n",
      "0: 416x416 (no detections), 93.7ms\n",
      "Speed: 3.0ms preprocess, 93.7ms inference, 1.1ms postprocess per image at shape (1, 3, 416, 416)\n",
      "\n",
      "\n"
     ]
    },
    {
     "name": "stdout",
     "output_type": "stream",
     "text": [
      "0.93726844\n"
     ]
    },
    {
     "name": "stderr",
     "output_type": "stream",
     "text": [
      "0: 416x416 (no detections), 108.5ms\n",
      "Speed: 3.0ms preprocess, 108.5ms inference, 1.0ms postprocess per image at shape (1, 3, 416, 416)\n",
      "\n",
      "0: 416x416 1 Speed Limit 30, 108.2ms\n",
      "Speed: 2.0ms preprocess, 108.2ms inference, 2.0ms postprocess per image at shape (1, 3, 416, 416)\n",
      "0: 416x416 (no detections), 103.8ms\n",
      "Speed: 3.5ms preprocess, 103.8ms inference, 1.0ms postprocess per image at shape (1, 3, 416, 416)\n",
      "\n",
      "\n"
     ]
    },
    {
     "name": "stdout",
     "output_type": "stream",
     "text": [
      "0.93763196\n"
     ]
    },
    {
     "name": "stderr",
     "output_type": "stream",
     "text": [
      "0: 416x416 (no detections), 103.2ms\n",
      "Speed: 3.2ms preprocess, 103.2ms inference, 1.0ms postprocess per image at shape (1, 3, 416, 416)\n",
      "\n",
      "0: 416x416 1 Speed Limit 30, 104.8ms\n",
      "Speed: 2.0ms preprocess, 104.8ms inference, 1.0ms postprocess per image at shape (1, 3, 416, 416)\n",
      "0: 416x416 (no detections), 98.7ms\n",
      "Speed: 3.0ms preprocess, 98.7ms inference, 1.0ms postprocess per image at shape (1, 3, 416, 416)\n",
      "\n",
      "\n"
     ]
    },
    {
     "name": "stdout",
     "output_type": "stream",
     "text": [
      "0.93670505\n"
     ]
    },
    {
     "name": "stderr",
     "output_type": "stream",
     "text": [
      "0: 416x416 (no detections), 107.3ms\n",
      "Speed: 2.0ms preprocess, 107.3ms inference, 2.0ms postprocess per image at shape (1, 3, 416, 416)\n",
      "\n",
      "0: 416x416 1 Speed Limit 30, 115.6ms\n",
      "Speed: 2.0ms preprocess, 115.6ms inference, 2.0ms postprocess per image at shape (1, 3, 416, 416)\n",
      "0: 416x416 (no detections), 103.2ms\n",
      "Speed: 3.5ms preprocess, 103.2ms inference, 1.0ms postprocess per image at shape (1, 3, 416, 416)\n",
      "\n",
      "\n",
      "0: 416x416 (no detections), 104.4ms\n"
     ]
    },
    {
     "name": "stdout",
     "output_type": "stream",
     "text": [
      "0.9367375\n"
     ]
    },
    {
     "name": "stderr",
     "output_type": "stream",
     "text": [
      "Speed: 3.0ms preprocess, 104.4ms inference, 1.0ms postprocess per image at shape (1, 3, 416, 416)\n",
      "\n",
      "0: 416x416 1 Speed Limit 30, 114.3ms\n",
      "Speed: 2.0ms preprocess, 114.3ms inference, 1.0ms postprocess per image at shape (1, 3, 416, 416)\n",
      "0: 416x416 (no detections), 108.7ms\n",
      "Speed: 2.0ms preprocess, 108.7ms inference, 1.0ms postprocess per image at shape (1, 3, 416, 416)\n",
      "\n",
      "\n",
      "0: 416x416 (no detections), 102.8ms\n",
      "Speed: 2.5ms preprocess, 102.8ms inference, 1.0ms postprocess per image at shape (1, 3, 416, 416)\n"
     ]
    },
    {
     "name": "stdout",
     "output_type": "stream",
     "text": [
      "0.9365369\n"
     ]
    },
    {
     "name": "stderr",
     "output_type": "stream",
     "text": [
      "\n",
      "0: 416x416 1 Speed Limit 30, 126.3ms\n",
      "Speed: 2.0ms preprocess, 126.3ms inference, 2.1ms postprocess per image at shape (1, 3, 416, 416)\n",
      "0: 416x416 (no detections), 114.2ms\n",
      "Speed: 3.0ms preprocess, 114.2ms inference, 1.0ms postprocess per image at shape (1, 3, 416, 416)\n",
      "\n",
      "\n",
      "0: 416x416 (no detections), 97.0ms\n",
      "Speed: 2.0ms preprocess, 97.0ms inference, 2.0ms postprocess per image at shape (1, 3, 416, 416)\n",
      "\n"
     ]
    },
    {
     "name": "stdout",
     "output_type": "stream",
     "text": [
      "0.93698925\n"
     ]
    },
    {
     "name": "stderr",
     "output_type": "stream",
     "text": [
      "0: 416x416 1 Speed Limit 30, 108.3ms\n",
      "Speed: 2.0ms preprocess, 108.3ms inference, 1.0ms postprocess per image at shape (1, 3, 416, 416)\n",
      "0: 416x416 (no detections), 99.2ms\n",
      "Speed: 3.5ms preprocess, 99.2ms inference, 1.0ms postprocess per image at shape (1, 3, 416, 416)\n",
      "\n",
      "0: 416x416 (no detections), 101.0ms\n",
      "Speed: 2.9ms preprocess, 101.0ms inference, 1.0ms postprocess per image at shape (1, 3, 416, 416)\n",
      "\n",
      "\n"
     ]
    },
    {
     "name": "stdout",
     "output_type": "stream",
     "text": [
      "0.9366442\n"
     ]
    },
    {
     "name": "stderr",
     "output_type": "stream",
     "text": [
      "0: 416x416 (no detections), 104.9ms\n",
      "Speed: 3.0ms preprocess, 104.9ms inference, 1.0ms postprocess per image at shape (1, 3, 416, 416)\n",
      "0: 416x416 1 Speed Limit 30, 114.0ms\n",
      "Speed: 5.0ms preprocess, 114.0ms inference, 3.0ms postprocess per image at shape (1, 3, 416, 416)\n",
      "\n",
      "0: 416x416 (no detections), 107.5ms\n",
      "Speed: 3.0ms preprocess, 107.5ms inference, 1.0ms postprocess per image at shape (1, 3, 416, 416)\n",
      "\n",
      "\n"
     ]
    },
    {
     "name": "stdout",
     "output_type": "stream",
     "text": [
      "0.9370596\n"
     ]
    },
    {
     "name": "stderr",
     "output_type": "stream",
     "text": [
      "0: 416x416 (no detections), 110.6ms\n",
      "Speed: 3.2ms preprocess, 110.6ms inference, 1.0ms postprocess per image at shape (1, 3, 416, 416)\n",
      "0: 416x416 1 Speed Limit 30, 111.2ms\n",
      "Speed: 3.0ms preprocess, 111.2ms inference, 2.2ms postprocess per image at shape (1, 3, 416, 416)\n",
      "\n",
      "0: 416x416 (no detections), 103.5ms\n",
      "Speed: 4.0ms preprocess, 103.5ms inference, 0.0ms postprocess per image at shape (1, 3, 416, 416)\n",
      "\n",
      "\n"
     ]
    },
    {
     "name": "stdout",
     "output_type": "stream",
     "text": [
      "0.93693733\n"
     ]
    },
    {
     "name": "stderr",
     "output_type": "stream",
     "text": [
      "0: 416x416 (no detections), 109.0ms\n",
      "Speed: 3.5ms preprocess, 109.0ms inference, 2.0ms postprocess per image at shape (1, 3, 416, 416)\n",
      "0: 416x416 1 Speed Limit 30, 109.1ms\n",
      "Speed: 3.0ms preprocess, 109.1ms inference, 1.0ms postprocess per image at shape (1, 3, 416, 416)\n",
      "\n",
      "0: 416x416 (no detections), 96.6ms\n",
      "Speed: 3.5ms preprocess, 96.6ms inference, 1.0ms postprocess per image at shape (1, 3, 416, 416)\n",
      "\n",
      "\n"
     ]
    },
    {
     "name": "stdout",
     "output_type": "stream",
     "text": [
      "0.9375573\n"
     ]
    },
    {
     "name": "stderr",
     "output_type": "stream",
     "text": [
      "0: 416x416 (no detections), 105.0ms\n",
      "Speed: 3.0ms preprocess, 105.0ms inference, 1.1ms postprocess per image at shape (1, 3, 416, 416)\n",
      "\n",
      "0: 416x416 1 Speed Limit 30, 106.9ms\n",
      "Speed: 2.0ms preprocess, 106.9ms inference, 2.9ms postprocess per image at shape (1, 3, 416, 416)\n",
      "0: 416x416 (no detections), 101.5ms\n",
      "Speed: 3.0ms preprocess, 101.5ms inference, 1.3ms postprocess per image at shape (1, 3, 416, 416)\n",
      "\n",
      "\n"
     ]
    },
    {
     "name": "stdout",
     "output_type": "stream",
     "text": [
      "0.93671364\n"
     ]
    },
    {
     "name": "stderr",
     "output_type": "stream",
     "text": [
      "0: 416x416 (no detections), 112.0ms\n",
      "Speed: 3.0ms preprocess, 112.0ms inference, 1.0ms postprocess per image at shape (1, 3, 416, 416)\n",
      "\n",
      "0: 416x416 1 Speed Limit 30, 122.3ms\n",
      "Speed: 2.0ms preprocess, 122.3ms inference, 2.0ms postprocess per image at shape (1, 3, 416, 416)\n",
      "0: 416x416 (no detections), 110.2ms\n",
      "Speed: 3.5ms preprocess, 110.2ms inference, 1.0ms postprocess per image at shape (1, 3, 416, 416)\n",
      "\n",
      "\n"
     ]
    },
    {
     "name": "stdout",
     "output_type": "stream",
     "text": [
      "0.9366496\n"
     ]
    },
    {
     "name": "stderr",
     "output_type": "stream",
     "text": [
      "0: 416x416 (no detections), 109.3ms\n",
      "Speed: 2.5ms preprocess, 109.3ms inference, 2.0ms postprocess per image at shape (1, 3, 416, 416)\n",
      "\n",
      "0: 416x416 1 Speed Limit 30, 107.6ms\n",
      "Speed: 2.0ms preprocess, 107.6ms inference, 2.0ms postprocess per image at shape (1, 3, 416, 416)\n",
      "0: 416x416 (no detections), 98.1ms\n",
      "Speed: 2.6ms preprocess, 98.1ms inference, 1.0ms postprocess per image at shape (1, 3, 416, 416)\n",
      "\n",
      "\n"
     ]
    },
    {
     "name": "stdout",
     "output_type": "stream",
     "text": [
      "0.93669987\n"
     ]
    },
    {
     "name": "stderr",
     "output_type": "stream",
     "text": [
      "0: 416x416 (no detections), 111.0ms\n",
      "Speed: 3.0ms preprocess, 111.0ms inference, 1.0ms postprocess per image at shape (1, 3, 416, 416)\n",
      "\n",
      "0: 416x416 1 Speed Limit 30, 110.7ms\n",
      "Speed: 1.8ms preprocess, 110.7ms inference, 1.0ms postprocess per image at shape (1, 3, 416, 416)\n",
      "0: 416x416 (no detections), 101.3ms\n",
      "Speed: 3.0ms preprocess, 101.3ms inference, 1.0ms postprocess per image at shape (1, 3, 416, 416)\n",
      "\n",
      "\n"
     ]
    },
    {
     "name": "stdout",
     "output_type": "stream",
     "text": [
      "0.9370918\n"
     ]
    },
    {
     "name": "stderr",
     "output_type": "stream",
     "text": [
      "0: 416x416 (no detections), 116.6ms\n",
      "Speed: 2.5ms preprocess, 116.6ms inference, 1.2ms postprocess per image at shape (1, 3, 416, 416)\n",
      "\n",
      "0: 416x416 1 Speed Limit 30, 128.9ms\n",
      "Speed: 3.0ms preprocess, 128.9ms inference, 2.5ms postprocess per image at shape (1, 3, 416, 416)\n",
      "\n",
      "0: 416x416 (no detections), 122.7ms\n",
      "Speed: 4.4ms preprocess, 122.7ms inference, 1.0ms postprocess per image at shape (1, 3, 416, 416)\n",
      "\n",
      "0: 416x416 1 Speed Limit 30, 105.2ms\n"
     ]
    },
    {
     "name": "stdout",
     "output_type": "stream",
     "text": [
      "0.9369178\n"
     ]
    },
    {
     "name": "stderr",
     "output_type": "stream",
     "text": [
      "Speed: 3.0ms preprocess, 105.2ms inference, 1.4ms postprocess per image at shape (1, 3, 416, 416)\n",
      "0: 416x416 (no detections), 98.0ms\n",
      "Speed: 3.0ms preprocess, 98.0ms inference, 0.0ms postprocess per image at shape (1, 3, 416, 416)\n",
      "\n",
      "0: 416x416 (no detections), 98.0ms\n",
      "Speed: 3.0ms preprocess, 98.0ms inference, 1.0ms postprocess per image at shape (1, 3, 416, 416)\n",
      "\n",
      "\n"
     ]
    },
    {
     "name": "stdout",
     "output_type": "stream",
     "text": [
      "0.93664473\n"
     ]
    },
    {
     "name": "stderr",
     "output_type": "stream",
     "text": [
      "0: 416x416 (no detections), 102.2ms\n",
      "Speed: 3.0ms preprocess, 102.2ms inference, 1.0ms postprocess per image at shape (1, 3, 416, 416)\n",
      "0: 416x416 1 Speed Limit 30, 112.2ms\n",
      "Speed: 2.5ms preprocess, 112.2ms inference, 6.0ms postprocess per image at shape (1, 3, 416, 416)\n",
      "\n",
      "0: 416x416 (no detections), 100.4ms\n",
      "Speed: 3.5ms preprocess, 100.4ms inference, 1.0ms postprocess per image at shape (1, 3, 416, 416)\n",
      "\n",
      "\n"
     ]
    },
    {
     "name": "stdout",
     "output_type": "stream",
     "text": [
      "0.9370795\n"
     ]
    },
    {
     "name": "stderr",
     "output_type": "stream",
     "text": [
      "0: 416x416 (no detections), 110.2ms\n",
      "Speed: 6.0ms preprocess, 110.2ms inference, 2.0ms postprocess per image at shape (1, 3, 416, 416)\n",
      "0: 416x416 1 Speed Limit 30, 109.1ms\n",
      "Speed: 2.2ms preprocess, 109.1ms inference, 6.0ms postprocess per image at shape (1, 3, 416, 416)\n",
      "\n",
      "0: 416x416 (no detections), 100.7ms\n",
      "Speed: 2.5ms preprocess, 100.7ms inference, 1.0ms postprocess per image at shape (1, 3, 416, 416)\n",
      "\n",
      "\n"
     ]
    },
    {
     "name": "stdout",
     "output_type": "stream",
     "text": [
      "0.936753\n"
     ]
    },
    {
     "name": "stderr",
     "output_type": "stream",
     "text": [
      "0: 416x416 (no detections), 112.4ms\n",
      "Speed: 4.9ms preprocess, 112.4ms inference, 1.0ms postprocess per image at shape (1, 3, 416, 416)\n",
      "0: 416x416 1 Speed Limit 30, 114.5ms\n",
      "Speed: 3.0ms preprocess, 114.5ms inference, 4.5ms postprocess per image at shape (1, 3, 416, 416)\n",
      "\n",
      "0: 416x416 (no detections), 112.2ms\n",
      "Speed: 3.0ms preprocess, 112.2ms inference, 1.0ms postprocess per image at shape (1, 3, 416, 416)\n",
      "\n",
      "\n"
     ]
    },
    {
     "name": "stdout",
     "output_type": "stream",
     "text": [
      "0.93678844\n"
     ]
    },
    {
     "name": "stderr",
     "output_type": "stream",
     "text": [
      "0: 416x416 1 Speed Limit 30, 109.6ms\n",
      "Speed: 3.0ms preprocess, 109.6ms inference, 2.0ms postprocess per image at shape (1, 3, 416, 416)\n",
      "0: 416x416 (no detections), 105.0ms\n",
      "Speed: 4.2ms preprocess, 105.0ms inference, 1.6ms postprocess per image at shape (1, 3, 416, 416)\n",
      "\n",
      "0: 416x416 (no detections), 102.8ms\n",
      "Speed: 2.0ms preprocess, 102.8ms inference, 1.5ms postprocess per image at shape (1, 3, 416, 416)\n",
      "\n",
      "\n"
     ]
    },
    {
     "name": "stdout",
     "output_type": "stream",
     "text": [
      "0.9372585\n"
     ]
    },
    {
     "name": "stderr",
     "output_type": "stream",
     "text": [
      "0: 416x416 1 Speed Limit 30, 110.7ms\n",
      "Speed: 2.0ms preprocess, 110.7ms inference, 2.0ms postprocess per image at shape (1, 3, 416, 416)\n",
      "0: 416x416 (no detections), 108.4ms\n",
      "Speed: 3.0ms preprocess, 108.4ms inference, 1.0ms postprocess per image at shape (1, 3, 416, 416)\n",
      "\n",
      "0: 416x416 (no detections), 100.2ms\n",
      "Speed: 3.0ms preprocess, 100.2ms inference, 1.0ms postprocess per image at shape (1, 3, 416, 416)\n",
      "\n",
      "\n"
     ]
    },
    {
     "name": "stdout",
     "output_type": "stream",
     "text": [
      "0.9376217\n"
     ]
    },
    {
     "name": "stderr",
     "output_type": "stream",
     "text": [
      "0: 416x416 (no detections), 108.2ms\n",
      "Speed: 3.0ms preprocess, 108.2ms inference, 1.0ms postprocess per image at shape (1, 3, 416, 416)\n",
      "0: 416x416 1 Speed Limit 30, 103.1ms\n",
      "Speed: 3.5ms preprocess, 103.1ms inference, 4.0ms postprocess per image at shape (1, 3, 416, 416)\n",
      "\n",
      "0: 416x416 (no detections), 108.5ms\n",
      "Speed: 3.0ms preprocess, 108.5ms inference, 1.0ms postprocess per image at shape (1, 3, 416, 416)\n",
      "\n",
      "\n"
     ]
    },
    {
     "name": "stdout",
     "output_type": "stream",
     "text": [
      "0.9367995\n"
     ]
    },
    {
     "name": "stderr",
     "output_type": "stream",
     "text": [
      "0: 416x416 (no detections), 112.1ms\n",
      "Speed: 6.5ms preprocess, 112.1ms inference, 1.5ms postprocess per image at shape (1, 3, 416, 416)\n",
      "0: 416x416 1 Speed Limit 30, 113.2ms\n",
      "Speed: 3.0ms preprocess, 113.2ms inference, 6.5ms postprocess per image at shape (1, 3, 416, 416)\n",
      "\n",
      "0: 416x416 (no detections), 108.6ms\n",
      "Speed: 3.0ms preprocess, 108.6ms inference, 1.0ms postprocess per image at shape (1, 3, 416, 416)\n",
      "\n",
      "\n"
     ]
    },
    {
     "name": "stdout",
     "output_type": "stream",
     "text": [
      "0.93658733\n"
     ]
    },
    {
     "name": "stderr",
     "output_type": "stream",
     "text": [
      "0: 416x416 1 Speed Limit 30, 107.3ms\n",
      "Speed: 3.0ms preprocess, 107.3ms inference, 1.0ms postprocess per image at shape (1, 3, 416, 416)\n",
      "0: 416x416 (no detections), 105.7ms\n",
      "Speed: 3.0ms preprocess, 105.7ms inference, 1.0ms postprocess per image at shape (1, 3, 416, 416)\n",
      "\n",
      "0: 416x416 (no detections), 103.1ms\n",
      "Speed: 3.0ms preprocess, 103.1ms inference, 1.0ms postprocess per image at shape (1, 3, 416, 416)\n",
      "\n",
      "\n"
     ]
    },
    {
     "name": "stdout",
     "output_type": "stream",
     "text": [
      "0.9366012\n"
     ]
    },
    {
     "name": "stderr",
     "output_type": "stream",
     "text": [
      "0: 416x416 1 Speed Limit 30, 104.3ms\n",
      "Speed: 2.0ms preprocess, 104.3ms inference, 1.0ms postprocess per image at shape (1, 3, 416, 416)\n",
      "0: 416x416 (no detections), 100.1ms\n",
      "Speed: 3.0ms preprocess, 100.1ms inference, 1.0ms postprocess per image at shape (1, 3, 416, 416)\n",
      "\n",
      "0: 416x416 (no detections), 101.5ms\n",
      "Speed: 3.1ms preprocess, 101.5ms inference, 1.0ms postprocess per image at shape (1, 3, 416, 416)\n",
      "\n",
      "\n"
     ]
    },
    {
     "name": "stdout",
     "output_type": "stream",
     "text": [
      "0.93688667\n"
     ]
    },
    {
     "name": "stderr",
     "output_type": "stream",
     "text": [
      "0: 416x416 (no detections), 108.3ms\n",
      "Speed: 3.5ms preprocess, 108.3ms inference, 1.0ms postprocess per image at shape (1, 3, 416, 416)\n",
      "0: 416x416 1 Speed Limit 30, 107.3ms\n",
      "Speed: 2.5ms preprocess, 107.3ms inference, 2.5ms postprocess per image at shape (1, 3, 416, 416)\n",
      "\n",
      "0: 416x416 (no detections), 101.9ms\n",
      "Speed: 3.0ms preprocess, 101.9ms inference, 1.3ms postprocess per image at shape (1, 3, 416, 416)\n",
      "\n",
      "\n"
     ]
    },
    {
     "name": "stdout",
     "output_type": "stream",
     "text": [
      "0.9365822\n"
     ]
    },
    {
     "name": "stderr",
     "output_type": "stream",
     "text": [
      "0: 416x416 (no detections), 114.6ms\n",
      "Speed: 3.0ms preprocess, 114.6ms inference, 1.0ms postprocess per image at shape (1, 3, 416, 416)\n",
      "0: 416x416 1 Speed Limit 30, 115.3ms\n",
      "Speed: 3.5ms preprocess, 115.3ms inference, 2.0ms postprocess per image at shape (1, 3, 416, 416)\n",
      "\n",
      "0: 416x416 (no detections), 102.2ms\n",
      "Speed: 3.0ms preprocess, 102.2ms inference, 1.0ms postprocess per image at shape (1, 3, 416, 416)\n",
      "\n",
      "\n"
     ]
    },
    {
     "name": "stdout",
     "output_type": "stream",
     "text": [
      "0.9369246\n"
     ]
    },
    {
     "name": "stderr",
     "output_type": "stream",
     "text": [
      "0: 416x416 (no detections), 108.8ms\n",
      "Speed: 3.4ms preprocess, 108.8ms inference, 1.2ms postprocess per image at shape (1, 3, 416, 416)\n",
      "0: 416x416 1 Speed Limit 30, 105.0ms\n",
      "Speed: 4.0ms preprocess, 105.0ms inference, 3.0ms postprocess per image at shape (1, 3, 416, 416)\n",
      "\n",
      "0: 416x416 (no detections), 101.8ms\n",
      "Speed: 3.1ms preprocess, 101.8ms inference, 1.0ms postprocess per image at shape (1, 3, 416, 416)\n",
      "\n",
      "\n"
     ]
    },
    {
     "name": "stdout",
     "output_type": "stream",
     "text": [
      "0.93703437\n"
     ]
    },
    {
     "name": "stderr",
     "output_type": "stream",
     "text": [
      "0: 416x416 (no detections), 109.9ms\n",
      "Speed: 4.0ms preprocess, 109.9ms inference, 1.0ms postprocess per image at shape (1, 3, 416, 416)\n",
      "0: 416x416 1 Speed Limit 30, 109.7ms\n",
      "Speed: 2.0ms preprocess, 109.7ms inference, 1.5ms postprocess per image at shape (1, 3, 416, 416)\n",
      "\n",
      "0: 416x416 (no detections), 108.8ms\n",
      "Speed: 4.0ms preprocess, 108.8ms inference, 0.0ms postprocess per image at shape (1, 3, 416, 416)\n",
      "\n",
      "\n"
     ]
    },
    {
     "name": "stdout",
     "output_type": "stream",
     "text": [
      "0.93757254\n"
     ]
    },
    {
     "name": "stderr",
     "output_type": "stream",
     "text": [
      "0: 416x416 (no detections), 118.6ms\n",
      "Speed: 3.5ms preprocess, 118.6ms inference, 0.0ms postprocess per image at shape (1, 3, 416, 416)\n",
      "\n",
      "0: 416x416 1 Speed Limit 30, 116.6ms\n",
      "Speed: 2.7ms preprocess, 116.6ms inference, 2.2ms postprocess per image at shape (1, 3, 416, 416)\n",
      "0: 416x416 (no detections), 118.3ms\n",
      "Speed: 3.0ms preprocess, 118.3ms inference, 1.0ms postprocess per image at shape (1, 3, 416, 416)\n",
      "\n",
      "\n"
     ]
    },
    {
     "name": "stdout",
     "output_type": "stream",
     "text": [
      "0.9368797\n"
     ]
    },
    {
     "name": "stderr",
     "output_type": "stream",
     "text": [
      "0: 416x416 (no detections), 112.2ms\n",
      "Speed: 3.5ms preprocess, 112.2ms inference, 2.0ms postprocess per image at shape (1, 3, 416, 416)\n",
      "0: 416x416 1 Speed Limit 30, 112.7ms\n",
      "Speed: 3.0ms preprocess, 112.7ms inference, 1.0ms postprocess per image at shape (1, 3, 416, 416)\n",
      "\n",
      "0: 416x416 (no detections), 107.9ms\n",
      "Speed: 3.5ms preprocess, 107.9ms inference, 1.0ms postprocess per image at shape (1, 3, 416, 416)\n",
      "\n",
      "\n"
     ]
    },
    {
     "name": "stdout",
     "output_type": "stream",
     "text": [
      "0.93671817\n"
     ]
    },
    {
     "name": "stderr",
     "output_type": "stream",
     "text": [
      "0: 416x416 (no detections), 116.2ms\n",
      "Speed: 6.0ms preprocess, 116.2ms inference, 2.0ms postprocess per image at shape (1, 3, 416, 416)\n",
      "0: 416x416 1 Speed Limit 30, 114.9ms\n",
      "Speed: 3.4ms preprocess, 114.9ms inference, 6.5ms postprocess per image at shape (1, 3, 416, 416)\n",
      "\n",
      "0: 416x416 (no detections), 106.5ms\n",
      "Speed: 4.0ms preprocess, 106.5ms inference, 1.0ms postprocess per image at shape (1, 3, 416, 416)\n",
      "\n",
      "\n"
     ]
    },
    {
     "name": "stdout",
     "output_type": "stream",
     "text": [
      "0.9366487\n"
     ]
    },
    {
     "name": "stderr",
     "output_type": "stream",
     "text": [
      "0: 416x416 (no detections), 119.9ms\n",
      "Speed: 3.3ms preprocess, 119.9ms inference, 1.0ms postprocess per image at shape (1, 3, 416, 416)\n",
      "0: 416x416 1 Speed Limit 30, 118.4ms\n",
      "Speed: 3.0ms preprocess, 118.4ms inference, 2.0ms postprocess per image at shape (1, 3, 416, 416)\n",
      "\n",
      "0: 416x416 (no detections), 106.8ms\n",
      "Speed: 3.0ms preprocess, 106.8ms inference, 1.0ms postprocess per image at shape (1, 3, 416, 416)\n",
      "\n",
      "\n"
     ]
    },
    {
     "name": "stdout",
     "output_type": "stream",
     "text": [
      "0.9371403\n"
     ]
    },
    {
     "name": "stderr",
     "output_type": "stream",
     "text": [
      "0: 416x416 (no detections), 129.2ms\n",
      "Speed: 4.0ms preprocess, 129.2ms inference, 1.5ms postprocess per image at shape (1, 3, 416, 416)\n",
      "0: 416x416 1 Speed Limit 30, 122.9ms\n",
      "Speed: 3.0ms preprocess, 122.9ms inference, 2.0ms postprocess per image at shape (1, 3, 416, 416)\n",
      "\n",
      "\n",
      "0: 416x416 (no detections), 110.4ms\n",
      "Speed: 4.1ms preprocess, 110.4ms inference, 1.0ms postprocess per image at shape (1, 3, 416, 416)\n",
      "\n",
      "0: 416x416 1 Speed Limit 30, 114.4ms\n"
     ]
    },
    {
     "name": "stdout",
     "output_type": "stream",
     "text": [
      "0.93684506\n"
     ]
    },
    {
     "name": "stderr",
     "output_type": "stream",
     "text": [
      "Speed: 3.0ms preprocess, 114.4ms inference, 1.0ms postprocess per image at shape (1, 3, 416, 416)\n",
      "0: 416x416 (no detections), 105.3ms\n",
      "Speed: 2.5ms preprocess, 105.3ms inference, 1.0ms postprocess per image at shape (1, 3, 416, 416)\n",
      "\n",
      "\n"
     ]
    },
    {
     "name": "stdout",
     "output_type": "stream",
     "text": [
      "0.936605\n"
     ]
    },
    {
     "name": "stderr",
     "output_type": "stream",
     "text": [
      "0: 416x416 (no detections), 114.8ms\n",
      "Speed: 3.0ms preprocess, 114.8ms inference, 1.6ms postprocess per image at shape (1, 3, 416, 416)\n",
      "\n",
      "0: 416x416 1 Speed Limit 30, 115.2ms\n",
      "Speed: 3.0ms preprocess, 115.2ms inference, 2.0ms postprocess per image at shape (1, 3, 416, 416)\n",
      "0: 416x416 (no detections), 105.3ms\n",
      "Speed: 3.5ms preprocess, 105.3ms inference, 1.0ms postprocess per image at shape (1, 3, 416, 416)\n",
      "\n",
      "\n",
      "0: 416x416 (no detections), 114.0ms\n"
     ]
    },
    {
     "name": "stdout",
     "output_type": "stream",
     "text": [
      "0.9370661\n"
     ]
    },
    {
     "name": "stderr",
     "output_type": "stream",
     "text": [
      "Speed: 3.0ms preprocess, 114.0ms inference, 1.0ms postprocess per image at shape (1, 3, 416, 416)\n",
      "\n",
      "0: 416x416 1 Speed Limit 30, 122.5ms\n",
      "Speed: 3.2ms preprocess, 122.5ms inference, 1.5ms postprocess per image at shape (1, 3, 416, 416)\n",
      "0: 416x416 (no detections), 114.1ms\n",
      "Speed: 3.0ms preprocess, 114.1ms inference, 1.0ms postprocess per image at shape (1, 3, 416, 416)\n",
      "\n",
      "\n",
      "0: 416x416 (no detections), 114.1ms\n"
     ]
    },
    {
     "name": "stdout",
     "output_type": "stream",
     "text": [
      "0.9366134\n"
     ]
    },
    {
     "name": "stderr",
     "output_type": "stream",
     "text": [
      "Speed: 3.5ms preprocess, 114.1ms inference, 1.0ms postprocess per image at shape (1, 3, 416, 416)\n",
      "\n",
      "0: 416x416 1 Speed Limit 30, 120.9ms\n",
      "Speed: 2.0ms preprocess, 120.9ms inference, 2.0ms postprocess per image at shape (1, 3, 416, 416)\n",
      "0: 416x416 (no detections), 111.3ms\n",
      "Speed: 3.0ms preprocess, 111.3ms inference, 1.0ms postprocess per image at shape (1, 3, 416, 416)\n",
      "\n",
      "\n",
      "0: 416x416 (no detections), 125.8ms\n"
     ]
    },
    {
     "name": "stdout",
     "output_type": "stream",
     "text": [
      "0.9367807\n"
     ]
    },
    {
     "name": "stderr",
     "output_type": "stream",
     "text": [
      "Speed: 3.0ms preprocess, 125.8ms inference, 1.0ms postprocess per image at shape (1, 3, 416, 416)\n",
      "0: 416x416 1 Speed Limit 30, 123.3ms\n",
      "Speed: 2.0ms preprocess, 123.3ms inference, 2.0ms postprocess per image at shape (1, 3, 416, 416)\n",
      "\n",
      "\n",
      "0: 416x416 (no detections), 123.9ms\n",
      "Speed: 3.0ms preprocess, 123.9ms inference, 2.0ms postprocess per image at shape (1, 3, 416, 416)\n",
      "\n"
     ]
    },
    {
     "name": "stdout",
     "output_type": "stream",
     "text": [
      "0.9369528\n"
     ]
    },
    {
     "name": "stderr",
     "output_type": "stream",
     "text": [
      "0: 416x416 1 Speed Limit 30, 114.2ms\n",
      "Speed: 2.0ms preprocess, 114.2ms inference, 2.6ms postprocess per image at shape (1, 3, 416, 416)\n",
      "0: 416x416 (no detections), 106.6ms\n",
      "Speed: 3.5ms preprocess, 106.6ms inference, 1.0ms postprocess per image at shape (1, 3, 416, 416)\n",
      "\n",
      "\n"
     ]
    },
    {
     "name": "stdout",
     "output_type": "stream",
     "text": [
      "0.9367672\n"
     ]
    },
    {
     "name": "stderr",
     "output_type": "stream",
     "text": [
      "0: 416x416 (no detections), 114.1ms\n",
      "Speed: 3.5ms preprocess, 114.1ms inference, 1.0ms postprocess per image at shape (1, 3, 416, 416)\n",
      "\n",
      "0: 416x416 1 Speed Limit 30, 120.6ms\n",
      "Speed: 2.3ms preprocess, 120.6ms inference, 2.0ms postprocess per image at shape (1, 3, 416, 416)\n",
      "0: 416x416 (no detections), 108.9ms\n",
      "Speed: 4.0ms preprocess, 108.9ms inference, 1.0ms postprocess per image at shape (1, 3, 416, 416)\n",
      "\n",
      "\n"
     ]
    },
    {
     "name": "stdout",
     "output_type": "stream",
     "text": [
      "0.9369118\n"
     ]
    },
    {
     "name": "stderr",
     "output_type": "stream",
     "text": [
      "0: 416x416 (no detections), 114.6ms\n",
      "Speed: 3.0ms preprocess, 114.6ms inference, 0.0ms postprocess per image at shape (1, 3, 416, 416)\n",
      "\n",
      "0: 416x416 1 Speed Limit 30, 121.9ms\n",
      "Speed: 2.0ms preprocess, 121.9ms inference, 2.0ms postprocess per image at shape (1, 3, 416, 416)\n",
      "0: 416x416 (no detections), 107.0ms\n",
      "Speed: 2.5ms preprocess, 107.0ms inference, 1.0ms postprocess per image at shape (1, 3, 416, 416)\n",
      "\n",
      "\n",
      "0: 416x416 (no detections), 110.3ms\n",
      "Speed: 3.0ms preprocess, 110.3ms inference, 2.0ms postprocess per image at shape (1, 3, 416, 416)\n"
     ]
    },
    {
     "name": "stdout",
     "output_type": "stream",
     "text": [
      "0.937389\n"
     ]
    },
    {
     "name": "stderr",
     "output_type": "stream",
     "text": [
      "\n",
      "0: 416x416 1 Speed Limit 30, 122.1ms\n",
      "Speed: 3.1ms preprocess, 122.1ms inference, 3.0ms postprocess per image at shape (1, 3, 416, 416)\n",
      "0: 416x416 (no detections), 114.3ms\n",
      "Speed: 3.6ms preprocess, 114.3ms inference, 1.0ms postprocess per image at shape (1, 3, 416, 416)\n",
      "\n",
      "\n",
      "0: 416x416 (no detections), 114.0ms\n",
      "Speed: 3.0ms preprocess, 114.0ms inference, 1.0ms postprocess per image at shape (1, 3, 416, 416)\n"
     ]
    },
    {
     "name": "stdout",
     "output_type": "stream",
     "text": [
      "0.93693084\n"
     ]
    },
    {
     "name": "stderr",
     "output_type": "stream",
     "text": [
      "\n",
      "0: 416x416 1 Speed Limit 30, 131.4ms\n",
      "Speed: 2.5ms preprocess, 131.4ms inference, 2.0ms postprocess per image at shape (1, 3, 416, 416)\n",
      "0: 416x416 (no detections), 113.1ms\n",
      "Speed: 4.0ms preprocess, 113.1ms inference, 0.0ms postprocess per image at shape (1, 3, 416, 416)\n",
      "\n",
      "\n",
      "0: 416x416 (no detections), 109.6ms\n",
      "Speed: 3.0ms preprocess, 109.6ms inference, 1.0ms postprocess per image at shape (1, 3, 416, 416)\n",
      "\n"
     ]
    },
    {
     "name": "stdout",
     "output_type": "stream",
     "text": [
      "0.93687224\n"
     ]
    },
    {
     "name": "stderr",
     "output_type": "stream",
     "text": [
      "0: 416x416 1 Speed Limit 30, 120.1ms\n",
      "Speed: 2.0ms preprocess, 120.1ms inference, 2.0ms postprocess per image at shape (1, 3, 416, 416)\n",
      "0: 416x416 (no detections), 113.8ms\n",
      "Speed: 4.0ms preprocess, 113.8ms inference, 1.0ms postprocess per image at shape (1, 3, 416, 416)\n",
      "\n",
      "\n",
      "0: 416x416 (no detections), 116.3ms\n",
      "Speed: 4.0ms preprocess, 116.3ms inference, 1.0ms postprocess per image at shape (1, 3, 416, 416)\n"
     ]
    },
    {
     "name": "stdout",
     "output_type": "stream",
     "text": [
      "0.93700445\n"
     ]
    },
    {
     "name": "stderr",
     "output_type": "stream",
     "text": [
      "\n",
      "0: 416x416 1 Speed Limit 30, 119.6ms\n",
      "Speed: 3.0ms preprocess, 119.6ms inference, 2.0ms postprocess per image at shape (1, 3, 416, 416)\n",
      "0: 416x416 (no detections), 110.2ms\n",
      "Speed: 3.0ms preprocess, 110.2ms inference, 1.0ms postprocess per image at shape (1, 3, 416, 416)\n",
      "\n",
      "0: 416x416 (no detections), 111.2ms\n",
      "Speed: 3.0ms preprocess, 111.2ms inference, 1.6ms postprocess per image at shape (1, 3, 416, 416)\n",
      "\n",
      "\n"
     ]
    },
    {
     "name": "stdout",
     "output_type": "stream",
     "text": [
      "0.9375032\n"
     ]
    },
    {
     "name": "stderr",
     "output_type": "stream",
     "text": [
      "0: 416x416 1 Speed Limit 30, 120.2ms\n",
      "Speed: 4.1ms preprocess, 120.2ms inference, 2.3ms postprocess per image at shape (1, 3, 416, 416)\n",
      "0: 416x416 (no detections), 112.9ms\n",
      "Speed: 4.2ms preprocess, 112.9ms inference, 1.0ms postprocess per image at shape (1, 3, 416, 416)\n",
      "\n",
      "0: 416x416 (no detections), 111.0ms\n",
      "\n",
      "Speed: 4.0ms preprocess, 111.0ms inference, 1.0ms postprocess per image at shape (1, 3, 416, 416)\n",
      "\n"
     ]
    },
    {
     "name": "stdout",
     "output_type": "stream",
     "text": [
      "0.9368124\n"
     ]
    },
    {
     "name": "stderr",
     "output_type": "stream",
     "text": [
      "0: 416x416 1 Speed Limit 30, 131.3ms\n",
      "Speed: 4.0ms preprocess, 131.3ms inference, 2.8ms postprocess per image at shape (1, 3, 416, 416)\n",
      "0: 416x416 (no detections), 122.9ms\n",
      "Speed: 3.5ms preprocess, 122.9ms inference, 0.0ms postprocess per image at shape (1, 3, 416, 416)\n",
      "\n",
      "\n",
      "0: 416x416 (no detections), 115.1ms\n",
      "Speed: 2.9ms preprocess, 115.1ms inference, 1.0ms postprocess per image at shape (1, 3, 416, 416)\n",
      "0: 416x416 1 Speed Limit 30, 109.3ms\n",
      "Speed: 2.0ms preprocess, 109.3ms inference, 2.0ms postprocess per image at shape (1, 3, 416, 416)\n",
      "\n"
     ]
    },
    {
     "name": "stdout",
     "output_type": "stream",
     "text": [
      "0.9367789\n",
      "0.9375013\n"
     ]
    },
    {
     "name": "stderr",
     "output_type": "stream",
     "text": [
      "\n",
      "0: 416x416 (no detections), 116.0ms\n",
      "Speed: 3.0ms preprocess, 116.0ms inference, 1.0ms postprocess per image at shape (1, 3, 416, 416)\n",
      "\n",
      "0: 416x416 1 Speed Limit 30, 116.8ms\n",
      "Speed: 2.0ms preprocess, 116.8ms inference, 2.0ms postprocess per image at shape (1, 3, 416, 416)\n",
      "0: 416x416 (no detections), 110.8ms\n",
      "Speed: 4.6ms preprocess, 110.8ms inference, 1.0ms postprocess per image at shape (1, 3, 416, 416)\n",
      "\n",
      "\n",
      "0: 416x416 (no detections), 118.2ms\n"
     ]
    },
    {
     "name": "stdout",
     "output_type": "stream",
     "text": [
      "0.9368973\n"
     ]
    },
    {
     "name": "stderr",
     "output_type": "stream",
     "text": [
      "Speed: 3.0ms preprocess, 118.2ms inference, 1.5ms postprocess per image at shape (1, 3, 416, 416)\n",
      "\n",
      "0: 416x416 1 Speed Limit 30, 118.8ms\n",
      "Speed: 2.5ms preprocess, 118.8ms inference, 2.0ms postprocess per image at shape (1, 3, 416, 416)\n",
      "0: 416x416 (no detections), 110.5ms\n",
      "Speed: 3.0ms preprocess, 110.5ms inference, 1.0ms postprocess per image at shape (1, 3, 416, 416)\n",
      "\n",
      "\n",
      "0: 416x416 1 Speed Limit 30, 114.2ms\n"
     ]
    },
    {
     "name": "stdout",
     "output_type": "stream",
     "text": [
      "0.9369523\n"
     ]
    },
    {
     "name": "stderr",
     "output_type": "stream",
     "text": [
      "Speed: 1.5ms preprocess, 114.2ms inference, 2.0ms postprocess per image at shape (1, 3, 416, 416)\n",
      "0: 416x416 (no detections), 106.2ms\n",
      "Speed: 2.0ms preprocess, 106.2ms inference, 6.1ms postprocess per image at shape (1, 3, 416, 416)\n",
      "\n",
      "0: 416x416 (no detections), 109.8ms\n",
      "Speed: 3.0ms preprocess, 109.8ms inference, 1.0ms postprocess per image at shape (1, 3, 416, 416)\n",
      "\n",
      "\n"
     ]
    },
    {
     "name": "stdout",
     "output_type": "stream",
     "text": [
      "0.9368886\n"
     ]
    },
    {
     "name": "stderr",
     "output_type": "stream",
     "text": [
      "0: 416x416 (no detections), 133.0ms\n",
      "Speed: 7.2ms preprocess, 133.0ms inference, 1.0ms postprocess per image at shape (1, 3, 416, 416)\n",
      "0: 416x416 1 Speed Limit 30, 135.6ms\n",
      "Speed: 3.0ms preprocess, 135.6ms inference, 6.0ms postprocess per image at shape (1, 3, 416, 416)\n",
      "\n",
      "0: 416x416 (no detections), 100.0ms\n",
      "Speed: 3.0ms preprocess, 100.0ms inference, 2.0ms postprocess per image at shape (1, 3, 416, 416)\n",
      "\n",
      "\n"
     ]
    },
    {
     "name": "stdout",
     "output_type": "stream",
     "text": [
      "0.9368243\n"
     ]
    },
    {
     "name": "stderr",
     "output_type": "stream",
     "text": [
      "0: 416x416 1 Speed Limit 30, 116.8ms\n",
      "Speed: 2.0ms preprocess, 116.8ms inference, 2.0ms postprocess per image at shape (1, 3, 416, 416)\n",
      "0: 416x416 (no detections), 113.8ms\n",
      "Speed: 3.0ms preprocess, 113.8ms inference, 2.0ms postprocess per image at shape (1, 3, 416, 416)\n",
      "\n",
      "0: 416x416 (no detections), 109.0ms\n",
      "Speed: 3.5ms preprocess, 109.0ms inference, 0.0ms postprocess per image at shape (1, 3, 416, 416)\n",
      "\n",
      "\n"
     ]
    },
    {
     "name": "stdout",
     "output_type": "stream",
     "text": [
      "0.9371048\n"
     ]
    },
    {
     "name": "stderr",
     "output_type": "stream",
     "text": [
      "0: 416x416 (no detections), 119.3ms\n",
      "Speed: 6.0ms preprocess, 119.3ms inference, 1.0ms postprocess per image at shape (1, 3, 416, 416)\n",
      "0: 416x416 1 Speed Limit 30, 119.3ms\n",
      "Speed: 2.0ms preprocess, 119.3ms inference, 6.5ms postprocess per image at shape (1, 3, 416, 416)\n",
      "\n",
      "0: 416x416 (no detections), 107.1ms\n",
      "Speed: 3.0ms preprocess, 107.1ms inference, 0.0ms postprocess per image at shape (1, 3, 416, 416)\n",
      "\n",
      "\n"
     ]
    },
    {
     "name": "stdout",
     "output_type": "stream",
     "text": [
      "0.9375079\n"
     ]
    },
    {
     "name": "stderr",
     "output_type": "stream",
     "text": [
      "0: 416x416 (no detections), 114.6ms\n",
      "Speed: 8.0ms preprocess, 114.6ms inference, 1.0ms postprocess per image at shape (1, 3, 416, 416)\n",
      "0: 416x416 1 Speed Limit 30, 117.7ms\n",
      "Speed: 1.9ms preprocess, 117.7ms inference, 4.5ms postprocess per image at shape (1, 3, 416, 416)\n",
      "\n",
      "0: 416x416 (no detections), 107.7ms\n",
      "Speed: 4.0ms preprocess, 107.7ms inference, 1.0ms postprocess per image at shape (1, 3, 416, 416)\n",
      "\n",
      "\n"
     ]
    },
    {
     "name": "stdout",
     "output_type": "stream",
     "text": [
      "0.9370423\n"
     ]
    },
    {
     "name": "stderr",
     "output_type": "stream",
     "text": [
      "0: 416x416 (no detections), 122.0ms\n",
      "Speed: 7.1ms preprocess, 122.0ms inference, 1.1ms postprocess per image at shape (1, 3, 416, 416)\n",
      "0: 416x416 1 Speed Limit 30, 123.6ms\n",
      "Speed: 3.0ms preprocess, 123.6ms inference, 6.1ms postprocess per image at shape (1, 3, 416, 416)\n",
      "\n",
      "0: 416x416 (no detections), 107.0ms\n",
      "Speed: 3.0ms preprocess, 107.0ms inference, 1.0ms postprocess per image at shape (1, 3, 416, 416)\n",
      "\n",
      "\n"
     ]
    },
    {
     "name": "stdout",
     "output_type": "stream",
     "text": [
      "0.9367373\n"
     ]
    },
    {
     "name": "stderr",
     "output_type": "stream",
     "text": [
      "0: 416x416 (no detections), 116.6ms\n",
      "Speed: 1.9ms preprocess, 116.6ms inference, 1.0ms postprocess per image at shape (1, 3, 416, 416)\n",
      "0: 416x416 1 Speed Limit 30, 118.3ms\n",
      "Speed: 2.0ms preprocess, 118.3ms inference, 1.0ms postprocess per image at shape (1, 3, 416, 416)\n",
      "\n",
      "\n",
      "0: 416x416 (no detections), 114.1ms\n",
      "Speed: 3.1ms preprocess, 114.1ms inference, 2.2ms postprocess per image at shape (1, 3, 416, 416)\n",
      "\n",
      "0: 416x416 1 Speed Limit 30, 115.1ms\n"
     ]
    },
    {
     "name": "stdout",
     "output_type": "stream",
     "text": [
      "0.93667465\n"
     ]
    },
    {
     "name": "stderr",
     "output_type": "stream",
     "text": [
      "Speed: 2.0ms preprocess, 115.1ms inference, 2.0ms postprocess per image at shape (1, 3, 416, 416)\n",
      "0: 416x416 (no detections), 106.7ms\n",
      "Speed: 4.4ms preprocess, 106.7ms inference, 1.0ms postprocess per image at shape (1, 3, 416, 416)\n",
      "\n",
      "\n"
     ]
    },
    {
     "name": "stdout",
     "output_type": "stream",
     "text": [
      "0.93646926\n"
     ]
    },
    {
     "name": "stderr",
     "output_type": "stream",
     "text": [
      "0: 416x416 (no detections), 113.1ms\n",
      "Speed: 2.6ms preprocess, 113.1ms inference, 0.0ms postprocess per image at shape (1, 3, 416, 416)\n",
      "\n",
      "0: 416x416 1 Speed Limit 30, 122.2ms\n",
      "Speed: 2.0ms preprocess, 122.2ms inference, 2.0ms postprocess per image at shape (1, 3, 416, 416)\n",
      "0: 416x416 (no detections), 106.8ms\n",
      "Speed: 3.2ms preprocess, 106.8ms inference, 1.0ms postprocess per image at shape (1, 3, 416, 416)\n",
      "\n",
      "\n",
      "0: 416x416 (no detections), 111.8ms\n",
      "Speed: 2.5ms preprocess, 111.8ms inference, 1.0ms postprocess per image at shape (1, 3, 416, 416)\n"
     ]
    },
    {
     "name": "stdout",
     "output_type": "stream",
     "text": [
      "0.9367704\n"
     ]
    },
    {
     "name": "stderr",
     "output_type": "stream",
     "text": [
      "0: 416x416 1 Speed Limit 30, 110.8ms\n",
      "Speed: 3.0ms preprocess, 110.8ms inference, 1.0ms postprocess per image at shape (1, 3, 416, 416)\n",
      "\n",
      "0: 416x416 (no detections), 114.5ms\n",
      "Speed: 3.5ms preprocess, 114.5ms inference, 1.0ms postprocess per image at shape (1, 3, 416, 416)\n",
      "\n",
      "\n"
     ]
    },
    {
     "name": "stdout",
     "output_type": "stream",
     "text": [
      "0.9376733\n"
     ]
    },
    {
     "name": "stderr",
     "output_type": "stream",
     "text": [
      "0: 416x416 (no detections), 115.9ms\n",
      "Speed: 3.5ms preprocess, 115.9ms inference, 1.0ms postprocess per image at shape (1, 3, 416, 416)\n",
      "0: 416x416 1 Speed Limit 30, 110.4ms\n",
      "Speed: 2.1ms preprocess, 110.4ms inference, 2.0ms postprocess per image at shape (1, 3, 416, 416)\n",
      "\n",
      "0: 416x416 (no detections), 108.2ms\n",
      "Speed: 2.0ms preprocess, 108.2ms inference, 1.0ms postprocess per image at shape (1, 3, 416, 416)\n",
      "\n",
      "\n"
     ]
    },
    {
     "name": "stdout",
     "output_type": "stream",
     "text": [
      "0.9366435\n"
     ]
    },
    {
     "name": "stderr",
     "output_type": "stream",
     "text": [
      "0: 416x416 (no detections), 117.1ms\n",
      "Speed: 4.0ms preprocess, 117.1ms inference, 1.0ms postprocess per image at shape (1, 3, 416, 416)\n",
      "0: 416x416 1 Speed Limit 30, 111.4ms\n",
      "Speed: 3.0ms preprocess, 111.4ms inference, 2.0ms postprocess per image at shape (1, 3, 416, 416)\n",
      "\n",
      "0: 416x416 (no detections), 108.7ms\n",
      "Speed: 4.3ms preprocess, 108.7ms inference, 0.5ms postprocess per image at shape (1, 3, 416, 416)\n",
      "\n",
      "\n"
     ]
    },
    {
     "name": "stdout",
     "output_type": "stream",
     "text": [
      "0.93682986\n"
     ]
    },
    {
     "name": "stderr",
     "output_type": "stream",
     "text": [
      "0: 416x416 (no detections), 124.8ms\n",
      "Speed: 3.0ms preprocess, 124.8ms inference, 1.0ms postprocess per image at shape (1, 3, 416, 416)\n",
      "\n",
      "0: 416x416 1 Speed Limit 30, 118.9ms\n",
      "Speed: 3.5ms preprocess, 118.9ms inference, 7.0ms postprocess per image at shape (1, 3, 416, 416)\n",
      "\n",
      "0: 416x416 (no detections), 119.9ms\n",
      "Speed: 4.0ms preprocess, 119.9ms inference, 1.0ms postprocess per image at shape (1, 3, 416, 416)\n",
      "\n",
      "0: 416x416 1 Speed Limit 30, 121.1ms\n"
     ]
    },
    {
     "name": "stdout",
     "output_type": "stream",
     "text": [
      "0.9365731\n"
     ]
    },
    {
     "name": "stderr",
     "output_type": "stream",
     "text": [
      "Speed: 4.0ms preprocess, 121.1ms inference, 1.0ms postprocess per image at shape (1, 3, 416, 416)\n",
      "0: 416x416 (no detections), 111.7ms\n",
      "Speed: 3.0ms preprocess, 111.7ms inference, 2.0ms postprocess per image at shape (1, 3, 416, 416)\n",
      "\n",
      "\n"
     ]
    },
    {
     "name": "stdout",
     "output_type": "stream",
     "text": [
      "0.9366645\n"
     ]
    },
    {
     "name": "stderr",
     "output_type": "stream",
     "text": [
      "0: 416x416 (no detections), 144.0ms\n",
      "Speed: 3.0ms preprocess, 144.0ms inference, 1.0ms postprocess per image at shape (1, 3, 416, 416)\n",
      "\n",
      "0: 416x416 1 Speed Limit 30, 129.9ms\n",
      "Speed: 5.0ms preprocess, 129.9ms inference, 2.5ms postprocess per image at shape (1, 3, 416, 416)\n",
      "0: 416x416 (no detections), 106.2ms\n",
      "Speed: 3.1ms preprocess, 106.2ms inference, 1.0ms postprocess per image at shape (1, 3, 416, 416)\n",
      "\n",
      "\n",
      "0: 416x416 (no detections), 115.4ms\n"
     ]
    },
    {
     "name": "stdout",
     "output_type": "stream",
     "text": [
      "0.9372691\n"
     ]
    },
    {
     "name": "stderr",
     "output_type": "stream",
     "text": [
      "Speed: 2.9ms preprocess, 115.4ms inference, 1.5ms postprocess per image at shape (1, 3, 416, 416)\n",
      "\n",
      "0: 416x416 1 Speed Limit 30, 122.6ms\n",
      "Speed: 3.0ms preprocess, 122.6ms inference, 1.0ms postprocess per image at shape (1, 3, 416, 416)\n",
      "0: 416x416 (no detections), 109.5ms\n",
      "Speed: 2.0ms preprocess, 109.5ms inference, 1.0ms postprocess per image at shape (1, 3, 416, 416)\n",
      "\n",
      "\n",
      "0: 416x416 (no detections), 113.2ms\n"
     ]
    },
    {
     "name": "stdout",
     "output_type": "stream",
     "text": [
      "0.93704754\n"
     ]
    },
    {
     "name": "stderr",
     "output_type": "stream",
     "text": [
      "Speed: 2.0ms preprocess, 113.2ms inference, 1.0ms postprocess per image at shape (1, 3, 416, 416)\n",
      "\n",
      "0: 416x416 1 Speed Limit 30, 127.6ms\n",
      "Speed: 2.0ms preprocess, 127.6ms inference, 2.0ms postprocess per image at shape (1, 3, 416, 416)\n",
      "0: 416x416 (no detections), 121.4ms\n",
      "Speed: 2.5ms preprocess, 121.4ms inference, 1.0ms postprocess per image at shape (1, 3, 416, 416)\n",
      "\n",
      "\n",
      "0: 416x416 (no detections), 116.9ms\n"
     ]
    },
    {
     "name": "stdout",
     "output_type": "stream",
     "text": [
      "0.9370239\n"
     ]
    },
    {
     "name": "stderr",
     "output_type": "stream",
     "text": [
      "Speed: 3.2ms preprocess, 116.9ms inference, 1.0ms postprocess per image at shape (1, 3, 416, 416)\n",
      "\n",
      "0: 416x416 1 Speed Limit 30, 117.1ms\n",
      "Speed: 2.5ms preprocess, 117.1ms inference, 2.0ms postprocess per image at shape (1, 3, 416, 416)\n",
      "0: 416x416 (no detections), 107.6ms\n",
      "Speed: 3.0ms preprocess, 107.6ms inference, 1.0ms postprocess per image at shape (1, 3, 416, 416)\n",
      "\n",
      "\n",
      "0: 416x416 (no detections), 119.0ms\n"
     ]
    },
    {
     "name": "stdout",
     "output_type": "stream",
     "text": [
      "0.93644994\n"
     ]
    },
    {
     "name": "stderr",
     "output_type": "stream",
     "text": [
      "Speed: 4.5ms preprocess, 119.0ms inference, 1.0ms postprocess per image at shape (1, 3, 416, 416)\n",
      "\n",
      "0: 416x416 1 Speed Limit 30, 136.5ms\n",
      "Speed: 2.5ms preprocess, 136.5ms inference, 2.5ms postprocess per image at shape (1, 3, 416, 416)\n",
      "0: 416x416 (no detections), 124.7ms\n",
      "Speed: 3.5ms preprocess, 124.7ms inference, 1.1ms postprocess per image at shape (1, 3, 416, 416)\n",
      "\n",
      "\n",
      "0: 416x416 1 Speed Limit 30, 110.8ms\n",
      "Speed: 2.7ms preprocess, 110.8ms inference, 3.2ms postprocess per image at shape (1, 3, 416, 416)\n",
      "0: 416x416 (no detections), 106.2ms\n"
     ]
    },
    {
     "name": "stdout",
     "output_type": "stream",
     "text": [
      "0.9368163\n",
      "0.9374856\n"
     ]
    },
    {
     "name": "stderr",
     "output_type": "stream",
     "text": [
      "Speed: 2.5ms preprocess, 106.2ms inference, 1.0ms postprocess per image at shape (1, 3, 416, 416)\n",
      "\n",
      "\n",
      "0: 416x416 (no detections), 109.3ms\n",
      "Speed: 4.0ms preprocess, 109.3ms inference, 1.3ms postprocess per image at shape (1, 3, 416, 416)\n",
      "\n",
      "0: 416x416 1 Speed Limit 30, 115.2ms\n",
      "Speed: 3.0ms preprocess, 115.2ms inference, 2.0ms postprocess per image at shape (1, 3, 416, 416)\n",
      "0: 416x416 (no detections), 107.9ms\n",
      "Speed: 2.6ms preprocess, 107.9ms inference, 1.0ms postprocess per image at shape (1, 3, 416, 416)\n",
      "\n",
      "0: 416x416 (no detections), 107.6ms\n",
      "Speed: 4.0ms preprocess, 107.6ms inference, 1.0ms postprocess per image at shape (1, 3, 416, 416)\n",
      "\n",
      "\n"
     ]
    },
    {
     "name": "stdout",
     "output_type": "stream",
     "text": [
      "0.93687296\n"
     ]
    },
    {
     "name": "stderr",
     "output_type": "stream",
     "text": [
      "0: 416x416 (no detections), 120.0ms\n",
      "Speed: 4.0ms preprocess, 120.0ms inference, 2.0ms postprocess per image at shape (1, 3, 416, 416)\n",
      "0: 416x416 1 Speed Limit 30, 122.0ms\n",
      "Speed: 7.2ms preprocess, 122.0ms inference, 3.0ms postprocess per image at shape (1, 3, 416, 416)\n",
      "\n",
      "\n",
      "0: 416x416 (no detections), 117.0ms\n",
      "Speed: 3.0ms preprocess, 117.0ms inference, 2.0ms postprocess per image at shape (1, 3, 416, 416)\n",
      "\n",
      "0: 416x416 1 Speed Limit 30, 121.4ms\n"
     ]
    },
    {
     "name": "stdout",
     "output_type": "stream",
     "text": [
      "0.9369092\n"
     ]
    },
    {
     "name": "stderr",
     "output_type": "stream",
     "text": [
      "Speed: 2.0ms preprocess, 121.4ms inference, 2.5ms postprocess per image at shape (1, 3, 416, 416)\n",
      "\n",
      "0: 416x416 (no detections), 135.9ms\n",
      "Speed: 4.0ms preprocess, 135.9ms inference, 1.0ms postprocess per image at shape (1, 3, 416, 416)\n",
      "\n"
     ]
    },
    {
     "name": "stdout",
     "output_type": "stream",
     "text": [
      "0.93718785\n"
     ]
    },
    {
     "name": "stderr",
     "output_type": "stream",
     "text": [
      "0: 416x416 1 Speed Limit 30, 137.8ms\n",
      "Speed: 3.0ms preprocess, 137.8ms inference, 2.0ms postprocess per image at shape (1, 3, 416, 416)\n",
      "0: 416x416 (no detections), 123.5ms\n",
      "Speed: 3.0ms preprocess, 123.5ms inference, 1.5ms postprocess per image at shape (1, 3, 416, 416)\n",
      "\n",
      "\n",
      "0: 416x416 (no detections), 115.0ms\n"
     ]
    },
    {
     "name": "stdout",
     "output_type": "stream",
     "text": [
      "0.9369297\n"
     ]
    },
    {
     "name": "stderr",
     "output_type": "stream",
     "text": [
      "Speed: 3.0ms preprocess, 115.0ms inference, 2.0ms postprocess per image at shape (1, 3, 416, 416)\n",
      "\n",
      "0: 416x416 1 Speed Limit 30, 123.1ms\n",
      "Speed: 2.5ms preprocess, 123.1ms inference, 2.0ms postprocess per image at shape (1, 3, 416, 416)\n",
      "0: 416x416 (no detections), 107.3ms\n",
      "Speed: 4.0ms preprocess, 107.3ms inference, 1.0ms postprocess per image at shape (1, 3, 416, 416)\n",
      "\n",
      "\n"
     ]
    },
    {
     "name": "stdout",
     "output_type": "stream",
     "text": [
      "0.93671155\n"
     ]
    },
    {
     "name": "stderr",
     "output_type": "stream",
     "text": [
      "0: 416x416 (no detections), 118.9ms\n",
      "Speed: 2.5ms preprocess, 118.9ms inference, 1.0ms postprocess per image at shape (1, 3, 416, 416)\n",
      "\n",
      "0: 416x416 1 Speed Limit 30, 116.2ms\n",
      "Speed: 2.0ms preprocess, 116.2ms inference, 2.5ms postprocess per image at shape (1, 3, 416, 416)\n",
      "0: 416x416 (no detections), 111.6ms\n",
      "Speed: 3.5ms preprocess, 111.6ms inference, 1.0ms postprocess per image at shape (1, 3, 416, 416)\n",
      "\n",
      "\n",
      "0: 416x416 (no detections), 118.4ms\n"
     ]
    },
    {
     "name": "stdout",
     "output_type": "stream",
     "text": [
      "0.9372291\n"
     ]
    },
    {
     "name": "stderr",
     "output_type": "stream",
     "text": [
      "Speed: 3.5ms preprocess, 118.4ms inference, 0.0ms postprocess per image at shape (1, 3, 416, 416)\n",
      "\n",
      "0: 416x416 1 Speed Limit 30, 121.0ms\n",
      "Speed: 3.5ms preprocess, 121.0ms inference, 2.0ms postprocess per image at shape (1, 3, 416, 416)\n",
      "0: 416x416 (no detections), 110.9ms\n",
      "Speed: 3.0ms preprocess, 110.9ms inference, 1.0ms postprocess per image at shape (1, 3, 416, 416)\n",
      "\n",
      "\n",
      "0: 416x416 1 Speed Limit 30, 116.9ms\n"
     ]
    },
    {
     "name": "stdout",
     "output_type": "stream",
     "text": [
      "0.9367151\n"
     ]
    },
    {
     "name": "stderr",
     "output_type": "stream",
     "text": [
      "Speed: 2.5ms preprocess, 116.9ms inference, 2.0ms postprocess per image at shape (1, 3, 416, 416)\n",
      "0: 416x416 (no detections), 116.9ms\n",
      "Speed: 3.5ms preprocess, 116.9ms inference, 0.0ms postprocess per image at shape (1, 3, 416, 416)\n",
      "\n",
      "\n",
      "0: 416x416 (no detections), 124.1ms\n",
      "Speed: 3.0ms preprocess, 124.1ms inference, 1.0ms postprocess per image at shape (1, 3, 416, 416)\n",
      "\n"
     ]
    },
    {
     "name": "stdout",
     "output_type": "stream",
     "text": [
      "0.9367629\n"
     ]
    },
    {
     "name": "stderr",
     "output_type": "stream",
     "text": [
      "0: 416x416 1 Speed Limit 30, 119.3ms\n",
      "Speed: 3.0ms preprocess, 119.3ms inference, 2.0ms postprocess per image at shape (1, 3, 416, 416)\n",
      "0: 416x416 (no detections), 104.9ms\n",
      "Speed: 4.1ms preprocess, 104.9ms inference, 1.0ms postprocess per image at shape (1, 3, 416, 416)\n",
      "\n",
      "\n"
     ]
    },
    {
     "name": "stdout",
     "output_type": "stream",
     "text": [
      "0.93662214\n"
     ]
    },
    {
     "name": "stderr",
     "output_type": "stream",
     "text": [
      "0: 416x416 (no detections), 115.0ms\n",
      "Speed: 2.0ms preprocess, 115.0ms inference, 2.0ms postprocess per image at shape (1, 3, 416, 416)\n",
      "\n",
      "0: 416x416 1 Speed Limit 30, 123.7ms\n",
      "Speed: 3.0ms preprocess, 123.7ms inference, 2.1ms postprocess per image at shape (1, 3, 416, 416)\n",
      "0: 416x416 (no detections), 109.4ms\n",
      "Speed: 3.5ms preprocess, 109.4ms inference, 1.0ms postprocess per image at shape (1, 3, 416, 416)\n",
      "\n",
      "\n"
     ]
    },
    {
     "name": "stdout",
     "output_type": "stream",
     "text": [
      "0.93680924\n"
     ]
    },
    {
     "name": "stderr",
     "output_type": "stream",
     "text": [
      "0: 416x416 (no detections), 123.5ms\n",
      "Speed: 2.0ms preprocess, 123.5ms inference, 1.0ms postprocess per image at shape (1, 3, 416, 416)\n",
      "\n",
      "0: 416x416 1 Speed Limit 30, 127.6ms\n",
      "Speed: 3.0ms preprocess, 127.6ms inference, 1.0ms postprocess per image at shape (1, 3, 416, 416)\n",
      "0: 416x416 (no detections), 115.6ms\n",
      "Speed: 4.1ms preprocess, 115.6ms inference, 1.0ms postprocess per image at shape (1, 3, 416, 416)\n",
      "\n",
      "\n"
     ]
    },
    {
     "name": "stdout",
     "output_type": "stream",
     "text": [
      "0.93681\n"
     ]
    },
    {
     "name": "stderr",
     "output_type": "stream",
     "text": [
      "0: 416x416 (no detections), 117.6ms\n",
      "Speed: 2.0ms preprocess, 117.6ms inference, 1.5ms postprocess per image at shape (1, 3, 416, 416)\n",
      "\n",
      "0: 416x416 1 Speed Limit 30, 121.9ms\n",
      "Speed: 2.0ms preprocess, 121.9ms inference, 1.0ms postprocess per image at shape (1, 3, 416, 416)\n",
      "0: 416x416 (no detections), 113.0ms\n",
      "Speed: 3.5ms preprocess, 113.0ms inference, 1.5ms postprocess per image at shape (1, 3, 416, 416)\n",
      "\n",
      "\n"
     ]
    },
    {
     "name": "stdout",
     "output_type": "stream",
     "text": [
      "0.93725985\n"
     ]
    },
    {
     "name": "stderr",
     "output_type": "stream",
     "text": [
      "0: 416x416 (no detections), 117.7ms\n",
      "Speed: 2.6ms preprocess, 117.7ms inference, 1.5ms postprocess per image at shape (1, 3, 416, 416)\n",
      "\n",
      "0: 416x416 1 Speed Limit 30, 118.8ms\n",
      "Speed: 3.0ms preprocess, 118.8ms inference, 2.4ms postprocess per image at shape (1, 3, 416, 416)\n",
      "\n",
      "0: 416x416 (no detections), 111.3ms\n",
      "Speed: 3.0ms preprocess, 111.3ms inference, 1.2ms postprocess per image at shape (1, 3, 416, 416)\n",
      "\n",
      "0: 416x416 1 Speed Limit 30, 111.0ms\n"
     ]
    },
    {
     "name": "stdout",
     "output_type": "stream",
     "text": [
      "0.9369934\n"
     ]
    },
    {
     "name": "stderr",
     "output_type": "stream",
     "text": [
      "Speed: 3.0ms preprocess, 111.0ms inference, 2.1ms postprocess per image at shape (1, 3, 416, 416)\n",
      "0: 416x416 (no detections), 105.5ms\n",
      "Speed: 3.0ms preprocess, 105.5ms inference, 1.0ms postprocess per image at shape (1, 3, 416, 416)\n",
      "\n",
      "\n",
      "0: 416x416 (no detections), 106.1ms\n",
      "Speed: 3.1ms preprocess, 106.1ms inference, 1.0ms postprocess per image at shape (1, 3, 416, 416)\n",
      "\n"
     ]
    },
    {
     "name": "stdout",
     "output_type": "stream",
     "text": [
      "0.93672264\n"
     ]
    },
    {
     "name": "stderr",
     "output_type": "stream",
     "text": [
      "0: 416x416 1 Speed Limit 30, 118.9ms\n",
      "Speed: 3.0ms preprocess, 118.9ms inference, 2.0ms postprocess per image at shape (1, 3, 416, 416)\n",
      "0: 416x416 (no detections), 108.6ms\n",
      "Speed: 3.3ms preprocess, 108.6ms inference, 1.0ms postprocess per image at shape (1, 3, 416, 416)\n",
      "\n",
      "0: 416x416 (no detections), 108.9ms\n",
      "Speed: 2.0ms preprocess, 108.9ms inference, 1.0ms postprocess per image at shape (1, 3, 416, 416)\n",
      "\n",
      "\n"
     ]
    },
    {
     "name": "stdout",
     "output_type": "stream",
     "text": [
      "0.9370218\n"
     ]
    },
    {
     "name": "stderr",
     "output_type": "stream",
     "text": [
      "0: 416x416 1 Speed Limit 30, 118.5ms\n",
      "Speed: 2.5ms preprocess, 118.5ms inference, 2.5ms postprocess per image at shape (1, 3, 416, 416)\n",
      "0: 416x416 (no detections), 114.2ms\n",
      "Speed: 4.5ms preprocess, 114.2ms inference, 0.0ms postprocess per image at shape (1, 3, 416, 416)\n",
      "\n",
      "\n",
      "0: 416x416 (no detections), 112.8ms\n",
      "Speed: 3.0ms preprocess, 112.8ms inference, 1.0ms postprocess per image at shape (1, 3, 416, 416)\n",
      "\n",
      "0: 416x416 1 Speed Limit 30, 112.2ms\n"
     ]
    },
    {
     "name": "stdout",
     "output_type": "stream",
     "text": [
      "0.9368172\n"
     ]
    },
    {
     "name": "stderr",
     "output_type": "stream",
     "text": [
      "Speed: 2.0ms preprocess, 112.2ms inference, 2.0ms postprocess per image at shape (1, 3, 416, 416)\n",
      "0: 416x416 (no detections), 106.8ms\n",
      "Speed: 3.0ms preprocess, 106.8ms inference, 1.0ms postprocess per image at shape (1, 3, 416, 416)\n",
      "\n",
      "\n"
     ]
    },
    {
     "name": "stdout",
     "output_type": "stream",
     "text": [
      "0.9369218\n"
     ]
    },
    {
     "name": "stderr",
     "output_type": "stream",
     "text": [
      "0: 416x416 (no detections), 118.5ms\n",
      "Speed: 2.5ms preprocess, 118.5ms inference, 1.0ms postprocess per image at shape (1, 3, 416, 416)\n",
      "\n",
      "0: 416x416 1 Speed Limit 30, 116.2ms\n",
      "Speed: 2.0ms preprocess, 116.2ms inference, 2.0ms postprocess per image at shape (1, 3, 416, 416)\n",
      "0: 416x416 (no detections), 107.1ms\n",
      "Speed: 3.0ms preprocess, 107.1ms inference, 1.0ms postprocess per image at shape (1, 3, 416, 416)\n",
      "\n",
      "\n"
     ]
    },
    {
     "name": "stdout",
     "output_type": "stream",
     "text": [
      "0.9370803\n"
     ]
    },
    {
     "name": "stderr",
     "output_type": "stream",
     "text": [
      "0: 416x416 (no detections), 121.1ms\n",
      "Speed: 3.0ms preprocess, 121.1ms inference, 1.1ms postprocess per image at shape (1, 3, 416, 416)\n",
      "\n",
      "0: 416x416 1 Speed Limit 30, 120.2ms\n",
      "Speed: 2.0ms preprocess, 120.2ms inference, 2.0ms postprocess per image at shape (1, 3, 416, 416)\n",
      "\n",
      "0: 416x416 (no detections), 110.0ms\n",
      "Speed: 4.0ms preprocess, 110.0ms inference, 2.0ms postprocess per image at shape (1, 3, 416, 416)\n",
      "\n",
      "0: 416x416 1 Speed Limit 30, 117.6ms\n"
     ]
    },
    {
     "name": "stdout",
     "output_type": "stream",
     "text": [
      "0.9365426\n"
     ]
    },
    {
     "name": "stderr",
     "output_type": "stream",
     "text": [
      "Speed: 1.9ms preprocess, 117.6ms inference, 2.0ms postprocess per image at shape (1, 3, 416, 416)\n",
      "0: 416x416 (no detections), 106.5ms\n",
      "Speed: 3.0ms preprocess, 106.5ms inference, 1.2ms postprocess per image at shape (1, 3, 416, 416)\n",
      "\n",
      "\n",
      "0: 416x416 (no detections), 121.3ms\n",
      "Speed: 3.0ms preprocess, 121.3ms inference, 1.0ms postprocess per image at shape (1, 3, 416, 416)\n"
     ]
    },
    {
     "name": "stdout",
     "output_type": "stream",
     "text": [
      "0.9367329\n"
     ]
    },
    {
     "name": "stderr",
     "output_type": "stream",
     "text": [
      "\n",
      "0: 416x416 1 Speed Limit 30, 116.6ms\n",
      "Speed: 3.5ms preprocess, 116.6ms inference, 2.0ms postprocess per image at shape (1, 3, 416, 416)\n",
      "0: 416x416 (no detections), 106.0ms\n",
      "Speed: 3.9ms preprocess, 106.0ms inference, 1.1ms postprocess per image at shape (1, 3, 416, 416)\n",
      "\n",
      "0: 416x416 (no detections), 107.3ms\n",
      "Speed: 4.0ms preprocess, 107.3ms inference, 1.0ms postprocess per image at shape (1, 3, 416, 416)\n",
      "\n",
      "\n"
     ]
    },
    {
     "name": "stdout",
     "output_type": "stream",
     "text": [
      "0.9374861\n"
     ]
    },
    {
     "name": "stderr",
     "output_type": "stream",
     "text": [
      "0: 416x416 1 Speed Limit 30, 115.3ms\n",
      "Speed: 2.0ms preprocess, 115.3ms inference, 2.0ms postprocess per image at shape (1, 3, 416, 416)\n",
      "0: 416x416 (no detections), 114.5ms\n",
      "Speed: 2.5ms preprocess, 114.5ms inference, 0.0ms postprocess per image at shape (1, 3, 416, 416)\n",
      "\n",
      "0: 416x416 (no detections), 109.3ms\n",
      "Speed: 3.1ms preprocess, 109.3ms inference, 1.0ms postprocess per image at shape (1, 3, 416, 416)\n",
      "\n",
      "\n"
     ]
    },
    {
     "name": "stdout",
     "output_type": "stream",
     "text": [
      "0.93706566\n"
     ]
    },
    {
     "name": "stderr",
     "output_type": "stream",
     "text": [
      "0: 416x416 1 Speed Limit 30, 118.2ms\n",
      "Speed: 4.0ms preprocess, 118.2ms inference, 1.0ms postprocess per image at shape (1, 3, 416, 416)\n",
      "0: 416x416 (no detections), 112.7ms\n",
      "Speed: 3.0ms preprocess, 112.7ms inference, 1.0ms postprocess per image at shape (1, 3, 416, 416)\n",
      "\n",
      "\n",
      "0: 416x416 (no detections), 111.8ms\n",
      "Speed: 3.0ms preprocess, 111.8ms inference, 1.0ms postprocess per image at shape (1, 3, 416, 416)\n"
     ]
    },
    {
     "name": "stdout",
     "output_type": "stream",
     "text": [
      "0.9369873\n"
     ]
    },
    {
     "name": "stderr",
     "output_type": "stream",
     "text": [
      "\n",
      "0: 416x416 1 Speed Limit 30, 138.0ms\n",
      "Speed: 3.0ms preprocess, 138.0ms inference, 1.0ms postprocess per image at shape (1, 3, 416, 416)\n",
      "0: 416x416 (no detections), 125.4ms\n",
      "Speed: 3.5ms preprocess, 125.4ms inference, 1.0ms postprocess per image at shape (1, 3, 416, 416)\n",
      "\n",
      "\n",
      "0: 416x416 (no detections), 118.5ms\n",
      "Speed: 3.0ms preprocess, 118.5ms inference, 1.0ms postprocess per image at shape (1, 3, 416, 416)\n",
      "\n"
     ]
    },
    {
     "name": "stdout",
     "output_type": "stream",
     "text": [
      "0.9371897\n"
     ]
    },
    {
     "name": "stderr",
     "output_type": "stream",
     "text": [
      "0: 416x416 1 Speed Limit 30, 116.4ms\n",
      "Speed: 2.2ms preprocess, 116.4ms inference, 2.0ms postprocess per image at shape (1, 3, 416, 416)\n",
      "0: 416x416 (no detections), 109.8ms\n",
      "Speed: 3.0ms preprocess, 109.8ms inference, 1.0ms postprocess per image at shape (1, 3, 416, 416)\n",
      "\n",
      "\n",
      "0: 416x416 (no detections), 119.3ms\n"
     ]
    },
    {
     "name": "stdout",
     "output_type": "stream",
     "text": [
      "0.93755853\n"
     ]
    },
    {
     "name": "stderr",
     "output_type": "stream",
     "text": [
      "Speed: 4.0ms preprocess, 119.3ms inference, 2.0ms postprocess per image at shape (1, 3, 416, 416)\n",
      "\n",
      "0: 416x416 1 Speed Limit 30, 123.4ms\n",
      "Speed: 2.2ms preprocess, 123.4ms inference, 2.0ms postprocess per image at shape (1, 3, 416, 416)\n",
      "0: 416x416 (no detections), 112.6ms\n",
      "Speed: 3.6ms preprocess, 112.6ms inference, 1.0ms postprocess per image at shape (1, 3, 416, 416)\n",
      "\n",
      "\n",
      "0: 416x416 (no detections), 112.0ms\n",
      "Speed: 3.1ms preprocess, 112.0ms inference, 2.0ms postprocess per image at shape (1, 3, 416, 416)\n",
      "0: 416x416 1 Speed Limit 30, 111.8ms\n"
     ]
    },
    {
     "name": "stdout",
     "output_type": "stream",
     "text": [
      "0.9371314\n"
     ]
    },
    {
     "name": "stderr",
     "output_type": "stream",
     "text": [
      "Speed: 2.4ms preprocess, 111.8ms inference, 2.0ms postprocess per image at shape (1, 3, 416, 416)\n",
      "\n",
      "0: 416x416 (no detections), 115.1ms\n",
      "Speed: 3.5ms preprocess, 115.1ms inference, 1.0ms postprocess per image at shape (1, 3, 416, 416)\n",
      "\n",
      "\n"
     ]
    },
    {
     "name": "stdout",
     "output_type": "stream",
     "text": [
      "0.93702936\n"
     ]
    },
    {
     "name": "stderr",
     "output_type": "stream",
     "text": [
      "0: 416x416 (no detections), 122.0ms\n",
      "Speed: 3.0ms preprocess, 122.0ms inference, 0.0ms postprocess per image at shape (1, 3, 416, 416)\n",
      "\n",
      "0: 416x416 1 Speed Limit 30, 118.6ms\n",
      "Speed: 2.5ms preprocess, 118.6ms inference, 6.5ms postprocess per image at shape (1, 3, 416, 416)\n",
      "0: 416x416 (no detections), 116.3ms\n",
      "Speed: 4.0ms preprocess, 116.3ms inference, 1.0ms postprocess per image at shape (1, 3, 416, 416)\n",
      "\n",
      "\n"
     ]
    },
    {
     "name": "stdout",
     "output_type": "stream",
     "text": [
      "0.93746465\n"
     ]
    },
    {
     "name": "stderr",
     "output_type": "stream",
     "text": [
      "0: 416x416 (no detections), 112.2ms\n",
      "Speed: 4.0ms preprocess, 112.2ms inference, 2.0ms postprocess per image at shape (1, 3, 416, 416)\n",
      "0: 416x416 1 Speed Limit 30, 113.5ms\n",
      "Speed: 2.0ms preprocess, 113.5ms inference, 2.0ms postprocess per image at shape (1, 3, 416, 416)\n",
      "\n",
      "0: 416x416 (no detections), 108.7ms\n",
      "Speed: 3.0ms preprocess, 108.7ms inference, 1.0ms postprocess per image at shape (1, 3, 416, 416)\n",
      "\n",
      "\n"
     ]
    },
    {
     "name": "stdout",
     "output_type": "stream",
     "text": [
      "0.9366012\n"
     ]
    },
    {
     "name": "stderr",
     "output_type": "stream",
     "text": [
      "0: 416x416 (no detections), 117.9ms\n",
      "Speed: 3.4ms preprocess, 117.9ms inference, 1.0ms postprocess per image at shape (1, 3, 416, 416)\n",
      "0: 416x416 1 Speed Limit 30, 116.2ms\n",
      "\n",
      "Speed: 3.0ms preprocess, 116.2ms inference, 1.0ms postprocess per image at shape (1, 3, 416, 416)\n",
      "0: 416x416 (no detections), 114.6ms\n",
      "Speed: 4.3ms preprocess, 114.6ms inference, 1.5ms postprocess per image at shape (1, 3, 416, 416)\n",
      "\n",
      "\n"
     ]
    },
    {
     "name": "stdout",
     "output_type": "stream",
     "text": [
      "0.93685204\n"
     ]
    },
    {
     "name": "stderr",
     "output_type": "stream",
     "text": [
      "0: 416x416 (no detections), 116.9ms\n",
      "Speed: 4.0ms preprocess, 116.9ms inference, 1.0ms postprocess per image at shape (1, 3, 416, 416)\n",
      "0: 416x416 1 Speed Limit 30, 113.1ms\n",
      "Speed: 3.0ms preprocess, 113.1ms inference, 1.0ms postprocess per image at shape (1, 3, 416, 416)\n",
      "\n",
      "0: 416x416 (no detections), 111.7ms\n",
      "Speed: 4.0ms preprocess, 111.7ms inference, 1.0ms postprocess per image at shape (1, 3, 416, 416)\n",
      "\n",
      "\n"
     ]
    },
    {
     "name": "stdout",
     "output_type": "stream",
     "text": [
      "0.93685687\n"
     ]
    },
    {
     "name": "stderr",
     "output_type": "stream",
     "text": [
      "0: 416x416 (no detections), 129.9ms\n",
      "Speed: 3.0ms preprocess, 129.9ms inference, 1.2ms postprocess per image at shape (1, 3, 416, 416)\n",
      "0: 416x416 1 Speed Limit 30, 125.6ms\n",
      "Speed: 3.0ms preprocess, 125.6ms inference, 4.0ms postprocess per image at shape (1, 3, 416, 416)\n",
      "\n",
      "0: 416x416 (no detections), 100.5ms\n",
      "Speed: 3.0ms preprocess, 100.5ms inference, 1.0ms postprocess per image at shape (1, 3, 416, 416)\n",
      "\n",
      "\n"
     ]
    },
    {
     "name": "stdout",
     "output_type": "stream",
     "text": [
      "0.93733066\n"
     ]
    },
    {
     "name": "stderr",
     "output_type": "stream",
     "text": [
      "0: 416x416 1 Speed Limit 30, 124.6ms\n",
      "Speed: 2.0ms preprocess, 124.6ms inference, 1.5ms postprocess per image at shape (1, 3, 416, 416)\n",
      "0: 416x416 (no detections), 120.9ms\n",
      "Speed: 3.5ms preprocess, 120.9ms inference, 1.0ms postprocess per image at shape (1, 3, 416, 416)\n",
      "\n",
      "0: 416x416 (no detections), 101.7ms\n",
      "Speed: 3.0ms preprocess, 101.7ms inference, 0.5ms postprocess per image at shape (1, 3, 416, 416)\n",
      "\n",
      "\n"
     ]
    },
    {
     "name": "stdout",
     "output_type": "stream",
     "text": [
      "0.936989\n"
     ]
    },
    {
     "name": "stderr",
     "output_type": "stream",
     "text": [
      "0: 416x416 (no detections), 110.5ms\n",
      "Speed: 2.5ms preprocess, 110.5ms inference, 1.0ms postprocess per image at shape (1, 3, 416, 416)\n",
      "0: 416x416 1 Speed Limit 30, 107.1ms\n",
      "Speed: 3.0ms preprocess, 107.1ms inference, 2.0ms postprocess per image at shape (1, 3, 416, 416)\n",
      "\n",
      "0: 416x416 (no detections), 104.0ms\n",
      "Speed: 2.5ms preprocess, 104.0ms inference, 0.0ms postprocess per image at shape (1, 3, 416, 416)\n",
      "\n",
      "\n"
     ]
    },
    {
     "name": "stdout",
     "output_type": "stream",
     "text": [
      "0.93675977\n"
     ]
    },
    {
     "name": "stderr",
     "output_type": "stream",
     "text": [
      "0: 416x416 (no detections), 116.1ms\n",
      "Speed: 3.5ms preprocess, 116.1ms inference, 2.0ms postprocess per image at shape (1, 3, 416, 416)\n",
      "\n",
      "0: 416x416 1 Speed Limit 30, 110.8ms\n",
      "Speed: 2.5ms preprocess, 110.8ms inference, 2.5ms postprocess per image at shape (1, 3, 416, 416)\n",
      "0: 416x416 (no detections), 115.6ms\n",
      "Speed: 3.0ms preprocess, 115.6ms inference, 1.0ms postprocess per image at shape (1, 3, 416, 416)\n",
      "\n",
      "\n"
     ]
    },
    {
     "name": "stdout",
     "output_type": "stream",
     "text": [
      "0.9370803\n"
     ]
    },
    {
     "name": "stderr",
     "output_type": "stream",
     "text": [
      "0: 416x416 (no detections), 105.6ms\n",
      "Speed: 3.7ms preprocess, 105.6ms inference, 0.9ms postprocess per image at shape (1, 3, 416, 416)\n",
      "\n",
      "0: 416x416 1 Speed Limit 30, 112.3ms\n",
      "Speed: 3.0ms preprocess, 112.3ms inference, 2.0ms postprocess per image at shape (1, 3, 416, 416)\n",
      "0: 416x416 (no detections), 101.9ms\n",
      "Speed: 3.0ms preprocess, 101.9ms inference, 1.5ms postprocess per image at shape (1, 3, 416, 416)\n",
      "\n",
      "\n"
     ]
    },
    {
     "name": "stdout",
     "output_type": "stream",
     "text": [
      "0.9375689\n"
     ]
    },
    {
     "name": "stderr",
     "output_type": "stream",
     "text": [
      "0: 416x416 (no detections), 116.2ms\n",
      "Speed: 2.0ms preprocess, 116.2ms inference, 1.0ms postprocess per image at shape (1, 3, 416, 416)\n",
      "\n",
      "0: 416x416 1 Speed Limit 30, 113.9ms\n",
      "Speed: 3.0ms preprocess, 113.9ms inference, 1.7ms postprocess per image at shape (1, 3, 416, 416)\n",
      "0: 416x416 (no detections), 104.4ms\n",
      "Speed: 2.7ms preprocess, 104.4ms inference, 1.6ms postprocess per image at shape (1, 3, 416, 416)\n",
      "\n",
      "\n"
     ]
    },
    {
     "name": "stdout",
     "output_type": "stream",
     "text": [
      "0.9368598\n"
     ]
    },
    {
     "name": "stderr",
     "output_type": "stream",
     "text": [
      "0: 416x416 (no detections), 112.2ms\n",
      "Speed: 2.0ms preprocess, 112.2ms inference, 1.0ms postprocess per image at shape (1, 3, 416, 416)\n",
      "\n",
      "0: 416x416 1 Speed Limit 30, 114.3ms\n",
      "Speed: 2.0ms preprocess, 114.3ms inference, 2.0ms postprocess per image at shape (1, 3, 416, 416)\n",
      "0: 416x416 (no detections), 102.7ms\n",
      "Speed: 3.0ms preprocess, 102.7ms inference, 1.0ms postprocess per image at shape (1, 3, 416, 416)\n",
      "\n",
      "\n"
     ]
    },
    {
     "name": "stdout",
     "output_type": "stream",
     "text": [
      "0.93682677\n"
     ]
    },
    {
     "name": "stderr",
     "output_type": "stream",
     "text": [
      "0: 416x416 (no detections), 119.4ms\n",
      "Speed: 2.0ms preprocess, 119.4ms inference, 1.0ms postprocess per image at shape (1, 3, 416, 416)\n",
      "\n",
      "0: 416x416 1 Speed Limit 30, 128.0ms\n",
      "Speed: 1.9ms preprocess, 128.0ms inference, 2.0ms postprocess per image at shape (1, 3, 416, 416)\n",
      "0: 416x416 (no detections), 102.8ms\n",
      "Speed: 3.0ms preprocess, 102.8ms inference, 2.1ms postprocess per image at shape (1, 3, 416, 416)\n",
      "\n",
      "\n"
     ]
    },
    {
     "name": "stdout",
     "output_type": "stream",
     "text": [
      "0.93691295\n"
     ]
    },
    {
     "name": "stderr",
     "output_type": "stream",
     "text": [
      "0: 416x416 (no detections), 113.5ms\n",
      "Speed: 3.0ms preprocess, 113.5ms inference, 1.0ms postprocess per image at shape (1, 3, 416, 416)\n",
      "\n",
      "0: 416x416 1 Speed Limit 30, 110.2ms\n",
      "Speed: 3.5ms preprocess, 110.2ms inference, 1.5ms postprocess per image at shape (1, 3, 416, 416)\n",
      "0: 416x416 (no detections), 102.8ms\n",
      "Speed: 3.0ms preprocess, 102.8ms inference, 1.0ms postprocess per image at shape (1, 3, 416, 416)\n",
      "\n",
      "\n"
     ]
    },
    {
     "name": "stdout",
     "output_type": "stream",
     "text": [
      "0.937411\n"
     ]
    },
    {
     "name": "stderr",
     "output_type": "stream",
     "text": [
      "0: 416x416 (no detections), 110.1ms\n",
      "Speed: 3.0ms preprocess, 110.1ms inference, 1.0ms postprocess per image at shape (1, 3, 416, 416)\n",
      "\n",
      "0: 416x416 1 Speed Limit 30, 116.4ms\n",
      "Speed: 3.0ms preprocess, 116.4ms inference, 1.0ms postprocess per image at shape (1, 3, 416, 416)\n",
      "0: 416x416 (no detections), 104.8ms\n",
      "Speed: 3.0ms preprocess, 104.8ms inference, 1.0ms postprocess per image at shape (1, 3, 416, 416)\n",
      "\n",
      "\n",
      "0: 416x416 (no detections), 113.2ms\n"
     ]
    },
    {
     "name": "stdout",
     "output_type": "stream",
     "text": [
      "0.93702096\n"
     ]
    },
    {
     "name": "stderr",
     "output_type": "stream",
     "text": [
      "Speed: 2.0ms preprocess, 113.2ms inference, 1.0ms postprocess per image at shape (1, 3, 416, 416)\n",
      "\n",
      "0: 416x416 1 Speed Limit 30, 117.6ms\n",
      "Speed: 3.0ms preprocess, 117.6ms inference, 1.0ms postprocess per image at shape (1, 3, 416, 416)\n",
      "0: 416x416 (no detections), 107.4ms\n",
      "Speed: 3.0ms preprocess, 107.4ms inference, 1.0ms postprocess per image at shape (1, 3, 416, 416)\n",
      "\n",
      "\n",
      "0: 416x416 (no detections), 112.9ms\n",
      "Speed: 3.5ms preprocess, 112.9ms inference, 1.0ms postprocess per image at shape (1, 3, 416, 416)\n",
      "\n"
     ]
    },
    {
     "name": "stdout",
     "output_type": "stream",
     "text": [
      "0.9369143\n"
     ]
    },
    {
     "name": "stderr",
     "output_type": "stream",
     "text": [
      "0: 416x416 1 Speed Limit 30, 129.7ms\n",
      "Speed: 2.5ms preprocess, 129.7ms inference, 1.3ms postprocess per image at shape (1, 3, 416, 416)\n",
      "0: 416x416 (no detections), 115.5ms\n",
      "Speed: 3.3ms preprocess, 115.5ms inference, 1.5ms postprocess per image at shape (1, 3, 416, 416)\n",
      "\n",
      "0: 416x416 (no detections), 106.2ms\n",
      "\n",
      "Speed: 3.0ms preprocess, 106.2ms inference, 1.0ms postprocess per image at shape (1, 3, 416, 416)\n",
      "\n"
     ]
    },
    {
     "name": "stdout",
     "output_type": "stream",
     "text": [
      "0.93717587\n"
     ]
    },
    {
     "name": "stderr",
     "output_type": "stream",
     "text": [
      "0: 416x416 1 Speed Limit 30, 110.6ms\n",
      "Speed: 4.0ms preprocess, 110.6ms inference, 2.0ms postprocess per image at shape (1, 3, 416, 416)\n",
      "0: 416x416 (no detections), 103.8ms\n",
      "Speed: 3.0ms preprocess, 103.8ms inference, 0.0ms postprocess per image at shape (1, 3, 416, 416)\n",
      "\n",
      "0: 416x416 (no detections), 99.0ms\n",
      "Speed: 3.0ms preprocess, 99.0ms inference, 1.0ms postprocess per image at shape (1, 3, 416, 416)\n",
      "\n",
      "\n"
     ]
    },
    {
     "name": "stdout",
     "output_type": "stream",
     "text": [
      "0.9376033\n"
     ]
    },
    {
     "name": "stderr",
     "output_type": "stream",
     "text": [
      "0: 416x416 (no detections), 110.3ms\n",
      "Speed: 4.0ms preprocess, 110.3ms inference, 2.0ms postprocess per image at shape (1, 3, 416, 416)\n",
      "0: 416x416 1 Speed Limit 30, 111.3ms\n",
      "Speed: 5.5ms preprocess, 111.3ms inference, 3.0ms postprocess per image at shape (1, 3, 416, 416)\n",
      "\n",
      "0: 416x416 (no detections), 105.3ms\n",
      "Speed: 4.0ms preprocess, 105.3ms inference, 1.0ms postprocess per image at shape (1, 3, 416, 416)\n",
      "\n",
      "\n"
     ]
    },
    {
     "name": "stdout",
     "output_type": "stream",
     "text": [
      "0.9371135\n"
     ]
    },
    {
     "name": "stderr",
     "output_type": "stream",
     "text": [
      "0: 416x416 (no detections), 109.0ms\n",
      "Speed: 2.0ms preprocess, 109.0ms inference, 1.0ms postprocess per image at shape (1, 3, 416, 416)\n",
      "0: 416x416 1 Speed Limit 30, 111.8ms\n",
      "Speed: 2.0ms preprocess, 111.8ms inference, 1.0ms postprocess per image at shape (1, 3, 416, 416)\n",
      "\n",
      "0: 416x416 (no detections), 106.5ms\n",
      "Speed: 3.0ms preprocess, 106.5ms inference, 1.0ms postprocess per image at shape (1, 3, 416, 416)\n",
      "\n",
      "\n"
     ]
    },
    {
     "name": "stdout",
     "output_type": "stream",
     "text": [
      "0.9369477\n"
     ]
    },
    {
     "name": "stderr",
     "output_type": "stream",
     "text": [
      "0: 416x416 (no detections), 111.4ms\n",
      "Speed: 3.0ms preprocess, 111.4ms inference, 1.3ms postprocess per image at shape (1, 3, 416, 416)\n",
      "\n",
      "0: 416x416 1 Speed Limit 30, 112.1ms\n",
      "Speed: 3.0ms preprocess, 112.1ms inference, 2.5ms postprocess per image at shape (1, 3, 416, 416)\n",
      "0: 416x416 (no detections), 105.1ms\n",
      "Speed: 3.0ms preprocess, 105.1ms inference, 1.0ms postprocess per image at shape (1, 3, 416, 416)\n",
      "\n",
      "\n"
     ]
    },
    {
     "name": "stdout",
     "output_type": "stream",
     "text": [
      "0.9368321\n"
     ]
    },
    {
     "name": "stderr",
     "output_type": "stream",
     "text": [
      "0: 416x416 (no detections), 113.3ms\n",
      "Speed: 2.9ms preprocess, 113.3ms inference, 1.0ms postprocess per image at shape (1, 3, 416, 416)\n",
      "\n",
      "0: 416x416 1 Speed Limit 30, 115.1ms\n",
      "Speed: 1.6ms preprocess, 115.1ms inference, 2.0ms postprocess per image at shape (1, 3, 416, 416)\n",
      "\n",
      "0: 416x416 (no detections), 108.4ms\n",
      "Speed: 2.0ms preprocess, 108.4ms inference, 1.0ms postprocess per image at shape (1, 3, 416, 416)\n",
      "\n"
     ]
    },
    {
     "name": "stdout",
     "output_type": "stream",
     "text": [
      "0.93709916\n"
     ]
    },
    {
     "name": "stderr",
     "output_type": "stream",
     "text": [
      "0: 416x416 1 Speed Limit 30, 109.2ms\n",
      "Speed: 2.0ms preprocess, 109.2ms inference, 2.5ms postprocess per image at shape (1, 3, 416, 416)\n",
      "0: 416x416 (no detections), 103.2ms\n",
      "Speed: 2.0ms preprocess, 103.2ms inference, 0.0ms postprocess per image at shape (1, 3, 416, 416)\n",
      "\n",
      "\n",
      "0: 416x416 (no detections), 107.4ms\n",
      "Speed: 2.0ms preprocess, 107.4ms inference, 1.0ms postprocess per image at shape (1, 3, 416, 416)\n",
      "\n"
     ]
    },
    {
     "name": "stdout",
     "output_type": "stream",
     "text": [
      "0.9368423\n"
     ]
    },
    {
     "name": "stderr",
     "output_type": "stream",
     "text": [
      "0: 416x416 1 Speed Limit 30, 115.0ms\n",
      "Speed: 3.0ms preprocess, 115.0ms inference, 2.0ms postprocess per image at shape (1, 3, 416, 416)\n",
      "0: 416x416 (no detections), 116.0ms\n",
      "Speed: 3.2ms preprocess, 116.0ms inference, 0.5ms postprocess per image at shape (1, 3, 416, 416)\n",
      "\n",
      "\n",
      "0: 416x416 (no detections), 105.9ms\n",
      "Speed: 3.5ms preprocess, 105.9ms inference, 2.0ms postprocess per image at shape (1, 3, 416, 416)\n",
      "\n"
     ]
    },
    {
     "name": "stdout",
     "output_type": "stream",
     "text": [
      "0.9369275\n"
     ]
    },
    {
     "name": "stderr",
     "output_type": "stream",
     "text": [
      "0: 416x416 1 Speed Limit 30, 114.5ms\n",
      "Speed: 2.0ms preprocess, 114.5ms inference, 1.0ms postprocess per image at shape (1, 3, 416, 416)\n",
      "0: 416x416 (no detections), 101.9ms\n",
      "Speed: 4.1ms preprocess, 101.9ms inference, 1.0ms postprocess per image at shape (1, 3, 416, 416)\n",
      "\n",
      "0: 416x416 (no detections), 103.0ms\n",
      "Speed: 2.5ms preprocess, 103.0ms inference, 1.0ms postprocess per image at shape (1, 3, 416, 416)\n",
      "\n",
      "\n"
     ]
    },
    {
     "name": "stdout",
     "output_type": "stream",
     "text": [
      "0.9373183\n"
     ]
    },
    {
     "name": "stderr",
     "output_type": "stream",
     "text": [
      "0: 416x416 (no detections), 107.2ms\n",
      "Speed: 2.0ms preprocess, 107.2ms inference, 2.0ms postprocess per image at shape (1, 3, 416, 416)\n",
      "0: 416x416 1 Speed Limit 30, 116.7ms\n",
      "Speed: 1.0ms preprocess, 116.7ms inference, 3.0ms postprocess per image at shape (1, 3, 416, 416)\n",
      "\n",
      "0: 416x416 (no detections), 101.0ms\n",
      "Speed: 2.5ms preprocess, 101.0ms inference, 1.0ms postprocess per image at shape (1, 3, 416, 416)\n",
      "\n",
      "\n"
     ]
    },
    {
     "name": "stdout",
     "output_type": "stream",
     "text": [
      "0.93696487\n"
     ]
    },
    {
     "name": "stderr",
     "output_type": "stream",
     "text": [
      "0: 416x416 (no detections), 114.4ms\n",
      "Speed: 2.5ms preprocess, 114.4ms inference, 1.0ms postprocess per image at shape (1, 3, 416, 416)\n",
      "0: 416x416 1 Speed Limit 30, 109.5ms\n",
      "\n",
      "Speed: 2.5ms preprocess, 109.5ms inference, 1.5ms postprocess per image at shape (1, 3, 416, 416)\n",
      "0: 416x416 (no detections), 109.2ms\n",
      "Speed: 5.5ms preprocess, 109.2ms inference, 0.0ms postprocess per image at shape (1, 3, 416, 416)\n",
      "\n",
      "\n"
     ]
    },
    {
     "name": "stdout",
     "output_type": "stream",
     "text": [
      "0.9368218\n"
     ]
    },
    {
     "name": "stderr",
     "output_type": "stream",
     "text": [
      "0: 416x416 (no detections), 113.0ms\n",
      "Speed: 3.0ms preprocess, 113.0ms inference, 1.0ms postprocess per image at shape (1, 3, 416, 416)\n",
      "0: 416x416 1 Speed Limit 30, 107.1ms\n",
      "Speed: 2.0ms preprocess, 107.1ms inference, 2.0ms postprocess per image at shape (1, 3, 416, 416)\n",
      "\n",
      "0: 416x416 (no detections), 102.9ms\n",
      "Speed: 2.5ms preprocess, 102.9ms inference, 0.0ms postprocess per image at shape (1, 3, 416, 416)\n",
      "\n",
      "\n"
     ]
    },
    {
     "name": "stdout",
     "output_type": "stream",
     "text": [
      "0.93708783\n"
     ]
    },
    {
     "name": "stderr",
     "output_type": "stream",
     "text": [
      "0: 416x416 (no detections), 111.2ms\n",
      "Speed: 2.6ms preprocess, 111.2ms inference, 1.0ms postprocess per image at shape (1, 3, 416, 416)\n",
      "\n",
      "0: 416x416 1 Speed Limit 30, 108.6ms\n",
      "Speed: 2.5ms preprocess, 108.6ms inference, 1.0ms postprocess per image at shape (1, 3, 416, 416)\n",
      "0: 416x416 (no detections), 104.3ms\n",
      "Speed: 2.0ms preprocess, 104.3ms inference, 1.4ms postprocess per image at shape (1, 3, 416, 416)\n",
      "\n",
      "\n"
     ]
    },
    {
     "name": "stdout",
     "output_type": "stream",
     "text": [
      "0.93753725\n"
     ]
    },
    {
     "name": "stderr",
     "output_type": "stream",
     "text": [
      "0: 416x416 (no detections), 107.8ms\n",
      "Speed: 3.6ms preprocess, 107.8ms inference, 1.1ms postprocess per image at shape (1, 3, 416, 416)\n",
      "\n",
      "0: 416x416 1 Speed Limit 30, 109.1ms\n",
      "Speed: 2.6ms preprocess, 109.1ms inference, 2.0ms postprocess per image at shape (1, 3, 416, 416)\n",
      "0: 416x416 (no detections), 102.6ms\n",
      "Speed: 3.0ms preprocess, 102.6ms inference, 1.0ms postprocess per image at shape (1, 3, 416, 416)\n",
      "\n",
      "\n"
     ]
    },
    {
     "name": "stdout",
     "output_type": "stream",
     "text": [
      "0.9368233\n"
     ]
    },
    {
     "name": "stderr",
     "output_type": "stream",
     "text": [
      "0: 416x416 (no detections), 116.0ms\n",
      "Speed: 3.0ms preprocess, 116.0ms inference, 1.0ms postprocess per image at shape (1, 3, 416, 416)\n",
      "\n",
      "0: 416x416 1 Speed Limit 30, 111.5ms\n",
      "Speed: 2.0ms preprocess, 111.5ms inference, 2.0ms postprocess per image at shape (1, 3, 416, 416)\n",
      "0: 416x416 (no detections), 100.4ms\n",
      "Speed: 2.5ms preprocess, 100.4ms inference, 0.0ms postprocess per image at shape (1, 3, 416, 416)\n",
      "\n",
      "\n",
      "0: 416x416 (no detections), 111.8ms\n"
     ]
    },
    {
     "name": "stdout",
     "output_type": "stream",
     "text": [
      "0.93689436\n"
     ]
    },
    {
     "name": "stderr",
     "output_type": "stream",
     "text": [
      "Speed: 3.0ms preprocess, 111.8ms inference, 0.0ms postprocess per image at shape (1, 3, 416, 416)\n",
      "\n",
      "0: 416x416 1 Speed Limit 30, 116.6ms\n",
      "Speed: 2.0ms preprocess, 116.6ms inference, 1.0ms postprocess per image at shape (1, 3, 416, 416)\n",
      "0: 416x416 (no detections), 105.5ms\n",
      "Speed: 2.0ms preprocess, 105.5ms inference, 0.0ms postprocess per image at shape (1, 3, 416, 416)\n",
      "\n",
      "\n",
      "0: 416x416 (no detections), 105.4ms\n"
     ]
    },
    {
     "name": "stdout",
     "output_type": "stream",
     "text": [
      "0.93699074\n"
     ]
    },
    {
     "name": "stderr",
     "output_type": "stream",
     "text": [
      "Speed: 3.6ms preprocess, 105.4ms inference, 1.0ms postprocess per image at shape (1, 3, 416, 416)\n",
      "\n",
      "0: 416x416 1 Speed Limit 30, 111.2ms\n",
      "Speed: 2.7ms preprocess, 111.2ms inference, 2.0ms postprocess per image at shape (1, 3, 416, 416)\n",
      "0: 416x416 (no detections), 105.6ms\n",
      "Speed: 3.0ms preprocess, 105.6ms inference, 0.0ms postprocess per image at shape (1, 3, 416, 416)\n",
      "\n",
      "0: 416x416 (no detections), 98.4ms\n",
      "Speed: 4.0ms preprocess, 98.4ms inference, 1.0ms postprocess per image at shape (1, 3, 416, 416)\n",
      "\n",
      "\n"
     ]
    },
    {
     "name": "stdout",
     "output_type": "stream",
     "text": [
      "0.93745166\n"
     ]
    },
    {
     "name": "stderr",
     "output_type": "stream",
     "text": [
      "0: 416x416 1 Speed Limit 30, 104.8ms\n",
      "Speed: 3.0ms preprocess, 104.8ms inference, 2.0ms postprocess per image at shape (1, 3, 416, 416)\n",
      "0: 416x416 (no detections), 102.0ms\n",
      "Speed: 3.5ms preprocess, 102.0ms inference, 1.0ms postprocess per image at shape (1, 3, 416, 416)\n",
      "\n",
      "0: 416x416 (no detections), 111.0ms\n",
      "Speed: 2.0ms preprocess, 111.0ms inference, 1.0ms postprocess per image at shape (1, 3, 416, 416)\n",
      "\n",
      "\n"
     ]
    },
    {
     "name": "stdout",
     "output_type": "stream",
     "text": [
      "0.9370156\n"
     ]
    },
    {
     "name": "stderr",
     "output_type": "stream",
     "text": [
      "0: 416x416 (no detections), 103.4ms\n",
      "Speed: 3.0ms preprocess, 103.4ms inference, 1.0ms postprocess per image at shape (1, 3, 416, 416)\n",
      "0: 416x416 1 Speed Limit 30, 107.4ms\n",
      "Speed: 4.0ms preprocess, 107.4ms inference, 6.0ms postprocess per image at shape (1, 3, 416, 416)\n",
      "\n",
      "0: 416x416 (no detections), 99.1ms\n",
      "Speed: 2.0ms preprocess, 99.1ms inference, 1.6ms postprocess per image at shape (1, 3, 416, 416)\n",
      "\n",
      "\n"
     ]
    },
    {
     "name": "stdout",
     "output_type": "stream",
     "text": [
      "0.93685675\n"
     ]
    },
    {
     "name": "stderr",
     "output_type": "stream",
     "text": [
      "0: 416x416 (no detections), 105.4ms\n",
      "Speed: 3.0ms preprocess, 105.4ms inference, 1.0ms postprocess per image at shape (1, 3, 416, 416)\n",
      "\n",
      "0: 416x416 1 Speed Limit 30, 103.4ms\n",
      "Speed: 2.0ms preprocess, 103.4ms inference, 7.0ms postprocess per image at shape (1, 3, 416, 416)\n",
      "0: 416x416 (no detections), 101.5ms\n",
      "Speed: 4.2ms preprocess, 101.5ms inference, 2.0ms postprocess per image at shape (1, 3, 416, 416)\n",
      "\n",
      "\n"
     ]
    },
    {
     "name": "stdout",
     "output_type": "stream",
     "text": [
      "0.9372182\n"
     ]
    },
    {
     "name": "stderr",
     "output_type": "stream",
     "text": [
      "0: 416x416 (no detections), 110.7ms\n",
      "Speed: 2.5ms preprocess, 110.7ms inference, 1.0ms postprocess per image at shape (1, 3, 416, 416)\n",
      "\n",
      "0: 416x416 1 Speed Limit 30, 116.3ms\n",
      "Speed: 2.5ms preprocess, 116.3ms inference, 3.0ms postprocess per image at shape (1, 3, 416, 416)\n",
      "0: 416x416 (no detections), 142.5ms\n",
      "Speed: 3.0ms preprocess, 142.5ms inference, 1.0ms postprocess per image at shape (1, 3, 416, 416)\n",
      "\n",
      "\n"
     ]
    },
    {
     "name": "stdout",
     "output_type": "stream",
     "text": [
      "0.93757427\n"
     ]
    },
    {
     "name": "stderr",
     "output_type": "stream",
     "text": [
      "0: 416x416 (no detections), 134.2ms\n",
      "Speed: 4.5ms preprocess, 134.2ms inference, 1.0ms postprocess per image at shape (1, 3, 416, 416)\n",
      "0: 416x416 1 Speed Limit 30, 125.6ms\n",
      "Speed: 6.1ms preprocess, 125.6ms inference, 2.0ms postprocess per image at shape (1, 3, 416, 416)\n",
      "\n",
      "0: 416x416 (no detections), 99.4ms\n",
      "Speed: 3.2ms preprocess, 99.4ms inference, 1.0ms postprocess per image at shape (1, 3, 416, 416)\n",
      "\n",
      "\n"
     ]
    },
    {
     "name": "stdout",
     "output_type": "stream",
     "text": [
      "0.93702453\n"
     ]
    },
    {
     "name": "stderr",
     "output_type": "stream",
     "text": [
      "0: 416x416 (no detections), 119.6ms\n",
      "Speed: 3.0ms preprocess, 119.6ms inference, 1.0ms postprocess per image at shape (1, 3, 416, 416)\n",
      "0: 416x416 1 Speed Limit 30, 113.1ms\n",
      "\n",
      "Speed: 3.5ms preprocess, 113.1ms inference, 1.6ms postprocess per image at shape (1, 3, 416, 416)\n",
      "0: 416x416 (no detections), 104.4ms\n",
      "Speed: 4.0ms preprocess, 104.4ms inference, 1.5ms postprocess per image at shape (1, 3, 416, 416)\n",
      "\n",
      "\n"
     ]
    },
    {
     "name": "stdout",
     "output_type": "stream",
     "text": [
      "0.9369696\n"
     ]
    },
    {
     "name": "stderr",
     "output_type": "stream",
     "text": [
      "0: 416x416 (no detections), 106.9ms\n",
      "Speed: 3.0ms preprocess, 106.9ms inference, 1.2ms postprocess per image at shape (1, 3, 416, 416)\n",
      "\n",
      "0: 416x416 1 Speed Limit 30, 105.6ms\n",
      "Speed: 3.0ms preprocess, 105.6ms inference, 2.0ms postprocess per image at shape (1, 3, 416, 416)\n",
      "0: 416x416 (no detections), 99.0ms\n",
      "Speed: 2.0ms preprocess, 99.0ms inference, 1.0ms postprocess per image at shape (1, 3, 416, 416)\n",
      "\n",
      "\n"
     ]
    },
    {
     "name": "stdout",
     "output_type": "stream",
     "text": [
      "0.93681073\n"
     ]
    },
    {
     "name": "stderr",
     "output_type": "stream",
     "text": [
      "0: 416x416 (no detections), 106.7ms\n",
      "Speed: 2.0ms preprocess, 106.7ms inference, 1.0ms postprocess per image at shape (1, 3, 416, 416)\n",
      "\n",
      "0: 416x416 1 Speed Limit 30, 115.9ms\n",
      "Speed: 2.5ms preprocess, 115.9ms inference, 2.0ms postprocess per image at shape (1, 3, 416, 416)\n",
      "0: 416x416 (no detections), 108.9ms\n",
      "Speed: 3.0ms preprocess, 108.9ms inference, 1.0ms postprocess per image at shape (1, 3, 416, 416)\n",
      "\n",
      "\n"
     ]
    },
    {
     "name": "stdout",
     "output_type": "stream",
     "text": [
      "0.93708766\n"
     ]
    },
    {
     "name": "stderr",
     "output_type": "stream",
     "text": [
      "0: 416x416 (no detections), 102.2ms\n",
      "Speed: 3.5ms preprocess, 102.2ms inference, 1.3ms postprocess per image at shape (1, 3, 416, 416)\n",
      "\n",
      "0: 416x416 1 Speed Limit 30, 103.5ms\n",
      "Speed: 1.0ms preprocess, 103.5ms inference, 3.0ms postprocess per image at shape (1, 3, 416, 416)\n",
      "0: 416x416 (no detections), 102.0ms\n",
      "Speed: 3.0ms preprocess, 102.0ms inference, 0.0ms postprocess per image at shape (1, 3, 416, 416)\n",
      "\n",
      "\n",
      "0: 416x416 (no detections), 102.2ms\n"
     ]
    },
    {
     "name": "stdout",
     "output_type": "stream",
     "text": [
      "0.93655765\n"
     ]
    },
    {
     "name": "stderr",
     "output_type": "stream",
     "text": [
      "Speed: 3.0ms preprocess, 102.2ms inference, 1.0ms postprocess per image at shape (1, 3, 416, 416)\n",
      "\n",
      "0: 416x416 1 Speed Limit 30, 107.8ms\n",
      "Speed: 2.0ms preprocess, 107.8ms inference, 2.2ms postprocess per image at shape (1, 3, 416, 416)\n",
      "0: 416x416 (no detections), 101.1ms\n",
      "Speed: 3.0ms preprocess, 101.1ms inference, 1.0ms postprocess per image at shape (1, 3, 416, 416)\n",
      "\n",
      "0: 416x416 (no detections), 108.2ms\n",
      "Speed: 2.0ms preprocess, 108.2ms inference, 1.6ms postprocess per image at shape (1, 3, 416, 416)\n",
      "\n",
      "\n"
     ]
    },
    {
     "name": "stdout",
     "output_type": "stream",
     "text": [
      "0.93695396\n"
     ]
    },
    {
     "name": "stderr",
     "output_type": "stream",
     "text": [
      "0: 416x416 1 Speed Limit 30, 110.4ms\n",
      "Speed: 2.0ms preprocess, 110.4ms inference, 1.0ms postprocess per image at shape (1, 3, 416, 416)\n",
      "0: 416x416 (no detections), 106.4ms\n",
      "Speed: 2.5ms preprocess, 106.4ms inference, 1.0ms postprocess per image at shape (1, 3, 416, 416)\n",
      "\n",
      "0: 416x416 (no detections), 100.3ms\n",
      "Speed: 2.5ms preprocess, 100.3ms inference, 0.0ms postprocess per image at shape (1, 3, 416, 416)\n",
      "\n",
      "\n"
     ]
    },
    {
     "name": "stdout",
     "output_type": "stream",
     "text": [
      "0.93719256\n"
     ]
    },
    {
     "name": "stderr",
     "output_type": "stream",
     "text": [
      "0: 416x416 (no detections), 124.0ms\n",
      "Speed: 3.0ms preprocess, 124.0ms inference, 2.0ms postprocess per image at shape (1, 3, 416, 416)\n",
      "0: 416x416 1 Speed Limit 30, 125.0ms\n",
      "Speed: 3.0ms preprocess, 125.0ms inference, 2.0ms postprocess per image at shape (1, 3, 416, 416)\n",
      "\n",
      "0: 416x416 (no detections), 100.2ms\n",
      "Speed: 2.0ms preprocess, 100.2ms inference, 0.5ms postprocess per image at shape (1, 3, 416, 416)\n",
      "\n",
      "\n"
     ]
    },
    {
     "name": "stdout",
     "output_type": "stream",
     "text": [
      "0.93743396\n"
     ]
    },
    {
     "name": "stderr",
     "output_type": "stream",
     "text": [
      "0: 416x416 (no detections), 105.6ms\n",
      "Speed: 2.5ms preprocess, 105.6ms inference, 1.0ms postprocess per image at shape (1, 3, 416, 416)\n",
      "0: 416x416 1 Speed Limit 30, 99.6ms\n",
      "Speed: 3.5ms preprocess, 99.6ms inference, 3.0ms postprocess per image at shape (1, 3, 416, 416)\n",
      "\n",
      "0: 416x416 (no detections), 102.2ms\n",
      "Speed: 3.0ms preprocess, 102.2ms inference, 0.6ms postprocess per image at shape (1, 3, 416, 416)\n",
      "\n",
      "\n"
     ]
    },
    {
     "name": "stdout",
     "output_type": "stream",
     "text": [
      "0.93682516\n"
     ]
    },
    {
     "name": "stderr",
     "output_type": "stream",
     "text": [
      "0: 416x416 (no detections), 105.7ms\n",
      "Speed: 2.2ms preprocess, 105.7ms inference, 1.0ms postprocess per image at shape (1, 3, 416, 416)\n",
      "\n",
      "0: 416x416 1 Speed Limit 30, 109.1ms\n",
      "Speed: 3.0ms preprocess, 109.1ms inference, 2.0ms postprocess per image at shape (1, 3, 416, 416)\n",
      "0: 416x416 (no detections), 100.6ms\n",
      "Speed: 3.3ms preprocess, 100.6ms inference, 0.0ms postprocess per image at shape (1, 3, 416, 416)\n",
      "\n",
      "\n"
     ]
    },
    {
     "name": "stdout",
     "output_type": "stream",
     "text": [
      "0.9372886\n"
     ]
    },
    {
     "name": "stderr",
     "output_type": "stream",
     "text": [
      "0: 416x416 (no detections), 104.4ms\n",
      "Speed: 2.9ms preprocess, 104.4ms inference, 0.0ms postprocess per image at shape (1, 3, 416, 416)\n",
      "\n",
      "0: 416x416 1 Speed Limit 30, 121.1ms\n",
      "Speed: 2.0ms preprocess, 121.1ms inference, 2.0ms postprocess per image at shape (1, 3, 416, 416)\n",
      "0: 416x416 (no detections), 103.9ms\n",
      "Speed: 2.0ms preprocess, 103.9ms inference, 1.0ms postprocess per image at shape (1, 3, 416, 416)\n",
      "\n",
      "\n",
      "0: 416x416 (no detections), 107.5ms\n"
     ]
    },
    {
     "name": "stdout",
     "output_type": "stream",
     "text": [
      "0.9369362\n"
     ]
    },
    {
     "name": "stderr",
     "output_type": "stream",
     "text": [
      "Speed: 2.0ms preprocess, 107.5ms inference, 1.0ms postprocess per image at shape (1, 3, 416, 416)\n",
      "\n",
      "0: 416x416 1 Speed Limit 30, 109.2ms\n",
      "Speed: 2.0ms preprocess, 109.2ms inference, 2.0ms postprocess per image at shape (1, 3, 416, 416)\n",
      "0: 416x416 (no detections), 95.1ms\n",
      "Speed: 3.1ms preprocess, 95.1ms inference, 1.0ms postprocess per image at shape (1, 3, 416, 416)\n",
      "\n",
      "0: 416x416 (no detections), 97.1ms\n",
      "Speed: 2.0ms preprocess, 97.1ms inference, 1.1ms postprocess per image at shape (1, 3, 416, 416)\n",
      "\n",
      "\n"
     ]
    },
    {
     "name": "stdout",
     "output_type": "stream",
     "text": [
      "0.937136\n"
     ]
    },
    {
     "name": "stderr",
     "output_type": "stream",
     "text": [
      "0: 416x416 1 Speed Limit 30, 109.9ms\n",
      "Speed: 3.5ms preprocess, 109.9ms inference, 2.0ms postprocess per image at shape (1, 3, 416, 416)\n",
      "0: 416x416 (no detections), 106.8ms\n",
      "Speed: 3.5ms preprocess, 106.8ms inference, 1.5ms postprocess per image at shape (1, 3, 416, 416)\n",
      "\n",
      "\n",
      "0: 416x416 (no detections), 99.4ms\n",
      "Speed: 2.0ms preprocess, 99.4ms inference, 1.0ms postprocess per image at shape (1, 3, 416, 416)\n",
      "\n",
      "0: 416x416 1 Speed Limit 30, 105.2ms\n"
     ]
    },
    {
     "name": "stdout",
     "output_type": "stream",
     "text": [
      "0.9365803\n"
     ]
    },
    {
     "name": "stderr",
     "output_type": "stream",
     "text": [
      "Speed: 2.0ms preprocess, 105.2ms inference, 1.0ms postprocess per image at shape (1, 3, 416, 416)\n",
      "0: 416x416 (no detections), 99.3ms\n",
      "Speed: 3.0ms preprocess, 99.3ms inference, 1.0ms postprocess per image at shape (1, 3, 416, 416)\n",
      "\n",
      "\n",
      "0: 416x416 (no detections), 105.5ms\n"
     ]
    },
    {
     "name": "stdout",
     "output_type": "stream",
     "text": [
      "0.9369323\n"
     ]
    },
    {
     "name": "stderr",
     "output_type": "stream",
     "text": [
      "Speed: 3.2ms preprocess, 105.5ms inference, 1.0ms postprocess per image at shape (1, 3, 416, 416)\n",
      "\n",
      "0: 416x416 1 Speed Limit 30, 108.7ms\n",
      "Speed: 2.0ms preprocess, 108.7ms inference, 1.0ms postprocess per image at shape (1, 3, 416, 416)\n",
      "0: 416x416 (no detections), 99.1ms\n",
      "Speed: 3.0ms preprocess, 99.1ms inference, 0.0ms postprocess per image at shape (1, 3, 416, 416)\n",
      "\n",
      "0: 416x416 (no detections), 106.3ms\n",
      "Speed: 3.5ms preprocess, 106.3ms inference, 1.0ms postprocess per image at shape (1, 3, 416, 416)\n",
      "\n",
      "\n"
     ]
    },
    {
     "name": "stdout",
     "output_type": "stream",
     "text": [
      "0.93744266\n"
     ]
    },
    {
     "name": "stderr",
     "output_type": "stream",
     "text": [
      "0: 416x416 1 Speed Limit 30, 104.8ms\n",
      "Speed: 2.0ms preprocess, 104.8ms inference, 2.1ms postprocess per image at shape (1, 3, 416, 416)\n",
      "0: 416x416 (no detections), 100.9ms\n",
      "Speed: 3.0ms preprocess, 100.9ms inference, 1.0ms postprocess per image at shape (1, 3, 416, 416)\n",
      "\n",
      "0: 416x416 (no detections), 97.0ms\n",
      "Speed: 3.0ms preprocess, 97.0ms inference, 1.0ms postprocess per image at shape (1, 3, 416, 416)\n",
      "\n",
      "\n"
     ]
    },
    {
     "name": "stdout",
     "output_type": "stream",
     "text": [
      "0.9370298\n"
     ]
    },
    {
     "name": "stderr",
     "output_type": "stream",
     "text": [
      "0: 416x416 (no detections), 110.3ms\n",
      "Speed: 2.0ms preprocess, 110.3ms inference, 1.0ms postprocess per image at shape (1, 3, 416, 416)\n",
      "0: 416x416 1 Speed Limit 30, 106.9ms\n",
      "Speed: 1.9ms preprocess, 106.9ms inference, 2.1ms postprocess per image at shape (1, 3, 416, 416)\n",
      "\n",
      "0: 416x416 (no detections), 101.7ms\n",
      "Speed: 3.0ms preprocess, 101.7ms inference, 1.5ms postprocess per image at shape (1, 3, 416, 416)\n",
      "\n",
      "\n"
     ]
    },
    {
     "name": "stdout",
     "output_type": "stream",
     "text": [
      "0.93692225\n"
     ]
    },
    {
     "name": "stderr",
     "output_type": "stream",
     "text": [
      "0: 416x416 (no detections), 109.9ms\n",
      "Speed: 3.0ms preprocess, 109.9ms inference, 1.0ms postprocess per image at shape (1, 3, 416, 416)\n",
      "\n",
      "0: 416x416 1 Speed Limit 30, 108.3ms\n",
      "Speed: 2.0ms preprocess, 108.3ms inference, 2.0ms postprocess per image at shape (1, 3, 416, 416)\n",
      "0: 416x416 (no detections), 102.3ms\n",
      "Speed: 3.0ms preprocess, 102.3ms inference, 1.0ms postprocess per image at shape (1, 3, 416, 416)\n",
      "\n",
      "\n"
     ]
    },
    {
     "name": "stdout",
     "output_type": "stream",
     "text": [
      "0.9371849\n"
     ]
    },
    {
     "name": "stderr",
     "output_type": "stream",
     "text": [
      "0: 416x416 (no detections), 106.0ms\n",
      "Speed: 3.6ms preprocess, 106.0ms inference, 1.0ms postprocess per image at shape (1, 3, 416, 416)\n",
      "\n",
      "0: 416x416 1 Speed Limit 30, 119.8ms\n",
      "Speed: 3.0ms preprocess, 119.8ms inference, 2.5ms postprocess per image at shape (1, 3, 416, 416)\n",
      "0: 416x416 (no detections), 104.5ms\n",
      "Speed: 2.7ms preprocess, 104.5ms inference, 1.0ms postprocess per image at shape (1, 3, 416, 416)\n",
      "\n",
      "\n",
      "0: 416x416 1 Speed Limit 30, 107.3ms\n"
     ]
    },
    {
     "name": "stdout",
     "output_type": "stream",
     "text": [
      "0.9375829\n"
     ]
    },
    {
     "name": "stderr",
     "output_type": "stream",
     "text": [
      "Speed: 1.6ms preprocess, 107.3ms inference, 1.5ms postprocess per image at shape (1, 3, 416, 416)\n",
      "0: 416x416 (no detections), 103.3ms\n",
      "Speed: 2.5ms preprocess, 103.3ms inference, 1.0ms postprocess per image at shape (1, 3, 416, 416)\n",
      "\n",
      "0: 416x416 (no detections), 100.0ms\n",
      "Speed: 3.0ms preprocess, 100.0ms inference, 1.0ms postprocess per image at shape (1, 3, 416, 416)\n",
      "\n",
      "\n"
     ]
    },
    {
     "name": "stdout",
     "output_type": "stream",
     "text": [
      "0.9369819\n"
     ]
    },
    {
     "name": "stderr",
     "output_type": "stream",
     "text": [
      "0: 416x416 (no detections), 112.8ms\n",
      "Speed: 2.4ms preprocess, 112.8ms inference, 1.4ms postprocess per image at shape (1, 3, 416, 416)\n",
      "0: 416x416 1 Speed Limit 30, 109.4ms\n",
      "Speed: 2.3ms preprocess, 109.4ms inference, 1.5ms postprocess per image at shape (1, 3, 416, 416)\n",
      "\n",
      "0: 416x416 (no detections), 96.5ms\n",
      "Speed: 3.0ms preprocess, 96.5ms inference, 1.0ms postprocess per image at shape (1, 3, 416, 416)\n",
      "\n",
      "\n"
     ]
    },
    {
     "name": "stdout",
     "output_type": "stream",
     "text": [
      "0.93712115\n"
     ]
    },
    {
     "name": "stderr",
     "output_type": "stream",
     "text": [
      "0: 416x416 (no detections), 111.4ms\n",
      "Speed: 3.0ms preprocess, 111.4ms inference, 2.0ms postprocess per image at shape (1, 3, 416, 416)\n",
      "\n",
      "0: 416x416 1 Speed Limit 30, 107.4ms\n",
      "Speed: 2.0ms preprocess, 107.4ms inference, 1.0ms postprocess per image at shape (1, 3, 416, 416)\n",
      "0: 416x416 (no detections), 98.8ms\n",
      "Speed: 3.0ms preprocess, 98.8ms inference, 0.0ms postprocess per image at shape (1, 3, 416, 416)\n",
      "\n",
      "\n"
     ]
    },
    {
     "name": "stdout",
     "output_type": "stream",
     "text": [
      "0.93744963\n"
     ]
    },
    {
     "name": "stderr",
     "output_type": "stream",
     "text": [
      "0: 416x416 (no detections), 106.9ms\n",
      "Speed: 2.0ms preprocess, 106.9ms inference, 2.0ms postprocess per image at shape (1, 3, 416, 416)\n",
      "\n",
      "0: 416x416 1 Speed Limit 30, 110.0ms\n",
      "Speed: 2.0ms preprocess, 110.0ms inference, 2.0ms postprocess per image at shape (1, 3, 416, 416)\n",
      "0: 416x416 (no detections), 108.4ms\n",
      "Speed: 3.0ms preprocess, 108.4ms inference, 1.0ms postprocess per image at shape (1, 3, 416, 416)\n",
      "\n",
      "\n",
      "0: 416x416 (no detections), 103.7ms\n"
     ]
    },
    {
     "name": "stdout",
     "output_type": "stream",
     "text": [
      "0.9365897\n"
     ]
    },
    {
     "name": "stderr",
     "output_type": "stream",
     "text": [
      "Speed: 3.0ms preprocess, 103.7ms inference, 1.0ms postprocess per image at shape (1, 3, 416, 416)\n",
      "\n",
      "0: 416x416 1 Speed Limit 30, 107.5ms\n",
      "Speed: 2.0ms preprocess, 107.5ms inference, 2.0ms postprocess per image at shape (1, 3, 416, 416)\n",
      "0: 416x416 (no detections), 98.1ms\n",
      "Speed: 3.0ms preprocess, 98.1ms inference, 1.0ms postprocess per image at shape (1, 3, 416, 416)\n",
      "\n",
      "\n",
      "0: 416x416 (no detections), 108.4ms\n",
      "Speed: 2.5ms preprocess, 108.4ms inference, 1.0ms postprocess per image at shape (1, 3, 416, 416)\n"
     ]
    },
    {
     "name": "stdout",
     "output_type": "stream",
     "text": [
      "0.93683815\n"
     ]
    },
    {
     "name": "stderr",
     "output_type": "stream",
     "text": [
      "\n",
      "0: 416x416 1 Speed Limit 30, 108.3ms\n",
      "Speed: 2.5ms preprocess, 108.3ms inference, 2.0ms postprocess per image at shape (1, 3, 416, 416)\n",
      "0: 416x416 (no detections), 97.1ms\n",
      "Speed: 3.3ms preprocess, 97.1ms inference, 1.0ms postprocess per image at shape (1, 3, 416, 416)\n",
      "\n",
      "0: 416x416 (no detections), 101.2ms\n",
      "Speed: 3.0ms preprocess, 101.2ms inference, 1.0ms postprocess per image at shape (1, 3, 416, 416)\n",
      "\n",
      "\n"
     ]
    },
    {
     "name": "stdout",
     "output_type": "stream",
     "text": [
      "0.93690175\n"
     ]
    },
    {
     "name": "stderr",
     "output_type": "stream",
     "text": [
      "0: 416x416 (no detections), 106.4ms\n",
      "Speed: 3.0ms preprocess, 106.4ms inference, 1.0ms postprocess per image at shape (1, 3, 416, 416)\n",
      "0: 416x416 1 Speed Limit 30, 115.4ms\n",
      "Speed: 4.5ms preprocess, 115.4ms inference, 2.0ms postprocess per image at shape (1, 3, 416, 416)\n",
      "\n",
      "0: 416x416 (no detections), 98.1ms\n",
      "Speed: 3.0ms preprocess, 98.1ms inference, 0.0ms postprocess per image at shape (1, 3, 416, 416)\n",
      "\n",
      "\n"
     ]
    },
    {
     "name": "stdout",
     "output_type": "stream",
     "text": [
      "0.93729514\n"
     ]
    },
    {
     "name": "stderr",
     "output_type": "stream",
     "text": [
      "0: 416x416 (no detections), 117.2ms\n",
      "Speed: 3.0ms preprocess, 117.2ms inference, 1.0ms postprocess per image at shape (1, 3, 416, 416)\n",
      "\n",
      "0: 416x416 1 Speed Limit 30, 119.8ms\n",
      "Speed: 2.0ms preprocess, 119.8ms inference, 2.0ms postprocess per image at shape (1, 3, 416, 416)\n",
      "0: 416x416 (no detections), 98.1ms\n",
      "Speed: 3.0ms preprocess, 98.1ms inference, 1.0ms postprocess per image at shape (1, 3, 416, 416)\n",
      "\n",
      "\n"
     ]
    },
    {
     "name": "stdout",
     "output_type": "stream",
     "text": [
      "0.9369271\n"
     ]
    },
    {
     "name": "stderr",
     "output_type": "stream",
     "text": [
      "0: 416x416 (no detections), 102.7ms\n",
      "Speed: 2.0ms preprocess, 102.7ms inference, 1.0ms postprocess per image at shape (1, 3, 416, 416)\n",
      "\n",
      "0: 416x416 1 Speed Limit 30, 107.2ms\n",
      "Speed: 3.0ms preprocess, 107.2ms inference, 2.0ms postprocess per image at shape (1, 3, 416, 416)\n",
      "0: 416x416 (no detections), 102.2ms\n",
      "Speed: 2.6ms preprocess, 102.2ms inference, 1.0ms postprocess per image at shape (1, 3, 416, 416)\n",
      "\n",
      "\n"
     ]
    },
    {
     "name": "stdout",
     "output_type": "stream",
     "text": [
      "0.93674326\n"
     ]
    },
    {
     "name": "stderr",
     "output_type": "stream",
     "text": [
      "0: 416x416 (no detections), 106.6ms\n",
      "Speed: 3.0ms preprocess, 106.6ms inference, 1.0ms postprocess per image at shape (1, 3, 416, 416)\n",
      "\n",
      "0: 416x416 1 Speed Limit 30, 104.0ms\n",
      "Speed: 2.5ms preprocess, 104.0ms inference, 2.0ms postprocess per image at shape (1, 3, 416, 416)\n",
      "0: 416x416 (no detections), 97.1ms\n",
      "Speed: 3.5ms preprocess, 97.1ms inference, 1.0ms postprocess per image at shape (1, 3, 416, 416)\n",
      "\n",
      "\n",
      "0: 416x416 (no detections), 101.8ms\n"
     ]
    },
    {
     "name": "stdout",
     "output_type": "stream",
     "text": [
      "0.9371522\n"
     ]
    },
    {
     "name": "stderr",
     "output_type": "stream",
     "text": [
      "Speed: 1.9ms preprocess, 101.8ms inference, 1.0ms postprocess per image at shape (1, 3, 416, 416)\n",
      "\n",
      "0: 416x416 1 Speed Limit 30, 107.7ms\n",
      "Speed: 2.0ms preprocess, 107.7ms inference, 1.0ms postprocess per image at shape (1, 3, 416, 416)\n",
      "0: 416x416 (no detections), 98.1ms\n",
      "Speed: 3.0ms preprocess, 98.1ms inference, 1.0ms postprocess per image at shape (1, 3, 416, 416)\n",
      "\n",
      "0: 416x416 (no detections), 99.2ms\n",
      "Speed: 3.0ms preprocess, 99.2ms inference, 1.0ms postprocess per image at shape (1, 3, 416, 416)\n",
      "\n"
     ]
    },
    {
     "name": "stdout",
     "output_type": "stream",
     "text": [
      "0.9375407\n"
     ]
    },
    {
     "name": "stderr",
     "output_type": "stream",
     "text": [
      "\n",
      "0: 416x416 1 Speed Limit 30, 119.1ms\n",
      "Speed: 2.0ms preprocess, 119.1ms inference, 1.0ms postprocess per image at shape (1, 3, 416, 416)\n",
      "0: 416x416 (no detections), 113.2ms\n",
      "Speed: 2.9ms preprocess, 113.2ms inference, 2.0ms postprocess per image at shape (1, 3, 416, 416)\n",
      "\n",
      "0: 416x416 (no detections), 95.9ms\n",
      "Speed: 2.8ms preprocess, 95.9ms inference, 1.0ms postprocess per image at shape (1, 3, 416, 416)\n",
      "\n",
      "\n"
     ]
    },
    {
     "name": "stdout",
     "output_type": "stream",
     "text": [
      "0.93679965\n"
     ]
    },
    {
     "name": "stderr",
     "output_type": "stream",
     "text": [
      "0: 416x416 (no detections), 112.4ms\n",
      "Speed: 3.0ms preprocess, 112.4ms inference, 1.0ms postprocess per image at shape (1, 3, 416, 416)\n",
      "0: 416x416 1 Speed Limit 30, 105.0ms\n",
      "Speed: 2.9ms preprocess, 105.0ms inference, 1.0ms postprocess per image at shape (1, 3, 416, 416)\n",
      "\n",
      "0: 416x416 (no detections), 95.4ms\n",
      "Speed: 2.9ms preprocess, 95.4ms inference, 1.0ms postprocess per image at shape (1, 3, 416, 416)\n",
      "\n",
      "\n"
     ]
    },
    {
     "name": "stdout",
     "output_type": "stream",
     "text": [
      "0.93686575\n"
     ]
    },
    {
     "name": "stderr",
     "output_type": "stream",
     "text": [
      "0: 416x416 (no detections), 108.2ms\n",
      "Speed: 3.5ms preprocess, 108.2ms inference, 0.0ms postprocess per image at shape (1, 3, 416, 416)\n",
      "\n",
      "0: 416x416 1 Speed Limit 30, 113.4ms\n",
      "Speed: 2.0ms preprocess, 113.4ms inference, 1.0ms postprocess per image at shape (1, 3, 416, 416)\n",
      "0: 416x416 (no detections), 101.0ms\n",
      "Speed: 3.0ms preprocess, 101.0ms inference, 0.5ms postprocess per image at shape (1, 3, 416, 416)\n",
      "\n",
      "\n",
      "0: 416x416 (no detections), 106.3ms\n"
     ]
    },
    {
     "name": "stdout",
     "output_type": "stream",
     "text": [
      "0.9369398\n"
     ]
    },
    {
     "name": "stderr",
     "output_type": "stream",
     "text": [
      "Speed: 2.0ms preprocess, 106.3ms inference, 1.0ms postprocess per image at shape (1, 3, 416, 416)\n",
      "\n",
      "0: 416x416 1 Speed Limit 30, 107.0ms\n",
      "Speed: 2.0ms preprocess, 107.0ms inference, 2.0ms postprocess per image at shape (1, 3, 416, 416)\n",
      "0: 416x416 (no detections), 97.1ms\n",
      "Speed: 3.0ms preprocess, 97.1ms inference, 1.0ms postprocess per image at shape (1, 3, 416, 416)\n",
      "\n",
      "\n"
     ]
    },
    {
     "name": "stdout",
     "output_type": "stream",
     "text": [
      "0.9375111\n"
     ]
    },
    {
     "name": "stderr",
     "output_type": "stream",
     "text": [
      "0: 416x416 (no detections), 106.7ms\n",
      "Speed: 2.5ms preprocess, 106.7ms inference, 1.0ms postprocess per image at shape (1, 3, 416, 416)\n",
      "\n",
      "0: 416x416 1 Speed Limit 30, 105.7ms\n",
      "Speed: 2.0ms preprocess, 105.7ms inference, 2.5ms postprocess per image at shape (1, 3, 416, 416)\n",
      "0: 416x416 (no detections), 98.1ms\n",
      "Speed: 2.0ms preprocess, 98.1ms inference, 0.0ms postprocess per image at shape (1, 3, 416, 416)\n",
      "\n",
      "0: 416x416 (no detections), 100.0ms\n",
      "Speed: 2.0ms preprocess, 100.0ms inference, 1.0ms postprocess per image at shape (1, 3, 416, 416)\n",
      "\n",
      "\n"
     ]
    },
    {
     "name": "stdout",
     "output_type": "stream",
     "text": [
      "0.9370023\n"
     ]
    },
    {
     "name": "stderr",
     "output_type": "stream",
     "text": [
      "0: 416x416 (no detections), 109.0ms\n",
      "Speed: 3.5ms preprocess, 109.0ms inference, 1.0ms postprocess per image at shape (1, 3, 416, 416)\n",
      "0: 416x416 1 Speed Limit 30, 107.7ms\n",
      "Speed: 3.0ms preprocess, 107.7ms inference, 1.0ms postprocess per image at shape (1, 3, 416, 416)\n",
      "\n",
      "0: 416x416 (no detections), 98.8ms\n",
      "Speed: 2.0ms preprocess, 98.8ms inference, 1.0ms postprocess per image at shape (1, 3, 416, 416)\n",
      "\n",
      "\n"
     ]
    },
    {
     "name": "stdout",
     "output_type": "stream",
     "text": [
      "0.9369535\n"
     ]
    },
    {
     "name": "stderr",
     "output_type": "stream",
     "text": [
      "0: 416x416 (no detections), 107.9ms\n",
      "Speed: 3.0ms preprocess, 107.9ms inference, 1.0ms postprocess per image at shape (1, 3, 416, 416)\n",
      "\n",
      "0: 416x416 1 Speed Limit 30, 106.8ms\n",
      "Speed: 2.0ms preprocess, 106.8ms inference, 1.6ms postprocess per image at shape (1, 3, 416, 416)\n",
      "0: 416x416 (no detections), 94.5ms\n",
      "Speed: 3.0ms preprocess, 94.5ms inference, 0.0ms postprocess per image at shape (1, 3, 416, 416)\n",
      "\n",
      "\n"
     ]
    },
    {
     "name": "stdout",
     "output_type": "stream",
     "text": [
      "0.9372714\n"
     ]
    },
    {
     "name": "stderr",
     "output_type": "stream",
     "text": [
      "0: 416x416 (no detections), 105.9ms\n",
      "Speed: 2.9ms preprocess, 105.9ms inference, 2.1ms postprocess per image at shape (1, 3, 416, 416)\n",
      "\n",
      "0: 416x416 1 Speed Limit 30, 123.5ms\n",
      "Speed: 2.7ms preprocess, 123.5ms inference, 1.0ms postprocess per image at shape (1, 3, 416, 416)\n",
      "0: 416x416 (no detections), 107.6ms\n",
      "Speed: 3.5ms preprocess, 107.6ms inference, 0.5ms postprocess per image at shape (1, 3, 416, 416)\n",
      "\n",
      "\n"
     ]
    },
    {
     "name": "stdout",
     "output_type": "stream",
     "text": [
      "0.9376127\n"
     ]
    },
    {
     "name": "stderr",
     "output_type": "stream",
     "text": [
      "0: 416x416 (no detections), 103.8ms\n",
      "Speed: 4.0ms preprocess, 103.8ms inference, 1.1ms postprocess per image at shape (1, 3, 416, 416)\n",
      "\n",
      "0: 416x416 1 Speed Limit 30, 108.1ms\n",
      "Speed: 3.5ms preprocess, 108.1ms inference, 1.5ms postprocess per image at shape (1, 3, 416, 416)\n",
      "0: 416x416 (no detections), 106.7ms\n",
      "Speed: 3.0ms preprocess, 106.7ms inference, 1.0ms postprocess per image at shape (1, 3, 416, 416)\n",
      "\n",
      "0: 416x416 (no detections), 96.2ms\n",
      "Speed: 3.7ms preprocess, 96.2ms inference, 0.0ms postprocess per image at shape (1, 3, 416, 416)\n"
     ]
    },
    {
     "name": "stdout",
     "output_type": "stream",
     "text": [
      "0.9370374\n"
     ]
    },
    {
     "name": "stderr",
     "output_type": "stream",
     "text": [
      "\n",
      "\n",
      "0: 416x416 1 Speed Limit 30, 107.1ms\n",
      "Speed: 2.0ms preprocess, 107.1ms inference, 2.0ms postprocess per image at shape (1, 3, 416, 416)\n",
      "0: 416x416 (no detections), 99.0ms\n",
      "Speed: 2.0ms preprocess, 99.0ms inference, 1.5ms postprocess per image at shape (1, 3, 416, 416)\n",
      "\n",
      "0: 416x416 (no detections), 92.7ms\n",
      "Speed: 3.0ms preprocess, 92.7ms inference, 1.0ms postprocess per image at shape (1, 3, 416, 416)\n",
      "\n"
     ]
    },
    {
     "name": "stdout",
     "output_type": "stream",
     "text": [
      "0.9369689\n"
     ]
    },
    {
     "name": "stderr",
     "output_type": "stream",
     "text": [
      "\n",
      "0: 416x416 (no detections), 102.6ms\n",
      "Speed: 3.0ms preprocess, 102.6ms inference, 0.0ms postprocess per image at shape (1, 3, 416, 416)\n",
      "\n",
      "0: 416x416 1 Speed Limit 30, 108.1ms\n",
      "Speed: 2.0ms preprocess, 108.1ms inference, 2.0ms postprocess per image at shape (1, 3, 416, 416)\n",
      "0: 416x416 (no detections), 95.8ms\n",
      "Speed: 3.5ms preprocess, 95.8ms inference, 1.6ms postprocess per image at shape (1, 3, 416, 416)\n",
      "\n",
      "\n",
      "0: 416x416 1 Speed Limit 30, 103.0ms\n"
     ]
    },
    {
     "name": "stdout",
     "output_type": "stream",
     "text": [
      "0.93683624\n"
     ]
    },
    {
     "name": "stderr",
     "output_type": "stream",
     "text": [
      "Speed: 2.0ms preprocess, 103.0ms inference, 1.0ms postprocess per image at shape (1, 3, 416, 416)\n",
      "0: 416x416 (no detections), 97.0ms\n",
      "Speed: 3.0ms preprocess, 97.0ms inference, 1.0ms postprocess per image at shape (1, 3, 416, 416)\n",
      "\n",
      "0: 416x416 (no detections), 97.2ms\n",
      "Speed: 2.6ms preprocess, 97.2ms inference, 1.0ms postprocess per image at shape (1, 3, 416, 416)\n",
      "\n",
      "\n"
     ]
    },
    {
     "name": "stdout",
     "output_type": "stream",
     "text": [
      "0.93660665\n"
     ]
    },
    {
     "name": "stderr",
     "output_type": "stream",
     "text": [
      "0: 416x416 (no detections), 120.0ms\n",
      "Speed: 3.5ms preprocess, 120.0ms inference, 1.0ms postprocess per image at shape (1, 3, 416, 416)\n",
      "\n",
      "0: 416x416 1 Speed Limit 30, 118.1ms\n",
      "Speed: 2.6ms preprocess, 118.1ms inference, 2.0ms postprocess per image at shape (1, 3, 416, 416)\n",
      "0: 416x416 (no detections), 98.8ms\n",
      "Speed: 3.0ms preprocess, 98.8ms inference, 2.0ms postprocess per image at shape (1, 3, 416, 416)\n",
      "\n",
      "\n"
     ]
    },
    {
     "name": "stdout",
     "output_type": "stream",
     "text": [
      "0.9368318\n"
     ]
    },
    {
     "name": "stderr",
     "output_type": "stream",
     "text": [
      "0: 416x416 (no detections), 103.4ms\n",
      "Speed: 3.6ms preprocess, 103.4ms inference, 1.0ms postprocess per image at shape (1, 3, 416, 416)\n",
      "\n",
      "0: 416x416 1 Speed Limit 30, 109.7ms\n",
      "Speed: 2.0ms preprocess, 109.7ms inference, 2.0ms postprocess per image at shape (1, 3, 416, 416)\n",
      "0: 416x416 (no detections), 96.5ms\n",
      "Speed: 2.0ms preprocess, 96.5ms inference, 1.0ms postprocess per image at shape (1, 3, 416, 416)\n",
      "\n",
      "\n"
     ]
    },
    {
     "name": "stdout",
     "output_type": "stream",
     "text": [
      "0.9369276\n"
     ]
    },
    {
     "name": "stderr",
     "output_type": "stream",
     "text": [
      "0: 416x416 (no detections), 102.4ms\n",
      "Speed: 2.0ms preprocess, 102.4ms inference, 1.0ms postprocess per image at shape (1, 3, 416, 416)\n",
      "\n",
      "0: 416x416 1 Speed Limit 30, 116.2ms\n",
      "Speed: 2.0ms preprocess, 116.2ms inference, 2.0ms postprocess per image at shape (1, 3, 416, 416)\n",
      "0: 416x416 (no detections), 104.1ms\n",
      "Speed: 5.4ms preprocess, 104.1ms inference, 1.0ms postprocess per image at shape (1, 3, 416, 416)\n",
      "\n",
      "\n",
      "0: 416x416 (no detections), 105.2ms\n",
      "Speed: 3.0ms preprocess, 105.2ms inference, 0.0ms postprocess per image at shape (1, 3, 416, 416)\n",
      "\n",
      "0: 416x416 1 Speed Limit 30, 103.5ms\n"
     ]
    },
    {
     "name": "stdout",
     "output_type": "stream",
     "text": [
      "0.93727577\n"
     ]
    },
    {
     "name": "stderr",
     "output_type": "stream",
     "text": [
      "Speed: 2.0ms preprocess, 103.5ms inference, 2.5ms postprocess per image at shape (1, 3, 416, 416)\n",
      "0: 416x416 (no detections), 95.9ms\n",
      "Speed: 2.0ms preprocess, 95.9ms inference, 1.0ms postprocess per image at shape (1, 3, 416, 416)\n",
      "\n",
      "\n"
     ]
    },
    {
     "name": "stdout",
     "output_type": "stream",
     "text": [
      "0.9366683\n"
     ]
    },
    {
     "name": "stderr",
     "output_type": "stream",
     "text": [
      "0: 416x416 (no detections), 116.6ms\n",
      "Speed: 4.0ms preprocess, 116.6ms inference, 1.0ms postprocess per image at shape (1, 3, 416, 416)\n",
      "\n",
      "0: 416x416 1 Speed Limit 30, 109.0ms\n",
      "Speed: 2.0ms preprocess, 109.0ms inference, 1.0ms postprocess per image at shape (1, 3, 416, 416)\n",
      "0: 416x416 (no detections), 100.2ms\n",
      "Speed: 2.0ms preprocess, 100.2ms inference, 1.0ms postprocess per image at shape (1, 3, 416, 416)\n",
      "\n",
      "\n",
      "0: 416x416 (no detections), 100.8ms\n"
     ]
    },
    {
     "name": "stdout",
     "output_type": "stream",
     "text": [
      "0.93668115\n"
     ]
    },
    {
     "name": "stderr",
     "output_type": "stream",
     "text": [
      "Speed: 3.0ms preprocess, 100.8ms inference, 2.2ms postprocess per image at shape (1, 3, 416, 416)\n",
      "\n",
      "0: 416x416 1 Speed Limit 30, 105.1ms\n",
      "Speed: 2.0ms preprocess, 105.1ms inference, 1.0ms postprocess per image at shape (1, 3, 416, 416)\n",
      "0: 416x416 (no detections), 99.2ms\n",
      "Speed: 3.0ms preprocess, 99.2ms inference, 1.0ms postprocess per image at shape (1, 3, 416, 416)\n",
      "\n",
      "0: 416x416 (no detections), 98.9ms\n",
      "Speed: 3.4ms preprocess, 98.9ms inference, 1.0ms postprocess per image at shape (1, 3, 416, 416)\n",
      "\n"
     ]
    },
    {
     "name": "stdout",
     "output_type": "stream",
     "text": [
      "0.93705666\n"
     ]
    },
    {
     "name": "stderr",
     "output_type": "stream",
     "text": [
      "\n",
      "0: 416x416 (no detections), 107.8ms\n",
      "Speed: 5.5ms preprocess, 107.8ms inference, 1.1ms postprocess per image at shape (1, 3, 416, 416)\n",
      "0: 416x416 1 Speed Limit 30, 108.5ms\n",
      "Speed: 2.9ms preprocess, 108.5ms inference, 5.9ms postprocess per image at shape (1, 3, 416, 416)\n",
      "\n",
      "0: 416x416 (no detections), 99.6ms\n",
      "Speed: 3.0ms preprocess, 99.6ms inference, 1.0ms postprocess per image at shape (1, 3, 416, 416)\n",
      "\n",
      "\n"
     ]
    },
    {
     "name": "stdout",
     "output_type": "stream",
     "text": [
      "0.93686223\n"
     ]
    },
    {
     "name": "stderr",
     "output_type": "stream",
     "text": [
      "0: 416x416 (no detections), 107.3ms\n",
      "Speed: 2.5ms preprocess, 107.3ms inference, 1.0ms postprocess per image at shape (1, 3, 416, 416)\n",
      "\n",
      "0: 416x416 1 Speed Limit 30, 109.4ms\n",
      "Speed: 2.0ms preprocess, 109.4ms inference, 2.0ms postprocess per image at shape (1, 3, 416, 416)\n",
      "0: 416x416 (no detections), 100.9ms\n",
      "Speed: 3.0ms preprocess, 100.9ms inference, 0.0ms postprocess per image at shape (1, 3, 416, 416)\n",
      "\n",
      "\n"
     ]
    },
    {
     "name": "stdout",
     "output_type": "stream",
     "text": [
      "0.9370929\n"
     ]
    },
    {
     "name": "stderr",
     "output_type": "stream",
     "text": [
      "0: 416x416 (no detections), 109.6ms\n",
      "Speed: 3.0ms preprocess, 109.6ms inference, 1.0ms postprocess per image at shape (1, 3, 416, 416)\n",
      "\n",
      "0: 416x416 1 Speed Limit 30, 112.9ms\n",
      "Speed: 3.0ms preprocess, 112.9ms inference, 1.0ms postprocess per image at shape (1, 3, 416, 416)\n",
      "0: 416x416 (no detections), 103.6ms\n",
      "Speed: 3.0ms preprocess, 103.6ms inference, 1.5ms postprocess per image at shape (1, 3, 416, 416)\n",
      "\n",
      "\n",
      "0: 416x416 (no detections), 100.3ms\n"
     ]
    },
    {
     "name": "stdout",
     "output_type": "stream",
     "text": [
      "0.9371448\n"
     ]
    },
    {
     "name": "stderr",
     "output_type": "stream",
     "text": [
      "Speed: 3.0ms preprocess, 100.3ms inference, 1.0ms postprocess per image at shape (1, 3, 416, 416)\n",
      "\n",
      "0: 416x416 1 Speed Limit 30, 106.7ms\n",
      "Speed: 2.5ms preprocess, 106.7ms inference, 2.0ms postprocess per image at shape (1, 3, 416, 416)\n",
      "0: 416x416 (no detections), 98.2ms\n",
      "Speed: 3.0ms preprocess, 98.2ms inference, 2.0ms postprocess per image at shape (1, 3, 416, 416)\n",
      "\n",
      "0: 416x416 (no detections), 104.5ms\n",
      "Speed: 3.0ms preprocess, 104.5ms inference, 1.0ms postprocess per image at shape (1, 3, 416, 416)\n",
      "\n",
      "\n"
     ]
    },
    {
     "name": "stdout",
     "output_type": "stream",
     "text": [
      "0.93766826\n"
     ]
    },
    {
     "name": "stderr",
     "output_type": "stream",
     "text": [
      "0: 416x416 1 Speed Limit 30, 105.8ms\n",
      "Speed: 2.0ms preprocess, 105.8ms inference, 1.0ms postprocess per image at shape (1, 3, 416, 416)\n",
      "0: 416x416 (no detections), 100.2ms\n",
      "Speed: 3.0ms preprocess, 100.2ms inference, 0.0ms postprocess per image at shape (1, 3, 416, 416)\n",
      "\n",
      "0: 416x416 (no detections), 104.8ms\n",
      "Speed: 3.0ms preprocess, 104.8ms inference, 0.0ms postprocess per image at shape (1, 3, 416, 416)\n",
      "\n",
      "\n"
     ]
    },
    {
     "name": "stdout",
     "output_type": "stream",
     "text": [
      "0.93688625\n"
     ]
    },
    {
     "name": "stderr",
     "output_type": "stream",
     "text": [
      "0: 416x416 (no detections), 103.2ms\n",
      "Speed: 3.0ms preprocess, 103.2ms inference, 0.9ms postprocess per image at shape (1, 3, 416, 416)\n",
      "0: 416x416 1 Speed Limit 30, 102.8ms\n",
      "Speed: 2.5ms preprocess, 102.8ms inference, 2.0ms postprocess per image at shape (1, 3, 416, 416)\n",
      "\n",
      "0: 416x416 (no detections), 94.5ms\n",
      "Speed: 3.5ms preprocess, 94.5ms inference, 1.0ms postprocess per image at shape (1, 3, 416, 416)\n",
      "\n",
      "\n"
     ]
    },
    {
     "name": "stdout",
     "output_type": "stream",
     "text": [
      "0.9368343\n"
     ]
    },
    {
     "name": "stderr",
     "output_type": "stream",
     "text": [
      "0: 416x416 (no detections), 104.3ms\n",
      "Speed: 3.0ms preprocess, 104.3ms inference, 1.0ms postprocess per image at shape (1, 3, 416, 416)\n",
      "\n",
      "0: 416x416 1 Speed Limit 30, 108.5ms\n",
      "Speed: 3.0ms preprocess, 108.5ms inference, 1.0ms postprocess per image at shape (1, 3, 416, 416)\n",
      "0: 416x416 (no detections), 97.7ms\n",
      "Speed: 2.5ms preprocess, 97.7ms inference, 1.0ms postprocess per image at shape (1, 3, 416, 416)\n",
      "\n",
      "\n",
      "0: 416x416 (no detections), 102.8ms\n"
     ]
    },
    {
     "name": "stdout",
     "output_type": "stream",
     "text": [
      "0.93671274\n"
     ]
    },
    {
     "name": "stderr",
     "output_type": "stream",
     "text": [
      "Speed: 3.4ms preprocess, 102.8ms inference, 0.0ms postprocess per image at shape (1, 3, 416, 416)\n",
      "\n",
      "0: 416x416 1 Speed Limit 30, 113.7ms\n",
      "Speed: 2.0ms preprocess, 113.7ms inference, 1.0ms postprocess per image at shape (1, 3, 416, 416)\n",
      "0: 416x416 (no detections), 103.8ms\n",
      "Speed: 2.5ms preprocess, 103.8ms inference, 0.0ms postprocess per image at shape (1, 3, 416, 416)\n",
      "\n",
      "0: 416x416 (no detections), 99.1ms\n",
      "Speed: 3.0ms preprocess, 99.1ms inference, 1.0ms postprocess per image at shape (1, 3, 416, 416)\n",
      "\n",
      "\n"
     ]
    },
    {
     "name": "stdout",
     "output_type": "stream",
     "text": [
      "0.93720216\n"
     ]
    },
    {
     "name": "stderr",
     "output_type": "stream",
     "text": [
      "0: 416x416 1 Speed Limit 30, 121.6ms\n",
      "Speed: 3.0ms preprocess, 121.6ms inference, 2.8ms postprocess per image at shape (1, 3, 416, 416)\n",
      "0: 416x416 (no detections), 116.9ms\n",
      "Speed: 2.5ms preprocess, 116.9ms inference, 1.0ms postprocess per image at shape (1, 3, 416, 416)\n",
      "\n",
      "0: 416x416 (no detections), 93.2ms\n",
      "Speed: 3.0ms preprocess, 93.2ms inference, 0.0ms postprocess per image at shape (1, 3, 416, 416)\n",
      "\n",
      "\n"
     ]
    },
    {
     "name": "stdout",
     "output_type": "stream",
     "text": [
      "0.9369972\n"
     ]
    },
    {
     "name": "stderr",
     "output_type": "stream",
     "text": [
      "0: 416x416 (no detections), 104.8ms\n",
      "Speed: 3.0ms preprocess, 104.8ms inference, 1.0ms postprocess per image at shape (1, 3, 416, 416)\n",
      "0: 416x416 1 Speed Limit 30, 104.4ms\n",
      "Speed: 3.0ms preprocess, 104.4ms inference, 1.0ms postprocess per image at shape (1, 3, 416, 416)\n",
      "\n",
      "0: 416x416 (no detections), 100.8ms\n",
      "Speed: 3.0ms preprocess, 100.8ms inference, 0.0ms postprocess per image at shape (1, 3, 416, 416)\n",
      "\n",
      "\n"
     ]
    },
    {
     "name": "stdout",
     "output_type": "stream",
     "text": [
      "0.9369898\n"
     ]
    },
    {
     "name": "stderr",
     "output_type": "stream",
     "text": [
      "0: 416x416 (no detections), 102.3ms\n",
      "Speed: 2.5ms preprocess, 102.3ms inference, 1.0ms postprocess per image at shape (1, 3, 416, 416)\n",
      "\n",
      "0: 416x416 1 Speed Limit 30, 106.9ms\n",
      "Speed: 2.0ms preprocess, 106.9ms inference, 1.5ms postprocess per image at shape (1, 3, 416, 416)\n",
      "0: 416x416 (no detections), 110.2ms\n",
      "Speed: 3.0ms preprocess, 110.2ms inference, 0.0ms postprocess per image at shape (1, 3, 416, 416)\n",
      "\n",
      "\n"
     ]
    },
    {
     "name": "stdout",
     "output_type": "stream",
     "text": [
      "0.9371313\n"
     ]
    },
    {
     "name": "stderr",
     "output_type": "stream",
     "text": [
      "0: 416x416 (no detections), 104.2ms\n",
      "Speed: 3.0ms preprocess, 104.2ms inference, 1.1ms postprocess per image at shape (1, 3, 416, 416)\n",
      "\n",
      "0: 416x416 1 Speed Limit 30, 110.2ms\n",
      "Speed: 2.0ms preprocess, 110.2ms inference, 2.0ms postprocess per image at shape (1, 3, 416, 416)\n",
      "0: 416x416 (no detections), 100.1ms\n",
      "Speed: 3.1ms preprocess, 100.1ms inference, 1.0ms postprocess per image at shape (1, 3, 416, 416)\n",
      "\n",
      "\n",
      "0: 416x416 (no detections), 103.8ms\n"
     ]
    },
    {
     "name": "stdout",
     "output_type": "stream",
     "text": [
      "0.93750215\n"
     ]
    },
    {
     "name": "stderr",
     "output_type": "stream",
     "text": [
      "Speed: 3.0ms preprocess, 103.8ms inference, 1.0ms postprocess per image at shape (1, 3, 416, 416)\n",
      "\n",
      "0: 416x416 1 Speed Limit 30, 109.2ms\n",
      "Speed: 2.6ms preprocess, 109.2ms inference, 1.0ms postprocess per image at shape (1, 3, 416, 416)\n",
      "0: 416x416 (no detections), 102.9ms\n",
      "Speed: 3.1ms preprocess, 102.9ms inference, 1.0ms postprocess per image at shape (1, 3, 416, 416)\n",
      "\n",
      "0: 416x416 (no detections), 96.8ms\n",
      "Speed: 3.5ms preprocess, 96.8ms inference, 1.0ms postprocess per image at shape (1, 3, 416, 416)\n",
      "\n",
      "\n"
     ]
    },
    {
     "name": "stdout",
     "output_type": "stream",
     "text": [
      "0.93659735\n"
     ]
    },
    {
     "name": "stderr",
     "output_type": "stream",
     "text": [
      "0: 416x416 (no detections), 107.4ms\n",
      "Speed: 5.9ms preprocess, 107.4ms inference, 1.0ms postprocess per image at shape (1, 3, 416, 416)\n",
      "0: 416x416 1 Speed Limit 30, 108.4ms\n",
      "Speed: 2.0ms preprocess, 108.4ms inference, 6.2ms postprocess per image at shape (1, 3, 416, 416)\n",
      "\n",
      "0: 416x416 (no detections), 96.1ms\n",
      "Speed: 3.0ms preprocess, 96.1ms inference, 1.0ms postprocess per image at shape (1, 3, 416, 416)\n",
      "\n",
      "\n"
     ]
    },
    {
     "name": "stdout",
     "output_type": "stream",
     "text": [
      "0.9368362\n"
     ]
    },
    {
     "name": "stderr",
     "output_type": "stream",
     "text": [
      "0: 416x416 (no detections), 100.7ms\n",
      "Speed: 4.0ms preprocess, 100.7ms inference, 1.0ms postprocess per image at shape (1, 3, 416, 416)\n",
      "\n",
      "0: 416x416 1 Speed Limit 30, 100.5ms\n",
      "Speed: 2.5ms preprocess, 100.5ms inference, 2.0ms postprocess per image at shape (1, 3, 416, 416)\n",
      "0: 416x416 (no detections), 96.8ms\n",
      "Speed: 3.1ms preprocess, 96.8ms inference, 1.0ms postprocess per image at shape (1, 3, 416, 416)\n",
      "\n",
      "\n"
     ]
    },
    {
     "name": "stdout",
     "output_type": "stream",
     "text": [
      "0.93687165\n"
     ]
    },
    {
     "name": "stderr",
     "output_type": "stream",
     "text": [
      "0: 416x416 (no detections), 115.1ms\n",
      "Speed: 2.0ms preprocess, 115.1ms inference, 1.0ms postprocess per image at shape (1, 3, 416, 416)\n",
      "\n",
      "0: 416x416 1 Speed Limit 30, 119.7ms\n",
      "Speed: 3.5ms preprocess, 119.7ms inference, 2.0ms postprocess per image at shape (1, 3, 416, 416)\n",
      "0: 416x416 (no detections), 109.7ms\n",
      "Speed: 3.0ms preprocess, 109.7ms inference, 1.0ms postprocess per image at shape (1, 3, 416, 416)\n",
      "\n",
      "\n"
     ]
    },
    {
     "name": "stdout",
     "output_type": "stream",
     "text": [
      "0.9373139\n"
     ]
    },
    {
     "name": "stderr",
     "output_type": "stream",
     "text": [
      "0: 416x416 (no detections), 105.5ms\n",
      "Speed: 3.0ms preprocess, 105.5ms inference, 1.0ms postprocess per image at shape (1, 3, 416, 416)\n",
      "\n",
      "0: 416x416 1 Speed Limit 30, 107.6ms\n",
      "Speed: 2.2ms preprocess, 107.6ms inference, 2.1ms postprocess per image at shape (1, 3, 416, 416)\n",
      "0: 416x416 (no detections), 101.1ms\n",
      "Speed: 3.0ms preprocess, 101.1ms inference, 1.0ms postprocess per image at shape (1, 3, 416, 416)\n",
      "\n",
      "\n",
      "0: 416x416 (no detections), 107.2ms\n"
     ]
    },
    {
     "name": "stdout",
     "output_type": "stream",
     "text": [
      "0.9369012\n"
     ]
    },
    {
     "name": "stderr",
     "output_type": "stream",
     "text": [
      "Speed: 2.6ms preprocess, 107.2ms inference, 2.1ms postprocess per image at shape (1, 3, 416, 416)\n",
      "\n",
      "0: 416x416 1 Speed Limit 30, 120.3ms\n",
      "Speed: 3.0ms preprocess, 120.3ms inference, 1.0ms postprocess per image at shape (1, 3, 416, 416)\n",
      "0: 416x416 (no detections), 112.2ms\n",
      "Speed: 3.0ms preprocess, 112.2ms inference, 1.0ms postprocess per image at shape (1, 3, 416, 416)\n",
      "\n",
      "\n",
      "0: 416x416 (no detections), 103.3ms\n",
      "Speed: 3.0ms preprocess, 103.3ms inference, 1.0ms postprocess per image at shape (1, 3, 416, 416)\n"
     ]
    },
    {
     "name": "stdout",
     "output_type": "stream",
     "text": [
      "0.93678135\n"
     ]
    },
    {
     "name": "stderr",
     "output_type": "stream",
     "text": [
      "\n",
      "0: 416x416 1 Speed Limit 30, 108.4ms\n",
      "Speed: 3.0ms preprocess, 108.4ms inference, 1.0ms postprocess per image at shape (1, 3, 416, 416)\n",
      "0: 416x416 (no detections), 100.9ms\n",
      "Speed: 4.0ms preprocess, 100.9ms inference, 1.0ms postprocess per image at shape (1, 3, 416, 416)\n",
      "\n",
      "0: 416x416 (no detections), 103.9ms\n",
      "\n",
      "Speed: 1.6ms preprocess, 103.9ms inference, 1.0ms postprocess per image at shape (1, 3, 416, 416)\n",
      "\n"
     ]
    },
    {
     "name": "stdout",
     "output_type": "stream",
     "text": [
      "0.9370778\n"
     ]
    },
    {
     "name": "stderr",
     "output_type": "stream",
     "text": [
      "0: 416x416 1 Speed Limit 30, 109.6ms\n",
      "Speed: 3.5ms preprocess, 109.6ms inference, 2.0ms postprocess per image at shape (1, 3, 416, 416)\n",
      "0: 416x416 (no detections), 102.3ms\n",
      "Speed: 3.0ms preprocess, 102.3ms inference, 1.5ms postprocess per image at shape (1, 3, 416, 416)\n",
      "\n",
      "0: 416x416 (no detections), 110.2ms\n",
      "Speed: 3.0ms preprocess, 110.2ms inference, 1.0ms postprocess per image at shape (1, 3, 416, 416)\n",
      "\n",
      "\n"
     ]
    },
    {
     "name": "stdout",
     "output_type": "stream",
     "text": [
      "0.9375511\n"
     ]
    },
    {
     "name": "stderr",
     "output_type": "stream",
     "text": [
      "0: 416x416 (no detections), 108.4ms\n",
      "Speed: 4.0ms preprocess, 108.4ms inference, 0.0ms postprocess per image at shape (1, 3, 416, 416)\n",
      "0: 416x416 1 Speed Limit 30, 112.9ms\n",
      "Speed: 5.0ms preprocess, 112.9ms inference, 7.5ms postprocess per image at shape (1, 3, 416, 416)\n",
      "\n",
      "0: 416x416 (no detections), 98.3ms\n",
      "Speed: 2.0ms preprocess, 98.3ms inference, 1.0ms postprocess per image at shape (1, 3, 416, 416)\n",
      "\n",
      "\n"
     ]
    },
    {
     "name": "stdout",
     "output_type": "stream",
     "text": [
      "0.9368256\n"
     ]
    },
    {
     "name": "stderr",
     "output_type": "stream",
     "text": [
      "0: 416x416 (no detections), 112.0ms\n",
      "Speed: 3.2ms preprocess, 112.0ms inference, 1.0ms postprocess per image at shape (1, 3, 416, 416)\n",
      "0: 416x416 1 Speed Limit 30, 110.2ms\n",
      "Speed: 2.0ms preprocess, 110.2ms inference, 2.0ms postprocess per image at shape (1, 3, 416, 416)\n",
      "\n",
      "0: 416x416 (no detections), 102.8ms\n",
      "Speed: 2.9ms preprocess, 102.8ms inference, 1.6ms postprocess per image at shape (1, 3, 416, 416)\n",
      "\n",
      "\n"
     ]
    },
    {
     "name": "stdout",
     "output_type": "stream",
     "text": [
      "0.9368437\n"
     ]
    },
    {
     "name": "stderr",
     "output_type": "stream",
     "text": [
      "0: 416x416 (no detections), 113.6ms\n",
      "Speed: 3.1ms preprocess, 113.6ms inference, 2.0ms postprocess per image at shape (1, 3, 416, 416)\n",
      "\n",
      "0: 416x416 1 Speed Limit 30, 113.3ms\n",
      "Speed: 3.4ms preprocess, 113.3ms inference, 3.0ms postprocess per image at shape (1, 3, 416, 416)\n",
      "0: 416x416 (no detections), 114.5ms\n",
      "Speed: 3.0ms preprocess, 114.5ms inference, 1.0ms postprocess per image at shape (1, 3, 416, 416)\n",
      "\n",
      "\n"
     ]
    },
    {
     "name": "stdout",
     "output_type": "stream",
     "text": [
      "0.9369902\n"
     ]
    },
    {
     "name": "stderr",
     "output_type": "stream",
     "text": [
      "0: 416x416 (no detections), 113.0ms\n",
      "Speed: 3.5ms preprocess, 113.0ms inference, 1.0ms postprocess per image at shape (1, 3, 416, 416)\n",
      "\n",
      "0: 416x416 1 Speed Limit 30, 123.9ms\n",
      "Speed: 2.0ms preprocess, 123.9ms inference, 2.5ms postprocess per image at shape (1, 3, 416, 416)\n",
      "0: 416x416 (no detections), 100.3ms\n",
      "Speed: 4.0ms preprocess, 100.3ms inference, 1.5ms postprocess per image at shape (1, 3, 416, 416)\n",
      "\n",
      "\n"
     ]
    },
    {
     "name": "stdout",
     "output_type": "stream",
     "text": [
      "0.93744975\n"
     ]
    },
    {
     "name": "stderr",
     "output_type": "stream",
     "text": [
      "0: 416x416 (no detections), 109.9ms\n",
      "Speed: 3.0ms preprocess, 109.9ms inference, 1.0ms postprocess per image at shape (1, 3, 416, 416)\n",
      "\n",
      "0: 416x416 1 Speed Limit 30, 115.9ms\n",
      "Speed: 2.0ms preprocess, 115.9ms inference, 1.0ms postprocess per image at shape (1, 3, 416, 416)\n",
      "0: 416x416 (no detections), 99.7ms\n",
      "Speed: 3.0ms preprocess, 99.7ms inference, 1.0ms postprocess per image at shape (1, 3, 416, 416)\n",
      "\n",
      "\n"
     ]
    },
    {
     "name": "stdout",
     "output_type": "stream",
     "text": [
      "0.9370327\n"
     ]
    },
    {
     "name": "stderr",
     "output_type": "stream",
     "text": [
      "0: 416x416 (no detections), 107.4ms\n",
      "Speed: 3.5ms preprocess, 107.4ms inference, 1.6ms postprocess per image at shape (1, 3, 416, 416)\n",
      "\n",
      "0: 416x416 1 Speed Limit 30, 112.8ms\n",
      "Speed: 2.0ms preprocess, 112.8ms inference, 2.0ms postprocess per image at shape (1, 3, 416, 416)\n",
      "0: 416x416 (no detections), 102.4ms\n",
      "Speed: 3.2ms preprocess, 102.4ms inference, 1.0ms postprocess per image at shape (1, 3, 416, 416)\n",
      "\n",
      "\n",
      "0: 416x416 (no detections), 110.9ms\n"
     ]
    },
    {
     "name": "stdout",
     "output_type": "stream",
     "text": [
      "0.93692344\n"
     ]
    },
    {
     "name": "stderr",
     "output_type": "stream",
     "text": [
      "Speed: 4.0ms preprocess, 110.9ms inference, 1.0ms postprocess per image at shape (1, 3, 416, 416)\n",
      "0: 416x416 1 Speed Limit 30, 108.5ms\n",
      "Speed: 2.0ms preprocess, 108.5ms inference, 2.0ms postprocess per image at shape (1, 3, 416, 416)\n",
      "\n",
      "0: 416x416 (no detections), 103.5ms\n",
      "Speed: 2.0ms preprocess, 103.5ms inference, 0.0ms postprocess per image at shape (1, 3, 416, 416)\n",
      "\n",
      "\n"
     ]
    },
    {
     "name": "stdout",
     "output_type": "stream",
     "text": [
      "0.93721765\n"
     ]
    },
    {
     "name": "stderr",
     "output_type": "stream",
     "text": [
      "0: 416x416 (no detections), 109.6ms\n",
      "Speed: 3.0ms preprocess, 109.6ms inference, 1.2ms postprocess per image at shape (1, 3, 416, 416)\n",
      "\n",
      "0: 416x416 1 Speed Limit 30, 107.2ms\n",
      "Speed: 2.5ms preprocess, 107.2ms inference, 1.5ms postprocess per image at shape (1, 3, 416, 416)\n",
      "0: 416x416 (no detections), 114.6ms\n",
      "Speed: 3.0ms preprocess, 114.6ms inference, 1.0ms postprocess per image at shape (1, 3, 416, 416)\n",
      "\n",
      "\n"
     ]
    },
    {
     "name": "stdout",
     "output_type": "stream",
     "text": [
      "0.93699217\n"
     ]
    },
    {
     "name": "stderr",
     "output_type": "stream",
     "text": [
      "0: 416x416 (no detections), 113.5ms\n",
      "Speed: 3.0ms preprocess, 113.5ms inference, 1.5ms postprocess per image at shape (1, 3, 416, 416)\n",
      "\n",
      "0: 416x416 1 Speed Limit 30, 109.1ms\n",
      "Speed: 3.0ms preprocess, 109.1ms inference, 2.5ms postprocess per image at shape (1, 3, 416, 416)\n",
      "0: 416x416 (no detections), 106.6ms\n",
      "Speed: 2.5ms preprocess, 106.6ms inference, 1.0ms postprocess per image at shape (1, 3, 416, 416)\n",
      "\n",
      "\n"
     ]
    },
    {
     "name": "stdout",
     "output_type": "stream",
     "text": [
      "0.93694234\n"
     ]
    },
    {
     "name": "stderr",
     "output_type": "stream",
     "text": [
      "0: 416x416 (no detections), 111.6ms\n",
      "Speed: 3.1ms preprocess, 111.6ms inference, 0.0ms postprocess per image at shape (1, 3, 416, 416)\n",
      "\n",
      "0: 416x416 1 Speed Limit 30, 115.8ms\n",
      "Speed: 2.2ms preprocess, 115.8ms inference, 2.1ms postprocess per image at shape (1, 3, 416, 416)\n",
      "0: 416x416 (no detections), 102.5ms\n",
      "Speed: 3.5ms preprocess, 102.5ms inference, 1.0ms postprocess per image at shape (1, 3, 416, 416)\n",
      "\n",
      "\n"
     ]
    },
    {
     "name": "stdout",
     "output_type": "stream",
     "text": [
      "0.93713665\n"
     ]
    },
    {
     "name": "stderr",
     "output_type": "stream",
     "text": [
      "0: 416x416 (no detections), 110.3ms\n",
      "Speed: 2.5ms preprocess, 110.3ms inference, 0.5ms postprocess per image at shape (1, 3, 416, 416)\n",
      "\n",
      "0: 416x416 1 Speed Limit 30, 125.2ms\n",
      "Speed: 2.1ms preprocess, 125.2ms inference, 2.2ms postprocess per image at shape (1, 3, 416, 416)\n",
      "0: 416x416 (no detections), 125.6ms\n",
      "Speed: 3.3ms preprocess, 125.6ms inference, 1.0ms postprocess per image at shape (1, 3, 416, 416)\n",
      "\n",
      "\n",
      "0: 416x416 (no detections), 103.7ms\n"
     ]
    },
    {
     "name": "stdout",
     "output_type": "stream",
     "text": [
      "0.93747336\n"
     ]
    },
    {
     "name": "stderr",
     "output_type": "stream",
     "text": [
      "Speed: 3.0ms preprocess, 103.7ms inference, 1.0ms postprocess per image at shape (1, 3, 416, 416)\n",
      "\n",
      "0: 416x416 1 Speed Limit 30, 117.4ms\n",
      "Speed: 3.0ms preprocess, 117.4ms inference, 2.4ms postprocess per image at shape (1, 3, 416, 416)\n",
      "0: 416x416 (no detections), 111.0ms\n",
      "Speed: 2.0ms preprocess, 111.0ms inference, 0.5ms postprocess per image at shape (1, 3, 416, 416)\n",
      "\n",
      "\n",
      "0: 416x416 (no detections), 110.9ms\n",
      "Speed: 3.0ms preprocess, 110.9ms inference, 0.7ms postprocess per image at shape (1, 3, 416, 416)\n"
     ]
    },
    {
     "name": "stdout",
     "output_type": "stream",
     "text": [
      "0.9366258\n"
     ]
    },
    {
     "name": "stderr",
     "output_type": "stream",
     "text": [
      "\n",
      "0: 416x416 1 Speed Limit 30, 114.7ms\n",
      "Speed: 2.0ms preprocess, 114.7ms inference, 2.0ms postprocess per image at shape (1, 3, 416, 416)\n",
      "0: 416x416 (no detections), 103.5ms\n",
      "Speed: 2.0ms preprocess, 103.5ms inference, 1.6ms postprocess per image at shape (1, 3, 416, 416)\n",
      "\n",
      "\n",
      "0: 416x416 (no detections), 109.9ms\n",
      "Speed: 2.0ms preprocess, 109.9ms inference, 1.0ms postprocess per image at shape (1, 3, 416, 416)\n"
     ]
    },
    {
     "name": "stdout",
     "output_type": "stream",
     "text": [
      "0.9368851\n"
     ]
    },
    {
     "name": "stderr",
     "output_type": "stream",
     "text": [
      "\n",
      "0: 416x416 1 Speed Limit 30, 114.2ms\n",
      "Speed: 2.5ms preprocess, 114.2ms inference, 1.0ms postprocess per image at shape (1, 3, 416, 416)\n",
      "0: 416x416 (no detections), 104.9ms\n",
      "Speed: 2.0ms preprocess, 104.9ms inference, 0.0ms postprocess per image at shape (1, 3, 416, 416)\n",
      "\n",
      "\n",
      "0: 416x416 (no detections), 113.4ms\n",
      "Speed: 3.5ms preprocess, 113.4ms inference, 1.0ms postprocess per image at shape (1, 3, 416, 416)\n",
      "\n"
     ]
    },
    {
     "name": "stdout",
     "output_type": "stream",
     "text": [
      "0.93693167\n"
     ]
    },
    {
     "name": "stderr",
     "output_type": "stream",
     "text": [
      "0: 416x416 1 Speed Limit 30, 117.3ms\n",
      "Speed: 2.0ms preprocess, 117.3ms inference, 2.0ms postprocess per image at shape (1, 3, 416, 416)\n",
      "0: 416x416 (no detections), 110.8ms\n",
      "Speed: 3.0ms preprocess, 110.8ms inference, 1.0ms postprocess per image at shape (1, 3, 416, 416)\n",
      "\n",
      "0: 416x416 (no detections), 103.8ms\n",
      "Speed: 3.2ms preprocess, 103.8ms inference, 1.0ms postprocess per image at shape (1, 3, 416, 416)\n",
      "\n",
      "\n"
     ]
    },
    {
     "name": "stdout",
     "output_type": "stream",
     "text": [
      "0.9373178\n"
     ]
    },
    {
     "name": "stderr",
     "output_type": "stream",
     "text": [
      "0: 416x416 1 Speed Limit 30, 117.9ms\n",
      "Speed: 2.6ms preprocess, 117.9ms inference, 1.4ms postprocess per image at shape (1, 3, 416, 416)\n",
      "0: 416x416 (no detections), 118.4ms\n",
      "Speed: 3.0ms preprocess, 118.4ms inference, 1.0ms postprocess per image at shape (1, 3, 416, 416)\n",
      "\n",
      "0: 416x416 (no detections), 101.3ms\n",
      "Speed: 3.5ms preprocess, 101.3ms inference, 1.0ms postprocess per image at shape (1, 3, 416, 416)\n",
      "\n",
      "\n"
     ]
    },
    {
     "name": "stdout",
     "output_type": "stream",
     "text": [
      "0.9369497\n"
     ]
    },
    {
     "name": "stderr",
     "output_type": "stream",
     "text": [
      "0: 416x416 1 Speed Limit 30, 116.6ms\n",
      "Speed: 1.0ms preprocess, 116.6ms inference, 1.0ms postprocess per image at shape (1, 3, 416, 416)\n",
      "0: 416x416 (no detections), 111.1ms\n",
      "Speed: 3.0ms preprocess, 111.1ms inference, 1.0ms postprocess per image at shape (1, 3, 416, 416)\n",
      "\n",
      "0: 416x416 (no detections), 103.3ms\n",
      "Speed: 3.0ms preprocess, 103.3ms inference, 1.0ms postprocess per image at shape (1, 3, 416, 416)\n",
      "\n",
      "\n"
     ]
    },
    {
     "name": "stdout",
     "output_type": "stream",
     "text": [
      "0.93683666\n"
     ]
    },
    {
     "name": "stderr",
     "output_type": "stream",
     "text": [
      "0: 416x416 (no detections), 113.0ms\n",
      "Speed: 7.1ms preprocess, 113.0ms inference, 1.5ms postprocess per image at shape (1, 3, 416, 416)\n",
      "0: 416x416 1 Speed Limit 30, 111.5ms\n",
      "Speed: 4.0ms preprocess, 111.5ms inference, 7.0ms postprocess per image at shape (1, 3, 416, 416)\n",
      "\n",
      "0: 416x416 (no detections), 116.4ms\n",
      "Speed: 3.0ms preprocess, 116.4ms inference, 1.0ms postprocess per image at shape (1, 3, 416, 416)\n",
      "\n",
      "\n"
     ]
    },
    {
     "name": "stdout",
     "output_type": "stream",
     "text": [
      "0.9371414\n"
     ]
    },
    {
     "name": "stderr",
     "output_type": "stream",
     "text": [
      "0: 416x416 (no detections), 131.7ms\n",
      "Speed: 2.5ms preprocess, 131.7ms inference, 2.0ms postprocess per image at shape (1, 3, 416, 416)\n",
      "0: 416x416 1 Speed Limit 30, 142.7ms\n",
      "Speed: 5.0ms preprocess, 142.7ms inference, 2.0ms postprocess per image at shape (1, 3, 416, 416)\n",
      "\n",
      "0: 416x416 (no detections), 101.3ms\n",
      "Speed: 3.2ms preprocess, 101.3ms inference, 1.0ms postprocess per image at shape (1, 3, 416, 416)\n",
      "\n",
      "\n"
     ]
    },
    {
     "name": "stdout",
     "output_type": "stream",
     "text": [
      "0.9375496\n"
     ]
    },
    {
     "name": "stderr",
     "output_type": "stream",
     "text": [
      "0: 416x416 1 Speed Limit 30, 111.4ms\n",
      "Speed: 2.0ms preprocess, 111.4ms inference, 2.0ms postprocess per image at shape (1, 3, 416, 416)\n",
      "0: 416x416 (no detections), 104.8ms\n",
      "Speed: 3.0ms preprocess, 104.8ms inference, 1.5ms postprocess per image at shape (1, 3, 416, 416)\n",
      "\n",
      "0: 416x416 (no detections), 98.4ms\n",
      "Speed: 3.0ms preprocess, 98.4ms inference, 1.0ms postprocess per image at shape (1, 3, 416, 416)\n",
      "\n",
      "\n"
     ]
    },
    {
     "name": "stdout",
     "output_type": "stream",
     "text": [
      "0.93686515\n"
     ]
    },
    {
     "name": "stderr",
     "output_type": "stream",
     "text": [
      "0: 416x416 (no detections), 118.6ms\n",
      "Speed: 4.0ms preprocess, 118.6ms inference, 2.0ms postprocess per image at shape (1, 3, 416, 416)\n",
      "0: 416x416 1 Speed Limit 30, 116.0ms\n",
      "Speed: 3.0ms preprocess, 116.0ms inference, 2.0ms postprocess per image at shape (1, 3, 416, 416)\n",
      "\n",
      "0: 416x416 (no detections), 123.3ms\n",
      "Speed: 5.0ms preprocess, 123.3ms inference, 1.6ms postprocess per image at shape (1, 3, 416, 416)\n",
      "\n",
      "\n"
     ]
    },
    {
     "name": "stdout",
     "output_type": "stream",
     "text": [
      "0.93686116\n"
     ]
    },
    {
     "name": "stderr",
     "output_type": "stream",
     "text": [
      "0: 416x416 1 Speed Limit 30, 131.8ms\n",
      "Speed: 2.1ms preprocess, 131.8ms inference, 2.0ms postprocess per image at shape (1, 3, 416, 416)\n",
      "0: 416x416 (no detections), 128.8ms\n",
      "Speed: 3.1ms preprocess, 128.8ms inference, 1.0ms postprocess per image at shape (1, 3, 416, 416)\n",
      "\n",
      "\n",
      "0: 416x416 (no detections), 139.2ms\n"
     ]
    },
    {
     "name": "stdout",
     "output_type": "stream",
     "text": [
      "0.9369794\n"
     ]
    },
    {
     "name": "stderr",
     "output_type": "stream",
     "text": [
      "Speed: 7.6ms preprocess, 139.2ms inference, 1.0ms postprocess per image at shape (1, 3, 416, 416)\n",
      "0: 416x416 1 Speed Limit 30, 126.7ms\n",
      "Speed: 5.5ms preprocess, 126.7ms inference, 2.3ms postprocess per image at shape (1, 3, 416, 416)\n",
      "\n",
      "0: 416x416 (no detections), 99.3ms\n",
      "Speed: 5.0ms preprocess, 99.3ms inference, 1.0ms postprocess per image at shape (1, 3, 416, 416)\n",
      "\n",
      "\n"
     ]
    },
    {
     "name": "stdout",
     "output_type": "stream",
     "text": [
      "0.93692\n"
     ]
    },
    {
     "name": "stderr",
     "output_type": "stream",
     "text": [
      "0: 416x416 (no detections), 111.5ms\n",
      "Speed: 3.6ms preprocess, 111.5ms inference, 1.0ms postprocess per image at shape (1, 3, 416, 416)\n",
      "0: 416x416 1 Speed Limit 30, 106.7ms\n",
      "\n",
      "Speed: 3.3ms preprocess, 106.7ms inference, 2.4ms postprocess per image at shape (1, 3, 416, 416)\n",
      "0: 416x416 (no detections), 101.8ms\n",
      "Speed: 4.6ms preprocess, 101.8ms inference, 1.0ms postprocess per image at shape (1, 3, 416, 416)\n",
      "\n",
      "\n"
     ]
    },
    {
     "name": "stdout",
     "output_type": "stream",
     "text": [
      "0.9367423\n"
     ]
    },
    {
     "name": "stderr",
     "output_type": "stream",
     "text": [
      "0: 416x416 (no detections), 112.8ms\n",
      "Speed: 3.5ms preprocess, 112.8ms inference, 1.0ms postprocess per image at shape (1, 3, 416, 416)\n",
      "\n",
      "0: 416x416 1 Speed Limit 30, 109.5ms\n",
      "Speed: 2.0ms preprocess, 109.5ms inference, 1.0ms postprocess per image at shape (1, 3, 416, 416)\n",
      "0: 416x416 (no detections), 105.1ms\n",
      "Speed: 3.0ms preprocess, 105.1ms inference, 1.0ms postprocess per image at shape (1, 3, 416, 416)\n",
      "\n",
      "\n"
     ]
    },
    {
     "name": "stdout",
     "output_type": "stream",
     "text": [
      "0.9366837\n"
     ]
    },
    {
     "name": "stderr",
     "output_type": "stream",
     "text": [
      "0: 416x416 (no detections), 109.4ms\n",
      "Speed: 2.3ms preprocess, 109.4ms inference, 1.0ms postprocess per image at shape (1, 3, 416, 416)\n",
      "\n",
      "0: 416x416 1 Speed Limit 30, 110.3ms\n",
      "Speed: 2.0ms preprocess, 110.3ms inference, 2.5ms postprocess per image at shape (1, 3, 416, 416)\n",
      "0: 416x416 (no detections), 108.1ms\n",
      "Speed: 3.5ms preprocess, 108.1ms inference, 1.0ms postprocess per image at shape (1, 3, 416, 416)\n",
      "\n",
      "\n"
     ]
    },
    {
     "name": "stdout",
     "output_type": "stream",
     "text": [
      "0.9372518\n"
     ]
    },
    {
     "name": "stderr",
     "output_type": "stream",
     "text": [
      "0: 416x416 (no detections), 108.7ms\n",
      "Speed: 3.2ms preprocess, 108.7ms inference, 1.0ms postprocess per image at shape (1, 3, 416, 416)\n",
      "\n",
      "0: 416x416 1 Speed Limit 30, 106.8ms\n",
      "Speed: 2.0ms preprocess, 106.8ms inference, 2.0ms postprocess per image at shape (1, 3, 416, 416)\n",
      "0: 416x416 (no detections), 102.0ms\n",
      "Speed: 2.0ms preprocess, 102.0ms inference, 1.0ms postprocess per image at shape (1, 3, 416, 416)\n",
      "\n",
      "\n"
     ]
    },
    {
     "name": "stdout",
     "output_type": "stream",
     "text": [
      "0.93699205\n"
     ]
    },
    {
     "name": "stderr",
     "output_type": "stream",
     "text": [
      "0: 416x416 (no detections), 113.0ms\n",
      "Speed: 3.0ms preprocess, 113.0ms inference, 1.0ms postprocess per image at shape (1, 3, 416, 416)\n",
      "\n",
      "0: 416x416 1 Speed Limit 30, 116.7ms\n",
      "Speed: 2.0ms preprocess, 116.7ms inference, 2.5ms postprocess per image at shape (1, 3, 416, 416)\n",
      "0: 416x416 (no detections), 107.5ms\n",
      "Speed: 3.2ms preprocess, 107.5ms inference, 2.0ms postprocess per image at shape (1, 3, 416, 416)\n",
      "\n",
      "\n"
     ]
    },
    {
     "name": "stdout",
     "output_type": "stream",
     "text": [
      "0.9369363\n"
     ]
    },
    {
     "name": "stderr",
     "output_type": "stream",
     "text": [
      "0: 416x416 (no detections), 116.7ms\n",
      "Speed: 3.0ms preprocess, 116.7ms inference, 3.0ms postprocess per image at shape (1, 3, 416, 416)\n",
      "\n",
      "0: 416x416 1 Speed Limit 30, 122.6ms\n",
      "Speed: 2.0ms preprocess, 122.6ms inference, 2.0ms postprocess per image at shape (1, 3, 416, 416)\n",
      "0: 416x416 (no detections), 105.0ms\n",
      "Speed: 3.3ms preprocess, 105.0ms inference, 0.0ms postprocess per image at shape (1, 3, 416, 416)\n",
      "\n",
      "\n",
      "0: 416x416 (no detections), 108.6ms\n",
      "Speed: 3.0ms preprocess, 108.6ms inference, 1.0ms postprocess per image at shape (1, 3, 416, 416)\n"
     ]
    },
    {
     "name": "stdout",
     "output_type": "stream",
     "text": [
      "0.9370819\n"
     ]
    },
    {
     "name": "stderr",
     "output_type": "stream",
     "text": [
      "\n",
      "0: 416x416 1 Speed Limit 30, 121.8ms\n",
      "Speed: 2.0ms preprocess, 121.8ms inference, 2.0ms postprocess per image at shape (1, 3, 416, 416)\n",
      "0: 416x416 (no detections), 112.2ms\n",
      "Speed: 3.1ms preprocess, 112.2ms inference, 1.0ms postprocess per image at shape (1, 3, 416, 416)\n",
      "\n",
      "\n",
      "0: 416x416 (no detections), 102.1ms\n",
      "Speed: 3.5ms preprocess, 102.1ms inference, 1.0ms postprocess per image at shape (1, 3, 416, 416)\n",
      "\n"
     ]
    },
    {
     "name": "stdout",
     "output_type": "stream",
     "text": [
      "0.93751585\n"
     ]
    },
    {
     "name": "stderr",
     "output_type": "stream",
     "text": [
      "0: 416x416 1 Speed Limit 30, 112.8ms\n",
      "Speed: 2.0ms preprocess, 112.8ms inference, 2.5ms postprocess per image at shape (1, 3, 416, 416)\n",
      "0: 416x416 (no detections), 108.2ms\n",
      "Speed: 3.0ms preprocess, 108.2ms inference, 1.0ms postprocess per image at shape (1, 3, 416, 416)\n",
      "\n",
      "0: 416x416 (no detections), 102.5ms\n",
      "Speed: 3.0ms preprocess, 102.5ms inference, 1.0ms postprocess per image at shape (1, 3, 416, 416)\n",
      "\n",
      "\n"
     ]
    },
    {
     "name": "stdout",
     "output_type": "stream",
     "text": [
      "0.93664515\n"
     ]
    },
    {
     "name": "stderr",
     "output_type": "stream",
     "text": [
      "0: 416x416 1 Speed Limit 30, 124.7ms\n",
      "Speed: 3.3ms preprocess, 124.7ms inference, 2.0ms postprocess per image at shape (1, 3, 416, 416)\n",
      "0: 416x416 (no detections), 122.1ms\n",
      "Speed: 3.0ms preprocess, 122.1ms inference, 1.0ms postprocess per image at shape (1, 3, 416, 416)\n",
      "\n",
      "\n",
      "0: 416x416 (no detections), 127.4ms\n",
      "Speed: 3.5ms preprocess, 127.4ms inference, 1.1ms postprocess per image at shape (1, 3, 416, 416)\n"
     ]
    },
    {
     "name": "stdout",
     "output_type": "stream",
     "text": [
      "0.9368646\n"
     ]
    },
    {
     "name": "stderr",
     "output_type": "stream",
     "text": [
      "\n",
      "0: 416x416 1 Speed Limit 30, 121.2ms\n",
      "Speed: 3.0ms preprocess, 121.2ms inference, 3.0ms postprocess per image at shape (1, 3, 416, 416)\n",
      "0: 416x416 (no detections), 103.7ms\n",
      "Speed: 4.0ms preprocess, 103.7ms inference, 1.0ms postprocess per image at shape (1, 3, 416, 416)\n",
      "\n",
      "\n"
     ]
    },
    {
     "name": "stdout",
     "output_type": "stream",
     "text": [
      "0.9376456\n"
     ]
    },
    {
     "name": "stderr",
     "output_type": "stream",
     "text": [
      "0: 416x416 (no detections), 107.2ms\n",
      "Speed: 2.0ms preprocess, 107.2ms inference, 1.0ms postprocess per image at shape (1, 3, 416, 416)\n",
      "\n",
      "0: 416x416 1 Speed Limit 30, 103.9ms\n",
      "Speed: 2.0ms preprocess, 103.9ms inference, 2.0ms postprocess per image at shape (1, 3, 416, 416)\n",
      "0: 416x416 (no detections), 113.6ms\n",
      "Speed: 2.5ms preprocess, 113.6ms inference, 1.0ms postprocess per image at shape (1, 3, 416, 416)\n",
      "\n",
      "\n"
     ]
    },
    {
     "name": "stdout",
     "output_type": "stream",
     "text": [
      "0.93682677\n"
     ]
    },
    {
     "name": "stderr",
     "output_type": "stream",
     "text": [
      "0: 416x416 (no detections), 105.9ms\n",
      "Speed: 2.6ms preprocess, 105.9ms inference, 0.0ms postprocess per image at shape (1, 3, 416, 416)\n",
      "\n",
      "0: 416x416 1 Speed Limit 30, 109.9ms\n",
      "Speed: 2.0ms preprocess, 109.9ms inference, 1.5ms postprocess per image at shape (1, 3, 416, 416)\n",
      "0: 416x416 (no detections), 98.7ms\n",
      "Speed: 2.0ms preprocess, 98.7ms inference, 1.0ms postprocess per image at shape (1, 3, 416, 416)\n",
      "\n",
      "\n"
     ]
    },
    {
     "name": "stdout",
     "output_type": "stream",
     "text": [
      "0.9367325\n"
     ]
    },
    {
     "name": "stderr",
     "output_type": "stream",
     "text": [
      "0: 416x416 (no detections), 106.2ms\n",
      "Speed: 3.0ms preprocess, 106.2ms inference, 1.0ms postprocess per image at shape (1, 3, 416, 416)\n",
      "\n",
      "0: 416x416 1 Speed Limit 30, 113.6ms\n",
      "Speed: 2.0ms preprocess, 113.6ms inference, 2.0ms postprocess per image at shape (1, 3, 416, 416)\n",
      "0: 416x416 (no detections), 104.7ms\n",
      "Speed: 3.4ms preprocess, 104.7ms inference, 1.0ms postprocess per image at shape (1, 3, 416, 416)\n",
      "\n",
      "\n",
      "0: 416x416 (no detections), 112.5ms\n"
     ]
    },
    {
     "name": "stdout",
     "output_type": "stream",
     "text": [
      "0.93672734\n"
     ]
    },
    {
     "name": "stderr",
     "output_type": "stream",
     "text": [
      "Speed: 3.0ms preprocess, 112.5ms inference, 1.0ms postprocess per image at shape (1, 3, 416, 416)\n",
      "\n",
      "0: 416x416 1 Speed Limit 30, 117.2ms\n",
      "Speed: 2.2ms preprocess, 117.2ms inference, 1.0ms postprocess per image at shape (1, 3, 416, 416)\n",
      "0: 416x416 (no detections), 108.9ms\n",
      "Speed: 3.0ms preprocess, 108.9ms inference, 1.0ms postprocess per image at shape (1, 3, 416, 416)\n",
      "\n",
      "\n",
      "0: 416x416 (no detections), 114.9ms\n"
     ]
    },
    {
     "name": "stdout",
     "output_type": "stream",
     "text": [
      "0.9370755\n"
     ]
    },
    {
     "name": "stderr",
     "output_type": "stream",
     "text": [
      "Speed: 4.0ms preprocess, 114.9ms inference, 0.0ms postprocess per image at shape (1, 3, 416, 416)\n",
      "\n",
      "0: 416x416 1 Speed Limit 30, 127.3ms\n",
      "Speed: 2.5ms preprocess, 127.3ms inference, 2.0ms postprocess per image at shape (1, 3, 416, 416)\n",
      "0: 416x416 (no detections), 122.0ms\n",
      "Speed: 4.0ms preprocess, 122.0ms inference, 1.0ms postprocess per image at shape (1, 3, 416, 416)\n",
      "\n",
      "\n"
     ]
    },
    {
     "name": "stdout",
     "output_type": "stream",
     "text": [
      "0.9368106\n"
     ]
    },
    {
     "name": "stderr",
     "output_type": "stream",
     "text": [
      "0: 416x416 (no detections), 115.5ms\n",
      "Speed: 3.0ms preprocess, 115.5ms inference, 3.4ms postprocess per image at shape (1, 3, 416, 416)\n",
      "\n",
      "0: 416x416 1 Speed Limit 30, 120.6ms\n",
      "Speed: 2.5ms preprocess, 120.6ms inference, 1.0ms postprocess per image at shape (1, 3, 416, 416)\n",
      "0: 416x416 (no detections), 111.5ms\n",
      "Speed: 3.5ms preprocess, 111.5ms inference, 1.0ms postprocess per image at shape (1, 3, 416, 416)\n",
      "\n",
      "\n"
     ]
    },
    {
     "name": "stdout",
     "output_type": "stream",
     "text": [
      "0.93710345\n"
     ]
    },
    {
     "name": "stderr",
     "output_type": "stream",
     "text": [
      "0: 416x416 (no detections), 113.1ms\n",
      "Speed: 3.3ms preprocess, 113.1ms inference, 0.0ms postprocess per image at shape (1, 3, 416, 416)\n",
      "\n",
      "0: 416x416 1 Speed Limit 30, 114.2ms\n",
      "Speed: 2.0ms preprocess, 114.2ms inference, 1.1ms postprocess per image at shape (1, 3, 416, 416)\n",
      "0: 416x416 (no detections), 107.9ms\n",
      "Speed: 4.5ms preprocess, 107.9ms inference, 1.0ms postprocess per image at shape (1, 3, 416, 416)\n",
      "\n",
      "\n"
     ]
    },
    {
     "name": "stdout",
     "output_type": "stream",
     "text": [
      "0.937104\n"
     ]
    },
    {
     "name": "stderr",
     "output_type": "stream",
     "text": [
      "0: 416x416 (no detections), 115.2ms\n",
      "Speed: 3.8ms preprocess, 115.2ms inference, 1.0ms postprocess per image at shape (1, 3, 416, 416)\n",
      "\n",
      "0: 416x416 1 Speed Limit 30, 115.4ms\n",
      "Speed: 2.0ms preprocess, 115.4ms inference, 2.0ms postprocess per image at shape (1, 3, 416, 416)\n",
      "0: 416x416 (no detections), 110.5ms\n",
      "Speed: 2.6ms preprocess, 110.5ms inference, 1.0ms postprocess per image at shape (1, 3, 416, 416)\n",
      "\n",
      "\n"
     ]
    },
    {
     "name": "stdout",
     "output_type": "stream",
     "text": [
      "0.9376275\n"
     ]
    },
    {
     "name": "stderr",
     "output_type": "stream",
     "text": [
      "0: 416x416 (no detections), 132.2ms\n",
      "Speed: 3.3ms preprocess, 132.2ms inference, 2.1ms postprocess per image at shape (1, 3, 416, 416)\n",
      "\n",
      "0: 416x416 1 Speed Limit 30, 130.4ms\n",
      "Speed: 3.0ms preprocess, 130.4ms inference, 3.3ms postprocess per image at shape (1, 3, 416, 416)\n",
      "0: 416x416 (no detections), 107.3ms\n",
      "Speed: 3.5ms preprocess, 107.3ms inference, 1.0ms postprocess per image at shape (1, 3, 416, 416)\n",
      "\n",
      "\n"
     ]
    },
    {
     "name": "stdout",
     "output_type": "stream",
     "text": [
      "0.9368905\n"
     ]
    },
    {
     "name": "stderr",
     "output_type": "stream",
     "text": [
      "0: 416x416 (no detections), 129.9ms\n",
      "Speed: 3.4ms preprocess, 129.9ms inference, 2.2ms postprocess per image at shape (1, 3, 416, 416)\n",
      "\n",
      "0: 416x416 1 Speed Limit 30, 127.8ms\n",
      "Speed: 3.0ms preprocess, 127.8ms inference, 1.0ms postprocess per image at shape (1, 3, 416, 416)\n",
      "0: 416x416 (no detections), 105.5ms\n",
      "Speed: 3.0ms preprocess, 105.5ms inference, 1.5ms postprocess per image at shape (1, 3, 416, 416)\n",
      "\n",
      "\n"
     ]
    },
    {
     "name": "stdout",
     "output_type": "stream",
     "text": [
      "0.9367502\n"
     ]
    },
    {
     "name": "stderr",
     "output_type": "stream",
     "text": [
      "0: 416x416 1 Speed Limit 30, 113.9ms\n",
      "Speed: 3.3ms preprocess, 113.9ms inference, 3.5ms postprocess per image at shape (1, 3, 416, 416)\n",
      "0: 416x416 (no detections), 112.3ms\n",
      "Speed: 2.0ms preprocess, 112.3ms inference, 1.0ms postprocess per image at shape (1, 3, 416, 416)\n",
      "\n",
      "0: 416x416 (no detections), 106.8ms\n",
      "Speed: 3.1ms preprocess, 106.8ms inference, 1.0ms postprocess per image at shape (1, 3, 416, 416)\n",
      "\n",
      "\n"
     ]
    },
    {
     "name": "stdout",
     "output_type": "stream",
     "text": [
      "0.9377285\n"
     ]
    },
    {
     "name": "stderr",
     "output_type": "stream",
     "text": [
      "0: 416x416 (no detections), 118.0ms\n",
      "Speed: 3.1ms preprocess, 118.0ms inference, 1.3ms postprocess per image at shape (1, 3, 416, 416)\n",
      "0: 416x416 1 Speed Limit 30, 120.4ms\n",
      "Speed: 6.1ms preprocess, 120.4ms inference, 8.5ms postprocess per image at shape (1, 3, 416, 416)\n",
      "\n",
      "0: 416x416 (no detections), 104.2ms\n",
      "Speed: 3.0ms preprocess, 104.2ms inference, 0.0ms postprocess per image at shape (1, 3, 416, 416)\n",
      "\n",
      "\n"
     ]
    },
    {
     "name": "stdout",
     "output_type": "stream",
     "text": [
      "0.9369474\n"
     ]
    },
    {
     "name": "stderr",
     "output_type": "stream",
     "text": [
      "0: 416x416 (no detections), 116.3ms\n",
      "Speed: 6.0ms preprocess, 116.3ms inference, 1.0ms postprocess per image at shape (1, 3, 416, 416)\n",
      "0: 416x416 1 Speed Limit 30, 115.8ms\n",
      "Speed: 3.5ms preprocess, 115.8ms inference, 4.5ms postprocess per image at shape (1, 3, 416, 416)\n",
      "\n",
      "0: 416x416 (no detections), 106.0ms\n",
      "Speed: 2.0ms preprocess, 106.0ms inference, 1.0ms postprocess per image at shape (1, 3, 416, 416)\n",
      "\n",
      "\n"
     ]
    },
    {
     "name": "stdout",
     "output_type": "stream",
     "text": [
      "0.93688095\n"
     ]
    },
    {
     "name": "stderr",
     "output_type": "stream",
     "text": [
      "0: 416x416 1 Speed Limit 30, 118.5ms\n",
      "Speed: 3.3ms preprocess, 118.5ms inference, 2.3ms postprocess per image at shape (1, 3, 416, 416)\n",
      "0: 416x416 (no detections), 116.3ms\n",
      "Speed: 3.0ms preprocess, 116.3ms inference, 1.0ms postprocess per image at shape (1, 3, 416, 416)\n",
      "\n",
      "0: 416x416 (no detections), 104.7ms\n",
      "Speed: 3.0ms preprocess, 104.7ms inference, 1.1ms postprocess per image at shape (1, 3, 416, 416)\n",
      "\n",
      "\n"
     ]
    },
    {
     "name": "stdout",
     "output_type": "stream",
     "text": [
      "0.9367076\n"
     ]
    },
    {
     "name": "stderr",
     "output_type": "stream",
     "text": [
      "0: 416x416 1 Speed Limit 30, 115.7ms\n",
      "Speed: 3.0ms preprocess, 115.7ms inference, 2.2ms postprocess per image at shape (1, 3, 416, 416)\n",
      "0: 416x416 (no detections), 113.4ms\n",
      "Speed: 3.0ms preprocess, 113.4ms inference, 0.0ms postprocess per image at shape (1, 3, 416, 416)\n",
      "\n",
      "0: 416x416 (no detections), 112.8ms\n",
      "Speed: 3.0ms preprocess, 112.8ms inference, 1.0ms postprocess per image at shape (1, 3, 416, 416)\n",
      "\n",
      "\n"
     ]
    },
    {
     "name": "stdout",
     "output_type": "stream",
     "text": [
      "0.9371671\n"
     ]
    },
    {
     "name": "stderr",
     "output_type": "stream",
     "text": [
      "0: 416x416 (no detections), 114.1ms\n",
      "Speed: 4.0ms preprocess, 114.1ms inference, 2.0ms postprocess per image at shape (1, 3, 416, 416)\n",
      "0: 416x416 1 Speed Limit 30, 115.1ms\n",
      "Speed: 6.0ms preprocess, 115.1ms inference, 3.0ms postprocess per image at shape (1, 3, 416, 416)\n",
      "\n",
      "\n",
      "0: 416x416 (no detections), 132.4ms\n",
      "Speed: 3.3ms preprocess, 132.4ms inference, 1.0ms postprocess per image at shape (1, 3, 416, 416)\n",
      "\n",
      "0: 416x416 1 Speed Limit 30, 120.3ms\n"
     ]
    },
    {
     "name": "stdout",
     "output_type": "stream",
     "text": [
      "0.93666667\n"
     ]
    },
    {
     "name": "stderr",
     "output_type": "stream",
     "text": [
      "Speed: 3.0ms preprocess, 120.3ms inference, 2.0ms postprocess per image at shape (1, 3, 416, 416)\n",
      "0: 416x416 (no detections), 105.7ms\n",
      "Speed: 3.0ms preprocess, 105.7ms inference, 0.5ms postprocess per image at shape (1, 3, 416, 416)\n",
      "\n",
      "\n"
     ]
    },
    {
     "name": "stdout",
     "output_type": "stream",
     "text": [
      "0.93688625\n"
     ]
    },
    {
     "name": "stderr",
     "output_type": "stream",
     "text": [
      "0: 416x416 (no detections), 117.2ms\n",
      "Speed: 3.0ms preprocess, 117.2ms inference, 1.0ms postprocess per image at shape (1, 3, 416, 416)\n",
      "\n",
      "0: 416x416 1 Speed Limit 30, 115.3ms\n",
      "Speed: 2.0ms preprocess, 115.3ms inference, 1.0ms postprocess per image at shape (1, 3, 416, 416)\n",
      "0: 416x416 (no detections), 105.8ms\n",
      "Speed: 3.0ms preprocess, 105.8ms inference, 1.0ms postprocess per image at shape (1, 3, 416, 416)\n",
      "\n",
      "\n"
     ]
    },
    {
     "name": "stdout",
     "output_type": "stream",
     "text": [
      "0.9370596\n"
     ]
    },
    {
     "name": "stderr",
     "output_type": "stream",
     "text": [
      "0: 416x416 (no detections), 120.4ms\n",
      "Speed: 3.0ms preprocess, 120.4ms inference, 1.0ms postprocess per image at shape (1, 3, 416, 416)\n",
      "\n",
      "0: 416x416 1 Speed Limit 30, 116.5ms\n",
      "Speed: 2.0ms preprocess, 116.5ms inference, 2.2ms postprocess per image at shape (1, 3, 416, 416)\n",
      "0: 416x416 (no detections), 102.1ms\n",
      "Speed: 2.9ms preprocess, 102.1ms inference, 1.0ms postprocess per image at shape (1, 3, 416, 416)\n",
      "\n",
      "\n"
     ]
    },
    {
     "name": "stdout",
     "output_type": "stream",
     "text": [
      "0.9366009\n"
     ]
    },
    {
     "name": "stderr",
     "output_type": "stream",
     "text": [
      "0: 416x416 (no detections), 115.9ms\n",
      "Speed: 3.6ms preprocess, 115.9ms inference, 1.0ms postprocess per image at shape (1, 3, 416, 416)\n",
      "\n",
      "0: 416x416 1 Speed Limit 30, 129.3ms\n",
      "Speed: 2.0ms preprocess, 129.3ms inference, 2.0ms postprocess per image at shape (1, 3, 416, 416)\n",
      "0: 416x416 (no detections), 107.4ms\n",
      "Speed: 2.5ms preprocess, 107.4ms inference, 0.0ms postprocess per image at shape (1, 3, 416, 416)\n",
      "\n",
      "\n"
     ]
    },
    {
     "name": "stdout",
     "output_type": "stream",
     "text": [
      "0.9369391\n"
     ]
    },
    {
     "name": "stderr",
     "output_type": "stream",
     "text": [
      "0: 416x416 (no detections), 114.6ms\n",
      "Speed: 3.0ms preprocess, 114.6ms inference, 0.0ms postprocess per image at shape (1, 3, 416, 416)\n",
      "\n",
      "0: 416x416 1 Speed Limit 30, 120.7ms\n",
      "Speed: 2.0ms preprocess, 120.7ms inference, 2.0ms postprocess per image at shape (1, 3, 416, 416)\n",
      "0: 416x416 (no detections), 108.0ms\n",
      "Speed: 2.5ms preprocess, 108.0ms inference, 1.0ms postprocess per image at shape (1, 3, 416, 416)\n",
      "\n",
      "\n"
     ]
    },
    {
     "name": "stdout",
     "output_type": "stream",
     "text": [
      "0.9372986\n"
     ]
    },
    {
     "name": "stderr",
     "output_type": "stream",
     "text": [
      "0: 416x416 (no detections), 120.7ms\n",
      "Speed: 2.6ms preprocess, 120.7ms inference, 1.3ms postprocess per image at shape (1, 3, 416, 416)\n",
      "\n",
      "0: 416x416 1 Speed Limit 30, 122.8ms\n",
      "Speed: 1.0ms preprocess, 122.8ms inference, 2.8ms postprocess per image at shape (1, 3, 416, 416)\n",
      "0: 416x416 (no detections), 108.4ms\n",
      "Speed: 3.0ms preprocess, 108.4ms inference, 2.0ms postprocess per image at shape (1, 3, 416, 416)\n",
      "\n",
      "\n"
     ]
    },
    {
     "name": "stdout",
     "output_type": "stream",
     "text": [
      "0.93743855\n"
     ]
    },
    {
     "name": "stderr",
     "output_type": "stream",
     "text": [
      "0: 416x416 (no detections), 113.2ms\n",
      "Speed: 3.6ms preprocess, 113.2ms inference, 2.1ms postprocess per image at shape (1, 3, 416, 416)\n",
      "\n",
      "0: 416x416 1 Speed Limit 30, 117.1ms\n",
      "Speed: 3.0ms preprocess, 117.1ms inference, 2.4ms postprocess per image at shape (1, 3, 416, 416)\n",
      "0: 416x416 (no detections), 105.2ms\n",
      "Speed: 3.9ms preprocess, 105.2ms inference, 1.0ms postprocess per image at shape (1, 3, 416, 416)\n",
      "\n",
      "\n"
     ]
    },
    {
     "name": "stdout",
     "output_type": "stream",
     "text": [
      "0.93678916\n"
     ]
    },
    {
     "name": "stderr",
     "output_type": "stream",
     "text": [
      "0: 416x416 (no detections), 115.5ms\n",
      "Speed: 3.0ms preprocess, 115.5ms inference, 1.0ms postprocess per image at shape (1, 3, 416, 416)\n",
      "\n",
      "0: 416x416 1 Speed Limit 30, 134.3ms\n",
      "Speed: 2.0ms preprocess, 134.3ms inference, 1.5ms postprocess per image at shape (1, 3, 416, 416)\n",
      "\n",
      "0: 416x416 (no detections), 119.6ms\n",
      "Speed: 3.0ms preprocess, 119.6ms inference, 1.0ms postprocess per image at shape (1, 3, 416, 416)\n",
      "\n",
      "0: 416x416 1 Speed Limit 30, 112.1ms\n",
      "Speed: 3.0ms preprocess, 112.1ms inference, 1.0ms postprocess per image at shape (1, 3, 416, 416)\n",
      "0: 416x416 (no detections), 103.2ms\n"
     ]
    },
    {
     "name": "stdout",
     "output_type": "stream",
     "text": [
      "0.9372446\n",
      "0.9375284\n"
     ]
    },
    {
     "name": "stderr",
     "output_type": "stream",
     "text": [
      "Speed: 3.5ms preprocess, 103.2ms inference, 1.0ms postprocess per image at shape (1, 3, 416, 416)\n",
      "\n",
      "0: 416x416 (no detections), 107.6ms\n",
      "Speed: 3.0ms preprocess, 107.6ms inference, 1.0ms postprocess per image at shape (1, 3, 416, 416)\n",
      "\n",
      "\n",
      "0: 416x416 1 Speed Limit 30, 114.8ms\n",
      "Speed: 2.0ms preprocess, 114.8ms inference, 1.0ms postprocess per image at shape (1, 3, 416, 416)\n",
      "0: 416x416 (no detections), 109.3ms\n",
      "Speed: 3.0ms preprocess, 109.3ms inference, 0.0ms postprocess per image at shape (1, 3, 416, 416)\n",
      "\n",
      "0: 416x416 (no detections), 108.3ms\n",
      "Speed: 3.5ms preprocess, 108.3ms inference, 1.0ms postprocess per image at shape (1, 3, 416, 416)\n",
      "\n",
      "\n"
     ]
    },
    {
     "name": "stdout",
     "output_type": "stream",
     "text": [
      "0.9368077\n"
     ]
    },
    {
     "name": "stderr",
     "output_type": "stream",
     "text": [
      "0: 416x416 (no detections), 117.7ms\n",
      "Speed: 6.8ms preprocess, 117.7ms inference, 1.0ms postprocess per image at shape (1, 3, 416, 416)\n",
      "0: 416x416 1 Speed Limit 30, 120.0ms\n",
      "Speed: 3.5ms preprocess, 120.0ms inference, 7.0ms postprocess per image at shape (1, 3, 416, 416)\n",
      "\n",
      "0: 416x416 (no detections), 105.6ms\n",
      "Speed: 3.0ms preprocess, 105.6ms inference, 0.0ms postprocess per image at shape (1, 3, 416, 416)\n",
      "\n",
      "\n"
     ]
    },
    {
     "name": "stdout",
     "output_type": "stream",
     "text": [
      "0.9368868\n"
     ]
    },
    {
     "name": "stderr",
     "output_type": "stream",
     "text": [
      "0: 416x416 (no detections), 127.4ms\n",
      "Speed: 3.0ms preprocess, 127.4ms inference, 1.0ms postprocess per image at shape (1, 3, 416, 416)\n",
      "0: 416x416 1 Speed Limit 30, 130.4ms\n",
      "Speed: 6.5ms preprocess, 130.4ms inference, 7.5ms postprocess per image at shape (1, 3, 416, 416)\n",
      "\n",
      "\n",
      "0: 416x416 (no detections), 115.3ms\n",
      "Speed: 3.5ms preprocess, 115.3ms inference, 1.8ms postprocess per image at shape (1, 3, 416, 416)\n",
      "\n",
      "0: 416x416 1 Speed Limit 30, 112.4ms\n",
      "Speed: 3.0ms preprocess, 112.4ms inference, 1.0ms postprocess per image at shape (1, 3, 416, 416)\n"
     ]
    },
    {
     "name": "stdout",
     "output_type": "stream",
     "text": [
      "0.9369754\n",
      "0.93690336\n"
     ]
    },
    {
     "name": "stderr",
     "output_type": "stream",
     "text": [
      "0: 416x416 (no detections), 107.0ms\n",
      "Speed: 2.0ms preprocess, 107.0ms inference, 1.0ms postprocess per image at shape (1, 3, 416, 416)\n",
      "\n",
      "\n",
      "0: 416x416 (no detections), 115.1ms\n",
      "Speed: 3.5ms preprocess, 115.1ms inference, 1.0ms postprocess per image at shape (1, 3, 416, 416)\n",
      "\n",
      "0: 416x416 1 Speed Limit 30, 116.0ms\n",
      "Speed: 2.0ms preprocess, 116.0ms inference, 2.0ms postprocess per image at shape (1, 3, 416, 416)\n",
      "\n",
      "0: 416x416 (no detections), 107.9ms\n",
      "Speed: 3.1ms preprocess, 107.9ms inference, 1.0ms postprocess per image at shape (1, 3, 416, 416)\n",
      "\n",
      "0: 416x416 1 Speed Limit 30, 114.1ms\n"
     ]
    },
    {
     "name": "stdout",
     "output_type": "stream",
     "text": [
      "0.9367902\n"
     ]
    },
    {
     "name": "stderr",
     "output_type": "stream",
     "text": [
      "Speed: 5.2ms preprocess, 114.1ms inference, 1.5ms postprocess per image at shape (1, 3, 416, 416)\n",
      "0: 416x416 (no detections), 108.2ms\n",
      "Speed: 4.0ms preprocess, 108.2ms inference, 0.0ms postprocess per image at shape (1, 3, 416, 416)\n",
      "\n",
      "0: 416x416 (no detections), 103.8ms\n",
      "Speed: 3.0ms preprocess, 103.8ms inference, 1.0ms postprocess per image at shape (1, 3, 416, 416)\n",
      "\n",
      "\n"
     ]
    },
    {
     "name": "stdout",
     "output_type": "stream",
     "text": [
      "0.9377461\n"
     ]
    },
    {
     "name": "stderr",
     "output_type": "stream",
     "text": [
      "0: 416x416 1 Speed Limit 30, 115.7ms\n",
      "Speed: 2.5ms preprocess, 115.7ms inference, 1.0ms postprocess per image at shape (1, 3, 416, 416)\n",
      "0: 416x416 (no detections), 110.7ms\n",
      "Speed: 4.0ms preprocess, 110.7ms inference, 1.0ms postprocess per image at shape (1, 3, 416, 416)\n",
      "\n",
      "0: 416x416 (no detections), 114.3ms\n",
      "Speed: 3.0ms preprocess, 114.3ms inference, 0.9ms postprocess per image at shape (1, 3, 416, 416)\n",
      "\n",
      "\n"
     ]
    },
    {
     "name": "stdout",
     "output_type": "stream",
     "text": [
      "0.9369861\n"
     ]
    },
    {
     "name": "stderr",
     "output_type": "stream",
     "text": [
      "0: 416x416 (no detections), 121.8ms\n",
      "Speed: 3.0ms preprocess, 121.8ms inference, 3.0ms postprocess per image at shape (1, 3, 416, 416)\n",
      "0: 416x416 1 Speed Limit 30, 123.8ms\n",
      "Speed: 5.5ms preprocess, 123.8ms inference, 2.0ms postprocess per image at shape (1, 3, 416, 416)\n",
      "\n",
      "0: 416x416 (no detections), 113.4ms\n",
      "Speed: 3.0ms preprocess, 113.4ms inference, 1.0ms postprocess per image at shape (1, 3, 416, 416)\n",
      "\n",
      "\n"
     ]
    },
    {
     "name": "stdout",
     "output_type": "stream",
     "text": [
      "0.9368894\n"
     ]
    },
    {
     "name": "stderr",
     "output_type": "stream",
     "text": [
      "0: 416x416 1 Speed Limit 30, 118.7ms\n",
      "Speed: 2.0ms preprocess, 118.7ms inference, 2.0ms postprocess per image at shape (1, 3, 416, 416)\n",
      "0: 416x416 (no detections), 114.9ms\n",
      "Speed: 2.0ms preprocess, 114.9ms inference, 0.0ms postprocess per image at shape (1, 3, 416, 416)\n",
      "\n",
      "0: 416x416 (no detections), 107.3ms\n",
      "Speed: 3.0ms preprocess, 107.3ms inference, 1.0ms postprocess per image at shape (1, 3, 416, 416)\n",
      "\n",
      "\n"
     ]
    },
    {
     "name": "stdout",
     "output_type": "stream",
     "text": [
      "0.93669367\n"
     ]
    },
    {
     "name": "stderr",
     "output_type": "stream",
     "text": [
      "0: 416x416 (no detections), 112.7ms\n",
      "Speed: 3.5ms preprocess, 112.7ms inference, 1.0ms postprocess per image at shape (1, 3, 416, 416)\n",
      "0: 416x416 1 Speed Limit 30, 114.5ms\n",
      "Speed: 2.3ms preprocess, 114.5ms inference, 2.0ms postprocess per image at shape (1, 3, 416, 416)\n",
      "\n",
      "0: 416x416 (no detections), 101.7ms\n",
      "Speed: 3.0ms preprocess, 101.7ms inference, 1.0ms postprocess per image at shape (1, 3, 416, 416)\n",
      "\n",
      "\n"
     ]
    },
    {
     "name": "stdout",
     "output_type": "stream",
     "text": [
      "0.9371131\n"
     ]
    },
    {
     "name": "stderr",
     "output_type": "stream",
     "text": [
      "0: 416x416 (no detections), 126.6ms\n",
      "Speed: 2.9ms preprocess, 126.6ms inference, 2.4ms postprocess per image at shape (1, 3, 416, 416)\n",
      "0: 416x416 1 Speed Limit 30, 124.3ms\n",
      "Speed: 2.6ms preprocess, 124.3ms inference, 2.0ms postprocess per image at shape (1, 3, 416, 416)\n",
      "\n",
      "0: 416x416 (no detections), 108.1ms\n",
      "Speed: 3.5ms preprocess, 108.1ms inference, 1.1ms postprocess per image at shape (1, 3, 416, 416)\n",
      "\n",
      "\n"
     ]
    },
    {
     "name": "stdout",
     "output_type": "stream",
     "text": [
      "0.93668354\n"
     ]
    },
    {
     "name": "stderr",
     "output_type": "stream",
     "text": [
      "0: 416x416 (no detections), 106.8ms\n",
      "0: 416x416 1 Speed Limit 30, 109.6ms\n",
      "Speed: 2.3ms preprocess, 106.8ms inference, 2.0ms postprocess per image at shape (1, 3, 416, 416)\n",
      "Speed: 5.1ms preprocess, 109.6ms inference, 3.0ms postprocess per image at shape (1, 3, 416, 416)\n",
      "\n",
      "0: 416x416 (no detections), 113.6ms\n",
      "Speed: 3.0ms preprocess, 113.6ms inference, 1.0ms postprocess per image at shape (1, 3, 416, 416)\n",
      "\n",
      "\n"
     ]
    },
    {
     "name": "stdout",
     "output_type": "stream",
     "text": [
      "0.93675905\n"
     ]
    },
    {
     "name": "stderr",
     "output_type": "stream",
     "text": [
      "0: 416x416 (no detections), 114.1ms\n",
      "Speed: 3.5ms preprocess, 114.1ms inference, 2.0ms postprocess per image at shape (1, 3, 416, 416)\n",
      "0: 416x416 1 Speed Limit 30, 118.7ms\n",
      "Speed: 6.0ms preprocess, 118.7ms inference, 7.2ms postprocess per image at shape (1, 3, 416, 416)\n",
      "\n",
      "0: 416x416 (no detections), 107.1ms\n",
      "Speed: 3.0ms preprocess, 107.1ms inference, 0.5ms postprocess per image at shape (1, 3, 416, 416)\n",
      "\n",
      "\n"
     ]
    },
    {
     "name": "stdout",
     "output_type": "stream",
     "text": [
      "0.93731254\n"
     ]
    },
    {
     "name": "stderr",
     "output_type": "stream",
     "text": [
      "0: 416x416 1 Speed Limit 30, 116.3ms\n",
      "Speed: 6.0ms preprocess, 116.3ms inference, 2.0ms postprocess per image at shape (1, 3, 416, 416)\n",
      "0: 416x416 (no detections), 117.4ms\n",
      "Speed: 2.0ms preprocess, 117.4ms inference, 5.2ms postprocess per image at shape (1, 3, 416, 416)\n",
      "\n",
      "0: 416x416 (no detections), 113.6ms\n",
      "Speed: 2.6ms preprocess, 113.6ms inference, 1.0ms postprocess per image at shape (1, 3, 416, 416)\n",
      "\n",
      "\n"
     ]
    },
    {
     "name": "stdout",
     "output_type": "stream",
     "text": [
      "0.93766814\n"
     ]
    },
    {
     "name": "stderr",
     "output_type": "stream",
     "text": [
      "0: 416x416 1 Speed Limit 30, 117.6ms\n",
      "Speed: 3.0ms preprocess, 117.6ms inference, 2.0ms postprocess per image at shape (1, 3, 416, 416)\n",
      "0: 416x416 (no detections), 117.0ms\n",
      "Speed: 3.0ms preprocess, 117.0ms inference, 1.0ms postprocess per image at shape (1, 3, 416, 416)\n",
      "\n",
      "\n",
      "0: 416x416 (no detections), 120.9ms\n",
      "Speed: 3.0ms preprocess, 120.9ms inference, 1.0ms postprocess per image at shape (1, 3, 416, 416)\n",
      "\n"
     ]
    },
    {
     "name": "stdout",
     "output_type": "stream",
     "text": [
      "0.9368916\n"
     ]
    },
    {
     "name": "stderr",
     "output_type": "stream",
     "text": [
      "0: 416x416 1 Speed Limit 30, 118.0ms\n",
      "Speed: 3.0ms preprocess, 118.0ms inference, 1.0ms postprocess per image at shape (1, 3, 416, 416)\n",
      "0: 416x416 (no detections), 108.4ms\n",
      "Speed: 3.0ms preprocess, 108.4ms inference, 1.0ms postprocess per image at shape (1, 3, 416, 416)\n",
      "\n",
      "\n",
      "0: 416x416 (no detections), 114.9ms\n",
      "Speed: 4.0ms preprocess, 114.9ms inference, 0.0ms postprocess per image at shape (1, 3, 416, 416)\n"
     ]
    },
    {
     "name": "stdout",
     "output_type": "stream",
     "text": [
      "0.93672895\n"
     ]
    },
    {
     "name": "stderr",
     "output_type": "stream",
     "text": [
      "\n",
      "0: 416x416 1 Speed Limit 30, 119.1ms\n",
      "Speed: 2.0ms preprocess, 119.1ms inference, 1.0ms postprocess per image at shape (1, 3, 416, 416)\n",
      "0: 416x416 (no detections), 109.6ms\n",
      "Speed: 2.0ms preprocess, 109.6ms inference, 1.1ms postprocess per image at shape (1, 3, 416, 416)\n",
      "\n",
      "\n",
      "0: 416x416 (no detections), 117.4ms\n",
      "Speed: 3.0ms preprocess, 117.4ms inference, 1.0ms postprocess per image at shape (1, 3, 416, 416)\n",
      "\n"
     ]
    },
    {
     "name": "stdout",
     "output_type": "stream",
     "text": [
      "0.936635\n"
     ]
    },
    {
     "name": "stderr",
     "output_type": "stream",
     "text": [
      "0: 416x416 1 Speed Limit 30, 136.5ms\n",
      "Speed: 2.0ms preprocess, 136.5ms inference, 2.0ms postprocess per image at shape (1, 3, 416, 416)\n",
      "0: 416x416 (no detections), 125.2ms\n",
      "Speed: 2.0ms preprocess, 125.2ms inference, 1.0ms postprocess per image at shape (1, 3, 416, 416)\n",
      "\n",
      "\n",
      "0: 416x416 (no detections), 111.2ms\n",
      "Speed: 4.0ms preprocess, 111.2ms inference, 1.0ms postprocess per image at shape (1, 3, 416, 416)\n",
      "\n",
      "0: 416x416 1 Speed Limit 30, 107.0ms\n",
      "Speed: 3.0ms preprocess, 107.0ms inference, 6.6ms postprocess per image at shape (1, 3, 416, 416)\n"
     ]
    },
    {
     "name": "stdout",
     "output_type": "stream",
     "text": [
      "0.93703413\n",
      "0.93725264\n"
     ]
    },
    {
     "name": "stderr",
     "output_type": "stream",
     "text": [
      "0: 416x416 (no detections), 109.2ms\n",
      "Speed: 4.0ms preprocess, 109.2ms inference, 0.0ms postprocess per image at shape (1, 3, 416, 416)\n",
      "\n",
      "\n",
      "0: 416x416 (no detections), 117.3ms\n",
      "Speed: 2.6ms preprocess, 117.3ms inference, 1.0ms postprocess per image at shape (1, 3, 416, 416)\n",
      "\n",
      "0: 416x416 1 Speed Limit 30, 112.0ms\n",
      "Speed: 3.0ms preprocess, 112.0ms inference, 6.2ms postprocess per image at shape (1, 3, 416, 416)\n",
      "0: 416x416 (no detections), 109.8ms\n",
      "Speed: 4.0ms preprocess, 109.8ms inference, 1.0ms postprocess per image at shape (1, 3, 416, 416)\n",
      "\n",
      "\n"
     ]
    },
    {
     "name": "stdout",
     "output_type": "stream",
     "text": [
      "0.9369566\n"
     ]
    },
    {
     "name": "stderr",
     "output_type": "stream",
     "text": [
      "0: 416x416 (no detections), 123.2ms\n",
      "Speed: 3.1ms preprocess, 123.2ms inference, 1.0ms postprocess per image at shape (1, 3, 416, 416)\n",
      "0: 416x416 1 Speed Limit 30, 120.0ms\n",
      "Speed: 3.0ms preprocess, 120.0ms inference, 3.0ms postprocess per image at shape (1, 3, 416, 416)\n",
      "\n",
      "0: 416x416 (no detections), 106.1ms\n",
      "Speed: 3.0ms preprocess, 106.1ms inference, 1.0ms postprocess per image at shape (1, 3, 416, 416)\n",
      "\n",
      "\n"
     ]
    },
    {
     "name": "stdout",
     "output_type": "stream",
     "text": [
      "0.9371757\n"
     ]
    },
    {
     "name": "stderr",
     "output_type": "stream",
     "text": [
      "0: 416x416 (no detections), 128.3ms\n",
      "Speed: 3.0ms preprocess, 128.3ms inference, 1.0ms postprocess per image at shape (1, 3, 416, 416)\n",
      "0: 416x416 1 Speed Limit 30, 128.9ms\n",
      "Speed: 2.5ms preprocess, 128.9ms inference, 1.5ms postprocess per image at shape (1, 3, 416, 416)\n",
      "\n",
      "0: 416x416 (no detections), 102.1ms\n",
      "Speed: 4.5ms preprocess, 102.1ms inference, 1.0ms postprocess per image at shape (1, 3, 416, 416)\n",
      "\n",
      "\n"
     ]
    },
    {
     "name": "stdout",
     "output_type": "stream",
     "text": [
      "0.93655676\n"
     ]
    },
    {
     "name": "stderr",
     "output_type": "stream",
     "text": [
      "0: 416x416 (no detections), 110.0ms\n",
      "Speed: 3.2ms preprocess, 110.0ms inference, 1.0ms postprocess per image at shape (1, 3, 416, 416)\n",
      "0: 416x416 1 Speed Limit 30, 111.0ms\n",
      "Speed: 2.0ms preprocess, 111.0ms inference, 1.0ms postprocess per image at shape (1, 3, 416, 416)\n",
      "\n",
      "0: 416x416 (no detections), 111.3ms\n",
      "Speed: 3.5ms preprocess, 111.3ms inference, 1.0ms postprocess per image at shape (1, 3, 416, 416)\n",
      "\n",
      "\n"
     ]
    },
    {
     "name": "stdout",
     "output_type": "stream",
     "text": [
      "0.9368805\n"
     ]
    },
    {
     "name": "stderr",
     "output_type": "stream",
     "text": [
      "0: 416x416 (no detections), 117.3ms\n",
      "Speed: 3.0ms preprocess, 117.3ms inference, 1.0ms postprocess per image at shape (1, 3, 416, 416)\n",
      "0: 416x416 1 Speed Limit 30, 116.6ms\n",
      "Speed: 2.0ms preprocess, 116.6ms inference, 2.0ms postprocess per image at shape (1, 3, 416, 416)\n",
      "\n",
      "0: 416x416 (no detections), 115.9ms\n",
      "Speed: 3.9ms preprocess, 115.9ms inference, 1.1ms postprocess per image at shape (1, 3, 416, 416)\n",
      "\n",
      "\n"
     ]
    },
    {
     "name": "stdout",
     "output_type": "stream",
     "text": [
      "0.9370868\n"
     ]
    },
    {
     "name": "stderr",
     "output_type": "stream",
     "text": [
      "0: 416x416 1 Speed Limit 30, 165.2ms\n",
      "Speed: 3.0ms preprocess, 165.2ms inference, 2.0ms postprocess per image at shape (1, 3, 416, 416)\n",
      "0: 416x416 (no detections), 148.3ms\n",
      "Speed: 12.4ms preprocess, 148.3ms inference, 7.6ms postprocess per image at shape (1, 3, 416, 416)\n",
      "\n",
      "\n",
      "0: 416x416 (no detections), 116.8ms\n",
      "Speed: 3.0ms preprocess, 116.8ms inference, 2.0ms postprocess per image at shape (1, 3, 416, 416)\n",
      "0: 416x416 1 Speed Limit 30, 119.8ms\n",
      "Speed: 5.0ms preprocess, 119.8ms inference, 7.6ms postprocess per image at shape (1, 3, 416, 416)\n",
      "\n"
     ]
    },
    {
     "name": "stdout",
     "output_type": "stream",
     "text": [
      "0.937674\n",
      "0.9369271\n"
     ]
    },
    {
     "name": "stderr",
     "output_type": "stream",
     "text": [
      "\n",
      "0: 416x416 (no detections), 119.5ms\n",
      "Speed: 3.0ms preprocess, 119.5ms inference, 2.0ms postprocess per image at shape (1, 3, 416, 416)\n",
      "\n",
      "0: 416x416 1 Speed Limit 30, 129.2ms\n",
      "Speed: 3.0ms preprocess, 129.2ms inference, 2.0ms postprocess per image at shape (1, 3, 416, 416)\n",
      "\n",
      "0: 416x416 (no detections), 141.9ms\n",
      "Speed: 3.0ms preprocess, 141.9ms inference, 1.8ms postprocess per image at shape (1, 3, 416, 416)\n",
      "\n"
     ]
    },
    {
     "name": "stdout",
     "output_type": "stream",
     "text": [
      "0.93721974\n"
     ]
    },
    {
     "name": "stderr",
     "output_type": "stream",
     "text": [
      "0: 416x416 1 Speed Limit 30, 158.9ms\n",
      "Speed: 3.0ms preprocess, 158.9ms inference, 2.0ms postprocess per image at shape (1, 3, 416, 416)\n",
      "0: 416x416 (no detections), 139.8ms\n",
      "Speed: 4.5ms preprocess, 139.8ms inference, 2.0ms postprocess per image at shape (1, 3, 416, 416)\n",
      "\n",
      "\n"
     ]
    },
    {
     "name": "stdout",
     "output_type": "stream",
     "text": [
      "0.93684965\n"
     ]
    },
    {
     "name": "stderr",
     "output_type": "stream",
     "text": [
      "0: 416x416 (no detections), 135.2ms\n",
      "Speed: 9.2ms preprocess, 135.2ms inference, 2.5ms postprocess per image at shape (1, 3, 416, 416)\n",
      "\n",
      "0: 416x416 1 Speed Limit 30, 128.4ms\n",
      "Speed: 4.0ms preprocess, 128.4ms inference, 6.0ms postprocess per image at shape (1, 3, 416, 416)\n",
      "0: 416x416 (no detections), 135.6ms\n",
      "Speed: 13.6ms preprocess, 135.6ms inference, 1.0ms postprocess per image at shape (1, 3, 416, 416)\n",
      "\n",
      "\n"
     ]
    },
    {
     "name": "stdout",
     "output_type": "stream",
     "text": [
      "0.9366371\n"
     ]
    },
    {
     "name": "stderr",
     "output_type": "stream",
     "text": [
      "0: 416x416 1 Speed Limit 30, 116.4ms\n",
      "Speed: 2.0ms preprocess, 116.4ms inference, 2.0ms postprocess per image at shape (1, 3, 416, 416)\n",
      "0: 416x416 (no detections), 118.7ms\n",
      "Speed: 4.0ms preprocess, 118.7ms inference, 1.0ms postprocess per image at shape (1, 3, 416, 416)\n",
      "\n",
      "0: 416x416 (no detections), 103.1ms\n",
      "Speed: 3.0ms preprocess, 103.1ms inference, 1.5ms postprocess per image at shape (1, 3, 416, 416)\n",
      "\n",
      "\n"
     ]
    },
    {
     "name": "stdout",
     "output_type": "stream",
     "text": [
      "0.93713707\n"
     ]
    },
    {
     "name": "stderr",
     "output_type": "stream",
     "text": [
      "0: 416x416 (no detections), 120.0ms\n",
      "Speed: 5.5ms preprocess, 120.0ms inference, 1.6ms postprocess per image at shape (1, 3, 416, 416)\n",
      "0: 416x416 1 Speed Limit 30, 120.6ms\n",
      "Speed: 2.9ms preprocess, 120.6ms inference, 7.6ms postprocess per image at shape (1, 3, 416, 416)\n",
      "\n",
      "0: 416x416 (no detections), 111.7ms\n",
      "Speed: 3.5ms preprocess, 111.7ms inference, 0.6ms postprocess per image at shape (1, 3, 416, 416)\n",
      "\n",
      "\n"
     ]
    },
    {
     "name": "stdout",
     "output_type": "stream",
     "text": [
      "0.93671274\n"
     ]
    },
    {
     "name": "stderr",
     "output_type": "stream",
     "text": [
      "0: 416x416 (no detections), 129.1ms\n",
      "Speed: 5.0ms preprocess, 129.1ms inference, 1.0ms postprocess per image at shape (1, 3, 416, 416)\n",
      "0: 416x416 1 Speed Limit 30, 127.1ms\n",
      "Speed: 3.0ms preprocess, 127.1ms inference, 6.6ms postprocess per image at shape (1, 3, 416, 416)\n",
      "\n",
      "\n",
      "0: 416x416 (no detections), 116.7ms\n",
      "Speed: 2.5ms preprocess, 116.7ms inference, 1.5ms postprocess per image at shape (1, 3, 416, 416)\n",
      "\n"
     ]
    },
    {
     "name": "stdout",
     "output_type": "stream",
     "text": [
      "0.93681765\n"
     ]
    },
    {
     "name": "stderr",
     "output_type": "stream",
     "text": [
      "0: 416x416 1 Speed Limit 30, 118.6ms\n",
      "Speed: 3.0ms preprocess, 118.6ms inference, 3.3ms postprocess per image at shape (1, 3, 416, 416)\n",
      "0: 416x416 (no detections), 112.3ms\n",
      "Speed: 4.0ms preprocess, 112.3ms inference, 1.0ms postprocess per image at shape (1, 3, 416, 416)\n",
      "\n",
      "\n"
     ]
    },
    {
     "name": "stdout",
     "output_type": "stream",
     "text": [
      "0.937287\n"
     ]
    },
    {
     "name": "stderr",
     "output_type": "stream",
     "text": [
      "0: 416x416 (no detections), 144.4ms\n",
      "Speed: 11.5ms preprocess, 144.4ms inference, 2.0ms postprocess per image at shape (1, 3, 416, 416)\n",
      "\n",
      "0: 416x416 1 Speed Limit 30, 132.5ms\n",
      "Speed: 2.0ms preprocess, 132.5ms inference, 2.0ms postprocess per image at shape (1, 3, 416, 416)\n",
      "0: 416x416 (no detections), 126.3ms\n",
      "Speed: 3.2ms preprocess, 126.3ms inference, 0.0ms postprocess per image at shape (1, 3, 416, 416)\n",
      "\n",
      "\n"
     ]
    },
    {
     "name": "stdout",
     "output_type": "stream",
     "text": [
      "0.93761533\n"
     ]
    },
    {
     "name": "stderr",
     "output_type": "stream",
     "text": [
      "0: 416x416 (no detections), 119.3ms\n",
      "Speed: 4.5ms preprocess, 119.3ms inference, 1.0ms postprocess per image at shape (1, 3, 416, 416)\n",
      "0: 416x416 1 Speed Limit 30, 114.2ms\n",
      "Speed: 3.2ms preprocess, 114.2ms inference, 2.0ms postprocess per image at shape (1, 3, 416, 416)\n",
      "\n",
      "0: 416x416 (no detections), 120.9ms\n",
      "Speed: 3.5ms preprocess, 120.9ms inference, 1.5ms postprocess per image at shape (1, 3, 416, 416)\n",
      "\n",
      "\n"
     ]
    },
    {
     "name": "stdout",
     "output_type": "stream",
     "text": [
      "0.936925\n"
     ]
    },
    {
     "name": "stderr",
     "output_type": "stream",
     "text": [
      "0: 416x416 1 Speed Limit 30, 119.9ms\n",
      "Speed: 2.0ms preprocess, 119.9ms inference, 1.2ms postprocess per image at shape (1, 3, 416, 416)\n",
      "0: 416x416 (no detections), 117.1ms\n",
      "Speed: 4.0ms preprocess, 117.1ms inference, 0.0ms postprocess per image at shape (1, 3, 416, 416)\n",
      "\n",
      "\n",
      "0: 416x416 (no detections), 121.8ms\n",
      "Speed: 3.0ms preprocess, 121.8ms inference, 1.0ms postprocess per image at shape (1, 3, 416, 416)\n",
      "\n"
     ]
    },
    {
     "name": "stdout",
     "output_type": "stream",
     "text": [
      "0.93671274\n"
     ]
    },
    {
     "name": "stderr",
     "output_type": "stream",
     "text": [
      "0: 416x416 1 Speed Limit 30, 124.8ms\n",
      "Speed: 4.0ms preprocess, 124.8ms inference, 1.0ms postprocess per image at shape (1, 3, 416, 416)\n",
      "0: 416x416 (no detections), 113.6ms\n",
      "Speed: 4.5ms preprocess, 113.6ms inference, 0.0ms postprocess per image at shape (1, 3, 416, 416)\n",
      "\n",
      "\n",
      "0: 416x416 (no detections), 111.0ms\n",
      "Speed: 3.0ms preprocess, 111.0ms inference, 1.0ms postprocess per image at shape (1, 3, 416, 416)\n",
      "\n"
     ]
    },
    {
     "name": "stdout",
     "output_type": "stream",
     "text": [
      "0.9367054\n"
     ]
    },
    {
     "name": "stderr",
     "output_type": "stream",
     "text": [
      "0: 416x416 1 Speed Limit 30, 121.6ms\n",
      "Speed: 3.5ms preprocess, 121.6ms inference, 2.4ms postprocess per image at shape (1, 3, 416, 416)\n",
      "0: 416x416 (no detections), 113.5ms\n",
      "Speed: 3.0ms preprocess, 113.5ms inference, 1.5ms postprocess per image at shape (1, 3, 416, 416)\n",
      "\n",
      "\n",
      "0: 416x416 (no detections), 124.8ms\n"
     ]
    },
    {
     "name": "stdout",
     "output_type": "stream",
     "text": [
      "0.9370268\n"
     ]
    },
    {
     "name": "stderr",
     "output_type": "stream",
     "text": [
      "Speed: 3.0ms preprocess, 124.8ms inference, 1.0ms postprocess per image at shape (1, 3, 416, 416)\n",
      "\n",
      "0: 416x416 1 Speed Limit 30, 130.3ms\n",
      "Speed: 2.0ms preprocess, 130.3ms inference, 3.2ms postprocess per image at shape (1, 3, 416, 416)\n",
      "0: 416x416 (no detections), 109.4ms\n",
      "Speed: 4.3ms preprocess, 109.4ms inference, 1.0ms postprocess per image at shape (1, 3, 416, 416)\n",
      "\n",
      "\n"
     ]
    },
    {
     "name": "stdout",
     "output_type": "stream",
     "text": [
      "0.9368283\n"
     ]
    },
    {
     "name": "stderr",
     "output_type": "stream",
     "text": [
      "0: 416x416 (no detections), 116.4ms\n",
      "Speed: 2.0ms preprocess, 116.4ms inference, 1.5ms postprocess per image at shape (1, 3, 416, 416)\n",
      "\n",
      "0: 416x416 1 Speed Limit 30, 125.2ms\n",
      "Speed: 2.0ms preprocess, 125.2ms inference, 1.3ms postprocess per image at shape (1, 3, 416, 416)\n",
      "0: 416x416 (no detections), 106.2ms\n",
      "Speed: 3.0ms preprocess, 106.2ms inference, 1.0ms postprocess per image at shape (1, 3, 416, 416)\n",
      "\n",
      "\n"
     ]
    },
    {
     "name": "stdout",
     "output_type": "stream",
     "text": [
      "0.9370877\n"
     ]
    },
    {
     "name": "stderr",
     "output_type": "stream",
     "text": [
      "0: 416x416 (no detections), 120.0ms\n",
      "Speed: 3.0ms preprocess, 120.0ms inference, 0.0ms postprocess per image at shape (1, 3, 416, 416)\n",
      "\n",
      "0: 416x416 1 Speed Limit 30, 119.7ms\n",
      "Speed: 3.0ms preprocess, 119.7ms inference, 2.0ms postprocess per image at shape (1, 3, 416, 416)\n",
      "0: 416x416 (no detections), 105.1ms\n",
      "Speed: 3.6ms preprocess, 105.1ms inference, 1.0ms postprocess per image at shape (1, 3, 416, 416)\n",
      "\n",
      "\n"
     ]
    },
    {
     "name": "stdout",
     "output_type": "stream",
     "text": [
      "0.9371396\n"
     ]
    },
    {
     "name": "stderr",
     "output_type": "stream",
     "text": [
      "0: 416x416 (no detections), 113.7ms\n",
      "Speed: 3.0ms preprocess, 113.7ms inference, 1.0ms postprocess per image at shape (1, 3, 416, 416)\n",
      "\n",
      "0: 416x416 1 Speed Limit 30, 116.7ms\n",
      "Speed: 2.0ms preprocess, 116.7ms inference, 2.4ms postprocess per image at shape (1, 3, 416, 416)\n",
      "0: 416x416 (no detections), 119.5ms\n",
      "Speed: 3.0ms preprocess, 119.5ms inference, 1.0ms postprocess per image at shape (1, 3, 416, 416)\n",
      "\n",
      "\n"
     ]
    },
    {
     "name": "stdout",
     "output_type": "stream",
     "text": [
      "0.9375797\n"
     ]
    },
    {
     "name": "stderr",
     "output_type": "stream",
     "text": [
      "0: 416x416 (no detections), 115.8ms\n",
      "Speed: 3.7ms preprocess, 115.8ms inference, 1.0ms postprocess per image at shape (1, 3, 416, 416)\n",
      "0: 416x416 1 Speed Limit 30, 113.7ms\n",
      "Speed: 2.7ms preprocess, 113.7ms inference, 2.2ms postprocess per image at shape (1, 3, 416, 416)\n",
      "\n",
      "0: 416x416 (no detections), 115.2ms\n",
      "Speed: 4.0ms preprocess, 115.2ms inference, 1.0ms postprocess per image at shape (1, 3, 416, 416)\n",
      "\n",
      "\n"
     ]
    },
    {
     "name": "stdout",
     "output_type": "stream",
     "text": [
      "0.93683887\n"
     ]
    },
    {
     "name": "stderr",
     "output_type": "stream",
     "text": [
      "0: 416x416 1 Speed Limit 30, 125.2ms\n",
      "Speed: 3.0ms preprocess, 125.2ms inference, 3.0ms postprocess per image at shape (1, 3, 416, 416)\n",
      "0: 416x416 (no detections), 127.0ms\n",
      "Speed: 3.0ms preprocess, 127.0ms inference, 1.0ms postprocess per image at shape (1, 3, 416, 416)\n",
      "\n",
      "\n",
      "0: 416x416 (no detections), 116.7ms\n",
      "Speed: 4.4ms preprocess, 116.7ms inference, 1.0ms postprocess per image at shape (1, 3, 416, 416)\n",
      "\n"
     ]
    },
    {
     "name": "stdout",
     "output_type": "stream",
     "text": [
      "0.9367754\n"
     ]
    },
    {
     "name": "stderr",
     "output_type": "stream",
     "text": [
      "0: 416x416 1 Speed Limit 30, 127.5ms\n",
      "Speed: 2.4ms preprocess, 127.5ms inference, 2.2ms postprocess per image at shape (1, 3, 416, 416)\n",
      "0: 416x416 (no detections), 116.0ms\n",
      "Speed: 3.5ms preprocess, 116.0ms inference, 0.0ms postprocess per image at shape (1, 3, 416, 416)\n",
      "\n",
      "\n",
      "0: 416x416 (no detections), 103.5ms\n",
      "Speed: 4.0ms preprocess, 103.5ms inference, 1.0ms postprocess per image at shape (1, 3, 416, 416)\n"
     ]
    },
    {
     "name": "stdout",
     "output_type": "stream",
     "text": [
      "0.9367129\n"
     ]
    },
    {
     "name": "stderr",
     "output_type": "stream",
     "text": [
      "\n",
      "0: 416x416 1 Speed Limit 30, 125.0ms\n",
      "Speed: 3.0ms preprocess, 125.0ms inference, 2.1ms postprocess per image at shape (1, 3, 416, 416)\n",
      "0: 416x416 (no detections), 113.3ms\n",
      "Speed: 3.0ms preprocess, 113.3ms inference, 1.1ms postprocess per image at shape (1, 3, 416, 416)\n",
      "\n",
      "\n",
      "0: 416x416 (no detections), 121.7ms\n",
      "Speed: 3.0ms preprocess, 121.7ms inference, 1.2ms postprocess per image at shape (1, 3, 416, 416)\n",
      "\n"
     ]
    },
    {
     "name": "stdout",
     "output_type": "stream",
     "text": [
      "0.9372546\n"
     ]
    },
    {
     "name": "stderr",
     "output_type": "stream",
     "text": [
      "0: 416x416 1 Speed Limit 30, 115.9ms\n",
      "Speed: 1.5ms preprocess, 115.9ms inference, 2.0ms postprocess per image at shape (1, 3, 416, 416)\n",
      "0: 416x416 (no detections), 103.2ms\n",
      "Speed: 3.0ms preprocess, 103.2ms inference, 0.0ms postprocess per image at shape (1, 3, 416, 416)\n",
      "\n",
      "\n",
      "0: 416x416 (no detections), 104.7ms\n",
      "Speed: 2.0ms preprocess, 104.7ms inference, 1.0ms postprocess per image at shape (1, 3, 416, 416)\n",
      "\n"
     ]
    },
    {
     "name": "stdout",
     "output_type": "stream",
     "text": [
      "0.9370193\n"
     ]
    },
    {
     "name": "stderr",
     "output_type": "stream",
     "text": [
      "0: 416x416 1 Speed Limit 30, 110.1ms\n",
      "Speed: 2.0ms preprocess, 110.1ms inference, 2.0ms postprocess per image at shape (1, 3, 416, 416)\n",
      "0: 416x416 (no detections), 103.9ms\n",
      "Speed: 4.3ms preprocess, 103.9ms inference, 1.0ms postprocess per image at shape (1, 3, 416, 416)\n",
      "\n",
      "0: 416x416 (no detections), 101.8ms\n",
      "Speed: 4.0ms preprocess, 101.8ms inference, 1.0ms postprocess per image at shape (1, 3, 416, 416)\n",
      "\n",
      "\n"
     ]
    },
    {
     "name": "stdout",
     "output_type": "stream",
     "text": [
      "0.93692887\n"
     ]
    },
    {
     "name": "stderr",
     "output_type": "stream",
     "text": [
      "0: 416x416 1 Speed Limit 30, 109.3ms\n",
      "Speed: 3.0ms preprocess, 109.3ms inference, 1.6ms postprocess per image at shape (1, 3, 416, 416)\n",
      "0: 416x416 (no detections), 107.1ms\n",
      "Speed: 3.0ms preprocess, 107.1ms inference, 1.0ms postprocess per image at shape (1, 3, 416, 416)\n",
      "\n",
      "0: 416x416 (no detections), 111.7ms\n",
      "Speed: 3.5ms preprocess, 111.7ms inference, 1.0ms postprocess per image at shape (1, 3, 416, 416)\n",
      "\n"
     ]
    },
    {
     "name": "stdout",
     "output_type": "stream",
     "text": [
      "0.9371538\n"
     ]
    },
    {
     "name": "stderr",
     "output_type": "stream",
     "text": [
      "\n",
      "0: 416x416 1 Speed Limit 30, 107.8ms\n",
      "Speed: 2.0ms preprocess, 107.8ms inference, 1.0ms postprocess per image at shape (1, 3, 416, 416)\n",
      "0: 416x416 (no detections), 106.3ms\n",
      "Speed: 3.5ms preprocess, 106.3ms inference, 1.0ms postprocess per image at shape (1, 3, 416, 416)\n",
      "\n",
      "0: 416x416 (no detections), 102.7ms\n",
      "Speed: 2.0ms preprocess, 102.7ms inference, 1.0ms postprocess per image at shape (1, 3, 416, 416)\n",
      "\n",
      "\n"
     ]
    },
    {
     "name": "stdout",
     "output_type": "stream",
     "text": [
      "0.93755025\n"
     ]
    },
    {
     "name": "stderr",
     "output_type": "stream",
     "text": [
      "0: 416x416 (no detections), 110.2ms\n",
      "Speed: 7.5ms preprocess, 110.2ms inference, 2.1ms postprocess per image at shape (1, 3, 416, 416)\n",
      "0: 416x416 1 Speed Limit 30, 111.3ms\n",
      "Speed: 2.0ms preprocess, 111.3ms inference, 6.5ms postprocess per image at shape (1, 3, 416, 416)\n",
      "\n",
      "0: 416x416 (no detections), 104.9ms\n",
      "Speed: 2.2ms preprocess, 104.9ms inference, 1.0ms postprocess per image at shape (1, 3, 416, 416)\n",
      "\n",
      "\n"
     ]
    },
    {
     "name": "stdout",
     "output_type": "stream",
     "text": [
      "0.9365864\n"
     ]
    },
    {
     "name": "stderr",
     "output_type": "stream",
     "text": [
      "0: 416x416 (no detections), 114.8ms\n",
      "Speed: 3.1ms preprocess, 114.8ms inference, 2.0ms postprocess per image at shape (1, 3, 416, 416)\n",
      "0: 416x416 1 Speed Limit 30, 108.8ms\n",
      "Speed: 3.0ms preprocess, 108.8ms inference, 2.0ms postprocess per image at shape (1, 3, 416, 416)\n",
      "\n",
      "0: 416x416 (no detections), 102.6ms\n",
      "Speed: 3.0ms preprocess, 102.6ms inference, 0.0ms postprocess per image at shape (1, 3, 416, 416)\n",
      "\n",
      "\n"
     ]
    },
    {
     "name": "stdout",
     "output_type": "stream",
     "text": [
      "0.93678844\n"
     ]
    },
    {
     "name": "stderr",
     "output_type": "stream",
     "text": [
      "0: 416x416 (no detections), 130.7ms\n",
      "Speed: 2.5ms preprocess, 130.7ms inference, 1.0ms postprocess per image at shape (1, 3, 416, 416)\n",
      "\n",
      "0: 416x416 1 Speed Limit 30, 120.7ms\n",
      "Speed: 3.0ms preprocess, 120.7ms inference, 1.0ms postprocess per image at shape (1, 3, 416, 416)\n",
      "0: 416x416 (no detections), 96.0ms\n",
      "Speed: 3.0ms preprocess, 96.0ms inference, 1.0ms postprocess per image at shape (1, 3, 416, 416)\n",
      "\n",
      "\n"
     ]
    },
    {
     "name": "stdout",
     "output_type": "stream",
     "text": [
      "0.93688667\n"
     ]
    },
    {
     "name": "stderr",
     "output_type": "stream",
     "text": [
      "0: 416x416 (no detections), 108.4ms\n",
      "Speed: 2.5ms preprocess, 108.4ms inference, 1.0ms postprocess per image at shape (1, 3, 416, 416)\n",
      "\n",
      "0: 416x416 1 Speed Limit 30, 110.3ms\n",
      "Speed: 2.0ms preprocess, 110.3ms inference, 2.0ms postprocess per image at shape (1, 3, 416, 416)\n",
      "0: 416x416 (no detections), 101.2ms\n",
      "Speed: 3.0ms preprocess, 101.2ms inference, 1.0ms postprocess per image at shape (1, 3, 416, 416)\n",
      "\n",
      "\n"
     ]
    },
    {
     "name": "stdout",
     "output_type": "stream",
     "text": [
      "0.9373355\n"
     ]
    },
    {
     "name": "stderr",
     "output_type": "stream",
     "text": [
      "0: 416x416 (no detections), 111.6ms\n",
      "Speed: 3.0ms preprocess, 111.6ms inference, 1.0ms postprocess per image at shape (1, 3, 416, 416)\n",
      "\n",
      "0: 416x416 1 Speed Limit 30, 110.5ms\n",
      "Speed: 2.5ms preprocess, 110.5ms inference, 1.0ms postprocess per image at shape (1, 3, 416, 416)\n",
      "0: 416x416 (no detections), 106.0ms\n",
      "Speed: 3.1ms preprocess, 106.0ms inference, 1.0ms postprocess per image at shape (1, 3, 416, 416)\n",
      "\n",
      "\n"
     ]
    },
    {
     "name": "stdout",
     "output_type": "stream",
     "text": [
      "0.93694675\n"
     ]
    },
    {
     "name": "stderr",
     "output_type": "stream",
     "text": [
      "0: 416x416 (no detections), 113.3ms\n",
      "Speed: 2.0ms preprocess, 113.3ms inference, 1.0ms postprocess per image at shape (1, 3, 416, 416)\n",
      "\n",
      "0: 416x416 1 Speed Limit 30, 110.0ms\n",
      "Speed: 2.0ms preprocess, 110.0ms inference, 1.0ms postprocess per image at shape (1, 3, 416, 416)\n",
      "0: 416x416 (no detections), 113.2ms\n",
      "Speed: 2.0ms preprocess, 113.2ms inference, 0.0ms postprocess per image at shape (1, 3, 416, 416)\n",
      "\n",
      "\n"
     ]
    },
    {
     "name": "stdout",
     "output_type": "stream",
     "text": [
      "0.93681866\n"
     ]
    },
    {
     "name": "stderr",
     "output_type": "stream",
     "text": [
      "0: 416x416 (no detections), 109.7ms\n",
      "Speed: 3.0ms preprocess, 109.7ms inference, 1.1ms postprocess per image at shape (1, 3, 416, 416)\n",
      "\n",
      "0: 416x416 1 Speed Limit 30, 104.8ms\n",
      "Speed: 2.8ms preprocess, 104.8ms inference, 1.0ms postprocess per image at shape (1, 3, 416, 416)\n",
      "0: 416x416 (no detections), 100.5ms\n",
      "Speed: 3.0ms preprocess, 100.5ms inference, 1.0ms postprocess per image at shape (1, 3, 416, 416)\n",
      "\n",
      "\n"
     ]
    },
    {
     "name": "stdout",
     "output_type": "stream",
     "text": [
      "0.9371423\n"
     ]
    },
    {
     "name": "stderr",
     "output_type": "stream",
     "text": [
      "0: 416x416 (no detections), 113.5ms\n",
      "Speed: 2.9ms preprocess, 113.5ms inference, 1.0ms postprocess per image at shape (1, 3, 416, 416)\n",
      "\n",
      "0: 416x416 1 Speed Limit 30, 109.7ms\n",
      "Speed: 2.0ms preprocess, 109.7ms inference, 2.0ms postprocess per image at shape (1, 3, 416, 416)\n",
      "0: 416x416 (no detections), 108.6ms\n",
      "Speed: 3.0ms preprocess, 108.6ms inference, 1.0ms postprocess per image at shape (1, 3, 416, 416)\n",
      "\n",
      "\n"
     ]
    },
    {
     "name": "stdout",
     "output_type": "stream",
     "text": [
      "0.9375977\n"
     ]
    },
    {
     "name": "stderr",
     "output_type": "stream",
     "text": [
      "0: 416x416 (no detections), 114.3ms\n",
      "Speed: 2.5ms preprocess, 114.3ms inference, 1.0ms postprocess per image at shape (1, 3, 416, 416)\n",
      "0: 416x416 1 Speed Limit 30, 110.0ms\n",
      "Speed: 2.5ms preprocess, 110.0ms inference, 2.4ms postprocess per image at shape (1, 3, 416, 416)\n",
      "\n",
      "0: 416x416 (no detections), 104.2ms\n",
      "Speed: 2.0ms preprocess, 104.2ms inference, 1.0ms postprocess per image at shape (1, 3, 416, 416)\n",
      "\n",
      "\n"
     ]
    },
    {
     "name": "stdout",
     "output_type": "stream",
     "text": [
      "0.93681616\n"
     ]
    },
    {
     "name": "stderr",
     "output_type": "stream",
     "text": [
      "0: 416x416 (no detections), 111.0ms\n",
      "Speed: 2.5ms preprocess, 111.0ms inference, 2.0ms postprocess per image at shape (1, 3, 416, 416)\n",
      "0: 416x416 1 Speed Limit 30, 107.0ms\n",
      "Speed: 3.4ms preprocess, 107.0ms inference, 1.6ms postprocess per image at shape (1, 3, 416, 416)\n",
      "\n",
      "0: 416x416 (no detections), 103.2ms\n",
      "Speed: 3.6ms preprocess, 103.2ms inference, 1.0ms postprocess per image at shape (1, 3, 416, 416)\n",
      "\n",
      "\n"
     ]
    },
    {
     "name": "stdout",
     "output_type": "stream",
     "text": [
      "0.9368343\n"
     ]
    },
    {
     "name": "stderr",
     "output_type": "stream",
     "text": [
      "0: 416x416 (no detections), 111.2ms\n",
      "Speed: 3.0ms preprocess, 111.2ms inference, 1.0ms postprocess per image at shape (1, 3, 416, 416)\n",
      "\n",
      "0: 416x416 1 Speed Limit 30, 105.8ms\n",
      "Speed: 2.0ms preprocess, 105.8ms inference, 1.0ms postprocess per image at shape (1, 3, 416, 416)\n",
      "0: 416x416 (no detections), 100.6ms\n",
      "Speed: 3.5ms preprocess, 100.6ms inference, 1.0ms postprocess per image at shape (1, 3, 416, 416)\n",
      "\n",
      "\n"
     ]
    },
    {
     "name": "stdout",
     "output_type": "stream",
     "text": [
      "0.93690324\n"
     ]
    },
    {
     "name": "stderr",
     "output_type": "stream",
     "text": [
      "0: 416x416 (no detections), 107.0ms\n",
      "Speed: 3.0ms preprocess, 107.0ms inference, 0.0ms postprocess per image at shape (1, 3, 416, 416)\n",
      "\n",
      "0: 416x416 1 Speed Limit 30, 106.0ms\n",
      "Speed: 2.0ms preprocess, 106.0ms inference, 2.0ms postprocess per image at shape (1, 3, 416, 416)\n",
      "0: 416x416 (no detections), 101.0ms\n",
      "Speed: 2.0ms preprocess, 101.0ms inference, 0.0ms postprocess per image at shape (1, 3, 416, 416)\n",
      "\n",
      "\n"
     ]
    },
    {
     "name": "stdout",
     "output_type": "stream",
     "text": [
      "0.9374377\n"
     ]
    },
    {
     "name": "stderr",
     "output_type": "stream",
     "text": [
      "0: 416x416 (no detections), 110.0ms\n",
      "Speed: 3.0ms preprocess, 110.0ms inference, 1.0ms postprocess per image at shape (1, 3, 416, 416)\n",
      "\n",
      "0: 416x416 1 Speed Limit 30, 108.5ms\n",
      "Speed: 3.5ms preprocess, 108.5ms inference, 3.0ms postprocess per image at shape (1, 3, 416, 416)\n",
      "0: 416x416 (no detections), 113.5ms\n",
      "Speed: 3.0ms preprocess, 113.5ms inference, 1.5ms postprocess per image at shape (1, 3, 416, 416)\n",
      "\n",
      "\n"
     ]
    },
    {
     "name": "stdout",
     "output_type": "stream",
     "text": [
      "0.93703175\n"
     ]
    },
    {
     "name": "stderr",
     "output_type": "stream",
     "text": [
      "0: 416x416 (no detections), 107.0ms\n",
      "Speed: 3.0ms preprocess, 107.0ms inference, 1.2ms postprocess per image at shape (1, 3, 416, 416)\n",
      "\n",
      "0: 416x416 1 Speed Limit 30, 105.9ms\n",
      "Speed: 3.5ms preprocess, 105.9ms inference, 2.0ms postprocess per image at shape (1, 3, 416, 416)\n",
      "0: 416x416 (no detections), 101.9ms\n",
      "Speed: 3.0ms preprocess, 101.9ms inference, 0.6ms postprocess per image at shape (1, 3, 416, 416)\n",
      "\n",
      "\n"
     ]
    },
    {
     "name": "stdout",
     "output_type": "stream",
     "text": [
      "0.9369501\n"
     ]
    },
    {
     "name": "stderr",
     "output_type": "stream",
     "text": [
      "0: 416x416 (no detections), 108.3ms\n",
      "Speed: 2.2ms preprocess, 108.3ms inference, 0.0ms postprocess per image at shape (1, 3, 416, 416)\n",
      "\n",
      "0: 416x416 1 Speed Limit 30, 108.3ms\n",
      "Speed: 2.0ms preprocess, 108.3ms inference, 2.0ms postprocess per image at shape (1, 3, 416, 416)\n",
      "0: 416x416 (no detections), 102.4ms\n",
      "Speed: 2.0ms preprocess, 102.4ms inference, 1.0ms postprocess per image at shape (1, 3, 416, 416)\n",
      "\n",
      "\n"
     ]
    },
    {
     "name": "stdout",
     "output_type": "stream",
     "text": [
      "0.93721086\n"
     ]
    },
    {
     "name": "stderr",
     "output_type": "stream",
     "text": [
      "0: 416x416 (no detections), 109.4ms\n",
      "Speed: 2.0ms preprocess, 109.4ms inference, 1.0ms postprocess per image at shape (1, 3, 416, 416)\n",
      "\n",
      "0: 416x416 1 Speed Limit 30, 106.4ms\n",
      "Speed: 3.5ms preprocess, 106.4ms inference, 2.0ms postprocess per image at shape (1, 3, 416, 416)\n",
      "0: 416x416 (no detections), 99.7ms\n",
      "Speed: 2.0ms preprocess, 99.7ms inference, 1.0ms postprocess per image at shape (1, 3, 416, 416)\n",
      "\n",
      "\n"
     ]
    },
    {
     "name": "stdout",
     "output_type": "stream",
     "text": [
      "0.9376541\n"
     ]
    },
    {
     "name": "stderr",
     "output_type": "stream",
     "text": [
      "0: 416x416 (no detections), 107.7ms\n",
      "Speed: 3.0ms preprocess, 107.7ms inference, 1.0ms postprocess per image at shape (1, 3, 416, 416)\n",
      "\n",
      "0: 416x416 1 Speed Limit 30, 118.4ms\n",
      "Speed: 3.0ms preprocess, 118.4ms inference, 2.3ms postprocess per image at shape (1, 3, 416, 416)\n",
      "0: 416x416 (no detections), 104.9ms\n",
      "Speed: 2.9ms preprocess, 104.9ms inference, 1.0ms postprocess per image at shape (1, 3, 416, 416)\n",
      "\n",
      "\n"
     ]
    },
    {
     "name": "stdout",
     "output_type": "stream",
     "text": [
      "0.937047\n"
     ]
    },
    {
     "name": "stderr",
     "output_type": "stream",
     "text": [
      "0: 416x416 (no detections), 108.6ms\n",
      "Speed: 2.0ms preprocess, 108.6ms inference, 1.0ms postprocess per image at shape (1, 3, 416, 416)\n",
      "\n",
      "0: 416x416 1 Speed Limit 30, 108.2ms\n",
      "Speed: 3.0ms preprocess, 108.2ms inference, 1.0ms postprocess per image at shape (1, 3, 416, 416)\n",
      "0: 416x416 (no detections), 101.9ms\n",
      "Speed: 3.0ms preprocess, 101.9ms inference, 1.0ms postprocess per image at shape (1, 3, 416, 416)\n",
      "\n",
      "\n"
     ]
    },
    {
     "name": "stdout",
     "output_type": "stream",
     "text": [
      "0.9369589\n"
     ]
    },
    {
     "name": "stderr",
     "output_type": "stream",
     "text": [
      "0: 416x416 (no detections), 105.9ms\n",
      "Speed: 3.0ms preprocess, 105.9ms inference, 0.5ms postprocess per image at shape (1, 3, 416, 416)\n",
      "\n",
      "0: 416x416 1 Speed Limit 30, 105.5ms\n",
      "Speed: 3.0ms preprocess, 105.5ms inference, 2.0ms postprocess per image at shape (1, 3, 416, 416)\n",
      "0: 416x416 (no detections), 103.4ms\n",
      "Speed: 3.0ms preprocess, 103.4ms inference, 1.0ms postprocess per image at shape (1, 3, 416, 416)\n",
      "\n",
      "\n"
     ]
    },
    {
     "name": "stdout",
     "output_type": "stream",
     "text": [
      "0.9369233\n"
     ]
    },
    {
     "name": "stderr",
     "output_type": "stream",
     "text": [
      "0: 416x416 (no detections), 108.1ms\n",
      "Speed: 3.0ms preprocess, 108.1ms inference, 1.0ms postprocess per image at shape (1, 3, 416, 416)\n",
      "\n",
      "0: 416x416 1 Speed Limit 30, 114.7ms\n",
      "Speed: 3.0ms preprocess, 114.7ms inference, 2.0ms postprocess per image at shape (1, 3, 416, 416)\n",
      "0: 416x416 (no detections), 107.8ms\n",
      "Speed: 3.0ms preprocess, 107.8ms inference, 1.0ms postprocess per image at shape (1, 3, 416, 416)\n",
      "\n",
      "\n"
     ]
    },
    {
     "name": "stdout",
     "output_type": "stream",
     "text": [
      "0.93709415\n"
     ]
    },
    {
     "name": "stderr",
     "output_type": "stream",
     "text": [
      "0: 416x416 (no detections), 107.0ms\n",
      "Speed: 3.5ms preprocess, 107.0ms inference, 1.0ms postprocess per image at shape (1, 3, 416, 416)\n",
      "\n",
      "0: 416x416 1 Speed Limit 30, 108.9ms\n",
      "Speed: 1.9ms preprocess, 108.9ms inference, 2.0ms postprocess per image at shape (1, 3, 416, 416)\n",
      "0: 416x416 (no detections), 101.4ms\n",
      "Speed: 3.4ms preprocess, 101.4ms inference, 1.0ms postprocess per image at shape (1, 3, 416, 416)\n",
      "\n",
      "\n",
      "0: 416x416 (no detections), 106.4ms\n"
     ]
    },
    {
     "name": "stdout",
     "output_type": "stream",
     "text": [
      "0.93662673\n"
     ]
    },
    {
     "name": "stderr",
     "output_type": "stream",
     "text": [
      "Speed: 2.0ms preprocess, 106.4ms inference, 1.0ms postprocess per image at shape (1, 3, 416, 416)\n",
      "\n",
      "0: 416x416 1 Speed Limit 30, 112.3ms\n",
      "Speed: 2.0ms preprocess, 112.3ms inference, 2.5ms postprocess per image at shape (1, 3, 416, 416)\n",
      "0: 416x416 (no detections), 103.3ms\n",
      "Speed: 2.5ms preprocess, 103.3ms inference, 1.0ms postprocess per image at shape (1, 3, 416, 416)\n",
      "\n",
      "\n",
      "0: 416x416 (no detections), 103.3ms\n",
      "Speed: 3.5ms preprocess, 103.3ms inference, 1.0ms postprocess per image at shape (1, 3, 416, 416)\n",
      "\n"
     ]
    },
    {
     "name": "stdout",
     "output_type": "stream",
     "text": [
      "0.9369505\n"
     ]
    },
    {
     "name": "stderr",
     "output_type": "stream",
     "text": [
      "0: 416x416 1 Speed Limit 30, 108.6ms\n",
      "Speed: 2.2ms preprocess, 108.6ms inference, 2.5ms postprocess per image at shape (1, 3, 416, 416)\n",
      "0: 416x416 (no detections), 108.2ms\n",
      "Speed: 3.0ms preprocess, 108.2ms inference, 0.0ms postprocess per image at shape (1, 3, 416, 416)\n",
      "\n",
      "\n",
      "0: 416x416 (no detections), 111.1ms\n"
     ]
    },
    {
     "name": "stdout",
     "output_type": "stream",
     "text": [
      "0.93728364\n"
     ]
    },
    {
     "name": "stderr",
     "output_type": "stream",
     "text": [
      "Speed: 3.1ms preprocess, 111.1ms inference, 1.0ms postprocess per image at shape (1, 3, 416, 416)\n",
      "\n",
      "0: 416x416 1 Speed Limit 30, 111.9ms\n",
      "Speed: 2.0ms preprocess, 111.9ms inference, 2.0ms postprocess per image at shape (1, 3, 416, 416)\n",
      "0: 416x416 (no detections), 118.3ms\n",
      "Speed: 2.5ms preprocess, 118.3ms inference, 0.9ms postprocess per image at shape (1, 3, 416, 416)\n",
      "\n",
      "\n"
     ]
    },
    {
     "name": "stdout",
     "output_type": "stream",
     "text": [
      "0.93740964\n"
     ]
    },
    {
     "name": "stderr",
     "output_type": "stream",
     "text": [
      "0: 416x416 (no detections), 110.3ms\n",
      "Speed: 2.0ms preprocess, 110.3ms inference, 2.0ms postprocess per image at shape (1, 3, 416, 416)\n",
      "\n",
      "0: 416x416 1 Speed Limit 30, 120.8ms\n",
      "Speed: 2.0ms preprocess, 120.8ms inference, 2.0ms postprocess per image at shape (1, 3, 416, 416)\n",
      "0: 416x416 (no detections), 105.9ms\n",
      "Speed: 3.0ms preprocess, 105.9ms inference, 1.0ms postprocess per image at shape (1, 3, 416, 416)\n",
      "\n",
      "\n"
     ]
    },
    {
     "name": "stdout",
     "output_type": "stream",
     "text": [
      "0.93676347\n"
     ]
    },
    {
     "name": "stderr",
     "output_type": "stream",
     "text": [
      "0: 416x416 (no detections), 111.5ms\n",
      "Speed: 2.0ms preprocess, 111.5ms inference, 3.0ms postprocess per image at shape (1, 3, 416, 416)\n",
      "\n",
      "0: 416x416 1 Speed Limit 30, 116.3ms\n",
      "Speed: 2.5ms preprocess, 116.3ms inference, 2.0ms postprocess per image at shape (1, 3, 416, 416)\n",
      "0: 416x416 (no detections), 102.0ms\n",
      "Speed: 3.0ms preprocess, 102.0ms inference, 1.0ms postprocess per image at shape (1, 3, 416, 416)\n",
      "\n",
      "\n",
      "0: 416x416 (no detections), 105.7ms\n"
     ]
    },
    {
     "name": "stdout",
     "output_type": "stream",
     "text": [
      "0.9372796\n"
     ]
    },
    {
     "name": "stderr",
     "output_type": "stream",
     "text": [
      "Speed: 3.0ms preprocess, 105.7ms inference, 0.5ms postprocess per image at shape (1, 3, 416, 416)\n",
      "\n",
      "0: 416x416 1 Speed Limit 30, 107.7ms\n",
      "Speed: 2.5ms preprocess, 107.7ms inference, 2.0ms postprocess per image at shape (1, 3, 416, 416)\n",
      "0: 416x416 (no detections), 99.4ms\n",
      "Speed: 2.0ms preprocess, 99.4ms inference, 0.0ms postprocess per image at shape (1, 3, 416, 416)\n",
      "\n",
      "\n"
     ]
    },
    {
     "name": "stdout",
     "output_type": "stream",
     "text": [
      "0.93694645\n"
     ]
    },
    {
     "name": "stderr",
     "output_type": "stream",
     "text": [
      "0: 416x416 (no detections), 111.0ms\n",
      "Speed: 3.5ms preprocess, 111.0ms inference, 1.0ms postprocess per image at shape (1, 3, 416, 416)\n",
      "\n",
      "0: 416x416 1 Speed Limit 30, 112.5ms\n",
      "Speed: 3.0ms preprocess, 112.5ms inference, 2.1ms postprocess per image at shape (1, 3, 416, 416)\n",
      "0: 416x416 (no detections), 104.2ms\n",
      "Speed: 3.1ms preprocess, 104.2ms inference, 1.0ms postprocess per image at shape (1, 3, 416, 416)\n",
      "\n",
      "\n",
      "0: 416x416 (no detections), 114.9ms\n"
     ]
    },
    {
     "name": "stdout",
     "output_type": "stream",
     "text": [
      "0.9372204\n"
     ]
    },
    {
     "name": "stderr",
     "output_type": "stream",
     "text": [
      "Speed: 4.0ms preprocess, 114.9ms inference, 1.0ms postprocess per image at shape (1, 3, 416, 416)\n",
      "\n",
      "0: 416x416 1 Speed Limit 30, 111.5ms\n",
      "Speed: 2.6ms preprocess, 111.5ms inference, 2.0ms postprocess per image at shape (1, 3, 416, 416)\n",
      "0: 416x416 (no detections), 106.8ms\n",
      "Speed: 3.0ms preprocess, 106.8ms inference, 1.0ms postprocess per image at shape (1, 3, 416, 416)\n",
      "\n",
      "\n",
      "0: 416x416 (no detections), 104.8ms\n"
     ]
    },
    {
     "name": "stdout",
     "output_type": "stream",
     "text": [
      "0.93658096\n"
     ]
    },
    {
     "name": "stderr",
     "output_type": "stream",
     "text": [
      "Speed: 2.6ms preprocess, 104.8ms inference, 1.0ms postprocess per image at shape (1, 3, 416, 416)\n",
      "\n",
      "0: 416x416 1 Speed Limit 30, 110.4ms\n",
      "Speed: 3.0ms preprocess, 110.4ms inference, 1.0ms postprocess per image at shape (1, 3, 416, 416)\n",
      "0: 416x416 (no detections), 103.7ms\n",
      "Speed: 3.0ms preprocess, 103.7ms inference, 1.0ms postprocess per image at shape (1, 3, 416, 416)\n",
      "\n",
      "\n",
      "0: 416x416 (no detections), 109.4ms\n",
      "Speed: 4.0ms preprocess, 109.4ms inference, 1.0ms postprocess per image at shape (1, 3, 416, 416)\n"
     ]
    },
    {
     "name": "stdout",
     "output_type": "stream",
     "text": [
      "0.93684965\n"
     ]
    },
    {
     "name": "stderr",
     "output_type": "stream",
     "text": [
      "\n",
      "0: 416x416 1 Speed Limit 30, 112.1ms\n",
      "Speed: 1.0ms preprocess, 112.1ms inference, 1.0ms postprocess per image at shape (1, 3, 416, 416)\n",
      "0: 416x416 (no detections), 105.5ms\n",
      "Speed: 2.0ms preprocess, 105.5ms inference, 1.0ms postprocess per image at shape (1, 3, 416, 416)\n",
      "\n",
      "\n",
      "0: 416x416 (no detections), 111.0ms\n"
     ]
    },
    {
     "name": "stdout",
     "output_type": "stream",
     "text": [
      "0.937192\n"
     ]
    },
    {
     "name": "stderr",
     "output_type": "stream",
     "text": [
      "Speed: 2.0ms preprocess, 111.0ms inference, 0.0ms postprocess per image at shape (1, 3, 416, 416)\n",
      "\n",
      "0: 416x416 1 Speed Limit 30, 113.4ms\n",
      "Speed: 3.0ms preprocess, 113.4ms inference, 1.0ms postprocess per image at shape (1, 3, 416, 416)\n",
      "0: 416x416 (no detections), 101.4ms\n",
      "Speed: 3.5ms preprocess, 101.4ms inference, 1.0ms postprocess per image at shape (1, 3, 416, 416)\n",
      "\n",
      "\n",
      "0: 416x416 (no detections), 117.0ms\n",
      "Speed: 2.5ms preprocess, 117.0ms inference, 1.0ms postprocess per image at shape (1, 3, 416, 416)\n"
     ]
    },
    {
     "name": "stdout",
     "output_type": "stream",
     "text": [
      "0.93772435\n"
     ]
    },
    {
     "name": "stderr",
     "output_type": "stream",
     "text": [
      "\n",
      "0: 416x416 1 Speed Limit 30, 114.2ms\n",
      "Speed: 2.5ms preprocess, 114.2ms inference, 2.3ms postprocess per image at shape (1, 3, 416, 416)\n",
      "0: 416x416 (no detections), 102.8ms\n",
      "Speed: 3.5ms preprocess, 102.8ms inference, 1.0ms postprocess per image at shape (1, 3, 416, 416)\n",
      "\n",
      "\n",
      "0: 416x416 (no detections), 105.4ms\n",
      "Speed: 3.0ms preprocess, 105.4ms inference, 1.0ms postprocess per image at shape (1, 3, 416, 416)\n",
      "\n"
     ]
    },
    {
     "name": "stdout",
     "output_type": "stream",
     "text": [
      "0.9369816\n"
     ]
    },
    {
     "name": "stderr",
     "output_type": "stream",
     "text": [
      "0: 416x416 1 Speed Limit 30, 110.2ms\n",
      "Speed: 2.0ms preprocess, 110.2ms inference, 2.0ms postprocess per image at shape (1, 3, 416, 416)\n",
      "0: 416x416 (no detections), 101.3ms\n",
      "Speed: 3.2ms preprocess, 101.3ms inference, 1.0ms postprocess per image at shape (1, 3, 416, 416)\n",
      "\n",
      "\n",
      "0: 416x416 (no detections), 103.2ms\n",
      "Speed: 3.0ms preprocess, 103.2ms inference, 0.5ms postprocess per image at shape (1, 3, 416, 416)\n",
      "\n"
     ]
    },
    {
     "name": "stdout",
     "output_type": "stream",
     "text": [
      "0.9368822\n"
     ]
    },
    {
     "name": "stderr",
     "output_type": "stream",
     "text": [
      "0: 416x416 1 Speed Limit 30, 104.2ms\n",
      "Speed: 3.0ms preprocess, 104.2ms inference, 2.4ms postprocess per image at shape (1, 3, 416, 416)\n",
      "0: 416x416 (no detections), 102.6ms\n",
      "Speed: 3.3ms preprocess, 102.6ms inference, 1.0ms postprocess per image at shape (1, 3, 416, 416)\n",
      "\n",
      "\n",
      "0: 416x416 (no detections), 110.9ms\n",
      "Speed: 3.4ms preprocess, 110.9ms inference, 2.0ms postprocess per image at shape (1, 3, 416, 416)\n",
      "\n"
     ]
    },
    {
     "name": "stdout",
     "output_type": "stream",
     "text": [
      "0.93663174\n"
     ]
    },
    {
     "name": "stderr",
     "output_type": "stream",
     "text": [
      "0: 416x416 1 Speed Limit 30, 104.4ms\n",
      "Speed: 2.0ms preprocess, 104.4ms inference, 2.1ms postprocess per image at shape (1, 3, 416, 416)\n",
      "0: 416x416 (no detections), 101.6ms\n",
      "Speed: 2.6ms preprocess, 101.6ms inference, 1.0ms postprocess per image at shape (1, 3, 416, 416)\n",
      "\n",
      "\n",
      "0: 416x416 (no detections), 106.7ms\n",
      "Speed: 3.5ms preprocess, 106.7ms inference, 1.0ms postprocess per image at shape (1, 3, 416, 416)\n",
      "\n"
     ]
    },
    {
     "name": "stdout",
     "output_type": "stream",
     "text": [
      "0.93716586\n"
     ]
    },
    {
     "name": "stderr",
     "output_type": "stream",
     "text": [
      "0: 416x416 1 Speed Limit 30, 111.5ms\n",
      "Speed: 3.1ms preprocess, 111.5ms inference, 1.0ms postprocess per image at shape (1, 3, 416, 416)\n",
      "0: 416x416 (no detections), 103.5ms\n",
      "Speed: 3.0ms preprocess, 103.5ms inference, 1.5ms postprocess per image at shape (1, 3, 416, 416)\n",
      "\n",
      "\n",
      "0: 416x416 (no detections), 110.0ms\n",
      "Speed: 3.0ms preprocess, 110.0ms inference, 1.0ms postprocess per image at shape (1, 3, 416, 416)\n",
      "\n"
     ]
    },
    {
     "name": "stdout",
     "output_type": "stream",
     "text": [
      "0.9366923\n"
     ]
    },
    {
     "name": "stderr",
     "output_type": "stream",
     "text": [
      "0: 416x416 1 Speed Limit 30, 109.4ms\n",
      "Speed: 2.0ms preprocess, 109.4ms inference, 2.0ms postprocess per image at shape (1, 3, 416, 416)\n",
      "0: 416x416 (no detections), 102.3ms\n",
      "Speed: 3.5ms preprocess, 102.3ms inference, 1.0ms postprocess per image at shape (1, 3, 416, 416)\n",
      "\n",
      "\n",
      "0: 416x416 (no detections), 102.7ms\n",
      "Speed: 4.5ms preprocess, 102.7ms inference, 5.0ms postprocess per image at shape (1, 3, 416, 416)\n",
      "\n"
     ]
    },
    {
     "name": "stdout",
     "output_type": "stream",
     "text": [
      "0.9367714\n"
     ]
    },
    {
     "name": "stderr",
     "output_type": "stream",
     "text": [
      "0: 416x416 1 Speed Limit 30, 108.6ms\n",
      "Speed: 2.4ms preprocess, 108.6ms inference, 2.2ms postprocess per image at shape (1, 3, 416, 416)\n",
      "0: 416x416 (no detections), 102.2ms\n",
      "Speed: 4.0ms preprocess, 102.2ms inference, 1.2ms postprocess per image at shape (1, 3, 416, 416)\n",
      "\n",
      "\n",
      "0: 416x416 (no detections), 107.4ms\n",
      "Speed: 3.5ms preprocess, 107.4ms inference, 1.0ms postprocess per image at shape (1, 3, 416, 416)\n",
      "\n"
     ]
    },
    {
     "name": "stdout",
     "output_type": "stream",
     "text": [
      "0.93728566\n"
     ]
    },
    {
     "name": "stderr",
     "output_type": "stream",
     "text": [
      "0: 416x416 1 Speed Limit 30, 115.3ms\n",
      "Speed: 2.0ms preprocess, 115.3ms inference, 1.0ms postprocess per image at shape (1, 3, 416, 416)\n",
      "0: 416x416 (no detections), 104.8ms\n",
      "Speed: 3.0ms preprocess, 104.8ms inference, 1.0ms postprocess per image at shape (1, 3, 416, 416)\n",
      "\n",
      "0: 416x416 (no detections), 101.1ms\n",
      "Speed: 3.0ms preprocess, 101.1ms inference, 1.0ms postprocess per image at shape (1, 3, 416, 416)\n",
      "\n",
      "\n"
     ]
    },
    {
     "name": "stdout",
     "output_type": "stream",
     "text": [
      "0.9376022\n"
     ]
    },
    {
     "name": "stderr",
     "output_type": "stream",
     "text": [
      "0: 416x416 (no detections), 106.7ms\n",
      "Speed: 2.9ms preprocess, 106.7ms inference, 1.0ms postprocess per image at shape (1, 3, 416, 416)\n",
      "0: 416x416 1 Speed Limit 30, 112.7ms\n",
      "Speed: 3.9ms preprocess, 112.7ms inference, 6.5ms postprocess per image at shape (1, 3, 416, 416)\n",
      "\n",
      "0: 416x416 (no detections), 116.9ms\n",
      "Speed: 2.4ms preprocess, 116.9ms inference, 2.5ms postprocess per image at shape (1, 3, 416, 416)\n",
      "\n",
      "\n"
     ]
    },
    {
     "name": "stdout",
     "output_type": "stream",
     "text": [
      "0.93690073\n"
     ]
    },
    {
     "name": "stderr",
     "output_type": "stream",
     "text": [
      "0: 416x416 1 Speed Limit 30, 106.9ms\n",
      "Speed: 2.0ms preprocess, 106.9ms inference, 2.1ms postprocess per image at shape (1, 3, 416, 416)\n",
      "0: 416x416 (no detections), 104.1ms\n",
      "Speed: 3.0ms preprocess, 104.1ms inference, 1.0ms postprocess per image at shape (1, 3, 416, 416)\n",
      "\n",
      "0: 416x416 (no detections), 99.0ms\n",
      "Speed: 3.0ms preprocess, 99.0ms inference, 1.0ms postprocess per image at shape (1, 3, 416, 416)\n",
      "\n",
      "\n"
     ]
    },
    {
     "name": "stdout",
     "output_type": "stream",
     "text": [
      "0.9367477\n"
     ]
    },
    {
     "name": "stderr",
     "output_type": "stream",
     "text": [
      "0: 416x416 1 Speed Limit 30, 107.3ms\n",
      "Speed: 2.0ms preprocess, 107.3ms inference, 2.0ms postprocess per image at shape (1, 3, 416, 416)\n",
      "0: 416x416 (no detections), 104.0ms\n",
      "Speed: 2.5ms preprocess, 104.0ms inference, 1.5ms postprocess per image at shape (1, 3, 416, 416)\n",
      "\n",
      "0: 416x416 (no detections), 107.0ms\n",
      "Speed: 2.5ms preprocess, 107.0ms inference, 1.0ms postprocess per image at shape (1, 3, 416, 416)\n",
      "\n",
      "\n"
     ]
    },
    {
     "name": "stdout",
     "output_type": "stream",
     "text": [
      "0.9366689\n"
     ]
    },
    {
     "name": "stderr",
     "output_type": "stream",
     "text": [
      "0: 416x416 1 Speed Limit 30, 111.6ms\n",
      "Speed: 2.0ms preprocess, 111.6ms inference, 2.0ms postprocess per image at shape (1, 3, 416, 416)\n",
      "0: 416x416 (no detections), 106.3ms\n",
      "Speed: 3.0ms preprocess, 106.3ms inference, 1.0ms postprocess per image at shape (1, 3, 416, 416)\n",
      "\n",
      "0: 416x416 (no detections), 104.4ms\n",
      "Speed: 3.0ms preprocess, 104.4ms inference, 1.5ms postprocess per image at shape (1, 3, 416, 416)\n",
      "\n",
      "\n"
     ]
    },
    {
     "name": "stdout",
     "output_type": "stream",
     "text": [
      "0.93705124\n"
     ]
    },
    {
     "name": "stderr",
     "output_type": "stream",
     "text": [
      "0: 416x416 1 Speed Limit 30, 104.4ms\n",
      "Speed: 2.0ms preprocess, 104.4ms inference, 1.5ms postprocess per image at shape (1, 3, 416, 416)\n",
      "0: 416x416 (no detections), 104.9ms\n",
      "Speed: 3.0ms preprocess, 104.9ms inference, 1.0ms postprocess per image at shape (1, 3, 416, 416)\n",
      "\n",
      "0: 416x416 (no detections), 101.1ms\n",
      "Speed: 2.6ms preprocess, 101.1ms inference, 0.0ms postprocess per image at shape (1, 3, 416, 416)\n",
      "\n",
      "\n"
     ]
    },
    {
     "name": "stdout",
     "output_type": "stream",
     "text": [
      "0.9368278\n"
     ]
    },
    {
     "name": "stderr",
     "output_type": "stream",
     "text": [
      "0: 416x416 1 Speed Limit 30, 103.1ms\n",
      "0: 416x416 (no detections), 112.4ms\n",
      "Speed: 2.4ms preprocess, 103.1ms inference, 2.0ms postprocess per image at shape (1, 3, 416, 416)\n",
      "Speed: 3.9ms preprocess, 112.4ms inference, 2.0ms postprocess per image at shape (1, 3, 416, 416)\n",
      "\n",
      "0: 416x416 (no detections), 107.3ms\n",
      "Speed: 2.0ms preprocess, 107.3ms inference, 1.2ms postprocess per image at shape (1, 3, 416, 416)\n",
      "\n",
      "\n"
     ]
    },
    {
     "name": "stdout",
     "output_type": "stream",
     "text": [
      "0.9371315\n"
     ]
    },
    {
     "name": "stderr",
     "output_type": "stream",
     "text": [
      "0: 416x416 1 Speed Limit 30, 112.7ms\n",
      "Speed: 2.0ms preprocess, 112.7ms inference, 1.0ms postprocess per image at shape (1, 3, 416, 416)\n",
      "0: 416x416 (no detections), 108.2ms\n",
      "Speed: 3.0ms preprocess, 108.2ms inference, 1.0ms postprocess per image at shape (1, 3, 416, 416)\n",
      "\n",
      "0: 416x416 (no detections), 101.1ms\n",
      "Speed: 3.5ms preprocess, 101.1ms inference, 1.0ms postprocess per image at shape (1, 3, 416, 416)\n",
      "\n",
      "\n"
     ]
    },
    {
     "name": "stdout",
     "output_type": "stream",
     "text": [
      "0.9371508\n"
     ]
    },
    {
     "name": "stderr",
     "output_type": "stream",
     "text": [
      "0: 416x416 1 Speed Limit 30, 109.2ms\n",
      "Speed: 2.0ms preprocess, 109.2ms inference, 2.0ms postprocess per image at shape (1, 3, 416, 416)\n",
      "0: 416x416 (no detections), 106.0ms\n",
      "Speed: 3.3ms preprocess, 106.0ms inference, 2.0ms postprocess per image at shape (1, 3, 416, 416)\n",
      "\n",
      "0: 416x416 (no detections), 100.0ms\n",
      "Speed: 3.0ms preprocess, 100.0ms inference, 1.0ms postprocess per image at shape (1, 3, 416, 416)\n",
      "\n",
      "\n"
     ]
    },
    {
     "name": "stdout",
     "output_type": "stream",
     "text": [
      "0.9376145\n"
     ]
    },
    {
     "name": "stderr",
     "output_type": "stream",
     "text": [
      "0: 416x416 1 Speed Limit 30, 106.4ms\n",
      "Speed: 3.0ms preprocess, 106.4ms inference, 2.0ms postprocess per image at shape (1, 3, 416, 416)\n",
      "0: 416x416 (no detections), 105.1ms\n",
      "Speed: 3.0ms preprocess, 105.1ms inference, 1.0ms postprocess per image at shape (1, 3, 416, 416)\n",
      "\n",
      "0: 416x416 (no detections), 101.7ms\n",
      "Speed: 3.0ms preprocess, 101.7ms inference, 1.0ms postprocess per image at shape (1, 3, 416, 416)\n",
      "\n",
      "\n"
     ]
    },
    {
     "name": "stdout",
     "output_type": "stream",
     "text": [
      "0.9368319\n"
     ]
    },
    {
     "name": "stderr",
     "output_type": "stream",
     "text": [
      "0: 416x416 1 Speed Limit 30, 110.1ms\n",
      "Speed: 3.6ms preprocess, 110.1ms inference, 2.0ms postprocess per image at shape (1, 3, 416, 416)\n",
      "0: 416x416 (no detections), 108.5ms\n",
      "Speed: 3.0ms preprocess, 108.5ms inference, 0.0ms postprocess per image at shape (1, 3, 416, 416)\n",
      "\n",
      "0: 416x416 (no detections), 107.2ms\n",
      "Speed: 3.0ms preprocess, 107.2ms inference, 1.1ms postprocess per image at shape (1, 3, 416, 416)\n",
      "\n",
      "\n"
     ]
    },
    {
     "name": "stdout",
     "output_type": "stream",
     "text": [
      "0.93678015\n"
     ]
    },
    {
     "name": "stderr",
     "output_type": "stream",
     "text": [
      "0: 416x416 (no detections), 102.9ms\n",
      "Speed: 2.6ms preprocess, 102.9ms inference, 2.0ms postprocess per image at shape (1, 3, 416, 416)\n",
      "0: 416x416 1 Speed Limit 30, 105.5ms\n",
      "Speed: 3.0ms preprocess, 105.5ms inference, 3.0ms postprocess per image at shape (1, 3, 416, 416)\n",
      "\n",
      "0: 416x416 (no detections), 103.1ms\n",
      "Speed: 3.5ms preprocess, 103.1ms inference, 1.0ms postprocess per image at shape (1, 3, 416, 416)\n",
      "\n",
      "\n"
     ]
    },
    {
     "name": "stdout",
     "output_type": "stream",
     "text": [
      "0.93667674\n"
     ]
    },
    {
     "name": "stderr",
     "output_type": "stream",
     "text": [
      "0: 416x416 1 Speed Limit 30, 108.4ms\n",
      "Speed: 3.5ms preprocess, 108.4ms inference, 2.0ms postprocess per image at shape (1, 3, 416, 416)\n",
      "0: 416x416 (no detections), 107.0ms\n",
      "Speed: 2.6ms preprocess, 107.0ms inference, 1.0ms postprocess per image at shape (1, 3, 416, 416)\n",
      "\n",
      "0: 416x416 (no detections), 99.3ms\n",
      "Speed: 2.0ms preprocess, 99.3ms inference, 1.0ms postprocess per image at shape (1, 3, 416, 416)\n",
      "\n",
      "\n"
     ]
    },
    {
     "name": "stdout",
     "output_type": "stream",
     "text": [
      "0.9372322\n"
     ]
    },
    {
     "name": "stderr",
     "output_type": "stream",
     "text": [
      "0: 416x416 (no detections), 105.9ms\n",
      "Speed: 3.5ms preprocess, 105.9ms inference, 1.0ms postprocess per image at shape (1, 3, 416, 416)\n",
      "0: 416x416 1 Speed Limit 30, 97.9ms\n",
      "Speed: 2.5ms preprocess, 97.9ms inference, 6.5ms postprocess per image at shape (1, 3, 416, 416)\n",
      "\n",
      "0: 416x416 (no detections), 103.5ms\n",
      "Speed: 2.5ms preprocess, 103.5ms inference, 0.0ms postprocess per image at shape (1, 3, 416, 416)\n",
      "\n",
      "\n"
     ]
    },
    {
     "name": "stdout",
     "output_type": "stream",
     "text": [
      "0.93698204\n"
     ]
    },
    {
     "name": "stderr",
     "output_type": "stream",
     "text": [
      "0: 416x416 (no detections), 105.6ms\n",
      "Speed: 2.0ms preprocess, 105.6ms inference, 1.0ms postprocess per image at shape (1, 3, 416, 416)\n",
      "0: 416x416 1 Speed Limit 30, 96.2ms\n",
      "Speed: 3.0ms preprocess, 96.2ms inference, 1.5ms postprocess per image at shape (1, 3, 416, 416)\n",
      "\n",
      "0: 416x416 (no detections), 93.9ms\n",
      "Speed: 2.9ms preprocess, 93.9ms inference, 2.0ms postprocess per image at shape (1, 3, 416, 416)\n",
      "\n",
      "\n"
     ]
    },
    {
     "name": "stdout",
     "output_type": "stream",
     "text": [
      "0.9369449\n"
     ]
    },
    {
     "name": "stderr",
     "output_type": "stream",
     "text": [
      "0: 416x416 (no detections), 101.9ms\n",
      "Speed: 2.5ms preprocess, 101.9ms inference, 1.0ms postprocess per image at shape (1, 3, 416, 416)\n",
      "\n",
      "0: 416x416 1 Speed Limit 30, 101.9ms\n",
      "Speed: 3.0ms preprocess, 101.9ms inference, 1.9ms postprocess per image at shape (1, 3, 416, 416)\n",
      "0: 416x416 (no detections), 95.9ms\n",
      "Speed: 3.0ms preprocess, 95.9ms inference, 1.0ms postprocess per image at shape (1, 3, 416, 416)\n",
      "\n",
      "\n"
     ]
    },
    {
     "name": "stdout",
     "output_type": "stream",
     "text": [
      "0.9371169\n"
     ]
    },
    {
     "name": "stderr",
     "output_type": "stream",
     "text": [
      "0: 416x416 (no detections), 98.4ms\n",
      "Speed: 3.5ms preprocess, 98.4ms inference, 1.0ms postprocess per image at shape (1, 3, 416, 416)\n",
      "\n",
      "0: 416x416 1 Speed Limit 30, 118.7ms\n",
      "Speed: 3.0ms preprocess, 118.7ms inference, 2.0ms postprocess per image at shape (1, 3, 416, 416)\n",
      "0: 416x416 (no detections), 108.2ms\n",
      "Speed: 2.8ms preprocess, 108.2ms inference, 1.0ms postprocess per image at shape (1, 3, 416, 416)\n",
      "\n",
      "\n",
      "0: 416x416 (no detections), 107.9ms\n"
     ]
    },
    {
     "name": "stdout",
     "output_type": "stream",
     "text": [
      "0.93749493\n"
     ]
    },
    {
     "name": "stderr",
     "output_type": "stream",
     "text": [
      "Speed: 3.0ms preprocess, 107.9ms inference, 1.0ms postprocess per image at shape (1, 3, 416, 416)\n",
      "\n",
      "0: 416x416 1 Speed Limit 30, 108.2ms\n",
      "Speed: 1.6ms preprocess, 108.2ms inference, 1.0ms postprocess per image at shape (1, 3, 416, 416)\n",
      "0: 416x416 (no detections), 98.9ms\n",
      "Speed: 2.9ms preprocess, 98.9ms inference, 1.5ms postprocess per image at shape (1, 3, 416, 416)\n",
      "\n",
      "\n"
     ]
    },
    {
     "name": "stdout",
     "output_type": "stream",
     "text": [
      "0.93664587\n"
     ]
    },
    {
     "name": "stderr",
     "output_type": "stream",
     "text": [
      "0: 416x416 (no detections), 106.5ms\n",
      "Speed: 3.0ms preprocess, 106.5ms inference, 2.0ms postprocess per image at shape (1, 3, 416, 416)\n",
      "\n",
      "0: 416x416 1 Speed Limit 30, 109.2ms\n",
      "Speed: 2.6ms preprocess, 109.2ms inference, 2.0ms postprocess per image at shape (1, 3, 416, 416)\n",
      "0: 416x416 (no detections), 99.9ms\n",
      "Speed: 3.5ms preprocess, 99.9ms inference, 1.0ms postprocess per image at shape (1, 3, 416, 416)\n",
      "\n",
      "\n",
      "0: 416x416 (no detections), 106.3ms\n"
     ]
    },
    {
     "name": "stdout",
     "output_type": "stream",
     "text": [
      "0.93684024\n"
     ]
    },
    {
     "name": "stderr",
     "output_type": "stream",
     "text": [
      "Speed: 4.0ms preprocess, 106.3ms inference, 1.0ms postprocess per image at shape (1, 3, 416, 416)\n",
      "\n",
      "0: 416x416 1 Speed Limit 30, 107.7ms\n",
      "Speed: 3.0ms preprocess, 107.7ms inference, 2.0ms postprocess per image at shape (1, 3, 416, 416)\n",
      "0: 416x416 (no detections), 100.9ms\n",
      "Speed: 3.0ms preprocess, 100.9ms inference, 1.0ms postprocess per image at shape (1, 3, 416, 416)\n",
      "\n",
      "\n",
      "0: 416x416 (no detections), 107.8ms\n",
      "Speed: 3.0ms preprocess, 107.8ms inference, 1.0ms postprocess per image at shape (1, 3, 416, 416)\n"
     ]
    },
    {
     "name": "stdout",
     "output_type": "stream",
     "text": [
      "0.9369265\n"
     ]
    },
    {
     "name": "stderr",
     "output_type": "stream",
     "text": [
      "\n",
      "0: 416x416 1 Speed Limit 30, 116.1ms\n",
      "Speed: 2.0ms preprocess, 116.1ms inference, 2.0ms postprocess per image at shape (1, 3, 416, 416)\n",
      "0: 416x416 (no detections), 111.9ms\n",
      "Speed: 3.1ms preprocess, 111.9ms inference, 1.0ms postprocess per image at shape (1, 3, 416, 416)\n",
      "\n",
      "\n",
      "0: 416x416 (no detections), 102.9ms\n",
      "Speed: 2.0ms preprocess, 102.9ms inference, 1.1ms postprocess per image at shape (1, 3, 416, 416)\n"
     ]
    },
    {
     "name": "stdout",
     "output_type": "stream",
     "text": [
      "0.9373376\n"
     ]
    },
    {
     "name": "stderr",
     "output_type": "stream",
     "text": [
      "\n",
      "0: 416x416 1 Speed Limit 30, 106.5ms\n",
      "Speed: 2.5ms preprocess, 106.5ms inference, 1.0ms postprocess per image at shape (1, 3, 416, 416)\n",
      "0: 416x416 (no detections), 100.3ms\n",
      "Speed: 3.0ms preprocess, 100.3ms inference, 1.2ms postprocess per image at shape (1, 3, 416, 416)\n",
      "\n",
      "\n",
      "0: 416x416 (no detections), 101.2ms\n",
      "Speed: 3.0ms preprocess, 101.2ms inference, 1.0ms postprocess per image at shape (1, 3, 416, 416)\n"
     ]
    },
    {
     "name": "stdout",
     "output_type": "stream",
     "text": [
      "0.93693715\n"
     ]
    },
    {
     "name": "stderr",
     "output_type": "stream",
     "text": [
      "\n",
      "0: 416x416 1 Speed Limit 30, 107.9ms\n",
      "Speed: 2.0ms preprocess, 107.9ms inference, 1.2ms postprocess per image at shape (1, 3, 416, 416)\n",
      "0: 416x416 (no detections), 103.2ms\n",
      "Speed: 3.0ms preprocess, 103.2ms inference, 1.0ms postprocess per image at shape (1, 3, 416, 416)\n",
      "\n",
      "\n",
      "0: 416x416 (no detections), 98.5ms\n",
      "Speed: 3.0ms preprocess, 98.5ms inference, 1.0ms postprocess per image at shape (1, 3, 416, 416)\n",
      "\n"
     ]
    },
    {
     "name": "stdout",
     "output_type": "stream",
     "text": [
      "0.93679094\n"
     ]
    },
    {
     "name": "stderr",
     "output_type": "stream",
     "text": [
      "0: 416x416 1 Speed Limit 30, 117.4ms\n",
      "Speed: 2.0ms preprocess, 117.4ms inference, 1.0ms postprocess per image at shape (1, 3, 416, 416)\n",
      "0: 416x416 (no detections), 107.5ms\n",
      "Speed: 3.2ms preprocess, 107.5ms inference, 1.0ms postprocess per image at shape (1, 3, 416, 416)\n",
      "\n",
      "\n",
      "0: 416x416 (no detections), 102.1ms\n",
      "Speed: 2.0ms preprocess, 102.1ms inference, 0.0ms postprocess per image at shape (1, 3, 416, 416)\n",
      "\n"
     ]
    },
    {
     "name": "stdout",
     "output_type": "stream",
     "text": [
      "0.93710095\n"
     ]
    },
    {
     "name": "stderr",
     "output_type": "stream",
     "text": [
      "0: 416x416 1 Speed Limit 30, 101.4ms\n",
      "Speed: 3.0ms preprocess, 101.4ms inference, 2.0ms postprocess per image at shape (1, 3, 416, 416)\n",
      "0: 416x416 (no detections), 95.0ms\n",
      "Speed: 3.5ms preprocess, 95.0ms inference, 1.5ms postprocess per image at shape (1, 3, 416, 416)\n",
      "\n",
      "0: 416x416 (no detections), 102.4ms\n",
      "Speed: 3.0ms preprocess, 102.4ms inference, 1.0ms postprocess per image at shape (1, 3, 416, 416)\n",
      "\n",
      "\n"
     ]
    },
    {
     "name": "stdout",
     "output_type": "stream",
     "text": [
      "0.93754226\n"
     ]
    },
    {
     "name": "stderr",
     "output_type": "stream",
     "text": [
      "0: 416x416 1 Speed Limit 30, 102.6ms\n",
      "Speed: 3.0ms preprocess, 102.6ms inference, 1.0ms postprocess per image at shape (1, 3, 416, 416)\n",
      "0: 416x416 (no detections), 102.4ms\n",
      "Speed: 1.9ms preprocess, 102.4ms inference, 1.0ms postprocess per image at shape (1, 3, 416, 416)\n",
      "\n",
      "0: 416x416 (no detections), 95.2ms\n",
      "Speed: 3.0ms preprocess, 95.2ms inference, 1.0ms postprocess per image at shape (1, 3, 416, 416)\n",
      "\n",
      "\n"
     ]
    },
    {
     "name": "stdout",
     "output_type": "stream",
     "text": [
      "0.93684965\n"
     ]
    },
    {
     "name": "stderr",
     "output_type": "stream",
     "text": [
      "0: 416x416 (no detections), 113.7ms\n",
      "Speed: 3.0ms preprocess, 113.7ms inference, 1.0ms postprocess per image at shape (1, 3, 416, 416)\n",
      "0: 416x416 1 Speed Limit 30, 111.7ms\n",
      "Speed: 2.0ms preprocess, 111.7ms inference, 1.5ms postprocess per image at shape (1, 3, 416, 416)\n",
      "\n",
      "0: 416x416 (no detections), 95.8ms\n",
      "Speed: 3.0ms preprocess, 95.8ms inference, 1.0ms postprocess per image at shape (1, 3, 416, 416)\n",
      "\n",
      "\n"
     ]
    },
    {
     "name": "stdout",
     "output_type": "stream",
     "text": [
      "0.9368598\n"
     ]
    },
    {
     "name": "stderr",
     "output_type": "stream",
     "text": [
      "0: 416x416 (no detections), 107.0ms\n",
      "Speed: 3.0ms preprocess, 107.0ms inference, 1.0ms postprocess per image at shape (1, 3, 416, 416)\n",
      "0: 416x416 1 Speed Limit 30, 101.9ms\n",
      "Speed: 3.0ms preprocess, 101.9ms inference, 2.5ms postprocess per image at shape (1, 3, 416, 416)\n",
      "\n",
      "0: 416x416 (no detections), 101.8ms\n",
      "Speed: 3.0ms preprocess, 101.8ms inference, 1.0ms postprocess per image at shape (1, 3, 416, 416)\n",
      "\n",
      "\n"
     ]
    },
    {
     "name": "stdout",
     "output_type": "stream",
     "text": [
      "0.93698746\n"
     ]
    },
    {
     "name": "stderr",
     "output_type": "stream",
     "text": [
      "0: 416x416 (no detections), 103.0ms\n",
      "Speed: 1.5ms preprocess, 103.0ms inference, 1.0ms postprocess per image at shape (1, 3, 416, 416)\n",
      "\n",
      "0: 416x416 1 Speed Limit 30, 105.9ms\n",
      "Speed: 3.0ms preprocess, 105.9ms inference, 1.7ms postprocess per image at shape (1, 3, 416, 416)\n",
      "0: 416x416 (no detections), 103.4ms\n",
      "Speed: 3.0ms preprocess, 103.4ms inference, 0.0ms postprocess per image at shape (1, 3, 416, 416)\n",
      "\n",
      "\n"
     ]
    },
    {
     "name": "stdout",
     "output_type": "stream",
     "text": [
      "0.9374001\n"
     ]
    },
    {
     "name": "stderr",
     "output_type": "stream",
     "text": [
      "0: 416x416 (no detections), 100.3ms\n",
      "Speed: 3.0ms preprocess, 100.3ms inference, 1.0ms postprocess per image at shape (1, 3, 416, 416)\n",
      "\n",
      "0: 416x416 1 Speed Limit 30, 102.4ms\n",
      "Speed: 1.9ms preprocess, 102.4ms inference, 2.0ms postprocess per image at shape (1, 3, 416, 416)\n",
      "0: 416x416 (no detections), 93.9ms\n",
      "Speed: 3.0ms preprocess, 93.9ms inference, 1.0ms postprocess per image at shape (1, 3, 416, 416)\n",
      "\n",
      "\n"
     ]
    },
    {
     "name": "stdout",
     "output_type": "stream",
     "text": [
      "0.9370396\n"
     ]
    },
    {
     "name": "stderr",
     "output_type": "stream",
     "text": [
      "0: 416x416 (no detections), 106.8ms\n",
      "Speed: 3.0ms preprocess, 106.8ms inference, 0.0ms postprocess per image at shape (1, 3, 416, 416)\n",
      "\n",
      "0: 416x416 1 Speed Limit 30, 106.7ms\n",
      "Speed: 2.0ms preprocess, 106.7ms inference, 2.0ms postprocess per image at shape (1, 3, 416, 416)\n",
      "0: 416x416 (no detections), 98.4ms\n",
      "Speed: 3.0ms preprocess, 98.4ms inference, 1.0ms postprocess per image at shape (1, 3, 416, 416)\n",
      "\n",
      "\n"
     ]
    },
    {
     "name": "stdout",
     "output_type": "stream",
     "text": [
      "0.9369179\n"
     ]
    },
    {
     "name": "stderr",
     "output_type": "stream",
     "text": [
      "0: 416x416 (no detections), 112.9ms\n",
      "Speed: 3.0ms preprocess, 112.9ms inference, 0.0ms postprocess per image at shape (1, 3, 416, 416)\n",
      "\n",
      "0: 416x416 1 Speed Limit 30, 109.5ms\n",
      "Speed: 3.2ms preprocess, 109.5ms inference, 1.0ms postprocess per image at shape (1, 3, 416, 416)\n",
      "0: 416x416 (no detections), 101.0ms\n",
      "Speed: 2.0ms preprocess, 101.0ms inference, 1.0ms postprocess per image at shape (1, 3, 416, 416)\n",
      "\n",
      "\n"
     ]
    },
    {
     "name": "stdout",
     "output_type": "stream",
     "text": [
      "0.93719786\n"
     ]
    },
    {
     "name": "stderr",
     "output_type": "stream",
     "text": [
      "0: 416x416 (no detections), 116.9ms\n",
      "Speed: 3.2ms preprocess, 116.9ms inference, 2.0ms postprocess per image at shape (1, 3, 416, 416)\n",
      "\n",
      "0: 416x416 1 Speed Limit 30, 109.3ms\n",
      "Speed: 2.0ms preprocess, 109.3ms inference, 2.0ms postprocess per image at shape (1, 3, 416, 416)\n",
      "0: 416x416 (no detections), 98.1ms\n",
      "Speed: 2.0ms preprocess, 98.1ms inference, 1.0ms postprocess per image at shape (1, 3, 416, 416)\n",
      "\n",
      "\n",
      "0: 416x416 (no detections), 95.8ms\n",
      "Speed: 3.0ms preprocess, 95.8ms inference, 2.0ms postprocess per image at shape (1, 3, 416, 416)\n"
     ]
    },
    {
     "name": "stdout",
     "output_type": "stream",
     "text": [
      "0.93760496\n"
     ]
    },
    {
     "name": "stderr",
     "output_type": "stream",
     "text": [
      "\n",
      "0: 416x416 1 Speed Limit 30, 105.5ms\n",
      "Speed: 2.0ms preprocess, 105.5ms inference, 1.0ms postprocess per image at shape (1, 3, 416, 416)\n",
      "0: 416x416 (no detections), 99.2ms\n",
      "Speed: 3.0ms preprocess, 99.2ms inference, 1.5ms postprocess per image at shape (1, 3, 416, 416)\n",
      "\n",
      "\n",
      "0: 416x416 (no detections), 95.3ms\n",
      "Speed: 3.0ms preprocess, 95.3ms inference, 1.0ms postprocess per image at shape (1, 3, 416, 416)\n",
      "\n"
     ]
    },
    {
     "name": "stdout",
     "output_type": "stream",
     "text": [
      "0.9370481\n"
     ]
    },
    {
     "name": "stderr",
     "output_type": "stream",
     "text": [
      "0: 416x416 1 Speed Limit 30, 105.8ms\n",
      "Speed: 2.1ms preprocess, 105.8ms inference, 2.0ms postprocess per image at shape (1, 3, 416, 416)\n",
      "0: 416x416 (no detections), 102.0ms\n",
      "Speed: 3.0ms preprocess, 102.0ms inference, 0.0ms postprocess per image at shape (1, 3, 416, 416)\n",
      "\n",
      "\n",
      "0: 416x416 (no detections), 107.7ms\n",
      "Speed: 3.0ms preprocess, 107.7ms inference, 1.0ms postprocess per image at shape (1, 3, 416, 416)\n",
      "\n"
     ]
    },
    {
     "name": "stdout",
     "output_type": "stream",
     "text": [
      "0.93693346\n"
     ]
    },
    {
     "name": "stderr",
     "output_type": "stream",
     "text": [
      "0: 416x416 1 Speed Limit 30, 103.4ms\n",
      "Speed: 4.5ms preprocess, 103.4ms inference, 2.0ms postprocess per image at shape (1, 3, 416, 416)\n",
      "0: 416x416 (no detections), 101.8ms\n",
      "Speed: 3.0ms preprocess, 101.8ms inference, 0.6ms postprocess per image at shape (1, 3, 416, 416)\n",
      "\n",
      "0: 416x416 (no detections), 102.8ms\n",
      "Speed: 2.5ms preprocess, 102.8ms inference, 1.0ms postprocess per image at shape (1, 3, 416, 416)\n",
      "\n",
      "\n"
     ]
    },
    {
     "name": "stdout",
     "output_type": "stream",
     "text": [
      "0.93686974\n"
     ]
    },
    {
     "name": "stderr",
     "output_type": "stream",
     "text": [
      "0: 416x416 1 Speed Limit 30, 102.5ms\n",
      "Speed: 2.0ms preprocess, 102.5ms inference, 2.0ms postprocess per image at shape (1, 3, 416, 416)\n",
      "0: 416x416 (no detections), 100.5ms\n",
      "Speed: 2.0ms preprocess, 100.5ms inference, 1.0ms postprocess per image at shape (1, 3, 416, 416)\n",
      "\n",
      "0: 416x416 (no detections), 94.3ms\n",
      "Speed: 3.0ms preprocess, 94.3ms inference, 0.0ms postprocess per image at shape (1, 3, 416, 416)\n",
      "\n",
      "\n"
     ]
    },
    {
     "name": "stdout",
     "output_type": "stream",
     "text": [
      "0.93710494\n"
     ]
    },
    {
     "name": "stderr",
     "output_type": "stream",
     "text": [
      "0: 416x416 (no detections), 101.8ms\n",
      "Speed: 5.0ms preprocess, 101.8ms inference, 1.1ms postprocess per image at shape (1, 3, 416, 416)\n",
      "0: 416x416 1 Speed Limit 30, 101.3ms\n",
      "Speed: 1.6ms preprocess, 101.3ms inference, 6.0ms postprocess per image at shape (1, 3, 416, 416)\n",
      "\n",
      "0: 416x416 (no detections), 95.1ms\n",
      "Speed: 3.0ms preprocess, 95.1ms inference, 1.0ms postprocess per image at shape (1, 3, 416, 416)\n",
      "\n",
      "\n"
     ]
    },
    {
     "name": "stdout",
     "output_type": "stream",
     "text": [
      "0.9365176\n"
     ]
    },
    {
     "name": "stderr",
     "output_type": "stream",
     "text": [
      "0: 416x416 (no detections), 108.4ms\n",
      "Speed: 3.5ms preprocess, 108.4ms inference, 1.0ms postprocess per image at shape (1, 3, 416, 416)\n",
      "0: 416x416 1 Speed Limit 30, 106.3ms\n",
      "Speed: 2.8ms preprocess, 106.3ms inference, 2.0ms postprocess per image at shape (1, 3, 416, 416)\n",
      "\n",
      "0: 416x416 (no detections), 101.2ms\n",
      "Speed: 3.3ms preprocess, 101.2ms inference, 1.0ms postprocess per image at shape (1, 3, 416, 416)\n",
      "\n",
      "\n"
     ]
    },
    {
     "name": "stdout",
     "output_type": "stream",
     "text": [
      "0.93693674\n"
     ]
    },
    {
     "name": "stderr",
     "output_type": "stream",
     "text": [
      "0: 416x416 (no detections), 105.2ms\n",
      "Speed: 2.0ms preprocess, 105.2ms inference, 1.0ms postprocess per image at shape (1, 3, 416, 416)\n",
      "\n",
      "0: 416x416 1 Speed Limit 30, 101.1ms\n",
      "Speed: 2.0ms preprocess, 101.1ms inference, 6.0ms postprocess per image at shape (1, 3, 416, 416)\n",
      "0: 416x416 (no detections), 98.8ms\n",
      "Speed: 5.1ms preprocess, 98.8ms inference, 0.0ms postprocess per image at shape (1, 3, 416, 416)\n",
      "\n",
      "\n"
     ]
    },
    {
     "name": "stdout",
     "output_type": "stream",
     "text": [
      "0.9372671\n"
     ]
    },
    {
     "name": "stderr",
     "output_type": "stream",
     "text": [
      "0: 416x416 (no detections), 103.3ms\n",
      "Speed: 3.0ms preprocess, 103.3ms inference, 0.9ms postprocess per image at shape (1, 3, 416, 416)\n",
      "\n",
      "0: 416x416 1 Speed Limit 30, 102.6ms\n",
      "Speed: 2.0ms preprocess, 102.6ms inference, 1.0ms postprocess per image at shape (1, 3, 416, 416)\n",
      "0: 416x416 (no detections), 94.8ms\n",
      "Speed: 3.0ms preprocess, 94.8ms inference, 1.0ms postprocess per image at shape (1, 3, 416, 416)\n",
      "\n",
      "\n"
     ]
    },
    {
     "name": "stdout",
     "output_type": "stream",
     "text": [
      "0.9374311\n"
     ]
    },
    {
     "name": "stderr",
     "output_type": "stream",
     "text": [
      "0: 416x416 (no detections), 103.1ms\n",
      "Speed: 3.0ms preprocess, 103.1ms inference, 1.0ms postprocess per image at shape (1, 3, 416, 416)\n",
      "\n",
      "0: 416x416 1 Speed Limit 30, 104.0ms\n",
      "Speed: 2.0ms preprocess, 104.0ms inference, 2.0ms postprocess per image at shape (1, 3, 416, 416)\n",
      "0: 416x416 (no detections), 102.3ms\n",
      "Speed: 4.0ms preprocess, 102.3ms inference, 1.0ms postprocess per image at shape (1, 3, 416, 416)\n",
      "\n",
      "\n"
     ]
    },
    {
     "name": "stdout",
     "output_type": "stream",
     "text": [
      "0.9368033\n"
     ]
    },
    {
     "name": "stderr",
     "output_type": "stream",
     "text": [
      "0: 416x416 (no detections), 119.2ms\n",
      "Speed: 3.0ms preprocess, 119.2ms inference, 1.0ms postprocess per image at shape (1, 3, 416, 416)\n",
      "\n",
      "0: 416x416 1 Speed Limit 30, 111.2ms\n",
      "Speed: 2.5ms preprocess, 111.2ms inference, 2.0ms postprocess per image at shape (1, 3, 416, 416)\n",
      "0: 416x416 (no detections), 95.8ms\n",
      "Speed: 3.0ms preprocess, 95.8ms inference, 1.0ms postprocess per image at shape (1, 3, 416, 416)\n",
      "\n",
      "\n",
      "0: 416x416 (no detections), 102.4ms\n"
     ]
    },
    {
     "name": "stdout",
     "output_type": "stream",
     "text": [
      "0.93724126\n"
     ]
    },
    {
     "name": "stderr",
     "output_type": "stream",
     "text": [
      "Speed: 2.5ms preprocess, 102.4ms inference, 1.0ms postprocess per image at shape (1, 3, 416, 416)\n",
      "\n",
      "0: 416x416 1 Speed Limit 30, 105.9ms\n",
      "Speed: 2.5ms preprocess, 105.9ms inference, 2.0ms postprocess per image at shape (1, 3, 416, 416)\n",
      "0: 416x416 (no detections), 99.7ms\n",
      "Speed: 2.4ms preprocess, 99.7ms inference, 1.6ms postprocess per image at shape (1, 3, 416, 416)\n",
      "\n",
      "\n"
     ]
    },
    {
     "name": "stdout",
     "output_type": "stream",
     "text": [
      "0.9369458\n"
     ]
    },
    {
     "name": "stderr",
     "output_type": "stream",
     "text": [
      "0: 416x416 (no detections), 109.5ms\n",
      "Speed: 2.0ms preprocess, 109.5ms inference, 1.0ms postprocess per image at shape (1, 3, 416, 416)\n",
      "\n",
      "0: 416x416 1 Speed Limit 30, 109.8ms\n",
      "Speed: 2.0ms preprocess, 109.8ms inference, 2.0ms postprocess per image at shape (1, 3, 416, 416)\n",
      "0: 416x416 (no detections), 101.6ms\n",
      "Speed: 3.5ms preprocess, 101.6ms inference, 0.0ms postprocess per image at shape (1, 3, 416, 416)\n",
      "\n",
      "\n"
     ]
    },
    {
     "name": "stdout",
     "output_type": "stream",
     "text": [
      "0.93714637\n"
     ]
    },
    {
     "name": "stderr",
     "output_type": "stream",
     "text": [
      "0: 416x416 (no detections), 103.4ms\n",
      "Speed: 2.5ms preprocess, 103.4ms inference, 1.0ms postprocess per image at shape (1, 3, 416, 416)\n",
      "\n",
      "0: 416x416 1 Speed Limit 30, 123.1ms\n",
      "Speed: 2.0ms preprocess, 123.1ms inference, 2.0ms postprocess per image at shape (1, 3, 416, 416)\n",
      "0: 416x416 (no detections), 104.0ms\n",
      "Speed: 4.1ms preprocess, 104.0ms inference, 1.6ms postprocess per image at shape (1, 3, 416, 416)\n",
      "\n",
      "\n",
      "0: 416x416 (no detections), 102.0ms\n"
     ]
    },
    {
     "name": "stdout",
     "output_type": "stream",
     "text": [
      "0.936571\n"
     ]
    },
    {
     "name": "stderr",
     "output_type": "stream",
     "text": [
      "Speed: 2.0ms preprocess, 102.0ms inference, 1.0ms postprocess per image at shape (1, 3, 416, 416)\n",
      "\n",
      "0: 416x416 1 Speed Limit 30, 111.3ms\n",
      "Speed: 2.0ms preprocess, 111.3ms inference, 2.0ms postprocess per image at shape (1, 3, 416, 416)\n",
      "0: 416x416 (no detections), 105.1ms\n",
      "Speed: 3.0ms preprocess, 105.1ms inference, 1.0ms postprocess per image at shape (1, 3, 416, 416)\n",
      "\n",
      "\n"
     ]
    },
    {
     "name": "stdout",
     "output_type": "stream",
     "text": [
      "0.9368455\n"
     ]
    },
    {
     "name": "stderr",
     "output_type": "stream",
     "text": [
      "0: 416x416 (no detections), 157.1ms\n",
      "Speed: 8.0ms preprocess, 157.1ms inference, 2.0ms postprocess per image at shape (1, 3, 416, 416)\n",
      "\n",
      "0: 416x416 1 Speed Limit 30, 163.3ms\n",
      "Speed: 3.0ms preprocess, 163.3ms inference, 4.0ms postprocess per image at shape (1, 3, 416, 416)\n",
      "\n",
      "0: 416x416 (no detections), 137.7ms\n",
      "Speed: 10.4ms preprocess, 137.7ms inference, 1.0ms postprocess per image at shape (1, 3, 416, 416)\n",
      "\n",
      "0: 416x416 1 Speed Limit 30, 98.6ms\n",
      "Speed: 2.2ms preprocess, 98.6ms inference, 1.0ms postprocess per image at shape (1, 3, 416, 416)\n",
      "0: 416x416 (no detections), 92.2ms\n"
     ]
    },
    {
     "name": "stdout",
     "output_type": "stream",
     "text": [
      "0.9372035\n",
      "0.9370401\n"
     ]
    },
    {
     "name": "stderr",
     "output_type": "stream",
     "text": [
      "Speed: 3.0ms preprocess, 92.2ms inference, 1.5ms postprocess per image at shape (1, 3, 416, 416)\n",
      "\n",
      "\n",
      "0: 416x416 (no detections), 103.6ms\n",
      "Speed: 3.0ms preprocess, 103.6ms inference, 2.0ms postprocess per image at shape (1, 3, 416, 416)\n",
      "\n",
      "0: 416x416 1 Speed Limit 30, 108.9ms\n",
      "Speed: 2.0ms preprocess, 108.9ms inference, 2.0ms postprocess per image at shape (1, 3, 416, 416)\n",
      "0: 416x416 (no detections), 98.1ms\n",
      "Speed: 5.0ms preprocess, 98.1ms inference, 1.0ms postprocess per image at shape (1, 3, 416, 416)\n",
      "\n",
      "\n"
     ]
    },
    {
     "name": "stdout",
     "output_type": "stream",
     "text": [
      "0.9369274\n"
     ]
    },
    {
     "name": "stderr",
     "output_type": "stream",
     "text": [
      "0: 416x416 (no detections), 114.0ms\n",
      "Speed: 3.5ms preprocess, 114.0ms inference, 1.0ms postprocess per image at shape (1, 3, 416, 416)\n",
      "\n",
      "0: 416x416 1 Speed Limit 30, 106.1ms\n",
      "Speed: 2.6ms preprocess, 106.1ms inference, 2.0ms postprocess per image at shape (1, 3, 416, 416)\n",
      "0: 416x416 (no detections), 96.8ms\n",
      "Speed: 3.3ms preprocess, 96.8ms inference, 1.0ms postprocess per image at shape (1, 3, 416, 416)\n",
      "\n",
      "\n",
      "0: 416x416 (no detections), 102.2ms\n"
     ]
    },
    {
     "name": "stdout",
     "output_type": "stream",
     "text": [
      "0.93722373\n"
     ]
    },
    {
     "name": "stderr",
     "output_type": "stream",
     "text": [
      "Speed: 3.0ms preprocess, 102.2ms inference, 0.0ms postprocess per image at shape (1, 3, 416, 416)\n",
      "\n",
      "0: 416x416 1 Speed Limit 30, 104.7ms\n",
      "Speed: 2.0ms preprocess, 104.7ms inference, 2.0ms postprocess per image at shape (1, 3, 416, 416)\n",
      "0: 416x416 (no detections), 99.2ms\n",
      "Speed: 4.0ms preprocess, 99.2ms inference, 1.0ms postprocess per image at shape (1, 3, 416, 416)\n",
      "\n",
      "\n",
      "0: 416x416 (no detections), 104.8ms\n"
     ]
    },
    {
     "name": "stdout",
     "output_type": "stream",
     "text": [
      "0.9375956\n"
     ]
    },
    {
     "name": "stderr",
     "output_type": "stream",
     "text": [
      "Speed: 2.0ms preprocess, 104.8ms inference, 2.3ms postprocess per image at shape (1, 3, 416, 416)\n",
      "\n",
      "0: 416x416 1 Speed Limit 30, 106.0ms\n",
      "Speed: 3.0ms preprocess, 106.0ms inference, 1.0ms postprocess per image at shape (1, 3, 416, 416)\n",
      "0: 416x416 (no detections), 99.8ms\n",
      "Speed: 2.9ms preprocess, 99.8ms inference, 1.0ms postprocess per image at shape (1, 3, 416, 416)\n",
      "\n",
      "\n"
     ]
    },
    {
     "name": "stdout",
     "output_type": "stream",
     "text": [
      "0.93702775\n"
     ]
    },
    {
     "name": "stderr",
     "output_type": "stream",
     "text": [
      "0: 416x416 (no detections), 118.3ms\n",
      "Speed: 3.0ms preprocess, 118.3ms inference, 1.0ms postprocess per image at shape (1, 3, 416, 416)\n",
      "\n",
      "0: 416x416 1 Speed Limit 30, 119.6ms\n",
      "Speed: 3.0ms preprocess, 119.6ms inference, 1.5ms postprocess per image at shape (1, 3, 416, 416)\n",
      "0: 416x416 (no detections), 122.9ms\n",
      "Speed: 3.0ms preprocess, 122.9ms inference, 1.5ms postprocess per image at shape (1, 3, 416, 416)\n",
      "\n",
      "\n"
     ]
    },
    {
     "name": "stdout",
     "output_type": "stream",
     "text": [
      "0.93691546\n"
     ]
    },
    {
     "name": "stderr",
     "output_type": "stream",
     "text": [
      "0: 416x416 (no detections), 121.4ms\n",
      "Speed: 5.0ms preprocess, 121.4ms inference, 1.5ms postprocess per image at shape (1, 3, 416, 416)\n",
      "\n",
      "0: 416x416 1 Speed Limit 30, 117.4ms\n",
      "Speed: 2.6ms preprocess, 117.4ms inference, 2.1ms postprocess per image at shape (1, 3, 416, 416)\n",
      "0: 416x416 (no detections), 108.9ms\n",
      "Speed: 5.0ms preprocess, 108.9ms inference, 1.0ms postprocess per image at shape (1, 3, 416, 416)\n",
      "\n",
      "\n"
     ]
    },
    {
     "name": "stdout",
     "output_type": "stream",
     "text": [
      "0.9368733\n"
     ]
    },
    {
     "name": "stderr",
     "output_type": "stream",
     "text": [
      "0: 416x416 (no detections), 106.1ms\n",
      "Speed: 3.0ms preprocess, 106.1ms inference, 1.2ms postprocess per image at shape (1, 3, 416, 416)\n",
      "\n",
      "0: 416x416 1 Speed Limit 30, 103.4ms\n",
      "Speed: 2.0ms preprocess, 103.4ms inference, 1.0ms postprocess per image at shape (1, 3, 416, 416)\n",
      "0: 416x416 (no detections), 97.2ms\n",
      "Speed: 3.0ms preprocess, 97.2ms inference, 1.0ms postprocess per image at shape (1, 3, 416, 416)\n",
      "\n",
      "\n"
     ]
    },
    {
     "name": "stdout",
     "output_type": "stream",
     "text": [
      "0.9370628\n"
     ]
    },
    {
     "name": "stderr",
     "output_type": "stream",
     "text": [
      "0: 416x416 (no detections), 107.9ms\n",
      "Speed: 3.1ms preprocess, 107.9ms inference, 1.0ms postprocess per image at shape (1, 3, 416, 416)\n",
      "\n",
      "0: 416x416 1 Speed Limit 30, 108.5ms\n",
      "Speed: 3.0ms preprocess, 108.5ms inference, 2.0ms postprocess per image at shape (1, 3, 416, 416)\n",
      "0: 416x416 (no detections), 107.2ms\n",
      "Speed: 3.0ms preprocess, 107.2ms inference, 1.0ms postprocess per image at shape (1, 3, 416, 416)\n",
      "\n",
      "\n"
     ]
    },
    {
     "name": "stdout",
     "output_type": "stream",
     "text": [
      "0.9365413\n"
     ]
    },
    {
     "name": "stderr",
     "output_type": "stream",
     "text": [
      "0: 416x416 (no detections), 114.1ms\n",
      "Speed: 3.0ms preprocess, 114.1ms inference, 1.0ms postprocess per image at shape (1, 3, 416, 416)\n",
      "\n",
      "0: 416x416 1 Speed Limit 30, 111.1ms\n",
      "Speed: 2.0ms preprocess, 111.1ms inference, 2.2ms postprocess per image at shape (1, 3, 416, 416)\n",
      "0: 416x416 (no detections), 106.2ms\n",
      "Speed: 3.3ms preprocess, 106.2ms inference, 0.0ms postprocess per image at shape (1, 3, 416, 416)\n",
      "\n",
      "\n"
     ]
    },
    {
     "name": "stdout",
     "output_type": "stream",
     "text": [
      "0.936989\n"
     ]
    },
    {
     "name": "stderr",
     "output_type": "stream",
     "text": [
      "0: 416x416 (no detections), 112.1ms\n",
      "Speed: 3.0ms preprocess, 112.1ms inference, 1.0ms postprocess per image at shape (1, 3, 416, 416)\n",
      "0: 416x416 1 Speed Limit 30, 107.1ms\n",
      "Speed: 3.0ms preprocess, 107.1ms inference, 2.0ms postprocess per image at shape (1, 3, 416, 416)\n",
      "\n",
      "0: 416x416 (no detections), 103.4ms\n",
      "Speed: 4.0ms preprocess, 103.4ms inference, 1.0ms postprocess per image at shape (1, 3, 416, 416)\n",
      "\n",
      "\n"
     ]
    },
    {
     "name": "stdout",
     "output_type": "stream",
     "text": [
      "0.9372276\n"
     ]
    },
    {
     "name": "stderr",
     "output_type": "stream",
     "text": [
      "0: 416x416 (no detections), 110.9ms\n",
      "Speed: 3.0ms preprocess, 110.9ms inference, 0.0ms postprocess per image at shape (1, 3, 416, 416)\n",
      "0: 416x416 1 Speed Limit 30, 108.6ms\n",
      "Speed: 2.0ms preprocess, 108.6ms inference, 2.0ms postprocess per image at shape (1, 3, 416, 416)\n",
      "\n",
      "0: 416x416 (no detections), 112.6ms\n",
      "Speed: 3.0ms preprocess, 112.6ms inference, 1.0ms postprocess per image at shape (1, 3, 416, 416)\n",
      "\n",
      "\n"
     ]
    },
    {
     "name": "stdout",
     "output_type": "stream",
     "text": [
      "0.937406\n"
     ]
    },
    {
     "name": "stderr",
     "output_type": "stream",
     "text": [
      "0: 416x416 1 Speed Limit 30, 108.1ms\n",
      "0: 416x416 (no detections), 101.0ms\n",
      "Speed: 2.0ms preprocess, 108.1ms inference, 2.0ms postprocess per image at shape (1, 3, 416, 416)\n",
      "Speed: 2.0ms preprocess, 101.0ms inference, 1.0ms postprocess per image at shape (1, 3, 416, 416)\n",
      "\n",
      "0: 416x416 (no detections), 102.2ms\n",
      "Speed: 3.0ms preprocess, 102.2ms inference, 1.0ms postprocess per image at shape (1, 3, 416, 416)\n",
      "\n",
      "\n"
     ]
    },
    {
     "name": "stdout",
     "output_type": "stream",
     "text": [
      "0.9368229\n"
     ]
    },
    {
     "name": "stderr",
     "output_type": "stream",
     "text": [
      "0: 416x416 1 Speed Limit 30, 108.1ms\n",
      "0: 416x416 (no detections), 101.5ms\n",
      "Speed: 2.0ms preprocess, 108.1ms inference, 3.0ms postprocess per image at shape (1, 3, 416, 416)\n",
      "Speed: 3.5ms preprocess, 101.5ms inference, 1.0ms postprocess per image at shape (1, 3, 416, 416)\n",
      "\n",
      "0: 416x416 (no detections), 101.5ms\n",
      "Speed: 3.5ms preprocess, 101.5ms inference, 1.0ms postprocess per image at shape (1, 3, 416, 416)\n",
      "\n",
      "\n"
     ]
    },
    {
     "name": "stdout",
     "output_type": "stream",
     "text": [
      "0.9373175\n"
     ]
    },
    {
     "name": "stderr",
     "output_type": "stream",
     "text": [
      "0: 416x416 (no detections), 105.8ms\n",
      "Speed: 3.5ms preprocess, 105.8ms inference, 2.0ms postprocess per image at shape (1, 3, 416, 416)\n",
      "0: 416x416 1 Speed Limit 30, 108.3ms\n",
      "Speed: 4.0ms preprocess, 108.3ms inference, 6.9ms postprocess per image at shape (1, 3, 416, 416)\n",
      "\n",
      "\n",
      "0: 416x416 (no detections), 107.0ms\n",
      "Speed: 2.6ms preprocess, 107.0ms inference, 1.0ms postprocess per image at shape (1, 3, 416, 416)\n",
      "\n"
     ]
    },
    {
     "name": "stdout",
     "output_type": "stream",
     "text": [
      "0.93696976\n"
     ]
    },
    {
     "name": "stderr",
     "output_type": "stream",
     "text": [
      "0: 416x416 1 Speed Limit 30, 110.6ms\n",
      "Speed: 4.0ms preprocess, 110.6ms inference, 0.6ms postprocess per image at shape (1, 3, 416, 416)\n",
      "0: 416x416 (no detections), 106.6ms\n",
      "Speed: 3.0ms preprocess, 106.6ms inference, 0.0ms postprocess per image at shape (1, 3, 416, 416)\n",
      "\n",
      "\n",
      "0: 416x416 (no detections), 115.3ms\n",
      "Speed: 2.0ms preprocess, 115.3ms inference, 1.0ms postprocess per image at shape (1, 3, 416, 416)\n",
      "\n"
     ]
    },
    {
     "name": "stdout",
     "output_type": "stream",
     "text": [
      "0.9371397\n"
     ]
    },
    {
     "name": "stderr",
     "output_type": "stream",
     "text": [
      "0: 416x416 1 Speed Limit 30, 110.6ms\n",
      "Speed: 2.0ms preprocess, 110.6ms inference, 2.0ms postprocess per image at shape (1, 3, 416, 416)\n",
      "0: 416x416 (no detections), 103.3ms\n",
      "Speed: 3.0ms preprocess, 103.3ms inference, 1.0ms postprocess per image at shape (1, 3, 416, 416)\n",
      "\n",
      "\n",
      "0: 416x416 (no detections), 110.0ms\n",
      "Speed: 3.0ms preprocess, 110.0ms inference, 2.0ms postprocess per image at shape (1, 3, 416, 416)\n",
      "\n"
     ]
    },
    {
     "name": "stdout",
     "output_type": "stream",
     "text": [
      "0.93657124\n"
     ]
    },
    {
     "name": "stderr",
     "output_type": "stream",
     "text": [
      "0: 416x416 1 Speed Limit 30, 110.6ms\n",
      "Speed: 3.0ms preprocess, 110.6ms inference, 2.0ms postprocess per image at shape (1, 3, 416, 416)\n",
      "0: 416x416 (no detections), 106.3ms\n",
      "Speed: 3.0ms preprocess, 106.3ms inference, 0.0ms postprocess per image at shape (1, 3, 416, 416)\n",
      "\n",
      "\n",
      "0: 416x416 (no detections), 116.2ms\n",
      "Speed: 3.5ms preprocess, 116.2ms inference, 1.0ms postprocess per image at shape (1, 3, 416, 416)\n",
      "\n"
     ]
    },
    {
     "name": "stdout",
     "output_type": "stream",
     "text": [
      "0.93680507\n"
     ]
    },
    {
     "name": "stderr",
     "output_type": "stream",
     "text": [
      "0: 416x416 1 Speed Limit 30, 113.3ms\n",
      "Speed: 2.0ms preprocess, 113.3ms inference, 2.0ms postprocess per image at shape (1, 3, 416, 416)\n",
      "0: 416x416 (no detections), 106.0ms\n",
      "Speed: 2.5ms preprocess, 106.0ms inference, 1.0ms postprocess per image at shape (1, 3, 416, 416)\n",
      "\n",
      "\n",
      "0: 416x416 (no detections), 113.6ms\n",
      "Speed: 3.0ms preprocess, 113.6ms inference, 1.5ms postprocess per image at shape (1, 3, 416, 416)\n",
      "\n"
     ]
    },
    {
     "name": "stdout",
     "output_type": "stream",
     "text": [
      "0.93720174\n"
     ]
    },
    {
     "name": "stderr",
     "output_type": "stream",
     "text": [
      "0: 416x416 1 Speed Limit 30, 107.8ms\n",
      "Speed: 2.0ms preprocess, 107.8ms inference, 2.0ms postprocess per image at shape (1, 3, 416, 416)\n",
      "0: 416x416 (no detections), 101.6ms\n",
      "Speed: 2.0ms preprocess, 101.6ms inference, 1.0ms postprocess per image at shape (1, 3, 416, 416)\n",
      "\n",
      "\n",
      "0: 416x416 (no detections), 100.2ms\n",
      "Speed: 3.5ms preprocess, 100.2ms inference, 1.0ms postprocess per image at shape (1, 3, 416, 416)\n",
      "\n"
     ]
    },
    {
     "name": "stdout",
     "output_type": "stream",
     "text": [
      "0.9377215\n"
     ]
    },
    {
     "name": "stderr",
     "output_type": "stream",
     "text": [
      "0: 416x416 1 Speed Limit 30, 108.1ms\n",
      "Speed: 2.0ms preprocess, 108.1ms inference, 1.0ms postprocess per image at shape (1, 3, 416, 416)\n",
      "0: 416x416 (no detections), 108.8ms\n",
      "Speed: 3.0ms preprocess, 108.8ms inference, 1.0ms postprocess per image at shape (1, 3, 416, 416)\n",
      "\n",
      "\n",
      "0: 416x416 (no detections), 101.6ms\n",
      "Speed: 3.0ms preprocess, 101.6ms inference, 1.0ms postprocess per image at shape (1, 3, 416, 416)\n"
     ]
    },
    {
     "name": "stdout",
     "output_type": "stream",
     "text": [
      "0.9369972\n"
     ]
    },
    {
     "name": "stderr",
     "output_type": "stream",
     "text": [
      "\n",
      "0: 416x416 1 Speed Limit 30, 110.1ms\n",
      "Speed: 2.0ms preprocess, 110.1ms inference, 1.0ms postprocess per image at shape (1, 3, 416, 416)\n",
      "0: 416x416 (no detections), 103.6ms\n",
      "Speed: 2.0ms preprocess, 103.6ms inference, 1.0ms postprocess per image at shape (1, 3, 416, 416)\n",
      "\n",
      "\n",
      "0: 416x416 (no detections), 107.8ms\n",
      "Speed: 2.0ms preprocess, 107.8ms inference, 1.0ms postprocess per image at shape (1, 3, 416, 416)\n",
      "\n"
     ]
    },
    {
     "name": "stdout",
     "output_type": "stream",
     "text": [
      "0.93689173\n"
     ]
    },
    {
     "name": "stderr",
     "output_type": "stream",
     "text": [
      "0: 416x416 1 Speed Limit 30, 109.5ms\n",
      "Speed: 3.0ms preprocess, 109.5ms inference, 2.1ms postprocess per image at shape (1, 3, 416, 416)\n",
      "0: 416x416 (no detections), 103.8ms\n",
      "Speed: 3.5ms preprocess, 103.8ms inference, 0.0ms postprocess per image at shape (1, 3, 416, 416)\n",
      "\n",
      "\n",
      "0: 416x416 (no detections), 108.3ms\n",
      "Speed: 3.0ms preprocess, 108.3ms inference, 1.0ms postprocess per image at shape (1, 3, 416, 416)\n"
     ]
    },
    {
     "name": "stdout",
     "output_type": "stream",
     "text": [
      "0.9366421\n"
     ]
    },
    {
     "name": "stderr",
     "output_type": "stream",
     "text": [
      "\n",
      "0: 416x416 1 Speed Limit 30, 112.1ms\n",
      "Speed: 2.0ms preprocess, 112.1ms inference, 3.0ms postprocess per image at shape (1, 3, 416, 416)\n",
      "0: 416x416 (no detections), 105.5ms\n",
      "Speed: 2.1ms preprocess, 105.5ms inference, 1.0ms postprocess per image at shape (1, 3, 416, 416)\n",
      "\n",
      "\n",
      "0: 416x416 (no detections), 103.8ms\n",
      "Speed: 3.0ms preprocess, 103.8ms inference, 1.0ms postprocess per image at shape (1, 3, 416, 416)\n",
      "\n"
     ]
    },
    {
     "name": "stdout",
     "output_type": "stream",
     "text": [
      "0.9371375\n"
     ]
    },
    {
     "name": "stderr",
     "output_type": "stream",
     "text": [
      "0: 416x416 1 Speed Limit 30, 107.2ms\n",
      "Speed: 2.0ms preprocess, 107.2ms inference, 3.6ms postprocess per image at shape (1, 3, 416, 416)\n",
      "0: 416x416 (no detections), 110.7ms\n",
      "Speed: 2.0ms preprocess, 110.7ms inference, 1.0ms postprocess per image at shape (1, 3, 416, 416)\n",
      "\n",
      "\n",
      "0: 416x416 (no detections), 104.1ms\n",
      "Speed: 3.0ms preprocess, 104.1ms inference, 1.0ms postprocess per image at shape (1, 3, 416, 416)\n"
     ]
    },
    {
     "name": "stdout",
     "output_type": "stream",
     "text": [
      "0.9366784\n"
     ]
    },
    {
     "name": "stderr",
     "output_type": "stream",
     "text": [
      "\n",
      "0: 416x416 1 Speed Limit 30, 107.0ms\n",
      "Speed: 2.0ms preprocess, 107.0ms inference, 2.0ms postprocess per image at shape (1, 3, 416, 416)\n",
      "0: 416x416 (no detections), 101.7ms\n",
      "Speed: 2.5ms preprocess, 101.7ms inference, 1.0ms postprocess per image at shape (1, 3, 416, 416)\n",
      "\n",
      "\n",
      "0: 416x416 (no detections), 105.6ms\n",
      "Speed: 3.0ms preprocess, 105.6ms inference, 1.0ms postprocess per image at shape (1, 3, 416, 416)\n"
     ]
    },
    {
     "name": "stdout",
     "output_type": "stream",
     "text": [
      "0.9368303\n"
     ]
    },
    {
     "name": "stderr",
     "output_type": "stream",
     "text": [
      "\n",
      "0: 416x416 1 Speed Limit 30, 113.5ms\n",
      "Speed: 3.5ms preprocess, 113.5ms inference, 2.0ms postprocess per image at shape (1, 3, 416, 416)\n",
      "0: 416x416 (no detections), 102.8ms\n",
      "Speed: 3.2ms preprocess, 102.8ms inference, 1.0ms postprocess per image at shape (1, 3, 416, 416)\n",
      "\n",
      "\n",
      "0: 416x416 (no detections), 112.9ms\n",
      "Speed: 3.2ms preprocess, 112.9ms inference, 2.0ms postprocess per image at shape (1, 3, 416, 416)\n",
      "\n"
     ]
    },
    {
     "name": "stdout",
     "output_type": "stream",
     "text": [
      "0.93734074\n"
     ]
    },
    {
     "name": "stderr",
     "output_type": "stream",
     "text": [
      "0: 416x416 1 Speed Limit 30, 120.9ms\n",
      "Speed: 1.5ms preprocess, 120.9ms inference, 2.0ms postprocess per image at shape (1, 3, 416, 416)\n",
      "0: 416x416 (no detections), 109.2ms\n",
      "Speed: 3.0ms preprocess, 109.2ms inference, 1.0ms postprocess per image at shape (1, 3, 416, 416)\n",
      "\n",
      "\n",
      "0: 416x416 (no detections), 106.3ms\n"
     ]
    },
    {
     "name": "stdout",
     "output_type": "stream",
     "text": [
      "0.9376347\n"
     ]
    },
    {
     "name": "stderr",
     "output_type": "stream",
     "text": [
      "Speed: 3.3ms preprocess, 106.3ms inference, 2.0ms postprocess per image at shape (1, 3, 416, 416)\n",
      "\n",
      "0: 416x416 1 Speed Limit 30, 116.0ms\n",
      "Speed: 2.4ms preprocess, 116.0ms inference, 1.0ms postprocess per image at shape (1, 3, 416, 416)\n",
      "0: 416x416 (no detections), 100.0ms\n",
      "Speed: 3.1ms preprocess, 100.0ms inference, 1.0ms postprocess per image at shape (1, 3, 416, 416)\n",
      "\n",
      "\n",
      "0: 416x416 (no detections), 106.5ms\n"
     ]
    },
    {
     "name": "stdout",
     "output_type": "stream",
     "text": [
      "0.9368811\n"
     ]
    },
    {
     "name": "stderr",
     "output_type": "stream",
     "text": [
      "Speed: 3.0ms preprocess, 106.5ms inference, 2.0ms postprocess per image at shape (1, 3, 416, 416)\n",
      "\n",
      "0: 416x416 1 Speed Limit 30, 113.5ms\n",
      "Speed: 2.0ms preprocess, 113.5ms inference, 2.0ms postprocess per image at shape (1, 3, 416, 416)\n",
      "0: 416x416 (no detections), 100.1ms\n",
      "Speed: 2.1ms preprocess, 100.1ms inference, 1.0ms postprocess per image at shape (1, 3, 416, 416)\n",
      "\n",
      "\n",
      "0: 416x416 (no detections), 107.5ms\n",
      "Speed: 3.0ms preprocess, 107.5ms inference, 1.0ms postprocess per image at shape (1, 3, 416, 416)\n"
     ]
    },
    {
     "name": "stdout",
     "output_type": "stream",
     "text": [
      "0.9366795\n"
     ]
    },
    {
     "name": "stderr",
     "output_type": "stream",
     "text": [
      "\n",
      "0: 416x416 1 Speed Limit 30, 116.4ms\n",
      "Speed: 2.0ms preprocess, 116.4ms inference, 2.5ms postprocess per image at shape (1, 3, 416, 416)\n",
      "0: 416x416 (no detections), 105.9ms\n",
      "Speed: 3.0ms preprocess, 105.9ms inference, 0.5ms postprocess per image at shape (1, 3, 416, 416)\n",
      "\n",
      "\n",
      "0: 416x416 (no detections), 112.5ms\n",
      "Speed: 3.0ms preprocess, 112.5ms inference, 1.1ms postprocess per image at shape (1, 3, 416, 416)\n"
     ]
    },
    {
     "name": "stdout",
     "output_type": "stream",
     "text": [
      "0.93661094\n"
     ]
    },
    {
     "name": "stderr",
     "output_type": "stream",
     "text": [
      "\n",
      "0: 416x416 1 Speed Limit 30, 133.9ms\n",
      "Speed: 3.2ms preprocess, 133.9ms inference, 2.0ms postprocess per image at shape (1, 3, 416, 416)\n",
      "0: 416x416 (no detections), 155.2ms\n",
      "Speed: 2.4ms preprocess, 155.2ms inference, 1.0ms postprocess per image at shape (1, 3, 416, 416)\n",
      "\n",
      "\n"
     ]
    },
    {
     "name": "stdout",
     "output_type": "stream",
     "text": [
      "0.9370418\n"
     ]
    },
    {
     "name": "stderr",
     "output_type": "stream",
     "text": [
      "0: 416x416 (no detections), 100.3ms\n",
      "Speed: 4.0ms preprocess, 100.3ms inference, 3.5ms postprocess per image at shape (1, 3, 416, 416)\n",
      "\n",
      "0: 416x416 1 Speed Limit 30, 105.1ms\n",
      "Speed: 2.5ms preprocess, 105.1ms inference, 2.0ms postprocess per image at shape (1, 3, 416, 416)\n",
      "0: 416x416 (no detections), 99.8ms\n",
      "Speed: 3.0ms preprocess, 99.8ms inference, 1.0ms postprocess per image at shape (1, 3, 416, 416)\n",
      "\n",
      "\n"
     ]
    },
    {
     "name": "stdout",
     "output_type": "stream",
     "text": [
      "0.93684703\n"
     ]
    },
    {
     "name": "stderr",
     "output_type": "stream",
     "text": [
      "0: 416x416 (no detections), 112.8ms\n",
      "Speed: 2.5ms preprocess, 112.8ms inference, 1.0ms postprocess per image at shape (1, 3, 416, 416)\n",
      "\n",
      "0: 416x416 1 Speed Limit 30, 110.9ms\n",
      "Speed: 2.0ms preprocess, 110.9ms inference, 1.0ms postprocess per image at shape (1, 3, 416, 416)\n",
      "0: 416x416 (no detections), 101.2ms\n",
      "Speed: 2.5ms preprocess, 101.2ms inference, 1.0ms postprocess per image at shape (1, 3, 416, 416)\n",
      "\n",
      "\n"
     ]
    },
    {
     "name": "stdout",
     "output_type": "stream",
     "text": [
      "0.93713653\n"
     ]
    },
    {
     "name": "stderr",
     "output_type": "stream",
     "text": [
      "0: 416x416 (no detections), 114.1ms\n",
      "Speed: 3.4ms preprocess, 114.1ms inference, 0.5ms postprocess per image at shape (1, 3, 416, 416)\n",
      "\n",
      "0: 416x416 1 Speed Limit 30, 114.5ms\n",
      "Speed: 2.0ms preprocess, 114.5ms inference, 1.0ms postprocess per image at shape (1, 3, 416, 416)\n",
      "0: 416x416 (no detections), 103.8ms\n",
      "Speed: 3.1ms preprocess, 103.8ms inference, 1.0ms postprocess per image at shape (1, 3, 416, 416)\n",
      "\n",
      "\n"
     ]
    },
    {
     "name": "stdout",
     "output_type": "stream",
     "text": [
      "0.9371443\n"
     ]
    },
    {
     "name": "stderr",
     "output_type": "stream",
     "text": [
      "0: 416x416 (no detections), 107.1ms\n",
      "Speed: 3.0ms preprocess, 107.1ms inference, 2.0ms postprocess per image at shape (1, 3, 416, 416)\n",
      "\n",
      "0: 416x416 1 Speed Limit 30, 111.7ms\n",
      "Speed: 2.0ms preprocess, 111.7ms inference, 2.0ms postprocess per image at shape (1, 3, 416, 416)\n",
      "0: 416x416 (no detections), 103.6ms\n",
      "Speed: 4.0ms preprocess, 103.6ms inference, 2.0ms postprocess per image at shape (1, 3, 416, 416)\n",
      "\n",
      "\n"
     ]
    },
    {
     "name": "stdout",
     "output_type": "stream",
     "text": [
      "0.9376019\n"
     ]
    },
    {
     "name": "stderr",
     "output_type": "stream",
     "text": [
      "0: 416x416 (no detections), 113.9ms\n",
      "Speed: 3.0ms preprocess, 113.9ms inference, 1.0ms postprocess per image at shape (1, 3, 416, 416)\n",
      "\n",
      "0: 416x416 1 Speed Limit 30, 111.9ms\n",
      "Speed: 2.0ms preprocess, 111.9ms inference, 2.3ms postprocess per image at shape (1, 3, 416, 416)\n",
      "0: 416x416 (no detections), 99.8ms\n",
      "Speed: 2.0ms preprocess, 99.8ms inference, 0.0ms postprocess per image at shape (1, 3, 416, 416)\n",
      "\n",
      "\n"
     ]
    },
    {
     "name": "stdout",
     "output_type": "stream",
     "text": [
      "0.9368761\n"
     ]
    },
    {
     "name": "stderr",
     "output_type": "stream",
     "text": [
      "0: 416x416 (no detections), 111.8ms\n",
      "Speed: 2.5ms preprocess, 111.8ms inference, 3.0ms postprocess per image at shape (1, 3, 416, 416)\n",
      "\n",
      "0: 416x416 1 Speed Limit 30, 110.9ms\n",
      "Speed: 2.0ms preprocess, 110.9ms inference, 2.0ms postprocess per image at shape (1, 3, 416, 416)\n",
      "0: 416x416 (no detections), 111.2ms\n",
      "Speed: 3.5ms preprocess, 111.2ms inference, 1.0ms postprocess per image at shape (1, 3, 416, 416)\n",
      "\n",
      "\n"
     ]
    },
    {
     "name": "stdout",
     "output_type": "stream",
     "text": [
      "0.9367176\n"
     ]
    },
    {
     "name": "stderr",
     "output_type": "stream",
     "text": [
      "0: 416x416 (no detections), 102.6ms\n",
      "Speed: 2.5ms preprocess, 102.6ms inference, 1.0ms postprocess per image at shape (1, 3, 416, 416)\n",
      "\n",
      "0: 416x416 1 Speed Limit 30, 106.5ms\n",
      "Speed: 2.0ms preprocess, 106.5ms inference, 1.2ms postprocess per image at shape (1, 3, 416, 416)\n",
      "0: 416x416 (no detections), 100.9ms\n",
      "Speed: 3.5ms preprocess, 100.9ms inference, 0.0ms postprocess per image at shape (1, 3, 416, 416)\n",
      "\n",
      "\n"
     ]
    },
    {
     "name": "stdout",
     "output_type": "stream",
     "text": [
      "0.93668395\n"
     ]
    },
    {
     "name": "stderr",
     "output_type": "stream",
     "text": [
      "0: 416x416 (no detections), 107.6ms\n",
      "Speed: 3.0ms preprocess, 107.6ms inference, 1.0ms postprocess per image at shape (1, 3, 416, 416)\n",
      "\n",
      "0: 416x416 1 Speed Limit 30, 125.7ms\n",
      "Speed: 2.0ms preprocess, 125.7ms inference, 1.6ms postprocess per image at shape (1, 3, 416, 416)\n",
      "0: 416x416 (no detections), 107.8ms\n",
      "Speed: 3.0ms preprocess, 107.8ms inference, 1.0ms postprocess per image at shape (1, 3, 416, 416)\n",
      "\n",
      "\n",
      "0: 416x416 (no detections), 104.8ms\n",
      "Speed: 2.0ms preprocess, 104.8ms inference, 2.0ms postprocess per image at shape (1, 3, 416, 416)\n",
      "\n"
     ]
    },
    {
     "name": "stdout",
     "output_type": "stream",
     "text": [
      "0.9372651\n"
     ]
    },
    {
     "name": "stderr",
     "output_type": "stream",
     "text": [
      "0: 416x416 1 Speed Limit 30, 107.8ms\n",
      "Speed: 2.0ms preprocess, 107.8ms inference, 2.0ms postprocess per image at shape (1, 3, 416, 416)\n",
      "0: 416x416 (no detections), 104.4ms\n",
      "Speed: 3.0ms preprocess, 104.4ms inference, 1.0ms postprocess per image at shape (1, 3, 416, 416)\n",
      "\n",
      "\n"
     ]
    },
    {
     "name": "stdout",
     "output_type": "stream",
     "text": [
      "0.93694216\n"
     ]
    },
    {
     "name": "stderr",
     "output_type": "stream",
     "text": [
      "0: 416x416 (no detections), 112.2ms\n",
      "Speed: 3.0ms preprocess, 112.2ms inference, 2.0ms postprocess per image at shape (1, 3, 416, 416)\n",
      "\n",
      "0: 416x416 1 Speed Limit 30, 116.0ms\n",
      "Speed: 2.5ms preprocess, 116.0ms inference, 1.5ms postprocess per image at shape (1, 3, 416, 416)\n",
      "0: 416x416 (no detections), 102.8ms\n",
      "Speed: 3.0ms preprocess, 102.8ms inference, 1.0ms postprocess per image at shape (1, 3, 416, 416)\n",
      "\n",
      "\n",
      "0: 416x416 (no detections), 106.5ms\n"
     ]
    },
    {
     "name": "stdout",
     "output_type": "stream",
     "text": [
      "0.93695134\n"
     ]
    },
    {
     "name": "stderr",
     "output_type": "stream",
     "text": [
      "Speed: 2.0ms preprocess, 106.5ms inference, 1.0ms postprocess per image at shape (1, 3, 416, 416)\n",
      "\n",
      "0: 416x416 1 Speed Limit 30, 110.7ms\n",
      "Speed: 2.5ms preprocess, 110.7ms inference, 3.4ms postprocess per image at shape (1, 3, 416, 416)\n",
      "0: 416x416 (no detections), 108.7ms\n",
      "Speed: 2.9ms preprocess, 108.7ms inference, 1.0ms postprocess per image at shape (1, 3, 416, 416)\n",
      "\n",
      "\n"
     ]
    },
    {
     "name": "stdout",
     "output_type": "stream",
     "text": [
      "0.9371152\n"
     ]
    },
    {
     "name": "stderr",
     "output_type": "stream",
     "text": [
      "0: 416x416 (no detections), 109.5ms\n",
      "Speed: 3.0ms preprocess, 109.5ms inference, 1.5ms postprocess per image at shape (1, 3, 416, 416)\n",
      "\n",
      "0: 416x416 1 Speed Limit 30, 107.1ms\n",
      "Speed: 2.0ms preprocess, 107.1ms inference, 2.0ms postprocess per image at shape (1, 3, 416, 416)\n",
      "0: 416x416 (no detections), 100.7ms\n",
      "Speed: 3.0ms preprocess, 100.7ms inference, 1.0ms postprocess per image at shape (1, 3, 416, 416)\n",
      "\n",
      "\n"
     ]
    },
    {
     "name": "stdout",
     "output_type": "stream",
     "text": [
      "0.937493\n"
     ]
    },
    {
     "name": "stderr",
     "output_type": "stream",
     "text": [
      "0: 416x416 (no detections), 104.2ms\n",
      "Speed: 3.0ms preprocess, 104.2ms inference, 1.0ms postprocess per image at shape (1, 3, 416, 416)\n",
      "\n",
      "0: 416x416 1 Speed Limit 30, 111.2ms\n",
      "Speed: 2.0ms preprocess, 111.2ms inference, 2.0ms postprocess per image at shape (1, 3, 416, 416)\n",
      "0: 416x416 (no detections), 103.8ms\n",
      "Speed: 2.2ms preprocess, 103.8ms inference, 1.0ms postprocess per image at shape (1, 3, 416, 416)\n",
      "\n",
      "\n"
     ]
    },
    {
     "name": "stdout",
     "output_type": "stream",
     "text": [
      "0.9366077\n"
     ]
    },
    {
     "name": "stderr",
     "output_type": "stream",
     "text": [
      "0: 416x416 (no detections), 109.0ms\n",
      "Speed: 3.0ms preprocess, 109.0ms inference, 1.0ms postprocess per image at shape (1, 3, 416, 416)\n",
      "\n",
      "0: 416x416 1 Speed Limit 30, 113.9ms\n",
      "Speed: 2.0ms preprocess, 113.9ms inference, 2.0ms postprocess per image at shape (1, 3, 416, 416)\n",
      "0: 416x416 (no detections), 102.7ms\n",
      "Speed: 3.3ms preprocess, 102.7ms inference, 1.0ms postprocess per image at shape (1, 3, 416, 416)\n",
      "\n",
      "\n"
     ]
    },
    {
     "name": "stdout",
     "output_type": "stream",
     "text": [
      "0.93687683\n"
     ]
    },
    {
     "name": "stderr",
     "output_type": "stream",
     "text": [
      "0: 416x416 (no detections), 108.7ms\n",
      "Speed: 2.5ms preprocess, 108.7ms inference, 1.5ms postprocess per image at shape (1, 3, 416, 416)\n",
      "\n",
      "0: 416x416 1 Speed Limit 30, 116.8ms\n",
      "Speed: 2.0ms preprocess, 116.8ms inference, 1.4ms postprocess per image at shape (1, 3, 416, 416)\n",
      "0: 416x416 (no detections), 110.2ms\n",
      "Speed: 3.0ms preprocess, 110.2ms inference, 1.0ms postprocess per image at shape (1, 3, 416, 416)\n",
      "\n",
      "\n"
     ]
    },
    {
     "name": "stdout",
     "output_type": "stream",
     "text": [
      "0.9369167\n"
     ]
    },
    {
     "name": "stderr",
     "output_type": "stream",
     "text": [
      "0: 416x416 (no detections), 112.6ms\n",
      "Speed: 1.9ms preprocess, 112.6ms inference, 2.0ms postprocess per image at shape (1, 3, 416, 416)\n",
      "\n",
      "0: 416x416 1 Speed Limit 30, 110.8ms\n",
      "Speed: 2.0ms preprocess, 110.8ms inference, 2.0ms postprocess per image at shape (1, 3, 416, 416)\n",
      "0: 416x416 (no detections), 101.2ms\n",
      "Speed: 2.5ms preprocess, 101.2ms inference, 1.0ms postprocess per image at shape (1, 3, 416, 416)\n",
      "\n",
      "\n"
     ]
    },
    {
     "name": "stdout",
     "output_type": "stream",
     "text": [
      "0.93731767\n"
     ]
    },
    {
     "name": "stderr",
     "output_type": "stream",
     "text": [
      "0: 416x416 (no detections), 107.9ms\n",
      "Speed: 2.0ms preprocess, 107.9ms inference, 1.0ms postprocess per image at shape (1, 3, 416, 416)\n",
      "\n",
      "0: 416x416 1 Speed Limit 30, 108.4ms\n",
      "Speed: 2.9ms preprocess, 108.4ms inference, 2.0ms postprocess per image at shape (1, 3, 416, 416)\n",
      "0: 416x416 (no detections), 104.2ms\n",
      "Speed: 3.0ms preprocess, 104.2ms inference, 0.0ms postprocess per image at shape (1, 3, 416, 416)\n",
      "\n",
      "\n"
     ]
    },
    {
     "name": "stdout",
     "output_type": "stream",
     "text": [
      "0.9368782\n"
     ]
    },
    {
     "name": "stderr",
     "output_type": "stream",
     "text": [
      "0: 416x416 (no detections), 111.7ms\n",
      "Speed: 3.5ms preprocess, 111.7ms inference, 1.0ms postprocess per image at shape (1, 3, 416, 416)\n",
      "\n",
      "0: 416x416 1 Speed Limit 30, 107.6ms\n",
      "Speed: 2.0ms preprocess, 107.6ms inference, 1.0ms postprocess per image at shape (1, 3, 416, 416)\n",
      "0: 416x416 (no detections), 101.1ms\n",
      "Speed: 3.0ms preprocess, 101.1ms inference, 1.0ms postprocess per image at shape (1, 3, 416, 416)\n",
      "\n",
      "\n"
     ]
    },
    {
     "name": "stdout",
     "output_type": "stream",
     "text": [
      "0.9368165\n"
     ]
    },
    {
     "name": "stderr",
     "output_type": "stream",
     "text": [
      "0: 416x416 (no detections), 117.0ms\n",
      "Speed: 3.0ms preprocess, 117.0ms inference, 1.0ms postprocess per image at shape (1, 3, 416, 416)\n",
      "\n",
      "0: 416x416 1 Speed Limit 30, 108.3ms\n",
      "Speed: 2.0ms preprocess, 108.3ms inference, 2.2ms postprocess per image at shape (1, 3, 416, 416)\n",
      "0: 416x416 (no detections), 99.8ms\n",
      "Speed: 3.5ms preprocess, 99.8ms inference, 2.1ms postprocess per image at shape (1, 3, 416, 416)\n",
      "\n",
      "\n"
     ]
    },
    {
     "name": "stdout",
     "output_type": "stream",
     "text": [
      "0.93709695\n"
     ]
    },
    {
     "name": "stderr",
     "output_type": "stream",
     "text": [
      "0: 416x416 (no detections), 108.9ms\n",
      "Speed: 3.0ms preprocess, 108.9ms inference, 2.1ms postprocess per image at shape (1, 3, 416, 416)\n",
      "\n",
      "0: 416x416 1 Speed Limit 30, 111.7ms\n",
      "Speed: 1.0ms preprocess, 111.7ms inference, 1.3ms postprocess per image at shape (1, 3, 416, 416)\n",
      "0: 416x416 (no detections), 101.8ms\n",
      "Speed: 3.0ms preprocess, 101.8ms inference, 1.0ms postprocess per image at shape (1, 3, 416, 416)\n",
      "\n",
      "\n"
     ]
    },
    {
     "name": "stdout",
     "output_type": "stream",
     "text": [
      "0.93751967\n"
     ]
    },
    {
     "name": "stderr",
     "output_type": "stream",
     "text": [
      "0: 416x416 (no detections), 107.0ms\n",
      "Speed: 3.6ms preprocess, 107.0ms inference, 1.0ms postprocess per image at shape (1, 3, 416, 416)\n",
      "\n",
      "0: 416x416 1 Speed Limit 30, 104.5ms\n",
      "Speed: 2.0ms preprocess, 104.5ms inference, 1.6ms postprocess per image at shape (1, 3, 416, 416)\n",
      "0: 416x416 (no detections), 105.9ms\n",
      "Speed: 3.0ms preprocess, 105.9ms inference, 1.0ms postprocess per image at shape (1, 3, 416, 416)\n",
      "\n",
      "\n"
     ]
    },
    {
     "name": "stdout",
     "output_type": "stream",
     "text": [
      "0.9368439\n"
     ]
    },
    {
     "name": "stderr",
     "output_type": "stream",
     "text": [
      "0: 416x416 (no detections), 109.2ms\n",
      "Speed: 3.0ms preprocess, 109.2ms inference, 1.0ms postprocess per image at shape (1, 3, 416, 416)\n",
      "\n",
      "0: 416x416 1 Speed Limit 30, 106.3ms\n",
      "Speed: 2.0ms preprocess, 106.3ms inference, 1.0ms postprocess per image at shape (1, 3, 416, 416)\n",
      "0: 416x416 (no detections), 99.3ms\n",
      "Speed: 2.0ms preprocess, 99.3ms inference, 0.0ms postprocess per image at shape (1, 3, 416, 416)\n",
      "\n",
      "\n"
     ]
    },
    {
     "name": "stdout",
     "output_type": "stream",
     "text": [
      "0.9369024\n"
     ]
    },
    {
     "name": "stderr",
     "output_type": "stream",
     "text": [
      "0: 416x416 (no detections), 109.1ms\n",
      "Speed: 3.5ms preprocess, 109.1ms inference, 2.0ms postprocess per image at shape (1, 3, 416, 416)\n",
      "\n",
      "0: 416x416 1 Speed Limit 30, 114.0ms\n",
      "Speed: 2.0ms preprocess, 114.0ms inference, 2.5ms postprocess per image at shape (1, 3, 416, 416)\n",
      "0: 416x416 (no detections), 102.2ms\n",
      "Speed: 3.4ms preprocess, 102.2ms inference, 1.0ms postprocess per image at shape (1, 3, 416, 416)\n",
      "\n",
      "\n",
      "0: 416x416 (no detections), 100.8ms\n"
     ]
    },
    {
     "name": "stdout",
     "output_type": "stream",
     "text": [
      "0.9369182\n"
     ]
    },
    {
     "name": "stderr",
     "output_type": "stream",
     "text": [
      "Speed: 3.0ms preprocess, 100.8ms inference, 1.0ms postprocess per image at shape (1, 3, 416, 416)\n",
      "\n",
      "0: 416x416 1 Speed Limit 30, 114.2ms\n",
      "Speed: 2.3ms preprocess, 114.2ms inference, 2.1ms postprocess per image at shape (1, 3, 416, 416)\n",
      "0: 416x416 (no detections), 106.2ms\n",
      "Speed: 3.0ms preprocess, 106.2ms inference, 1.0ms postprocess per image at shape (1, 3, 416, 416)\n",
      "\n",
      "\n",
      "0: 416x416 (no detections), 118.1ms\n"
     ]
    },
    {
     "name": "stdout",
     "output_type": "stream",
     "text": [
      "0.9374548\n"
     ]
    },
    {
     "name": "stderr",
     "output_type": "stream",
     "text": [
      "Speed: 3.0ms preprocess, 118.1ms inference, 1.0ms postprocess per image at shape (1, 3, 416, 416)\n",
      "\n",
      "0: 416x416 1 Speed Limit 30, 107.2ms\n",
      "Speed: 3.0ms preprocess, 107.2ms inference, 2.0ms postprocess per image at shape (1, 3, 416, 416)\n",
      "0: 416x416 (no detections), 103.2ms\n",
      "Speed: 3.1ms preprocess, 103.2ms inference, 0.6ms postprocess per image at shape (1, 3, 416, 416)\n",
      "\n",
      "\n",
      "0: 416x416 (no detections), 111.3ms\n"
     ]
    },
    {
     "name": "stdout",
     "output_type": "stream",
     "text": [
      "0.9370121\n"
     ]
    },
    {
     "name": "stderr",
     "output_type": "stream",
     "text": [
      "Speed: 2.5ms preprocess, 111.3ms inference, 1.1ms postprocess per image at shape (1, 3, 416, 416)\n",
      "\n",
      "0: 416x416 1 Speed Limit 30, 115.0ms\n",
      "Speed: 3.0ms preprocess, 115.0ms inference, 3.2ms postprocess per image at shape (1, 3, 416, 416)\n",
      "0: 416x416 (no detections), 105.8ms\n",
      "Speed: 3.3ms preprocess, 105.8ms inference, 1.0ms postprocess per image at shape (1, 3, 416, 416)\n",
      "\n",
      "\n"
     ]
    },
    {
     "name": "stdout",
     "output_type": "stream",
     "text": [
      "0.9369411\n"
     ]
    },
    {
     "name": "stderr",
     "output_type": "stream",
     "text": [
      "0: 416x416 (no detections), 114.4ms\n",
      "Speed: 3.5ms preprocess, 114.4ms inference, 1.1ms postprocess per image at shape (1, 3, 416, 416)\n",
      "\n",
      "0: 416x416 1 Speed Limit 30, 138.0ms\n",
      "Speed: 2.0ms preprocess, 138.0ms inference, 2.5ms postprocess per image at shape (1, 3, 416, 416)\n",
      "0: 416x416 (no detections), 143.5ms\n",
      "Speed: 6.5ms preprocess, 143.5ms inference, 1.0ms postprocess per image at shape (1, 3, 416, 416)\n",
      "\n",
      "\n"
     ]
    },
    {
     "name": "stdout",
     "output_type": "stream",
     "text": [
      "0.9372167\n"
     ]
    },
    {
     "name": "stderr",
     "output_type": "stream",
     "text": [
      "0: 416x416 (no detections), 138.6ms\n",
      "Speed: 9.5ms preprocess, 138.6ms inference, 1.0ms postprocess per image at shape (1, 3, 416, 416)\n",
      "0: 416x416 1 Speed Limit 30, 139.1ms\n",
      "Speed: 5.5ms preprocess, 139.1ms inference, 2.3ms postprocess per image at shape (1, 3, 416, 416)\n",
      "\n",
      "\n",
      "0: 416x416 (no detections), 103.0ms\n",
      "Speed: 2.0ms preprocess, 103.0ms inference, 1.0ms postprocess per image at shape (1, 3, 416, 416)\n",
      "\n"
     ]
    },
    {
     "name": "stdout",
     "output_type": "stream",
     "text": [
      "0.93758726\n"
     ]
    },
    {
     "name": "stderr",
     "output_type": "stream",
     "text": [
      "0: 416x416 1 Speed Limit 30, 104.5ms\n",
      "Speed: 2.1ms preprocess, 104.5ms inference, 2.0ms postprocess per image at shape (1, 3, 416, 416)\n",
      "0: 416x416 (no detections), 101.0ms\n",
      "Speed: 3.1ms preprocess, 101.0ms inference, 1.0ms postprocess per image at shape (1, 3, 416, 416)\n",
      "\n",
      "0: 416x416 (no detections), 100.9ms\n",
      "\n",
      "Speed: 3.5ms preprocess, 100.9ms inference, 1.0ms postprocess per image at shape (1, 3, 416, 416)\n",
      "\n"
     ]
    },
    {
     "name": "stdout",
     "output_type": "stream",
     "text": [
      "0.93705636\n"
     ]
    },
    {
     "name": "stderr",
     "output_type": "stream",
     "text": [
      "0: 416x416 1 Speed Limit 30, 111.2ms\n",
      "Speed: 4.1ms preprocess, 111.2ms inference, 2.0ms postprocess per image at shape (1, 3, 416, 416)\n",
      "0: 416x416 (no detections), 102.8ms\n",
      "Speed: 4.0ms preprocess, 102.8ms inference, 0.0ms postprocess per image at shape (1, 3, 416, 416)\n",
      "\n",
      "\n",
      "0: 416x416 (no detections), 111.3ms\n",
      "Speed: 3.0ms preprocess, 111.3ms inference, 1.0ms postprocess per image at shape (1, 3, 416, 416)\n",
      "\n"
     ]
    },
    {
     "name": "stdout",
     "output_type": "stream",
     "text": [
      "0.9369519\n"
     ]
    },
    {
     "name": "stderr",
     "output_type": "stream",
     "text": [
      "0: 416x416 1 Speed Limit 30, 114.3ms\n",
      "Speed: 3.1ms preprocess, 114.3ms inference, 2.0ms postprocess per image at shape (1, 3, 416, 416)\n",
      "0: 416x416 (no detections), 107.8ms\n",
      "Speed: 3.0ms preprocess, 107.8ms inference, 1.0ms postprocess per image at shape (1, 3, 416, 416)\n",
      "\n",
      "\n",
      "0: 416x416 (no detections), 108.9ms\n",
      "Speed: 4.0ms preprocess, 108.9ms inference, 1.2ms postprocess per image at shape (1, 3, 416, 416)\n",
      "\n"
     ]
    },
    {
     "name": "stdout",
     "output_type": "stream",
     "text": [
      "0.93690836\n"
     ]
    },
    {
     "name": "stderr",
     "output_type": "stream",
     "text": [
      "0: 416x416 1 Speed Limit 30, 107.1ms\n",
      "Speed: 3.0ms preprocess, 107.1ms inference, 2.0ms postprocess per image at shape (1, 3, 416, 416)\n",
      "0: 416x416 (no detections), 99.9ms\n",
      "Speed: 3.0ms preprocess, 99.9ms inference, 1.0ms postprocess per image at shape (1, 3, 416, 416)\n",
      "\n",
      "0: 416x416 (no detections), 94.4ms\n",
      "\n",
      "Speed: 3.5ms preprocess, 94.4ms inference, 1.0ms postprocess per image at shape (1, 3, 416, 416)\n",
      "\n"
     ]
    },
    {
     "name": "stdout",
     "output_type": "stream",
     "text": [
      "0.93711865\n"
     ]
    },
    {
     "name": "stderr",
     "output_type": "stream",
     "text": [
      "0: 416x416 1 Speed Limit 30, 117.8ms\n",
      "Speed: 3.5ms preprocess, 117.8ms inference, 1.0ms postprocess per image at shape (1, 3, 416, 416)\n",
      "0: 416x416 (no detections), 109.6ms\n",
      "Speed: 3.5ms preprocess, 109.6ms inference, 1.0ms postprocess per image at shape (1, 3, 416, 416)\n",
      "\n",
      "0: 416x416 (no detections), 109.5ms\n",
      "Speed: 5.4ms preprocess, 109.5ms inference, 1.0ms postprocess per image at shape (1, 3, 416, 416)\n",
      "\n",
      "\n"
     ]
    },
    {
     "name": "stdout",
     "output_type": "stream",
     "text": [
      "0.93656075\n"
     ]
    },
    {
     "name": "stderr",
     "output_type": "stream",
     "text": [
      "0: 416x416 (no detections), 133.1ms\n",
      "Speed: 4.0ms preprocess, 133.1ms inference, 1.0ms postprocess per image at shape (1, 3, 416, 416)\n",
      "0: 416x416 1 Speed Limit 30, 141.1ms\n",
      "Speed: 4.0ms preprocess, 141.1ms inference, 3.3ms postprocess per image at shape (1, 3, 416, 416)\n",
      "\n",
      "0: 416x416 (no detections), 84.6ms\n",
      "Speed: 2.5ms preprocess, 84.6ms inference, 0.0ms postprocess per image at shape (1, 3, 416, 416)\n",
      "\n",
      "\n"
     ]
    },
    {
     "name": "stdout",
     "output_type": "stream",
     "text": [
      "0.9369476\n"
     ]
    },
    {
     "name": "stderr",
     "output_type": "stream",
     "text": [
      "0: 416x416 (no detections), 96.0ms\n",
      "Speed: 2.0ms preprocess, 96.0ms inference, 1.4ms postprocess per image at shape (1, 3, 416, 416)\n",
      "\n",
      "0: 416x416 1 Speed Limit 30, 99.3ms\n",
      "Speed: 2.2ms preprocess, 99.3ms inference, 2.0ms postprocess per image at shape (1, 3, 416, 416)\n",
      "0: 416x416 (no detections), 88.7ms\n",
      "Speed: 2.5ms preprocess, 88.7ms inference, 0.0ms postprocess per image at shape (1, 3, 416, 416)\n",
      "\n",
      "\n"
     ]
    },
    {
     "name": "stdout",
     "output_type": "stream",
     "text": [
      "0.9372821\n"
     ]
    },
    {
     "name": "stderr",
     "output_type": "stream",
     "text": [
      "0: 416x416 (no detections), 117.5ms\n",
      "Speed: 3.0ms preprocess, 117.5ms inference, 1.0ms postprocess per image at shape (1, 3, 416, 416)\n",
      "\n",
      "0: 416x416 1 Speed Limit 30, 135.3ms\n",
      "Speed: 1.0ms preprocess, 135.3ms inference, 2.0ms postprocess per image at shape (1, 3, 416, 416)\n",
      "0: 416x416 (no detections), 104.6ms\n",
      "Speed: 4.0ms preprocess, 104.6ms inference, 0.0ms postprocess per image at shape (1, 3, 416, 416)\n"
     ]
    },
    {
     "name": "stdout",
     "output_type": "stream",
     "text": [
      "0.9374196\n"
     ]
    }
   ],
   "source": [
    "display = pygame.display.set_mode((50, 50))\n",
    "pygame.display.set_caption(\"Controllo Manuale CARLA\")\n",
    "\n",
    "# Velocità di sterzo e accelerazione\n",
    "steer_increment = 0.02\n",
    "throttle_increment = 0.1\n",
    "steer = 0.0\n",
    "throttle = 0.0\n",
    "brake = 0.0\n",
    "gear = \"Drive\"  # Stato iniziale (marcia avanti)\n",
    "speed_control_activate = False\n",
    "red_over = False\n",
    "\n",
    "# Costanti del controllore proporzionale\n",
    "KP_THROTTLE = 0.15  # Guadagno proporzionale per accelerazione\n",
    "KP_BRAKE = 0.02    # Guadagno proporzionale per frenata\n",
    "DEAD_ZONE = 3.0    # Zona morta attorno al limite di velocità\n",
    "MIN_THROTTLE = 0.2  # Soglia minima di accelerazione\n",
    "MIN_BRAKE = 0.1     # Soglia minima di frenata\n",
    "\n",
    "vehicle = spawn_vehicle()\n",
    "camera = spawn_camera(attach_to=vehicle)\n",
    "camera_view = spawn_camera(attach_to=vehicle, transform=carla.Transform(carla.Location(x=1, z=1.5), carla.Rotation(pitch=0, yaw=0)), width=IMAGE_SIZE, height=IMAGE_SIZE, foV=90)\n",
    "camera_trafficLight = spawn_camera(attach_to=vehicle, transform=carla.Transform(carla.Location(x=0, y=1 , z=1.2), carla.Rotation(pitch=20, yaw=20)), width=IMAGE_SIZE, height=IMAGE_SIZE, foV=40)\n",
    "\n",
    "# Inizializza il frame di output\n",
    "video_output = np.zeros((IMAGE_SIZE, IMAGE_SIZE, 3), dtype=np.uint8)\n",
    "\n",
    "# Variabile per tenere traccia del tempo dell'ultima analisi\n",
    "last_analysis_time = 0  # Inizializza l'ultima analisi a 0 secondi\n",
    "last_analysis_time_trafficLight = 0\n",
    "analysis_interval = 0.2  # Intervallo in secondi tra le analisi\n",
    "analysis_interval_trafficLight = 0.1\n",
    "\n",
    "# Variabile per tenere traccia dell'ultimo limite di velocità\n",
    "last_speed_limit = None\n",
    "speed_car = 0\n",
    "traffic_light = \"\"\n",
    "\n",
    "class_names = model.names \n",
    "class_names_trafficLight = modelTrafficLight.names\n",
    "\n",
    "# Assegna il callback alla telecamera\n",
    "camera.listen(lambda image: camera_callback(image))\n",
    "\n",
    "camera_view.listen(lambda image: camera_view_callback(image))\n",
    "\n",
    "camera_trafficLight.listen(lambda image: camera_traffic_callback(image))\n",
    "\n",
    "# Mostra i risultati\n",
    "cv2.namedWindow('RGB Camera', cv2.WINDOW_AUTOSIZE)\n",
    "\n",
    "try:\n",
    "    clock = pygame.time.Clock()\n",
    "    event_timer = 0  # Per controllare la frequenza di gestione eventi\n",
    "    EVENT_RATE = 100  # Gestione eventi ogni 100 ms (10 volte al secondo)\n",
    "    while True:\n",
    "        # Aggiungi testo all'immagine\n",
    "        temp_frame = video_output.copy()\n",
    "        cv2.putText(\n",
    "            temp_frame,\n",
    "            f\"Last Speed Limit: {last_speed_limit}\",\n",
    "            (10, 20),\n",
    "            cv2.FONT_HERSHEY_SIMPLEX,\n",
    "            0.5,\n",
    "            (0, 255, 0),\n",
    "            2,\n",
    "            cv2.LINE_AA,\n",
    "        )\n",
    "        cv2.putText(\n",
    "            temp_frame,\n",
    "            f\"Current speed: {speed_car:.0f}\",\n",
    "            (10, 45),\n",
    "            cv2.FONT_HERSHEY_SIMPLEX,\n",
    "            0.5,\n",
    "            colorSpeedLimit(speed_car, last_speed_limit),\n",
    "            2,\n",
    "            cv2.LINE_AA,\n",
    "        )\n",
    "\n",
    "        if red_over:\n",
    "            val = \"Sei passato col rosso\"\n",
    "        else:\n",
    "            val = \"\"\n",
    "\n",
    "        cv2.putText(\n",
    "            temp_frame,\n",
    "            val,\n",
    "            (10, 100),\n",
    "            cv2.FONT_HERSHEY_SIMPLEX,\n",
    "            0.5,\n",
    "            (0,0,255),\n",
    "            2,\n",
    "            cv2.LINE_AA,\n",
    "        )\n",
    "            \n",
    "        cv2.putText(\n",
    "            temp_frame,\n",
    "            f\"Trafficlight: {traffic_light}\",\n",
    "            (10, 70),\n",
    "            cv2.FONT_HERSHEY_SIMPLEX,\n",
    "            0.5,\n",
    "            calcColor(),\n",
    "            2,\n",
    "            cv2.LINE_AA,\n",
    "        )\n",
    "        # Mostra il frame con il testo\n",
    "        cv2.imshow('RGB Camera', temp_frame)\n",
    "        # Interrompi con il tasto 'q'\n",
    "        if cv2.waitKey(1) == ord('q'):\n",
    "            break\n",
    "\n",
    "\n",
    "        current_time = pygame.time.get_ticks()\n",
    "        if current_time - event_timer > EVENT_RATE:\n",
    "            event_timer = current_time  # Aggiorna il timer\n",
    "            # Gestione eventi pygame\n",
    "            for event in pygame.event.get():\n",
    "                if event.type == pygame.QUIT:\n",
    "                    break\n",
    "                elif event.type == pygame.KEYUP:  # Rileva il rilascio del tasto\n",
    "                    if event.key == pygame.K_e:\n",
    "                        speed_control_activate = not speed_control_activate\n",
    "                    if event.key == pygame.K_c:\n",
    "                        vehicle.set_autopilot(True)\n",
    "                    if event.key == pygame.K_v:\n",
    "                        vehicle.set_autopilot(False)\n",
    "\n",
    "            keys = pygame.key.get_pressed()  # Leggi i tasti premuti\n",
    "\n",
    "            if speed_control_activate and last_speed_limit and keys[pygame.K_w]:\n",
    "                # Calcolo l'errore rispetto al limite\n",
    "                error = float(last_speed_limit) - float(speed_car) + 3\n",
    "\n",
    "                if error < -DEAD_ZONE:  # Sopra il limite di velocità + zona morta\n",
    "                    throttle = 0\n",
    "                    brake = max(KP_BRAKE * abs(error), MIN_BRAKE)\n",
    "                else:  # Sotto o entro il limite + zona morta\n",
    "                    throttle = max(KP_THROTTLE * error, MIN_THROTTLE)\n",
    "                    brake = 0\n",
    "            elif keys[pygame.K_w]:\n",
    "                # Controllo manuale per accelerare\n",
    "                throttle = min(throttle + throttle_increment, 1)\n",
    "                brake = 0\n",
    "            else:\n",
    "                throttle = 0\n",
    "                brake = 0\n",
    "            \n",
    "            if keys[pygame.K_s]:  # Controllo manuale per frenare\n",
    "                brake = min(brake + throttle_increment*4, 1)\n",
    "                throttle = 0\n",
    "\n",
    "            if red_over and gear != \"Reverse\":\n",
    "                brake = 1\n",
    "                throttle = 0\n",
    "\n",
    "            # Controllo sterzo\n",
    "            if keys[pygame.K_r]:  # Imposta retromarcia\n",
    "                gear = \"Reverse\"\n",
    "                red_over = False\n",
    "            elif keys[pygame.K_f]:  # Imposta marcia avanti\n",
    "                gear = \"Drive\"\n",
    "            elif keys[pygame.K_a]:  # Sterza a sinistra\n",
    "                steer = max(steer - steer_increment, -1)\n",
    "            elif keys[pygame.K_d]:  # Sterza a destra\n",
    "                steer = min(steer + steer_increment, 1)\n",
    "            else:\n",
    "                steer = steer * 0.9  # Ritorno al centro graduale\n",
    "\n",
    "            # Applicazione dei controlli\n",
    "            control = carla.VehicleControl()\n",
    "            control.throttle = throttle\n",
    "            control.brake = brake\n",
    "            control.steer = steer\n",
    "            if gear == \"Reverse\":\n",
    "                control.reverse = True\n",
    "            else:\n",
    "                control.reverse = False\n",
    "            vehicle.apply_control(control)\n",
    "\n",
    "        clock.tick(40)\n",
    "finally:\n",
    "    cv2.destroyAllWindows()\n",
    "    pygame.quit()\n",
    "    camera.destroy()\n",
    "    camera_trafficLight.destroy()\n",
    "    camera_view.destroy()\n",
    "    vehicle.destroy()\n",
    "    clientMQTT.disconnect()\n"
   ]
  }
 ],
 "metadata": {
  "kernelspec": {
   "display_name": "carla-env",
   "language": "python",
   "name": "python3"
  },
  "language_info": {
   "codemirror_mode": {
    "name": "ipython",
    "version": 3
   },
   "file_extension": ".py",
   "mimetype": "text/x-python",
   "name": "python",
   "nbconvert_exporter": "python",
   "pygments_lexer": "ipython3",
   "version": "3.7.12"
  }
 },
 "nbformat": 4,
 "nbformat_minor": 2
}
