{
 "cells": [
  {
   "cell_type": "code",
   "execution_count": 110,
   "metadata": {},
   "outputs": [],
   "source": [
    "import glob\n",
    "import os\n",
    "import sys\n",
    "import cv2\n",
    "import numpy as np\n",
    "import tensorflow as tf\n",
    "from tensorflow import keras\n",
    "import supervision as sv\n",
    "from ultralytics import YOLO\n",
    "import time\n",
    "import pygame\n",
    "\n",
    "try:\n",
    "    sys.path.append(glob.glob('../../carla/dist/carla-*%d.%d-%s.egg' % (\n",
    "        sys.version_info.major,\n",
    "        sys.version_info.minor,\n",
    "        'win-amd64' if os.name == 'nt' else 'linux-x86_64'))[0])\n",
    "except IndexError:\n",
    "    pass\n",
    "\n",
    "import carla"
   ]
  },
  {
   "cell_type": "code",
   "execution_count": 111,
   "metadata": {},
   "outputs": [],
   "source": [
    "client = carla.Client('localhost', 2000)\n",
    "client.set_timeout(10.0)\n",
    "\n",
    "client.load_world('Town02')\n",
    "\n",
    "world = client.get_world()\n",
    "spectator = world.get_spectator()"
   ]
  },
  {
   "cell_type": "markdown",
   "metadata": {},
   "source": [
    "## Some helpful functions used in this notebook"
   ]
  },
  {
   "cell_type": "code",
   "execution_count": 112,
   "metadata": {},
   "outputs": [],
   "source": [
    "IMAGE_SIZE = 640\n",
    "\n",
    "def move_spectator_to(transform, distance=5.0, x=0, y=0, z=4, yaw=0, pitch=-30, roll=0):\n",
    "    back_location = transform.location - transform.get_forward_vector() * distance\n",
    "    \n",
    "    back_location.x += x\n",
    "    back_location.y += y\n",
    "    back_location.z += z\n",
    "    transform.rotation.yaw += yaw\n",
    "    transform.rotation.pitch = pitch\n",
    "    transform.rotation.roll = roll\n",
    "    \n",
    "    spectator_transform = carla.Transform(back_location, transform.rotation)\n",
    "    \n",
    "    spectator.set_transform(spectator_transform)\n",
    "\n",
    "def spawn_vehicle(vehicle_index=0, spawn_index=0, pattern='vehicle.*'):\n",
    "    blueprint_library = world.get_blueprint_library()\n",
    "    vehicle_bp = blueprint_library.filter(pattern)[vehicle_index]\n",
    "    spawn_point = world.get_map().get_spawn_points()[spawn_index]\n",
    "    vehicle = world.spawn_actor(vehicle_bp, spawn_point)\n",
    "    return vehicle\n",
    "\n",
    "def draw_on_screen(world, transform, content='O', color=carla.Color(0, 255, 0), life_time=20):\n",
    "    world.debug.draw_string(transform.location, content, color=color, life_time=life_time)\n",
    "\n",
    "def spawn_camera(attach_to=None, transform=carla.Transform(carla.Location(x=0.7, z=1.8), carla.Rotation(pitch=5, yaw=35)), width=IMAGE_SIZE, height=IMAGE_SIZE, foV=50):\n",
    "    camera_bp = world.get_blueprint_library().find('sensor.camera.rgb')\n",
    "    camera_bp.set_attribute('image_size_x', str(width))\n",
    "    camera_bp.set_attribute('image_size_y', str(height))\n",
    "    camera_bp.set_attribute('fov', str(foV))\n",
    "    camera_bp.set_attribute('sensor_tick', '0')\n",
    "    camera = world.spawn_actor(camera_bp, transform, attach_to=attach_to)\n",
    "    return camera"
   ]
  },
  {
   "cell_type": "markdown",
   "metadata": {},
   "source": [
    "## Camera sensor"
   ]
  },
  {
   "cell_type": "markdown",
   "metadata": {},
   "source": [
    "Let's spawn a vehicle and a camera in a particular position and see what the camera sees."
   ]
  },
  {
   "cell_type": "markdown",
   "metadata": {},
   "source": [
    "How many images have been captured by the camera so far?\n",
    "\n",
    "### Live camera feed\n",
    "\n",
    "We can also visualize the camera feed in real-time. This is useful for debugging and understanding what the camera sees.\n",
    "\n",
    "We can use the `opencv` library to create a window and display the camera feed."
   ]
  },
  {
   "cell_type": "code",
   "execution_count": 113,
   "metadata": {},
   "outputs": [],
   "source": [
    "#!pip install roboflow\n",
    "# from roboflow import Roboflow\n",
    "# rf = Roboflow(api_key=\"...\")\n",
    "# project = rf.workspace(\"wawan-pradana\").project(\"cinta_v2\")\n",
    "# dataset = project.version(1).download(\"yolov8\")\n",
    "\n",
    "# model = YOLO('yolov8n.pt')\n",
    "# results = model.train(data=\"data.yaml\", epochs=100, imgsz=640, save=True, device=\"cpu\")\n"
   ]
  },
  {
   "cell_type": "code",
   "execution_count": 114,
   "metadata": {},
   "outputs": [],
   "source": [
    "from ultralytics import YOLO\n",
    "\n",
    "IMAGE_SIZE_SPEED = 416\n",
    "# Carica il modello con i pesi migliori\n",
    "model = YOLO(\"runsSpeed/detect/train/weights/best.pt\")\n",
    "modelTrafficLight = YOLO(\"runsTrafficLight/detect/train3/weights/best.pt\")\n"
   ]
  },
  {
   "cell_type": "code",
   "execution_count": null,
   "metadata": {},
   "outputs": [],
   "source": [
    "# all_actors = world.get_actors()\n",
    "# traffic_lights = all_actors.filter('traffic.traffic_light')\n",
    "\n",
    "# for light in traffic_lights:\n",
    "#     # Imposta il semaforo su verde\n",
    "#     light.set_state(carla.TrafficLightState.Green)\n",
    "#     light.set_green_time(366666.0)\n",
    "\n",
    "# weather = world.get_weather()\n",
    "\n",
    "# # Imposta il cielo notturno\n",
    "# weather.sun_azimuth_angle = 0  # Angolo dell'azimut del sole\n",
    "# weather.sun_altitude_angle = -90  # Angolo di altezza del sole per simulare la notte\n",
    "# weather.cloudiness = 100  # Copertura nuvolosa massima\n",
    "# weather.precipitation = 100  # Pioggia massima\n",
    "# weather.precipitation_deposits = 100  # Depositi di pioggia sul terreno\n",
    "# weather.wind_intensity = 100  # Vento al massimo\n",
    "# weather.fog_density = 100  # Un po' di nebbia per aggiungere realismo\n",
    "# weather.fog_distance = 1  # Distanza di visibilità ridotta\n",
    "\n",
    "# # Applica le impostazioni\n",
    "# world.set_weather(weather)\n",
    "    "
   ]
  },
  {
   "cell_type": "code",
   "execution_count": 116,
   "metadata": {},
   "outputs": [],
   "source": [
    "def colorSpeedLimit(current_speed, speed_limit):\n",
    "    if speed_limit == None or int(current_speed) <= int(speed_limit):\n",
    "        return (0, 255, 0) \n",
    "    else:\n",
    "        return (0, 0, 255)"
   ]
  },
  {
   "cell_type": "code",
   "execution_count": 117,
   "metadata": {},
   "outputs": [],
   "source": [
    "def calcColor():\n",
    "    if traffic_light == \"red\":\n",
    "        return (0, 0, 255)\n",
    "    elif traffic_light == \"yellow\":\n",
    "        return (0, 128, 255)\n",
    "    elif traffic_light == \"green\":\n",
    "        return (0, 255, 0)\n",
    "    else:\n",
    "        return (255, 255, 255)"
   ]
  },
  {
   "cell_type": "code",
   "execution_count": 118,
   "metadata": {},
   "outputs": [],
   "source": [
    "def camera_callback(image):\n",
    "    global last_analysis_time, last_speed_limit, speed_car\n",
    "    # Ottieni il timestamp attuale\n",
    "    current_time = time.time()\n",
    "\n",
    "    velocity_car = vehicle.get_velocity()\n",
    "    speed_car = 3.6 * (velocity_car.x**2 + velocity_car.y**2 + velocity_car.z**2)**0.5  # Conversione da m/s a km/h\n",
    "\n",
    "    # Converti l'immagine raw in un array NumPy\n",
    "    array = np.frombuffer(image.raw_data, dtype=np.uint8)\n",
    "    # Assicurati che l'immagine abbia il formato BGRA (4 canali)\n",
    "    image_np = array.reshape((IMAGE_SIZE, IMAGE_SIZE, 4))  # Immagine BGRA\n",
    "    image_bgr = image_np[:, :, :3]  \n",
    "    resized_image = cv2.resize(image_bgr, (IMAGE_SIZE_SPEED, IMAGE_SIZE_SPEED), interpolation=cv2.INTER_AREA)\n",
    "\n",
    "    # Verifica se è passato almeno 1 secondo dall'ultima analisi\n",
    "    if current_time - last_analysis_time >= analysis_interval:\n",
    "        last_analysis_time = current_time  # Aggiorna il timestamp\n",
    "\n",
    "        # Rileva gli oggetti nell'immagine\n",
    "        results = model(resized_image)\n",
    "        #resultsTrafficLight = modelTrafficLight(image_bgr)\n",
    "\n",
    "        limit_id = None\n",
    "        confidence_max = 0\n",
    "\n",
    "            # Class IDs\n",
    "        class_ids = results[0].boxes.cls.numpy()\n",
    "        confidences = results[0].boxes.conf.numpy()\n",
    "        \n",
    "        for class_id, confidence in zip(class_ids, confidences):\n",
    "            if confidence > confidence_max:\n",
    "                limit_id = class_id\n",
    "                confidence_max = confidence\n",
    "\n",
    "        if confidence_max > 0.87:\n",
    "            print(confidence_max)\n",
    "            class_name = class_names[int(limit_id)]  # Ottieni il nome della classe\n",
    "            try:\n",
    "                last_speed_limit = class_name.split(\" \")[2]  # Usa confidenza come esempio\n",
    "            except:\n",
    "                pass"
   ]
  },
  {
   "cell_type": "code",
   "execution_count": 119,
   "metadata": {},
   "outputs": [],
   "source": [
    "def camera_view_callback(image):\n",
    "    global video_output\n",
    "    # Converti l'immagine raw in un array NumPy\n",
    "    array = np.frombuffer(image.raw_data, dtype=np.uint8)\n",
    "    # Assicurati che l'immagine abbia il formato BGRA (4 canali)\n",
    "    image_np = array.reshape((IMAGE_SIZE, IMAGE_SIZE, 4))  # Immagine BGRA\n",
    "    video_output = image_np  # Mantieni il frame per visualizzazione"
   ]
  },
  {
   "cell_type": "code",
   "execution_count": 120,
   "metadata": {},
   "outputs": [],
   "source": [
    "def camera_traffic_callback(image):\n",
    "    global last_analysis_time_trafficLight, traffic_light\n",
    "    # Ottieni il timestamp attuale\n",
    "    current_time = time.time()\n",
    "\n",
    "    # Converti l'immagine raw in un array NumPy\n",
    "    array = np.frombuffer(image.raw_data, dtype=np.uint8)\n",
    "    # Assicurati che l'immagine abbia il formato BGRA (4 canali)\n",
    "    image_np = array.reshape((IMAGE_SIZE, IMAGE_SIZE, 4))  # Immagine BGRA\n",
    "    image_bgr = image_np[:, :, :3]  \n",
    "    resized_image = cv2.resize(image_bgr, (IMAGE_SIZE_SPEED, IMAGE_SIZE_SPEED), interpolation=cv2.INTER_AREA)\n",
    "\n",
    "    accentuated_image = resized_image.copy()\n",
    "\n",
    "    # Aumenta il canale Rosso\n",
    "    accentuated_image[:, :, 2] = cv2.add(accentuated_image[:, :, 2], 15)  # Aumenta Rosso (+50)\n",
    "\n",
    "    # Riduci il canale Verde\n",
    "    accentuated_image[:, :, 1] = cv2.subtract(accentuated_image[:, :, 1], 10)  # Riduci Verde (-30)\n",
    "\n",
    "    # Riduci il canale Blu\n",
    "    accentuated_image[:, :, 0] = cv2.subtract(accentuated_image[:, :, 0], 20)  # Riduci Blu (-30)\n",
    "\n",
    "    # Assicurati che i valori restino nel range [0, 255]\n",
    "    resized_image = np.clip(accentuated_image, 0, 255).astype(np.uint8)\n",
    "\n",
    "    # Verifica se è passato almeno 1 secondo dall'ultima analisi\n",
    "    if current_time - last_analysis_time_trafficLight >= analysis_interval_trafficLight:\n",
    "        last_analysis_time_trafficLight = current_time  # Aggiorna il timestamp\n",
    "\n",
    "        # Rileva gli oggetti nell'immagine\n",
    "        results = modelTrafficLight(resized_image)\n",
    "\n",
    "        trafficLight_id = None\n",
    "        confidence_max = 0\n",
    "\n",
    "        # Class IDs\n",
    "        class_ids = results[0].boxes.cls.numpy()\n",
    "        confidences = results[0].boxes.conf.numpy()\n",
    "\n",
    "        if class_ids.size == 0:\n",
    "            traffic_light = \"Non individuato\"\n",
    "        else:\n",
    "            for class_id, confidence in zip(class_ids, confidences):\n",
    "                if confidence > confidence_max:\n",
    "                    trafficLight_id = class_id\n",
    "                    confidence_max = confidence\n",
    "\n",
    "            if confidence_max > 0.50:\n",
    "                print(confidence_max)\n",
    "                class_name = class_names_trafficLight[int(trafficLight_id)]\n",
    "                traffic_light = class_name"
   ]
  },
  {
   "cell_type": "code",
   "execution_count": 121,
   "metadata": {},
   "outputs": [
    {
     "name": "stderr",
     "output_type": "stream",
     "text": [
      "\n",
      "\n",
      "0: 416x416 (no detections), 111.5ms\n",
      "Speed: 2.0ms preprocess, 111.5ms inference, 1.1ms postprocess per image at shape (1, 3, 416, 416)\n",
      "0: 416x416 (no detections), 118.6ms\n",
      "Speed: 3.5ms preprocess, 118.6ms inference, 4.0ms postprocess per image at shape (1, 3, 416, 416)\n",
      "\n",
      "\n",
      "0: 416x416 (no detections), 96.0ms\n",
      "Speed: 3.0ms preprocess, 96.0ms inference, 1.0ms postprocess per image at shape (1, 3, 416, 416)\n",
      "0: 416x416 (no detections), 98.5ms\n",
      "Speed: 1.5ms preprocess, 98.5ms inference, 0.0ms postprocess per image at shape (1, 3, 416, 416)\n",
      "\n",
      "0: 416x416 (no detections), 123.4ms\n",
      "Speed: 8.9ms preprocess, 123.4ms inference, 0.0ms postprocess per image at shape (1, 3, 416, 416)\n",
      "\n",
      "0: 416x416 (no detections), 104.1ms\n",
      "Speed: 2.0ms preprocess, 104.1ms inference, 1.0ms postprocess per image at shape (1, 3, 416, 416)\n",
      "\n",
      "0: 416x416 (no detections), 182.7ms\n",
      "Speed: 2.0ms preprocess, 182.7ms inference, 2.0ms postprocess per image at shape (1, 3, 416, 416)\n",
      "\n",
      "\n",
      "0: 416x416 (no detections), 114.2ms\n",
      "Speed: 2.5ms preprocess, 114.2ms inference, 1.0ms postprocess per image at shape (1, 3, 416, 416)\n",
      "0: 416x416 (no detections), 86.6ms\n",
      "Speed: 6.1ms preprocess, 86.6ms inference, 0.0ms postprocess per image at shape (1, 3, 416, 416)\n",
      "\n",
      "0: 416x416 (no detections), 126.1ms\n",
      "Speed: 3.0ms preprocess, 126.1ms inference, 1.0ms postprocess per image at shape (1, 3, 416, 416)\n",
      "\n",
      "\n",
      "0: 416x416 (no detections), 130.9ms\n",
      "Speed: 2.6ms preprocess, 130.9ms inference, 1.0ms postprocess per image at shape (1, 3, 416, 416)\n",
      "0: 416x416 (no detections), 90.9ms\n",
      "Speed: 2.3ms preprocess, 90.9ms inference, 1.0ms postprocess per image at shape (1, 3, 416, 416)\n",
      "\n",
      "0: 416x416 (no detections), 171.2ms\n",
      "\n",
      "Speed: 2.5ms preprocess, 171.2ms inference, 1.0ms postprocess per image at shape (1, 3, 416, 416)\n",
      "0: 416x416 (no detections), 91.4ms\n",
      "Speed: 2.0ms preprocess, 91.4ms inference, 1.0ms postprocess per image at shape (1, 3, 416, 416)\n",
      "\n",
      "0: 416x416 (no detections), 125.5ms\n",
      "Speed: 3.5ms preprocess, 125.5ms inference, 1.0ms postprocess per image at shape (1, 3, 416, 416)\n",
      "\n",
      "\n",
      "0: 416x416 (no detections), 155.1ms\n",
      "Speed: 4.0ms preprocess, 155.1ms inference, 1.0ms postprocess per image at shape (1, 3, 416, 416)\n",
      "0: 416x416 (no detections), 113.0ms\n",
      "Speed: 12.5ms preprocess, 113.0ms inference, 0.0ms postprocess per image at shape (1, 3, 416, 416)\n",
      "\n",
      "\n",
      "0: 416x416 (no detections), 121.6ms\n",
      "Speed: 2.0ms preprocess, 121.6ms inference, 1.2ms postprocess per image at shape (1, 3, 416, 416)\n",
      "0: 416x416 (no detections), 92.0ms\n",
      "Speed: 0.9ms preprocess, 92.0ms inference, 0.0ms postprocess per image at shape (1, 3, 416, 416)\n",
      "\n",
      "0: 416x416 (no detections), 93.7ms\n",
      "Speed: 1.6ms preprocess, 93.7ms inference, 1.0ms postprocess per image at shape (1, 3, 416, 416)\n",
      "\n",
      "\n",
      "0: 416x416 (no detections), 141.6ms\n",
      "Speed: 2.5ms preprocess, 141.6ms inference, 0.0ms postprocess per image at shape (1, 3, 416, 416)\n",
      "0: 416x416 (no detections), 95.9ms\n",
      "Speed: 3.2ms preprocess, 95.9ms inference, 1.0ms postprocess per image at shape (1, 3, 416, 416)\n",
      "\n",
      "\n",
      "0: 416x416 (no detections), 120.7ms\n",
      "Speed: 3.0ms preprocess, 120.7ms inference, 1.2ms postprocess per image at shape (1, 3, 416, 416)\n",
      "0: 416x416 (no detections), 100.2ms\n",
      "Speed: 2.0ms preprocess, 100.2ms inference, 1.0ms postprocess per image at shape (1, 3, 416, 416)\n",
      "\n",
      "0: 416x416 (no detections), 104.8ms\n",
      "Speed: 1.0ms preprocess, 104.8ms inference, 1.0ms postprocess per image at shape (1, 3, 416, 416)\n",
      "\n",
      "\n",
      "0: 416x416 1 red, 146.1ms\n",
      "Speed: 2.0ms preprocess, 146.1ms inference, 1.0ms postprocess per image at shape (1, 3, 416, 416)\n",
      "0: 416x416 (no detections), 107.2ms\n",
      "Speed: 4.0ms preprocess, 107.2ms inference, 0.0ms postprocess per image at shape (1, 3, 416, 416)\n",
      "\n",
      "\n",
      "0: 416x416 (no detections), 125.9ms\n",
      "Speed: 3.0ms preprocess, 125.9ms inference, 1.0ms postprocess per image at shape (1, 3, 416, 416)\n",
      "0: 416x416 1 red, 91.2ms\n",
      "Speed: 2.0ms preprocess, 91.2ms inference, 0.5ms postprocess per image at shape (1, 3, 416, 416)\n",
      "\n",
      "0: 416x416 (no detections), 189.9ms\n",
      "Speed: 2.0ms preprocess, 189.9ms inference, 1.4ms postprocess per image at shape (1, 3, 416, 416)\n",
      "\n",
      "0: 416x416 1 red, 100.7ms\n",
      "Speed: 3.2ms preprocess, 100.7ms inference, 0.0ms postprocess per image at shape (1, 3, 416, 416)\n",
      "\n",
      "0: 416x416 (no detections), 89.0ms\n",
      "Speed: 2.0ms preprocess, 89.0ms inference, 0.0ms postprocess per image at shape (1, 3, 416, 416)\n",
      "\n",
      "\n",
      "0: 416x416 (no detections), 128.0ms\n",
      "Speed: 2.0ms preprocess, 128.0ms inference, 1.0ms postprocess per image at shape (1, 3, 416, 416)\n",
      "0: 416x416 1 red, 84.6ms\n",
      "Speed: 2.0ms preprocess, 84.6ms inference, 1.0ms postprocess per image at shape (1, 3, 416, 416)\n",
      "\n",
      "0: 416x416 (no detections), 176.6ms\n",
      "Speed: 4.0ms preprocess, 176.6ms inference, 0.0ms postprocess per image at shape (1, 3, 416, 416)\n",
      "\n",
      "\n",
      "0: 416x416 (no detections), 133.4ms\n",
      "Speed: 3.3ms preprocess, 133.4ms inference, 0.0ms postprocess per image at shape (1, 3, 416, 416)\n",
      "0: 416x416 (no detections), 92.3ms\n",
      "Speed: 2.0ms preprocess, 92.3ms inference, 0.0ms postprocess per image at shape (1, 3, 416, 416)\n",
      "\n",
      "0: 416x416 (no detections), 114.1ms\n",
      "Speed: 3.0ms preprocess, 114.1ms inference, 0.0ms postprocess per image at shape (1, 3, 416, 416)\n",
      "\n",
      "0: 416x416 (no detections), 183.1ms\n",
      "Speed: 3.0ms preprocess, 183.1ms inference, 0.0ms postprocess per image at shape (1, 3, 416, 416)\n",
      "\n",
      "0: 416x416 (no detections), 136.8ms\n",
      "Speed: 1.5ms preprocess, 136.8ms inference, 1.0ms postprocess per image at shape (1, 3, 416, 416)\n",
      "\n",
      "\n",
      "0: 416x416 1 red, 156.0ms\n",
      "Speed: 3.6ms preprocess, 156.0ms inference, 1.5ms postprocess per image at shape (1, 3, 416, 416)\n",
      "0: 416x416 (no detections), 136.4ms\n",
      "Speed: 3.0ms preprocess, 136.4ms inference, 1.0ms postprocess per image at shape (1, 3, 416, 416)\n",
      "\n",
      "\n",
      "0: 416x416 (no detections), 138.0ms\n",
      "Speed: 2.5ms preprocess, 138.0ms inference, 1.0ms postprocess per image at shape (1, 3, 416, 416)\n",
      "0: 416x416 1 red, 109.0ms\n",
      "Speed: 3.0ms preprocess, 109.0ms inference, 2.0ms postprocess per image at shape (1, 3, 416, 416)\n",
      "\n",
      "\n",
      "0: 416x416 (no detections), 205.7ms\n",
      "Speed: 4.0ms preprocess, 205.7ms inference, 3.0ms postprocess per image at shape (1, 3, 416, 416)\n",
      "\n",
      "0: 416x416 1 red, 211.0ms\n",
      "Speed: 3.1ms preprocess, 211.0ms inference, 2.5ms postprocess per image at shape (1, 3, 416, 416)\n",
      "0: 416x416 (no detections), 178.7ms\n",
      "Speed: 3.0ms preprocess, 178.7ms inference, 2.1ms postprocess per image at shape (1, 3, 416, 416)\n",
      "\n",
      "\n",
      "0: 416x416 1 red, 147.6ms\n",
      "Speed: 3.0ms preprocess, 147.6ms inference, 2.0ms postprocess per image at shape (1, 3, 416, 416)\n",
      "0: 416x416 (no detections), 121.5ms\n",
      "Speed: 3.3ms preprocess, 121.5ms inference, 1.0ms postprocess per image at shape (1, 3, 416, 416)\n"
     ]
    },
    {
     "name": "stdout",
     "output_type": "stream",
     "text": [
      "0.5299369\n"
     ]
    },
    {
     "name": "stderr",
     "output_type": "stream",
     "text": [
      "\n",
      "\n",
      "0: 416x416 (no detections), 133.8ms\n",
      "Speed: 3.6ms preprocess, 133.8ms inference, 2.0ms postprocess per image at shape (1, 3, 416, 416)\n",
      "0: 416x416 1 red, 111.8ms\n",
      "Speed: 3.0ms preprocess, 111.8ms inference, 1.0ms postprocess per image at shape (1, 3, 416, 416)\n",
      "\n",
      "0: 416x416 (no detections), 120.1ms\n",
      "Speed: 2.1ms preprocess, 120.1ms inference, 1.0ms postprocess per image at shape (1, 3, 416, 416)\n",
      "\n",
      "\n",
      "0: 416x416 1 red, 145.7ms\n",
      "Speed: 2.0ms preprocess, 145.7ms inference, 1.0ms postprocess per image at shape (1, 3, 416, 416)\n",
      "0: 416x416 (no detections), 129.0ms\n",
      "Speed: 3.0ms preprocess, 129.0ms inference, 1.0ms postprocess per image at shape (1, 3, 416, 416)\n"
     ]
    },
    {
     "name": "stdout",
     "output_type": "stream",
     "text": [
      "0.5389638\n"
     ]
    },
    {
     "name": "stderr",
     "output_type": "stream",
     "text": [
      "\n",
      "\n",
      "0: 416x416 (no detections), 226.8ms\n",
      "Speed: 10.5ms preprocess, 226.8ms inference, 2.5ms postprocess per image at shape (1, 3, 416, 416)\n",
      "0: 416x416 1 red, 165.9ms\n",
      "Speed: 8.0ms preprocess, 165.9ms inference, 2.0ms postprocess per image at shape (1, 3, 416, 416)\n",
      "\n",
      "0: 416x416 (no detections), 118.0ms\n",
      "Speed: 2.5ms preprocess, 118.0ms inference, 1.0ms postprocess per image at shape (1, 3, 416, 416)\n"
     ]
    },
    {
     "name": "stdout",
     "output_type": "stream",
     "text": [
      "0.6577303\n"
     ]
    },
    {
     "name": "stderr",
     "output_type": "stream",
     "text": [
      "\n",
      "\n",
      "0: 416x416 (no detections), 176.7ms\n",
      "Speed: 4.0ms preprocess, 176.7ms inference, 2.0ms postprocess per image at shape (1, 3, 416, 416)\n",
      "0: 416x416 1 red, 161.9ms\n",
      "Speed: 3.5ms preprocess, 161.9ms inference, 2.0ms postprocess per image at shape (1, 3, 416, 416)\n",
      "\n"
     ]
    },
    {
     "name": "stdout",
     "output_type": "stream",
     "text": [
      "0.6015474\n"
     ]
    },
    {
     "name": "stderr",
     "output_type": "stream",
     "text": [
      "\n",
      "0: 416x416 (no detections), 230.4ms\n",
      "Speed: 3.5ms preprocess, 230.4ms inference, 2.0ms postprocess per image at shape (1, 3, 416, 416)\n",
      "\n",
      "0: 416x416 1 red, 216.6ms\n",
      "Speed: 4.0ms preprocess, 216.6ms inference, 2.0ms postprocess per image at shape (1, 3, 416, 416)\n",
      "0: 416x416 (no detections), 209.6ms\n"
     ]
    },
    {
     "name": "stdout",
     "output_type": "stream",
     "text": [
      "0.6044273\n"
     ]
    },
    {
     "name": "stderr",
     "output_type": "stream",
     "text": [
      "Speed: 4.0ms preprocess, 209.6ms inference, 1.4ms postprocess per image at shape (1, 3, 416, 416)\n",
      "\n",
      "\n",
      "0: 416x416 1 red, 177.8ms\n",
      "Speed: 2.2ms preprocess, 177.8ms inference, 2.2ms postprocess per image at shape (1, 3, 416, 416)\n",
      "0: 416x416 (no detections), 161.7ms\n",
      "Speed: 1.5ms preprocess, 161.7ms inference, 1.5ms postprocess per image at shape (1, 3, 416, 416)\n"
     ]
    },
    {
     "name": "stdout",
     "output_type": "stream",
     "text": [
      "0.6805323\n"
     ]
    },
    {
     "name": "stderr",
     "output_type": "stream",
     "text": [
      "\n",
      "\n",
      "0: 416x416 (no detections), 163.9ms\n",
      "Speed: 3.0ms preprocess, 163.9ms inference, 1.0ms postprocess per image at shape (1, 3, 416, 416)\n",
      "0: 416x416 1 red, 145.1ms\n",
      "Speed: 3.5ms preprocess, 145.1ms inference, 2.0ms postprocess per image at shape (1, 3, 416, 416)\n",
      "\n"
     ]
    },
    {
     "name": "stdout",
     "output_type": "stream",
     "text": [
      "0.66988283\n"
     ]
    },
    {
     "name": "stderr",
     "output_type": "stream",
     "text": [
      "\n",
      "0: 416x416 (no detections), 202.5ms\n",
      "Speed: 4.4ms preprocess, 202.5ms inference, 2.0ms postprocess per image at shape (1, 3, 416, 416)\n",
      "\n",
      "0: 416x416 1 red, 231.4ms\n",
      "Speed: 2.0ms preprocess, 231.4ms inference, 2.0ms postprocess per image at shape (1, 3, 416, 416)\n"
     ]
    },
    {
     "name": "stdout",
     "output_type": "stream",
     "text": [
      "0.5758625\n"
     ]
    },
    {
     "name": "stderr",
     "output_type": "stream",
     "text": [
      "0: 416x416 (no detections), 247.1ms\n",
      "Speed: 3.0ms preprocess, 247.1ms inference, 2.0ms postprocess per image at shape (1, 3, 416, 416)\n",
      "\n",
      "\n",
      "0: 416x416 1 red, 172.0ms\n",
      "Speed: 4.0ms preprocess, 172.0ms inference, 2.0ms postprocess per image at shape (1, 3, 416, 416)\n",
      "0: 416x416 (no detections), 152.8ms\n",
      "Speed: 3.0ms preprocess, 152.8ms inference, 1.1ms postprocess per image at shape (1, 3, 416, 416)\n"
     ]
    },
    {
     "name": "stdout",
     "output_type": "stream",
     "text": [
      "0.72011256\n"
     ]
    },
    {
     "name": "stderr",
     "output_type": "stream",
     "text": [
      "\n",
      "\n",
      "0: 416x416 (no detections), 197.3ms\n",
      "Speed: 3.0ms preprocess, 197.3ms inference, 1.0ms postprocess per image at shape (1, 3, 416, 416)\n",
      "\n",
      "0: 416x416 1 red, 211.0ms\n",
      "Speed: 3.0ms preprocess, 211.0ms inference, 3.3ms postprocess per image at shape (1, 3, 416, 416)\n",
      "0: 416x416 (no detections), 203.3ms\n",
      "Speed: 5.0ms preprocess, 203.3ms inference, 1.5ms postprocess per image at shape (1, 3, 416, 416)\n"
     ]
    },
    {
     "name": "stdout",
     "output_type": "stream",
     "text": [
      "0.7023757\n"
     ]
    },
    {
     "name": "stderr",
     "output_type": "stream",
     "text": [
      "\n",
      "\n",
      "0: 416x416 1 red, 175.6ms\n",
      "Speed: 3.0ms preprocess, 175.6ms inference, 2.0ms postprocess per image at shape (1, 3, 416, 416)\n",
      "0: 416x416 (no detections), 171.4ms\n",
      "Speed: 3.5ms preprocess, 171.4ms inference, 1.0ms postprocess per image at shape (1, 3, 416, 416)\n"
     ]
    },
    {
     "name": "stdout",
     "output_type": "stream",
     "text": [
      "0.70533913\n"
     ]
    },
    {
     "name": "stderr",
     "output_type": "stream",
     "text": [
      "\n",
      "\n",
      "0: 416x416 (no detections), 194.2ms\n",
      "Speed: 3.0ms preprocess, 194.2ms inference, 2.0ms postprocess per image at shape (1, 3, 416, 416)\n",
      "0: 416x416 1 red, 180.5ms\n",
      "Speed: 2.6ms preprocess, 180.5ms inference, 1.0ms postprocess per image at shape (1, 3, 416, 416)\n",
      "\n"
     ]
    },
    {
     "name": "stdout",
     "output_type": "stream",
     "text": [
      "0.6916111\n"
     ]
    },
    {
     "name": "stderr",
     "output_type": "stream",
     "text": [
      "\n",
      "0: 416x416 (no detections), 207.6ms\n",
      "Speed: 3.6ms preprocess, 207.6ms inference, 2.0ms postprocess per image at shape (1, 3, 416, 416)\n",
      "\n",
      "0: 416x416 1 red, 198.1ms\n",
      "Speed: 4.0ms preprocess, 198.1ms inference, 4.0ms postprocess per image at shape (1, 3, 416, 416)\n"
     ]
    },
    {
     "name": "stdout",
     "output_type": "stream",
     "text": [
      "0.6867007\n"
     ]
    },
    {
     "name": "stderr",
     "output_type": "stream",
     "text": [
      "0: 416x416 (no detections), 200.8ms\n",
      "Speed: 3.5ms preprocess, 200.8ms inference, 2.0ms postprocess per image at shape (1, 3, 416, 416)\n",
      "\n",
      "\n",
      "0: 416x416 1 red, 200.2ms\n",
      "Speed: 4.6ms preprocess, 200.2ms inference, 1.0ms postprocess per image at shape (1, 3, 416, 416)\n",
      "0: 416x416 (no detections), 174.6ms\n",
      "Speed: 4.5ms preprocess, 174.6ms inference, 1.2ms postprocess per image at shape (1, 3, 416, 416)\n"
     ]
    },
    {
     "name": "stdout",
     "output_type": "stream",
     "text": [
      "0.69403136\n"
     ]
    },
    {
     "name": "stderr",
     "output_type": "stream",
     "text": [
      "\n",
      "\n",
      "0: 416x416 (no detections), 182.3ms\n",
      "Speed: 2.5ms preprocess, 182.3ms inference, 2.0ms postprocess per image at shape (1, 3, 416, 416)\n",
      "0: 416x416 1 red, 177.1ms\n",
      "Speed: 3.0ms preprocess, 177.1ms inference, 2.0ms postprocess per image at shape (1, 3, 416, 416)\n",
      "\n"
     ]
    },
    {
     "name": "stdout",
     "output_type": "stream",
     "text": [
      "0.69714385\n"
     ]
    },
    {
     "name": "stderr",
     "output_type": "stream",
     "text": [
      "0: 416x416 (no detections), 172.9ms\n",
      "Speed: 3.0ms preprocess, 172.9ms inference, 1.0ms postprocess per image at shape (1, 3, 416, 416)\n",
      "\n",
      "0: 416x416 1 red, 151.8ms\n",
      "Speed: 2.0ms preprocess, 151.8ms inference, 2.1ms postprocess per image at shape (1, 3, 416, 416)\n",
      "\n",
      "0: 416x416 (no detections), 154.7ms\n"
     ]
    },
    {
     "name": "stdout",
     "output_type": "stream",
     "text": [
      "0.69817793\n"
     ]
    },
    {
     "name": "stderr",
     "output_type": "stream",
     "text": [
      "Speed: 3.0ms preprocess, 154.7ms inference, 2.6ms postprocess per image at shape (1, 3, 416, 416)\n",
      "\n",
      "\n",
      "0: 416x416 (no detections), 189.0ms\n",
      "Speed: 10.4ms preprocess, 189.0ms inference, 2.0ms postprocess per image at shape (1, 3, 416, 416)\n",
      "0: 416x416 1 red, 162.2ms\n",
      "Speed: 3.0ms preprocess, 162.2ms inference, 2.0ms postprocess per image at shape (1, 3, 416, 416)\n",
      "\n"
     ]
    },
    {
     "name": "stdout",
     "output_type": "stream",
     "text": [
      "0.7045563\n"
     ]
    },
    {
     "name": "stderr",
     "output_type": "stream",
     "text": [
      "\n",
      "0: 416x416 (no detections), 242.7ms\n",
      "Speed: 5.2ms preprocess, 242.7ms inference, 2.6ms postprocess per image at shape (1, 3, 416, 416)\n",
      "\n",
      "0: 416x416 1 red, 212.6ms\n",
      "Speed: 2.5ms preprocess, 212.6ms inference, 2.1ms postprocess per image at shape (1, 3, 416, 416)\n",
      "0: 416x416 (no detections), 174.1ms\n",
      "Speed: 4.0ms preprocess, 174.1ms inference, 2.0ms postprocess per image at shape (1, 3, 416, 416)\n"
     ]
    },
    {
     "name": "stdout",
     "output_type": "stream",
     "text": [
      "0.6802878\n"
     ]
    },
    {
     "name": "stderr",
     "output_type": "stream",
     "text": [
      "\n",
      "\n",
      "0: 416x416 1 red, 192.7ms\n",
      "Speed: 3.0ms preprocess, 192.7ms inference, 2.8ms postprocess per image at shape (1, 3, 416, 416)\n",
      "0: 416x416 (no detections), 189.6ms\n",
      "Speed: 5.2ms preprocess, 189.6ms inference, 1.0ms postprocess per image at shape (1, 3, 416, 416)\n"
     ]
    },
    {
     "name": "stdout",
     "output_type": "stream",
     "text": [
      "0.67979914\n"
     ]
    },
    {
     "name": "stderr",
     "output_type": "stream",
     "text": [
      "\n",
      "\n",
      "0: 416x416 (no detections), 192.1ms\n",
      "Speed: 3.5ms preprocess, 192.1ms inference, 1.0ms postprocess per image at shape (1, 3, 416, 416)\n",
      "0: 416x416 1 red, 181.2ms\n",
      "Speed: 4.5ms preprocess, 181.2ms inference, 3.0ms postprocess per image at shape (1, 3, 416, 416)\n",
      "\n"
     ]
    },
    {
     "name": "stdout",
     "output_type": "stream",
     "text": [
      "0.6759664\n"
     ]
    },
    {
     "name": "stderr",
     "output_type": "stream",
     "text": [
      "\n",
      "0: 416x416 (no detections), 202.2ms\n",
      "Speed: 4.0ms preprocess, 202.2ms inference, 2.4ms postprocess per image at shape (1, 3, 416, 416)\n",
      "\n",
      "0: 416x416 1 red, 196.4ms\n",
      "Speed: 4.4ms preprocess, 196.4ms inference, 3.5ms postprocess per image at shape (1, 3, 416, 416)\n"
     ]
    },
    {
     "name": "stdout",
     "output_type": "stream",
     "text": [
      "0.6897528\n"
     ]
    },
    {
     "name": "stderr",
     "output_type": "stream",
     "text": [
      "0: 416x416 (no detections), 238.5ms\n",
      "Speed: 5.5ms preprocess, 238.5ms inference, 1.6ms postprocess per image at shape (1, 3, 416, 416)\n",
      "\n",
      "\n",
      "0: 416x416 1 red, 197.0ms\n",
      "Speed: 4.0ms preprocess, 197.0ms inference, 2.0ms postprocess per image at shape (1, 3, 416, 416)\n",
      "0: 416x416 (no detections), 173.9ms\n",
      "Speed: 4.0ms preprocess, 173.9ms inference, 1.6ms postprocess per image at shape (1, 3, 416, 416)\n"
     ]
    },
    {
     "name": "stdout",
     "output_type": "stream",
     "text": [
      "0.70064723\n"
     ]
    },
    {
     "name": "stderr",
     "output_type": "stream",
     "text": [
      "\n",
      "\n",
      "0: 416x416 (no detections), 217.1ms\n",
      "Speed: 4.0ms preprocess, 217.1ms inference, 1.0ms postprocess per image at shape (1, 3, 416, 416)\n",
      "0: 416x416 1 red, 194.3ms\n",
      "Speed: 4.6ms preprocess, 194.3ms inference, 2.0ms postprocess per image at shape (1, 3, 416, 416)\n",
      "\n"
     ]
    },
    {
     "name": "stdout",
     "output_type": "stream",
     "text": [
      "0.66931564\n"
     ]
    },
    {
     "name": "stderr",
     "output_type": "stream",
     "text": [
      "\n",
      "0: 416x416 (no detections), 229.4ms\n",
      "Speed: 3.5ms preprocess, 229.4ms inference, 2.0ms postprocess per image at shape (1, 3, 416, 416)\n",
      "\n",
      "0: 416x416 1 red, 201.8ms\n",
      "Speed: 3.0ms preprocess, 201.8ms inference, 3.2ms postprocess per image at shape (1, 3, 416, 416)\n"
     ]
    },
    {
     "name": "stdout",
     "output_type": "stream",
     "text": [
      "0.679181\n"
     ]
    },
    {
     "name": "stderr",
     "output_type": "stream",
     "text": [
      "0: 416x416 (no detections), 218.9ms\n",
      "Speed: 4.7ms preprocess, 218.9ms inference, 1.6ms postprocess per image at shape (1, 3, 416, 416)\n",
      "\n",
      "\n",
      "0: 416x416 1 red, 182.9ms\n",
      "Speed: 3.0ms preprocess, 182.9ms inference, 3.5ms postprocess per image at shape (1, 3, 416, 416)\n",
      "0: 416x416 (no detections), 183.0ms\n",
      "Speed: 4.1ms preprocess, 183.0ms inference, 1.0ms postprocess per image at shape (1, 3, 416, 416)\n"
     ]
    },
    {
     "name": "stdout",
     "output_type": "stream",
     "text": [
      "0.68454903\n"
     ]
    },
    {
     "name": "stderr",
     "output_type": "stream",
     "text": [
      "\n",
      "\n",
      "0: 416x416 (no detections), 207.5ms\n",
      "Speed: 4.0ms preprocess, 207.5ms inference, 1.0ms postprocess per image at shape (1, 3, 416, 416)\n",
      "0: 416x416 1 red, 197.1ms\n",
      "Speed: 3.0ms preprocess, 197.1ms inference, 2.0ms postprocess per image at shape (1, 3, 416, 416)\n",
      "\n"
     ]
    },
    {
     "name": "stdout",
     "output_type": "stream",
     "text": [
      "0.7071019\n"
     ]
    },
    {
     "name": "stderr",
     "output_type": "stream",
     "text": [
      "\n",
      "0: 416x416 (no detections), 300.1ms\n",
      "Speed: 3.3ms preprocess, 300.1ms inference, 1.1ms postprocess per image at shape (1, 3, 416, 416)\n",
      "\n",
      "0: 416x416 1 red, 267.7ms\n",
      "Speed: 12.1ms preprocess, 267.7ms inference, 3.5ms postprocess per image at shape (1, 3, 416, 416)\n",
      "0: 416x416 (no detections), 246.3ms\n",
      "Speed: 8.5ms preprocess, 246.3ms inference, 1.5ms postprocess per image at shape (1, 3, 416, 416)\n",
      "\n"
     ]
    },
    {
     "name": "stdout",
     "output_type": "stream",
     "text": [
      "0.6848592\n"
     ]
    },
    {
     "name": "stderr",
     "output_type": "stream",
     "text": [
      "\n",
      "0: 416x416 (no detections), 189.9ms\n",
      "Speed: 7.0ms preprocess, 189.9ms inference, 1.0ms postprocess per image at shape (1, 3, 416, 416)\n",
      "0: 416x416 1 red, 170.3ms\n",
      "Speed: 3.4ms preprocess, 170.3ms inference, 2.5ms postprocess per image at shape (1, 3, 416, 416)\n",
      "\n"
     ]
    },
    {
     "name": "stdout",
     "output_type": "stream",
     "text": [
      "0.675567\n"
     ]
    },
    {
     "name": "stderr",
     "output_type": "stream",
     "text": [
      "0: 416x416 (no detections), 213.8ms\n",
      "Speed: 3.0ms preprocess, 213.8ms inference, 2.0ms postprocess per image at shape (1, 3, 416, 416)\n",
      "\n",
      "\n",
      "0: 416x416 1 green, 207.2ms\n",
      "Speed: 4.6ms preprocess, 207.2ms inference, 2.0ms postprocess per image at shape (1, 3, 416, 416)\n",
      "0: 416x416 (no detections), 183.4ms\n",
      "Speed: 6.0ms preprocess, 183.4ms inference, 1.0ms postprocess per image at shape (1, 3, 416, 416)\n",
      "\n",
      "\n",
      "0: 416x416 (no detections), 194.1ms\n",
      "Speed: 3.6ms preprocess, 194.1ms inference, 1.0ms postprocess per image at shape (1, 3, 416, 416)\n",
      "0: 416x416 1 green, 178.9ms\n",
      "Speed: 3.5ms preprocess, 178.9ms inference, 2.5ms postprocess per image at shape (1, 3, 416, 416)\n",
      "\n"
     ]
    },
    {
     "name": "stdout",
     "output_type": "stream",
     "text": [
      "0.6698449\n"
     ]
    },
    {
     "name": "stderr",
     "output_type": "stream",
     "text": [
      "\n",
      "0: 416x416 (no detections), 232.2ms\n",
      "Speed: 5.2ms preprocess, 232.2ms inference, 1.0ms postprocess per image at shape (1, 3, 416, 416)\n",
      "\n",
      "0: 416x416 1 green, 217.8ms\n",
      "Speed: 2.6ms preprocess, 217.8ms inference, 2.0ms postprocess per image at shape (1, 3, 416, 416)\n",
      "0: 416x416 (no detections), 183.8ms\n",
      "Speed: 4.5ms preprocess, 183.8ms inference, 2.0ms postprocess per image at shape (1, 3, 416, 416)\n"
     ]
    },
    {
     "name": "stdout",
     "output_type": "stream",
     "text": [
      "0.7013105\n"
     ]
    },
    {
     "name": "stderr",
     "output_type": "stream",
     "text": [
      "\n",
      "\n",
      "0: 416x416 1 green, 195.8ms\n",
      "Speed: 5.0ms preprocess, 195.8ms inference, 2.0ms postprocess per image at shape (1, 3, 416, 416)\n",
      "0: 416x416 (no detections), 173.8ms\n",
      "Speed: 2.5ms preprocess, 173.8ms inference, 3.0ms postprocess per image at shape (1, 3, 416, 416)\n"
     ]
    },
    {
     "name": "stdout",
     "output_type": "stream",
     "text": [
      "0.7095524\n"
     ]
    },
    {
     "name": "stderr",
     "output_type": "stream",
     "text": [
      "\n",
      "\n",
      "0: 416x416 (no detections), 202.0ms\n",
      "Speed: 5.6ms preprocess, 202.0ms inference, 2.4ms postprocess per image at shape (1, 3, 416, 416)\n",
      "0: 416x416 1 green, 180.8ms\n",
      "Speed: 3.0ms preprocess, 180.8ms inference, 1.6ms postprocess per image at shape (1, 3, 416, 416)\n",
      "\n"
     ]
    },
    {
     "name": "stdout",
     "output_type": "stream",
     "text": [
      "0.64777166\n"
     ]
    },
    {
     "name": "stderr",
     "output_type": "stream",
     "text": [
      "\n",
      "0: 416x416 (no detections), 263.0ms\n",
      "Speed: 8.6ms preprocess, 263.0ms inference, 2.0ms postprocess per image at shape (1, 3, 416, 416)\n",
      "\n",
      "0: 416x416 1 green, 191.9ms\n",
      "Speed: 3.0ms preprocess, 191.9ms inference, 2.5ms postprocess per image at shape (1, 3, 416, 416)\n",
      "0: 416x416 (no detections), 182.8ms\n",
      "Speed: 3.5ms preprocess, 182.8ms inference, 2.0ms postprocess per image at shape (1, 3, 416, 416)\n"
     ]
    },
    {
     "name": "stdout",
     "output_type": "stream",
     "text": [
      "0.70980185\n"
     ]
    },
    {
     "name": "stderr",
     "output_type": "stream",
     "text": [
      "\n",
      "\n",
      "0: 416x416 (no detections), 194.2ms\n",
      "Speed: 4.1ms preprocess, 194.2ms inference, 1.6ms postprocess per image at shape (1, 3, 416, 416)\n",
      "0: 416x416 1 green, 177.4ms\n",
      "Speed: 4.5ms preprocess, 177.4ms inference, 1.9ms postprocess per image at shape (1, 3, 416, 416)\n",
      "\n"
     ]
    },
    {
     "name": "stdout",
     "output_type": "stream",
     "text": [
      "0.6988168\n"
     ]
    },
    {
     "name": "stderr",
     "output_type": "stream",
     "text": [
      "\n",
      "0: 416x416 (no detections), 218.6ms\n",
      "Speed: 5.6ms preprocess, 218.6ms inference, 2.5ms postprocess per image at shape (1, 3, 416, 416)\n",
      "\n",
      "0: 416x416 1 green, 230.9ms\n",
      "Speed: 4.5ms preprocess, 230.9ms inference, 3.0ms postprocess per image at shape (1, 3, 416, 416)\n",
      "0: 416x416 (no detections), 222.2ms\n"
     ]
    },
    {
     "name": "stdout",
     "output_type": "stream",
     "text": [
      "0.73257375\n"
     ]
    },
    {
     "name": "stderr",
     "output_type": "stream",
     "text": [
      "Speed: 3.0ms preprocess, 222.2ms inference, 1.1ms postprocess per image at shape (1, 3, 416, 416)\n",
      "\n",
      "\n",
      "0: 416x416 1 green, 203.7ms\n",
      "Speed: 2.5ms preprocess, 203.7ms inference, 3.0ms postprocess per image at shape (1, 3, 416, 416)\n",
      "0: 416x416 (no detections), 200.5ms\n",
      "Speed: 4.0ms preprocess, 200.5ms inference, 1.0ms postprocess per image at shape (1, 3, 416, 416)\n"
     ]
    },
    {
     "name": "stdout",
     "output_type": "stream",
     "text": [
      "0.7170665\n"
     ]
    },
    {
     "name": "stderr",
     "output_type": "stream",
     "text": [
      "\n",
      "\n",
      "0: 416x416 (no detections), 217.3ms\n",
      "Speed: 3.7ms preprocess, 217.3ms inference, 2.0ms postprocess per image at shape (1, 3, 416, 416)\n",
      "0: 416x416 1 green, 192.1ms\n",
      "Speed: 4.0ms preprocess, 192.1ms inference, 1.0ms postprocess per image at shape (1, 3, 416, 416)\n",
      "\n"
     ]
    },
    {
     "name": "stdout",
     "output_type": "stream",
     "text": [
      "0.7293487\n"
     ]
    },
    {
     "name": "stderr",
     "output_type": "stream",
     "text": [
      "\n",
      "0: 416x416 (no detections), 218.8ms\n",
      "Speed: 5.3ms preprocess, 218.8ms inference, 2.0ms postprocess per image at shape (1, 3, 416, 416)\n",
      "0: 416x416 1 green, 166.5ms\n",
      "Speed: 5.0ms preprocess, 166.5ms inference, 2.7ms postprocess per image at shape (1, 3, 416, 416)\n",
      "\n",
      "0: 416x416 (no detections), 173.7ms\n"
     ]
    },
    {
     "name": "stdout",
     "output_type": "stream",
     "text": [
      "0.7270206\n"
     ]
    },
    {
     "name": "stderr",
     "output_type": "stream",
     "text": [
      "Speed: 4.0ms preprocess, 173.7ms inference, 2.0ms postprocess per image at shape (1, 3, 416, 416)\n",
      "\n",
      "\n",
      "0: 416x416 1 green, 205.5ms\n",
      "Speed: 4.1ms preprocess, 205.5ms inference, 2.0ms postprocess per image at shape (1, 3, 416, 416)\n",
      "0: 416x416 (no detections), 203.0ms\n",
      "Speed: 4.0ms preprocess, 203.0ms inference, 2.3ms postprocess per image at shape (1, 3, 416, 416)\n"
     ]
    },
    {
     "name": "stdout",
     "output_type": "stream",
     "text": [
      "0.73033446\n"
     ]
    },
    {
     "name": "stderr",
     "output_type": "stream",
     "text": [
      "\n",
      "\n",
      "0: 416x416 (no detections), 224.6ms\n",
      "Speed: 5.6ms preprocess, 224.6ms inference, 1.5ms postprocess per image at shape (1, 3, 416, 416)\n",
      "0: 416x416 1 green, 220.2ms\n",
      "Speed: 5.6ms preprocess, 220.2ms inference, 3.0ms postprocess per image at shape (1, 3, 416, 416)\n",
      "\n"
     ]
    },
    {
     "name": "stdout",
     "output_type": "stream",
     "text": [
      "0.7332533\n"
     ]
    },
    {
     "name": "stderr",
     "output_type": "stream",
     "text": [
      "\n",
      "0: 416x416 (no detections), 236.5ms\n",
      "Speed: 5.0ms preprocess, 236.5ms inference, 2.0ms postprocess per image at shape (1, 3, 416, 416)\n",
      "\n",
      "0: 416x416 1 green, 217.5ms\n",
      "Speed: 4.1ms preprocess, 217.5ms inference, 2.5ms postprocess per image at shape (1, 3, 416, 416)\n"
     ]
    },
    {
     "name": "stdout",
     "output_type": "stream",
     "text": [
      "0.709165\n"
     ]
    },
    {
     "name": "stderr",
     "output_type": "stream",
     "text": [
      "0: 416x416 (no detections), 224.5ms\n",
      "Speed: 5.0ms preprocess, 224.5ms inference, 4.0ms postprocess per image at shape (1, 3, 416, 416)\n",
      "\n",
      "\n",
      "0: 416x416 1 green, 218.8ms\n",
      "Speed: 3.5ms preprocess, 218.8ms inference, 1.9ms postprocess per image at shape (1, 3, 416, 416)\n",
      "0: 416x416 (no detections), 224.7ms\n",
      "Speed: 4.0ms preprocess, 224.7ms inference, 2.0ms postprocess per image at shape (1, 3, 416, 416)\n"
     ]
    },
    {
     "name": "stdout",
     "output_type": "stream",
     "text": [
      "0.72867095\n"
     ]
    },
    {
     "name": "stderr",
     "output_type": "stream",
     "text": [
      "\n",
      "\n",
      "0: 416x416 (no detections), 185.2ms\n",
      "Speed: 3.5ms preprocess, 185.2ms inference, 1.0ms postprocess per image at shape (1, 3, 416, 416)\n",
      "0: 416x416 1 green, 157.8ms\n",
      "Speed: 3.0ms preprocess, 157.8ms inference, 2.0ms postprocess per image at shape (1, 3, 416, 416)\n",
      "\n"
     ]
    },
    {
     "name": "stdout",
     "output_type": "stream",
     "text": [
      "0.7120009\n"
     ]
    },
    {
     "name": "stderr",
     "output_type": "stream",
     "text": [
      "\n",
      "0: 416x416 (no detections), 225.2ms\n",
      "Speed: 3.6ms preprocess, 225.2ms inference, 2.1ms postprocess per image at shape (1, 3, 416, 416)\n",
      "\n",
      "0: 416x416 1 green, 230.5ms\n",
      "Speed: 4.0ms preprocess, 230.5ms inference, 2.0ms postprocess per image at shape (1, 3, 416, 416)\n",
      "0: 416x416 (no detections), 232.7ms\n"
     ]
    },
    {
     "name": "stdout",
     "output_type": "stream",
     "text": [
      "0.7211404\n"
     ]
    },
    {
     "name": "stderr",
     "output_type": "stream",
     "text": [
      "Speed: 5.0ms preprocess, 232.7ms inference, 2.0ms postprocess per image at shape (1, 3, 416, 416)\n",
      "\n",
      "\n",
      "0: 416x416 1 green, 174.6ms\n",
      "Speed: 4.1ms preprocess, 174.6ms inference, 2.5ms postprocess per image at shape (1, 3, 416, 416)\n",
      "0: 416x416 (no detections), 171.8ms\n",
      "Speed: 2.5ms preprocess, 171.8ms inference, 0.9ms postprocess per image at shape (1, 3, 416, 416)\n"
     ]
    },
    {
     "name": "stdout",
     "output_type": "stream",
     "text": [
      "0.70338196\n"
     ]
    },
    {
     "name": "stderr",
     "output_type": "stream",
     "text": [
      "\n",
      "\n",
      "0: 416x416 (no detections), 185.1ms\n",
      "Speed: 3.0ms preprocess, 185.1ms inference, 2.6ms postprocess per image at shape (1, 3, 416, 416)\n",
      "0: 416x416 1 green, 166.8ms\n",
      "Speed: 4.0ms preprocess, 166.8ms inference, 1.0ms postprocess per image at shape (1, 3, 416, 416)\n",
      "\n"
     ]
    },
    {
     "name": "stdout",
     "output_type": "stream",
     "text": [
      "0.7199716\n"
     ]
    },
    {
     "name": "stderr",
     "output_type": "stream",
     "text": [
      "\n",
      "0: 416x416 (no detections), 199.6ms\n",
      "Speed: 3.0ms preprocess, 199.6ms inference, 1.6ms postprocess per image at shape (1, 3, 416, 416)\n",
      "\n",
      "0: 416x416 1 yellow, 202.1ms\n",
      "Speed: 3.0ms preprocess, 202.1ms inference, 1.4ms postprocess per image at shape (1, 3, 416, 416)\n",
      "0: 416x416 (no detections), 149.9ms\n",
      "Speed: 3.0ms preprocess, 149.9ms inference, 1.0ms postprocess per image at shape (1, 3, 416, 416)\n",
      "\n",
      "\n",
      "0: 416x416 1 yellow, 163.9ms\n",
      "Speed: 4.0ms preprocess, 163.9ms inference, 2.0ms postprocess per image at shape (1, 3, 416, 416)\n",
      "0: 416x416 (no detections), 158.3ms\n",
      "Speed: 2.0ms preprocess, 158.3ms inference, 1.0ms postprocess per image at shape (1, 3, 416, 416)\n",
      "\n",
      "\n",
      "0: 416x416 (no detections), 176.3ms\n",
      "Speed: 3.5ms preprocess, 176.3ms inference, 1.0ms postprocess per image at shape (1, 3, 416, 416)\n",
      "0: 416x416 1 yellow, 154.8ms\n",
      "Speed: 4.0ms preprocess, 154.8ms inference, 1.0ms postprocess per image at shape (1, 3, 416, 416)\n",
      "\n",
      "0: 416x416 (no detections), 171.0ms\n",
      "Speed: 4.5ms preprocess, 171.0ms inference, 1.0ms postprocess per image at shape (1, 3, 416, 416)\n",
      "\n",
      "\n",
      "0: 416x416 1 yellow, 186.0ms\n",
      "Speed: 4.0ms preprocess, 186.0ms inference, 2.0ms postprocess per image at shape (1, 3, 416, 416)\n",
      "0: 416x416 (no detections), 183.1ms\n",
      "Speed: 3.0ms preprocess, 183.1ms inference, 2.0ms postprocess per image at shape (1, 3, 416, 416)\n",
      "\n",
      "\n",
      "0: 416x416 (no detections), 224.7ms\n",
      "Speed: 8.0ms preprocess, 224.7ms inference, 1.0ms postprocess per image at shape (1, 3, 416, 416)\n",
      "0: 416x416 1 yellow, 186.0ms\n",
      "Speed: 7.9ms preprocess, 186.0ms inference, 3.0ms postprocess per image at shape (1, 3, 416, 416)\n",
      "\n",
      "0: 416x416 (no detections), 164.4ms\n",
      "Speed: 4.5ms preprocess, 164.4ms inference, 1.0ms postprocess per image at shape (1, 3, 416, 416)\n",
      "\n",
      "0: 416x416 1 yellow, 152.4ms\n",
      "Speed: 3.0ms preprocess, 152.4ms inference, 1.0ms postprocess per image at shape (1, 3, 416, 416)\n",
      "\n",
      "0: 416x416 (no detections), 174.7ms\n",
      "Speed: 2.0ms preprocess, 174.7ms inference, 2.4ms postprocess per image at shape (1, 3, 416, 416)\n",
      "\n",
      "\n",
      "0: 416x416 (no detections), 168.1ms\n",
      "Speed: 3.0ms preprocess, 168.1ms inference, 1.2ms postprocess per image at shape (1, 3, 416, 416)\n",
      "0: 416x416 1 red, 155.5ms\n",
      "Speed: 2.0ms preprocess, 155.5ms inference, 2.0ms postprocess per image at shape (1, 3, 416, 416)\n",
      "\n"
     ]
    },
    {
     "name": "stdout",
     "output_type": "stream",
     "text": [
      "0.61061907\n"
     ]
    },
    {
     "name": "stderr",
     "output_type": "stream",
     "text": [
      "\n",
      "0: 416x416 (no detections), 204.1ms\n",
      "Speed: 3.5ms preprocess, 204.1ms inference, 2.0ms postprocess per image at shape (1, 3, 416, 416)\n",
      "\n",
      "0: 416x416 1 red, 196.9ms\n",
      "Speed: 2.5ms preprocess, 196.9ms inference, 2.0ms postprocess per image at shape (1, 3, 416, 416)\n",
      "0: 416x416 (no detections), 162.5ms\n",
      "Speed: 3.0ms preprocess, 162.5ms inference, 1.0ms postprocess per image at shape (1, 3, 416, 416)\n"
     ]
    },
    {
     "name": "stdout",
     "output_type": "stream",
     "text": [
      "0.6597988\n"
     ]
    },
    {
     "name": "stderr",
     "output_type": "stream",
     "text": [
      "\n",
      "\n",
      "0: 416x416 1 red, 169.2ms\n",
      "Speed: 4.1ms preprocess, 169.2ms inference, 2.0ms postprocess per image at shape (1, 3, 416, 416)\n",
      "0: 416x416 (no detections), 159.9ms\n",
      "Speed: 3.0ms preprocess, 159.9ms inference, 2.6ms postprocess per image at shape (1, 3, 416, 416)\n"
     ]
    },
    {
     "name": "stdout",
     "output_type": "stream",
     "text": [
      "0.6807247\n"
     ]
    },
    {
     "name": "stderr",
     "output_type": "stream",
     "text": [
      "\n",
      "\n",
      "0: 416x416 (no detections), 170.4ms\n",
      "Speed: 3.0ms preprocess, 170.4ms inference, 1.0ms postprocess per image at shape (1, 3, 416, 416)\n",
      "0: 416x416 1 red, 151.8ms\n",
      "Speed: 2.0ms preprocess, 151.8ms inference, 1.0ms postprocess per image at shape (1, 3, 416, 416)\n",
      "\n"
     ]
    },
    {
     "name": "stdout",
     "output_type": "stream",
     "text": [
      "0.69843864\n"
     ]
    },
    {
     "name": "stderr",
     "output_type": "stream",
     "text": [
      "\n",
      "0: 416x416 (no detections), 216.8ms\n",
      "Speed: 3.0ms preprocess, 216.8ms inference, 1.0ms postprocess per image at shape (1, 3, 416, 416)\n",
      "0: 416x416 1 red, 141.9ms\n",
      "Speed: 3.0ms preprocess, 141.9ms inference, 1.0ms postprocess per image at shape (1, 3, 416, 416)\n",
      "\n"
     ]
    },
    {
     "name": "stdout",
     "output_type": "stream",
     "text": [
      "0.6915917\n"
     ]
    },
    {
     "name": "stderr",
     "output_type": "stream",
     "text": [
      "0: 416x416 (no detections), 184.8ms\n",
      "Speed: 2.8ms preprocess, 184.8ms inference, 1.0ms postprocess per image at shape (1, 3, 416, 416)\n",
      "\n",
      "\n",
      "0: 416x416 1 red, 173.0ms\n",
      "Speed: 2.5ms preprocess, 173.0ms inference, 1.0ms postprocess per image at shape (1, 3, 416, 416)\n",
      "0: 416x416 (no detections), 164.6ms\n",
      "Speed: 2.0ms preprocess, 164.6ms inference, 2.0ms postprocess per image at shape (1, 3, 416, 416)\n"
     ]
    },
    {
     "name": "stdout",
     "output_type": "stream",
     "text": [
      "0.6676296\n"
     ]
    },
    {
     "name": "stderr",
     "output_type": "stream",
     "text": [
      "\n",
      "\n",
      "0: 416x416 (no detections), 152.3ms\n",
      "Speed: 4.0ms preprocess, 152.3ms inference, 1.5ms postprocess per image at shape (1, 3, 416, 416)\n",
      "0: 416x416 1 red, 134.4ms\n",
      "Speed: 2.0ms preprocess, 134.4ms inference, 2.0ms postprocess per image at shape (1, 3, 416, 416)\n",
      "\n"
     ]
    },
    {
     "name": "stdout",
     "output_type": "stream",
     "text": [
      "0.727357\n"
     ]
    },
    {
     "name": "stderr",
     "output_type": "stream",
     "text": [
      "0: 416x416 (no detections), 174.3ms\n",
      "Speed: 2.0ms preprocess, 174.3ms inference, 3.0ms postprocess per image at shape (1, 3, 416, 416)\n",
      "\n",
      "0: 416x416 1 red, 1 yellow, 152.9ms\n",
      "Speed: 3.0ms preprocess, 152.9ms inference, 3.0ms postprocess per image at shape (1, 3, 416, 416)\n",
      "\n"
     ]
    },
    {
     "name": "stdout",
     "output_type": "stream",
     "text": [
      "0.71225107\n"
     ]
    },
    {
     "name": "stderr",
     "output_type": "stream",
     "text": [
      "0: 416x416 (no detections), 190.2ms\n",
      "Speed: 1.1ms preprocess, 190.2ms inference, 0.0ms postprocess per image at shape (1, 3, 416, 416)\n",
      "\n",
      "\n",
      "0: 416x416 (no detections), 149.9ms\n",
      "Speed: 5.1ms preprocess, 149.9ms inference, 2.0ms postprocess per image at shape (1, 3, 416, 416)\n",
      "0: 416x416 1 red, 1 yellow, 115.9ms\n",
      "Speed: 2.5ms preprocess, 115.9ms inference, 1.6ms postprocess per image at shape (1, 3, 416, 416)\n",
      "\n"
     ]
    },
    {
     "name": "stdout",
     "output_type": "stream",
     "text": [
      "0.7404369\n"
     ]
    },
    {
     "name": "stderr",
     "output_type": "stream",
     "text": [
      "0: 416x416 (no detections), 162.1ms\n",
      "Speed: 2.6ms preprocess, 162.1ms inference, 2.0ms postprocess per image at shape (1, 3, 416, 416)\n",
      "\n",
      "\n",
      "0: 416x416 (no detections), 147.0ms\n",
      "Speed: 3.5ms preprocess, 147.0ms inference, 1.0ms postprocess per image at shape (1, 3, 416, 416)\n",
      "0: 416x416 1 red, 1 yellow, 116.6ms\n",
      "Speed: 2.0ms preprocess, 116.6ms inference, 1.0ms postprocess per image at shape (1, 3, 416, 416)\n",
      "\n"
     ]
    },
    {
     "name": "stdout",
     "output_type": "stream",
     "text": [
      "0.7566055\n"
     ]
    },
    {
     "name": "stderr",
     "output_type": "stream",
     "text": [
      "0: 416x416 (no detections), 140.2ms\n",
      "Speed: 2.9ms preprocess, 140.2ms inference, 1.5ms postprocess per image at shape (1, 3, 416, 416)\n",
      "\n",
      "\n",
      "0: 416x416 1 red, 1 yellow, 161.9ms\n",
      "Speed: 3.2ms preprocess, 161.9ms inference, 2.0ms postprocess per image at shape (1, 3, 416, 416)\n",
      "0: 416x416 (no detections), 155.6ms\n",
      "Speed: 3.2ms preprocess, 155.6ms inference, 1.0ms postprocess per image at shape (1, 3, 416, 416)\n"
     ]
    },
    {
     "name": "stdout",
     "output_type": "stream",
     "text": [
      "0.79119754\n"
     ]
    },
    {
     "name": "stderr",
     "output_type": "stream",
     "text": [
      "\n",
      "\n",
      "0: 416x416 (no detections), 212.8ms\n",
      "Speed: 3.8ms preprocess, 212.8ms inference, 1.3ms postprocess per image at shape (1, 3, 416, 416)\n",
      "\n",
      "0: 416x416 1 red, 1 yellow, 189.0ms\n",
      "Speed: 4.0ms preprocess, 189.0ms inference, 1.5ms postprocess per image at shape (1, 3, 416, 416)\n",
      "0: 416x416 (no detections), 126.2ms\n",
      "Speed: 2.0ms preprocess, 126.2ms inference, 0.0ms postprocess per image at shape (1, 3, 416, 416)\n"
     ]
    },
    {
     "name": "stdout",
     "output_type": "stream",
     "text": [
      "0.7746906\n"
     ]
    },
    {
     "name": "stderr",
     "output_type": "stream",
     "text": [
      "\n",
      "\n",
      "0: 416x416 (no detections), 130.4ms\n",
      "Speed: 2.0ms preprocess, 130.4ms inference, 1.0ms postprocess per image at shape (1, 3, 416, 416)\n",
      "0: 416x416 1 red, 1 yellow, 104.1ms\n",
      "Speed: 3.0ms preprocess, 104.1ms inference, 1.0ms postprocess per image at shape (1, 3, 416, 416)\n",
      "\n"
     ]
    },
    {
     "name": "stdout",
     "output_type": "stream",
     "text": [
      "0.7641256\n"
     ]
    },
    {
     "name": "stderr",
     "output_type": "stream",
     "text": [
      "0: 416x416 (no detections), 198.7ms\n",
      "Speed: 3.6ms preprocess, 198.7ms inference, 1.0ms postprocess per image at shape (1, 3, 416, 416)\n",
      "\n",
      "\n",
      "0: 416x416 1 red, 1 yellow, 179.2ms\n",
      "Speed: 4.0ms preprocess, 179.2ms inference, 2.0ms postprocess per image at shape (1, 3, 416, 416)\n",
      "0: 416x416 (no detections), 159.3ms\n",
      "Speed: 2.1ms preprocess, 159.3ms inference, 0.0ms postprocess per image at shape (1, 3, 416, 416)\n"
     ]
    },
    {
     "name": "stdout",
     "output_type": "stream",
     "text": [
      "0.7915455\n"
     ]
    },
    {
     "name": "stderr",
     "output_type": "stream",
     "text": [
      "\n",
      "\n",
      "0: 416x416 (no detections), 142.0ms\n",
      "Speed: 4.0ms preprocess, 142.0ms inference, 0.0ms postprocess per image at shape (1, 3, 416, 416)\n",
      "0: 416x416 1 red, 1 yellow, 114.7ms\n",
      "Speed: 1.0ms preprocess, 114.7ms inference, 1.0ms postprocess per image at shape (1, 3, 416, 416)\n",
      "\n"
     ]
    },
    {
     "name": "stdout",
     "output_type": "stream",
     "text": [
      "0.79496086\n"
     ]
    },
    {
     "name": "stderr",
     "output_type": "stream",
     "text": [
      "0: 416x416 (no detections), 129.0ms\n",
      "Speed: 1.9ms preprocess, 129.0ms inference, 1.0ms postprocess per image at shape (1, 3, 416, 416)\n",
      "\n",
      "\n",
      "0: 416x416 1 red, 1 yellow, 149.9ms\n",
      "Speed: 3.0ms preprocess, 149.9ms inference, 1.0ms postprocess per image at shape (1, 3, 416, 416)\n",
      "0: 416x416 (no detections), 109.2ms\n",
      "Speed: 3.3ms preprocess, 109.2ms inference, 0.0ms postprocess per image at shape (1, 3, 416, 416)\n"
     ]
    },
    {
     "name": "stdout",
     "output_type": "stream",
     "text": [
      "0.7990689\n"
     ]
    },
    {
     "name": "stderr",
     "output_type": "stream",
     "text": [
      "\n",
      "0: 416x416 (no detections), 139.4ms\n",
      "Speed: 3.6ms preprocess, 139.4ms inference, 0.0ms postprocess per image at shape (1, 3, 416, 416)\n",
      "\n",
      "0: 416x416 1 red, 1 yellow, 139.5ms\n",
      "Speed: 1.9ms preprocess, 139.5ms inference, 1.0ms postprocess per image at shape (1, 3, 416, 416)\n",
      "\n",
      "0: 416x416 (no detections), 131.7ms\n",
      "Speed: 2.0ms preprocess, 131.7ms inference, 1.0ms postprocess per image at shape (1, 3, 416, 416)\n"
     ]
    },
    {
     "name": "stdout",
     "output_type": "stream",
     "text": [
      "0.78805\n"
     ]
    },
    {
     "name": "stderr",
     "output_type": "stream",
     "text": [
      "\n",
      "\n",
      "0: 416x416 (no detections), 135.7ms\n",
      "Speed: 2.3ms preprocess, 135.7ms inference, 1.0ms postprocess per image at shape (1, 3, 416, 416)\n",
      "0: 416x416 1 red, 1 yellow, 105.0ms\n",
      "Speed: 2.0ms preprocess, 105.0ms inference, 1.0ms postprocess per image at shape (1, 3, 416, 416)\n"
     ]
    },
    {
     "name": "stdout",
     "output_type": "stream",
     "text": [
      "0.7901909\n"
     ]
    },
    {
     "name": "stderr",
     "output_type": "stream",
     "text": [
      "\n",
      "0: 416x416 (no detections), 134.7ms\n",
      "Speed: 3.0ms preprocess, 134.7ms inference, 1.0ms postprocess per image at shape (1, 3, 416, 416)\n",
      "\n",
      "0: 416x416 1 red, 1 yellow, 141.4ms\n",
      "Speed: 3.3ms preprocess, 141.4ms inference, 1.5ms postprocess per image at shape (1, 3, 416, 416)\n",
      "\n",
      "0: 416x416 (no detections), 127.6ms\n",
      "Speed: 2.0ms preprocess, 127.6ms inference, 0.0ms postprocess per image at shape (1, 3, 416, 416)\n"
     ]
    },
    {
     "name": "stdout",
     "output_type": "stream",
     "text": [
      "0.79249644\n"
     ]
    },
    {
     "name": "stderr",
     "output_type": "stream",
     "text": [
      "\n",
      "\n",
      "0: 416x416 (no detections), 128.2ms\n",
      "Speed: 2.6ms preprocess, 128.2ms inference, 0.0ms postprocess per image at shape (1, 3, 416, 416)\n",
      "0: 416x416 1 red, 1 yellow, 91.9ms\n",
      "Speed: 2.0ms preprocess, 91.9ms inference, 0.0ms postprocess per image at shape (1, 3, 416, 416)\n"
     ]
    },
    {
     "name": "stdout",
     "output_type": "stream",
     "text": [
      "0.7889246\n"
     ]
    },
    {
     "name": "stderr",
     "output_type": "stream",
     "text": [
      "\n",
      "0: 416x416 (no detections), 120.2ms\n",
      "Speed: 3.0ms preprocess, 120.2ms inference, 1.0ms postprocess per image at shape (1, 3, 416, 416)\n",
      "\n",
      "\n",
      "0: 416x416 1 red, 1 yellow, 121.3ms\n",
      "Speed: 2.0ms preprocess, 121.3ms inference, 1.0ms postprocess per image at shape (1, 3, 416, 416)\n",
      "0: 416x416 (no detections), 86.0ms\n",
      "Speed: 1.5ms preprocess, 86.0ms inference, 1.0ms postprocess per image at shape (1, 3, 416, 416)\n"
     ]
    },
    {
     "name": "stdout",
     "output_type": "stream",
     "text": [
      "0.76267505\n"
     ]
    },
    {
     "name": "stderr",
     "output_type": "stream",
     "text": [
      "\n",
      "0: 416x416 (no detections), 111.4ms\n",
      "Speed: 3.0ms preprocess, 111.4ms inference, 1.0ms postprocess per image at shape (1, 3, 416, 416)\n",
      "\n",
      "0: 416x416 1 red, 1 yellow, 170.7ms\n",
      "Speed: 2.2ms preprocess, 170.7ms inference, 1.0ms postprocess per image at shape (1, 3, 416, 416)\n",
      "\n",
      "0: 416x416 (no detections), 119.3ms\n",
      "Speed: 3.6ms preprocess, 119.3ms inference, 1.3ms postprocess per image at shape (1, 3, 416, 416)\n"
     ]
    },
    {
     "name": "stdout",
     "output_type": "stream",
     "text": [
      "0.78448254\n"
     ]
    },
    {
     "name": "stderr",
     "output_type": "stream",
     "text": [
      "\n",
      "\n",
      "0: 416x416 (no detections), 134.2ms\n",
      "Speed: 5.8ms preprocess, 134.2ms inference, 1.0ms postprocess per image at shape (1, 3, 416, 416)\n",
      "0: 416x416 1 red, 1 yellow, 98.5ms\n",
      "Speed: 2.0ms preprocess, 98.5ms inference, 1.0ms postprocess per image at shape (1, 3, 416, 416)\n",
      "\n"
     ]
    },
    {
     "name": "stdout",
     "output_type": "stream",
     "text": [
      "0.7929492\n"
     ]
    },
    {
     "name": "stderr",
     "output_type": "stream",
     "text": [
      "0: 416x416 (no detections), 194.6ms\n",
      "Speed: 2.5ms preprocess, 194.6ms inference, 1.0ms postprocess per image at shape (1, 3, 416, 416)\n",
      "\n",
      "\n",
      "0: 416x416 1 red, 1 yellow, 181.1ms\n",
      "Speed: 3.0ms preprocess, 181.1ms inference, 1.0ms postprocess per image at shape (1, 3, 416, 416)\n",
      "0: 416x416 (no detections), 138.6ms\n",
      "Speed: 3.1ms preprocess, 138.6ms inference, 0.0ms postprocess per image at shape (1, 3, 416, 416)\n"
     ]
    },
    {
     "name": "stdout",
     "output_type": "stream",
     "text": [
      "0.73496354\n"
     ]
    },
    {
     "name": "stderr",
     "output_type": "stream",
     "text": [
      "\n",
      "0: 416x416 (no detections), 110.3ms\n",
      "Speed: 3.6ms preprocess, 110.3ms inference, 0.0ms postprocess per image at shape (1, 3, 416, 416)\n",
      "\n",
      "0: 416x416 1 red, 1 yellow, 130.8ms\n",
      "Speed: 2.2ms preprocess, 130.8ms inference, 1.0ms postprocess per image at shape (1, 3, 416, 416)\n",
      "\n",
      "0: 416x416 (no detections), 92.2ms\n",
      "Speed: 1.0ms preprocess, 92.2ms inference, 2.0ms postprocess per image at shape (1, 3, 416, 416)\n"
     ]
    },
    {
     "name": "stdout",
     "output_type": "stream",
     "text": [
      "0.7943767\n"
     ]
    },
    {
     "name": "stderr",
     "output_type": "stream",
     "text": [
      "\n",
      "\n",
      "0: 416x416 (no detections), 116.8ms\n",
      "Speed: 2.0ms preprocess, 116.8ms inference, 0.0ms postprocess per image at shape (1, 3, 416, 416)\n",
      "0: 416x416 1 red, 1 yellow, 88.4ms\n",
      "Speed: 1.6ms preprocess, 88.4ms inference, 1.6ms postprocess per image at shape (1, 3, 416, 416)\n"
     ]
    },
    {
     "name": "stdout",
     "output_type": "stream",
     "text": [
      "0.7801182\n"
     ]
    },
    {
     "name": "stderr",
     "output_type": "stream",
     "text": [
      "\n",
      "0: 416x416 (no detections), 130.0ms\n",
      "Speed: 2.0ms preprocess, 130.0ms inference, 0.0ms postprocess per image at shape (1, 3, 416, 416)\n",
      "\n",
      "\n",
      "0: 416x416 1 red, 1 yellow, 138.0ms\n",
      "Speed: 3.0ms preprocess, 138.0ms inference, 5.0ms postprocess per image at shape (1, 3, 416, 416)\n",
      "0: 416x416 (no detections), 93.9ms\n",
      "Speed: 2.0ms preprocess, 93.9ms inference, 1.0ms postprocess per image at shape (1, 3, 416, 416)\n"
     ]
    },
    {
     "name": "stdout",
     "output_type": "stream",
     "text": [
      "0.7948082\n"
     ]
    },
    {
     "name": "stderr",
     "output_type": "stream",
     "text": [
      "\n",
      "0: 416x416 (no detections), 113.3ms\n",
      "Speed: 2.9ms preprocess, 113.3ms inference, 1.0ms postprocess per image at shape (1, 3, 416, 416)\n",
      "\n",
      "0: 416x416 1 red, 1 yellow, 169.3ms\n",
      "Speed: 2.6ms preprocess, 169.3ms inference, 1.0ms postprocess per image at shape (1, 3, 416, 416)\n",
      "\n",
      "0: 416x416 (no detections), 109.6ms\n",
      "Speed: 2.1ms preprocess, 109.6ms inference, 0.0ms postprocess per image at shape (1, 3, 416, 416)\n"
     ]
    },
    {
     "name": "stdout",
     "output_type": "stream",
     "text": [
      "0.7851114\n"
     ]
    },
    {
     "name": "stderr",
     "output_type": "stream",
     "text": [
      "\n",
      "\n",
      "0: 416x416 (no detections), 121.2ms\n",
      "Speed: 3.0ms preprocess, 121.2ms inference, 1.0ms postprocess per image at shape (1, 3, 416, 416)\n",
      "0: 416x416 1 red, 1 yellow, 96.3ms\n",
      "Speed: 2.0ms preprocess, 96.3ms inference, 1.0ms postprocess per image at shape (1, 3, 416, 416)\n",
      "\n"
     ]
    },
    {
     "name": "stdout",
     "output_type": "stream",
     "text": [
      "0.75604844\n"
     ]
    },
    {
     "name": "stderr",
     "output_type": "stream",
     "text": [
      "0: 416x416 (no detections), 189.2ms\n",
      "Speed: 7.5ms preprocess, 189.2ms inference, 1.0ms postprocess per image at shape (1, 3, 416, 416)\n",
      "\n",
      "\n",
      "0: 416x416 1 red, 1 yellow, 127.0ms\n",
      "Speed: 4.0ms preprocess, 127.0ms inference, 1.0ms postprocess per image at shape (1, 3, 416, 416)\n",
      "0: 416x416 (no detections), 86.5ms\n",
      "Speed: 2.0ms preprocess, 86.5ms inference, 1.0ms postprocess per image at shape (1, 3, 416, 416)\n"
     ]
    },
    {
     "name": "stdout",
     "output_type": "stream",
     "text": [
      "0.7873507\n"
     ]
    },
    {
     "name": "stderr",
     "output_type": "stream",
     "text": [
      "\n",
      "0: 416x416 (no detections), 148.7ms\n",
      "Speed: 3.0ms preprocess, 148.7ms inference, 1.0ms postprocess per image at shape (1, 3, 416, 416)\n",
      "\n",
      "0: 416x416 1 red, 1 yellow, 118.1ms\n",
      "Speed: 2.0ms preprocess, 118.1ms inference, 1.0ms postprocess per image at shape (1, 3, 416, 416)\n",
      "\n"
     ]
    },
    {
     "name": "stdout",
     "output_type": "stream",
     "text": [
      "0.78579885\n"
     ]
    },
    {
     "name": "stderr",
     "output_type": "stream",
     "text": [
      "0: 416x416 (no detections), 170.9ms\n",
      "Speed: 2.0ms preprocess, 170.9ms inference, 1.0ms postprocess per image at shape (1, 3, 416, 416)\n",
      "\n",
      "\n",
      "0: 416x416 (no detections), 128.5ms\n",
      "Speed: 3.0ms preprocess, 128.5ms inference, 1.0ms postprocess per image at shape (1, 3, 416, 416)\n",
      "0: 416x416 1 red, 1 yellow, 93.7ms\n",
      "Speed: 3.5ms preprocess, 93.7ms inference, 0.5ms postprocess per image at shape (1, 3, 416, 416)\n"
     ]
    },
    {
     "name": "stdout",
     "output_type": "stream",
     "text": [
      "0.78465915\n"
     ]
    },
    {
     "name": "stderr",
     "output_type": "stream",
     "text": [
      "\n",
      "0: 416x416 (no detections), 119.8ms\n",
      "Speed: 3.0ms preprocess, 119.8ms inference, 0.0ms postprocess per image at shape (1, 3, 416, 416)\n",
      "\n",
      "\n",
      "0: 416x416 1 red, 1 yellow, 179.1ms\n",
      "Speed: 2.5ms preprocess, 179.1ms inference, 1.9ms postprocess per image at shape (1, 3, 416, 416)\n",
      "0: 416x416 (no detections), 167.4ms\n",
      "Speed: 3.0ms preprocess, 167.4ms inference, 1.0ms postprocess per image at shape (1, 3, 416, 416)\n"
     ]
    },
    {
     "name": "stdout",
     "output_type": "stream",
     "text": [
      "0.7637129\n"
     ]
    },
    {
     "name": "stderr",
     "output_type": "stream",
     "text": [
      "\n",
      "0: 416x416 (no detections), 112.6ms\n",
      "Speed: 3.0ms preprocess, 112.6ms inference, 0.0ms postprocess per image at shape (1, 3, 416, 416)\n",
      "\n",
      "0: 416x416 1 red, 1 yellow, 146.0ms\n",
      "Speed: 3.3ms preprocess, 146.0ms inference, 1.0ms postprocess per image at shape (1, 3, 416, 416)\n",
      "\n"
     ]
    },
    {
     "name": "stdout",
     "output_type": "stream",
     "text": [
      "0.78786707\n"
     ]
    },
    {
     "name": "stderr",
     "output_type": "stream",
     "text": [
      "0: 416x416 (no detections), 166.7ms\n",
      "Speed: 3.0ms preprocess, 166.7ms inference, 0.0ms postprocess per image at shape (1, 3, 416, 416)\n",
      "\n",
      "\n",
      "0: 416x416 (no detections), 136.6ms\n",
      "Speed: 2.0ms preprocess, 136.6ms inference, 1.0ms postprocess per image at shape (1, 3, 416, 416)\n",
      "0: 416x416 1 red, 1 yellow, 98.4ms\n",
      "Speed: 3.0ms preprocess, 98.4ms inference, 1.3ms postprocess per image at shape (1, 3, 416, 416)\n"
     ]
    },
    {
     "name": "stdout",
     "output_type": "stream",
     "text": [
      "0.73511344\n"
     ]
    },
    {
     "name": "stderr",
     "output_type": "stream",
     "text": [
      "\n",
      "0: 416x416 (no detections), 145.1ms\n",
      "Speed: 3.0ms preprocess, 145.1ms inference, 1.0ms postprocess per image at shape (1, 3, 416, 416)\n",
      "\n",
      "\n",
      "0: 416x416 1 red, 1 yellow, 139.2ms\n",
      "Speed: 1.6ms preprocess, 139.2ms inference, 1.5ms postprocess per image at shape (1, 3, 416, 416)\n",
      "0: 416x416 (no detections), 101.5ms\n",
      "Speed: 2.0ms preprocess, 101.5ms inference, 1.4ms postprocess per image at shape (1, 3, 416, 416)\n"
     ]
    },
    {
     "name": "stdout",
     "output_type": "stream",
     "text": [
      "0.78153884\n"
     ]
    },
    {
     "name": "stderr",
     "output_type": "stream",
     "text": [
      "\n",
      "0: 416x416 (no detections), 105.5ms\n",
      "Speed: 4.7ms preprocess, 105.5ms inference, 1.0ms postprocess per image at shape (1, 3, 416, 416)\n",
      "\n",
      "0: 416x416 1 red, 1 yellow, 162.0ms\n",
      "Speed: 1.6ms preprocess, 162.0ms inference, 1.0ms postprocess per image at shape (1, 3, 416, 416)\n",
      "\n",
      "0: 416x416 (no detections), 128.8ms\n",
      "Speed: 1.0ms preprocess, 128.8ms inference, 1.0ms postprocess per image at shape (1, 3, 416, 416)\n"
     ]
    },
    {
     "name": "stdout",
     "output_type": "stream",
     "text": [
      "0.76673746\n"
     ]
    },
    {
     "name": "stderr",
     "output_type": "stream",
     "text": [
      "\n",
      "\n",
      "0: 416x416 (no detections), 127.2ms\n",
      "Speed: 3.0ms preprocess, 127.2ms inference, 1.0ms postprocess per image at shape (1, 3, 416, 416)\n",
      "0: 416x416 1 red, 1 yellow, 93.2ms\n",
      "Speed: 3.0ms preprocess, 93.2ms inference, 1.0ms postprocess per image at shape (1, 3, 416, 416)\n",
      "\n"
     ]
    },
    {
     "name": "stdout",
     "output_type": "stream",
     "text": [
      "0.79086024\n"
     ]
    },
    {
     "name": "stderr",
     "output_type": "stream",
     "text": [
      "0: 416x416 (no detections), 118.6ms\n",
      "Speed: 1.0ms preprocess, 118.6ms inference, 0.0ms postprocess per image at shape (1, 3, 416, 416)\n",
      "\n",
      "\n",
      "0: 416x416 1 red, 1 yellow, 122.6ms\n",
      "Speed: 3.1ms preprocess, 122.6ms inference, 1.0ms postprocess per image at shape (1, 3, 416, 416)\n",
      "0: 416x416 (no detections), 89.1ms\n",
      "Speed: 2.3ms preprocess, 89.1ms inference, 1.0ms postprocess per image at shape (1, 3, 416, 416)\n"
     ]
    },
    {
     "name": "stdout",
     "output_type": "stream",
     "text": [
      "0.7601785\n"
     ]
    },
    {
     "name": "stderr",
     "output_type": "stream",
     "text": [
      "\n",
      "0: 416x416 (no detections), 113.1ms\n",
      "Speed: 2.9ms preprocess, 113.1ms inference, 0.0ms postprocess per image at shape (1, 3, 416, 416)\n",
      "\n",
      "0: 416x416 1 red, 1 yellow, 120.0ms\n",
      "Speed: 2.0ms preprocess, 120.0ms inference, 1.0ms postprocess per image at shape (1, 3, 416, 416)\n",
      "\n"
     ]
    },
    {
     "name": "stdout",
     "output_type": "stream",
     "text": [
      "0.78232497\n"
     ]
    },
    {
     "name": "stderr",
     "output_type": "stream",
     "text": [
      "0: 416x416 (no detections), 197.4ms\n",
      "Speed: 4.0ms preprocess, 197.4ms inference, 1.0ms postprocess per image at shape (1, 3, 416, 416)\n",
      "\n",
      "\n",
      "0: 416x416 (no detections), 147.0ms\n",
      "Speed: 2.7ms preprocess, 147.0ms inference, 1.4ms postprocess per image at shape (1, 3, 416, 416)\n",
      "0: 416x416 1 red, 1 yellow, 109.4ms\n",
      "Speed: 2.0ms preprocess, 109.4ms inference, 1.0ms postprocess per image at shape (1, 3, 416, 416)\n"
     ]
    },
    {
     "name": "stdout",
     "output_type": "stream",
     "text": [
      "0.7726807\n"
     ]
    },
    {
     "name": "stderr",
     "output_type": "stream",
     "text": [
      "\n",
      "0: 416x416 (no detections), 130.6ms\n",
      "Speed: 2.0ms preprocess, 130.6ms inference, 1.0ms postprocess per image at shape (1, 3, 416, 416)\n",
      "\n",
      "\n",
      "0: 416x416 1 red, 1 yellow, 138.1ms\n",
      "Speed: 3.0ms preprocess, 138.1ms inference, 1.0ms postprocess per image at shape (1, 3, 416, 416)\n",
      "0: 416x416 (no detections), 99.1ms\n",
      "Speed: 3.5ms preprocess, 99.1ms inference, 0.0ms postprocess per image at shape (1, 3, 416, 416)\n"
     ]
    },
    {
     "name": "stdout",
     "output_type": "stream",
     "text": [
      "0.7830304\n"
     ]
    },
    {
     "name": "stderr",
     "output_type": "stream",
     "text": [
      "\n",
      "0: 416x416 (no detections), 127.0ms\n",
      "Speed: 3.0ms preprocess, 127.0ms inference, 1.0ms postprocess per image at shape (1, 3, 416, 416)\n",
      "\n",
      "0: 416x416 1 red, 1 yellow, 114.3ms\n",
      "Speed: 3.0ms preprocess, 114.3ms inference, 1.5ms postprocess per image at shape (1, 3, 416, 416)\n",
      "\n",
      "0: 416x416 (no detections), 124.0ms\n",
      "Speed: 3.0ms preprocess, 124.0ms inference, 0.0ms postprocess per image at shape (1, 3, 416, 416)\n"
     ]
    },
    {
     "name": "stdout",
     "output_type": "stream",
     "text": [
      "0.80126727\n"
     ]
    },
    {
     "name": "stderr",
     "output_type": "stream",
     "text": [
      "\n",
      "\n",
      "0: 416x416 (no detections), 137.1ms\n",
      "Speed: 2.0ms preprocess, 137.1ms inference, 1.0ms postprocess per image at shape (1, 3, 416, 416)\n",
      "0: 416x416 1 red, 1 yellow, 99.9ms\n",
      "Speed: 2.0ms preprocess, 99.9ms inference, 1.0ms postprocess per image at shape (1, 3, 416, 416)\n"
     ]
    },
    {
     "name": "stdout",
     "output_type": "stream",
     "text": [
      "0.77457047\n"
     ]
    },
    {
     "name": "stderr",
     "output_type": "stream",
     "text": [
      "\n",
      "0: 416x416 (no detections), 160.9ms\n",
      "Speed: 3.0ms preprocess, 160.9ms inference, 2.0ms postprocess per image at shape (1, 3, 416, 416)\n",
      "\n",
      "0: 416x416 1 red, 1 yellow, 95.4ms\n",
      "Speed: 1.9ms preprocess, 95.4ms inference, 1.0ms postprocess per image at shape (1, 3, 416, 416)\n",
      "\n"
     ]
    },
    {
     "name": "stdout",
     "output_type": "stream",
     "text": [
      "0.7956498\n"
     ]
    },
    {
     "name": "stderr",
     "output_type": "stream",
     "text": [
      "0: 416x416 (no detections), 194.8ms\n",
      "Speed: 4.0ms preprocess, 194.8ms inference, 1.0ms postprocess per image at shape (1, 3, 416, 416)\n",
      "\n",
      "\n",
      "0: 416x416 (no detections), 132.8ms\n",
      "Speed: 2.1ms preprocess, 132.8ms inference, 1.6ms postprocess per image at shape (1, 3, 416, 416)\n",
      "0: 416x416 1 red, 1 yellow, 101.6ms\n",
      "Speed: 2.0ms preprocess, 101.6ms inference, 1.0ms postprocess per image at shape (1, 3, 416, 416)\n",
      "\n"
     ]
    },
    {
     "name": "stdout",
     "output_type": "stream",
     "text": [
      "0.7900674\n"
     ]
    },
    {
     "name": "stderr",
     "output_type": "stream",
     "text": [
      "0: 416x416 (no detections), 152.7ms\n",
      "Speed: 3.3ms preprocess, 152.7ms inference, 1.0ms postprocess per image at shape (1, 3, 416, 416)\n",
      "\n",
      "\n",
      "0: 416x416 1 red, 1 yellow, 152.2ms\n",
      "Speed: 3.5ms preprocess, 152.2ms inference, 1.0ms postprocess per image at shape (1, 3, 416, 416)\n",
      "0: 416x416 (no detections), 110.1ms\n",
      "Speed: 3.0ms preprocess, 110.1ms inference, 1.0ms postprocess per image at shape (1, 3, 416, 416)\n"
     ]
    },
    {
     "name": "stdout",
     "output_type": "stream",
     "text": [
      "0.7761554\n"
     ]
    },
    {
     "name": "stderr",
     "output_type": "stream",
     "text": [
      "\n",
      "\n",
      "0: 416x416 (no detections), 145.1ms\n",
      "Speed: 3.2ms preprocess, 145.1ms inference, 1.0ms postprocess per image at shape (1, 3, 416, 416)\n",
      "0: 416x416 1 red, 1 yellow, 110.1ms\n",
      "Speed: 2.0ms preprocess, 110.1ms inference, 1.0ms postprocess per image at shape (1, 3, 416, 416)\n"
     ]
    },
    {
     "name": "stdout",
     "output_type": "stream",
     "text": [
      "0.78585696\n"
     ]
    },
    {
     "name": "stderr",
     "output_type": "stream",
     "text": [
      "\n",
      "0: 416x416 (no detections), 168.3ms\n",
      "Speed: 3.5ms preprocess, 168.3ms inference, 0.8ms postprocess per image at shape (1, 3, 416, 416)\n",
      "\n",
      "\n",
      "0: 416x416 1 red, 1 yellow, 163.4ms\n",
      "Speed: 3.6ms preprocess, 163.4ms inference, 2.0ms postprocess per image at shape (1, 3, 416, 416)\n",
      "0: 416x416 (no detections), 119.3ms\n",
      "Speed: 4.3ms preprocess, 119.3ms inference, 1.0ms postprocess per image at shape (1, 3, 416, 416)\n"
     ]
    },
    {
     "name": "stdout",
     "output_type": "stream",
     "text": [
      "0.79879045\n"
     ]
    },
    {
     "name": "stderr",
     "output_type": "stream",
     "text": [
      "\n",
      "\n",
      "0: 416x416 (no detections), 180.9ms\n",
      "Speed: 2.0ms preprocess, 180.9ms inference, 1.2ms postprocess per image at shape (1, 3, 416, 416)\n",
      "0: 416x416 1 red, 1 yellow, 151.7ms\n",
      "Speed: 2.0ms preprocess, 151.7ms inference, 2.0ms postprocess per image at shape (1, 3, 416, 416)\n",
      "\n",
      "0: 416x416 (no detections), 137.8ms\n",
      "Speed: 5.2ms preprocess, 137.8ms inference, 1.0ms postprocess per image at shape (1, 3, 416, 416)\n"
     ]
    },
    {
     "name": "stdout",
     "output_type": "stream",
     "text": [
      "0.7875224\n"
     ]
    },
    {
     "name": "stderr",
     "output_type": "stream",
     "text": [
      "\n",
      "\n",
      "0: 416x416 (no detections), 143.1ms\n",
      "Speed: 2.5ms preprocess, 143.1ms inference, 1.0ms postprocess per image at shape (1, 3, 416, 416)\n",
      "0: 416x416 1 red, 1 yellow, 115.2ms\n",
      "Speed: 3.0ms preprocess, 115.2ms inference, 0.9ms postprocess per image at shape (1, 3, 416, 416)\n",
      "\n"
     ]
    },
    {
     "name": "stdout",
     "output_type": "stream",
     "text": [
      "0.7800356\n"
     ]
    },
    {
     "name": "stderr",
     "output_type": "stream",
     "text": [
      "0: 416x416 (no detections), 179.9ms\n",
      "Speed: 4.1ms preprocess, 179.9ms inference, 1.0ms postprocess per image at shape (1, 3, 416, 416)\n",
      "\n",
      "\n",
      "0: 416x416 1 red, 1 yellow, 128.1ms\n",
      "Speed: 2.0ms preprocess, 128.1ms inference, 1.0ms postprocess per image at shape (1, 3, 416, 416)\n",
      "0: 416x416 (no detections), 106.8ms\n",
      "Speed: 1.0ms preprocess, 106.8ms inference, 0.0ms postprocess per image at shape (1, 3, 416, 416)\n"
     ]
    },
    {
     "name": "stdout",
     "output_type": "stream",
     "text": [
      "0.8032213\n"
     ]
    },
    {
     "name": "stderr",
     "output_type": "stream",
     "text": [
      "\n",
      "\n",
      "0: 416x416 (no detections), 189.3ms\n",
      "Speed: 4.5ms preprocess, 189.3ms inference, 1.9ms postprocess per image at shape (1, 3, 416, 416)\n",
      "0: 416x416 1 red, 1 yellow, 141.5ms\n",
      "Speed: 2.0ms preprocess, 141.5ms inference, 1.7ms postprocess per image at shape (1, 3, 416, 416)\n",
      "\n"
     ]
    },
    {
     "name": "stdout",
     "output_type": "stream",
     "text": [
      "0.80098563\n"
     ]
    },
    {
     "name": "stderr",
     "output_type": "stream",
     "text": [
      "0: 416x416 (no detections), 119.0ms\n",
      "Speed: 3.0ms preprocess, 119.0ms inference, 0.0ms postprocess per image at shape (1, 3, 416, 416)\n",
      "\n",
      "\n",
      "0: 416x416 1 red, 1 yellow, 180.0ms\n",
      "Speed: 2.7ms preprocess, 180.0ms inference, 1.9ms postprocess per image at shape (1, 3, 416, 416)\n",
      "0: 416x416 (no detections), 179.3ms\n",
      "Speed: 2.6ms preprocess, 179.3ms inference, 0.6ms postprocess per image at shape (1, 3, 416, 416)\n"
     ]
    },
    {
     "name": "stdout",
     "output_type": "stream",
     "text": [
      "0.78100467\n"
     ]
    },
    {
     "name": "stderr",
     "output_type": "stream",
     "text": [
      "\n",
      "0: 416x416 (no detections), 167.7ms\n",
      "Speed: 2.1ms preprocess, 167.7ms inference, 1.5ms postprocess per image at shape (1, 3, 416, 416)\n",
      "\n",
      "\n",
      "0: 416x416 1 red, 1 yellow, 179.6ms\n",
      "Speed: 3.0ms preprocess, 179.6ms inference, 5.5ms postprocess per image at shape (1, 3, 416, 416)\n",
      "0: 416x416 (no detections), 123.0ms\n",
      "Speed: 4.9ms preprocess, 123.0ms inference, 1.0ms postprocess per image at shape (1, 3, 416, 416)\n"
     ]
    },
    {
     "name": "stdout",
     "output_type": "stream",
     "text": [
      "0.77099866\n"
     ]
    },
    {
     "name": "stderr",
     "output_type": "stream",
     "text": [
      "\n",
      "\n",
      "0: 416x416 (no detections), 153.6ms\n",
      "Speed: 3.5ms preprocess, 153.6ms inference, 1.0ms postprocess per image at shape (1, 3, 416, 416)\n",
      "0: 416x416 1 green, 136.2ms\n",
      "Speed: 2.0ms preprocess, 136.2ms inference, 3.0ms postprocess per image at shape (1, 3, 416, 416)\n",
      "\n"
     ]
    },
    {
     "name": "stdout",
     "output_type": "stream",
     "text": [
      "0.7174336\n"
     ]
    },
    {
     "name": "stderr",
     "output_type": "stream",
     "text": [
      "0: 416x416 (no detections), 150.2ms\n",
      "Speed: 7.0ms preprocess, 150.2ms inference, 1.0ms postprocess per image at shape (1, 3, 416, 416)\n",
      "\n",
      "\n",
      "0: 416x416 1 green, 149.1ms\n",
      "Speed: 2.0ms preprocess, 149.1ms inference, 1.0ms postprocess per image at shape (1, 3, 416, 416)\n",
      "0: 416x416 (no detections), 114.3ms\n",
      "Speed: 2.7ms preprocess, 114.3ms inference, 1.0ms postprocess per image at shape (1, 3, 416, 416)\n"
     ]
    },
    {
     "name": "stdout",
     "output_type": "stream",
     "text": [
      "0.7121084\n"
     ]
    },
    {
     "name": "stderr",
     "output_type": "stream",
     "text": [
      "\n",
      "\n",
      "0: 416x416 (no detections), 163.1ms\n",
      "Speed: 9.1ms preprocess, 163.1ms inference, 4.0ms postprocess per image at shape (1, 3, 416, 416)\n",
      "0: 416x416 1 green, 145.9ms\n",
      "Speed: 3.1ms preprocess, 145.9ms inference, 0.9ms postprocess per image at shape (1, 3, 416, 416)\n",
      "\n"
     ]
    },
    {
     "name": "stdout",
     "output_type": "stream",
     "text": [
      "0.73120505\n"
     ]
    },
    {
     "name": "stderr",
     "output_type": "stream",
     "text": [
      "0: 416x416 (no detections), 201.0ms\n",
      "Speed: 3.0ms preprocess, 201.0ms inference, 1.6ms postprocess per image at shape (1, 3, 416, 416)\n",
      "\n",
      "\n",
      "0: 416x416 (no detections), 148.8ms\n",
      "Speed: 2.0ms preprocess, 148.8ms inference, 1.0ms postprocess per image at shape (1, 3, 416, 416)\n",
      "0: 416x416 1 green, 128.2ms\n",
      "Speed: 3.0ms preprocess, 128.2ms inference, 0.9ms postprocess per image at shape (1, 3, 416, 416)\n",
      "\n"
     ]
    },
    {
     "name": "stdout",
     "output_type": "stream",
     "text": [
      "0.7133471\n"
     ]
    },
    {
     "name": "stderr",
     "output_type": "stream",
     "text": [
      "0: 416x416 (no detections), 173.8ms\n",
      "Speed: 1.9ms preprocess, 173.8ms inference, 1.0ms postprocess per image at shape (1, 3, 416, 416)\n",
      "\n",
      "\n",
      "0: 416x416 1 green, 136.6ms\n",
      "Speed: 3.0ms preprocess, 136.6ms inference, 0.5ms postprocess per image at shape (1, 3, 416, 416)\n",
      "0: 416x416 (no detections), 108.3ms\n",
      "Speed: 2.6ms preprocess, 108.3ms inference, 1.0ms postprocess per image at shape (1, 3, 416, 416)\n"
     ]
    },
    {
     "name": "stdout",
     "output_type": "stream",
     "text": [
      "0.70835996\n"
     ]
    },
    {
     "name": "stderr",
     "output_type": "stream",
     "text": [
      "\n",
      "0: 416x416 (no detections), 133.2ms\n",
      "Speed: 2.8ms preprocess, 133.2ms inference, 1.0ms postprocess per image at shape (1, 3, 416, 416)\n",
      "\n",
      "\n",
      "0: 416x416 1 green, 185.0ms\n",
      "Speed: 2.0ms preprocess, 185.0ms inference, 2.0ms postprocess per image at shape (1, 3, 416, 416)\n",
      "0: 416x416 (no detections), 201.8ms\n"
     ]
    },
    {
     "name": "stdout",
     "output_type": "stream",
     "text": [
      "0.7319429\n"
     ]
    },
    {
     "name": "stderr",
     "output_type": "stream",
     "text": [
      "Speed: 2.0ms preprocess, 201.8ms inference, 1.0ms postprocess per image at shape (1, 3, 416, 416)\n",
      "\n",
      "\n",
      "0: 416x416 1 green, 140.1ms\n",
      "Speed: 3.0ms preprocess, 140.1ms inference, 2.0ms postprocess per image at shape (1, 3, 416, 416)\n",
      "0: 416x416 (no detections), 115.2ms\n",
      "Speed: 2.0ms preprocess, 115.2ms inference, 1.0ms postprocess per image at shape (1, 3, 416, 416)\n"
     ]
    },
    {
     "name": "stdout",
     "output_type": "stream",
     "text": [
      "0.7202982\n"
     ]
    },
    {
     "name": "stderr",
     "output_type": "stream",
     "text": [
      "\n",
      "\n",
      "0: 416x416 (no detections), 212.3ms\n",
      "Speed: 1.9ms preprocess, 212.3ms inference, 1.0ms postprocess per image at shape (1, 3, 416, 416)\n",
      "0: 416x416 1 green, 144.6ms\n",
      "Speed: 2.0ms preprocess, 144.6ms inference, 1.0ms postprocess per image at shape (1, 3, 416, 416)\n",
      "\n",
      "0: 416x416 (no detections), 150.9ms\n"
     ]
    },
    {
     "name": "stdout",
     "output_type": "stream",
     "text": [
      "0.7190432\n"
     ]
    },
    {
     "name": "stderr",
     "output_type": "stream",
     "text": [
      "Speed: 3.5ms preprocess, 150.9ms inference, 1.0ms postprocess per image at shape (1, 3, 416, 416)\n",
      "\n",
      "\n",
      "0: 416x416 (no detections), 150.3ms\n",
      "Speed: 2.3ms preprocess, 150.3ms inference, 1.0ms postprocess per image at shape (1, 3, 416, 416)\n",
      "0: 416x416 1 green, 128.9ms\n",
      "Speed: 2.0ms preprocess, 128.9ms inference, 1.0ms postprocess per image at shape (1, 3, 416, 416)\n",
      "\n"
     ]
    },
    {
     "name": "stdout",
     "output_type": "stream",
     "text": [
      "0.71244085\n"
     ]
    },
    {
     "name": "stderr",
     "output_type": "stream",
     "text": [
      "0: 416x416 (no detections), 206.0ms\n",
      "Speed: 2.4ms preprocess, 206.0ms inference, 2.5ms postprocess per image at shape (1, 3, 416, 416)\n",
      "\n",
      "\n",
      "0: 416x416 1 green, 185.9ms\n",
      "Speed: 2.9ms preprocess, 185.9ms inference, 3.0ms postprocess per image at shape (1, 3, 416, 416)\n",
      "0: 416x416 (no detections), 185.0ms\n",
      "Speed: 3.7ms preprocess, 185.0ms inference, 2.0ms postprocess per image at shape (1, 3, 416, 416)\n"
     ]
    },
    {
     "name": "stdout",
     "output_type": "stream",
     "text": [
      "0.7136847\n"
     ]
    },
    {
     "name": "stderr",
     "output_type": "stream",
     "text": [
      "\n",
      "\n",
      "0: 416x416 (no detections), 223.1ms\n",
      "Speed: 3.6ms preprocess, 223.1ms inference, 1.0ms postprocess per image at shape (1, 3, 416, 416)\n",
      "0: 416x416 1 green, 180.1ms\n",
      "Speed: 3.1ms preprocess, 180.1ms inference, 1.0ms postprocess per image at shape (1, 3, 416, 416)\n",
      "\n",
      "0: 416x416 (no detections), 175.5ms\n"
     ]
    },
    {
     "name": "stdout",
     "output_type": "stream",
     "text": [
      "0.7222211\n"
     ]
    },
    {
     "name": "stderr",
     "output_type": "stream",
     "text": [
      "Speed: 4.0ms preprocess, 175.5ms inference, 2.0ms postprocess per image at shape (1, 3, 416, 416)\n",
      "\n",
      "\n",
      "0: 416x416 1 green, 172.9ms\n",
      "Speed: 8.5ms preprocess, 172.9ms inference, 1.5ms postprocess per image at shape (1, 3, 416, 416)\n",
      "0: 416x416 (no detections), 124.7ms\n",
      "Speed: 4.0ms preprocess, 124.7ms inference, 0.0ms postprocess per image at shape (1, 3, 416, 416)\n"
     ]
    },
    {
     "name": "stdout",
     "output_type": "stream",
     "text": [
      "0.7188323\n"
     ]
    },
    {
     "name": "stderr",
     "output_type": "stream",
     "text": [
      "\n",
      "\n",
      "0: 416x416 (no detections), 196.6ms\n",
      "Speed: 3.0ms preprocess, 196.6ms inference, 2.7ms postprocess per image at shape (1, 3, 416, 416)\n",
      "\n",
      "0: 416x416 1 green, 210.5ms\n",
      "Speed: 4.2ms preprocess, 210.5ms inference, 1.0ms postprocess per image at shape (1, 3, 416, 416)\n",
      "0: 416x416 (no detections), 177.2ms\n",
      "Speed: 2.5ms preprocess, 177.2ms inference, 0.9ms postprocess per image at shape (1, 3, 416, 416)\n"
     ]
    },
    {
     "name": "stdout",
     "output_type": "stream",
     "text": [
      "0.7275232\n"
     ]
    },
    {
     "name": "stderr",
     "output_type": "stream",
     "text": [
      "\n",
      "\n",
      "0: 416x416 (no detections), 180.6ms\n",
      "Speed: 2.0ms preprocess, 180.6ms inference, 1.5ms postprocess per image at shape (1, 3, 416, 416)\n",
      "0: 416x416 1 green, 158.0ms\n",
      "Speed: 3.2ms preprocess, 158.0ms inference, 2.0ms postprocess per image at shape (1, 3, 416, 416)\n",
      "\n"
     ]
    },
    {
     "name": "stdout",
     "output_type": "stream",
     "text": [
      "0.71811175\n"
     ]
    },
    {
     "name": "stderr",
     "output_type": "stream",
     "text": [
      "0: 416x416 (no detections), 192.8ms\n",
      "Speed: 3.5ms preprocess, 192.8ms inference, 2.0ms postprocess per image at shape (1, 3, 416, 416)\n",
      "\n",
      "\n",
      "0: 416x416 1 green, 180.0ms\n",
      "Speed: 3.0ms preprocess, 180.0ms inference, 2.0ms postprocess per image at shape (1, 3, 416, 416)\n",
      "0: 416x416 (no detections), 141.7ms\n",
      "Speed: 3.0ms preprocess, 141.7ms inference, 1.0ms postprocess per image at shape (1, 3, 416, 416)\n"
     ]
    },
    {
     "name": "stdout",
     "output_type": "stream",
     "text": [
      "0.72560364\n"
     ]
    },
    {
     "name": "stderr",
     "output_type": "stream",
     "text": [
      "\n",
      "\n",
      "0: 416x416 (no detections), 198.5ms\n",
      "Speed: 3.5ms preprocess, 198.5ms inference, 1.4ms postprocess per image at shape (1, 3, 416, 416)\n",
      "\n",
      "0: 416x416 1 green, 220.0ms\n",
      "Speed: 3.7ms preprocess, 220.0ms inference, 2.2ms postprocess per image at shape (1, 3, 416, 416)\n",
      "0: 416x416 (no detections), 220.8ms\n"
     ]
    },
    {
     "name": "stdout",
     "output_type": "stream",
     "text": [
      "0.72760767\n"
     ]
    },
    {
     "name": "stderr",
     "output_type": "stream",
     "text": [
      "Speed: 4.0ms preprocess, 220.8ms inference, 1.8ms postprocess per image at shape (1, 3, 416, 416)\n",
      "\n",
      "\n",
      "0: 416x416 1 green, 190.6ms\n",
      "Speed: 3.5ms preprocess, 190.6ms inference, 1.0ms postprocess per image at shape (1, 3, 416, 416)\n",
      "0: 416x416 (no detections), 174.5ms\n",
      "Speed: 2.5ms preprocess, 174.5ms inference, 2.1ms postprocess per image at shape (1, 3, 416, 416)\n"
     ]
    },
    {
     "name": "stdout",
     "output_type": "stream",
     "text": [
      "0.7181774\n"
     ]
    },
    {
     "name": "stderr",
     "output_type": "stream",
     "text": [
      "\n",
      "\n",
      "0: 416x416 (no detections), 164.8ms\n",
      "Speed: 3.6ms preprocess, 164.8ms inference, 1.3ms postprocess per image at shape (1, 3, 416, 416)\n",
      "0: 416x416 1 yellow, 124.3ms\n",
      "Speed: 2.0ms preprocess, 124.3ms inference, 1.0ms postprocess per image at shape (1, 3, 416, 416)\n",
      "\n"
     ]
    },
    {
     "name": "stdout",
     "output_type": "stream",
     "text": [
      "0.6840727\n"
     ]
    },
    {
     "name": "stderr",
     "output_type": "stream",
     "text": [
      "0: 416x416 (no detections), 176.7ms\n",
      "Speed: 3.0ms preprocess, 176.7ms inference, 1.0ms postprocess per image at shape (1, 3, 416, 416)\n",
      "\n",
      "\n",
      "0: 416x416 1 yellow, 187.0ms\n",
      "Speed: 3.0ms preprocess, 187.0ms inference, 2.0ms postprocess per image at shape (1, 3, 416, 416)\n",
      "0: 416x416 (no detections), 187.1ms\n",
      "Speed: 2.0ms preprocess, 187.1ms inference, 1.0ms postprocess per image at shape (1, 3, 416, 416)\n"
     ]
    },
    {
     "name": "stdout",
     "output_type": "stream",
     "text": [
      "0.7029724\n"
     ]
    },
    {
     "name": "stderr",
     "output_type": "stream",
     "text": [
      "\n",
      "\n",
      "0: 416x416 (no detections), 223.4ms\n",
      "Speed: 3.4ms preprocess, 223.4ms inference, 2.0ms postprocess per image at shape (1, 3, 416, 416)\n",
      "\n",
      "0: 416x416 1 yellow, 195.0ms\n",
      "Speed: 2.9ms preprocess, 195.0ms inference, 1.1ms postprocess per image at shape (1, 3, 416, 416)\n"
     ]
    },
    {
     "name": "stdout",
     "output_type": "stream",
     "text": [
      "0.70466316\n"
     ]
    },
    {
     "name": "stderr",
     "output_type": "stream",
     "text": [
      "0: 416x416 (no detections), 206.1ms\n",
      "Speed: 3.2ms preprocess, 206.1ms inference, 1.1ms postprocess per image at shape (1, 3, 416, 416)\n",
      "\n",
      "\n",
      "0: 416x416 (no detections), 165.1ms\n",
      "Speed: 2.6ms preprocess, 165.1ms inference, 0.0ms postprocess per image at shape (1, 3, 416, 416)\n",
      "0: 416x416 1 yellow, 135.6ms\n",
      "Speed: 2.9ms preprocess, 135.6ms inference, 2.0ms postprocess per image at shape (1, 3, 416, 416)\n",
      "\n"
     ]
    },
    {
     "name": "stdout",
     "output_type": "stream",
     "text": [
      "0.7128996\n"
     ]
    },
    {
     "name": "stderr",
     "output_type": "stream",
     "text": [
      "0: 416x416 (no detections), 212.6ms\n",
      "Speed: 2.0ms preprocess, 212.6ms inference, 1.0ms postprocess per image at shape (1, 3, 416, 416)\n",
      "\n",
      "\n",
      "0: 416x416 1 yellow, 180.6ms\n",
      "Speed: 4.1ms preprocess, 180.6ms inference, 1.0ms postprocess per image at shape (1, 3, 416, 416)\n",
      "0: 416x416 (no detections), 153.4ms\n",
      "Speed: 3.0ms preprocess, 153.4ms inference, 1.0ms postprocess per image at shape (1, 3, 416, 416)\n"
     ]
    },
    {
     "name": "stdout",
     "output_type": "stream",
     "text": [
      "0.70938617\n"
     ]
    },
    {
     "name": "stderr",
     "output_type": "stream",
     "text": [
      "\n",
      "\n",
      "0: 416x416 (no detections), 174.2ms\n",
      "Speed: 3.8ms preprocess, 174.2ms inference, 1.9ms postprocess per image at shape (1, 3, 416, 416)\n",
      "\n",
      "0: 416x416 1 red, 1 yellow, 196.8ms\n",
      "Speed: 3.0ms preprocess, 196.8ms inference, 2.0ms postprocess per image at shape (1, 3, 416, 416)\n"
     ]
    },
    {
     "name": "stdout",
     "output_type": "stream",
     "text": [
      "0.7450989\n"
     ]
    },
    {
     "name": "stderr",
     "output_type": "stream",
     "text": [
      "0: 416x416 (no detections), 203.2ms\n",
      "Speed: 3.8ms preprocess, 203.2ms inference, 1.0ms postprocess per image at shape (1, 3, 416, 416)\n",
      "\n",
      "\n",
      "0: 416x416 1 red, 1 yellow, 152.7ms\n",
      "Speed: 3.1ms preprocess, 152.7ms inference, 1.0ms postprocess per image at shape (1, 3, 416, 416)\n",
      "0: 416x416 (no detections), 141.5ms\n",
      "Speed: 3.0ms preprocess, 141.5ms inference, 1.0ms postprocess per image at shape (1, 3, 416, 416)\n"
     ]
    },
    {
     "name": "stdout",
     "output_type": "stream",
     "text": [
      "0.7828767\n"
     ]
    },
    {
     "name": "stderr",
     "output_type": "stream",
     "text": [
      "\n",
      "0: 416x416 (no detections), 175.7ms\n",
      "Speed: 3.0ms preprocess, 175.7ms inference, 1.9ms postprocess per image at shape (1, 3, 416, 416)\n",
      "\n",
      "\n",
      "0: 416x416 1 red, 1 yellow, 196.9ms\n",
      "Speed: 3.0ms preprocess, 196.9ms inference, 1.9ms postprocess per image at shape (1, 3, 416, 416)\n",
      "0: 416x416 (no detections), 156.0ms\n",
      "Speed: 3.0ms preprocess, 156.0ms inference, 1.0ms postprocess per image at shape (1, 3, 416, 416)\n"
     ]
    },
    {
     "name": "stdout",
     "output_type": "stream",
     "text": [
      "0.7748636\n"
     ]
    },
    {
     "name": "stderr",
     "output_type": "stream",
     "text": [
      "\n",
      "\n",
      "0: 416x416 (no detections), 134.2ms\n",
      "Speed: 2.0ms preprocess, 134.2ms inference, 1.0ms postprocess per image at shape (1, 3, 416, 416)\n",
      "0: 416x416 1 red, 109.2ms\n",
      "Speed: 2.5ms preprocess, 109.2ms inference, 1.0ms postprocess per image at shape (1, 3, 416, 416)\n"
     ]
    },
    {
     "name": "stdout",
     "output_type": "stream",
     "text": [
      "0.7997137\n"
     ]
    },
    {
     "name": "stderr",
     "output_type": "stream",
     "text": [
      "\n",
      "0: 416x416 (no detections), 106.8ms\n",
      "Speed: 2.9ms preprocess, 106.8ms inference, 1.1ms postprocess per image at shape (1, 3, 416, 416)\n",
      "\n",
      "0: 416x416 1 red, 1 yellow, 156.4ms\n",
      "Speed: 1.9ms preprocess, 156.4ms inference, 1.0ms postprocess per image at shape (1, 3, 416, 416)\n",
      "\n",
      "0: 416x416 (no detections), 106.9ms\n",
      "Speed: 1.3ms preprocess, 106.9ms inference, 0.0ms postprocess per image at shape (1, 3, 416, 416)\n"
     ]
    },
    {
     "name": "stdout",
     "output_type": "stream",
     "text": [
      "0.7886186\n"
     ]
    },
    {
     "name": "stderr",
     "output_type": "stream",
     "text": [
      "\n",
      "\n",
      "0: 416x416 (no detections), 118.6ms\n",
      "Speed: 2.5ms preprocess, 118.6ms inference, 1.0ms postprocess per image at shape (1, 3, 416, 416)\n",
      "0: 416x416 1 red, 1 yellow, 91.1ms\n",
      "Speed: 2.0ms preprocess, 91.1ms inference, 1.0ms postprocess per image at shape (1, 3, 416, 416)\n",
      "\n"
     ]
    },
    {
     "name": "stdout",
     "output_type": "stream",
     "text": [
      "0.7578515\n"
     ]
    },
    {
     "name": "stderr",
     "output_type": "stream",
     "text": [
      "0: 416x416 (no detections), 108.4ms\n",
      "Speed: 1.5ms preprocess, 108.4ms inference, 0.5ms postprocess per image at shape (1, 3, 416, 416)\n",
      "\n",
      "\n",
      "0: 416x416 1 red, 1 yellow, 118.2ms\n",
      "Speed: 1.0ms preprocess, 118.2ms inference, 1.0ms postprocess per image at shape (1, 3, 416, 416)\n",
      "0: 416x416 (no detections), 86.8ms\n",
      "Speed: 2.0ms preprocess, 86.8ms inference, 1.0ms postprocess per image at shape (1, 3, 416, 416)\n"
     ]
    },
    {
     "name": "stdout",
     "output_type": "stream",
     "text": [
      "0.7763587\n"
     ]
    },
    {
     "name": "stderr",
     "output_type": "stream",
     "text": [
      "\n",
      "0: 416x416 (no detections), 108.9ms\n",
      "Speed: 3.0ms preprocess, 108.9ms inference, 1.0ms postprocess per image at shape (1, 3, 416, 416)\n",
      "\n",
      "0: 416x416 1 red, 1 yellow, 103.8ms\n",
      "Speed: 1.9ms preprocess, 103.8ms inference, 1.0ms postprocess per image at shape (1, 3, 416, 416)\n",
      "\n",
      "0: 416x416 (no detections), 103.0ms\n",
      "Speed: 3.5ms preprocess, 103.0ms inference, 1.0ms postprocess per image at shape (1, 3, 416, 416)\n"
     ]
    },
    {
     "name": "stdout",
     "output_type": "stream",
     "text": [
      "0.76290673\n"
     ]
    },
    {
     "name": "stderr",
     "output_type": "stream",
     "text": [
      "\n",
      "\n",
      "0: 416x416 (no detections), 115.0ms\n",
      "Speed: 1.5ms preprocess, 115.0ms inference, 1.0ms postprocess per image at shape (1, 3, 416, 416)\n",
      "0: 416x416 1 red, 1 yellow, 87.5ms\n",
      "Speed: 2.0ms preprocess, 87.5ms inference, 1.0ms postprocess per image at shape (1, 3, 416, 416)\n",
      "\n"
     ]
    },
    {
     "name": "stdout",
     "output_type": "stream",
     "text": [
      "0.7774175\n"
     ]
    },
    {
     "name": "stderr",
     "output_type": "stream",
     "text": [
      "0: 416x416 (no detections), 108.8ms\n",
      "Speed: 2.5ms preprocess, 108.8ms inference, 1.1ms postprocess per image at shape (1, 3, 416, 416)\n",
      "\n",
      "\n",
      "0: 416x416 1 red, 1 yellow, 126.0ms\n",
      "Speed: 1.0ms preprocess, 126.0ms inference, 2.1ms postprocess per image at shape (1, 3, 416, 416)\n",
      "0: 416x416 (no detections), 95.8ms\n",
      "Speed: 2.0ms preprocess, 95.8ms inference, 1.0ms postprocess per image at shape (1, 3, 416, 416)\n"
     ]
    },
    {
     "name": "stdout",
     "output_type": "stream",
     "text": [
      "0.7757227\n"
     ]
    },
    {
     "name": "stderr",
     "output_type": "stream",
     "text": [
      "\n",
      "0: 416x416 (no detections), 93.6ms\n",
      "Speed: 2.9ms preprocess, 93.6ms inference, 0.0ms postprocess per image at shape (1, 3, 416, 416)\n",
      "\n",
      "0: 416x416 1 red, 1 yellow, 105.3ms\n",
      "Speed: 4.0ms preprocess, 105.3ms inference, 1.0ms postprocess per image at shape (1, 3, 416, 416)\n",
      "\n",
      "0: 416x416 (no detections), 100.9ms\n",
      "Speed: 3.1ms preprocess, 100.9ms inference, 1.0ms postprocess per image at shape (1, 3, 416, 416)\n"
     ]
    },
    {
     "name": "stdout",
     "output_type": "stream",
     "text": [
      "0.7919395\n"
     ]
    },
    {
     "name": "stderr",
     "output_type": "stream",
     "text": [
      "\n",
      "\n",
      "0: 416x416 (no detections), 146.0ms\n",
      "Speed: 1.6ms preprocess, 146.0ms inference, 1.0ms postprocess per image at shape (1, 3, 416, 416)\n",
      "0: 416x416 1 red, 1 yellow, 121.2ms\n",
      "Speed: 3.0ms preprocess, 121.2ms inference, 2.7ms postprocess per image at shape (1, 3, 416, 416)\n",
      "\n"
     ]
    },
    {
     "name": "stdout",
     "output_type": "stream",
     "text": [
      "0.77778834\n"
     ]
    },
    {
     "name": "stderr",
     "output_type": "stream",
     "text": [
      "0: 416x416 (no detections), 186.8ms\n",
      "Speed: 5.0ms preprocess, 186.8ms inference, 3.0ms postprocess per image at shape (1, 3, 416, 416)\n",
      "\n",
      "\n",
      "0: 416x416 1 red, 1 yellow, 164.8ms\n",
      "Speed: 3.9ms preprocess, 164.8ms inference, 4.5ms postprocess per image at shape (1, 3, 416, 416)\n",
      "0: 416x416 (no detections), 165.5ms\n",
      "Speed: 4.0ms preprocess, 165.5ms inference, 1.0ms postprocess per image at shape (1, 3, 416, 416)\n"
     ]
    },
    {
     "name": "stdout",
     "output_type": "stream",
     "text": [
      "0.7971027\n"
     ]
    },
    {
     "name": "stderr",
     "output_type": "stream",
     "text": [
      "\n",
      "\n",
      "0: 416x416 (no detections), 160.1ms\n",
      "Speed: 4.1ms preprocess, 160.1ms inference, 2.0ms postprocess per image at shape (1, 3, 416, 416)\n",
      "0: 416x416 1 red, 1 yellow, 157.0ms\n",
      "Speed: 3.2ms preprocess, 157.0ms inference, 2.0ms postprocess per image at shape (1, 3, 416, 416)\n",
      "\n"
     ]
    },
    {
     "name": "stdout",
     "output_type": "stream",
     "text": [
      "0.7707554\n"
     ]
    },
    {
     "name": "stderr",
     "output_type": "stream",
     "text": [
      "\n",
      "0: 416x416 (no detections), 180.5ms\n",
      "Speed: 4.0ms preprocess, 180.5ms inference, 7.9ms postprocess per image at shape (1, 3, 416, 416)\n",
      "\n",
      "0: 416x416 1 red, 1 yellow, 200.1ms\n",
      "Speed: 7.5ms preprocess, 200.1ms inference, 2.0ms postprocess per image at shape (1, 3, 416, 416)\n",
      "0: 416x416 (no detections), 147.6ms\n",
      "Speed: 7.5ms preprocess, 147.6ms inference, 1.5ms postprocess per image at shape (1, 3, 416, 416)\n"
     ]
    },
    {
     "name": "stdout",
     "output_type": "stream",
     "text": [
      "0.7935409\n"
     ]
    },
    {
     "name": "stderr",
     "output_type": "stream",
     "text": [
      "\n",
      "\n",
      "0: 416x416 1 red, 1 yellow, 148.8ms\n",
      "Speed: 8.5ms preprocess, 148.8ms inference, 1.0ms postprocess per image at shape (1, 3, 416, 416)\n",
      "0: 416x416 (no detections), 116.2ms\n",
      "Speed: 4.5ms preprocess, 116.2ms inference, 1.0ms postprocess per image at shape (1, 3, 416, 416)\n"
     ]
    },
    {
     "name": "stdout",
     "output_type": "stream",
     "text": [
      "0.7594109\n"
     ]
    },
    {
     "name": "stderr",
     "output_type": "stream",
     "text": [
      "\n",
      "0: 416x416 (no detections), 163.8ms\n",
      "Speed: 3.5ms preprocess, 163.8ms inference, 1.0ms postprocess per image at shape (1, 3, 416, 416)\n",
      "\n",
      "\n",
      "0: 416x416 1 red, 1 yellow, 200.4ms\n",
      "Speed: 3.0ms preprocess, 200.4ms inference, 3.7ms postprocess per image at shape (1, 3, 416, 416)\n",
      "0: 416x416 (no detections), 161.9ms\n",
      "Speed: 2.7ms preprocess, 161.9ms inference, 3.0ms postprocess per image at shape (1, 3, 416, 416)\n"
     ]
    },
    {
     "name": "stdout",
     "output_type": "stream",
     "text": [
      "0.7821679\n"
     ]
    },
    {
     "name": "stderr",
     "output_type": "stream",
     "text": [
      "\n",
      "\n",
      "0: 416x416 (no detections), 168.0ms\n",
      "Speed: 2.0ms preprocess, 168.0ms inference, 1.0ms postprocess per image at shape (1, 3, 416, 416)\n",
      "0: 416x416 1 red, 1 yellow, 162.5ms\n",
      "Speed: 4.0ms preprocess, 162.5ms inference, 1.0ms postprocess per image at shape (1, 3, 416, 416)\n",
      "\n"
     ]
    },
    {
     "name": "stdout",
     "output_type": "stream",
     "text": [
      "0.7275055\n"
     ]
    },
    {
     "name": "stderr",
     "output_type": "stream",
     "text": [
      "0: 416x416 (no detections), 150.1ms\n",
      "Speed: 2.7ms preprocess, 150.1ms inference, 1.0ms postprocess per image at shape (1, 3, 416, 416)\n",
      "\n",
      "\n",
      "0: 416x416 1 red, 1 yellow, 145.1ms\n",
      "Speed: 2.0ms preprocess, 145.1ms inference, 2.1ms postprocess per image at shape (1, 3, 416, 416)\n",
      "0: 416x416 (no detections), 132.9ms\n",
      "Speed: 3.1ms preprocess, 132.9ms inference, 0.0ms postprocess per image at shape (1, 3, 416, 416)\n"
     ]
    },
    {
     "name": "stdout",
     "output_type": "stream",
     "text": [
      "0.79040504\n"
     ]
    },
    {
     "name": "stderr",
     "output_type": "stream",
     "text": [
      "\n",
      "\n",
      "0: 416x416 (no detections), 210.1ms\n",
      "Speed: 4.0ms preprocess, 210.1ms inference, 0.5ms postprocess per image at shape (1, 3, 416, 416)\n",
      "\n",
      "0: 416x416 1 red, 1 yellow, 183.6ms\n",
      "Speed: 3.9ms preprocess, 183.6ms inference, 1.0ms postprocess per image at shape (1, 3, 416, 416)\n",
      "0: 416x416 (no detections), 192.1ms\n"
     ]
    },
    {
     "name": "stdout",
     "output_type": "stream",
     "text": [
      "0.7985128\n"
     ]
    },
    {
     "name": "stderr",
     "output_type": "stream",
     "text": [
      "Speed: 4.2ms preprocess, 192.1ms inference, 1.0ms postprocess per image at shape (1, 3, 416, 416)\n",
      "\n",
      "\n",
      "0: 416x416 (no detections), 154.1ms\n",
      "Speed: 2.5ms preprocess, 154.1ms inference, 1.0ms postprocess per image at shape (1, 3, 416, 416)\n",
      "0: 416x416 1 red, 1 yellow, 136.1ms\n",
      "Speed: 3.0ms preprocess, 136.1ms inference, 1.0ms postprocess per image at shape (1, 3, 416, 416)\n",
      "\n"
     ]
    },
    {
     "name": "stdout",
     "output_type": "stream",
     "text": [
      "0.7859435\n"
     ]
    },
    {
     "name": "stderr",
     "output_type": "stream",
     "text": [
      "0: 416x416 (no detections), 190.7ms\n",
      "Speed: 2.9ms preprocess, 190.7ms inference, 2.5ms postprocess per image at shape (1, 3, 416, 416)\n",
      "\n",
      "\n",
      "0: 416x416 1 red, 1 yellow, 150.9ms\n",
      "Speed: 2.5ms preprocess, 150.9ms inference, 1.0ms postprocess per image at shape (1, 3, 416, 416)\n",
      "0: 416x416 (no detections), 135.4ms\n",
      "Speed: 2.5ms preprocess, 135.4ms inference, 1.0ms postprocess per image at shape (1, 3, 416, 416)\n"
     ]
    },
    {
     "name": "stdout",
     "output_type": "stream",
     "text": [
      "0.79576993\n"
     ]
    },
    {
     "name": "stderr",
     "output_type": "stream",
     "text": [
      "\n",
      "\n",
      "0: 416x416 (no detections), 177.3ms\n",
      "Speed: 3.0ms preprocess, 177.3ms inference, 3.0ms postprocess per image at shape (1, 3, 416, 416)\n",
      "\n",
      "0: 416x416 1 red, 1 yellow, 178.4ms\n",
      "Speed: 3.0ms preprocess, 178.4ms inference, 2.0ms postprocess per image at shape (1, 3, 416, 416)\n",
      "0: 416x416 (no detections), 130.5ms\n",
      "Speed: 3.0ms preprocess, 130.5ms inference, 1.0ms postprocess per image at shape (1, 3, 416, 416)\n"
     ]
    },
    {
     "name": "stdout",
     "output_type": "stream",
     "text": [
      "0.78676087\n"
     ]
    },
    {
     "name": "stderr",
     "output_type": "stream",
     "text": [
      "\n",
      "\n",
      "0: 416x416 (no detections), 148.8ms\n",
      "Speed: 4.2ms preprocess, 148.8ms inference, 1.2ms postprocess per image at shape (1, 3, 416, 416)\n",
      "0: 416x416 1 red, 1 yellow, 142.4ms\n",
      "Speed: 2.3ms preprocess, 142.4ms inference, 2.0ms postprocess per image at shape (1, 3, 416, 416)\n",
      "\n"
     ]
    },
    {
     "name": "stdout",
     "output_type": "stream",
     "text": [
      "0.78390294\n"
     ]
    },
    {
     "name": "stderr",
     "output_type": "stream",
     "text": [
      "0: 416x416 (no detections), 172.7ms\n",
      "Speed: 3.1ms preprocess, 172.7ms inference, 1.5ms postprocess per image at shape (1, 3, 416, 416)\n",
      "\n",
      "\n",
      "0: 416x416 1 red, 1 yellow, 157.3ms\n",
      "Speed: 4.3ms preprocess, 157.3ms inference, 2.0ms postprocess per image at shape (1, 3, 416, 416)\n",
      "0: 416x416 (no detections), 148.1ms\n",
      "Speed: 2.0ms preprocess, 148.1ms inference, 1.0ms postprocess per image at shape (1, 3, 416, 416)\n"
     ]
    },
    {
     "name": "stdout",
     "output_type": "stream",
     "text": [
      "0.7896387\n"
     ]
    },
    {
     "name": "stderr",
     "output_type": "stream",
     "text": [
      "\n",
      "\n",
      "0: 416x416 (no detections), 145.1ms\n",
      "Speed: 2.0ms preprocess, 145.1ms inference, 1.0ms postprocess per image at shape (1, 3, 416, 416)\n",
      "\n",
      "0: 416x416 1 red, 1 yellow, 187.6ms\n",
      "Speed: 2.0ms preprocess, 187.6ms inference, 2.0ms postprocess per image at shape (1, 3, 416, 416)\n",
      "0: 416x416 (no detections), 180.8ms\n",
      "Speed: 4.6ms preprocess, 180.8ms inference, 1.0ms postprocess per image at shape (1, 3, 416, 416)\n"
     ]
    },
    {
     "name": "stdout",
     "output_type": "stream",
     "text": [
      "0.7983019\n"
     ]
    },
    {
     "name": "stderr",
     "output_type": "stream",
     "text": [
      "\n",
      "\n",
      "0: 416x416 (no detections), 164.0ms\n",
      "Speed: 2.9ms preprocess, 164.0ms inference, 1.0ms postprocess per image at shape (1, 3, 416, 416)\n",
      "0: 416x416 1 red, 1 yellow, 153.0ms\n",
      "Speed: 3.7ms preprocess, 153.0ms inference, 2.6ms postprocess per image at shape (1, 3, 416, 416)\n",
      "\n"
     ]
    },
    {
     "name": "stdout",
     "output_type": "stream",
     "text": [
      "0.79234415\n"
     ]
    },
    {
     "name": "stderr",
     "output_type": "stream",
     "text": [
      "0: 416x416 (no detections), 179.9ms\n",
      "Speed: 3.0ms preprocess, 179.9ms inference, 1.4ms postprocess per image at shape (1, 3, 416, 416)\n",
      "\n",
      "\n",
      "0: 416x416 1 red, 1 yellow, 162.0ms\n",
      "Speed: 3.0ms preprocess, 162.0ms inference, 2.0ms postprocess per image at shape (1, 3, 416, 416)\n",
      "0: 416x416 (no detections), 150.2ms\n",
      "Speed: 2.1ms preprocess, 150.2ms inference, 2.0ms postprocess per image at shape (1, 3, 416, 416)\n"
     ]
    },
    {
     "name": "stdout",
     "output_type": "stream",
     "text": [
      "0.79377764\n"
     ]
    },
    {
     "name": "stderr",
     "output_type": "stream",
     "text": [
      "\n",
      "0: 416x416 (no detections), 189.1ms\n",
      "\n",
      "Speed: 1.7ms preprocess, 189.1ms inference, 4.0ms postprocess per image at shape (1, 3, 416, 416)\n",
      "\n",
      "0: 416x416 1 red, 1 yellow, 217.7ms\n",
      "Speed: 7.5ms preprocess, 217.7ms inference, 1.0ms postprocess per image at shape (1, 3, 416, 416)\n",
      "0: 416x416 (no detections), 184.1ms\n",
      "Speed: 3.0ms preprocess, 184.1ms inference, 0.5ms postprocess per image at shape (1, 3, 416, 416)\n"
     ]
    },
    {
     "name": "stdout",
     "output_type": "stream",
     "text": [
      "0.79038996\n"
     ]
    },
    {
     "name": "stderr",
     "output_type": "stream",
     "text": [
      "\n",
      "\n",
      "0: 416x416 1 red, 1 yellow, 162.1ms\n",
      "Speed: 4.9ms preprocess, 162.1ms inference, 1.4ms postprocess per image at shape (1, 3, 416, 416)\n",
      "0: 416x416 (no detections), 136.0ms\n",
      "Speed: 5.0ms preprocess, 136.0ms inference, 1.0ms postprocess per image at shape (1, 3, 416, 416)\n"
     ]
    },
    {
     "name": "stdout",
     "output_type": "stream",
     "text": [
      "0.7771455\n"
     ]
    },
    {
     "name": "stderr",
     "output_type": "stream",
     "text": [
      "\n",
      "\n",
      "0: 416x416 (no detections), 180.7ms\n",
      "Speed: 8.0ms preprocess, 180.7ms inference, 1.1ms postprocess per image at shape (1, 3, 416, 416)\n",
      "\n",
      "0: 416x416 1 red, 1 yellow, 183.5ms\n",
      "Speed: 3.5ms preprocess, 183.5ms inference, 1.0ms postprocess per image at shape (1, 3, 416, 416)\n"
     ]
    },
    {
     "name": "stdout",
     "output_type": "stream",
     "text": [
      "0.7944898\n"
     ]
    },
    {
     "name": "stderr",
     "output_type": "stream",
     "text": [
      "0: 416x416 (no detections), 206.3ms\n",
      "Speed: 2.0ms preprocess, 206.3ms inference, 2.1ms postprocess per image at shape (1, 3, 416, 416)\n",
      "\n",
      "\n",
      "0: 416x416 (no detections), 166.7ms\n",
      "Speed: 3.3ms preprocess, 166.7ms inference, 1.0ms postprocess per image at shape (1, 3, 416, 416)\n",
      "0: 416x416 1 red, 1 yellow, 159.1ms\n",
      "Speed: 2.5ms preprocess, 159.1ms inference, 3.5ms postprocess per image at shape (1, 3, 416, 416)\n",
      "\n"
     ]
    },
    {
     "name": "stdout",
     "output_type": "stream",
     "text": [
      "0.7662978\n"
     ]
    },
    {
     "name": "stderr",
     "output_type": "stream",
     "text": [
      "0: 416x416 (no detections), 191.2ms\n",
      "Speed: 3.0ms preprocess, 191.2ms inference, 2.1ms postprocess per image at shape (1, 3, 416, 416)\n",
      "\n",
      "\n",
      "0: 416x416 1 red, 1 yellow, 154.5ms\n",
      "Speed: 3.0ms preprocess, 154.5ms inference, 2.0ms postprocess per image at shape (1, 3, 416, 416)\n",
      "0: 416x416 (no detections), 137.9ms\n",
      "Speed: 2.5ms preprocess, 137.9ms inference, 0.0ms postprocess per image at shape (1, 3, 416, 416)\n"
     ]
    },
    {
     "name": "stdout",
     "output_type": "stream",
     "text": [
      "0.7909304\n"
     ]
    },
    {
     "name": "stderr",
     "output_type": "stream",
     "text": [
      "\n",
      "\n",
      "0: 416x416 (no detections), 183.9ms\n",
      "Speed: 3.0ms preprocess, 183.9ms inference, 1.4ms postprocess per image at shape (1, 3, 416, 416)\n",
      "\n",
      "0: 416x416 1 red, 1 yellow, 169.8ms\n",
      "Speed: 3.5ms preprocess, 169.8ms inference, 2.5ms postprocess per image at shape (1, 3, 416, 416)\n"
     ]
    },
    {
     "name": "stdout",
     "output_type": "stream",
     "text": [
      "0.7875691\n"
     ]
    },
    {
     "name": "stderr",
     "output_type": "stream",
     "text": [
      "0: 416x416 (no detections), 229.3ms\n",
      "Speed: 3.5ms preprocess, 229.3ms inference, 2.1ms postprocess per image at shape (1, 3, 416, 416)\n",
      "\n",
      "\n",
      "0: 416x416 (no detections), 176.0ms\n",
      "Speed: 4.8ms preprocess, 176.0ms inference, 2.0ms postprocess per image at shape (1, 3, 416, 416)\n",
      "0: 416x416 1 red, 1 yellow, 136.2ms\n",
      "Speed: 5.9ms preprocess, 136.2ms inference, 1.0ms postprocess per image at shape (1, 3, 416, 416)\n",
      "\n"
     ]
    },
    {
     "name": "stdout",
     "output_type": "stream",
     "text": [
      "0.79812384\n"
     ]
    },
    {
     "name": "stderr",
     "output_type": "stream",
     "text": [
      "0: 416x416 (no detections), 181.0ms\n",
      "Speed: 3.0ms preprocess, 181.0ms inference, 2.0ms postprocess per image at shape (1, 3, 416, 416)\n",
      "\n",
      "\n",
      "0: 416x416 1 red, 1 yellow, 170.5ms\n",
      "Speed: 2.0ms preprocess, 170.5ms inference, 2.0ms postprocess per image at shape (1, 3, 416, 416)\n",
      "0: 416x416 (no detections), 142.5ms\n",
      "Speed: 2.0ms preprocess, 142.5ms inference, 1.2ms postprocess per image at shape (1, 3, 416, 416)\n",
      "\n"
     ]
    },
    {
     "name": "stdout",
     "output_type": "stream",
     "text": [
      "0.7789838\n"
     ]
    },
    {
     "name": "stderr",
     "output_type": "stream",
     "text": [
      "\n",
      "0: 416x416 (no detections), 210.1ms\n",
      "Speed: 6.5ms preprocess, 210.1ms inference, 2.0ms postprocess per image at shape (1, 3, 416, 416)\n",
      "\n",
      "0: 416x416 1 red, 1 yellow, 140.3ms\n",
      "Speed: 4.0ms preprocess, 140.3ms inference, 2.0ms postprocess per image at shape (1, 3, 416, 416)\n",
      "0: 416x416 (no detections), 154.7ms\n",
      "Speed: 5.5ms preprocess, 154.7ms inference, 1.0ms postprocess per image at shape (1, 3, 416, 416)\n"
     ]
    },
    {
     "name": "stdout",
     "output_type": "stream",
     "text": [
      "0.7937753\n"
     ]
    },
    {
     "name": "stderr",
     "output_type": "stream",
     "text": [
      "\n",
      "\n",
      "0: 416x416 (no detections), 164.8ms\n",
      "Speed: 4.3ms preprocess, 164.8ms inference, 1.0ms postprocess per image at shape (1, 3, 416, 416)\n",
      "0: 416x416 1 red, 1 yellow, 172.0ms\n",
      "Speed: 2.1ms preprocess, 172.0ms inference, 2.5ms postprocess per image at shape (1, 3, 416, 416)\n",
      "\n"
     ]
    },
    {
     "name": "stdout",
     "output_type": "stream",
     "text": [
      "0.7988954\n"
     ]
    },
    {
     "name": "stderr",
     "output_type": "stream",
     "text": [
      "0: 416x416 (no detections), 198.2ms\n",
      "Speed: 3.8ms preprocess, 198.2ms inference, 1.9ms postprocess per image at shape (1, 3, 416, 416)\n",
      "\n",
      "\n",
      "0: 416x416 1 red, 1 yellow, 191.7ms\n",
      "Speed: 3.1ms preprocess, 191.7ms inference, 2.0ms postprocess per image at shape (1, 3, 416, 416)\n",
      "0: 416x416 (no detections), 178.0ms\n",
      "Speed: 4.1ms preprocess, 178.0ms inference, 2.0ms postprocess per image at shape (1, 3, 416, 416)\n",
      "\n"
     ]
    },
    {
     "name": "stdout",
     "output_type": "stream",
     "text": [
      "0.7616045\n"
     ]
    },
    {
     "name": "stderr",
     "output_type": "stream",
     "text": [
      "\n",
      "0: 416x416 (no detections), 163.9ms\n",
      "Speed: 3.3ms preprocess, 163.9ms inference, 1.0ms postprocess per image at shape (1, 3, 416, 416)\n",
      "\n",
      "0: 416x416 1 red, 1 yellow, 175.4ms\n",
      "Speed: 2.4ms preprocess, 175.4ms inference, 2.5ms postprocess per image at shape (1, 3, 416, 416)\n",
      "0: 416x416 (no detections), 185.7ms\n",
      "Speed: 2.9ms preprocess, 185.7ms inference, 1.0ms postprocess per image at shape (1, 3, 416, 416)\n"
     ]
    },
    {
     "name": "stdout",
     "output_type": "stream",
     "text": [
      "0.7831699\n"
     ]
    },
    {
     "name": "stderr",
     "output_type": "stream",
     "text": [
      "\n",
      "\n",
      "0: 416x416 (no detections), 183.0ms\n",
      "Speed: 2.7ms preprocess, 183.0ms inference, 1.0ms postprocess per image at shape (1, 3, 416, 416)\n",
      "0: 416x416 1 red, 1 yellow, 160.2ms\n",
      "Speed: 4.0ms preprocess, 160.2ms inference, 1.7ms postprocess per image at shape (1, 3, 416, 416)\n",
      "\n"
     ]
    },
    {
     "name": "stdout",
     "output_type": "stream",
     "text": [
      "0.791158\n"
     ]
    },
    {
     "name": "stderr",
     "output_type": "stream",
     "text": [
      "0: 416x416 (no detections), 221.1ms\n",
      "Speed: 3.0ms preprocess, 221.1ms inference, 1.9ms postprocess per image at shape (1, 3, 416, 416)\n",
      "\n",
      "\n",
      "0: 416x416 1 red, 1 yellow, 172.4ms\n",
      "Speed: 4.9ms preprocess, 172.4ms inference, 1.8ms postprocess per image at shape (1, 3, 416, 416)\n",
      "0: 416x416 (no detections), 182.2ms\n",
      "Speed: 4.0ms preprocess, 182.2ms inference, 1.0ms postprocess per image at shape (1, 3, 416, 416)\n"
     ]
    },
    {
     "name": "stdout",
     "output_type": "stream",
     "text": [
      "0.800856\n"
     ]
    },
    {
     "name": "stderr",
     "output_type": "stream",
     "text": [
      "\n",
      "\n",
      "0: 416x416 (no detections), 199.0ms\n",
      "Speed: 4.1ms preprocess, 199.0ms inference, 2.0ms postprocess per image at shape (1, 3, 416, 416)\n",
      "\n",
      "0: 416x416 1 red, 1 yellow, 178.2ms\n",
      "Speed: 4.2ms preprocess, 178.2ms inference, 3.0ms postprocess per image at shape (1, 3, 416, 416)\n",
      "0: 416x416 (no detections), 196.3ms\n",
      "Speed: 3.0ms preprocess, 196.3ms inference, 1.0ms postprocess per image at shape (1, 3, 416, 416)\n"
     ]
    },
    {
     "name": "stdout",
     "output_type": "stream",
     "text": [
      "0.7631687\n"
     ]
    },
    {
     "name": "stderr",
     "output_type": "stream",
     "text": [
      "\n",
      "\n",
      "0: 416x416 (no detections), 156.8ms\n",
      "Speed: 4.0ms preprocess, 156.8ms inference, 1.0ms postprocess per image at shape (1, 3, 416, 416)\n",
      "0: 416x416 1 red, 1 yellow, 128.5ms\n",
      "Speed: 2.6ms preprocess, 128.5ms inference, 1.0ms postprocess per image at shape (1, 3, 416, 416)\n",
      "\n"
     ]
    },
    {
     "name": "stdout",
     "output_type": "stream",
     "text": [
      "0.7901947\n"
     ]
    },
    {
     "name": "stderr",
     "output_type": "stream",
     "text": [
      "0: 416x416 (no detections), 198.6ms\n",
      "Speed: 1.9ms preprocess, 198.6ms inference, 2.5ms postprocess per image at shape (1, 3, 416, 416)\n",
      "\n",
      "\n",
      "0: 416x416 1 red, 1 yellow, 177.8ms\n",
      "Speed: 2.0ms preprocess, 177.8ms inference, 2.0ms postprocess per image at shape (1, 3, 416, 416)\n",
      "0: 416x416 (no detections), 174.6ms\n",
      "Speed: 3.5ms preprocess, 174.6ms inference, 1.0ms postprocess per image at shape (1, 3, 416, 416)\n"
     ]
    },
    {
     "name": "stdout",
     "output_type": "stream",
     "text": [
      "0.7867394\n"
     ]
    },
    {
     "name": "stderr",
     "output_type": "stream",
     "text": [
      "\n",
      "\n",
      "0: 416x416 (no detections), 195.0ms\n",
      "Speed: 4.7ms preprocess, 195.0ms inference, 1.9ms postprocess per image at shape (1, 3, 416, 416)\n",
      "\n",
      "0: 416x416 1 red, 1 yellow, 177.6ms\n",
      "Speed: 1.9ms preprocess, 177.6ms inference, 2.0ms postprocess per image at shape (1, 3, 416, 416)\n",
      "0: 416x416 (no detections), 181.8ms\n",
      "Speed: 3.5ms preprocess, 181.8ms inference, 1.0ms postprocess per image at shape (1, 3, 416, 416)\n"
     ]
    },
    {
     "name": "stdout",
     "output_type": "stream",
     "text": [
      "0.78120536\n"
     ]
    },
    {
     "name": "stderr",
     "output_type": "stream",
     "text": [
      "\n",
      "\n",
      "0: 416x416 (no detections), 134.0ms\n",
      "Speed: 2.7ms preprocess, 134.0ms inference, 2.0ms postprocess per image at shape (1, 3, 416, 416)\n",
      "0: 416x416 1 red, 1 yellow, 130.1ms\n",
      "Speed: 2.6ms preprocess, 130.1ms inference, 2.0ms postprocess per image at shape (1, 3, 416, 416)\n",
      "\n"
     ]
    },
    {
     "name": "stdout",
     "output_type": "stream",
     "text": [
      "0.7817132\n"
     ]
    },
    {
     "name": "stderr",
     "output_type": "stream",
     "text": [
      "0: 416x416 (no detections), 195.2ms\n",
      "Speed: 3.9ms preprocess, 195.2ms inference, 1.0ms postprocess per image at shape (1, 3, 416, 416)\n",
      "\n",
      "\n",
      "0: 416x416 1 red, 1 yellow, 166.1ms\n",
      "Speed: 2.0ms preprocess, 166.1ms inference, 2.0ms postprocess per image at shape (1, 3, 416, 416)\n",
      "0: 416x416 (no detections), 132.8ms\n",
      "Speed: 1.9ms preprocess, 132.8ms inference, 1.0ms postprocess per image at shape (1, 3, 416, 416)\n"
     ]
    },
    {
     "name": "stdout",
     "output_type": "stream",
     "text": [
      "0.7869903\n"
     ]
    },
    {
     "name": "stderr",
     "output_type": "stream",
     "text": [
      "\n",
      "\n",
      "0: 416x416 (no detections), 128.4ms\n",
      "Speed: 2.5ms preprocess, 128.4ms inference, 0.0ms postprocess per image at shape (1, 3, 416, 416)\n",
      "0: 416x416 1 red, 1 yellow, 102.4ms\n",
      "Speed: 1.5ms preprocess, 102.4ms inference, 1.0ms postprocess per image at shape (1, 3, 416, 416)\n",
      "\n"
     ]
    },
    {
     "name": "stdout",
     "output_type": "stream",
     "text": [
      "0.7955445\n"
     ]
    },
    {
     "name": "stderr",
     "output_type": "stream",
     "text": [
      "0: 416x416 (no detections), 128.2ms\n",
      "Speed: 2.0ms preprocess, 128.2ms inference, 1.0ms postprocess per image at shape (1, 3, 416, 416)\n",
      "\n",
      "\n",
      "0: 416x416 1 red, 1 yellow, 186.3ms\n",
      "Speed: 3.5ms preprocess, 186.3ms inference, 2.1ms postprocess per image at shape (1, 3, 416, 416)\n",
      "0: 416x416 (no detections), 173.8ms\n",
      "Speed: 3.0ms preprocess, 173.8ms inference, 1.0ms postprocess per image at shape (1, 3, 416, 416)\n"
     ]
    },
    {
     "name": "stdout",
     "output_type": "stream",
     "text": [
      "0.791269\n"
     ]
    },
    {
     "name": "stderr",
     "output_type": "stream",
     "text": [
      "\n",
      "\n",
      "0: 416x416 (no detections), 181.2ms\n",
      "Speed: 4.1ms preprocess, 181.2ms inference, 2.0ms postprocess per image at shape (1, 3, 416, 416)\n",
      "\n",
      "0: 416x416 1 red, 1 yellow, 166.2ms\n",
      "Speed: 2.2ms preprocess, 166.2ms inference, 3.0ms postprocess per image at shape (1, 3, 416, 416)\n",
      "0: 416x416 (no detections), 158.1ms\n",
      "Speed: 6.0ms preprocess, 158.1ms inference, 1.0ms postprocess per image at shape (1, 3, 416, 416)\n"
     ]
    },
    {
     "name": "stdout",
     "output_type": "stream",
     "text": [
      "0.77703637\n"
     ]
    },
    {
     "name": "stderr",
     "output_type": "stream",
     "text": [
      "\n",
      "\n",
      "0: 416x416 (no detections), 157.1ms\n",
      "Speed: 6.8ms preprocess, 157.1ms inference, 1.0ms postprocess per image at shape (1, 3, 416, 416)\n",
      "0: 416x416 1 red, 1 yellow, 122.6ms\n",
      "Speed: 5.5ms preprocess, 122.6ms inference, 1.0ms postprocess per image at shape (1, 3, 416, 416)\n",
      "\n"
     ]
    },
    {
     "name": "stdout",
     "output_type": "stream",
     "text": [
      "0.7786208\n"
     ]
    },
    {
     "name": "stderr",
     "output_type": "stream",
     "text": [
      "0: 416x416 (no detections), 131.9ms\n",
      "Speed: 2.6ms preprocess, 131.9ms inference, 1.0ms postprocess per image at shape (1, 3, 416, 416)\n",
      "\n",
      "\n",
      "0: 416x416 1 red, 1 yellow, 166.5ms\n",
      "Speed: 2.2ms preprocess, 166.5ms inference, 1.0ms postprocess per image at shape (1, 3, 416, 416)\n",
      "0: 416x416 (no detections), 121.7ms\n",
      "Speed: 4.0ms preprocess, 121.7ms inference, 0.0ms postprocess per image at shape (1, 3, 416, 416)\n"
     ]
    },
    {
     "name": "stdout",
     "output_type": "stream",
     "text": [
      "0.7952433\n"
     ]
    },
    {
     "name": "stderr",
     "output_type": "stream",
     "text": [
      "\n",
      "\n",
      "0: 416x416 (no detections), 200.8ms\n",
      "Speed: 5.0ms preprocess, 200.8ms inference, 2.0ms postprocess per image at shape (1, 3, 416, 416)\n",
      "0: 416x416 1 red, 1 yellow, 163.4ms\n",
      "\n",
      "Speed: 2.9ms preprocess, 163.4ms inference, 2.0ms postprocess per image at shape (1, 3, 416, 416)\n",
      "0: 416x416 (no detections), 134.0ms\n",
      "Speed: 3.0ms preprocess, 134.0ms inference, 1.0ms postprocess per image at shape (1, 3, 416, 416)\n"
     ]
    },
    {
     "name": "stdout",
     "output_type": "stream",
     "text": [
      "0.66607636\n"
     ]
    },
    {
     "name": "stderr",
     "output_type": "stream",
     "text": [
      "\n",
      "\n",
      "0: 416x416 (no detections), 179.9ms\n",
      "Speed: 10.5ms preprocess, 179.9ms inference, 2.2ms postprocess per image at shape (1, 3, 416, 416)\n",
      "0: 416x416 1 red, 1 yellow, 143.6ms\n",
      "Speed: 7.9ms preprocess, 143.6ms inference, 2.5ms postprocess per image at shape (1, 3, 416, 416)\n",
      "\n"
     ]
    },
    {
     "name": "stdout",
     "output_type": "stream",
     "text": [
      "0.70546955\n"
     ]
    },
    {
     "name": "stderr",
     "output_type": "stream",
     "text": [
      "0: 416x416 (no detections), 204.3ms\n",
      "Speed: 9.6ms preprocess, 204.3ms inference, 1.0ms postprocess per image at shape (1, 3, 416, 416)\n",
      "\n",
      "\n",
      "0: 416x416 1 red, 1 yellow, 201.7ms\n",
      "Speed: 2.0ms preprocess, 201.7ms inference, 1.0ms postprocess per image at shape (1, 3, 416, 416)\n",
      "0: 416x416 (no detections), 173.7ms\n",
      "Speed: 4.4ms preprocess, 173.7ms inference, 1.0ms postprocess per image at shape (1, 3, 416, 416)\n"
     ]
    },
    {
     "name": "stdout",
     "output_type": "stream",
     "text": [
      "0.81988126\n"
     ]
    },
    {
     "name": "stderr",
     "output_type": "stream",
     "text": [
      "\n",
      "0: 416x416 (no detections), 151.9ms\n",
      "Speed: 2.7ms preprocess, 151.9ms inference, 1.0ms postprocess per image at shape (1, 3, 416, 416)\n",
      "\n",
      "0: 416x416 1 red, 162.1ms\n",
      "Speed: 2.0ms preprocess, 162.1ms inference, 2.0ms postprocess per image at shape (1, 3, 416, 416)\n",
      "\n"
     ]
    },
    {
     "name": "stdout",
     "output_type": "stream",
     "text": [
      "0.78903\n"
     ]
    },
    {
     "name": "stderr",
     "output_type": "stream",
     "text": [
      "0: 416x416 (no detections), 117.4ms\n",
      "Speed: 2.1ms preprocess, 117.4ms inference, 0.0ms postprocess per image at shape (1, 3, 416, 416)\n",
      "\n",
      "\n",
      "0: 416x416 1 red, 171.9ms\n",
      "Speed: 3.3ms preprocess, 171.9ms inference, 2.0ms postprocess per image at shape (1, 3, 416, 416)\n",
      "0: 416x416 (no detections), 184.9ms\n",
      "Speed: 5.3ms preprocess, 184.9ms inference, 1.4ms postprocess per image at shape (1, 3, 416, 416)\n"
     ]
    },
    {
     "name": "stdout",
     "output_type": "stream",
     "text": [
      "0.67418337\n"
     ]
    },
    {
     "name": "stderr",
     "output_type": "stream",
     "text": [
      "\n",
      "0: 416x416 (no detections), 151.9ms\n",
      "Speed: 2.0ms preprocess, 151.9ms inference, 1.0ms postprocess per image at shape (1, 3, 416, 416)\n",
      "\n",
      "0: 416x416 1 green, 120.9ms\n",
      "Speed: 2.5ms preprocess, 120.9ms inference, 2.0ms postprocess per image at shape (1, 3, 416, 416)\n",
      "\n",
      "0: 416x416 (no detections), 151.3ms\n"
     ]
    },
    {
     "name": "stdout",
     "output_type": "stream",
     "text": [
      "0.82002705\n"
     ]
    },
    {
     "name": "stderr",
     "output_type": "stream",
     "text": [
      "Speed: 2.0ms preprocess, 151.3ms inference, 1.0ms postprocess per image at shape (1, 3, 416, 416)\n",
      "\n",
      "\n",
      "0: 416x416 (no detections), 238.6ms\n",
      "Speed: 7.7ms preprocess, 238.6ms inference, 3.0ms postprocess per image at shape (1, 3, 416, 416)\n",
      "0: 416x416 1 green, 204.7ms\n",
      "Speed: 7.3ms preprocess, 204.7ms inference, 4.0ms postprocess per image at shape (1, 3, 416, 416)\n",
      "\n"
     ]
    },
    {
     "name": "stdout",
     "output_type": "stream",
     "text": [
      "0.8230997\n"
     ]
    },
    {
     "name": "stderr",
     "output_type": "stream",
     "text": [
      "\n",
      "0: 416x416 (no detections), 177.2ms\n",
      "Speed: 6.5ms preprocess, 177.2ms inference, 1.0ms postprocess per image at shape (1, 3, 416, 416)\n",
      "0: 416x416 1 green, 124.6ms\n",
      "Speed: 2.0ms preprocess, 124.6ms inference, 1.0ms postprocess per image at shape (1, 3, 416, 416)\n",
      "\n"
     ]
    },
    {
     "name": "stdout",
     "output_type": "stream",
     "text": [
      "0.8207128\n"
     ]
    },
    {
     "name": "stderr",
     "output_type": "stream",
     "text": [
      "0: 416x416 (no detections), 147.2ms\n",
      "Speed: 2.9ms preprocess, 147.2ms inference, 3.0ms postprocess per image at shape (1, 3, 416, 416)\n",
      "\n",
      "\n",
      "0: 416x416 (no detections), 165.3ms\n",
      "Speed: 4.8ms preprocess, 165.3ms inference, 0.9ms postprocess per image at shape (1, 3, 416, 416)\n",
      "0: 416x416 1 green, 144.1ms\n",
      "Speed: 3.4ms preprocess, 144.1ms inference, 3.0ms postprocess per image at shape (1, 3, 416, 416)\n",
      "\n"
     ]
    },
    {
     "name": "stdout",
     "output_type": "stream",
     "text": [
      "0.82458955\n"
     ]
    },
    {
     "name": "stderr",
     "output_type": "stream",
     "text": [
      "0: 416x416 (no detections), 137.0ms\n",
      "Speed: 2.0ms preprocess, 137.0ms inference, 1.0ms postprocess per image at shape (1, 3, 416, 416)\n",
      "\n",
      "\n",
      "0: 416x416 1 green, 161.8ms\n",
      "Speed: 4.0ms preprocess, 161.8ms inference, 2.5ms postprocess per image at shape (1, 3, 416, 416)\n",
      "0: 416x416 (no detections), 150.8ms\n",
      "Speed: 3.0ms preprocess, 150.8ms inference, 1.5ms postprocess per image at shape (1, 3, 416, 416)\n"
     ]
    },
    {
     "name": "stdout",
     "output_type": "stream",
     "text": [
      "0.82170755\n"
     ]
    },
    {
     "name": "stderr",
     "output_type": "stream",
     "text": [
      "\n",
      "\n",
      "0: 416x416 (no detections), 177.6ms\n",
      "Speed: 3.2ms preprocess, 177.6ms inference, 2.0ms postprocess per image at shape (1, 3, 416, 416)\n",
      "0: 416x416 1 green, 149.4ms\n",
      "Speed: 4.0ms preprocess, 149.4ms inference, 1.0ms postprocess per image at shape (1, 3, 416, 416)\n",
      "\n"
     ]
    },
    {
     "name": "stdout",
     "output_type": "stream",
     "text": [
      "0.8195058\n"
     ]
    },
    {
     "name": "stderr",
     "output_type": "stream",
     "text": [
      "0: 416x416 (no detections), 166.5ms\n",
      "Speed: 6.0ms preprocess, 166.5ms inference, 1.0ms postprocess per image at shape (1, 3, 416, 416)\n",
      "\n",
      "\n",
      "0: 416x416 1 green, 195.8ms\n",
      "Speed: 3.0ms preprocess, 195.8ms inference, 2.0ms postprocess per image at shape (1, 3, 416, 416)\n",
      "0: 416x416 (no detections), 185.2ms\n",
      "Speed: 4.0ms preprocess, 185.2ms inference, 0.0ms postprocess per image at shape (1, 3, 416, 416)\n"
     ]
    },
    {
     "name": "stdout",
     "output_type": "stream",
     "text": [
      "0.82451206\n"
     ]
    },
    {
     "name": "stderr",
     "output_type": "stream",
     "text": [
      "\n",
      "\n",
      "0: 416x416 (no detections), 215.2ms\n",
      "Speed: 3.5ms preprocess, 215.2ms inference, 1.5ms postprocess per image at shape (1, 3, 416, 416)\n",
      "0: 416x416 1 green, 198.4ms\n",
      "Speed: 4.0ms preprocess, 198.4ms inference, 2.0ms postprocess per image at shape (1, 3, 416, 416)\n",
      "\n"
     ]
    },
    {
     "name": "stdout",
     "output_type": "stream",
     "text": [
      "0.79704267\n"
     ]
    },
    {
     "name": "stderr",
     "output_type": "stream",
     "text": [
      "\n",
      "0: 416x416 (no detections), 232.7ms\n",
      "Speed: 4.0ms preprocess, 232.7ms inference, 1.9ms postprocess per image at shape (1, 3, 416, 416)\n",
      "\n",
      "0: 416x416 1 green, 229.4ms\n",
      "Speed: 4.0ms preprocess, 229.4ms inference, 2.0ms postprocess per image at shape (1, 3, 416, 416)\n"
     ]
    },
    {
     "name": "stdout",
     "output_type": "stream",
     "text": [
      "0.78252065\n"
     ]
    },
    {
     "name": "stderr",
     "output_type": "stream",
     "text": [
      "0: 416x416 (no detections), 232.2ms\n",
      "Speed: 4.6ms preprocess, 232.2ms inference, 2.0ms postprocess per image at shape (1, 3, 416, 416)\n",
      "\n",
      "\n",
      "0: 416x416 1 green, 204.0ms\n",
      "Speed: 4.5ms preprocess, 204.0ms inference, 2.0ms postprocess per image at shape (1, 3, 416, 416)\n",
      "0: 416x416 (no detections), 190.3ms\n",
      "Speed: 4.5ms preprocess, 190.3ms inference, 1.0ms postprocess per image at shape (1, 3, 416, 416)\n"
     ]
    },
    {
     "name": "stdout",
     "output_type": "stream",
     "text": [
      "0.794797\n"
     ]
    },
    {
     "name": "stderr",
     "output_type": "stream",
     "text": [
      "\n",
      "\n",
      "0: 416x416 (no detections), 201.8ms\n",
      "Speed: 3.6ms preprocess, 201.8ms inference, 1.0ms postprocess per image at shape (1, 3, 416, 416)\n",
      "0: 416x416 1 green, 177.0ms\n",
      "Speed: 4.0ms preprocess, 177.0ms inference, 2.0ms postprocess per image at shape (1, 3, 416, 416)\n",
      "\n"
     ]
    },
    {
     "name": "stdout",
     "output_type": "stream",
     "text": [
      "0.8140097\n"
     ]
    },
    {
     "name": "stderr",
     "output_type": "stream",
     "text": [
      "\n",
      "0: 416x416 (no detections), 229.5ms\n",
      "Speed: 4.3ms preprocess, 229.5ms inference, 2.0ms postprocess per image at shape (1, 3, 416, 416)\n",
      "\n",
      "0: 416x416 1 green, 200.0ms\n",
      "Speed: 3.3ms preprocess, 200.0ms inference, 11.3ms postprocess per image at shape (1, 3, 416, 416)\n",
      "0: 416x416 (no detections), 167.9ms\n",
      "Speed: 5.9ms preprocess, 167.9ms inference, 1.0ms postprocess per image at shape (1, 3, 416, 416)\n"
     ]
    },
    {
     "name": "stdout",
     "output_type": "stream",
     "text": [
      "0.7712842\n"
     ]
    },
    {
     "name": "stderr",
     "output_type": "stream",
     "text": [
      "\n",
      "\n",
      "0: 416x416 1 green, 197.1ms\n",
      "Speed: 4.1ms preprocess, 197.1ms inference, 2.0ms postprocess per image at shape (1, 3, 416, 416)\n",
      "0: 416x416 (no detections), 180.2ms\n",
      "Speed: 3.5ms preprocess, 180.2ms inference, 2.0ms postprocess per image at shape (1, 3, 416, 416)\n"
     ]
    },
    {
     "name": "stdout",
     "output_type": "stream",
     "text": [
      "0.80799955\n"
     ]
    },
    {
     "name": "stderr",
     "output_type": "stream",
     "text": [
      "\n",
      "\n",
      "0: 416x416 (no detections), 214.8ms\n",
      "Speed: 4.5ms preprocess, 214.8ms inference, 1.0ms postprocess per image at shape (1, 3, 416, 416)\n",
      "0: 416x416 1 green, 173.4ms\n",
      "Speed: 5.9ms preprocess, 173.4ms inference, 2.0ms postprocess per image at shape (1, 3, 416, 416)\n",
      "\n"
     ]
    },
    {
     "name": "stdout",
     "output_type": "stream",
     "text": [
      "0.8178146\n"
     ]
    },
    {
     "name": "stderr",
     "output_type": "stream",
     "text": [
      "\n",
      "0: 416x416 (no detections), 240.8ms\n",
      "Speed: 3.1ms preprocess, 240.8ms inference, 3.0ms postprocess per image at shape (1, 3, 416, 416)\n",
      "\n",
      "0: 416x416 1 green, 210.3ms\n",
      "Speed: 6.0ms preprocess, 210.3ms inference, 3.5ms postprocess per image at shape (1, 3, 416, 416)\n"
     ]
    },
    {
     "name": "stdout",
     "output_type": "stream",
     "text": [
      "0.85918444\n"
     ]
    },
    {
     "name": "stderr",
     "output_type": "stream",
     "text": [
      "0: 416x416 (no detections), 203.5ms\n",
      "Speed: 3.0ms preprocess, 203.5ms inference, 1.5ms postprocess per image at shape (1, 3, 416, 416)\n",
      "\n",
      "\n",
      "0: 416x416 1 green, 222.1ms\n",
      "Speed: 5.0ms preprocess, 222.1ms inference, 3.5ms postprocess per image at shape (1, 3, 416, 416)\n",
      "0: 416x416 (no detections), 216.0ms\n",
      "Speed: 5.5ms preprocess, 216.0ms inference, 1.0ms postprocess per image at shape (1, 3, 416, 416)\n"
     ]
    },
    {
     "name": "stdout",
     "output_type": "stream",
     "text": [
      "0.82680285\n"
     ]
    },
    {
     "name": "stderr",
     "output_type": "stream",
     "text": [
      "\n",
      "\n",
      "0: 416x416 (no detections), 206.2ms\n",
      "Speed: 4.5ms preprocess, 206.2ms inference, 1.0ms postprocess per image at shape (1, 3, 416, 416)\n",
      "0: 416x416 1 green, 180.2ms\n",
      "Speed: 2.3ms preprocess, 180.2ms inference, 1.0ms postprocess per image at shape (1, 3, 416, 416)\n",
      "\n"
     ]
    },
    {
     "name": "stdout",
     "output_type": "stream",
     "text": [
      "0.82991284\n"
     ]
    },
    {
     "name": "stderr",
     "output_type": "stream",
     "text": [
      "\n",
      "0: 416x416 (no detections), 205.8ms\n",
      "Speed: 3.8ms preprocess, 205.8ms inference, 2.0ms postprocess per image at shape (1, 3, 416, 416)\n",
      "0: 416x416 1 green, 188.7ms\n",
      "Speed: 2.0ms preprocess, 188.7ms inference, 2.0ms postprocess per image at shape (1, 3, 416, 416)\n",
      "\n"
     ]
    },
    {
     "name": "stdout",
     "output_type": "stream",
     "text": [
      "0.8305392\n"
     ]
    },
    {
     "name": "stderr",
     "output_type": "stream",
     "text": [
      "0: 416x416 (no detections), 231.6ms\n",
      "Speed: 4.0ms preprocess, 231.6ms inference, 2.0ms postprocess per image at shape (1, 3, 416, 416)\n",
      "\n",
      "\n",
      "0: 416x416 1 yellow, 227.8ms\n",
      "Speed: 3.0ms preprocess, 227.8ms inference, 2.0ms postprocess per image at shape (1, 3, 416, 416)\n",
      "0: 416x416 (no detections), 195.0ms\n",
      "Speed: 4.0ms preprocess, 195.0ms inference, 1.0ms postprocess per image at shape (1, 3, 416, 416)\n"
     ]
    },
    {
     "name": "stdout",
     "output_type": "stream",
     "text": [
      "0.7573298\n"
     ]
    },
    {
     "name": "stderr",
     "output_type": "stream",
     "text": [
      "\n",
      "\n",
      "0: 416x416 (no detections), 219.7ms\n",
      "Speed: 2.0ms preprocess, 219.7ms inference, 2.1ms postprocess per image at shape (1, 3, 416, 416)\n",
      "0: 416x416 1 yellow, 185.6ms\n",
      "Speed: 3.5ms preprocess, 185.6ms inference, 2.0ms postprocess per image at shape (1, 3, 416, 416)\n",
      "\n"
     ]
    },
    {
     "name": "stdout",
     "output_type": "stream",
     "text": [
      "0.809036\n"
     ]
    },
    {
     "name": "stderr",
     "output_type": "stream",
     "text": [
      "\n",
      "0: 416x416 (no detections), 220.9ms\n",
      "Speed: 4.0ms preprocess, 220.9ms inference, 2.4ms postprocess per image at shape (1, 3, 416, 416)\n",
      "\n",
      "0: 416x416 1 yellow, 214.3ms\n",
      "Speed: 3.5ms preprocess, 214.3ms inference, 2.0ms postprocess per image at shape (1, 3, 416, 416)\n"
     ]
    },
    {
     "name": "stdout",
     "output_type": "stream",
     "text": [
      "0.8203297\n"
     ]
    },
    {
     "name": "stderr",
     "output_type": "stream",
     "text": [
      "0: 416x416 (no detections), 237.5ms\n",
      "Speed: 4.0ms preprocess, 237.5ms inference, 1.0ms postprocess per image at shape (1, 3, 416, 416)\n",
      "\n",
      "\n",
      "0: 416x416 1 yellow, 209.9ms\n",
      "Speed: 10.6ms preprocess, 209.9ms inference, 2.5ms postprocess per image at shape (1, 3, 416, 416)\n",
      "0: 416x416 (no detections), 166.7ms\n",
      "Speed: 9.0ms preprocess, 166.7ms inference, 2.0ms postprocess per image at shape (1, 3, 416, 416)\n"
     ]
    },
    {
     "name": "stdout",
     "output_type": "stream",
     "text": [
      "0.7868971\n"
     ]
    },
    {
     "name": "stderr",
     "output_type": "stream",
     "text": [
      "\n",
      "\n",
      "0: 416x416 (no detections), 198.0ms\n",
      "Speed: 5.6ms preprocess, 198.0ms inference, 4.0ms postprocess per image at shape (1, 3, 416, 416)\n",
      "0: 416x416 1 yellow, 175.9ms\n",
      "Speed: 3.6ms preprocess, 175.9ms inference, 2.0ms postprocess per image at shape (1, 3, 416, 416)\n",
      "\n"
     ]
    },
    {
     "name": "stdout",
     "output_type": "stream",
     "text": [
      "0.7852596\n"
     ]
    },
    {
     "name": "stderr",
     "output_type": "stream",
     "text": [
      "\n",
      "0: 416x416 (no detections), 216.7ms\n",
      "Speed: 2.9ms preprocess, 216.7ms inference, 2.0ms postprocess per image at shape (1, 3, 416, 416)\n",
      "\n",
      "0: 416x416 1 yellow, 210.7ms\n",
      "Speed: 3.6ms preprocess, 210.7ms inference, 3.0ms postprocess per image at shape (1, 3, 416, 416)\n",
      "0: 416x416 (no detections), 202.2ms\n"
     ]
    },
    {
     "name": "stdout",
     "output_type": "stream",
     "text": [
      "0.80138683\n"
     ]
    },
    {
     "name": "stderr",
     "output_type": "stream",
     "text": [
      "Speed: 2.6ms preprocess, 202.2ms inference, 2.0ms postprocess per image at shape (1, 3, 416, 416)\n",
      "\n",
      "\n",
      "0: 416x416 1 red, 1 yellow, 194.6ms\n",
      "Speed: 3.0ms preprocess, 194.6ms inference, 3.7ms postprocess per image at shape (1, 3, 416, 416)\n",
      "0: 416x416 (no detections), 182.9ms\n",
      "Speed: 4.0ms preprocess, 182.9ms inference, 1.7ms postprocess per image at shape (1, 3, 416, 416)\n"
     ]
    },
    {
     "name": "stdout",
     "output_type": "stream",
     "text": [
      "0.7438705\n"
     ]
    },
    {
     "name": "stderr",
     "output_type": "stream",
     "text": [
      "\n",
      "\n",
      "0: 416x416 (no detections), 203.3ms\n",
      "Speed: 4.0ms preprocess, 203.3ms inference, 1.7ms postprocess per image at shape (1, 3, 416, 416)\n",
      "0: 416x416 1 red, 1 yellow, 178.7ms\n",
      "Speed: 4.2ms preprocess, 178.7ms inference, 1.5ms postprocess per image at shape (1, 3, 416, 416)\n",
      "\n"
     ]
    },
    {
     "name": "stdout",
     "output_type": "stream",
     "text": [
      "0.72827494\n"
     ]
    },
    {
     "name": "stderr",
     "output_type": "stream",
     "text": [
      "\n",
      "0: 416x416 (no detections), 320.7ms\n",
      "Speed: 12.2ms preprocess, 320.7ms inference, 3.5ms postprocess per image at shape (1, 3, 416, 416)\n",
      "\n",
      "0: 416x416 1 red, 1 yellow, 298.7ms\n",
      "Speed: 9.5ms preprocess, 298.7ms inference, 3.0ms postprocess per image at shape (1, 3, 416, 416)\n",
      "0: 416x416 (no detections), 274.9ms\n",
      "Speed: 5.5ms preprocess, 274.9ms inference, 3.2ms postprocess per image at shape (1, 3, 416, 416)\n",
      "\n"
     ]
    },
    {
     "name": "stdout",
     "output_type": "stream",
     "text": [
      "0.62259144\n"
     ]
    },
    {
     "name": "stderr",
     "output_type": "stream",
     "text": [
      "\n",
      "0: 416x416 (no detections), 231.8ms\n",
      "Speed: 7.5ms preprocess, 231.8ms inference, 1.0ms postprocess per image at shape (1, 3, 416, 416)\n",
      "0: 416x416 1 red, 1 yellow, 207.8ms\n",
      "Speed: 7.5ms preprocess, 207.8ms inference, 2.0ms postprocess per image at shape (1, 3, 416, 416)\n",
      "\n"
     ]
    },
    {
     "name": "stdout",
     "output_type": "stream",
     "text": [
      "0.6287682\n"
     ]
    },
    {
     "name": "stderr",
     "output_type": "stream",
     "text": [
      "0: 416x416 (no detections), 164.6ms\n",
      "Speed: 4.0ms preprocess, 164.6ms inference, 1.0ms postprocess per image at shape (1, 3, 416, 416)\n",
      "\n",
      "\n",
      "0: 416x416 1 red, 1 yellow, 203.9ms\n",
      "Speed: 4.5ms preprocess, 203.9ms inference, 1.4ms postprocess per image at shape (1, 3, 416, 416)\n",
      "0: 416x416 (no detections), 189.0ms\n",
      "Speed: 3.7ms preprocess, 189.0ms inference, 2.1ms postprocess per image at shape (1, 3, 416, 416)\n"
     ]
    },
    {
     "name": "stdout",
     "output_type": "stream",
     "text": [
      "0.65675\n"
     ]
    },
    {
     "name": "stderr",
     "output_type": "stream",
     "text": [
      "\n",
      "\n",
      "0: 416x416 (no detections), 196.3ms\n",
      "Speed: 3.0ms preprocess, 196.3ms inference, 2.0ms postprocess per image at shape (1, 3, 416, 416)\n",
      "0: 416x416 1 red, 1 yellow, 188.7ms\n",
      "Speed: 3.0ms preprocess, 188.7ms inference, 2.0ms postprocess per image at shape (1, 3, 416, 416)\n",
      "\n"
     ]
    },
    {
     "name": "stdout",
     "output_type": "stream",
     "text": [
      "0.61645526\n"
     ]
    },
    {
     "name": "stderr",
     "output_type": "stream",
     "text": [
      "\n",
      "0: 416x416 (no detections), 192.1ms\n",
      "Speed: 3.6ms preprocess, 192.1ms inference, 2.1ms postprocess per image at shape (1, 3, 416, 416)\n",
      "\n",
      "0: 416x416 1 red, 1 yellow, 185.1ms\n",
      "Speed: 3.5ms preprocess, 185.1ms inference, 2.0ms postprocess per image at shape (1, 3, 416, 416)\n",
      "0: 416x416 (no detections), 184.7ms\n",
      "Speed: 2.5ms preprocess, 184.7ms inference, 1.6ms postprocess per image at shape (1, 3, 416, 416)\n"
     ]
    },
    {
     "name": "stdout",
     "output_type": "stream",
     "text": [
      "0.6384416\n"
     ]
    },
    {
     "name": "stderr",
     "output_type": "stream",
     "text": [
      "\n",
      "\n",
      "0: 416x416 (no detections), 182.3ms\n",
      "Speed: 3.5ms preprocess, 182.3ms inference, 2.0ms postprocess per image at shape (1, 3, 416, 416)\n",
      "0: 416x416 1 red, 1 yellow, 167.2ms\n",
      "Speed: 2.9ms preprocess, 167.2ms inference, 2.2ms postprocess per image at shape (1, 3, 416, 416)\n",
      "\n"
     ]
    },
    {
     "name": "stdout",
     "output_type": "stream",
     "text": [
      "0.67326146\n"
     ]
    },
    {
     "name": "stderr",
     "output_type": "stream",
     "text": [
      "\n",
      "0: 416x416 (no detections), 205.3ms\n",
      "Speed: 4.6ms preprocess, 205.3ms inference, 2.0ms postprocess per image at shape (1, 3, 416, 416)\n",
      "\n",
      "0: 416x416 1 red, 1 yellow, 223.2ms\n",
      "Speed: 3.9ms preprocess, 223.2ms inference, 3.4ms postprocess per image at shape (1, 3, 416, 416)\n",
      "0: 416x416 (no detections), 224.8ms\n"
     ]
    },
    {
     "name": "stdout",
     "output_type": "stream",
     "text": [
      "0.6461429\n"
     ]
    },
    {
     "name": "stderr",
     "output_type": "stream",
     "text": [
      "Speed: 5.0ms preprocess, 224.8ms inference, 1.0ms postprocess per image at shape (1, 3, 416, 416)\n",
      "\n",
      "\n",
      "0: 416x416 1 red, 1 yellow, 264.7ms\n",
      "Speed: 8.9ms preprocess, 264.7ms inference, 4.0ms postprocess per image at shape (1, 3, 416, 416)\n",
      "0: 416x416 (no detections), 237.0ms\n",
      "Speed: 3.0ms preprocess, 237.0ms inference, 1.4ms postprocess per image at shape (1, 3, 416, 416)\n",
      "\n"
     ]
    },
    {
     "name": "stdout",
     "output_type": "stream",
     "text": [
      "0.6616685\n"
     ]
    },
    {
     "name": "stderr",
     "output_type": "stream",
     "text": [
      "\n",
      "0: 416x416 (no detections), 251.1ms\n",
      "Speed: 18.3ms preprocess, 251.1ms inference, 2.0ms postprocess per image at shape (1, 3, 416, 416)\n",
      "\n",
      "0: 416x416 1 red, 1 yellow, 205.7ms\n",
      "Speed: 12.1ms preprocess, 205.7ms inference, 11.5ms postprocess per image at shape (1, 3, 416, 416)\n",
      "0: 416x416 (no detections), 187.9ms\n"
     ]
    },
    {
     "name": "stdout",
     "output_type": "stream",
     "text": [
      "0.6477612\n"
     ]
    },
    {
     "name": "stderr",
     "output_type": "stream",
     "text": [
      "Speed: 6.0ms preprocess, 187.9ms inference, 3.0ms postprocess per image at shape (1, 3, 416, 416)\n",
      "\n",
      "\n",
      "0: 416x416 1 red, 1 yellow, 206.2ms\n",
      "Speed: 5.0ms preprocess, 206.2ms inference, 2.0ms postprocess per image at shape (1, 3, 416, 416)\n",
      "0: 416x416 (no detections), 194.2ms\n",
      "Speed: 3.6ms preprocess, 194.2ms inference, 1.0ms postprocess per image at shape (1, 3, 416, 416)\n"
     ]
    },
    {
     "name": "stdout",
     "output_type": "stream",
     "text": [
      "0.6298093\n"
     ]
    },
    {
     "name": "stderr",
     "output_type": "stream",
     "text": [
      "\n",
      "\n",
      "0: 416x416 (no detections), 218.6ms\n",
      "Speed: 4.7ms preprocess, 218.6ms inference, 2.0ms postprocess per image at shape (1, 3, 416, 416)\n",
      "0: 416x416 1 red, 1 yellow, 191.1ms\n",
      "Speed: 3.9ms preprocess, 191.1ms inference, 3.9ms postprocess per image at shape (1, 3, 416, 416)\n",
      "\n"
     ]
    },
    {
     "name": "stdout",
     "output_type": "stream",
     "text": [
      "0.7686103\n"
     ]
    },
    {
     "name": "stderr",
     "output_type": "stream",
     "text": [
      "\n",
      "0: 416x416 (no detections), 216.2ms\n",
      "Speed: 4.1ms preprocess, 216.2ms inference, 2.0ms postprocess per image at shape (1, 3, 416, 416)\n",
      "\n",
      "0: 416x416 1 red, 217.3ms\n",
      "Speed: 3.4ms preprocess, 217.3ms inference, 2.1ms postprocess per image at shape (1, 3, 416, 416)\n"
     ]
    },
    {
     "name": "stdout",
     "output_type": "stream",
     "text": [
      "0.6669568\n"
     ]
    },
    {
     "name": "stderr",
     "output_type": "stream",
     "text": [
      "0: 416x416 (no detections), 222.0ms\n",
      "Speed: 4.6ms preprocess, 222.0ms inference, 2.0ms postprocess per image at shape (1, 3, 416, 416)\n",
      "\n",
      "\n",
      "0: 416x416 1 red, 249.7ms\n",
      "Speed: 5.6ms preprocess, 249.7ms inference, 2.0ms postprocess per image at shape (1, 3, 416, 416)\n",
      "0: 416x416 (no detections), 206.8ms\n",
      "Speed: 3.7ms preprocess, 206.8ms inference, 1.0ms postprocess per image at shape (1, 3, 416, 416)\n"
     ]
    },
    {
     "name": "stdout",
     "output_type": "stream",
     "text": [
      "0.7311362\n"
     ]
    },
    {
     "name": "stderr",
     "output_type": "stream",
     "text": [
      "\n",
      "\n",
      "0: 416x416 (no detections), 223.0ms\n",
      "Speed: 5.5ms preprocess, 223.0ms inference, 2.8ms postprocess per image at shape (1, 3, 416, 416)\n",
      "0: 416x416 1 red, 1 yellow, 174.5ms\n",
      "Speed: 14.0ms preprocess, 174.5ms inference, 3.0ms postprocess per image at shape (1, 3, 416, 416)\n",
      "\n"
     ]
    },
    {
     "name": "stdout",
     "output_type": "stream",
     "text": [
      "0.6530782\n"
     ]
    },
    {
     "name": "stderr",
     "output_type": "stream",
     "text": [
      "\n",
      "0: 416x416 (no detections), 247.4ms\n",
      "Speed: 4.5ms preprocess, 247.4ms inference, 2.0ms postprocess per image at shape (1, 3, 416, 416)\n",
      "\n",
      "0: 416x416 1 red, 1 yellow, 249.5ms\n",
      "Speed: 5.4ms preprocess, 249.5ms inference, 3.0ms postprocess per image at shape (1, 3, 416, 416)\n",
      "0: 416x416 (no detections), 217.3ms\n",
      "Speed: 9.5ms preprocess, 217.3ms inference, 2.0ms postprocess per image at shape (1, 3, 416, 416)\n"
     ]
    },
    {
     "name": "stdout",
     "output_type": "stream",
     "text": [
      "0.63466066\n"
     ]
    },
    {
     "name": "stderr",
     "output_type": "stream",
     "text": [
      "\n",
      "\n",
      "0: 416x416 1 red, 1 yellow, 244.3ms\n",
      "Speed: 4.6ms preprocess, 244.3ms inference, 3.7ms postprocess per image at shape (1, 3, 416, 416)\n",
      "0: 416x416 (no detections), 206.4ms\n",
      "Speed: 7.5ms preprocess, 206.4ms inference, 4.5ms postprocess per image at shape (1, 3, 416, 416)\n"
     ]
    },
    {
     "name": "stdout",
     "output_type": "stream",
     "text": [
      "0.63545305\n"
     ]
    },
    {
     "name": "stderr",
     "output_type": "stream",
     "text": [
      "\n",
      "\n",
      "0: 416x416 (no detections), 239.5ms\n",
      "Speed: 11.2ms preprocess, 239.5ms inference, 2.0ms postprocess per image at shape (1, 3, 416, 416)\n",
      "0: 416x416 1 red, 184.8ms\n",
      "Speed: 13.1ms preprocess, 184.8ms inference, 2.0ms postprocess per image at shape (1, 3, 416, 416)\n",
      "\n",
      "0: 416x416 (no detections), 173.1ms\n"
     ]
    },
    {
     "name": "stdout",
     "output_type": "stream",
     "text": [
      "0.7388104\n"
     ]
    },
    {
     "name": "stderr",
     "output_type": "stream",
     "text": [
      "Speed: 4.0ms preprocess, 173.1ms inference, 1.7ms postprocess per image at shape (1, 3, 416, 416)\n",
      "\n",
      "\n",
      "0: 416x416 1 red, 1 yellow, 207.1ms\n",
      "Speed: 5.0ms preprocess, 207.1ms inference, 3.0ms postprocess per image at shape (1, 3, 416, 416)\n",
      "0: 416x416 (no detections), 166.8ms\n",
      "Speed: 4.0ms preprocess, 166.8ms inference, 1.0ms postprocess per image at shape (1, 3, 416, 416)\n"
     ]
    },
    {
     "name": "stdout",
     "output_type": "stream",
     "text": [
      "0.6606282\n"
     ]
    },
    {
     "name": "stderr",
     "output_type": "stream",
     "text": [
      "\n",
      "\n",
      "0: 416x416 (no detections), 200.5ms\n",
      "Speed: 3.0ms preprocess, 200.5ms inference, 1.0ms postprocess per image at shape (1, 3, 416, 416)\n",
      "0: 416x416 1 red, 1 yellow, 177.8ms\n",
      "Speed: 4.1ms preprocess, 177.8ms inference, 2.2ms postprocess per image at shape (1, 3, 416, 416)\n",
      "\n"
     ]
    },
    {
     "name": "stdout",
     "output_type": "stream",
     "text": [
      "0.78004044\n"
     ]
    },
    {
     "name": "stderr",
     "output_type": "stream",
     "text": [
      "\n",
      "0: 416x416 (no detections), 244.4ms\n",
      "Speed: 5.6ms preprocess, 244.4ms inference, 2.7ms postprocess per image at shape (1, 3, 416, 416)\n",
      "\n",
      "0: 416x416 1 red, 1 yellow, 235.6ms\n",
      "Speed: 4.0ms preprocess, 235.6ms inference, 3.6ms postprocess per image at shape (1, 3, 416, 416)\n"
     ]
    },
    {
     "name": "stdout",
     "output_type": "stream",
     "text": [
      "0.71886796\n"
     ]
    },
    {
     "name": "stderr",
     "output_type": "stream",
     "text": [
      "0: 416x416 (no detections), 230.8ms\n",
      "Speed: 4.3ms preprocess, 230.8ms inference, 4.0ms postprocess per image at shape (1, 3, 416, 416)\n",
      "\n",
      "\n",
      "0: 416x416 1 red, 202.8ms\n",
      "Speed: 4.9ms preprocess, 202.8ms inference, 2.0ms postprocess per image at shape (1, 3, 416, 416)\n",
      "0: 416x416 (no detections), 202.1ms\n",
      "Speed: 3.0ms preprocess, 202.1ms inference, 2.0ms postprocess per image at shape (1, 3, 416, 416)\n"
     ]
    },
    {
     "name": "stdout",
     "output_type": "stream",
     "text": [
      "0.8079448\n"
     ]
    },
    {
     "name": "stderr",
     "output_type": "stream",
     "text": [
      "\n",
      "\n",
      "0: 416x416 (no detections), 202.0ms\n",
      "Speed: 3.6ms preprocess, 202.0ms inference, 1.0ms postprocess per image at shape (1, 3, 416, 416)\n",
      "0: 416x416 1 green, 1 red, 181.9ms\n",
      "Speed: 3.0ms preprocess, 181.9ms inference, 2.5ms postprocess per image at shape (1, 3, 416, 416)\n",
      "\n"
     ]
    },
    {
     "name": "stdout",
     "output_type": "stream",
     "text": [
      "0.6438317\n"
     ]
    },
    {
     "name": "stderr",
     "output_type": "stream",
     "text": [
      "\n",
      "0: 416x416 (no detections), 248.9ms\n",
      "Speed: 4.7ms preprocess, 248.9ms inference, 1.6ms postprocess per image at shape (1, 3, 416, 416)\n",
      "\n",
      "0: 416x416 1 red, 215.0ms\n",
      "Speed: 4.1ms preprocess, 215.0ms inference, 2.0ms postprocess per image at shape (1, 3, 416, 416)\n",
      "0: 416x416 (no detections), 205.8ms\n"
     ]
    },
    {
     "name": "stdout",
     "output_type": "stream",
     "text": [
      "0.8499048\n"
     ]
    },
    {
     "name": "stderr",
     "output_type": "stream",
     "text": [
      "Speed: 3.8ms preprocess, 205.8ms inference, 2.0ms postprocess per image at shape (1, 3, 416, 416)\n",
      "\n",
      "\n",
      "0: 416x416 1 yellow, 211.0ms\n",
      "Speed: 3.5ms preprocess, 211.0ms inference, 2.0ms postprocess per image at shape (1, 3, 416, 416)\n",
      "0: 416x416 (no detections), 210.4ms\n",
      "Speed: 4.0ms preprocess, 210.4ms inference, 1.9ms postprocess per image at shape (1, 3, 416, 416)\n",
      "\n",
      "\n",
      "0: 416x416 (no detections), 200.7ms\n",
      "Speed: 3.6ms preprocess, 200.7ms inference, 1.0ms postprocess per image at shape (1, 3, 416, 416)\n",
      "0: 416x416 (no detections), 178.4ms\n",
      "Speed: 3.0ms preprocess, 178.4ms inference, 1.0ms postprocess per image at shape (1, 3, 416, 416)\n",
      "\n",
      "\n",
      "0: 416x416 (no detections), 242.2ms\n",
      "Speed: 4.0ms preprocess, 242.2ms inference, 2.0ms postprocess per image at shape (1, 3, 416, 416)\n",
      "\n",
      "0: 416x416 (no detections), 286.6ms\n",
      "Speed: 20.3ms preprocess, 286.6ms inference, 2.4ms postprocess per image at shape (1, 3, 416, 416)\n",
      "0: 416x416 (no detections), 211.1ms\n",
      "Speed: 14.6ms preprocess, 211.1ms inference, 1.0ms postprocess per image at shape (1, 3, 416, 416)\n",
      "\n",
      "\n",
      "0: 416x416 (no detections), 202.6ms\n",
      "Speed: 3.6ms preprocess, 202.6ms inference, 2.0ms postprocess per image at shape (1, 3, 416, 416)\n",
      "0: 416x416 (no detections), 181.1ms\n",
      "Speed: 3.5ms preprocess, 181.1ms inference, 1.0ms postprocess per image at shape (1, 3, 416, 416)\n",
      "\n",
      "0: 416x416 (no detections), 174.6ms\n",
      "Speed: 4.7ms preprocess, 174.6ms inference, 1.7ms postprocess per image at shape (1, 3, 416, 416)\n",
      "\n",
      "0: 416x416 (no detections), 199.2ms\n",
      "Speed: 3.9ms preprocess, 199.2ms inference, 1.0ms postprocess per image at shape (1, 3, 416, 416)\n",
      "\n",
      "0: 416x416 (no detections), 214.0ms\n",
      "Speed: 3.0ms preprocess, 214.0ms inference, 1.7ms postprocess per image at shape (1, 3, 416, 416)\n",
      "\n",
      "\n",
      "0: 416x416 (no detections), 220.6ms\n",
      "Speed: 4.7ms preprocess, 220.6ms inference, 2.0ms postprocess per image at shape (1, 3, 416, 416)\n",
      "0: 416x416 (no detections), 205.0ms\n",
      "Speed: 2.6ms preprocess, 205.0ms inference, 1.6ms postprocess per image at shape (1, 3, 416, 416)\n",
      "\n",
      "\n",
      "0: 416x416 (no detections), 236.9ms\n",
      "Speed: 4.5ms preprocess, 236.9ms inference, 2.9ms postprocess per image at shape (1, 3, 416, 416)\n",
      "\n",
      "0: 416x416 (no detections), 211.3ms\n",
      "Speed: 4.1ms preprocess, 211.3ms inference, 2.4ms postprocess per image at shape (1, 3, 416, 416)\n",
      "0: 416x416 (no detections), 202.3ms\n",
      "Speed: 3.9ms preprocess, 202.3ms inference, 1.1ms postprocess per image at shape (1, 3, 416, 416)\n",
      "\n",
      "\n",
      "0: 416x416 (no detections), 205.7ms\n",
      "Speed: 2.8ms preprocess, 205.7ms inference, 1.5ms postprocess per image at shape (1, 3, 416, 416)\n",
      "0: 416x416 (no detections), 198.9ms\n",
      "Speed: 2.2ms preprocess, 198.9ms inference, 1.5ms postprocess per image at shape (1, 3, 416, 416)\n",
      "\n",
      "\n",
      "0: 416x416 1 Speed Limit 30, 229.1ms\n",
      "Speed: 3.5ms preprocess, 229.1ms inference, 2.6ms postprocess per image at shape (1, 3, 416, 416)\n",
      "\n",
      "0: 416x416 (no detections), 225.1ms\n",
      "Speed: 3.6ms preprocess, 225.1ms inference, 1.0ms postprocess per image at shape (1, 3, 416, 416)\n",
      "0: 416x416 1 Speed Limit 30, 211.5ms\n",
      "Speed: 5.0ms preprocess, 211.5ms inference, 2.5ms postprocess per image at shape (1, 3, 416, 416)\n",
      "\n",
      "\n"
     ]
    },
    {
     "name": "stdout",
     "output_type": "stream",
     "text": [
      "0.9034281\n"
     ]
    },
    {
     "name": "stderr",
     "output_type": "stream",
     "text": [
      "0: 416x416 (no detections), 203.1ms\n",
      "Speed: 4.6ms preprocess, 203.1ms inference, 1.0ms postprocess per image at shape (1, 3, 416, 416)\n",
      "0: 416x416 (no detections), 183.3ms\n",
      "Speed: 4.1ms preprocess, 183.3ms inference, 2.0ms postprocess per image at shape (1, 3, 416, 416)\n",
      "\n",
      "\n",
      "0: 416x416 (no detections), 205.1ms\n",
      "Speed: 3.0ms preprocess, 205.1ms inference, 2.0ms postprocess per image at shape (1, 3, 416, 416)\n",
      "0: 416x416 (no detections), 182.2ms\n",
      "Speed: 2.8ms preprocess, 182.2ms inference, 1.0ms postprocess per image at shape (1, 3, 416, 416)\n",
      "\n",
      "\n",
      "0: 416x416 (no detections), 240.2ms\n",
      "Speed: 4.2ms preprocess, 240.2ms inference, 2.0ms postprocess per image at shape (1, 3, 416, 416)\n",
      "\n",
      "0: 416x416 1 red, 226.6ms\n",
      "Speed: 3.9ms preprocess, 226.6ms inference, 1.9ms postprocess per image at shape (1, 3, 416, 416)\n",
      "0: 416x416 (no detections), 208.1ms\n",
      "Speed: 3.7ms preprocess, 208.1ms inference, 1.0ms postprocess per image at shape (1, 3, 416, 416)\n",
      "\n",
      "\n",
      "0: 416x416 (no detections), 208.0ms\n",
      "Speed: 3.0ms preprocess, 208.0ms inference, 2.0ms postprocess per image at shape (1, 3, 416, 416)\n",
      "0: 416x416 (no detections), 215.1ms\n",
      "Speed: 4.0ms preprocess, 215.1ms inference, 2.0ms postprocess per image at shape (1, 3, 416, 416)\n",
      "\n",
      "\n",
      "0: 416x416 (no detections), 191.4ms\n",
      "Speed: 4.5ms preprocess, 191.4ms inference, 2.0ms postprocess per image at shape (1, 3, 416, 416)\n",
      "0: 416x416 (no detections), 179.1ms\n",
      "Speed: 4.0ms preprocess, 179.1ms inference, 1.0ms postprocess per image at shape (1, 3, 416, 416)\n",
      "\n",
      "\n",
      "0: 416x416 (no detections), 207.2ms\n",
      "Speed: 4.5ms preprocess, 207.2ms inference, 1.0ms postprocess per image at shape (1, 3, 416, 416)\n",
      "0: 416x416 (no detections), 186.9ms\n",
      "Speed: 3.0ms preprocess, 186.9ms inference, 2.0ms postprocess per image at shape (1, 3, 416, 416)\n",
      "\n",
      "0: 416x416 (no detections), 200.8ms\n",
      "Speed: 6.6ms preprocess, 200.8ms inference, 1.0ms postprocess per image at shape (1, 3, 416, 416)\n",
      "\n",
      "\n",
      "0: 416x416 (no detections), 201.9ms\n",
      "Speed: 5.1ms preprocess, 201.9ms inference, 1.0ms postprocess per image at shape (1, 3, 416, 416)\n",
      "0: 416x416 (no detections), 191.6ms\n",
      "Speed: 3.6ms preprocess, 191.6ms inference, 2.0ms postprocess per image at shape (1, 3, 416, 416)\n",
      "\n",
      "\n",
      "0: 416x416 (no detections), 213.8ms\n",
      "Speed: 2.9ms preprocess, 213.8ms inference, 1.0ms postprocess per image at shape (1, 3, 416, 416)\n",
      "0: 416x416 (no detections), 196.4ms\n",
      "Speed: 4.5ms preprocess, 196.4ms inference, 0.5ms postprocess per image at shape (1, 3, 416, 416)\n",
      "\n",
      "\n",
      "0: 416x416 (no detections), 203.7ms\n",
      "Speed: 2.9ms preprocess, 203.7ms inference, 3.0ms postprocess per image at shape (1, 3, 416, 416)\n",
      "0: 416x416 (no detections), 187.4ms\n",
      "\n",
      "Speed: 3.0ms preprocess, 187.4ms inference, 1.0ms postprocess per image at shape (1, 3, 416, 416)\n",
      "0: 416x416 (no detections), 213.0ms\n",
      "Speed: 5.5ms preprocess, 213.0ms inference, 2.0ms postprocess per image at shape (1, 3, 416, 416)\n",
      "\n",
      "\n",
      "0: 416x416 (no detections), 190.8ms\n",
      "Speed: 4.0ms preprocess, 190.8ms inference, 1.0ms postprocess per image at shape (1, 3, 416, 416)\n",
      "0: 416x416 (no detections), 175.2ms\n",
      "Speed: 4.0ms preprocess, 175.2ms inference, 1.9ms postprocess per image at shape (1, 3, 416, 416)\n",
      "\n",
      "\n",
      "0: 416x416 (no detections), 230.8ms\n",
      "Speed: 3.0ms preprocess, 230.8ms inference, 2.0ms postprocess per image at shape (1, 3, 416, 416)\n",
      "\n",
      "0: 416x416 (no detections), 210.8ms\n",
      "Speed: 4.4ms preprocess, 210.8ms inference, 0.0ms postprocess per image at shape (1, 3, 416, 416)\n",
      "0: 416x416 (no detections), 175.6ms\n",
      "Speed: 2.5ms preprocess, 175.6ms inference, 1.0ms postprocess per image at shape (1, 3, 416, 416)\n",
      "\n",
      "\n",
      "0: 416x416 (no detections), 192.8ms\n",
      "Speed: 3.5ms preprocess, 192.8ms inference, 1.0ms postprocess per image at shape (1, 3, 416, 416)\n",
      "0: 416x416 (no detections), 182.0ms\n",
      "Speed: 3.9ms preprocess, 182.0ms inference, 1.1ms postprocess per image at shape (1, 3, 416, 416)\n",
      "\n",
      "0: 416x416 (no detections), 219.7ms\n",
      "Speed: 4.0ms preprocess, 219.7ms inference, 1.0ms postprocess per image at shape (1, 3, 416, 416)\n",
      "\n",
      "\n",
      "0: 416x416 (no detections), 221.9ms\n",
      "Speed: 3.1ms preprocess, 221.9ms inference, 0.0ms postprocess per image at shape (1, 3, 416, 416)\n",
      "0: 416x416 (no detections), 209.1ms\n",
      "Speed: 4.0ms preprocess, 209.1ms inference, 2.1ms postprocess per image at shape (1, 3, 416, 416)\n",
      "\n",
      "\n",
      "0: 416x416 (no detections), 221.7ms\n",
      "Speed: 5.2ms preprocess, 221.7ms inference, 1.1ms postprocess per image at shape (1, 3, 416, 416)\n",
      "\n",
      "0: 416x416 (no detections), 206.4ms\n",
      "Speed: 5.0ms preprocess, 206.4ms inference, 1.0ms postprocess per image at shape (1, 3, 416, 416)\n",
      "0: 416x416 (no detections), 209.3ms\n",
      "Speed: 4.0ms preprocess, 209.3ms inference, 1.0ms postprocess per image at shape (1, 3, 416, 416)\n",
      "\n",
      "\n",
      "0: 416x416 (no detections), 203.1ms\n",
      "Speed: 3.6ms preprocess, 203.1ms inference, 2.0ms postprocess per image at shape (1, 3, 416, 416)\n",
      "0: 416x416 (no detections), 193.2ms\n",
      "Speed: 2.5ms preprocess, 193.2ms inference, 1.6ms postprocess per image at shape (1, 3, 416, 416)\n",
      "\n",
      "0: 416x416 (no detections), 189.2ms\n",
      "Speed: 3.0ms preprocess, 189.2ms inference, 1.6ms postprocess per image at shape (1, 3, 416, 416)\n",
      "\n",
      "\n",
      "0: 416x416 (no detections), 183.7ms\n",
      "Speed: 4.2ms preprocess, 183.7ms inference, 1.0ms postprocess per image at shape (1, 3, 416, 416)\n",
      "0: 416x416 (no detections), 175.3ms\n",
      "Speed: 3.0ms preprocess, 175.3ms inference, 1.2ms postprocess per image at shape (1, 3, 416, 416)\n",
      "\n",
      "\n",
      "0: 416x416 (no detections), 274.0ms\n",
      "Speed: 3.6ms preprocess, 274.0ms inference, 3.0ms postprocess per image at shape (1, 3, 416, 416)\n",
      "\n",
      "0: 416x416 (no detections), 257.7ms\n",
      "Speed: 7.5ms preprocess, 257.7ms inference, 2.0ms postprocess per image at shape (1, 3, 416, 416)\n",
      "0: 416x416 (no detections), 226.3ms\n",
      "Speed: 6.5ms preprocess, 226.3ms inference, 1.1ms postprocess per image at shape (1, 3, 416, 416)\n",
      "\n",
      "\n",
      "0: 416x416 (no detections), 148.4ms\n",
      "Speed: 3.0ms preprocess, 148.4ms inference, 2.0ms postprocess per image at shape (1, 3, 416, 416)\n",
      "0: 416x416 (no detections), 135.0ms\n",
      "Speed: 3.2ms preprocess, 135.0ms inference, 1.6ms postprocess per image at shape (1, 3, 416, 416)\n",
      "\n",
      "0: 416x416 (no detections), 227.3ms\n",
      "Speed: 3.9ms preprocess, 227.3ms inference, 1.0ms postprocess per image at shape (1, 3, 416, 416)\n",
      "\n",
      "\n",
      "0: 416x416 (no detections), 196.2ms\n",
      "Speed: 5.0ms preprocess, 196.2ms inference, 1.0ms postprocess per image at shape (1, 3, 416, 416)\n",
      "0: 416x416 (no detections), 181.4ms\n",
      "Speed: 3.2ms preprocess, 181.4ms inference, 1.0ms postprocess per image at shape (1, 3, 416, 416)\n",
      "\n",
      "\n",
      "0: 416x416 (no detections), 204.5ms\n",
      "Speed: 4.0ms preprocess, 204.5ms inference, 0.9ms postprocess per image at shape (1, 3, 416, 416)\n",
      "0: 416x416 (no detections), 166.0ms\n",
      "Speed: 2.5ms preprocess, 166.0ms inference, 1.6ms postprocess per image at shape (1, 3, 416, 416)\n",
      "\n",
      "0: 416x416 (no detections), 182.3ms\n",
      "Speed: 3.0ms preprocess, 182.3ms inference, 1.6ms postprocess per image at shape (1, 3, 416, 416)\n",
      "\n",
      "\n",
      "0: 416x416 (no detections), 173.9ms\n",
      "Speed: 3.6ms preprocess, 173.9ms inference, 1.0ms postprocess per image at shape (1, 3, 416, 416)\n",
      "0: 416x416 (no detections), 165.3ms\n",
      "Speed: 2.1ms preprocess, 165.3ms inference, 1.0ms postprocess per image at shape (1, 3, 416, 416)\n",
      "\n",
      "0: 416x416 (no detections), 229.5ms\n",
      "Speed: 3.5ms preprocess, 229.5ms inference, 1.8ms postprocess per image at shape (1, 3, 416, 416)\n",
      "\n",
      "\n",
      "0: 416x416 (no detections), 193.0ms\n",
      "Speed: 3.5ms preprocess, 193.0ms inference, 1.0ms postprocess per image at shape (1, 3, 416, 416)\n",
      "0: 416x416 (no detections), 151.1ms\n",
      "Speed: 3.5ms preprocess, 151.1ms inference, 1.0ms postprocess per image at shape (1, 3, 416, 416)\n",
      "\n",
      "\n",
      "0: 416x416 (no detections), 168.2ms\n",
      "Speed: 4.0ms preprocess, 168.2ms inference, 1.0ms postprocess per image at shape (1, 3, 416, 416)\n",
      "0: 416x416 1 red, 152.7ms\n",
      "Speed: 2.5ms preprocess, 152.7ms inference, 2.0ms postprocess per image at shape (1, 3, 416, 416)\n",
      "\n",
      "\n",
      "0: 416x416 (no detections), 214.3ms\n",
      "Speed: 3.2ms preprocess, 214.3ms inference, 1.6ms postprocess per image at shape (1, 3, 416, 416)\n",
      "\n",
      "0: 416x416 1 red, 199.9ms\n",
      "Speed: 3.0ms preprocess, 199.9ms inference, 7.2ms postprocess per image at shape (1, 3, 416, 416)\n",
      "0: 416x416 (no detections), 189.2ms\n"
     ]
    },
    {
     "name": "stdout",
     "output_type": "stream",
     "text": [
      "0.57773817\n"
     ]
    },
    {
     "name": "stderr",
     "output_type": "stream",
     "text": [
      "Speed: 4.2ms preprocess, 189.2ms inference, 1.0ms postprocess per image at shape (1, 3, 416, 416)\n",
      "\n",
      "\n",
      "0: 416x416 1 green, 168.0ms\n",
      "Speed: 4.0ms preprocess, 168.0ms inference, 2.0ms postprocess per image at shape (1, 3, 416, 416)\n",
      "0: 416x416 (no detections), 158.5ms\n",
      "Speed: 4.5ms preprocess, 158.5ms inference, 1.0ms postprocess per image at shape (1, 3, 416, 416)\n"
     ]
    },
    {
     "name": "stdout",
     "output_type": "stream",
     "text": [
      "0.63161886\n"
     ]
    },
    {
     "name": "stderr",
     "output_type": "stream",
     "text": [
      "\n",
      "\n",
      "0: 416x416 (no detections), 172.8ms\n",
      "Speed: 3.0ms preprocess, 172.8ms inference, 2.0ms postprocess per image at shape (1, 3, 416, 416)\n",
      "0: 416x416 1 green, 154.0ms\n",
      "Speed: 2.3ms preprocess, 154.0ms inference, 2.0ms postprocess per image at shape (1, 3, 416, 416)\n",
      "\n"
     ]
    },
    {
     "name": "stdout",
     "output_type": "stream",
     "text": [
      "0.65567195\n"
     ]
    },
    {
     "name": "stderr",
     "output_type": "stream",
     "text": [
      "0: 416x416 (no detections), 167.5ms\n",
      "Speed: 4.0ms preprocess, 167.5ms inference, 1.0ms postprocess per image at shape (1, 3, 416, 416)\n",
      "\n",
      "\n",
      "0: 416x416 (no detections), 179.9ms\n",
      "Speed: 3.4ms preprocess, 179.9ms inference, 1.0ms postprocess per image at shape (1, 3, 416, 416)\n",
      "0: 416x416 (no detections), 165.2ms\n",
      "Speed: 4.0ms preprocess, 165.2ms inference, 2.0ms postprocess per image at shape (1, 3, 416, 416)\n",
      "\n",
      "\n",
      "0: 416x416 (no detections), 215.9ms\n",
      "Speed: 3.6ms preprocess, 215.9ms inference, 0.9ms postprocess per image at shape (1, 3, 416, 416)\n",
      "\n",
      "0: 416x416 (no detections), 202.5ms\n",
      "Speed: 2.6ms preprocess, 202.5ms inference, 1.0ms postprocess per image at shape (1, 3, 416, 416)\n",
      "0: 416x416 (no detections), 215.8ms\n",
      "Speed: 1.9ms preprocess, 215.8ms inference, 1.0ms postprocess per image at shape (1, 3, 416, 416)\n",
      "\n",
      "\n",
      "0: 416x416 (no detections), 206.1ms\n",
      "Speed: 1.6ms preprocess, 206.1ms inference, 0.9ms postprocess per image at shape (1, 3, 416, 416)\n",
      "0: 416x416 (no detections), 197.6ms\n",
      "Speed: 5.0ms preprocess, 197.6ms inference, 2.0ms postprocess per image at shape (1, 3, 416, 416)\n",
      "\n",
      "\n",
      "0: 416x416 1 Speed Limit 50, 166.2ms\n",
      "Speed: 4.0ms preprocess, 166.2ms inference, 1.0ms postprocess per image at shape (1, 3, 416, 416)\n",
      "0: 416x416 (no detections), 144.1ms\n",
      "Speed: 3.5ms preprocess, 144.1ms inference, 0.0ms postprocess per image at shape (1, 3, 416, 416)\n",
      "\n",
      "0: 416x416 1 Speed Limit 90, 194.7ms\n",
      "Speed: 3.0ms preprocess, 194.7ms inference, 2.6ms postprocess per image at shape (1, 3, 416, 416)\n",
      "\n",
      "\n",
      "0: 416x416 (no detections), 153.8ms\n",
      "Speed: 3.5ms preprocess, 153.8ms inference, 1.0ms postprocess per image at shape (1, 3, 416, 416)\n",
      "0: 416x416 1 Speed Limit 60, 137.3ms\n",
      "Speed: 3.0ms preprocess, 137.3ms inference, 1.0ms postprocess per image at shape (1, 3, 416, 416)\n"
     ]
    },
    {
     "name": "stdout",
     "output_type": "stream",
     "text": [
      "0.94886726\n"
     ]
    },
    {
     "name": "stderr",
     "output_type": "stream",
     "text": [
      "\n",
      "\n",
      "0: 416x416 1 Speed Limit 60, 139.4ms\n",
      "Speed: 2.0ms preprocess, 139.4ms inference, 2.0ms postprocess per image at shape (1, 3, 416, 416)\n",
      "0: 416x416 (no detections), 106.3ms\n",
      "Speed: 3.2ms preprocess, 106.3ms inference, 0.0ms postprocess per image at shape (1, 3, 416, 416)\n"
     ]
    },
    {
     "name": "stdout",
     "output_type": "stream",
     "text": [
      "0.93198967\n"
     ]
    },
    {
     "name": "stderr",
     "output_type": "stream",
     "text": [
      "\n",
      "0: 416x416 (no detections), 163.9ms\n",
      "Speed: 3.0ms preprocess, 163.9ms inference, 1.0ms postprocess per image at shape (1, 3, 416, 416)\n",
      "\n",
      "\n",
      "0: 416x416 (no detections), 165.2ms\n",
      "Speed: 4.1ms preprocess, 165.2ms inference, 1.0ms postprocess per image at shape (1, 3, 416, 416)\n",
      "0: 416x416 (no detections), 135.9ms\n",
      "Speed: 3.7ms preprocess, 135.9ms inference, 1.0ms postprocess per image at shape (1, 3, 416, 416)\n",
      "\n",
      "0: 416x416 (no detections), 152.1ms\n",
      "Speed: 2.5ms preprocess, 152.1ms inference, 1.0ms postprocess per image at shape (1, 3, 416, 416)\n",
      "\n",
      "0: 416x416 (no detections), 133.8ms\n",
      "Speed: 2.4ms preprocess, 133.8ms inference, 0.0ms postprocess per image at shape (1, 3, 416, 416)\n",
      "\n",
      "0: 416x416 (no detections), 145.2ms\n",
      "Speed: 3.0ms preprocess, 145.2ms inference, 1.0ms postprocess per image at shape (1, 3, 416, 416)\n",
      "\n",
      "\n",
      "0: 416x416 (no detections), 179.6ms\n",
      "Speed: 2.5ms preprocess, 179.6ms inference, 2.0ms postprocess per image at shape (1, 3, 416, 416)\n",
      "0: 416x416 (no detections), 157.8ms\n",
      "Speed: 3.2ms preprocess, 157.8ms inference, 1.0ms postprocess per image at shape (1, 3, 416, 416)\n",
      "\n",
      "0: 416x416 (no detections), 136.9ms\n",
      "Speed: 5.7ms preprocess, 136.9ms inference, 1.0ms postprocess per image at shape (1, 3, 416, 416)\n",
      "\n",
      "\n",
      "0: 416x416 (no detections), 139.5ms\n",
      "Speed: 2.5ms preprocess, 139.5ms inference, 1.0ms postprocess per image at shape (1, 3, 416, 416)\n",
      "0: 416x416 (no detections), 123.8ms\n",
      "Speed: 1.9ms preprocess, 123.8ms inference, 0.0ms postprocess per image at shape (1, 3, 416, 416)\n",
      "\n",
      "0: 416x416 (no detections), 124.0ms\n",
      "Speed: 3.0ms preprocess, 124.0ms inference, 0.0ms postprocess per image at shape (1, 3, 416, 416)\n",
      "\n",
      "0: 416x416 (no detections), 140.2ms\n",
      "Speed: 2.5ms preprocess, 140.2ms inference, 1.0ms postprocess per image at shape (1, 3, 416, 416)\n",
      "\n",
      "0: 416x416 (no detections), 138.1ms\n",
      "Speed: 3.0ms preprocess, 138.1ms inference, 2.0ms postprocess per image at shape (1, 3, 416, 416)\n",
      "\n",
      "\n",
      "0: 416x416 (no detections), 126.7ms\n",
      "Speed: 3.3ms preprocess, 126.7ms inference, 1.0ms postprocess per image at shape (1, 3, 416, 416)\n",
      "0: 416x416 (no detections), 101.0ms\n",
      "Speed: 2.4ms preprocess, 101.0ms inference, 1.0ms postprocess per image at shape (1, 3, 416, 416)\n",
      "\n",
      "0: 416x416 (no detections), 224.7ms\n",
      "Speed: 2.5ms preprocess, 224.7ms inference, 2.6ms postprocess per image at shape (1, 3, 416, 416)\n",
      "\n",
      "\n",
      "0: 416x416 (no detections), 140.9ms\n",
      "Speed: 1.9ms preprocess, 140.9ms inference, 0.0ms postprocess per image at shape (1, 3, 416, 416)\n",
      "0: 416x416 (no detections), 106.8ms\n",
      "Speed: 3.0ms preprocess, 106.8ms inference, 1.0ms postprocess per image at shape (1, 3, 416, 416)\n",
      "\n",
      "\n",
      "0: 416x416 (no detections), 209.0ms\n",
      "Speed: 4.0ms preprocess, 209.0ms inference, 1.5ms postprocess per image at shape (1, 3, 416, 416)\n",
      "0: 416x416 (no detections), 156.6ms\n",
      "Speed: 6.0ms preprocess, 156.6ms inference, 1.0ms postprocess per image at shape (1, 3, 416, 416)\n",
      "\n",
      "0: 416x416 (no detections), 101.5ms\n",
      "Speed: 2.0ms preprocess, 101.5ms inference, 1.0ms postprocess per image at shape (1, 3, 416, 416)\n",
      "\n",
      "\n",
      "0: 416x416 (no detections), 139.3ms\n",
      "Speed: 3.5ms preprocess, 139.3ms inference, 1.0ms postprocess per image at shape (1, 3, 416, 416)\n",
      "0: 416x416 (no detections), 127.5ms\n",
      "Speed: 3.0ms preprocess, 127.5ms inference, 1.0ms postprocess per image at shape (1, 3, 416, 416)\n",
      "\n",
      "0: 416x416 (no detections), 149.9ms\n",
      "Speed: 3.4ms preprocess, 149.9ms inference, 1.0ms postprocess per image at shape (1, 3, 416, 416)\n",
      "\n",
      "\n",
      "0: 416x416 (no detections), 116.7ms\n",
      "Speed: 4.5ms preprocess, 116.7ms inference, 1.0ms postprocess per image at shape (1, 3, 416, 416)\n",
      "0: 416x416 (no detections), 95.7ms\n",
      "Speed: 2.5ms preprocess, 95.7ms inference, 1.0ms postprocess per image at shape (1, 3, 416, 416)\n",
      "\n",
      "0: 416x416 (no detections), 117.1ms\n",
      "Speed: 3.0ms preprocess, 117.1ms inference, 1.0ms postprocess per image at shape (1, 3, 416, 416)\n",
      "\n",
      "0: 416x416 (no detections), 109.4ms\n",
      "Speed: 2.0ms preprocess, 109.4ms inference, 0.0ms postprocess per image at shape (1, 3, 416, 416)\n",
      "\n",
      "0: 416x416 (no detections), 127.0ms\n",
      "Speed: 2.1ms preprocess, 127.0ms inference, 1.0ms postprocess per image at shape (1, 3, 416, 416)\n",
      "\n",
      "\n",
      "0: 416x416 1 Speed Limit 50, 119.7ms\n",
      "Speed: 2.0ms preprocess, 119.7ms inference, 2.0ms postprocess per image at shape (1, 3, 416, 416)\n",
      "0: 416x416 (no detections), 87.0ms\n",
      "Speed: 2.0ms preprocess, 87.0ms inference, 0.0ms postprocess per image at shape (1, 3, 416, 416)\n",
      "\n",
      "0: 416x416 1 Speed Limit 30, 159.5ms\n",
      "Speed: 4.0ms preprocess, 159.5ms inference, 1.0ms postprocess per image at shape (1, 3, 416, 416)\n",
      "\n",
      "\n"
     ]
    },
    {
     "name": "stdout",
     "output_type": "stream",
     "text": [
      "0.90788376\n"
     ]
    },
    {
     "name": "stderr",
     "output_type": "stream",
     "text": [
      "0: 416x416 (no detections), 141.1ms\n",
      "Speed: 4.0ms preprocess, 141.1ms inference, 1.0ms postprocess per image at shape (1, 3, 416, 416)\n",
      "0: 416x416 (no detections), 114.6ms\n",
      "Speed: 2.0ms preprocess, 114.6ms inference, 0.0ms postprocess per image at shape (1, 3, 416, 416)\n",
      "\n",
      "\n",
      "0: 416x416 (no detections), 199.8ms\n",
      "Speed: 3.0ms preprocess, 199.8ms inference, 1.1ms postprocess per image at shape (1, 3, 416, 416)\n",
      "0: 416x416 (no detections), 121.0ms\n",
      "Speed: 2.9ms preprocess, 121.0ms inference, 0.0ms postprocess per image at shape (1, 3, 416, 416)\n",
      "\n",
      "0: 416x416 (no detections), 182.1ms\n",
      "Speed: 2.9ms preprocess, 182.1ms inference, 1.0ms postprocess per image at shape (1, 3, 416, 416)\n",
      "\n",
      "\n",
      "0: 416x416 (no detections), 138.1ms\n",
      "Speed: 3.5ms preprocess, 138.1ms inference, 1.0ms postprocess per image at shape (1, 3, 416, 416)\n",
      "0: 416x416 (no detections), 104.9ms\n",
      "Speed: 2.9ms preprocess, 104.9ms inference, 1.3ms postprocess per image at shape (1, 3, 416, 416)\n",
      "\n",
      "0: 416x416 (no detections), 177.2ms\n",
      "Speed: 3.2ms preprocess, 177.2ms inference, 1.0ms postprocess per image at shape (1, 3, 416, 416)\n",
      "\n",
      "\n",
      "0: 416x416 (no detections), 148.4ms\n",
      "Speed: 2.9ms preprocess, 148.4ms inference, 0.5ms postprocess per image at shape (1, 3, 416, 416)\n",
      "0: 416x416 (no detections), 115.8ms\n",
      "Speed: 1.0ms preprocess, 115.8ms inference, 0.0ms postprocess per image at shape (1, 3, 416, 416)\n",
      "\n",
      "\n",
      "0: 416x416 (no detections), 175.6ms\n",
      "Speed: 3.0ms preprocess, 175.6ms inference, 1.9ms postprocess per image at shape (1, 3, 416, 416)\n",
      "0: 416x416 (no detections), 106.7ms\n",
      "Speed: 2.0ms preprocess, 106.7ms inference, 1.0ms postprocess per image at shape (1, 3, 416, 416)\n",
      "\n",
      "0: 416x416 (no detections), 182.0ms\n",
      "Speed: 2.0ms preprocess, 182.0ms inference, 1.0ms postprocess per image at shape (1, 3, 416, 416)\n",
      "\n",
      "\n",
      "0: 416x416 (no detections), 153.9ms\n",
      "Speed: 4.1ms preprocess, 153.9ms inference, 0.0ms postprocess per image at shape (1, 3, 416, 416)\n",
      "0: 416x416 (no detections), 124.0ms\n",
      "Speed: 2.0ms preprocess, 124.0ms inference, 1.0ms postprocess per image at shape (1, 3, 416, 416)\n",
      "\n",
      "\n",
      "0: 416x416 (no detections), 218.2ms\n",
      "Speed: 3.5ms preprocess, 218.2ms inference, 2.0ms postprocess per image at shape (1, 3, 416, 416)\n",
      "0: 416x416 (no detections), 100.5ms\n",
      "Speed: 2.0ms preprocess, 100.5ms inference, 1.0ms postprocess per image at shape (1, 3, 416, 416)\n",
      "\n",
      "0: 416x416 (no detections), 133.7ms\n",
      "Speed: 2.5ms preprocess, 133.7ms inference, 1.0ms postprocess per image at shape (1, 3, 416, 416)\n",
      "\n",
      "\n",
      "0: 416x416 (no detections), 136.5ms\n",
      "Speed: 2.1ms preprocess, 136.5ms inference, 1.0ms postprocess per image at shape (1, 3, 416, 416)\n",
      "0: 416x416 (no detections), 100.0ms\n",
      "Speed: 3.0ms preprocess, 100.0ms inference, 1.0ms postprocess per image at shape (1, 3, 416, 416)\n",
      "\n",
      "0: 416x416 (no detections), 143.9ms\n",
      "Speed: 3.5ms preprocess, 143.9ms inference, 0.0ms postprocess per image at shape (1, 3, 416, 416)\n",
      "\n",
      "\n",
      "0: 416x416 (no detections), 118.9ms\n",
      "Speed: 2.0ms preprocess, 118.9ms inference, 1.0ms postprocess per image at shape (1, 3, 416, 416)\n",
      "0: 416x416 (no detections), 84.1ms\n",
      "Speed: 2.0ms preprocess, 84.1ms inference, 0.0ms postprocess per image at shape (1, 3, 416, 416)\n",
      "\n",
      "\n",
      "0: 416x416 (no detections), 109.8ms\n",
      "Speed: 2.0ms preprocess, 109.8ms inference, 2.0ms postprocess per image at shape (1, 3, 416, 416)\n",
      "0: 416x416 1 green, 83.8ms\n",
      "Speed: 2.6ms preprocess, 83.8ms inference, 1.0ms postprocess per image at shape (1, 3, 416, 416)\n",
      "\n",
      "0: 416x416 (no detections), 132.7ms\n",
      "Speed: 3.4ms preprocess, 132.7ms inference, 1.0ms postprocess per image at shape (1, 3, 416, 416)\n",
      "\n",
      "0: 416x416 (no detections), 135.9ms\n",
      "Speed: 2.7ms preprocess, 135.9ms inference, 0.0ms postprocess per image at shape (1, 3, 416, 416)\n",
      "\n",
      "0: 416x416 (no detections), 131.0ms\n",
      "Speed: 6.4ms preprocess, 131.0ms inference, 1.0ms postprocess per image at shape (1, 3, 416, 416)\n",
      "\n",
      "\n",
      "0: 416x416 (no detections), 147.8ms\n",
      "Speed: 2.5ms preprocess, 147.8ms inference, 1.0ms postprocess per image at shape (1, 3, 416, 416)\n",
      "0: 416x416 (no detections), 113.7ms\n",
      "Speed: 3.0ms preprocess, 113.7ms inference, 1.0ms postprocess per image at shape (1, 3, 416, 416)\n",
      "\n",
      "\n",
      "0: 416x416 (no detections), 123.4ms\n",
      "Speed: 2.0ms preprocess, 123.4ms inference, 1.0ms postprocess per image at shape (1, 3, 416, 416)\n",
      "0: 416x416 (no detections), 94.5ms\n",
      "Speed: 2.5ms preprocess, 94.5ms inference, 1.0ms postprocess per image at shape (1, 3, 416, 416)\n",
      "\n",
      "0: 416x416 (no detections), 152.1ms\n",
      "Speed: 3.0ms preprocess, 152.1ms inference, 1.0ms postprocess per image at shape (1, 3, 416, 416)\n",
      "\n",
      "0: 416x416 (no detections), 92.0ms\n",
      "Speed: 2.0ms preprocess, 92.0ms inference, 1.0ms postprocess per image at shape (1, 3, 416, 416)\n",
      "\n",
      "0: 416x416 (no detections), 207.4ms\n",
      "Speed: 2.9ms preprocess, 207.4ms inference, 1.0ms postprocess per image at shape (1, 3, 416, 416)\n",
      "\n",
      "\n",
      "0: 416x416 (no detections), 132.9ms\n",
      "Speed: 1.0ms preprocess, 132.9ms inference, 0.0ms postprocess per image at shape (1, 3, 416, 416)\n",
      "0: 416x416 1 Speed Limit 50, 90.1ms\n",
      "Speed: 2.1ms preprocess, 90.1ms inference, 1.0ms postprocess per image at shape (1, 3, 416, 416)\n",
      "\n",
      "\n",
      "0: 416x416 (no detections), 133.8ms\n",
      "Speed: 3.0ms preprocess, 133.8ms inference, 1.0ms postprocess per image at shape (1, 3, 416, 416)\n",
      "0: 416x416 (no detections), 99.8ms\n",
      "Speed: 3.0ms preprocess, 99.8ms inference, 0.0ms postprocess per image at shape (1, 3, 416, 416)\n",
      "\n",
      "0: 416x416 1 Speed Limit 30, 165.2ms\n",
      "Speed: 2.0ms preprocess, 165.2ms inference, 1.0ms postprocess per image at shape (1, 3, 416, 416)\n",
      "\n",
      "\n",
      "0: 416x416 (no detections), 146.9ms\n",
      "Speed: 2.0ms preprocess, 146.9ms inference, 1.0ms postprocess per image at shape (1, 3, 416, 416)\n",
      "0: 416x416 1 Speed Limit 30, 102.0ms\n",
      "Speed: 2.0ms preprocess, 102.0ms inference, 2.0ms postprocess per image at shape (1, 3, 416, 416)\n",
      "\n",
      "\n",
      "0: 416x416 1 Speed Limit 30, 193.2ms\n",
      "Speed: 2.6ms preprocess, 193.2ms inference, 3.0ms postprocess per image at shape (1, 3, 416, 416)\n",
      "0: 416x416 1 red, 196.4ms\n",
      "Speed: 3.0ms preprocess, 196.4ms inference, 1.0ms postprocess per image at shape (1, 3, 416, 416)\n",
      "\n"
     ]
    },
    {
     "name": "stdout",
     "output_type": "stream",
     "text": [
      "0.92751503\n",
      "0.6713593\n"
     ]
    },
    {
     "name": "stderr",
     "output_type": "stream",
     "text": [
      "0: 416x416 1 Speed Limit 30, 139.3ms\n",
      "Speed: 2.0ms preprocess, 139.3ms inference, 1.0ms postprocess per image at shape (1, 3, 416, 416)\n"
     ]
    },
    {
     "name": "stdout",
     "output_type": "stream",
     "text": [
      "0.9448697\n"
     ]
    },
    {
     "name": "stderr",
     "output_type": "stream",
     "text": [
      "\n",
      "\n",
      "0: 416x416 2 reds, 141.2ms\n",
      "Speed: 3.5ms preprocess, 141.2ms inference, 4.0ms postprocess per image at shape (1, 3, 416, 416)\n",
      "0: 416x416 (no detections), 122.1ms\n",
      "Speed: 4.0ms preprocess, 122.1ms inference, 0.0ms postprocess per image at shape (1, 3, 416, 416)\n"
     ]
    },
    {
     "name": "stdout",
     "output_type": "stream",
     "text": [
      "0.76135087\n"
     ]
    },
    {
     "name": "stderr",
     "output_type": "stream",
     "text": [
      "\n",
      "\n",
      "0: 416x416 (no detections), 160.6ms\n",
      "Speed: 3.6ms preprocess, 160.6ms inference, 1.0ms postprocess per image at shape (1, 3, 416, 416)\n",
      "0: 416x416 1 red, 128.6ms\n",
      "Speed: 4.0ms preprocess, 128.6ms inference, 2.0ms postprocess per image at shape (1, 3, 416, 416)\n"
     ]
    },
    {
     "name": "stdout",
     "output_type": "stream",
     "text": [
      "0.7217945\n"
     ]
    },
    {
     "name": "stderr",
     "output_type": "stream",
     "text": [
      "\n",
      "\n",
      "0: 416x416 (no detections), 215.1ms\n",
      "Speed: 3.0ms preprocess, 215.1ms inference, 1.4ms postprocess per image at shape (1, 3, 416, 416)\n",
      "0: 416x416 (no detections), 122.2ms\n",
      "Speed: 3.3ms preprocess, 122.2ms inference, 0.0ms postprocess per image at shape (1, 3, 416, 416)\n",
      "\n",
      "0: 416x416 (no detections), 220.7ms\n",
      "Speed: 2.0ms preprocess, 220.7ms inference, 2.0ms postprocess per image at shape (1, 3, 416, 416)\n",
      "\n",
      "\n",
      "0: 416x416 1 green, 139.9ms\n",
      "Speed: 1.0ms preprocess, 139.9ms inference, 2.5ms postprocess per image at shape (1, 3, 416, 416)\n",
      "0: 416x416 (no detections), 109.2ms\n",
      "Speed: 2.5ms preprocess, 109.2ms inference, 0.0ms postprocess per image at shape (1, 3, 416, 416)\n",
      "\n",
      "\n",
      "0: 416x416 (no detections), 163.5ms\n",
      "Speed: 3.7ms preprocess, 163.5ms inference, 1.0ms postprocess per image at shape (1, 3, 416, 416)\n",
      "0: 416x416 (no detections), 142.3ms\n",
      "Speed: 3.4ms preprocess, 142.3ms inference, 1.0ms postprocess per image at shape (1, 3, 416, 416)\n",
      "\n",
      "0: 416x416 (no detections), 174.3ms\n",
      "Speed: 3.0ms preprocess, 174.3ms inference, 1.0ms postprocess per image at shape (1, 3, 416, 416)\n",
      "\n",
      "0: 416x416 (no detections), 175.2ms\n",
      "Speed: 2.0ms preprocess, 175.2ms inference, 1.0ms postprocess per image at shape (1, 3, 416, 416)\n",
      "\n",
      "0: 416x416 (no detections), 213.7ms\n",
      "Speed: 2.0ms preprocess, 213.7ms inference, 2.0ms postprocess per image at shape (1, 3, 416, 416)\n",
      "\n",
      "\n",
      "0: 416x416 (no detections), 134.4ms\n",
      "Speed: 3.6ms preprocess, 134.4ms inference, 0.0ms postprocess per image at shape (1, 3, 416, 416)\n",
      "0: 416x416 (no detections), 95.4ms\n",
      "Speed: 1.9ms preprocess, 95.4ms inference, 1.0ms postprocess per image at shape (1, 3, 416, 416)\n",
      "\n",
      "\n",
      "0: 416x416 (no detections), 147.1ms\n",
      "Speed: 3.0ms preprocess, 147.1ms inference, 0.0ms postprocess per image at shape (1, 3, 416, 416)\n",
      "0: 416x416 (no detections), 103.2ms\n",
      "Speed: 2.6ms preprocess, 103.2ms inference, 1.0ms postprocess per image at shape (1, 3, 416, 416)\n",
      "\n",
      "0: 416x416 (no detections), 132.2ms\n",
      "Speed: 3.1ms preprocess, 132.2ms inference, 1.0ms postprocess per image at shape (1, 3, 416, 416)\n",
      "\n",
      "\n",
      "0: 416x416 (no detections), 138.6ms\n",
      "Speed: 4.0ms preprocess, 138.6ms inference, 1.0ms postprocess per image at shape (1, 3, 416, 416)\n",
      "0: 416x416 (no detections), 122.1ms\n",
      "Speed: 2.3ms preprocess, 122.1ms inference, 1.2ms postprocess per image at shape (1, 3, 416, 416)\n",
      "\n",
      "\n",
      "0: 416x416 (no detections), 166.2ms\n",
      "Speed: 11.5ms preprocess, 166.2ms inference, 1.0ms postprocess per image at shape (1, 3, 416, 416)\n",
      "0: 416x416 (no detections), 127.9ms\n",
      "Speed: 9.1ms preprocess, 127.9ms inference, 1.0ms postprocess per image at shape (1, 3, 416, 416)\n",
      "\n",
      "0: 416x416 (no detections), 129.7ms\n",
      "Speed: 11.2ms preprocess, 129.7ms inference, 1.0ms postprocess per image at shape (1, 3, 416, 416)\n",
      "\n",
      "0: 416x416 (no detections), 143.9ms\n",
      "Speed: 1.4ms preprocess, 143.9ms inference, 1.0ms postprocess per image at shape (1, 3, 416, 416)\n",
      "\n",
      "0: 416x416 (no detections), 121.8ms\n",
      "Speed: 1.9ms preprocess, 121.8ms inference, 1.0ms postprocess per image at shape (1, 3, 416, 416)\n",
      "\n",
      "\n",
      "0: 416x416 (no detections), 160.2ms\n",
      "Speed: 4.0ms preprocess, 160.2ms inference, 1.0ms postprocess per image at shape (1, 3, 416, 416)\n",
      "0: 416x416 (no detections), 136.6ms\n",
      "Speed: 2.0ms preprocess, 136.6ms inference, 1.0ms postprocess per image at shape (1, 3, 416, 416)\n",
      "\n",
      "\n",
      "0: 416x416 (no detections), 156.7ms\n",
      "Speed: 3.2ms preprocess, 156.7ms inference, 1.0ms postprocess per image at shape (1, 3, 416, 416)\n",
      "0: 416x416 (no detections), 142.0ms\n",
      "Speed: 2.0ms preprocess, 142.0ms inference, 1.0ms postprocess per image at shape (1, 3, 416, 416)\n",
      "\n",
      "0: 416x416 (no detections), 106.1ms\n",
      "Speed: 2.2ms preprocess, 106.1ms inference, 1.0ms postprocess per image at shape (1, 3, 416, 416)\n",
      "\n",
      "\n",
      "0: 416x416 (no detections), 146.1ms\n",
      "Speed: 2.3ms preprocess, 146.1ms inference, 1.0ms postprocess per image at shape (1, 3, 416, 416)\n",
      "0: 416x416 (no detections), 100.6ms\n",
      "Speed: 3.1ms preprocess, 100.6ms inference, 1.0ms postprocess per image at shape (1, 3, 416, 416)\n",
      "\n",
      "\n",
      "0: 416x416 (no detections), 162.5ms\n",
      "Speed: 3.0ms preprocess, 162.5ms inference, 0.0ms postprocess per image at shape (1, 3, 416, 416)\n",
      "0: 416x416 (no detections), 137.7ms\n",
      "Speed: 3.0ms preprocess, 137.7ms inference, 1.0ms postprocess per image at shape (1, 3, 416, 416)\n",
      "\n",
      "0: 416x416 (no detections), 168.7ms\n",
      "Speed: 7.0ms preprocess, 168.7ms inference, 0.0ms postprocess per image at shape (1, 3, 416, 416)\n",
      "\n",
      "\n",
      "0: 416x416 (no detections), 187.2ms\n",
      "Speed: 3.0ms preprocess, 187.2ms inference, 1.0ms postprocess per image at shape (1, 3, 416, 416)\n",
      "0: 416x416 (no detections), 156.6ms\n",
      "Speed: 3.5ms preprocess, 156.6ms inference, 0.0ms postprocess per image at shape (1, 3, 416, 416)\n",
      "\n",
      "\n",
      "0: 416x416 (no detections), 137.8ms\n",
      "Speed: 10.8ms preprocess, 137.8ms inference, 1.6ms postprocess per image at shape (1, 3, 416, 416)\n",
      "0: 416x416 (no detections), 106.8ms\n",
      "Speed: 6.5ms preprocess, 106.8ms inference, 0.0ms postprocess per image at shape (1, 3, 416, 416)\n",
      "\n",
      "0: 416x416 (no detections), 158.9ms\n",
      "Speed: 2.0ms preprocess, 158.9ms inference, 1.0ms postprocess per image at shape (1, 3, 416, 416)\n",
      "\n",
      "0: 416x416 (no detections), 126.1ms\n",
      "Speed: 2.0ms preprocess, 126.1ms inference, 1.2ms postprocess per image at shape (1, 3, 416, 416)\n",
      "\n",
      "0: 416x416 (no detections), 143.0ms\n",
      "Speed: 2.6ms preprocess, 143.0ms inference, 1.0ms postprocess per image at shape (1, 3, 416, 416)\n",
      "\n",
      "\n",
      "0: 416x416 (no detections), 127.2ms\n",
      "Speed: 3.5ms preprocess, 127.2ms inference, 1.5ms postprocess per image at shape (1, 3, 416, 416)\n",
      "0: 416x416 (no detections), 102.9ms\n",
      "Speed: 2.6ms preprocess, 102.9ms inference, 1.0ms postprocess per image at shape (1, 3, 416, 416)\n",
      "\n",
      "\n",
      "0: 416x416 (no detections), 178.6ms\n",
      "Speed: 3.6ms preprocess, 178.6ms inference, 1.2ms postprocess per image at shape (1, 3, 416, 416)\n",
      "0: 416x416 (no detections), 178.0ms\n",
      "Speed: 1.5ms preprocess, 178.0ms inference, 1.0ms postprocess per image at shape (1, 3, 416, 416)\n",
      "\n",
      "0: 416x416 (no detections), 213.6ms\n",
      "Speed: 2.0ms preprocess, 213.6ms inference, 1.1ms postprocess per image at shape (1, 3, 416, 416)\n",
      "\n",
      "\n",
      "0: 416x416 (no detections), 160.0ms\n",
      "Speed: 4.0ms preprocess, 160.0ms inference, 0.0ms postprocess per image at shape (1, 3, 416, 416)\n",
      "0: 416x416 (no detections), 116.4ms\n",
      "Speed: 3.0ms preprocess, 116.4ms inference, 1.0ms postprocess per image at shape (1, 3, 416, 416)\n",
      "\n",
      "\n",
      "0: 416x416 (no detections), 184.1ms\n",
      "Speed: 3.0ms preprocess, 184.1ms inference, 3.0ms postprocess per image at shape (1, 3, 416, 416)\n",
      "0: 416x416 (no detections), 163.9ms\n",
      "Speed: 3.4ms preprocess, 163.9ms inference, 1.0ms postprocess per image at shape (1, 3, 416, 416)\n",
      "\n",
      "\n",
      "0: 416x416 (no detections), 213.7ms\n",
      "Speed: 4.0ms preprocess, 213.7ms inference, 1.0ms postprocess per image at shape (1, 3, 416, 416)\n",
      "\n",
      "0: 416x416 (no detections), 200.7ms\n",
      "Speed: 3.6ms preprocess, 200.7ms inference, 1.0ms postprocess per image at shape (1, 3, 416, 416)\n",
      "0: 416x416 (no detections), 181.1ms\n",
      "Speed: 6.2ms preprocess, 181.1ms inference, 2.5ms postprocess per image at shape (1, 3, 416, 416)\n",
      "\n",
      "\n",
      "0: 416x416 (no detections), 173.4ms\n",
      "Speed: 4.0ms preprocess, 173.4ms inference, 2.0ms postprocess per image at shape (1, 3, 416, 416)\n",
      "0: 416x416 (no detections), 169.4ms\n",
      "Speed: 3.0ms preprocess, 169.4ms inference, 1.0ms postprocess per image at shape (1, 3, 416, 416)\n",
      "\n",
      "\n",
      "0: 416x416 (no detections), 163.3ms\n",
      "Speed: 3.5ms preprocess, 163.3ms inference, 1.0ms postprocess per image at shape (1, 3, 416, 416)\n",
      "0: 416x416 (no detections), 133.5ms\n",
      "Speed: 2.0ms preprocess, 133.5ms inference, 1.0ms postprocess per image at shape (1, 3, 416, 416)\n",
      "\n",
      "\n",
      "0: 416x416 (no detections), 240.8ms\n",
      "Speed: 16.5ms preprocess, 240.8ms inference, 1.5ms postprocess per image at shape (1, 3, 416, 416)\n",
      "0: 416x416 (no detections), 147.6ms\n",
      "Speed: 6.5ms preprocess, 147.6ms inference, 1.0ms postprocess per image at shape (1, 3, 416, 416)\n",
      "\n",
      "0: 416x416 (no detections), 200.0ms\n",
      "Speed: 3.1ms preprocess, 200.0ms inference, 2.0ms postprocess per image at shape (1, 3, 416, 416)\n",
      "\n",
      "\n",
      "0: 416x416 (no detections), 159.6ms\n",
      "Speed: 4.0ms preprocess, 159.6ms inference, 1.0ms postprocess per image at shape (1, 3, 416, 416)\n",
      "0: 416x416 1 red, 137.6ms\n",
      "Speed: 3.0ms preprocess, 137.6ms inference, 2.0ms postprocess per image at shape (1, 3, 416, 416)\n",
      "\n",
      "\n",
      "0: 416x416 (no detections), 198.1ms\n",
      "Speed: 4.6ms preprocess, 198.1ms inference, 1.5ms postprocess per image at shape (1, 3, 416, 416)\n",
      "0: 416x416 1 red, 208.5ms\n",
      "Speed: 3.0ms preprocess, 208.5ms inference, 2.0ms postprocess per image at shape (1, 3, 416, 416)\n",
      "\n"
     ]
    },
    {
     "name": "stdout",
     "output_type": "stream",
     "text": [
      "0.81207037\n"
     ]
    },
    {
     "name": "stderr",
     "output_type": "stream",
     "text": [
      "0: 416x416 (no detections), 208.1ms\n",
      "Speed: 2.6ms preprocess, 208.1ms inference, 1.0ms postprocess per image at shape (1, 3, 416, 416)\n",
      "\n",
      "\n",
      "0: 416x416 1 red, 160.6ms\n",
      "Speed: 4.0ms preprocess, 160.6ms inference, 2.0ms postprocess per image at shape (1, 3, 416, 416)\n",
      "0: 416x416 (no detections), 123.3ms\n",
      "Speed: 3.0ms preprocess, 123.3ms inference, 2.0ms postprocess per image at shape (1, 3, 416, 416)\n"
     ]
    },
    {
     "name": "stdout",
     "output_type": "stream",
     "text": [
      "0.7106986\n"
     ]
    },
    {
     "name": "stderr",
     "output_type": "stream",
     "text": [
      "\n",
      "\n",
      "0: 416x416 (no detections), 174.7ms\n",
      "Speed: 4.6ms preprocess, 174.7ms inference, 1.0ms postprocess per image at shape (1, 3, 416, 416)\n",
      "0: 416x416 (no detections), 147.0ms\n",
      "Speed: 4.4ms preprocess, 147.0ms inference, 1.0ms postprocess per image at shape (1, 3, 416, 416)\n",
      "\n",
      "\n",
      "0: 416x416 (no detections), 233.5ms\n",
      "Speed: 2.0ms preprocess, 233.5ms inference, 1.0ms postprocess per image at shape (1, 3, 416, 416)\n",
      "0: 416x416 (no detections), 165.1ms\n",
      "Speed: 3.2ms preprocess, 165.1ms inference, 1.0ms postprocess per image at shape (1, 3, 416, 416)\n",
      "\n",
      "0: 416x416 1 Speed Limit 30, 184.8ms\n",
      "Speed: 2.0ms preprocess, 184.8ms inference, 2.0ms postprocess per image at shape (1, 3, 416, 416)\n",
      "\n",
      "\n",
      "0: 416x416 (no detections), 189.8ms\n",
      "Speed: 3.0ms preprocess, 189.8ms inference, 1.5ms postprocess per image at shape (1, 3, 416, 416)\n",
      "0: 416x416 (no detections), 199.2ms\n",
      "Speed: 4.0ms preprocess, 199.2ms inference, 1.0ms postprocess per image at shape (1, 3, 416, 416)\n",
      "\n",
      "\n",
      "0: 416x416 1 Speed Limit 120, 165.0ms\n",
      "Speed: 2.5ms preprocess, 165.0ms inference, 2.0ms postprocess per image at shape (1, 3, 416, 416)\n",
      "0: 416x416 (no detections), 136.1ms\n",
      "Speed: 3.0ms preprocess, 136.1ms inference, 0.0ms postprocess per image at shape (1, 3, 416, 416)\n",
      "\n",
      "\n",
      "0: 416x416 1 Speed Limit 120, 198.0ms\n",
      "Speed: 2.5ms preprocess, 198.0ms inference, 4.5ms postprocess per image at shape (1, 3, 416, 416)\n",
      "0: 416x416 (no detections), 175.6ms\n",
      "Speed: 3.0ms preprocess, 175.6ms inference, 1.1ms postprocess per image at shape (1, 3, 416, 416)\n",
      "\n",
      "0: 416x416 1 Speed Limit 120, 195.9ms\n",
      "Speed: 2.6ms preprocess, 195.9ms inference, 2.0ms postprocess per image at shape (1, 3, 416, 416)\n",
      "\n",
      "\n",
      "0: 416x416 (no detections), 175.3ms\n",
      "Speed: 3.5ms preprocess, 175.3ms inference, 2.0ms postprocess per image at shape (1, 3, 416, 416)\n",
      "0: 416x416 1 Speed Limit 120, 163.7ms\n",
      "Speed: 3.0ms preprocess, 163.7ms inference, 2.0ms postprocess per image at shape (1, 3, 416, 416)\n",
      "\n",
      "\n",
      "0: 416x416 1 Speed Limit 120, 174.0ms\n",
      "Speed: 3.0ms preprocess, 174.0ms inference, 2.9ms postprocess per image at shape (1, 3, 416, 416)\n",
      "0: 416x416 (no detections), 154.2ms\n",
      "Speed: 3.0ms preprocess, 154.2ms inference, 1.0ms postprocess per image at shape (1, 3, 416, 416)\n",
      "\n",
      "\n",
      "0: 416x416 1 Speed Limit 120, 206.2ms\n",
      "Speed: 3.1ms preprocess, 206.2ms inference, 3.0ms postprocess per image at shape (1, 3, 416, 416)\n",
      "0: 416x416 1 yellow, 183.6ms\n",
      "Speed: 2.1ms preprocess, 183.6ms inference, 1.0ms postprocess per image at shape (1, 3, 416, 416)\n",
      "\n",
      "0: 416x416 1 Speed Limit 120, 223.4ms\n",
      "Speed: 4.1ms preprocess, 223.4ms inference, 3.0ms postprocess per image at shape (1, 3, 416, 416)\n",
      "\n",
      "\n",
      "0: 416x416 (no detections), 176.0ms\n",
      "Speed: 3.0ms preprocess, 176.0ms inference, 1.0ms postprocess per image at shape (1, 3, 416, 416)\n",
      "0: 416x416 1 Speed Limit 120, 160.0ms\n",
      "Speed: 2.9ms preprocess, 160.0ms inference, 1.0ms postprocess per image at shape (1, 3, 416, 416)\n",
      "\n",
      "\n",
      "0: 416x416 1 Speed Limit 50, 181.1ms\n",
      "Speed: 3.0ms preprocess, 181.1ms inference, 2.0ms postprocess per image at shape (1, 3, 416, 416)\n",
      "0: 416x416 (no detections), 169.1ms\n",
      "Speed: 3.1ms preprocess, 169.1ms inference, 0.9ms postprocess per image at shape (1, 3, 416, 416)\n",
      "\n",
      "\n",
      "0: 416x416 1 Speed Limit 50, 211.1ms\n",
      "Speed: 3.0ms preprocess, 211.1ms inference, 2.6ms postprocess per image at shape (1, 3, 416, 416)\n",
      "0: 416x416 (no detections), 181.7ms\n",
      "Speed: 2.0ms preprocess, 181.7ms inference, 0.0ms postprocess per image at shape (1, 3, 416, 416)\n",
      "\n",
      "0: 416x416 (no detections), 193.4ms\n",
      "Speed: 2.5ms preprocess, 193.4ms inference, 2.0ms postprocess per image at shape (1, 3, 416, 416)\n",
      "\n",
      "\n",
      "0: 416x416 1 red, 181.6ms\n",
      "Speed: 10.5ms preprocess, 181.6ms inference, 2.5ms postprocess per image at shape (1, 3, 416, 416)\n",
      "0: 416x416 (no detections), 147.5ms\n",
      "Speed: 4.5ms preprocess, 147.5ms inference, 1.0ms postprocess per image at shape (1, 3, 416, 416)\n"
     ]
    },
    {
     "name": "stdout",
     "output_type": "stream",
     "text": [
      "0.52392274\n"
     ]
    },
    {
     "name": "stderr",
     "output_type": "stream",
     "text": [
      "\n",
      "\n",
      "0: 416x416 (no detections), 179.2ms\n",
      "Speed: 3.0ms preprocess, 179.2ms inference, 0.0ms postprocess per image at shape (1, 3, 416, 416)\n",
      "0: 416x416 1 red, 2 yellows, 127.6ms\n",
      "Speed: 3.5ms preprocess, 127.6ms inference, 1.0ms postprocess per image at shape (1, 3, 416, 416)\n"
     ]
    },
    {
     "name": "stdout",
     "output_type": "stream",
     "text": [
      "0.5531752\n"
     ]
    },
    {
     "name": "stderr",
     "output_type": "stream",
     "text": [
      "\n",
      "\n",
      "0: 416x416 (no detections), 202.8ms\n",
      "Speed: 4.0ms preprocess, 202.8ms inference, 1.1ms postprocess per image at shape (1, 3, 416, 416)\n",
      "\n",
      "0: 416x416 1 red, 211.0ms\n",
      "Speed: 3.0ms preprocess, 211.0ms inference, 8.6ms postprocess per image at shape (1, 3, 416, 416)\n",
      "0: 416x416 (no detections), 153.5ms\n",
      "Speed: 3.9ms preprocess, 153.5ms inference, 1.0ms postprocess per image at shape (1, 3, 416, 416)\n",
      "\n",
      "\n",
      "0: 416x416 (no detections), 179.4ms\n",
      "Speed: 3.7ms preprocess, 179.4ms inference, 1.0ms postprocess per image at shape (1, 3, 416, 416)\n",
      "0: 416x416 (no detections), 168.5ms\n",
      "Speed: 3.0ms preprocess, 168.5ms inference, 2.0ms postprocess per image at shape (1, 3, 416, 416)\n",
      "\n",
      "\n",
      "0: 416x416 1 Stop, 206.9ms\n",
      "Speed: 2.6ms preprocess, 206.9ms inference, 3.3ms postprocess per image at shape (1, 3, 416, 416)\n",
      "0: 416x416 (no detections), 214.8ms\n",
      "\n",
      "Speed: 2.0ms preprocess, 214.8ms inference, 2.2ms postprocess per image at shape (1, 3, 416, 416)\n",
      "0: 416x416 (no detections), 190.7ms\n",
      "Speed: 3.2ms preprocess, 190.7ms inference, 1.0ms postprocess per image at shape (1, 3, 416, 416)\n",
      "\n",
      "\n",
      "0: 416x416 (no detections), 175.5ms\n",
      "Speed: 2.6ms preprocess, 175.5ms inference, 0.0ms postprocess per image at shape (1, 3, 416, 416)\n",
      "0: 416x416 (no detections), 177.4ms\n",
      "Speed: 2.6ms preprocess, 177.4ms inference, 2.0ms postprocess per image at shape (1, 3, 416, 416)\n",
      "\n",
      "\n",
      "0: 416x416 (no detections), 188.2ms\n",
      "Speed: 4.0ms preprocess, 188.2ms inference, 1.5ms postprocess per image at shape (1, 3, 416, 416)\n",
      "0: 416x416 1 yellow, 161.2ms\n",
      "Speed: 3.0ms preprocess, 161.2ms inference, 1.0ms postprocess per image at shape (1, 3, 416, 416)\n",
      "\n",
      "\n",
      "0: 416x416 (no detections), 210.4ms\n",
      "Speed: 3.0ms preprocess, 210.4ms inference, 1.0ms postprocess per image at shape (1, 3, 416, 416)\n",
      "0: 416x416 (no detections), 202.0ms\n",
      "Speed: 3.0ms preprocess, 202.0ms inference, 0.0ms postprocess per image at shape (1, 3, 416, 416)\n",
      "\n",
      "0: 416x416 (no detections), 172.4ms\n",
      "Speed: 2.5ms preprocess, 172.4ms inference, 2.0ms postprocess per image at shape (1, 3, 416, 416)\n",
      "\n",
      "\n",
      "0: 416x416 1 green, 186.0ms\n",
      "Speed: 2.0ms preprocess, 186.0ms inference, 2.0ms postprocess per image at shape (1, 3, 416, 416)\n",
      "0: 416x416 (no detections), 176.5ms\n",
      "Speed: 4.0ms preprocess, 176.5ms inference, 2.0ms postprocess per image at shape (1, 3, 416, 416)\n",
      "\n",
      "\n",
      "0: 416x416 (no detections), 187.5ms\n",
      "Speed: 2.6ms preprocess, 187.5ms inference, 2.0ms postprocess per image at shape (1, 3, 416, 416)\n",
      "0: 416x416 1 green, 176.5ms\n",
      "Speed: 3.4ms preprocess, 176.5ms inference, 1.5ms postprocess per image at shape (1, 3, 416, 416)\n",
      "\n",
      "0: 416x416 (no detections), 156.9ms\n",
      "Speed: 3.0ms preprocess, 156.9ms inference, 1.0ms postprocess per image at shape (1, 3, 416, 416)\n",
      "\n",
      "\n",
      "0: 416x416 1 green, 215.3ms\n",
      "Speed: 2.9ms preprocess, 215.3ms inference, 2.9ms postprocess per image at shape (1, 3, 416, 416)\n",
      "0: 416x416 (no detections), 213.5ms\n",
      "Speed: 2.6ms preprocess, 213.5ms inference, 1.6ms postprocess per image at shape (1, 3, 416, 416)\n",
      "\n"
     ]
    },
    {
     "name": "stdout",
     "output_type": "stream",
     "text": [
      "0.73165685\n"
     ]
    },
    {
     "name": "stderr",
     "output_type": "stream",
     "text": [
      "0: 416x416 (no detections), 209.2ms\n",
      "Speed: 3.7ms preprocess, 209.2ms inference, 0.9ms postprocess per image at shape (1, 3, 416, 416)\n",
      "\n",
      "\n",
      "0: 416x416 1 green, 187.0ms\n",
      "Speed: 4.9ms preprocess, 187.0ms inference, 3.1ms postprocess per image at shape (1, 3, 416, 416)\n",
      "0: 416x416 (no detections), 194.5ms\n",
      "Speed: 3.0ms preprocess, 194.5ms inference, 1.0ms postprocess per image at shape (1, 3, 416, 416)\n"
     ]
    },
    {
     "name": "stdout",
     "output_type": "stream",
     "text": [
      "0.7705122\n"
     ]
    },
    {
     "name": "stderr",
     "output_type": "stream",
     "text": [
      "\n",
      "\n",
      "0: 416x416 (no detections), 142.3ms\n",
      "Speed: 3.8ms preprocess, 142.3ms inference, 1.0ms postprocess per image at shape (1, 3, 416, 416)\n",
      "0: 416x416 (no detections), 118.3ms\n",
      "Speed: 2.0ms preprocess, 118.3ms inference, 1.0ms postprocess per image at shape (1, 3, 416, 416)\n",
      "\n",
      "\n",
      "0: 416x416 (no detections), 175.9ms\n",
      "Speed: 5.0ms preprocess, 175.9ms inference, 2.0ms postprocess per image at shape (1, 3, 416, 416)\n",
      "0: 416x416 (no detections), 177.3ms\n",
      "Speed: 2.0ms preprocess, 177.3ms inference, 0.0ms postprocess per image at shape (1, 3, 416, 416)\n",
      "\n",
      "0: 416x416 (no detections), 193.4ms\n",
      "Speed: 3.3ms preprocess, 193.4ms inference, 1.0ms postprocess per image at shape (1, 3, 416, 416)\n",
      "\n",
      "\n",
      "0: 416x416 (no detections), 164.4ms\n",
      "Speed: 3.0ms preprocess, 164.4ms inference, 1.3ms postprocess per image at shape (1, 3, 416, 416)\n",
      "0: 416x416 (no detections), 143.9ms\n",
      "Speed: 3.0ms preprocess, 143.9ms inference, 1.2ms postprocess per image at shape (1, 3, 416, 416)\n",
      "\n",
      "\n",
      "0: 416x416 (no detections), 168.4ms\n",
      "Speed: 3.0ms preprocess, 168.4ms inference, 2.0ms postprocess per image at shape (1, 3, 416, 416)\n",
      "0: 416x416 (no detections), 134.1ms\n",
      "Speed: 3.5ms preprocess, 134.1ms inference, 1.0ms postprocess per image at shape (1, 3, 416, 416)\n",
      "\n",
      "\n",
      "0: 416x416 1 Speed Limit 30, 1 Speed Limit 60, 191.6ms\n",
      "Speed: 2.9ms preprocess, 191.6ms inference, 7.2ms postprocess per image at shape (1, 3, 416, 416)\n",
      "0: 416x416 (no detections), 162.1ms\n",
      "Speed: 2.2ms preprocess, 162.1ms inference, 1.0ms postprocess per image at shape (1, 3, 416, 416)\n",
      "\n",
      "0: 416x416 1 Speed Limit 30, 224.0ms\n",
      "Speed: 3.0ms preprocess, 224.0ms inference, 3.0ms postprocess per image at shape (1, 3, 416, 416)\n",
      "\n",
      "\n",
      "0: 416x416 (no detections), 173.6ms\n",
      "Speed: 1.9ms preprocess, 173.6ms inference, 1.6ms postprocess per image at shape (1, 3, 416, 416)\n",
      "0: 416x416 (no detections), 167.0ms\n",
      "Speed: 3.0ms preprocess, 167.0ms inference, 1.0ms postprocess per image at shape (1, 3, 416, 416)\n",
      "\n",
      "\n",
      "0: 416x416 (no detections), 159.7ms\n",
      "Speed: 2.9ms preprocess, 159.7ms inference, 1.0ms postprocess per image at shape (1, 3, 416, 416)\n",
      "0: 416x416 (no detections), 132.9ms\n",
      "Speed: 2.0ms preprocess, 132.9ms inference, 1.0ms postprocess per image at shape (1, 3, 416, 416)\n",
      "\n",
      "0: 416x416 (no detections), 174.4ms\n",
      "Speed: 4.0ms preprocess, 174.4ms inference, 2.0ms postprocess per image at shape (1, 3, 416, 416)\n",
      "\n",
      "\n",
      "0: 416x416 (no detections), 219.8ms\n",
      "Speed: 3.0ms preprocess, 219.8ms inference, 1.1ms postprocess per image at shape (1, 3, 416, 416)\n",
      "0: 416x416 1 Speed Limit 50, 187.6ms\n",
      "Speed: 4.2ms preprocess, 187.6ms inference, 2.0ms postprocess per image at shape (1, 3, 416, 416)\n",
      "\n",
      "\n",
      "0: 416x416 1 Speed Limit 30, 163.9ms\n",
      "Speed: 3.2ms preprocess, 163.9ms inference, 1.0ms postprocess per image at shape (1, 3, 416, 416)\n",
      "0: 416x416 (no detections), 155.4ms\n",
      "Speed: 2.5ms preprocess, 155.4ms inference, 0.0ms postprocess per image at shape (1, 3, 416, 416)\n"
     ]
    },
    {
     "name": "stdout",
     "output_type": "stream",
     "text": [
      "0.9218896\n"
     ]
    },
    {
     "name": "stderr",
     "output_type": "stream",
     "text": [
      "\n",
      "\n",
      "0: 416x416 (no detections), 215.7ms\n",
      "Speed: 4.0ms preprocess, 215.7ms inference, 2.6ms postprocess per image at shape (1, 3, 416, 416)\n",
      "0: 416x416 (no detections), 229.2ms\n",
      "Speed: 4.0ms preprocess, 229.2ms inference, 1.0ms postprocess per image at shape (1, 3, 416, 416)\n",
      "\n",
      "0: 416x416 (no detections), 180.1ms\n",
      "Speed: 2.0ms preprocess, 180.1ms inference, 2.0ms postprocess per image at shape (1, 3, 416, 416)\n",
      "\n",
      "0: 416x416 (no detections), 125.7ms\n",
      "Speed: 3.2ms preprocess, 125.7ms inference, 0.0ms postprocess per image at shape (1, 3, 416, 416)\n",
      "\n",
      "0: 416x416 (no detections), 137.4ms\n",
      "Speed: 2.6ms preprocess, 137.4ms inference, 1.0ms postprocess per image at shape (1, 3, 416, 416)\n",
      "\n",
      "\n",
      "0: 416x416 (no detections), 171.3ms\n",
      "Speed: 2.0ms preprocess, 171.3ms inference, 2.0ms postprocess per image at shape (1, 3, 416, 416)\n",
      "0: 416x416 (no detections), 155.2ms\n",
      "Speed: 2.0ms preprocess, 155.2ms inference, 1.0ms postprocess per image at shape (1, 3, 416, 416)\n",
      "\n",
      "\n",
      "0: 416x416 (no detections), 153.8ms\n",
      "Speed: 3.0ms preprocess, 153.8ms inference, 0.0ms postprocess per image at shape (1, 3, 416, 416)\n",
      "0: 416x416 (no detections), 126.9ms\n",
      "Speed: 3.0ms preprocess, 126.9ms inference, 1.0ms postprocess per image at shape (1, 3, 416, 416)\n",
      "\n",
      "0: 416x416 (no detections), 191.8ms\n",
      "Speed: 3.5ms preprocess, 191.8ms inference, 1.0ms postprocess per image at shape (1, 3, 416, 416)\n",
      "\n",
      "0: 416x416 (no detections), 186.4ms\n",
      "Speed: 3.0ms preprocess, 186.4ms inference, 0.9ms postprocess per image at shape (1, 3, 416, 416)\n",
      "\n",
      "0: 416x416 (no detections), 165.7ms\n",
      "Speed: 4.5ms preprocess, 165.7ms inference, 1.0ms postprocess per image at shape (1, 3, 416, 416)\n",
      "\n",
      "\n",
      "0: 416x416 1 Speed Limit 50, 1 Stop, 158.1ms\n",
      "Speed: 3.0ms preprocess, 158.1ms inference, 2.5ms postprocess per image at shape (1, 3, 416, 416)\n",
      "0: 416x416 (no detections), 137.1ms\n",
      "Speed: 2.1ms preprocess, 137.1ms inference, 1.0ms postprocess per image at shape (1, 3, 416, 416)\n",
      "\n",
      "0: 416x416 1 Speed Limit 50, 169.5ms\n",
      "Speed: 3.0ms preprocess, 169.5ms inference, 2.0ms postprocess per image at shape (1, 3, 416, 416)\n",
      "\n"
     ]
    },
    {
     "name": "stdout",
     "output_type": "stream",
     "text": [
      "0.87844384\n"
     ]
    },
    {
     "name": "stderr",
     "output_type": "stream",
     "text": [
      "\n",
      "0: 416x416 1 Speed Limit 100, 1 Speed Limit 50, 149.7ms\n",
      "Speed: 3.0ms preprocess, 149.7ms inference, 2.0ms postprocess per image at shape (1, 3, 416, 416)\n",
      "0: 416x416 (no detections), 126.2ms\n",
      "Speed: 3.0ms preprocess, 126.2ms inference, 1.0ms postprocess per image at shape (1, 3, 416, 416)\n",
      "\n",
      "0: 416x416 (no detections), 197.7ms\n",
      "Speed: 2.0ms preprocess, 197.7ms inference, 1.0ms postprocess per image at shape (1, 3, 416, 416)\n",
      "\n",
      "\n",
      "0: 416x416 (no detections), 164.2ms\n",
      "Speed: 2.0ms preprocess, 164.2ms inference, 0.0ms postprocess per image at shape (1, 3, 416, 416)\n",
      "0: 416x416 (no detections), 145.9ms\n",
      "Speed: 3.4ms preprocess, 145.9ms inference, 1.0ms postprocess per image at shape (1, 3, 416, 416)\n",
      "\n",
      "\n",
      "0: 416x416 (no detections), 161.0ms\n",
      "Speed: 4.0ms preprocess, 161.0ms inference, 1.0ms postprocess per image at shape (1, 3, 416, 416)\n",
      "0: 416x416 (no detections), 136.3ms\n",
      "Speed: 3.2ms preprocess, 136.3ms inference, 1.0ms postprocess per image at shape (1, 3, 416, 416)\n",
      "\n",
      "0: 416x416 (no detections), 221.7ms\n",
      "Speed: 4.0ms preprocess, 221.7ms inference, 1.0ms postprocess per image at shape (1, 3, 416, 416)\n",
      "\n",
      "\n",
      "0: 416x416 (no detections), 187.2ms\n",
      "Speed: 3.0ms preprocess, 187.2ms inference, 1.0ms postprocess per image at shape (1, 3, 416, 416)\n",
      "0: 416x416 (no detections), 176.5ms\n",
      "Speed: 3.5ms preprocess, 176.5ms inference, 1.7ms postprocess per image at shape (1, 3, 416, 416)\n",
      "\n",
      "\n",
      "0: 416x416 (no detections), 175.0ms\n",
      "Speed: 6.6ms preprocess, 175.0ms inference, 1.0ms postprocess per image at shape (1, 3, 416, 416)\n",
      "0: 416x416 (no detections), 122.8ms\n",
      "Speed: 6.5ms preprocess, 122.8ms inference, 1.0ms postprocess per image at shape (1, 3, 416, 416)\n",
      "\n",
      "0: 416x416 (no detections), 153.0ms\n",
      "Speed: 2.0ms preprocess, 153.0ms inference, 1.1ms postprocess per image at shape (1, 3, 416, 416)\n",
      "\n",
      "\n",
      "0: 416x416 (no detections), 169.3ms\n",
      "Speed: 3.0ms preprocess, 169.3ms inference, 2.3ms postprocess per image at shape (1, 3, 416, 416)\n",
      "0: 416x416 (no detections), 147.3ms\n",
      "Speed: 2.5ms preprocess, 147.3ms inference, 0.0ms postprocess per image at shape (1, 3, 416, 416)\n",
      "\n",
      "0: 416x416 (no detections), 157.2ms\n",
      "Speed: 3.7ms preprocess, 157.2ms inference, 1.5ms postprocess per image at shape (1, 3, 416, 416)\n",
      "\n",
      "\n",
      "0: 416x416 (no detections), 146.5ms\n",
      "Speed: 3.0ms preprocess, 146.5ms inference, 1.0ms postprocess per image at shape (1, 3, 416, 416)\n",
      "0: 416x416 (no detections), 122.2ms\n",
      "Speed: 2.2ms preprocess, 122.2ms inference, 1.0ms postprocess per image at shape (1, 3, 416, 416)\n",
      "\n",
      "0: 416x416 (no detections), 178.8ms\n",
      "Speed: 3.2ms preprocess, 178.8ms inference, 1.0ms postprocess per image at shape (1, 3, 416, 416)\n",
      "\n",
      "\n",
      "0: 416x416 (no detections), 154.5ms\n",
      "Speed: 3.3ms preprocess, 154.5ms inference, 1.0ms postprocess per image at shape (1, 3, 416, 416)\n",
      "0: 416x416 (no detections), 135.4ms\n",
      "Speed: 3.0ms preprocess, 135.4ms inference, 1.0ms postprocess per image at shape (1, 3, 416, 416)\n",
      "\n",
      "0: 416x416 (no detections), 208.7ms\n",
      "Speed: 4.0ms preprocess, 208.7ms inference, 2.0ms postprocess per image at shape (1, 3, 416, 416)\n",
      "\n",
      "\n",
      "0: 416x416 (no detections), 145.9ms\n",
      "Speed: 3.6ms preprocess, 145.9ms inference, 1.0ms postprocess per image at shape (1, 3, 416, 416)\n",
      "0: 416x416 (no detections), 118.3ms\n",
      "Speed: 2.0ms preprocess, 118.3ms inference, 1.0ms postprocess per image at shape (1, 3, 416, 416)\n",
      "\n",
      "0: 416x416 (no detections), 143.8ms\n",
      "Speed: 3.0ms preprocess, 143.8ms inference, 1.0ms postprocess per image at shape (1, 3, 416, 416)\n"
     ]
    }
   ],
   "source": [
    "display = pygame.display.set_mode((50, 50))\n",
    "pygame.display.set_caption(\"Controllo Manuale CARLA\")\n",
    "\n",
    "# Velocità di sterzo e accelerazione\n",
    "steer_increment = 0.02\n",
    "throttle_increment = 0.1\n",
    "steer = 0.0\n",
    "throttle = 0.0\n",
    "brake = 0.0\n",
    "gear = \"Drive\"  # Stato iniziale (marcia avanti)\n",
    "speed_control_activate = False\n",
    "\n",
    "# Costanti del controllore proporzionale\n",
    "KP_THROTTLE = 0.15  # Guadagno proporzionale per accelerazione\n",
    "KP_BRAKE = 0.02    # Guadagno proporzionale per frenata\n",
    "DEAD_ZONE = 3.0    # Zona morta attorno al limite di velocità\n",
    "MIN_THROTTLE = 0.3  # Soglia minima di accelerazione\n",
    "MIN_BRAKE = 0.1     # Soglia minima di frenata\n",
    "\n",
    "vehicle = spawn_vehicle()\n",
    "camera = spawn_camera(attach_to=vehicle)\n",
    "camera_view = spawn_camera(attach_to=vehicle, transform=carla.Transform(carla.Location(x=1, z=1.5), carla.Rotation(pitch=0, yaw=0)), width=IMAGE_SIZE, height=IMAGE_SIZE, foV=90)\n",
    "camera_trafficLight = spawn_camera(attach_to=vehicle, transform=carla.Transform(carla.Location(x=0, y=1 , z=1.2), carla.Rotation(pitch=20, yaw=20)), width=IMAGE_SIZE, height=IMAGE_SIZE, foV=45)\n",
    "\n",
    "# Inizializza il frame di output\n",
    "video_output = np.zeros((IMAGE_SIZE, IMAGE_SIZE, 3), dtype=np.uint8)\n",
    "\n",
    "# Variabile per tenere traccia del tempo dell'ultima analisi\n",
    "last_analysis_time = 0  # Inizializza l'ultima analisi a 0 secondi\n",
    "last_analysis_time_trafficLight = 0\n",
    "analysis_interval = 0.3  # Intervallo in secondi tra le analisi\n",
    "analysis_interval_trafficLight = 0.5\n",
    "\n",
    "# Variabile per tenere traccia dell'ultimo limite di velocità\n",
    "last_speed_limit = None\n",
    "speed_car = 0\n",
    "traffic_light = \"\"\n",
    "\n",
    "class_names = model.names \n",
    "class_names_trafficLight = modelTrafficLight.names\n",
    "\n",
    "# Assegna il callback alla telecamera\n",
    "camera.listen(lambda image: camera_callback(image))\n",
    "\n",
    "camera_view.listen(lambda image: camera_view_callback(image))\n",
    "\n",
    "camera_trafficLight.listen(lambda image: camera_traffic_callback(image))\n",
    "\n",
    "# Abilita l'autopilota\n",
    "#vehicle.set_autopilot(True)\n",
    "\n",
    "# Mostra i risultati\n",
    "cv2.namedWindow('RGB Camera', cv2.WINDOW_AUTOSIZE)\n",
    "\n",
    "try:\n",
    "    clock = pygame.time.Clock()\n",
    "    event_timer = 0  # Per controllare la frequenza di gestione eventi\n",
    "    EVENT_RATE = 100  # Gestione eventi ogni 100 ms (10 volte al secondo)\n",
    "    while True:\n",
    "        # Aggiungi testo all'immagine\n",
    "        temp_frame = video_output.copy()\n",
    "        cv2.putText(\n",
    "            temp_frame,\n",
    "            f\"Last Speed Limit: {last_speed_limit}\",\n",
    "            (10, 20),\n",
    "            cv2.FONT_HERSHEY_SIMPLEX,\n",
    "            0.5,\n",
    "            (0, 255, 0),\n",
    "            2,\n",
    "            cv2.LINE_AA,\n",
    "        )\n",
    "        cv2.putText(\n",
    "            temp_frame,\n",
    "            f\"Actual speed: {speed_car:.0f}\",\n",
    "            (10, 45),\n",
    "            cv2.FONT_HERSHEY_SIMPLEX,\n",
    "            0.5,\n",
    "            colorSpeedLimit(speed_car, last_speed_limit),\n",
    "            2,\n",
    "            cv2.LINE_AA,\n",
    "        )\n",
    "        cv2.putText(\n",
    "            temp_frame,\n",
    "            f\"Trafficlight: {traffic_light}\",\n",
    "            (10, 70),\n",
    "            cv2.FONT_HERSHEY_SIMPLEX,\n",
    "            0.5,\n",
    "            calcColor(),\n",
    "            2,\n",
    "            cv2.LINE_AA,\n",
    "        )\n",
    "        # Mostra il frame con il testo\n",
    "        cv2.imshow('RGB Camera', temp_frame)\n",
    "        # Interrompi con il tasto 'q'\n",
    "        if cv2.waitKey(1) == ord('q'):\n",
    "            break\n",
    "\n",
    "\n",
    "        current_time = pygame.time.get_ticks()\n",
    "        if current_time - event_timer > EVENT_RATE:\n",
    "            event_timer = current_time  # Aggiorna il timer\n",
    "            # Gestione eventi pygame\n",
    "            for event in pygame.event.get():\n",
    "                if event.type == pygame.QUIT:\n",
    "                    break\n",
    "                elif event.type == pygame.KEYUP:  # Rileva il rilascio del tasto\n",
    "                    if event.key == pygame.K_e:\n",
    "                        speed_control_activate = not speed_control_activate\n",
    "\n",
    "            keys = pygame.key.get_pressed()  # Leggi i tasti premuti\n",
    "\n",
    "            if speed_control_activate and last_speed_limit and keys[pygame.K_w]:\n",
    "                # Calcolo l'errore rispetto al limite\n",
    "                error = float(last_speed_limit) - float(speed_car) + 3\n",
    "\n",
    "                if error < -DEAD_ZONE:  # Sopra il limite di velocità + zona morta\n",
    "                    throttle = 0\n",
    "                    brake = max(KP_BRAKE * abs(error), MIN_BRAKE)\n",
    "                else:  # Sotto o entro il limite + zona morta\n",
    "                    throttle = max(KP_THROTTLE * error, MIN_THROTTLE)\n",
    "                    brake = 0\n",
    "            elif keys[pygame.K_w]:\n",
    "                # Controllo manuale per accelerare\n",
    "                throttle = min(throttle + throttle_increment, 1)\n",
    "                brake = 0\n",
    "            else:\n",
    "                throttle = 0\n",
    "                brake = 0\n",
    "            \n",
    "            if keys[pygame.K_s]:  # Controllo manuale per frenare\n",
    "                brake = min(brake + throttle_increment*4, 1)\n",
    "                throttle = 0\n",
    "\n",
    "            # Controllo sterzo\n",
    "            if keys[pygame.K_r]:  # Imposta retromarcia\n",
    "                gear = \"Reverse\"\n",
    "            elif keys[pygame.K_f]:  # Imposta marcia avanti\n",
    "                gear = \"Drive\"\n",
    "            elif keys[pygame.K_a]:  # Sterza a sinistra\n",
    "                steer = max(steer - steer_increment, -1)\n",
    "            elif keys[pygame.K_d]:  # Sterza a destra\n",
    "                steer = min(steer + steer_increment, 1)\n",
    "            else:\n",
    "                steer = steer * 0.9  # Ritorno al centro graduale\n",
    "\n",
    "            # Applicazione dei controlli\n",
    "            control = carla.VehicleControl()\n",
    "            control.throttle = throttle\n",
    "            control.brake = brake\n",
    "            control.steer = steer\n",
    "            if gear == \"Reverse\":\n",
    "                control.reverse = True\n",
    "            else:\n",
    "                control.reverse = False\n",
    "            vehicle.apply_control(control)\n",
    "\n",
    "        clock.tick(40)\n",
    "finally:\n",
    "    cv2.destroyAllWindows()\n",
    "    pygame.quit()\n",
    "    camera.destroy()\n",
    "    camera_trafficLight.destroy()\n",
    "    camera_view.destroy()\n",
    "    vehicle.destroy()\n"
   ]
  }
 ],
 "metadata": {
  "kernelspec": {
   "display_name": "carla-env",
   "language": "python",
   "name": "python3"
  },
  "language_info": {
   "codemirror_mode": {
    "name": "ipython",
    "version": 3
   },
   "file_extension": ".py",
   "mimetype": "text/x-python",
   "name": "python",
   "nbconvert_exporter": "python",
   "pygments_lexer": "ipython3",
   "version": "3.7.12"
  }
 },
 "nbformat": 4,
 "nbformat_minor": 2
}
